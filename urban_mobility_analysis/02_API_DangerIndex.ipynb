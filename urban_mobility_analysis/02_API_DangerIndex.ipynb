{
 "cells": [
  {
   "cell_type": "markdown",
   "id": "9ae24e0e-f0d6-4124-a623-b6ef675c8e94",
   "metadata": {},
   "source": [
    "# TAAS OPEN API : 고속도로구간별 도로위험지수정보 API\n",
    "**ID : regenesis90@gmail.com / pw : ㄹㅣ제90별**\n",
    "\n",
    "* http://taas.koroad.or.kr/api/selectHighwayDataSet.do\n",
    "* 인증키 : vMrK%252BgbnL4byIqXRSFKtJy%252Fr6w6sQPPNt6Kz1RG6KvHnNQ%252BtWNaZ6xx1Fk8sEef\n",
    "\n",
    "* `accident_merged.csv`에 있는 conzoneID별 도로위험지수만 뽑아내준다."
   ]
  },
  {
   "cell_type": "markdown",
   "id": "dd633e59-9f31-4c7a-b2d0-c0f77c7f6647",
   "metadata": {},
   "source": [
    "# Imports"
   ]
  },
  {
   "cell_type": "code",
   "execution_count": 37,
   "id": "c3180ff6-44b0-42e0-bb6e-182c2da41a34",
   "metadata": {
    "execution": {
     "iopub.execute_input": "2021-12-09T06:41:21.212656Z",
     "iopub.status.busy": "2021-12-09T06:41:21.212656Z",
     "iopub.status.idle": "2021-12-09T06:41:21.225621Z",
     "shell.execute_reply": "2021-12-09T06:41:21.224620Z",
     "shell.execute_reply.started": "2021-12-09T06:41:21.212656Z"
    },
    "tags": []
   },
   "outputs": [],
   "source": [
    "from urllib.request import urlopen\n",
    "from urllib.parse import urlencode, unquote, quote_plus\n",
    "import urllib\n",
    "import requests\n",
    "import json\n",
    "import xml.etree.ElementTree as ET\n",
    "import xmltodict\n",
    "from tqdm import tqdm\n",
    "\n",
    "import pandas as pd"
   ]
  },
  {
   "cell_type": "markdown",
   "id": "f0cd1ace-fa7d-45c5-86f1-4b5fb990affc",
   "metadata": {},
   "source": [
    "# 기본정보 불러오기"
   ]
  },
  {
   "cell_type": "code",
   "execution_count": 38,
   "id": "f9c7c9e1-5d6b-482a-8f2d-b7a6cd732c7c",
   "metadata": {
    "execution": {
     "iopub.execute_input": "2021-12-09T06:41:21.226619Z",
     "iopub.status.busy": "2021-12-09T06:41:21.226619Z",
     "iopub.status.idle": "2021-12-09T06:41:21.257542Z",
     "shell.execute_reply": "2021-12-09T06:41:21.256509Z",
     "shell.execute_reply.started": "2021-12-09T06:41:21.226619Z"
    },
    "tags": []
   },
   "outputs": [
    {
     "data": {
      "text/html": [
       "<div>\n",
       "<style scoped>\n",
       "    .dataframe tbody tr th:only-of-type {\n",
       "        vertical-align: middle;\n",
       "    }\n",
       "\n",
       "    .dataframe tbody tr th {\n",
       "        vertical-align: top;\n",
       "    }\n",
       "\n",
       "    .dataframe thead th {\n",
       "        text-align: right;\n",
       "    }\n",
       "</style>\n",
       "<table border=\"1\" class=\"dataframe\">\n",
       "  <thead>\n",
       "    <tr style=\"text-align: right;\">\n",
       "      <th></th>\n",
       "      <th>Unnamed: 0</th>\n",
       "      <th>Freeway_TAAS</th>\n",
       "      <th>Section_TAAS</th>\n",
       "      <th>도로단축명</th>\n",
       "      <th>콘존명</th>\n",
       "    </tr>\n",
       "  </thead>\n",
       "  <tbody>\n",
       "    <tr>\n",
       "      <th>0</th>\n",
       "      <td>0</td>\n",
       "      <td>경부고속도로</td>\n",
       "      <td>건천IC-건천IC</td>\n",
       "      <td>경부선</td>\n",
       "      <td>건천IC-건천IC</td>\n",
       "    </tr>\n",
       "    <tr>\n",
       "      <th>1</th>\n",
       "      <td>1</td>\n",
       "      <td>경부고속도로</td>\n",
       "      <td>건천IC-경주IC</td>\n",
       "      <td>경부선</td>\n",
       "      <td>건천IC-경주IC</td>\n",
       "    </tr>\n",
       "    <tr>\n",
       "      <th>2</th>\n",
       "      <td>2</td>\n",
       "      <td>경부고속도로</td>\n",
       "      <td>건천IC-영천JC</td>\n",
       "      <td>경부선</td>\n",
       "      <td>건천IC-영천JC</td>\n",
       "    </tr>\n",
       "  </tbody>\n",
       "</table>\n",
       "</div>"
      ],
      "text/plain": [
       "   Unnamed: 0 Freeway_TAAS Section_TAAS 도로단축명        콘존명\n",
       "0           0       경부고속도로    건천IC-건천IC   경부선  건천IC-건천IC\n",
       "1           1       경부고속도로    건천IC-경주IC   경부선  건천IC-경주IC\n",
       "2           2       경부고속도로    건천IC-영천JC   경부선  건천IC-영천JC"
      ]
     },
     "execution_count": 38,
     "metadata": {},
     "output_type": "execute_result"
    }
   ],
   "source": [
    "section_info = pd.read_csv('data/Freeway_Section_list_TAAS.csv', encoding = 'cp949')\n",
    "section_info.head(3)"
   ]
  },
  {
   "cell_type": "code",
   "execution_count": 39,
   "id": "3da7cceb-f7eb-4570-b6a7-dbcab72547b6",
   "metadata": {
    "execution": {
     "iopub.execute_input": "2021-12-09T06:41:21.258531Z",
     "iopub.status.busy": "2021-12-09T06:41:21.258531Z",
     "iopub.status.idle": "2021-12-09T06:41:21.352312Z",
     "shell.execute_reply": "2021-12-09T06:41:21.352312Z",
     "shell.execute_reply.started": "2021-12-09T06:41:21.258531Z"
    },
    "tags": []
   },
   "outputs": [
    {
     "data": {
      "text/html": [
       "<div>\n",
       "<style scoped>\n",
       "    .dataframe tbody tr th:only-of-type {\n",
       "        vertical-align: middle;\n",
       "    }\n",
       "\n",
       "    .dataframe tbody tr th {\n",
       "        vertical-align: top;\n",
       "    }\n",
       "\n",
       "    .dataframe thead th {\n",
       "        text-align: right;\n",
       "    }\n",
       "</style>\n",
       "<table border=\"1\" class=\"dataframe\">\n",
       "  <thead>\n",
       "    <tr style=\"text-align: right;\">\n",
       "      <th></th>\n",
       "      <th>Unnamed: 0_x</th>\n",
       "      <th>사고일자</th>\n",
       "      <th>사고일자.1</th>\n",
       "      <th>월별구분</th>\n",
       "      <th>사고시간</th>\n",
       "      <th>시간단위_3시간</th>\n",
       "      <th>주야구분</th>\n",
       "      <th>노선명</th>\n",
       "      <th>이정</th>\n",
       "      <th>방향</th>\n",
       "      <th>...</th>\n",
       "      <th>도로단축명_x</th>\n",
       "      <th>도로표출명</th>\n",
       "      <th>기점종점방향구분코드</th>\n",
       "      <th>시점명</th>\n",
       "      <th>종점명</th>\n",
       "      <th>conzoneID</th>\n",
       "      <th>conzoneName</th>\n",
       "      <th>Unnamed: 0_y</th>\n",
       "      <th>Freeway_TAAS</th>\n",
       "      <th>Section_TAAS</th>\n",
       "    </tr>\n",
       "  </thead>\n",
       "  <tbody>\n",
       "    <tr>\n",
       "      <th>0</th>\n",
       "      <td>1</td>\n",
       "      <td>2016-01-01</td>\n",
       "      <td>20160101</td>\n",
       "      <td>01월</td>\n",
       "      <td>18:40:00</td>\n",
       "      <td>18 ~21</td>\n",
       "      <td>야간</td>\n",
       "      <td>광주대구선</td>\n",
       "      <td>141.7</td>\n",
       "      <td>대구</td>\n",
       "      <td>...</td>\n",
       "      <td>광주대구선</td>\n",
       "      <td>광주대구</td>\n",
       "      <td>E</td>\n",
       "      <td>광주</td>\n",
       "      <td>대구</td>\n",
       "      <td>0120CZE230</td>\n",
       "      <td>고령JC-옥포JC</td>\n",
       "      <td>304.0</td>\n",
       "      <td>광주대구고속도로</td>\n",
       "      <td>고령JC-옥포JC</td>\n",
       "    </tr>\n",
       "    <tr>\n",
       "      <th>1</th>\n",
       "      <td>1</td>\n",
       "      <td>2016-01-01</td>\n",
       "      <td>20160101</td>\n",
       "      <td>01월</td>\n",
       "      <td>18:40:00</td>\n",
       "      <td>18 ~21</td>\n",
       "      <td>야간</td>\n",
       "      <td>광주대구선</td>\n",
       "      <td>141.7</td>\n",
       "      <td>대구</td>\n",
       "      <td>...</td>\n",
       "      <td>광주대구선</td>\n",
       "      <td>광주대구</td>\n",
       "      <td>E</td>\n",
       "      <td>광주</td>\n",
       "      <td>대구</td>\n",
       "      <td>0120CZE230</td>\n",
       "      <td>고령JC-옥포JC</td>\n",
       "      <td>305.0</td>\n",
       "      <td>광주대구고속도로</td>\n",
       "      <td>고령JC-옥포JC</td>\n",
       "    </tr>\n",
       "    <tr>\n",
       "      <th>2</th>\n",
       "      <td>1</td>\n",
       "      <td>2016-01-01</td>\n",
       "      <td>20160101</td>\n",
       "      <td>01월</td>\n",
       "      <td>18:40:00</td>\n",
       "      <td>18 ~21</td>\n",
       "      <td>야간</td>\n",
       "      <td>광주대구선</td>\n",
       "      <td>141.7</td>\n",
       "      <td>대구</td>\n",
       "      <td>...</td>\n",
       "      <td>광주대구선</td>\n",
       "      <td>광주대구</td>\n",
       "      <td>E</td>\n",
       "      <td>광주</td>\n",
       "      <td>대구</td>\n",
       "      <td>0120CZE230</td>\n",
       "      <td>고령JC-옥포JC</td>\n",
       "      <td>306.0</td>\n",
       "      <td>광주대구고속도로</td>\n",
       "      <td>고령JC-옥포JC</td>\n",
       "    </tr>\n",
       "  </tbody>\n",
       "</table>\n",
       "<p>3 rows × 51 columns</p>\n",
       "</div>"
      ],
      "text/plain": [
       "   Unnamed: 0_x        사고일자    사고일자.1 월별구분      사고시간 시간단위_3시간 주야구분    노선명  \\\n",
       "0             1  2016-01-01  20160101  01월  18:40:00   18 ~21   야간  광주대구선   \n",
       "1             1  2016-01-01  20160101  01월  18:40:00   18 ~21   야간  광주대구선   \n",
       "2             1  2016-01-01  20160101  01월  18:40:00   18 ~21   야간  광주대구선   \n",
       "\n",
       "      이정  방향  ...  도로단축명_x  도로표출명  기점종점방향구분코드  시점명 종점명   conzoneID  \\\n",
       "0  141.7  대구  ...    광주대구선   광주대구           E   광주  대구  0120CZE230   \n",
       "1  141.7  대구  ...    광주대구선   광주대구           E   광주  대구  0120CZE230   \n",
       "2  141.7  대구  ...    광주대구선   광주대구           E   광주  대구  0120CZE230   \n",
       "\n",
       "  conzoneName  Unnamed: 0_y Freeway_TAAS Section_TAAS  \n",
       "0   고령JC-옥포JC         304.0     광주대구고속도로    고령JC-옥포JC  \n",
       "1   고령JC-옥포JC         305.0     광주대구고속도로    고령JC-옥포JC  \n",
       "2   고령JC-옥포JC         306.0     광주대구고속도로    고령JC-옥포JC  \n",
       "\n",
       "[3 rows x 51 columns]"
      ]
     },
     "execution_count": 39,
     "metadata": {},
     "output_type": "execute_result"
    }
   ],
   "source": [
    "accident_info = pd.read_csv('data/accident_merged.csv', encoding = 'cp949')\n",
    "accident_info = pd.merge(accident_info, section_info, how = 'left', left_on = 'conzoneName', right_on = '콘존명').drop('도로단축명_y', axis = 'columns').drop('콘존명', axis = 'columns')\n",
    "\n",
    "accident_info.head(3)"
   ]
  },
  {
   "cell_type": "code",
   "execution_count": 40,
   "id": "a099e653-182f-43e7-b6de-d91505880768",
   "metadata": {
    "execution": {
     "iopub.execute_input": "2021-12-09T06:41:21.353281Z",
     "iopub.status.busy": "2021-12-09T06:41:21.353281Z",
     "iopub.status.idle": "2021-12-09T06:41:21.384021Z",
     "shell.execute_reply": "2021-12-09T06:41:21.383024Z",
     "shell.execute_reply.started": "2021-12-09T06:41:21.353281Z"
    },
    "tags": []
   },
   "outputs": [],
   "source": [
    "frwy_sec = accident_info.loc[:, ['Freeway_TAAS', 'Section_TAAS']].drop_duplicates() # 중복행을 제거함\n",
    "vehicle_type = ['01', '02', '03', '04']"
   ]
  },
  {
   "cell_type": "markdown",
   "id": "02ec706d-7865-4058-b9f4-ebea4486f155",
   "metadata": {},
   "source": [
    "# XML Parsing"
   ]
  },
  {
   "cell_type": "code",
   "execution_count": 41,
   "id": "2b3838b0-99ee-4f3d-a108-ee588e3ebf3a",
   "metadata": {
    "execution": {
     "iopub.execute_input": "2021-12-09T06:41:21.385019Z",
     "iopub.status.busy": "2021-12-09T06:41:21.385019Z",
     "iopub.status.idle": "2021-12-09T06:41:21.399099Z",
     "shell.execute_reply": "2021-12-09T06:41:21.399099Z",
     "shell.execute_reply.started": "2021-12-09T06:41:21.385019Z"
    },
    "tags": []
   },
   "outputs": [],
   "source": [
    "# Service URL\n",
    "xmlUrl = 'http://taas.koroad.or.kr/data/rest/road/dgdgr/highway'\n",
    "\n",
    "My_API_Key = 'I666JO%2FXYCNYi%2Bx1hXtN1fSUdEOcDZX%2BHxA25Ye4JrkHpuATv0xgahcQk1%2FVml8p' # 사용자 인증키\n",
    "\n",
    "#pages_1 = [i for i in range(1, 640)]\n",
    "#pages_2 = [i for i in range(240, 359)]"
   ]
  },
  {
   "cell_type": "markdown",
   "id": "c11b3082-7e36-456c-86e7-b905b5c842eb",
   "metadata": {},
   "source": [
    "# 필수 요청인자를 파라미터로 정리하기\n",
    "\n",
    "* 반드시 OPEN API의 페이지를 확인해야 합니다"
   ]
  },
  {
   "cell_type": "code",
   "execution_count": 42,
   "id": "5bf92e3b-6a5b-4227-858b-1b5f75cb961e",
   "metadata": {
    "execution": {
     "iopub.execute_input": "2021-12-09T06:41:21.401049Z",
     "iopub.status.busy": "2021-12-09T06:41:21.400080Z",
     "iopub.status.idle": "2021-12-09T06:50:41.004933Z",
     "shell.execute_reply": "2021-12-09T06:50:41.004933Z",
     "shell.execute_reply.started": "2021-12-09T06:41:21.401049Z"
    },
    "tags": []
   },
   "outputs": [
    {
     "name": "stderr",
     "output_type": "stream",
     "text": [
      "179it [02:19,  1.28it/s]\n",
      "179it [02:19,  1.29it/s]\n",
      "179it [02:14,  1.33it/s]\n",
      "179it [02:25,  1.23it/s]\n"
     ]
    }
   ],
   "source": [
    "total_df = pd.DataFrame()\n",
    "\n",
    "frwy_list = list(frwy_sec['Freeway_TAAS'])\n",
    "sec_list = list(frwy_sec['Section_TAAS'])\n",
    "\n",
    "for veh in vehicle_type: # 각 차종에 대하여\n",
    "\n",
    "    for frwy, sec in tqdm(zip(frwy_list, sec_list)):\n",
    "    \n",
    "        fullUrl = xmlUrl + '?' + 'authKey=' + My_API_Key\n",
    "    \n",
    "        queryParams = '&' + urlencode(    # get 방식으로 쿼리를 분리하기 위해 '?'를 넣은 것\n",
    "            {\n",
    "                quote_plus('frwyNm') : frwy,\n",
    "                quote_plus('frwySctnNm') : sec,\n",
    "                quote_plus('vhctyCd') : veh # 차종구분(01:승용차, 02:버스, 03:택시, 04:화물차)\n",
    "            }\n",
    "        )\n",
    "    \n",
    "        response = urllib.request.Request(fullUrl + queryParams)\n",
    "        response_body = urlopen(response).read() #get bytes data\n",
    "\n",
    "        decode_data = response_body.decode('utf-8')\n",
    "\n",
    "        xml_parse = xmltodict.parse(decode_data)     # string인 xml 파싱\n",
    "        xml_dict = json.loads(json.dumps(xml_parse))\n",
    "        \n",
    "        if xml_dict['response']['body']['items']['item']:\n",
    "            df = pd.json_normalize(xml_dict['response']['body']['items']['item'])\n",
    "\n",
    "        #if len(df) >= 1:\n",
    "            df['Freeway'] = frwy\n",
    "            df['Section'] = sec\n",
    "            df['vehicle_type'] = veh\n",
    "            total_df = pd.concat([total_df, df])\n",
    "        \n",
    "        else:\n",
    "            pass\n",
    "            #print(frwy, sec)\n",
    "\n",
    "total_df.to_csv(f'data/Freeway_Danger_Index.csv', encoding = 'cp949')"
   ]
  },
  {
   "cell_type": "code",
   "execution_count": 44,
   "id": "37a19b63-6370-4c0f-b94f-aea0f32c8e06",
   "metadata": {
    "execution": {
     "iopub.execute_input": "2021-12-09T06:52:03.977020Z",
     "iopub.status.busy": "2021-12-09T06:52:03.977020Z",
     "iopub.status.idle": "2021-12-09T06:52:04.064787Z",
     "shell.execute_reply": "2021-12-09T06:52:04.064787Z",
     "shell.execute_reply.started": "2021-12-09T06:52:03.977020Z"
    },
    "tags": []
   },
   "outputs": [],
   "source": [
    "total_df.to_csv(f'data/Freeway_Danger_Index.csv', encoding = 'cp949')"
   ]
  }
 ],
 "metadata": {
  "kernelspec": {
   "display_name": "Python 3",
   "language": "python",
   "name": "python3"
  },
  "language_info": {
   "codemirror_mode": {
    "name": "ipython",
    "version": 3
   },
   "file_extension": ".py",
   "mimetype": "text/x-python",
   "name": "python",
   "nbconvert_exporter": "python",
   "pygments_lexer": "ipython3",
   "version": "3.8.8"
  }
 },
 "nbformat": 4,
 "nbformat_minor": 5
}
