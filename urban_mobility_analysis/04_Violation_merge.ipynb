{
 "cells": [
  {
   "cell_type": "markdown",
   "id": "c528d5a0-2fa2-421f-9051-7ac4f26c5cf9",
   "metadata": {},
   "source": [
    "# Violatio PIVOT & MERGE\n",
    "* API를 통해 내려받은 차로변경 위반차량 정보를 PIVOT하여 하나로 통합하여 저장하기"
   ]
  },
  {
   "cell_type": "code",
   "execution_count": 1,
   "id": "d2ce6076-b10c-41fc-b2ba-8754817a553f",
   "metadata": {
    "execution": {
     "iopub.execute_input": "2021-12-10T06:38:50.674217Z",
     "iopub.status.busy": "2021-12-10T06:38:50.673217Z",
     "iopub.status.idle": "2021-12-10T06:38:51.081522Z",
     "shell.execute_reply": "2021-12-10T06:38:51.081522Z",
     "shell.execute_reply.started": "2021-12-10T06:38:50.674217Z"
    },
    "tags": []
   },
   "outputs": [],
   "source": [
    "import pandas as pd\n",
    "import numpy as np\n",
    "import os\n",
    "from tqdm import tqdm"
   ]
  },
  {
   "cell_type": "code",
   "execution_count": 2,
   "id": "624f51e7-ce1b-4062-a491-34b9fb6edc5c",
   "metadata": {
    "execution": {
     "iopub.execute_input": "2021-12-10T06:38:51.081522Z",
     "iopub.status.busy": "2021-12-10T06:38:51.081522Z",
     "iopub.status.idle": "2021-12-10T06:38:51.098381Z",
     "shell.execute_reply": "2021-12-10T06:38:51.097411Z",
     "shell.execute_reply.started": "2021-12-10T06:38:51.081522Z"
    },
    "tags": []
   },
   "outputs": [
    {
     "data": {
      "text/plain": [
       "988"
      ]
     },
     "execution_count": 2,
     "metadata": {},
     "output_type": "execute_result"
    }
   ],
   "source": [
    "file_dir = 'data/violations_filtered'\n",
    "file_list = os.listdir(file_dir)\n",
    "len(file_list)"
   ]
  },
  {
   "cell_type": "code",
   "execution_count": 3,
   "id": "1de0eb8c-d6f1-4ee3-ba23-0c02922fed8b",
   "metadata": {
    "execution": {
     "iopub.execute_input": "2021-12-10T06:38:51.099377Z",
     "iopub.status.busy": "2021-12-10T06:38:51.099377Z",
     "iopub.status.idle": "2021-12-10T06:38:51.114406Z",
     "shell.execute_reply": "2021-12-10T06:38:51.113374Z",
     "shell.execute_reply.started": "2021-12-10T06:38:51.099377Z"
    },
    "tags": []
   },
   "outputs": [],
   "source": [
    "save_dir = 'data/violations_pivoted'\n",
    "if not save_dir:\n",
    "    os.makedirs(save_dir)"
   ]
  },
  {
   "cell_type": "code",
   "execution_count": 27,
   "id": "ef54c324-a78a-4d2b-9835-d54c7921358b",
   "metadata": {
    "execution": {
     "iopub.execute_input": "2021-12-10T07:19:57.993301Z",
     "iopub.status.busy": "2021-12-10T07:19:57.993301Z",
     "iopub.status.idle": "2021-12-10T07:20:59.754847Z",
     "shell.execute_reply": "2021-12-10T07:20:59.754847Z",
     "shell.execute_reply.started": "2021-12-10T07:19:57.993301Z"
    },
    "tags": []
   },
   "outputs": [
    {
     "name": "stderr",
     "output_type": "stream",
     "text": [
      "100%|████████████████████████████████████████████████████████████████████████████████| 988/988 [01:00<00:00, 16.23it/s]\n"
     ]
    }
   ],
   "source": [
    "total_df = pd.DataFrame()\n",
    "\n",
    "for file in tqdm(file_list):\n",
    "    file_path = os.path.join(file_dir, file)\n",
    "    \n",
    "    date = file[0:8]\n",
    "    routeNo = file[9:13]\n",
    "    direction = file[14]\n",
    "    \n",
    "    df = pd.read_csv(file_path, encoding = 'cp949')\n",
    "    \n",
    "    pv = pd.pivot_table(df,\n",
    "                        index = ['conzoneId', 'conzoneNm', 'laneNum', 'oTime', 'busLaneGubun'],\n",
    "                        columns = ['avcCarType'],\n",
    "                        values = ['totalTrafficFlow', 'violationTrafficFlow'])\n",
    "    pv = pv.reset_index()\n",
    "    \n",
    "    pv.columns = ['conzoneId', 'conzoneNm', 'laneNum', 'oTime', 'busLaneGubun',\n",
    "                  'totalTF_1', 'totalTF_2', 'totalTF_3', 'totalTF_4', 'totalTF_5', 'totalTF_6',\n",
    "                  'totalTF_7', 'totalTF_8', 'totalTF_9', 'totalTF_10', 'totalTF_11', 'totalTF_12',\n",
    "                  'violationTF_1', 'violationTF_2', 'violationTF_3', 'violationTF_4', \n",
    "                  'violationTF_5', 'violationTF_6', 'violationTF_7', 'violationTF_8',\n",
    "                  'violationTF_9', 'violationTF_10', 'violationTF_11', 'violationTF_12']\n",
    "    \n",
    "    pv.insert(0, 'date', date)\n",
    "    pv.insert(1, 'routeNo', routeNo)\n",
    "    pv.insert(2, 'direction', direction)\n",
    "    \n",
    "    save_path = os.path.join(save_dir, file)\n",
    "    pv.to_csv(save_path, encoding = 'cp949')\n",
    "    \n",
    "    total_df = pd.concat([total_df, pv])\n",
    "\n",
    "total_df.to_csv('data/violations_merged.csv', encoding = 'cp949')"
   ]
  },
  {
   "cell_type": "code",
   "execution_count": 28,
   "id": "705f6e47-a04b-4c45-81d8-feaa40860dd0",
   "metadata": {
    "execution": {
     "iopub.execute_input": "2021-12-10T07:20:59.755815Z",
     "iopub.status.busy": "2021-12-10T07:20:59.755815Z",
     "iopub.status.idle": "2021-12-10T07:20:59.787729Z",
     "shell.execute_reply": "2021-12-10T07:20:59.786761Z",
     "shell.execute_reply.started": "2021-12-10T07:20:59.755815Z"
    },
    "tags": []
   },
   "outputs": [
    {
     "data": {
      "text/html": [
       "<div>\n",
       "<style scoped>\n",
       "    .dataframe tbody tr th:only-of-type {\n",
       "        vertical-align: middle;\n",
       "    }\n",
       "\n",
       "    .dataframe tbody tr th {\n",
       "        vertical-align: top;\n",
       "    }\n",
       "\n",
       "    .dataframe thead th {\n",
       "        text-align: right;\n",
       "    }\n",
       "</style>\n",
       "<table border=\"1\" class=\"dataframe\">\n",
       "  <thead>\n",
       "    <tr style=\"text-align: right;\">\n",
       "      <th></th>\n",
       "      <th>date</th>\n",
       "      <th>routeNo</th>\n",
       "      <th>direction</th>\n",
       "      <th>conzoneId</th>\n",
       "      <th>conzoneNm</th>\n",
       "      <th>laneNum</th>\n",
       "      <th>oTime</th>\n",
       "      <th>busLaneGubun</th>\n",
       "      <th>totalTF_1</th>\n",
       "      <th>totalTF_2</th>\n",
       "      <th>...</th>\n",
       "      <th>violationTF_3</th>\n",
       "      <th>violationTF_4</th>\n",
       "      <th>violationTF_5</th>\n",
       "      <th>violationTF_6</th>\n",
       "      <th>violationTF_7</th>\n",
       "      <th>violationTF_8</th>\n",
       "      <th>violationTF_9</th>\n",
       "      <th>violationTF_10</th>\n",
       "      <th>violationTF_11</th>\n",
       "      <th>violationTF_12</th>\n",
       "    </tr>\n",
       "  </thead>\n",
       "  <tbody>\n",
       "    <tr>\n",
       "      <th>0</th>\n",
       "      <td>20170730</td>\n",
       "      <td>0450</td>\n",
       "      <td>E</td>\n",
       "      <td>0450CZE240</td>\n",
       "      <td>여주JC-남여주IC</td>\n",
       "      <td>1</td>\n",
       "      <td>07:00</td>\n",
       "      <td>전용</td>\n",
       "      <td>15</td>\n",
       "      <td>0</td>\n",
       "      <td>...</td>\n",
       "      <td>0</td>\n",
       "      <td>0</td>\n",
       "      <td>0</td>\n",
       "      <td>0</td>\n",
       "      <td>0</td>\n",
       "      <td>0</td>\n",
       "      <td>0</td>\n",
       "      <td>0</td>\n",
       "      <td>0</td>\n",
       "      <td>0</td>\n",
       "    </tr>\n",
       "    <tr>\n",
       "      <th>1</th>\n",
       "      <td>20170730</td>\n",
       "      <td>0450</td>\n",
       "      <td>E</td>\n",
       "      <td>0450CZE240</td>\n",
       "      <td>여주JC-남여주IC</td>\n",
       "      <td>1</td>\n",
       "      <td>07:15</td>\n",
       "      <td>전용</td>\n",
       "      <td>7</td>\n",
       "      <td>0</td>\n",
       "      <td>...</td>\n",
       "      <td>0</td>\n",
       "      <td>0</td>\n",
       "      <td>0</td>\n",
       "      <td>0</td>\n",
       "      <td>0</td>\n",
       "      <td>0</td>\n",
       "      <td>0</td>\n",
       "      <td>0</td>\n",
       "      <td>0</td>\n",
       "      <td>0</td>\n",
       "    </tr>\n",
       "    <tr>\n",
       "      <th>2</th>\n",
       "      <td>20170730</td>\n",
       "      <td>0450</td>\n",
       "      <td>E</td>\n",
       "      <td>0450CZE240</td>\n",
       "      <td>여주JC-남여주IC</td>\n",
       "      <td>1</td>\n",
       "      <td>07:30</td>\n",
       "      <td>전용</td>\n",
       "      <td>9</td>\n",
       "      <td>0</td>\n",
       "      <td>...</td>\n",
       "      <td>0</td>\n",
       "      <td>0</td>\n",
       "      <td>0</td>\n",
       "      <td>0</td>\n",
       "      <td>0</td>\n",
       "      <td>0</td>\n",
       "      <td>0</td>\n",
       "      <td>0</td>\n",
       "      <td>0</td>\n",
       "      <td>0</td>\n",
       "    </tr>\n",
       "  </tbody>\n",
       "</table>\n",
       "<p>3 rows × 32 columns</p>\n",
       "</div>"
      ],
      "text/plain": [
       "       date routeNo direction   conzoneId   conzoneNm  laneNum  oTime  \\\n",
       "0  20170730    0450         E  0450CZE240  여주JC-남여주IC        1  07:00   \n",
       "1  20170730    0450         E  0450CZE240  여주JC-남여주IC        1  07:15   \n",
       "2  20170730    0450         E  0450CZE240  여주JC-남여주IC        1  07:30   \n",
       "\n",
       "  busLaneGubun  totalTF_1  totalTF_2  ...  violationTF_3  violationTF_4  \\\n",
       "0           전용         15          0  ...              0              0   \n",
       "1           전용          7          0  ...              0              0   \n",
       "2           전용          9          0  ...              0              0   \n",
       "\n",
       "   violationTF_5  violationTF_6  violationTF_7  violationTF_8  violationTF_9  \\\n",
       "0              0              0              0              0              0   \n",
       "1              0              0              0              0              0   \n",
       "2              0              0              0              0              0   \n",
       "\n",
       "   violationTF_10  violationTF_11  violationTF_12  \n",
       "0               0               0               0  \n",
       "1               0               0               0  \n",
       "2               0               0               0  \n",
       "\n",
       "[3 rows x 32 columns]"
      ]
     },
     "execution_count": 28,
     "metadata": {},
     "output_type": "execute_result"
    }
   ],
   "source": [
    "total_df.head(3)"
   ]
  },
  {
   "cell_type": "markdown",
   "id": "04dea8ea-aa3a-4d51-bc29-664b82c397dd",
   "metadata": {},
   "source": [
    "# 12종 차종분류표\n",
    "* 1종 : 16인승 미만 여객수송용 차량.\n",
    "* 2종 : 16인승 이상 여객수송용 버스 형식. 2축 1단위 차량\n",
    "* 3~7종 : 화물 수송용 트럭\n",
    "* 8~12종 : 화물 수송용 세미 또는 풀 트레일러\n",
    "---\n",
    "**2~12종을 중차량(HV)으로 분류** : totalTF_HV, violationTF_HV"
   ]
  },
  {
   "cell_type": "code",
   "execution_count": 29,
   "id": "770666b8-c1d6-48be-a1fa-161687c0479d",
   "metadata": {
    "execution": {
     "iopub.execute_input": "2021-12-10T07:22:50.683222Z",
     "iopub.status.busy": "2021-12-10T07:22:50.682224Z",
     "iopub.status.idle": "2021-12-10T07:22:50.727136Z",
     "shell.execute_reply": "2021-12-10T07:22:50.726134Z",
     "shell.execute_reply.started": "2021-12-10T07:22:50.683222Z"
    },
    "tags": []
   },
   "outputs": [],
   "source": [
    "total_df['totalTF_HV'] = total_df['totalTF_2'] + total_df['totalTF_3'] + total_df['totalTF_4'] + total_df['totalTF_5'] + total_df['totalTF_6'] + total_df['totalTF_7'] + total_df['totalTF_8'] + total_df['totalTF_9'] + total_df['totalTF_10'] + total_df['totalTF_11'] + total_df['totalTF_12']\n",
    "\n",
    "total_df['violationTF_HV'] = total_df['violationTF_2'] + total_df['violationTF_3'] + total_df['violationTF_4'] + total_df['violationTF_5'] + total_df['violationTF_6'] + total_df['violationTF_7'] + total_df['violationTF_8'] + total_df['violationTF_9'] + total_df['violationTF_10'] + total_df['violationTF_11'] + total_df['violationTF_12']"
   ]
  },
  {
   "cell_type": "code",
   "execution_count": 30,
   "id": "28add055-876c-49c3-a784-6eb69dbf610a",
   "metadata": {
    "execution": {
     "iopub.execute_input": "2021-12-10T07:22:51.269574Z",
     "iopub.status.busy": "2021-12-10T07:22:51.269574Z",
     "iopub.status.idle": "2021-12-10T07:22:51.344406Z",
     "shell.execute_reply": "2021-12-10T07:22:51.344406Z",
     "shell.execute_reply.started": "2021-12-10T07:22:51.269574Z"
    },
    "tags": []
   },
   "outputs": [],
   "source": [
    "total_df = total_df.drop(['totalTF_2', 'totalTF_3', 'totalTF_4', 'totalTF_5', 'totalTF_6',\n",
    "                         'totalTF_7', 'totalTF_8', 'totalTF_9', 'totalTF_10', 'totalTF_11', 'totalTF_12',\n",
    "                         'violationTF_2', 'violationTF_3', 'violationTF_4', 'violationTF_5',\n",
    "                         'violationTF_6', 'violationTF_7', 'violationTF_8', 'violationTF_9',\n",
    "                         'violationTF_10', 'violationTF_11', 'violationTF_12'], \n",
    "                         axis = 'columns')"
   ]
  },
  {
   "cell_type": "code",
   "execution_count": null,
   "id": "b80bb0c6-56e0-4045-a003-3c190cfad71c",
   "metadata": {
    "tags": []
   },
   "outputs": [],
   "source": [
    "total_df['totalTF'] = total_df['totalTF_1'] + total_df['totalTF_HV']\n",
    "total_df['violationTF'] = total_df['violationTF_1'] + total_df['violationTF_HV']\n",
    "\n",
    "# 위반율\n",
    "total_df['total_ViolationRate'] = total_df['violationTF']/total_df['totalTF']\n",
    "total_df['HV_ViolationRate'] = total_df['violationTF_HV']/total_df['totalTF_HV']\n",
    "\n",
    "total_df = total_df.fillna(0) # NaN을 0으로 대체하여 출력\n",
    "\n",
    "total_df.to_csv('data/violations_merged_02.csv', encoding = 'cp949')"
   ]
  },
  {
   "cell_type": "code",
   "execution_count": 32,
   "id": "ccefd4d8-5949-4baa-8c78-70ab45ac13aa",
   "metadata": {
    "execution": {
     "iopub.execute_input": "2021-12-10T07:23:03.982587Z",
     "iopub.status.busy": "2021-12-10T07:23:03.981560Z",
     "iopub.status.idle": "2021-12-10T07:23:04.009486Z",
     "shell.execute_reply": "2021-12-10T07:23:04.008520Z",
     "shell.execute_reply.started": "2021-12-10T07:23:03.982587Z"
    },
    "tags": []
   },
   "outputs": [
    {
     "data": {
      "text/html": [
       "<div>\n",
       "<style scoped>\n",
       "    .dataframe tbody tr th:only-of-type {\n",
       "        vertical-align: middle;\n",
       "    }\n",
       "\n",
       "    .dataframe tbody tr th {\n",
       "        vertical-align: top;\n",
       "    }\n",
       "\n",
       "    .dataframe thead th {\n",
       "        text-align: right;\n",
       "    }\n",
       "</style>\n",
       "<table border=\"1\" class=\"dataframe\">\n",
       "  <thead>\n",
       "    <tr style=\"text-align: right;\">\n",
       "      <th></th>\n",
       "      <th>date</th>\n",
       "      <th>routeNo</th>\n",
       "      <th>direction</th>\n",
       "      <th>conzoneId</th>\n",
       "      <th>conzoneNm</th>\n",
       "      <th>laneNum</th>\n",
       "      <th>oTime</th>\n",
       "      <th>busLaneGubun</th>\n",
       "      <th>totalTF_1</th>\n",
       "      <th>violationTF_1</th>\n",
       "      <th>totalTF_HV</th>\n",
       "      <th>violationTF_HV</th>\n",
       "      <th>totalTF</th>\n",
       "      <th>violationTF</th>\n",
       "      <th>total_ViolationRate</th>\n",
       "      <th>HV_ViolationRate</th>\n",
       "    </tr>\n",
       "  </thead>\n",
       "  <tbody>\n",
       "    <tr>\n",
       "      <th>0</th>\n",
       "      <td>20170730</td>\n",
       "      <td>0450</td>\n",
       "      <td>E</td>\n",
       "      <td>0450CZE240</td>\n",
       "      <td>여주JC-남여주IC</td>\n",
       "      <td>1</td>\n",
       "      <td>07:00</td>\n",
       "      <td>전용</td>\n",
       "      <td>15</td>\n",
       "      <td>0</td>\n",
       "      <td>0</td>\n",
       "      <td>0</td>\n",
       "      <td>15</td>\n",
       "      <td>0</td>\n",
       "      <td>0.0</td>\n",
       "      <td>0.0</td>\n",
       "    </tr>\n",
       "    <tr>\n",
       "      <th>1</th>\n",
       "      <td>20170730</td>\n",
       "      <td>0450</td>\n",
       "      <td>E</td>\n",
       "      <td>0450CZE240</td>\n",
       "      <td>여주JC-남여주IC</td>\n",
       "      <td>1</td>\n",
       "      <td>07:15</td>\n",
       "      <td>전용</td>\n",
       "      <td>7</td>\n",
       "      <td>0</td>\n",
       "      <td>0</td>\n",
       "      <td>0</td>\n",
       "      <td>7</td>\n",
       "      <td>0</td>\n",
       "      <td>0.0</td>\n",
       "      <td>0.0</td>\n",
       "    </tr>\n",
       "    <tr>\n",
       "      <th>2</th>\n",
       "      <td>20170730</td>\n",
       "      <td>0450</td>\n",
       "      <td>E</td>\n",
       "      <td>0450CZE240</td>\n",
       "      <td>여주JC-남여주IC</td>\n",
       "      <td>1</td>\n",
       "      <td>07:30</td>\n",
       "      <td>전용</td>\n",
       "      <td>9</td>\n",
       "      <td>0</td>\n",
       "      <td>4</td>\n",
       "      <td>0</td>\n",
       "      <td>13</td>\n",
       "      <td>0</td>\n",
       "      <td>0.0</td>\n",
       "      <td>0.0</td>\n",
       "    </tr>\n",
       "  </tbody>\n",
       "</table>\n",
       "</div>"
      ],
      "text/plain": [
       "       date routeNo direction   conzoneId   conzoneNm  laneNum  oTime  \\\n",
       "0  20170730    0450         E  0450CZE240  여주JC-남여주IC        1  07:00   \n",
       "1  20170730    0450         E  0450CZE240  여주JC-남여주IC        1  07:15   \n",
       "2  20170730    0450         E  0450CZE240  여주JC-남여주IC        1  07:30   \n",
       "\n",
       "  busLaneGubun  totalTF_1  violationTF_1  totalTF_HV  violationTF_HV  totalTF  \\\n",
       "0           전용         15              0           0               0       15   \n",
       "1           전용          7              0           0               0        7   \n",
       "2           전용          9              0           4               0       13   \n",
       "\n",
       "   violationTF  total_ViolationRate  HV_ViolationRate  \n",
       "0            0                  0.0               0.0  \n",
       "1            0                  0.0               0.0  \n",
       "2            0                  0.0               0.0  "
      ]
     },
     "execution_count": 32,
     "metadata": {},
     "output_type": "execute_result"
    }
   ],
   "source": [
    "total_df.head(3)"
   ]
  }
 ],
 "metadata": {
  "kernelspec": {
   "display_name": "Python 3",
   "language": "python",
   "name": "python3"
  },
  "language_info": {
   "codemirror_mode": {
    "name": "ipython",
    "version": 3
   },
   "file_extension": ".py",
   "mimetype": "text/x-python",
   "name": "python",
   "nbconvert_exporter": "python",
   "pygments_lexer": "ipython3",
   "version": "3.8.8"
  }
 },
 "nbformat": 4,
 "nbformat_minor": 5
}
