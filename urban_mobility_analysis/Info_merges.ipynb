{
 "cells": [
  {
   "cell_type": "code",
   "execution_count": 1,
   "id": "6cbdeda0-59bf-4d30-ae37-fddcb0a33234",
   "metadata": {
    "execution": {
     "iopub.execute_input": "2021-12-06T05:21:29.919588Z",
     "iopub.status.busy": "2021-12-06T05:21:29.919588Z",
     "iopub.status.idle": "2021-12-06T05:21:31.027255Z",
     "shell.execute_reply": "2021-12-06T05:21:31.027255Z",
     "shell.execute_reply.started": "2021-12-06T05:21:29.919588Z"
    }
   },
   "outputs": [],
   "source": [
    "import pandas as pd\n",
    "import os"
   ]
  },
  {
   "cell_type": "code",
   "execution_count": 5,
   "id": "f78e37d4-fa56-49ed-89fa-85db4044db00",
   "metadata": {
    "execution": {
     "iopub.execute_input": "2021-12-06T05:22:28.141115Z",
     "iopub.status.busy": "2021-12-06T05:22:28.141115Z",
     "iopub.status.idle": "2021-12-06T05:22:28.164082Z",
     "shell.execute_reply": "2021-12-06T05:22:28.164082Z",
     "shell.execute_reply.started": "2021-12-06T05:22:28.141115Z"
    },
    "tags": []
   },
   "outputs": [],
   "source": [
    "conzone = pd.read_csv('data/info_conzone.csv', encoding = 'cp949')\n",
    "node = pd.read_csv('data/info_node.csv', encoding = 'cp949')\n",
    "routeNo = pd.read_csv('data/info_routeNo.csv', encoding = 'cp949')"
   ]
  },
  {
   "cell_type": "markdown",
   "id": "4ea88962-a280-4688-9b67-09295c2a4c6e",
   "metadata": {},
   "source": [
    "# Merge : conzone x node x routeNo"
   ]
  },
  {
   "cell_type": "code",
   "execution_count": 11,
   "id": "3a121d02-d8ab-42af-8885-e0edbd164409",
   "metadata": {
    "execution": {
     "iopub.execute_input": "2021-12-06T05:24:21.646253Z",
     "iopub.status.busy": "2021-12-06T05:24:21.646253Z",
     "iopub.status.idle": "2021-12-06T05:24:21.676940Z",
     "shell.execute_reply": "2021-12-06T05:24:21.676940Z",
     "shell.execute_reply.started": "2021-12-06T05:24:21.646253Z"
    },
    "tags": []
   },
   "outputs": [],
   "source": [
    "df = pd.merge(conzone, routeNo, how = 'left', left_on = '노선번호', right_on = '노선번호')"
   ]
  },
  {
   "cell_type": "code",
   "execution_count": 27,
   "id": "2cbc1e5a-a5f3-41c7-9cd9-e834f4560af9",
   "metadata": {
    "execution": {
     "iopub.execute_input": "2021-12-06T05:41:11.189468Z",
     "iopub.status.busy": "2021-12-06T05:41:11.189468Z",
     "iopub.status.idle": "2021-12-06T05:41:11.208418Z",
     "shell.execute_reply": "2021-12-06T05:41:11.208418Z",
     "shell.execute_reply.started": "2021-12-06T05:41:11.189468Z"
    },
    "tags": []
   },
   "outputs": [
    {
     "data": {
      "text/html": [
       "<div>\n",
       "<style scoped>\n",
       "    .dataframe tbody tr th:only-of-type {\n",
       "        vertical-align: middle;\n",
       "    }\n",
       "\n",
       "    .dataframe tbody tr th {\n",
       "        vertical-align: top;\n",
       "    }\n",
       "\n",
       "    .dataframe thead th {\n",
       "        text-align: right;\n",
       "    }\n",
       "</style>\n",
       "<table border=\"1\" class=\"dataframe\">\n",
       "  <thead>\n",
       "    <tr style=\"text-align: right;\">\n",
       "      <th></th>\n",
       "      <th>콘존ID</th>\n",
       "      <th>콘존길이</th>\n",
       "      <th>기점종점방향구분코드</th>\n",
       "      <th>시작노드ID_x</th>\n",
       "      <th>종료노드ID_x</th>\n",
       "      <th>차로수</th>\n",
       "      <th>노선번호</th>\n",
       "      <th>제한속도</th>\n",
       "      <th>노선구성순번</th>\n",
       "      <th>콘존명</th>\n",
       "      <th>버스전용차로유무</th>\n",
       "      <th>도로등급구분코드_x</th>\n",
       "      <th>도로명</th>\n",
       "      <th>도로단축명</th>\n",
       "      <th>도로표출명</th>\n",
       "      <th>시점명</th>\n",
       "      <th>종점명</th>\n",
       "      <th>소통원활기준속도</th>\n",
       "      <th>정체기준속도</th>\n",
       "    </tr>\n",
       "  </thead>\n",
       "  <tbody>\n",
       "    <tr>\n",
       "      <th>0</th>\n",
       "      <td>0010CZE005</td>\n",
       "      <td>200.0</td>\n",
       "      <td>E</td>\n",
       "      <td>491</td>\n",
       "      <td>4</td>\n",
       "      <td>3.0</td>\n",
       "      <td>10</td>\n",
       "      <td>100.0</td>\n",
       "      <td>1.0</td>\n",
       "      <td>경부고속국도시점-구서IC</td>\n",
       "      <td>0</td>\n",
       "      <td>101</td>\n",
       "      <td>경부선</td>\n",
       "      <td>경부선</td>\n",
       "      <td>경부</td>\n",
       "      <td>부산</td>\n",
       "      <td>서울</td>\n",
       "      <td>80</td>\n",
       "      <td>40</td>\n",
       "    </tr>\n",
       "    <tr>\n",
       "      <th>1</th>\n",
       "      <td>0010CZE010</td>\n",
       "      <td>1820.0</td>\n",
       "      <td>E</td>\n",
       "      <td>4</td>\n",
       "      <td>446</td>\n",
       "      <td>3.0</td>\n",
       "      <td>10</td>\n",
       "      <td>100.0</td>\n",
       "      <td>2.0</td>\n",
       "      <td>구서IC-영락IC</td>\n",
       "      <td>0</td>\n",
       "      <td>101</td>\n",
       "      <td>경부선</td>\n",
       "      <td>경부선</td>\n",
       "      <td>경부</td>\n",
       "      <td>부산</td>\n",
       "      <td>서울</td>\n",
       "      <td>80</td>\n",
       "      <td>40</td>\n",
       "    </tr>\n",
       "    <tr>\n",
       "      <th>2</th>\n",
       "      <td>0010CZE011</td>\n",
       "      <td>1990.0</td>\n",
       "      <td>E</td>\n",
       "      <td>446</td>\n",
       "      <td>486</td>\n",
       "      <td>3.0</td>\n",
       "      <td>10</td>\n",
       "      <td>100.0</td>\n",
       "      <td>3.0</td>\n",
       "      <td>영락IC-부산TG</td>\n",
       "      <td>0</td>\n",
       "      <td>101</td>\n",
       "      <td>경부선</td>\n",
       "      <td>경부선</td>\n",
       "      <td>경부</td>\n",
       "      <td>부산</td>\n",
       "      <td>서울</td>\n",
       "      <td>80</td>\n",
       "      <td>40</td>\n",
       "    </tr>\n",
       "    <tr>\n",
       "      <th>3</th>\n",
       "      <td>0010CZE020</td>\n",
       "      <td>1070.0</td>\n",
       "      <td>E</td>\n",
       "      <td>486</td>\n",
       "      <td>447</td>\n",
       "      <td>3.0</td>\n",
       "      <td>10</td>\n",
       "      <td>100.0</td>\n",
       "      <td>4.0</td>\n",
       "      <td>부산TG-노포</td>\n",
       "      <td>0</td>\n",
       "      <td>101</td>\n",
       "      <td>경부선</td>\n",
       "      <td>경부선</td>\n",
       "      <td>경부</td>\n",
       "      <td>부산</td>\n",
       "      <td>서울</td>\n",
       "      <td>80</td>\n",
       "      <td>40</td>\n",
       "    </tr>\n",
       "    <tr>\n",
       "      <th>4</th>\n",
       "      <td>0010CZE030</td>\n",
       "      <td>7780.0</td>\n",
       "      <td>E</td>\n",
       "      <td>447</td>\n",
       "      <td>669</td>\n",
       "      <td>3.0</td>\n",
       "      <td>10</td>\n",
       "      <td>100.0</td>\n",
       "      <td>5.0</td>\n",
       "      <td>노포IC-노포JC</td>\n",
       "      <td>0</td>\n",
       "      <td>101</td>\n",
       "      <td>경부선</td>\n",
       "      <td>경부선</td>\n",
       "      <td>경부</td>\n",
       "      <td>부산</td>\n",
       "      <td>서울</td>\n",
       "      <td>80</td>\n",
       "      <td>40</td>\n",
       "    </tr>\n",
       "  </tbody>\n",
       "</table>\n",
       "</div>"
      ],
      "text/plain": [
       "         콘존ID    콘존길이 기점종점방향구분코드 시작노드ID_x 종료노드ID_x  차로수  노선번호   제한속도  노선구성순번  \\\n",
       "0  0010CZE005   200.0          E      491        4  3.0    10  100.0     1.0   \n",
       "1  0010CZE010  1820.0          E        4      446  3.0    10  100.0     2.0   \n",
       "2  0010CZE011  1990.0          E      446      486  3.0    10  100.0     3.0   \n",
       "3  0010CZE020  1070.0          E      486      447  3.0    10  100.0     4.0   \n",
       "4  0010CZE030  7780.0          E      447      669  3.0    10  100.0     5.0   \n",
       "\n",
       "             콘존명 버스전용차로유무 도로등급구분코드_x  도로명 도로단축명 도로표출명 시점명 종점명  소통원활기준속도  \\\n",
       "0  경부고속국도시점-구서IC        0        101  경부선   경부선    경부  부산  서울        80   \n",
       "1      구서IC-영락IC        0        101  경부선   경부선    경부  부산  서울        80   \n",
       "2      영락IC-부산TG        0        101  경부선   경부선    경부  부산  서울        80   \n",
       "3        부산TG-노포        0        101  경부선   경부선    경부  부산  서울        80   \n",
       "4      노포IC-노포JC        0        101  경부선   경부선    경부  부산  서울        80   \n",
       "\n",
       "   정체기준속도  \n",
       "0      40  \n",
       "1      40  \n",
       "2      40  \n",
       "3      40  \n",
       "4      40  "
      ]
     },
     "execution_count": 27,
     "metadata": {},
     "output_type": "execute_result"
    }
   ],
   "source": [
    "df.head()\n",
    "#df = df.drop('도로등급구분코드_y', axis = 'columns')"
   ]
  },
  {
   "cell_type": "code",
   "execution_count": 32,
   "id": "af7ce79b-2a0c-472d-8242-8fa77bd9df7c",
   "metadata": {
    "execution": {
     "iopub.execute_input": "2021-12-06T05:43:32.599367Z",
     "iopub.status.busy": "2021-12-06T05:43:32.599367Z",
     "iopub.status.idle": "2021-12-06T05:43:32.613329Z",
     "shell.execute_reply": "2021-12-06T05:43:32.613329Z",
     "shell.execute_reply.started": "2021-12-06T05:43:32.599367Z"
    },
    "tags": []
   },
   "outputs": [],
   "source": [
    "node['노드ID'] = node['노드ID'].astype('str')\n",
    "node['노선번호'] = node['노선번호'].astype('str')"
   ]
  },
  {
   "cell_type": "code",
   "execution_count": 33,
   "id": "080de7aa-b8a3-47b1-9f22-0639b296f8c1",
   "metadata": {
    "execution": {
     "iopub.execute_input": "2021-12-06T05:45:19.970461Z",
     "iopub.status.busy": "2021-12-06T05:45:19.970461Z",
     "iopub.status.idle": "2021-12-06T05:45:19.994394Z",
     "shell.execute_reply": "2021-12-06T05:45:19.993401Z",
     "shell.execute_reply.started": "2021-12-06T05:45:19.970461Z"
    },
    "tags": []
   },
   "outputs": [],
   "source": [
    "df = pd.merge(df, node, how = 'left', left_on = '시작노드ID_x', right_on = '노드ID')"
   ]
  },
  {
   "cell_type": "code",
   "execution_count": 35,
   "id": "d24be80f-068b-41ab-b55d-077143ef2097",
   "metadata": {
    "execution": {
     "iopub.execute_input": "2021-12-06T05:46:48.649017Z",
     "iopub.status.busy": "2021-12-06T05:46:48.649017Z",
     "iopub.status.idle": "2021-12-06T05:46:48.665942Z",
     "shell.execute_reply": "2021-12-06T05:46:48.665942Z",
     "shell.execute_reply.started": "2021-12-06T05:46:48.649017Z"
    },
    "tags": []
   },
   "outputs": [],
   "source": [
    "df = df.drop('노드ID', axis = 'columns')\n",
    "df = df.drop('노선번호_y', axis = 'columns')\n",
    "df = df.drop('도로등급구분코드', axis = 'columns')\n",
    "df = df.rename(columns = {'도로이정':'시작노드_도로이정'})"
   ]
  },
  {
   "cell_type": "code",
   "execution_count": 37,
   "id": "40de0914-f7e4-4185-8242-6d0d3cfe4114",
   "metadata": {
    "execution": {
     "iopub.execute_input": "2021-12-06T05:47:31.682886Z",
     "iopub.status.busy": "2021-12-06T05:47:31.682886Z",
     "iopub.status.idle": "2021-12-06T05:47:31.698839Z",
     "shell.execute_reply": "2021-12-06T05:47:31.698839Z",
     "shell.execute_reply.started": "2021-12-06T05:47:31.682886Z"
    },
    "tags": []
   },
   "outputs": [],
   "source": [
    "df = pd.merge(df, node, how = 'left', left_on = '종료노드ID_x', right_on = '노드ID')"
   ]
  },
  {
   "cell_type": "code",
   "execution_count": 39,
   "id": "520c66bf-eb7d-489f-8c4c-b06f70b46e83",
   "metadata": {
    "execution": {
     "iopub.execute_input": "2021-12-06T05:47:58.686988Z",
     "iopub.status.busy": "2021-12-06T05:47:58.685987Z",
     "iopub.status.idle": "2021-12-06T05:47:58.708961Z",
     "shell.execute_reply": "2021-12-06T05:47:58.707949Z",
     "shell.execute_reply.started": "2021-12-06T05:47:58.686988Z"
    },
    "tags": []
   },
   "outputs": [],
   "source": [
    "df = df.drop('노드ID', axis = 'columns')\n",
    "df = df.drop('노선번호', axis = 'columns')\n",
    "df = df.drop('도로등급구분코드', axis = 'columns')\n",
    "df = df.rename(columns = {'도로이정':'종료노드_도로이정'})"
   ]
  },
  {
   "cell_type": "code",
   "execution_count": 42,
   "id": "c993ac7a-2769-421e-bd97-6742472e3524",
   "metadata": {
    "execution": {
     "iopub.execute_input": "2021-12-06T05:48:26.038240Z",
     "iopub.status.busy": "2021-12-06T05:48:26.038240Z",
     "iopub.status.idle": "2021-12-06T05:48:26.077143Z",
     "shell.execute_reply": "2021-12-06T05:48:26.076169Z",
     "shell.execute_reply.started": "2021-12-06T05:48:26.038240Z"
    },
    "tags": []
   },
   "outputs": [],
   "source": [
    "df.to_csv('data/info_total.csv', encoding = 'cp949')"
   ]
  }
 ],
 "metadata": {
  "kernelspec": {
   "display_name": "Python 3",
   "language": "python",
   "name": "python3"
  },
  "language_info": {
   "codemirror_mode": {
    "name": "ipython",
    "version": 3
   },
   "file_extension": ".py",
   "mimetype": "text/x-python",
   "name": "python",
   "nbconvert_exporter": "python",
   "pygments_lexer": "ipython3",
   "version": "3.8.8"
  }
 },
 "nbformat": 4,
 "nbformat_minor": 5
}
