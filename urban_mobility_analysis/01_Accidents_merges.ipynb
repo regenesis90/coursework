{
 "cells": [
  {
   "cell_type": "code",
   "execution_count": 1,
   "id": "37d24d04-5ad2-4fbc-bb73-264d23e2363f",
   "metadata": {
    "execution": {
     "iopub.execute_input": "2021-12-09T01:42:10.406748Z",
     "iopub.status.busy": "2021-12-09T01:42:10.405753Z",
     "iopub.status.idle": "2021-12-09T01:42:12.199630Z",
     "shell.execute_reply": "2021-12-09T01:42:12.199630Z",
     "shell.execute_reply.started": "2021-12-09T01:42:10.405753Z"
    },
    "tags": []
   },
   "outputs": [],
   "source": [
    "import pandas as pd\n",
    "import numpy as np\n",
    "import os\n",
    "from tqdm import tqdm"
   ]
  },
  {
   "cell_type": "code",
   "execution_count": 2,
   "id": "5df87506-d25e-4f6a-a1cf-9c33b2cd1753",
   "metadata": {
    "execution": {
     "iopub.execute_input": "2021-12-09T01:42:12.199630Z",
     "iopub.status.busy": "2021-12-09T01:42:12.199630Z",
     "iopub.status.idle": "2021-12-09T01:42:15.339089Z",
     "shell.execute_reply": "2021-12-09T01:42:15.339089Z",
     "shell.execute_reply.started": "2021-12-09T01:42:12.199630Z"
    },
    "tags": []
   },
   "outputs": [],
   "source": [
    "accident = pd.read_excel('data/accident_total_2016-2020.xlsx', sheet_name = '편집_1')"
   ]
  },
  {
   "cell_type": "code",
   "execution_count": 3,
   "id": "46d0466f-d8f1-417c-8a13-f4c6d9eaab3c",
   "metadata": {
    "execution": {
     "iopub.execute_input": "2021-12-09T01:42:15.339089Z",
     "iopub.status.busy": "2021-12-09T01:42:15.339089Z",
     "iopub.status.idle": "2021-12-09T01:42:15.401505Z",
     "shell.execute_reply": "2021-12-09T01:42:15.401505Z",
     "shell.execute_reply.started": "2021-12-09T01:42:15.339089Z"
    },
    "tags": []
   },
   "outputs": [],
   "source": [
    "conzone = pd.read_csv('data/info_total.csv', encoding = 'cp949')"
   ]
  },
  {
   "cell_type": "code",
   "execution_count": 4,
   "id": "17fbe995-186c-4048-a774-3ed138fa0829",
   "metadata": {
    "execution": {
     "iopub.execute_input": "2021-12-09T01:42:15.402521Z",
     "iopub.status.busy": "2021-12-09T01:42:15.402521Z",
     "iopub.status.idle": "2021-12-09T01:42:15.432887Z",
     "shell.execute_reply": "2021-12-09T01:42:15.432887Z",
     "shell.execute_reply.started": "2021-12-09T01:42:15.402521Z"
    },
    "tags": []
   },
   "outputs": [
    {
     "data": {
      "text/html": [
       "<div>\n",
       "<style scoped>\n",
       "    .dataframe tbody tr th:only-of-type {\n",
       "        vertical-align: middle;\n",
       "    }\n",
       "\n",
       "    .dataframe tbody tr th {\n",
       "        vertical-align: top;\n",
       "    }\n",
       "\n",
       "    .dataframe thead th {\n",
       "        text-align: right;\n",
       "    }\n",
       "</style>\n",
       "<table border=\"1\" class=\"dataframe\">\n",
       "  <thead>\n",
       "    <tr style=\"text-align: right;\">\n",
       "      <th></th>\n",
       "      <th>도로명</th>\n",
       "      <th>도로단축명</th>\n",
       "      <th>도로표출명</th>\n",
       "      <th>기점종점방향구분코드</th>\n",
       "      <th>시점명</th>\n",
       "      <th>종점명</th>\n",
       "    </tr>\n",
       "  </thead>\n",
       "  <tbody>\n",
       "    <tr>\n",
       "      <th>0</th>\n",
       "      <td>경부선</td>\n",
       "      <td>경부선</td>\n",
       "      <td>경부</td>\n",
       "      <td>E</td>\n",
       "      <td>부산</td>\n",
       "      <td>서울</td>\n",
       "    </tr>\n",
       "    <tr>\n",
       "      <th>112</th>\n",
       "      <td>경부선</td>\n",
       "      <td>경부선</td>\n",
       "      <td>경부</td>\n",
       "      <td>S</td>\n",
       "      <td>부산</td>\n",
       "      <td>서울</td>\n",
       "    </tr>\n",
       "  </tbody>\n",
       "</table>\n",
       "</div>"
      ],
      "text/plain": [
       "     도로명 도로단축명 도로표출명 기점종점방향구분코드 시점명 종점명\n",
       "0    경부선   경부선    경부          E  부산  서울\n",
       "112  경부선   경부선    경부          S  부산  서울"
      ]
     },
     "execution_count": 4,
     "metadata": {},
     "output_type": "execute_result"
    }
   ],
   "source": [
    "start_end_point = conzone.iloc[:, [5, 6, 7, 8, 9, 10]].drop_duplicates()\n",
    "start_end_point.head(2)"
   ]
  },
  {
   "cell_type": "code",
   "execution_count": 5,
   "id": "d852c643-4d57-4f7b-a0e8-74075fefaa03",
   "metadata": {
    "execution": {
     "iopub.execute_input": "2021-12-09T01:42:15.433884Z",
     "iopub.status.busy": "2021-12-09T01:42:15.433884Z",
     "iopub.status.idle": "2021-12-09T01:42:15.523775Z",
     "shell.execute_reply": "2021-12-09T01:42:15.523775Z",
     "shell.execute_reply.started": "2021-12-09T01:42:15.433884Z"
    },
    "tags": []
   },
   "outputs": [],
   "source": [
    "total_df = pd.merge(accident, start_end_point, how = 'left', left_on = ['노선명', '방향'], right_on = ['도로단축명', '종점명']).dropna(subset = ['도로명', '도로단축명', '도로표출명', '기점종점방향구분코드'])"
   ]
  },
  {
   "cell_type": "code",
   "execution_count": 6,
   "id": "544a39b8-d256-466f-8715-028d4f3e18bd",
   "metadata": {
    "execution": {
     "iopub.execute_input": "2021-12-09T01:42:15.523775Z",
     "iopub.status.busy": "2021-12-09T01:42:15.523775Z",
     "iopub.status.idle": "2021-12-09T01:42:15.555608Z",
     "shell.execute_reply": "2021-12-09T01:42:15.555608Z",
     "shell.execute_reply.started": "2021-12-09T01:42:15.523775Z"
    },
    "tags": []
   },
   "outputs": [
    {
     "data": {
      "text/html": [
       "<div>\n",
       "<style scoped>\n",
       "    .dataframe tbody tr th:only-of-type {\n",
       "        vertical-align: middle;\n",
       "    }\n",
       "\n",
       "    .dataframe tbody tr th {\n",
       "        vertical-align: top;\n",
       "    }\n",
       "\n",
       "    .dataframe thead th {\n",
       "        text-align: right;\n",
       "    }\n",
       "</style>\n",
       "<table border=\"1\" class=\"dataframe\">\n",
       "  <thead>\n",
       "    <tr style=\"text-align: right;\">\n",
       "      <th></th>\n",
       "      <th>Unnamed: 0</th>\n",
       "      <th>콘존ID</th>\n",
       "      <th>콘존길이</th>\n",
       "      <th>콘존명</th>\n",
       "      <th>노선번호</th>\n",
       "      <th>도로명</th>\n",
       "      <th>도로단축명</th>\n",
       "      <th>도로표출명</th>\n",
       "      <th>기점종점방향구분코드</th>\n",
       "      <th>시점명</th>\n",
       "      <th>...</th>\n",
       "      <th>시작노드ID</th>\n",
       "      <th>종료노드ID</th>\n",
       "      <th>시작노드_도로이정</th>\n",
       "      <th>종료노드_도로이정</th>\n",
       "      <th>차로수</th>\n",
       "      <th>버스전용차로유무</th>\n",
       "      <th>도로등급구분코드</th>\n",
       "      <th>제한속도</th>\n",
       "      <th>소통원활기준속도</th>\n",
       "      <th>정체기준속도</th>\n",
       "    </tr>\n",
       "  </thead>\n",
       "  <tbody>\n",
       "    <tr>\n",
       "      <th>0</th>\n",
       "      <td>0</td>\n",
       "      <td>0010CZE005</td>\n",
       "      <td>200.0</td>\n",
       "      <td>경부고속국도시점-구서IC</td>\n",
       "      <td>10</td>\n",
       "      <td>경부선</td>\n",
       "      <td>경부선</td>\n",
       "      <td>경부</td>\n",
       "      <td>E</td>\n",
       "      <td>부산</td>\n",
       "      <td>...</td>\n",
       "      <td>491</td>\n",
       "      <td>4</td>\n",
       "      <td>0.0</td>\n",
       "      <td>0.20</td>\n",
       "      <td>3.0</td>\n",
       "      <td>0</td>\n",
       "      <td>101</td>\n",
       "      <td>100.0</td>\n",
       "      <td>80</td>\n",
       "      <td>40</td>\n",
       "    </tr>\n",
       "    <tr>\n",
       "      <th>1</th>\n",
       "      <td>1</td>\n",
       "      <td>0010CZE010</td>\n",
       "      <td>1820.0</td>\n",
       "      <td>구서IC-영락IC</td>\n",
       "      <td>10</td>\n",
       "      <td>경부선</td>\n",
       "      <td>경부선</td>\n",
       "      <td>경부</td>\n",
       "      <td>E</td>\n",
       "      <td>부산</td>\n",
       "      <td>...</td>\n",
       "      <td>4</td>\n",
       "      <td>446</td>\n",
       "      <td>0.2</td>\n",
       "      <td>2.02</td>\n",
       "      <td>3.0</td>\n",
       "      <td>0</td>\n",
       "      <td>101</td>\n",
       "      <td>100.0</td>\n",
       "      <td>80</td>\n",
       "      <td>40</td>\n",
       "    </tr>\n",
       "  </tbody>\n",
       "</table>\n",
       "<p>2 rows × 22 columns</p>\n",
       "</div>"
      ],
      "text/plain": [
       "   Unnamed: 0        콘존ID    콘존길이            콘존명  노선번호  도로명 도로단축명 도로표출명  \\\n",
       "0           0  0010CZE005   200.0  경부고속국도시점-구서IC    10  경부선   경부선    경부   \n",
       "1           1  0010CZE010  1820.0      구서IC-영락IC    10  경부선   경부선    경부   \n",
       "\n",
       "  기점종점방향구분코드 시점명  ... 시작노드ID  종료노드ID 시작노드_도로이정 종료노드_도로이정  차로수  버스전용차로유무  \\\n",
       "0          E  부산  ...    491       4       0.0      0.20  3.0         0   \n",
       "1          E  부산  ...      4     446       0.2      2.02  3.0         0   \n",
       "\n",
       "   도로등급구분코드   제한속도 소통원활기준속도  정체기준속도  \n",
       "0       101  100.0       80      40  \n",
       "1       101  100.0       80      40  \n",
       "\n",
       "[2 rows x 22 columns]"
      ]
     },
     "execution_count": 6,
     "metadata": {},
     "output_type": "execute_result"
    }
   ],
   "source": [
    "conzone.head(2)"
   ]
  },
  {
   "cell_type": "code",
   "execution_count": 7,
   "id": "53a82500-0963-4027-b344-762c7c27e9fd",
   "metadata": {
    "execution": {
     "iopub.execute_input": "2021-12-09T01:42:15.556640Z",
     "iopub.status.busy": "2021-12-09T01:42:15.556640Z",
     "iopub.status.idle": "2021-12-09T01:42:15.586495Z",
     "shell.execute_reply": "2021-12-09T01:42:15.586495Z",
     "shell.execute_reply.started": "2021-12-09T01:42:15.556640Z"
    },
    "tags": []
   },
   "outputs": [
    {
     "data": {
      "text/html": [
       "<div>\n",
       "<style scoped>\n",
       "    .dataframe tbody tr th:only-of-type {\n",
       "        vertical-align: middle;\n",
       "    }\n",
       "\n",
       "    .dataframe tbody tr th {\n",
       "        vertical-align: top;\n",
       "    }\n",
       "\n",
       "    .dataframe thead th {\n",
       "        text-align: right;\n",
       "    }\n",
       "</style>\n",
       "<table border=\"1\" class=\"dataframe\">\n",
       "  <thead>\n",
       "    <tr style=\"text-align: right;\">\n",
       "      <th></th>\n",
       "      <th>사고일자</th>\n",
       "      <th>사고일자.1</th>\n",
       "      <th>월별구분</th>\n",
       "      <th>사고시간</th>\n",
       "      <th>시간단위_3시간</th>\n",
       "      <th>주야구분</th>\n",
       "      <th>노선명</th>\n",
       "      <th>이정</th>\n",
       "      <th>방향</th>\n",
       "      <th>사망</th>\n",
       "      <th>...</th>\n",
       "      <th>절성토구분</th>\n",
       "      <th>방책시설_중분대</th>\n",
       "      <th>원인차차종</th>\n",
       "      <th>원인차_차종구분</th>\n",
       "      <th>도로명</th>\n",
       "      <th>도로단축명</th>\n",
       "      <th>도로표출명</th>\n",
       "      <th>기점종점방향구분코드</th>\n",
       "      <th>시점명</th>\n",
       "      <th>종점명</th>\n",
       "    </tr>\n",
       "  </thead>\n",
       "  <tbody>\n",
       "    <tr>\n",
       "      <th>1</th>\n",
       "      <td>2016-01-01</td>\n",
       "      <td>20160101</td>\n",
       "      <td>01월</td>\n",
       "      <td>18:40:00</td>\n",
       "      <td>18 ~21</td>\n",
       "      <td>야간</td>\n",
       "      <td>광주대구선</td>\n",
       "      <td>141.7</td>\n",
       "      <td>대구</td>\n",
       "      <td>0</td>\n",
       "      <td>...</td>\n",
       "      <td>평지</td>\n",
       "      <td>가드레일</td>\n",
       "      <td>승용</td>\n",
       "      <td>중형</td>\n",
       "      <td>광주대구선</td>\n",
       "      <td>광주대구선</td>\n",
       "      <td>광주대구</td>\n",
       "      <td>E</td>\n",
       "      <td>광주</td>\n",
       "      <td>대구</td>\n",
       "    </tr>\n",
       "    <tr>\n",
       "      <th>2</th>\n",
       "      <td>2016-01-01</td>\n",
       "      <td>20160101</td>\n",
       "      <td>01월</td>\n",
       "      <td>18:40:00</td>\n",
       "      <td>18 ~21</td>\n",
       "      <td>야간</td>\n",
       "      <td>광주대구선</td>\n",
       "      <td>141.7</td>\n",
       "      <td>대구</td>\n",
       "      <td>0</td>\n",
       "      <td>...</td>\n",
       "      <td>평지</td>\n",
       "      <td>가드레일</td>\n",
       "      <td>승용</td>\n",
       "      <td>중형</td>\n",
       "      <td>광주대구선</td>\n",
       "      <td>광주대구선</td>\n",
       "      <td>광주대구</td>\n",
       "      <td>S</td>\n",
       "      <td>광주</td>\n",
       "      <td>대구</td>\n",
       "    </tr>\n",
       "    <tr>\n",
       "      <th>3</th>\n",
       "      <td>2016-01-02</td>\n",
       "      <td>20160102</td>\n",
       "      <td>01월</td>\n",
       "      <td>08:15:00</td>\n",
       "      <td>6 ~9</td>\n",
       "      <td>주간</td>\n",
       "      <td>남해선</td>\n",
       "      <td>146.5</td>\n",
       "      <td>부산</td>\n",
       "      <td>0</td>\n",
       "      <td>...</td>\n",
       "      <td>평지</td>\n",
       "      <td>고정식방호벽(127cm)</td>\n",
       "      <td>화물</td>\n",
       "      <td>소형</td>\n",
       "      <td>남해선(순천-부산)</td>\n",
       "      <td>남해선</td>\n",
       "      <td>남해</td>\n",
       "      <td>E</td>\n",
       "      <td>순천</td>\n",
       "      <td>부산</td>\n",
       "    </tr>\n",
       "  </tbody>\n",
       "</table>\n",
       "<p>3 rows × 45 columns</p>\n",
       "</div>"
      ],
      "text/plain": [
       "        사고일자    사고일자.1 월별구분      사고시간 시간단위_3시간 주야구분    노선명     이정  방향  사망  \\\n",
       "1 2016-01-01  20160101  01월  18:40:00   18 ~21   야간  광주대구선  141.7  대구   0   \n",
       "2 2016-01-01  20160101  01월  18:40:00   18 ~21   야간  광주대구선  141.7  대구   0   \n",
       "3 2016-01-02  20160102  01월  08:15:00     6 ~9   주간    남해선  146.5  부산   0   \n",
       "\n",
       "   ...  절성토구분         방책시설_중분대  원인차차종 원인차_차종구분         도로명  도로단축명  도로표출명  \\\n",
       "1  ...     평지  가드레일                승용       중형       광주대구선  광주대구선   광주대구   \n",
       "2  ...     평지  가드레일                승용       중형       광주대구선  광주대구선   광주대구   \n",
       "3  ...     평지    고정식방호벽(127cm)     화물       소형  남해선(순천-부산)    남해선     남해   \n",
       "\n",
       "  기점종점방향구분코드 시점명 종점명  \n",
       "1          E  광주  대구  \n",
       "2          S  광주  대구  \n",
       "3          E  순천  부산  \n",
       "\n",
       "[3 rows x 45 columns]"
      ]
     },
     "execution_count": 7,
     "metadata": {},
     "output_type": "execute_result"
    }
   ],
   "source": [
    "total_df.head(3)"
   ]
  },
  {
   "cell_type": "code",
   "execution_count": 13,
   "id": "52f797f4-65e9-4811-afe1-7a2f88498f3a",
   "metadata": {
    "execution": {
     "iopub.execute_input": "2021-12-09T01:50:03.694245Z",
     "iopub.status.busy": "2021-12-09T01:50:03.693247Z",
     "iopub.status.idle": "2021-12-09T01:50:03.709704Z",
     "shell.execute_reply": "2021-12-09T01:50:03.708512Z",
     "shell.execute_reply.started": "2021-12-09T01:50:03.694245Z"
    },
    "tags": []
   },
   "outputs": [
    {
     "data": {
      "text/plain": [
       "'광주대구선'"
      ]
     },
     "execution_count": 13,
     "metadata": {},
     "output_type": "execute_result"
    }
   ],
   "source": [
    "total_df['도로명']"
   ]
  },
  {
   "cell_type": "code",
   "execution_count": 18,
   "id": "c4a9f808-26a4-4dc5-a42f-ef257651202d",
   "metadata": {
    "execution": {
     "iopub.execute_input": "2021-12-09T01:53:19.331524Z",
     "iopub.status.busy": "2021-12-09T01:53:19.331524Z",
     "iopub.status.idle": "2021-12-09T01:53:19.341497Z",
     "shell.execute_reply": "2021-12-09T01:53:19.340499Z",
     "shell.execute_reply.started": "2021-12-09T01:53:19.331524Z"
    },
    "tags": []
   },
   "outputs": [],
   "source": [
    "save_total_df_dir = 'data/accident_merged.csv'"
   ]
  },
  {
   "cell_type": "code",
   "execution_count": 16,
   "id": "b71d6b79-69b0-45cc-9504-aba05b22c306",
   "metadata": {
    "execution": {
     "iopub.execute_input": "2021-12-09T01:51:37.982970Z",
     "iopub.status.busy": "2021-12-09T01:51:37.982970Z",
     "iopub.status.idle": "2021-12-09T01:51:47.210332Z",
     "shell.execute_reply": "2021-12-09T01:51:47.210332Z",
     "shell.execute_reply.started": "2021-12-09T01:51:37.982970Z"
    },
    "tags": []
   },
   "outputs": [
    {
     "name": "stderr",
     "output_type": "stream",
     "text": [
      "  0%|                                                                                         | 0/3796 [00:00<?, ?it/s]C:\\dev\\Anaconda_3\\lib\\site-packages\\pandas\\core\\indexing.py:1637: SettingWithCopyWarning: \n",
      "A value is trying to be set on a copy of a slice from a DataFrame\n",
      "\n",
      "See the caveats in the documentation: https://pandas.pydata.org/pandas-docs/stable/user_guide/indexing.html#returning-a-view-versus-a-copy\n",
      "  self._setitem_single_block(indexer, value, name)\n",
      "100%|█████████████████████████████████████████████████████████████████████████████| 3796/3796 [00:09<00:00, 412.32it/s]"
     ]
    },
    {
     "name": "stdout",
     "output_type": "stream",
     "text": [
      "PROCESSING FINISHED\n"
     ]
    },
    {
     "name": "stderr",
     "output_type": "stream",
     "text": [
      "\n"
     ]
    }
   ],
   "source": [
    "# 도로단축명, 기종점방향구분코드가 conzone과 total_df가 같을 경우,\n",
    "# total_df의 '이정'이 conzone의 시작노드_도로이정과 종료노드_도로이정 사이에 있으면 해당 콘존을 입력\n",
    "# 기종점방향구분코드 : E이면 시작노드 < 종료노드, S이면 시작노드 > 종료노드임.\n",
    "\n",
    "total_df['conzoneID'] = None #새로운 비어있는 컬럼 : 콘존ID\n",
    "total_df['conzoneName'] = None # 콘존명\n",
    "\n",
    "for i in tqdm(range(len(total_df))): # total_df의 i번째 행에 대하여\n",
    "    \n",
    "    # 먼저, total_df[i]와 같은 도로단축명, 기종점 방향구분코드를 가진 conzone만 걸러낸다.\n",
    "    i_roadname = total_df['도로명'].iloc[i]\n",
    "    i_direction = total_df['기점종점방향구분코드'].iloc[i]\n",
    "\n",
    "    czdf = conzone[(conzone['도로명'] == i_roadname) & (conzone['기점종점방향구분코드'] == i_direction)]\n",
    "    \n",
    "    # i_direction이 E냐 S냐에 따라서 다른 if 절을 적용\n",
    "    # conzone의 시작노드_도로이정, 종료노드_도로이정 사이에 '도로이정'이 있을 시 해당 콘존을 투입\n",
    "    location = total_df['이정'].iloc[i]\n",
    "    \n",
    "    for j in range(len(czdf)):\n",
    "        start_location = czdf['시작노드_도로이정'].iloc[j]\n",
    "        end_location = czdf['종료노드_도로이정'].iloc[j]\n",
    "        \n",
    "        if i_direction == 'E':\n",
    "            if location >= start_location and location < end_location:\n",
    "                conzoneID = czdf['콘존ID'].iloc[j]\n",
    "                conzoneName = czdf['콘존명'].iloc[j]\n",
    "                \n",
    "            else:\n",
    "                pass\n",
    "                \n",
    "        elif i_direction == 'S':\n",
    "            if location <= start_location and location > end_location:\n",
    "                conzoneID = czdf['콘존ID'].iloc[j]\n",
    "                conzoneName = czdf['콘존명'].iloc[j]\n",
    "                \n",
    "            else:\n",
    "                pass\n",
    "            \n",
    "        else:\n",
    "            pass\n",
    "    \n",
    "    total_df['conzoneID'].iloc[i] = conzoneID\n",
    "    total_df['conzoneName'].iloc[i] = conzoneName\n",
    "\n",
    "total_df.to_csv(save_total_df_dir, encoding = 'cp949')\n",
    "print('PROCESSING FINISHED')"
   ]
  },
  {
   "cell_type": "code",
   "execution_count": null,
   "id": "c00e5b55-04ce-4ee5-b528-4e65bfb2b902",
   "metadata": {},
   "outputs": [],
   "source": []
  }
 ],
 "metadata": {
  "kernelspec": {
   "display_name": "Python 3",
   "language": "python",
   "name": "python3"
  },
  "language_info": {
   "codemirror_mode": {
    "name": "ipython",
    "version": 3
   },
   "file_extension": ".py",
   "mimetype": "text/x-python",
   "name": "python",
   "nbconvert_exporter": "python",
   "pygments_lexer": "ipython3",
   "version": "3.8.8"
  }
 },
 "nbformat": 4,
 "nbformat_minor": 5
}
