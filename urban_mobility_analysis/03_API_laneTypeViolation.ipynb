{
 "cells": [
  {
   "cell_type": "markdown",
   "metadata": {},
   "source": [
    "# Import and Parsing XML from OPEN API (PUBLIC)\n",
    "## 차로별 차종 구성 및 위반율\n",
    "* http://data.ex.co.kr/openapi/basicinfo/openApiInfoM?apiId=0141&pn=-1\n",
    "* 고속도로 공공데이터포털 인증키 : 6416260179"
   ]
  },
  {
   "cell_type": "markdown",
   "metadata": {},
   "source": [
    "# Imports"
   ]
  },
  {
   "cell_type": "code",
   "execution_count": 1,
   "metadata": {
    "execution": {
     "iopub.execute_input": "2021-12-10T01:53:59.667297Z",
     "iopub.status.busy": "2021-12-10T01:53:59.667297Z",
     "iopub.status.idle": "2021-12-10T01:54:02.834253Z",
     "shell.execute_reply": "2021-12-10T01:54:02.834253Z",
     "shell.execute_reply.started": "2021-12-10T01:53:59.667297Z"
    },
    "tags": []
   },
   "outputs": [],
   "source": [
    "from urllib.request import urlopen\n",
    "from urllib.parse import urlencode, unquote, quote_plus\n",
    "import urllib\n",
    "import requests\n",
    "import json\n",
    "import xml.etree.ElementTree as ET\n",
    "import xmltodict\n",
    "from tqdm import tqdm\n",
    "\n",
    "import pandas as pd"
   ]
  },
  {
   "cell_type": "code",
   "execution_count": 2,
   "metadata": {
    "execution": {
     "iopub.execute_input": "2021-12-10T01:54:02.834253Z",
     "iopub.status.busy": "2021-12-10T01:54:02.834253Z",
     "iopub.status.idle": "2021-12-10T01:54:02.925937Z",
     "shell.execute_reply": "2021-12-10T01:54:02.925937Z",
     "shell.execute_reply.started": "2021-12-10T01:54:02.834253Z"
    },
    "tags": []
   },
   "outputs": [],
   "source": [
    "route_info = pd.read_csv('data/info_routeNo.csv', encoding = 'cp949').loc[:, ['노선번호', '도로단축명']]"
   ]
  },
  {
   "cell_type": "code",
   "execution_count": 3,
   "metadata": {
    "execution": {
     "iopub.execute_input": "2021-12-10T01:54:02.925937Z",
     "iopub.status.busy": "2021-12-10T01:54:02.925937Z",
     "iopub.status.idle": "2021-12-10T01:54:03.089699Z",
     "shell.execute_reply": "2021-12-10T01:54:03.088702Z",
     "shell.execute_reply.started": "2021-12-10T01:54:02.925937Z"
    },
    "tags": []
   },
   "outputs": [
    {
     "data": {
      "text/html": [
       "<div>\n",
       "<style scoped>\n",
       "    .dataframe tbody tr th:only-of-type {\n",
       "        vertical-align: middle;\n",
       "    }\n",
       "\n",
       "    .dataframe tbody tr th {\n",
       "        vertical-align: top;\n",
       "    }\n",
       "\n",
       "    .dataframe thead th {\n",
       "        text-align: right;\n",
       "    }\n",
       "</style>\n",
       "<table border=\"1\" class=\"dataframe\">\n",
       "  <thead>\n",
       "    <tr style=\"text-align: right;\">\n",
       "      <th></th>\n",
       "      <th>Unnamed: 0</th>\n",
       "      <th>사고일자</th>\n",
       "      <th>사고일자.1</th>\n",
       "      <th>월별구분</th>\n",
       "      <th>사고시간</th>\n",
       "      <th>시간단위_3시간</th>\n",
       "      <th>주야구분</th>\n",
       "      <th>노선명</th>\n",
       "      <th>이정</th>\n",
       "      <th>방향</th>\n",
       "      <th>...</th>\n",
       "      <th>원인차_차종구분</th>\n",
       "      <th>도로명</th>\n",
       "      <th>도로단축명</th>\n",
       "      <th>도로표출명</th>\n",
       "      <th>기점종점방향구분코드</th>\n",
       "      <th>시점명</th>\n",
       "      <th>종점명</th>\n",
       "      <th>conzoneID</th>\n",
       "      <th>conzoneName</th>\n",
       "      <th>노선번호</th>\n",
       "    </tr>\n",
       "  </thead>\n",
       "  <tbody>\n",
       "    <tr>\n",
       "      <th>0</th>\n",
       "      <td>1183</td>\n",
       "      <td>2016-12-02</td>\n",
       "      <td>20161202</td>\n",
       "      <td>12월</td>\n",
       "      <td>3:50:00</td>\n",
       "      <td>3 ~6</td>\n",
       "      <td>야간</td>\n",
       "      <td>영동선</td>\n",
       "      <td>2.3</td>\n",
       "      <td>강릉</td>\n",
       "      <td>...</td>\n",
       "      <td>SUV형</td>\n",
       "      <td>영동선</td>\n",
       "      <td>영동선</td>\n",
       "      <td>영동</td>\n",
       "      <td>E</td>\n",
       "      <td>인천</td>\n",
       "      <td>강릉</td>\n",
       "      <td>0500CZE010</td>\n",
       "      <td>서창JC-월곶JC</td>\n",
       "      <td>500</td>\n",
       "    </tr>\n",
       "    <tr>\n",
       "      <th>1</th>\n",
       "      <td>1184</td>\n",
       "      <td>2016-12-02</td>\n",
       "      <td>20161202</td>\n",
       "      <td>12월</td>\n",
       "      <td>3:50:00</td>\n",
       "      <td>3 ~6</td>\n",
       "      <td>야간</td>\n",
       "      <td>영동선</td>\n",
       "      <td>2.3</td>\n",
       "      <td>강릉</td>\n",
       "      <td>...</td>\n",
       "      <td>SUV형</td>\n",
       "      <td>영동선</td>\n",
       "      <td>영동선</td>\n",
       "      <td>영동</td>\n",
       "      <td>S</td>\n",
       "      <td>인천</td>\n",
       "      <td>강릉</td>\n",
       "      <td>0500CZS010</td>\n",
       "      <td>월곶JC-서창JC</td>\n",
       "      <td>500</td>\n",
       "    </tr>\n",
       "    <tr>\n",
       "      <th>2</th>\n",
       "      <td>1186</td>\n",
       "      <td>2016-12-03</td>\n",
       "      <td>20161203</td>\n",
       "      <td>12월</td>\n",
       "      <td>1:00:00</td>\n",
       "      <td>0 ~3</td>\n",
       "      <td>야간</td>\n",
       "      <td>경부선</td>\n",
       "      <td>290.9</td>\n",
       "      <td>서울</td>\n",
       "      <td>...</td>\n",
       "      <td>소형</td>\n",
       "      <td>경부선</td>\n",
       "      <td>경부선</td>\n",
       "      <td>경부</td>\n",
       "      <td>E</td>\n",
       "      <td>부산</td>\n",
       "      <td>서울</td>\n",
       "      <td>0010CZE505</td>\n",
       "      <td>금토JC-양재IC</td>\n",
       "      <td>10</td>\n",
       "    </tr>\n",
       "  </tbody>\n",
       "</table>\n",
       "<p>3 rows × 49 columns</p>\n",
       "</div>"
      ],
      "text/plain": [
       "   Unnamed: 0        사고일자    사고일자.1 월별구분     사고시간 시간단위_3시간 주야구분  노선명     이정  \\\n",
       "0        1183  2016-12-02  20161202  12월  3:50:00     3 ~6   야간  영동선    2.3   \n",
       "1        1184  2016-12-02  20161202  12월  3:50:00     3 ~6   야간  영동선    2.3   \n",
       "2        1186  2016-12-03  20161203  12월  1:00:00     0 ~3   야간  경부선  290.9   \n",
       "\n",
       "   방향  ...  원인차_차종구분  도로명  도로단축명  도로표출명 기점종점방향구분코드 시점명 종점명   conzoneID  \\\n",
       "0  강릉  ...      SUV형  영동선    영동선     영동          E  인천  강릉  0500CZE010   \n",
       "1  강릉  ...      SUV형  영동선    영동선     영동          S  인천  강릉  0500CZS010   \n",
       "2  서울  ...        소형  경부선    경부선     경부          E  부산  서울  0010CZE505   \n",
       "\n",
       "  conzoneName 노선번호  \n",
       "0   서창JC-월곶JC  500  \n",
       "1   월곶JC-서창JC  500  \n",
       "2   금토JC-양재IC   10  \n",
       "\n",
       "[3 rows x 49 columns]"
      ]
     },
     "execution_count": 3,
     "metadata": {},
     "output_type": "execute_result"
    }
   ],
   "source": [
    "# 사고일자 중 2016년 12월 이전 것은 모두 제거해야 함 --- 제거된 데이터를 사용\n",
    "accident_info = pd.read_csv('data/accident_merged_20161201-.csv', encoding = 'cp949')\n",
    "accident_info = pd.merge(accident_info, route_info, how = 'left', on = '도로단축명')\n",
    "accident_info.head(3)"
   ]
  },
  {
   "cell_type": "markdown",
   "metadata": {},
   "source": [
    "# 사고데이터 -- 위반데이터\n",
    "* 사고일자.1 == 시작일자, 종료일자\n",
    "* 노선번호 == routeNo\n",
    "* conzoneName == 콘존명"
   ]
  },
  {
   "cell_type": "code",
   "execution_count": 4,
   "metadata": {
    "execution": {
     "iopub.execute_input": "2021-12-10T01:54:03.090698Z",
     "iopub.status.busy": "2021-12-10T01:54:03.089699Z",
     "iopub.status.idle": "2021-12-10T01:54:04.243899Z",
     "shell.execute_reply": "2021-12-10T01:54:04.243899Z",
     "shell.execute_reply.started": "2021-12-10T01:54:03.089699Z"
    },
    "tags": []
   },
   "outputs": [
    {
     "name": "stderr",
     "output_type": "stream",
     "text": [
      "C:\\dev\\Anaconda_3\\lib\\site-packages\\pandas\\core\\indexing.py:1637: SettingWithCopyWarning: \n",
      "A value is trying to be set on a copy of a slice from a DataFrame\n",
      "\n",
      "See the caveats in the documentation: https://pandas.pydata.org/pandas-docs/stable/user_guide/indexing.html#returning-a-view-versus-a-copy\n",
      "  self._setitem_single_block(indexer, value, name)\n"
     ]
    },
    {
     "data": {
      "text/html": [
       "<div>\n",
       "<style scoped>\n",
       "    .dataframe tbody tr th:only-of-type {\n",
       "        vertical-align: middle;\n",
       "    }\n",
       "\n",
       "    .dataframe tbody tr th {\n",
       "        vertical-align: top;\n",
       "    }\n",
       "\n",
       "    .dataframe thead th {\n",
       "        text-align: right;\n",
       "    }\n",
       "</style>\n",
       "<table border=\"1\" class=\"dataframe\">\n",
       "  <thead>\n",
       "    <tr style=\"text-align: right;\">\n",
       "      <th></th>\n",
       "      <th>사고일자.1</th>\n",
       "      <th>routeNo</th>\n",
       "      <th>기점종점방향구분코드</th>\n",
       "    </tr>\n",
       "  </thead>\n",
       "  <tbody>\n",
       "    <tr>\n",
       "      <th>3475</th>\n",
       "      <td>20201231</td>\n",
       "      <td>0010</td>\n",
       "      <td>S</td>\n",
       "    </tr>\n",
       "    <tr>\n",
       "      <th>3474</th>\n",
       "      <td>20201231</td>\n",
       "      <td>0010</td>\n",
       "      <td>E</td>\n",
       "    </tr>\n",
       "    <tr>\n",
       "      <th>3473</th>\n",
       "      <td>20201230</td>\n",
       "      <td>0150</td>\n",
       "      <td>S</td>\n",
       "    </tr>\n",
       "    <tr>\n",
       "      <th>3472</th>\n",
       "      <td>20201230</td>\n",
       "      <td>0150</td>\n",
       "      <td>E</td>\n",
       "    </tr>\n",
       "    <tr>\n",
       "      <th>3471</th>\n",
       "      <td>20201228</td>\n",
       "      <td>0450</td>\n",
       "      <td>S</td>\n",
       "    </tr>\n",
       "    <tr>\n",
       "      <th>...</th>\n",
       "      <td>...</td>\n",
       "      <td>...</td>\n",
       "      <td>...</td>\n",
       "    </tr>\n",
       "    <tr>\n",
       "      <th>4</th>\n",
       "      <td>20161203</td>\n",
       "      <td>0100</td>\n",
       "      <td>E</td>\n",
       "    </tr>\n",
       "    <tr>\n",
       "      <th>3</th>\n",
       "      <td>20161203</td>\n",
       "      <td>0010</td>\n",
       "      <td>S</td>\n",
       "    </tr>\n",
       "    <tr>\n",
       "      <th>2</th>\n",
       "      <td>20161203</td>\n",
       "      <td>0010</td>\n",
       "      <td>E</td>\n",
       "    </tr>\n",
       "    <tr>\n",
       "      <th>1</th>\n",
       "      <td>20161202</td>\n",
       "      <td>0500</td>\n",
       "      <td>S</td>\n",
       "    </tr>\n",
       "    <tr>\n",
       "      <th>0</th>\n",
       "      <td>20161202</td>\n",
       "      <td>0500</td>\n",
       "      <td>E</td>\n",
       "    </tr>\n",
       "  </tbody>\n",
       "</table>\n",
       "<p>3186 rows × 3 columns</p>\n",
       "</div>"
      ],
      "text/plain": [
       "        사고일자.1 routeNo 기점종점방향구분코드\n",
       "3475  20201231    0010          S\n",
       "3474  20201231    0010          E\n",
       "3473  20201230    0150          S\n",
       "3472  20201230    0150          E\n",
       "3471  20201228    0450          S\n",
       "...        ...     ...        ...\n",
       "4     20161203    0100          E\n",
       "3     20161203    0010          S\n",
       "2     20161203    0010          E\n",
       "1     20161202    0500          S\n",
       "0     20161202    0500          E\n",
       "\n",
       "[3186 rows x 3 columns]"
      ]
     },
     "execution_count": 4,
     "metadata": {},
     "output_type": "execute_result"
    }
   ],
   "source": [
    "req_list = accident_info.loc[:, ['사고일자.1', '노선번호', 'conzoneID', 'conzoneName', '기점종점방향구분코드']].drop_duplicates()\n",
    "\n",
    "req_list['routeNo'] = None\n",
    "\n",
    "for i in range(len(req_list)):\n",
    "    i_no = str(req_list['노선번호'].iloc[i])\n",
    "    \n",
    "    if len(i_no) == 2:\n",
    "        req_list['routeNo'].iloc[i] = '00' + str(i_no)\n",
    "    \n",
    "    elif len(i_no) == 3:\n",
    "        req_list['routeNo'].iloc[i] = '0' + str(i_no)\n",
    "    \n",
    "    elif len(i_no) == 4:\n",
    "        req_list['routeNo'].iloc[i] = str(i_no)\n",
    "    \n",
    "    else:\n",
    "        pass\n",
    "    \n",
    "req_list = req_list[::-1]\n",
    "    \n",
    "req_list2 = req_list.loc[:, ['사고일자.1', 'routeNo', '기점종점방향구분코드']].drop_duplicates()\n",
    "req_list2"
   ]
  },
  {
   "cell_type": "markdown",
   "metadata": {},
   "source": [
    "# XML Parsing"
   ]
  },
  {
   "cell_type": "code",
   "execution_count": 5,
   "metadata": {
    "execution": {
     "iopub.execute_input": "2021-12-10T01:54:09.572233Z",
     "iopub.status.busy": "2021-12-10T01:54:09.571236Z",
     "iopub.status.idle": "2021-12-10T01:54:09.581279Z",
     "shell.execute_reply": "2021-12-10T01:54:09.581279Z",
     "shell.execute_reply.started": "2021-12-10T01:54:09.572233Z"
    },
    "tags": []
   },
   "outputs": [],
   "source": [
    "# Service URL\n",
    "xmlUrl = 'http://data.ex.co.kr/openapi/trafficOprgPrcd/laneTypeViolation'\n",
    "My_API_Key = '6416260179' # 사용자 인증키"
   ]
  },
  {
   "cell_type": "markdown",
   "metadata": {},
   "source": [
    "## 필수 요청인자를 파라미터로 정리하기\n",
    "\n",
    "* 반드시 OPEN API의 페이지를 확인해야 합니다"
   ]
  },
  {
   "cell_type": "code",
   "execution_count": 7,
   "metadata": {
    "execution": {
     "iopub.execute_input": "2021-12-10T01:54:38.843369Z",
     "iopub.status.busy": "2021-12-10T01:54:38.843369Z",
     "iopub.status.idle": "2021-12-10T01:54:38.857320Z",
     "shell.execute_reply": "2021-12-10T01:54:38.857320Z",
     "shell.execute_reply.started": "2021-12-10T01:54:38.843369Z"
    },
    "tags": []
   },
   "outputs": [],
   "source": [
    "dates = list(req_list2['사고일자.1'])\n",
    "routes = list(req_list2['routeNo'])\n",
    "directions = list(req_list2['기점종점방향구분코드'])"
   ]
  },
  {
   "cell_type": "code",
   "execution_count": 22,
   "metadata": {
    "execution": {
     "iopub.execute_input": "2021-12-10T02:50:15.866815Z",
     "iopub.status.busy": "2021-12-10T02:50:15.865817Z",
     "iopub.status.idle": "2021-12-10T04:14:14.923757Z",
     "shell.execute_reply": "2021-12-10T04:14:14.923757Z",
     "shell.execute_reply.started": "2021-12-10T02:50:15.866815Z"
    },
    "tags": []
   },
   "outputs": [
    {
     "name": "stderr",
     "output_type": "stream",
     "text": [
      "1031it [1:23:59,  4.89s/it]\n"
     ]
    }
   ],
   "source": [
    "for date, routeNo, direction in tqdm(zip(dates[2155:], routes[2155:], directions[2155:])):\n",
    "    \n",
    "    conzone_list = list(req_list[(req_list['사고일자.1'] == date) & (req_list['routeNo'] == routeNo)]['conzoneID'])\n",
    "    \n",
    "    queryParams = '?' + urlencode(    # get 방식으로 쿼리를 분리하기 위해 '?'를 넣은 것이다. 메타코드 아님.\n",
    "        {\n",
    "            quote_plus('request') : 'GetFeature',\n",
    "            quote_plus('key') : My_API_Key, # 발급받은 인증키\n",
    "            quote_plus('type') : 'xml', # 검색결과 포맷 = xml\n",
    "            quote_plus('routeNo') : routeNo, # 노선번호\n",
    "            quote_plus('sDate') : date, # 시작일자\n",
    "            quote_plus('eDate') : date, # 종료일자\n",
    "            #quote_plus('iLaneNum') : lane_num, # 차로번호\n",
    "            #quote_plus('iAvcCarType') : car_type, # AVC 차종구분코드\n",
    "            quote_plus('updownType') : direction # 기점종점방향구분코드\n",
    "         }\n",
    "    )\n",
    "    response = urllib.request.Request(xmlUrl + queryParams)\n",
    "    response_body = urlopen(response).read() #get bytes data\n",
    "\n",
    "    decode_data = response_body.decode('utf-8')\n",
    "    #print(type(decode_data))\n",
    "\n",
    "    xml_parse = xmltodict.parse(decode_data)     # string인 xml 파싱\n",
    "    xml_dict = json.loads(json.dumps(xml_parse))\n",
    "    \n",
    "    if xml_dict['data']['count'] != '0':\n",
    "        \n",
    "        df = pd.json_normalize(xml_dict['data'], record_path = ['lcsTrafficLists'])\n",
    "    \n",
    "        tczdf = pd.DataFrame()\n",
    "    \n",
    "        for cz in conzone_list:\n",
    "            czdf = df[df['conzoneId'] == cz]\n",
    "            tczdf = pd.concat([tczdf, czdf])\n",
    "    \n",
    "        tczdf.to_csv(f'data/violations/{date}_{routeNo}_{direction}.csv', encoding = 'cp949')\n",
    "    \n",
    "    else:\n",
    "        pass"
   ]
  },
  {
   "cell_type": "code",
   "execution_count": null,
   "metadata": {},
   "outputs": [],
   "source": []
  }
 ],
 "metadata": {
  "kernelspec": {
   "display_name": "Python 3",
   "language": "python",
   "name": "python3"
  },
  "language_info": {
   "codemirror_mode": {
    "name": "ipython",
    "version": 3
   },
   "file_extension": ".py",
   "mimetype": "text/x-python",
   "name": "python",
   "nbconvert_exporter": "python",
   "pygments_lexer": "ipython3",
   "version": "3.8.8"
  }
 },
 "nbformat": 4,
 "nbformat_minor": 4
}
