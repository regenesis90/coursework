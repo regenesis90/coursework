{
 "cells": [
  {
   "cell_type": "markdown",
   "id": "0d8b0da5-635d-4c5e-9715-6bc18902c705",
   "metadata": {},
   "source": [
    "# DangerIndex : 위험지수에 방향(direction) 적용하기"
   ]
  },
  {
   "cell_type": "code",
   "execution_count": 1,
   "id": "caf2ee5b-7bc3-4085-879c-cfbd7368d0f5",
   "metadata": {
    "execution": {
     "iopub.execute_input": "2021-12-11T02:08:09.825784Z",
     "iopub.status.busy": "2021-12-11T02:08:09.824756Z",
     "iopub.status.idle": "2021-12-11T02:08:10.236530Z",
     "shell.execute_reply": "2021-12-11T02:08:10.236530Z",
     "shell.execute_reply.started": "2021-12-11T02:08:09.825784Z"
    }
   },
   "outputs": [],
   "source": [
    "import pandas as pd\n",
    "import numpy as np\n",
    "import os\n",
    "from tqdm import tqdm"
   ]
  },
  {
   "cell_type": "code",
   "execution_count": 4,
   "id": "fa80f46b-6b1b-4699-93f9-d37066341f7f",
   "metadata": {
    "execution": {
     "iopub.execute_input": "2021-12-11T02:08:10.285230Z",
     "iopub.status.busy": "2021-12-11T02:08:10.284231Z",
     "iopub.status.idle": "2021-12-11T02:08:10.316210Z",
     "shell.execute_reply": "2021-12-11T02:08:10.315183Z",
     "shell.execute_reply.started": "2021-12-11T02:08:10.285230Z"
    },
    "tags": []
   },
   "outputs": [
    {
     "data": {
      "text/html": [
       "<div>\n",
       "<style scoped>\n",
       "    .dataframe tbody tr th:only-of-type {\n",
       "        vertical-align: middle;\n",
       "    }\n",
       "\n",
       "    .dataframe tbody tr th {\n",
       "        vertical-align: top;\n",
       "    }\n",
       "\n",
       "    .dataframe thead th {\n",
       "        text-align: right;\n",
       "    }\n",
       "</style>\n",
       "<table border=\"1\" class=\"dataframe\">\n",
       "  <thead>\n",
       "    <tr style=\"text-align: right;\">\n",
       "      <th></th>\n",
       "      <th>Unnamed: 0</th>\n",
       "      <th>Freeway_TAAS</th>\n",
       "      <th>Section_TAAS</th>\n",
       "      <th>도로단축명</th>\n",
       "      <th>콘존명</th>\n",
       "    </tr>\n",
       "  </thead>\n",
       "  <tbody>\n",
       "    <tr>\n",
       "      <th>0</th>\n",
       "      <td>0</td>\n",
       "      <td>경부고속도로</td>\n",
       "      <td>건천IC-건천IC</td>\n",
       "      <td>경부선</td>\n",
       "      <td>건천IC-건천IC</td>\n",
       "    </tr>\n",
       "    <tr>\n",
       "      <th>1</th>\n",
       "      <td>1</td>\n",
       "      <td>경부고속도로</td>\n",
       "      <td>건천IC-경주IC</td>\n",
       "      <td>경부선</td>\n",
       "      <td>건천IC-경주IC</td>\n",
       "    </tr>\n",
       "    <tr>\n",
       "      <th>2</th>\n",
       "      <td>2</td>\n",
       "      <td>경부고속도로</td>\n",
       "      <td>건천IC-영천JC</td>\n",
       "      <td>경부선</td>\n",
       "      <td>건천IC-영천JC</td>\n",
       "    </tr>\n",
       "  </tbody>\n",
       "</table>\n",
       "</div>"
      ],
      "text/plain": [
       "   Unnamed: 0 Freeway_TAAS Section_TAAS 도로단축명        콘존명\n",
       "0           0       경부고속도로    건천IC-건천IC   경부선  건천IC-건천IC\n",
       "1           1       경부고속도로    건천IC-경주IC   경부선  건천IC-경주IC\n",
       "2           2       경부고속도로    건천IC-영천JC   경부선  건천IC-영천JC"
      ]
     },
     "execution_count": 4,
     "metadata": {},
     "output_type": "execute_result"
    }
   ],
   "source": [
    "sectionlist = pd.read_csv('data/DangerIndex/Freeway_Section_list_TAAS.csv', encoding = 'cp949')\n",
    "sectionlist.head(3)"
   ]
  },
  {
   "cell_type": "code",
   "execution_count": 5,
   "id": "7f1e2b68-4448-4602-91b1-84f26a1b1862",
   "metadata": {
    "execution": {
     "iopub.execute_input": "2021-12-11T02:08:10.316210Z",
     "iopub.status.busy": "2021-12-11T02:08:10.316210Z",
     "iopub.status.idle": "2021-12-11T02:08:10.363250Z",
     "shell.execute_reply": "2021-12-11T02:08:10.362278Z",
     "shell.execute_reply.started": "2021-12-11T02:08:10.316210Z"
    },
    "tags": []
   },
   "outputs": [
    {
     "data": {
      "text/html": [
       "<div>\n",
       "<style scoped>\n",
       "    .dataframe tbody tr th:only-of-type {\n",
       "        vertical-align: middle;\n",
       "    }\n",
       "\n",
       "    .dataframe tbody tr th {\n",
       "        vertical-align: top;\n",
       "    }\n",
       "\n",
       "    .dataframe thead th {\n",
       "        text-align: right;\n",
       "    }\n",
       "</style>\n",
       "<table border=\"1\" class=\"dataframe\">\n",
       "  <thead>\n",
       "    <tr style=\"text-align: right;\">\n",
       "      <th></th>\n",
       "      <th>Unnamed: 0</th>\n",
       "      <th>콘존ID</th>\n",
       "      <th>콘존길이</th>\n",
       "      <th>콘존명</th>\n",
       "      <th>노선번호</th>\n",
       "      <th>도로명</th>\n",
       "      <th>도로단축명</th>\n",
       "      <th>도로표출명</th>\n",
       "      <th>기점종점방향구분코드</th>\n",
       "      <th>시점명</th>\n",
       "      <th>...</th>\n",
       "      <th>시작노드ID</th>\n",
       "      <th>종료노드ID</th>\n",
       "      <th>시작노드_도로이정</th>\n",
       "      <th>종료노드_도로이정</th>\n",
       "      <th>차로수</th>\n",
       "      <th>버스전용차로유무</th>\n",
       "      <th>도로등급구분코드</th>\n",
       "      <th>제한속도</th>\n",
       "      <th>소통원활기준속도</th>\n",
       "      <th>정체기준속도</th>\n",
       "    </tr>\n",
       "  </thead>\n",
       "  <tbody>\n",
       "    <tr>\n",
       "      <th>0</th>\n",
       "      <td>0</td>\n",
       "      <td>0010CZE005</td>\n",
       "      <td>200.0</td>\n",
       "      <td>경부고속국도시점-구서IC</td>\n",
       "      <td>10</td>\n",
       "      <td>경부선</td>\n",
       "      <td>경부선</td>\n",
       "      <td>경부</td>\n",
       "      <td>E</td>\n",
       "      <td>부산</td>\n",
       "      <td>...</td>\n",
       "      <td>491</td>\n",
       "      <td>4</td>\n",
       "      <td>0.00</td>\n",
       "      <td>0.20</td>\n",
       "      <td>3.0</td>\n",
       "      <td>0</td>\n",
       "      <td>101</td>\n",
       "      <td>100.0</td>\n",
       "      <td>80</td>\n",
       "      <td>40</td>\n",
       "    </tr>\n",
       "    <tr>\n",
       "      <th>1</th>\n",
       "      <td>1</td>\n",
       "      <td>0010CZE010</td>\n",
       "      <td>1820.0</td>\n",
       "      <td>구서IC-영락IC</td>\n",
       "      <td>10</td>\n",
       "      <td>경부선</td>\n",
       "      <td>경부선</td>\n",
       "      <td>경부</td>\n",
       "      <td>E</td>\n",
       "      <td>부산</td>\n",
       "      <td>...</td>\n",
       "      <td>4</td>\n",
       "      <td>446</td>\n",
       "      <td>0.20</td>\n",
       "      <td>2.02</td>\n",
       "      <td>3.0</td>\n",
       "      <td>0</td>\n",
       "      <td>101</td>\n",
       "      <td>100.0</td>\n",
       "      <td>80</td>\n",
       "      <td>40</td>\n",
       "    </tr>\n",
       "    <tr>\n",
       "      <th>2</th>\n",
       "      <td>2</td>\n",
       "      <td>0010CZE011</td>\n",
       "      <td>1990.0</td>\n",
       "      <td>영락IC-부산TG</td>\n",
       "      <td>10</td>\n",
       "      <td>경부선</td>\n",
       "      <td>경부선</td>\n",
       "      <td>경부</td>\n",
       "      <td>E</td>\n",
       "      <td>부산</td>\n",
       "      <td>...</td>\n",
       "      <td>446</td>\n",
       "      <td>486</td>\n",
       "      <td>2.02</td>\n",
       "      <td>4.01</td>\n",
       "      <td>3.0</td>\n",
       "      <td>0</td>\n",
       "      <td>101</td>\n",
       "      <td>100.0</td>\n",
       "      <td>80</td>\n",
       "      <td>40</td>\n",
       "    </tr>\n",
       "  </tbody>\n",
       "</table>\n",
       "<p>3 rows × 22 columns</p>\n",
       "</div>"
      ],
      "text/plain": [
       "   Unnamed: 0        콘존ID    콘존길이            콘존명  노선번호  도로명 도로단축명 도로표출명  \\\n",
       "0           0  0010CZE005   200.0  경부고속국도시점-구서IC    10  경부선   경부선    경부   \n",
       "1           1  0010CZE010  1820.0      구서IC-영락IC    10  경부선   경부선    경부   \n",
       "2           2  0010CZE011  1990.0      영락IC-부산TG    10  경부선   경부선    경부   \n",
       "\n",
       "  기점종점방향구분코드 시점명  ... 시작노드ID  종료노드ID 시작노드_도로이정 종료노드_도로이정  차로수  버스전용차로유무  \\\n",
       "0          E  부산  ...    491       4      0.00      0.20  3.0         0   \n",
       "1          E  부산  ...      4     446      0.20      2.02  3.0         0   \n",
       "2          E  부산  ...    446     486      2.02      4.01  3.0         0   \n",
       "\n",
       "   도로등급구분코드   제한속도 소통원활기준속도  정체기준속도  \n",
       "0       101  100.0       80      40  \n",
       "1       101  100.0       80      40  \n",
       "2       101  100.0       80      40  \n",
       "\n",
       "[3 rows x 22 columns]"
      ]
     },
     "execution_count": 5,
     "metadata": {},
     "output_type": "execute_result"
    }
   ],
   "source": [
    "conzonelist = pd.read_csv('data/Basic/info_total.csv', encoding = 'cp949')\n",
    "conzonelist.head(3)"
   ]
  },
  {
   "cell_type": "code",
   "execution_count": 6,
   "id": "f5dea9c2-e827-4cbb-91ba-3ea41f12ed0c",
   "metadata": {
    "execution": {
     "iopub.execute_input": "2021-12-11T02:08:10.363250Z",
     "iopub.status.busy": "2021-12-11T02:08:10.363250Z",
     "iopub.status.idle": "2021-12-11T02:08:10.394343Z",
     "shell.execute_reply": "2021-12-11T02:08:10.393343Z",
     "shell.execute_reply.started": "2021-12-11T02:08:10.363250Z"
    }
   },
   "outputs": [],
   "source": [
    "czsec = pd.merge(sectionlist, conzonelist, how = 'left',\n",
    "                left_on = ['도로단축명', '콘존명'], right_on = ['도로단축명', '콘존명'])"
   ]
  },
  {
   "cell_type": "code",
   "execution_count": 7,
   "id": "f2b25629-4ebc-42eb-bfa0-cd33de1b7901",
   "metadata": {
    "execution": {
     "iopub.execute_input": "2021-12-11T02:08:10.395366Z",
     "iopub.status.busy": "2021-12-11T02:08:10.394343Z",
     "iopub.status.idle": "2021-12-11T02:08:10.425258Z",
     "shell.execute_reply": "2021-12-11T02:08:10.425258Z",
     "shell.execute_reply.started": "2021-12-11T02:08:10.395366Z"
    },
    "tags": []
   },
   "outputs": [
    {
     "data": {
      "text/html": [
       "<div>\n",
       "<style scoped>\n",
       "    .dataframe tbody tr th:only-of-type {\n",
       "        vertical-align: middle;\n",
       "    }\n",
       "\n",
       "    .dataframe tbody tr th {\n",
       "        vertical-align: top;\n",
       "    }\n",
       "\n",
       "    .dataframe thead th {\n",
       "        text-align: right;\n",
       "    }\n",
       "</style>\n",
       "<table border=\"1\" class=\"dataframe\">\n",
       "  <thead>\n",
       "    <tr style=\"text-align: right;\">\n",
       "      <th></th>\n",
       "      <th>Freeway_TAAS</th>\n",
       "      <th>Section_TAAS</th>\n",
       "      <th>도로단축명</th>\n",
       "      <th>콘존명</th>\n",
       "      <th>기점종점방향구분코드</th>\n",
       "    </tr>\n",
       "  </thead>\n",
       "  <tbody>\n",
       "    <tr>\n",
       "      <th>1</th>\n",
       "      <td>경부고속도로</td>\n",
       "      <td>건천IC-경주IC</td>\n",
       "      <td>경부선</td>\n",
       "      <td>건천IC-경주IC</td>\n",
       "      <td>S</td>\n",
       "    </tr>\n",
       "    <tr>\n",
       "      <th>2</th>\n",
       "      <td>경부고속도로</td>\n",
       "      <td>건천IC-영천JC</td>\n",
       "      <td>경부선</td>\n",
       "      <td>건천IC-영천JC</td>\n",
       "      <td>E</td>\n",
       "    </tr>\n",
       "    <tr>\n",
       "      <th>7</th>\n",
       "      <td>경부고속도로</td>\n",
       "      <td>경산IC-동대구JC</td>\n",
       "      <td>경부선</td>\n",
       "      <td>경산IC-동대구JC</td>\n",
       "      <td>E</td>\n",
       "    </tr>\n",
       "  </tbody>\n",
       "</table>\n",
       "</div>"
      ],
      "text/plain": [
       "  Freeway_TAAS Section_TAAS 도로단축명         콘존명 기점종점방향구분코드\n",
       "1       경부고속도로    건천IC-경주IC   경부선   건천IC-경주IC          S\n",
       "2       경부고속도로    건천IC-영천JC   경부선   건천IC-영천JC          E\n",
       "7       경부고속도로   경산IC-동대구JC   경부선  경산IC-동대구JC          E"
      ]
     },
     "execution_count": 7,
     "metadata": {},
     "output_type": "execute_result"
    }
   ],
   "source": [
    "czsec = czsec.dropna(axis = 0)[['Freeway_TAAS', 'Section_TAAS', '도로단축명', '콘존명', '기점종점방향구분코드']].drop_duplicates()\n",
    "czsec.head(3)"
   ]
  },
  {
   "cell_type": "code",
   "execution_count": 8,
   "id": "a8eac649-a5cd-4002-bb5b-9fc914b28e42",
   "metadata": {
    "execution": {
     "iopub.execute_input": "2021-12-11T02:08:10.427253Z",
     "iopub.status.busy": "2021-12-11T02:08:10.426284Z",
     "iopub.status.idle": "2021-12-11T02:08:10.441382Z",
     "shell.execute_reply": "2021-12-11T02:08:10.440385Z",
     "shell.execute_reply.started": "2021-12-11T02:08:10.426284Z"
    },
    "tags": []
   },
   "outputs": [],
   "source": [
    "czsec.to_csv('data/DangerIndex/Freeway_Section_list_TAAS_direction.csv', encoding = 'cp949')"
   ]
  },
  {
   "cell_type": "code",
   "execution_count": 2,
   "id": "c21664b3-b1e6-4e50-a8ad-d87d735514c1",
   "metadata": {
    "execution": {
     "iopub.execute_input": "2021-12-11T02:08:10.237558Z",
     "iopub.status.busy": "2021-12-11T02:08:10.237558Z",
     "iopub.status.idle": "2021-12-11T02:08:10.252184Z",
     "shell.execute_reply": "2021-12-11T02:08:10.252184Z",
     "shell.execute_reply.started": "2021-12-11T02:08:10.237558Z"
    },
    "tags": []
   },
   "outputs": [],
   "source": [
    "DangerIndex = pd.read_csv('data/DangerIndex/Freeway_Danger_Index_edited.csv', encoding = 'cp949')"
   ]
  },
  {
   "cell_type": "code",
   "execution_count": 3,
   "id": "3c916380-d7ef-4996-bf75-b8b074e3d6c4",
   "metadata": {
    "execution": {
     "iopub.execute_input": "2021-12-11T02:08:10.254181Z",
     "iopub.status.busy": "2021-12-11T02:08:10.253213Z",
     "iopub.status.idle": "2021-12-11T02:08:10.283206Z",
     "shell.execute_reply": "2021-12-11T02:08:10.283206Z",
     "shell.execute_reply.started": "2021-12-11T02:08:10.254181Z"
    },
    "tags": []
   },
   "outputs": [
    {
     "data": {
      "text/html": [
       "<div>\n",
       "<style scoped>\n",
       "    .dataframe tbody tr th:only-of-type {\n",
       "        vertical-align: middle;\n",
       "    }\n",
       "\n",
       "    .dataframe tbody tr th {\n",
       "        vertical-align: top;\n",
       "    }\n",
       "\n",
       "    .dataframe thead th {\n",
       "        text-align: right;\n",
       "    }\n",
       "</style>\n",
       "<table border=\"1\" class=\"dataframe\">\n",
       "  <thead>\n",
       "    <tr style=\"text-align: right;\">\n",
       "      <th></th>\n",
       "      <th>Unnamed: 0</th>\n",
       "      <th>Freeway</th>\n",
       "      <th>Section</th>\n",
       "      <th>avg_idx</th>\n",
       "    </tr>\n",
       "  </thead>\n",
       "  <tbody>\n",
       "    <tr>\n",
       "      <th>0</th>\n",
       "      <td>0</td>\n",
       "      <td>경부고속도로</td>\n",
       "      <td>금토JC-신양재IC</td>\n",
       "      <td>4.171787</td>\n",
       "    </tr>\n",
       "    <tr>\n",
       "      <th>1</th>\n",
       "      <td>1</td>\n",
       "      <td>고창담양고속도로</td>\n",
       "      <td>담양JC-대덕JC</td>\n",
       "      <td>0.199993</td>\n",
       "    </tr>\n",
       "    <tr>\n",
       "      <th>2</th>\n",
       "      <td>2</td>\n",
       "      <td>고창담양고속도로</td>\n",
       "      <td>대덕JC-담양JC</td>\n",
       "      <td>0.195850</td>\n",
       "    </tr>\n",
       "  </tbody>\n",
       "</table>\n",
       "</div>"
      ],
      "text/plain": [
       "   Unnamed: 0   Freeway     Section   avg_idx\n",
       "0           0    경부고속도로  금토JC-신양재IC  4.171787\n",
       "1           1  고창담양고속도로   담양JC-대덕JC  0.199993\n",
       "2           2  고창담양고속도로   대덕JC-담양JC  0.195850"
      ]
     },
     "execution_count": 3,
     "metadata": {},
     "output_type": "execute_result"
    }
   ],
   "source": [
    "DangerIndex.head(3)"
   ]
  },
  {
   "cell_type": "code",
   "execution_count": 9,
   "id": "00b0d38c-719a-4994-9c4e-92e070b8d357",
   "metadata": {
    "execution": {
     "iopub.execute_input": "2021-12-11T02:09:14.906388Z",
     "iopub.status.busy": "2021-12-11T02:09:14.905391Z",
     "iopub.status.idle": "2021-12-11T02:09:14.918371Z",
     "shell.execute_reply": "2021-12-11T02:09:14.918371Z",
     "shell.execute_reply.started": "2021-12-11T02:09:14.906388Z"
    },
    "tags": []
   },
   "outputs": [],
   "source": [
    "DangerIndexMerged = pd.merge(DangerIndex, czsec, how = 'left',\n",
    "                            left_on = ['Freeway', 'Section'],\n",
    "                            right_on = ['Freeway_TAAS', 'Section_TAAS'])"
   ]
  },
  {
   "cell_type": "code",
   "execution_count": 10,
   "id": "5b57d8e4-b4a7-46b4-81e4-239be69c16b6",
   "metadata": {
    "execution": {
     "iopub.execute_input": "2021-12-11T02:09:22.291465Z",
     "iopub.status.busy": "2021-12-11T02:09:22.291465Z",
     "iopub.status.idle": "2021-12-11T02:09:22.308448Z",
     "shell.execute_reply": "2021-12-11T02:09:22.308448Z",
     "shell.execute_reply.started": "2021-12-11T02:09:22.291465Z"
    },
    "tags": []
   },
   "outputs": [
    {
     "data": {
      "text/html": [
       "<div>\n",
       "<style scoped>\n",
       "    .dataframe tbody tr th:only-of-type {\n",
       "        vertical-align: middle;\n",
       "    }\n",
       "\n",
       "    .dataframe tbody tr th {\n",
       "        vertical-align: top;\n",
       "    }\n",
       "\n",
       "    .dataframe thead th {\n",
       "        text-align: right;\n",
       "    }\n",
       "</style>\n",
       "<table border=\"1\" class=\"dataframe\">\n",
       "  <thead>\n",
       "    <tr style=\"text-align: right;\">\n",
       "      <th></th>\n",
       "      <th>Unnamed: 0</th>\n",
       "      <th>Freeway</th>\n",
       "      <th>Section</th>\n",
       "      <th>avg_idx</th>\n",
       "      <th>Freeway_TAAS</th>\n",
       "      <th>Section_TAAS</th>\n",
       "      <th>도로단축명</th>\n",
       "      <th>콘존명</th>\n",
       "      <th>기점종점방향구분코드</th>\n",
       "    </tr>\n",
       "  </thead>\n",
       "  <tbody>\n",
       "    <tr>\n",
       "      <th>0</th>\n",
       "      <td>0</td>\n",
       "      <td>경부고속도로</td>\n",
       "      <td>금토JC-신양재IC</td>\n",
       "      <td>4.171787</td>\n",
       "      <td>경부고속도로</td>\n",
       "      <td>금토JC-신양재IC</td>\n",
       "      <td>경부선</td>\n",
       "      <td>금토JC-양재IC</td>\n",
       "      <td>E</td>\n",
       "    </tr>\n",
       "    <tr>\n",
       "      <th>1</th>\n",
       "      <td>1</td>\n",
       "      <td>고창담양고속도로</td>\n",
       "      <td>담양JC-대덕JC</td>\n",
       "      <td>0.199993</td>\n",
       "      <td>고창담양고속도로</td>\n",
       "      <td>담양JC-대덕JC</td>\n",
       "      <td>고창담양선</td>\n",
       "      <td>담양JC-대덕JC</td>\n",
       "      <td>E</td>\n",
       "    </tr>\n",
       "    <tr>\n",
       "      <th>2</th>\n",
       "      <td>2</td>\n",
       "      <td>고창담양고속도로</td>\n",
       "      <td>대덕JC-담양JC</td>\n",
       "      <td>0.195850</td>\n",
       "      <td>고창담양고속도로</td>\n",
       "      <td>대덕JC-담양JC</td>\n",
       "      <td>고창담양선</td>\n",
       "      <td>대덕JC-담양JC</td>\n",
       "      <td>S</td>\n",
       "    </tr>\n",
       "  </tbody>\n",
       "</table>\n",
       "</div>"
      ],
      "text/plain": [
       "   Unnamed: 0   Freeway     Section   avg_idx Freeway_TAAS Section_TAAS  \\\n",
       "0           0    경부고속도로  금토JC-신양재IC  4.171787       경부고속도로   금토JC-신양재IC   \n",
       "1           1  고창담양고속도로   담양JC-대덕JC  0.199993     고창담양고속도로    담양JC-대덕JC   \n",
       "2           2  고창담양고속도로   대덕JC-담양JC  0.195850     고창담양고속도로    대덕JC-담양JC   \n",
       "\n",
       "   도로단축명        콘존명 기점종점방향구분코드  \n",
       "0    경부선  금토JC-양재IC          E  \n",
       "1  고창담양선  담양JC-대덕JC          E  \n",
       "2  고창담양선  대덕JC-담양JC          S  "
      ]
     },
     "execution_count": 10,
     "metadata": {},
     "output_type": "execute_result"
    }
   ],
   "source": [
    "DangerIndexMerged.head(3)"
   ]
  },
  {
   "cell_type": "code",
   "execution_count": 11,
   "id": "19d11404-9aa9-490d-b909-77e3508f4eee",
   "metadata": {
    "execution": {
     "iopub.execute_input": "2021-12-11T02:10:00.691462Z",
     "iopub.status.busy": "2021-12-11T02:10:00.691462Z",
     "iopub.status.idle": "2021-12-11T02:10:00.702437Z",
     "shell.execute_reply": "2021-12-11T02:10:00.701438Z",
     "shell.execute_reply.started": "2021-12-11T02:10:00.691462Z"
    },
    "tags": []
   },
   "outputs": [],
   "source": [
    "DangerIndexMerged.to_csv('data/DangerIndex/Freeway_Danger_Index_edited_merged.csv', encoding = 'cp949')"
   ]
  }
 ],
 "metadata": {
  "kernelspec": {
   "display_name": "Python 3",
   "language": "python",
   "name": "python3"
  },
  "language_info": {
   "codemirror_mode": {
    "name": "ipython",
    "version": 3
   },
   "file_extension": ".py",
   "mimetype": "text/x-python",
   "name": "python",
   "nbconvert_exporter": "python",
   "pygments_lexer": "ipython3",
   "version": "3.8.8"
  }
 },
 "nbformat": 4,
 "nbformat_minor": 5
}
