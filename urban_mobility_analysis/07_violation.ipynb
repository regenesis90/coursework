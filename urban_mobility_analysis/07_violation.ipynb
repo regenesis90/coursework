{
 "cells": [
  {
   "cell_type": "markdown",
   "id": "d37c48c7-e571-4db5-a339-be23738cfd2d",
   "metadata": {},
   "source": [
    "# VIOLATION : 시간대별 평균값을 양산할 필요"
   ]
  },
  {
   "cell_type": "code",
   "execution_count": 1,
   "id": "16d0d317-a0c2-46f3-a295-92d8719ac722",
   "metadata": {
    "execution": {
     "iopub.execute_input": "2021-12-11T02:26:49.092243Z",
     "iopub.status.busy": "2021-12-11T02:26:49.092243Z",
     "iopub.status.idle": "2021-12-11T02:26:49.501144Z",
     "shell.execute_reply": "2021-12-11T02:26:49.501144Z",
     "shell.execute_reply.started": "2021-12-11T02:26:49.092243Z"
    }
   },
   "outputs": [],
   "source": [
    "import pandas as pd\n",
    "import numpy as np\n",
    "import os"
   ]
  },
  {
   "cell_type": "code",
   "execution_count": 2,
   "id": "80beaac4-fcb5-4c00-8fdb-21b5f9f12ccd",
   "metadata": {
    "execution": {
     "iopub.execute_input": "2021-12-11T02:27:51.252519Z",
     "iopub.status.busy": "2021-12-11T02:27:51.252519Z",
     "iopub.status.idle": "2021-12-11T02:27:51.616229Z",
     "shell.execute_reply": "2021-12-11T02:27:51.616229Z",
     "shell.execute_reply.started": "2021-12-11T02:27:51.252519Z"
    }
   },
   "outputs": [],
   "source": [
    "violation_dir = 'data/violations'\n",
    "violation_file = 'violations_merged_02.csv'\n",
    "violation_path = os.path.join(violation_dir, violation_file)\n",
    "\n",
    "violation = pd.read_csv(violation_path, encoding = 'cp949')"
   ]
  },
  {
   "cell_type": "code",
   "execution_count": 3,
   "id": "71ce6767-ab07-4ecf-a128-31f8cb595102",
   "metadata": {
    "execution": {
     "iopub.execute_input": "2021-12-11T02:27:55.172589Z",
     "iopub.status.busy": "2021-12-11T02:27:55.172589Z",
     "iopub.status.idle": "2021-12-11T02:27:55.195528Z",
     "shell.execute_reply": "2021-12-11T02:27:55.195528Z",
     "shell.execute_reply.started": "2021-12-11T02:27:55.172589Z"
    },
    "tags": []
   },
   "outputs": [
    {
     "data": {
      "text/html": [
       "<div>\n",
       "<style scoped>\n",
       "    .dataframe tbody tr th:only-of-type {\n",
       "        vertical-align: middle;\n",
       "    }\n",
       "\n",
       "    .dataframe tbody tr th {\n",
       "        vertical-align: top;\n",
       "    }\n",
       "\n",
       "    .dataframe thead th {\n",
       "        text-align: right;\n",
       "    }\n",
       "</style>\n",
       "<table border=\"1\" class=\"dataframe\">\n",
       "  <thead>\n",
       "    <tr style=\"text-align: right;\">\n",
       "      <th></th>\n",
       "      <th>Unnamed: 0</th>\n",
       "      <th>Unnamed: 0.1</th>\n",
       "      <th>Unnamed: 0.1.1</th>\n",
       "      <th>date</th>\n",
       "      <th>routeNo</th>\n",
       "      <th>direction</th>\n",
       "      <th>conzoneId</th>\n",
       "      <th>conzoneNm</th>\n",
       "      <th>laneNum</th>\n",
       "      <th>oTime</th>\n",
       "      <th>busLaneGubun</th>\n",
       "      <th>totalTF_1</th>\n",
       "      <th>violationTF_1</th>\n",
       "      <th>totalTF_HV</th>\n",
       "      <th>violationTF_HV</th>\n",
       "      <th>totalTF</th>\n",
       "      <th>violationTF</th>\n",
       "      <th>total_ViolationRate</th>\n",
       "      <th>HV_ViolationRate</th>\n",
       "      <th>time</th>\n",
       "    </tr>\n",
       "  </thead>\n",
       "  <tbody>\n",
       "    <tr>\n",
       "      <th>0</th>\n",
       "      <td>0</td>\n",
       "      <td>0</td>\n",
       "      <td>0</td>\n",
       "      <td>20170730</td>\n",
       "      <td>450</td>\n",
       "      <td>E</td>\n",
       "      <td>0450CZE240</td>\n",
       "      <td>여주JC-남여주IC</td>\n",
       "      <td>1</td>\n",
       "      <td>07:00</td>\n",
       "      <td>전용</td>\n",
       "      <td>15</td>\n",
       "      <td>0</td>\n",
       "      <td>0</td>\n",
       "      <td>0</td>\n",
       "      <td>15</td>\n",
       "      <td>0</td>\n",
       "      <td>0.0</td>\n",
       "      <td>0.0</td>\n",
       "      <td>06-09</td>\n",
       "    </tr>\n",
       "    <tr>\n",
       "      <th>1</th>\n",
       "      <td>1</td>\n",
       "      <td>1</td>\n",
       "      <td>1</td>\n",
       "      <td>20170730</td>\n",
       "      <td>450</td>\n",
       "      <td>E</td>\n",
       "      <td>0450CZE240</td>\n",
       "      <td>여주JC-남여주IC</td>\n",
       "      <td>1</td>\n",
       "      <td>07:15</td>\n",
       "      <td>전용</td>\n",
       "      <td>7</td>\n",
       "      <td>0</td>\n",
       "      <td>0</td>\n",
       "      <td>0</td>\n",
       "      <td>7</td>\n",
       "      <td>0</td>\n",
       "      <td>0.0</td>\n",
       "      <td>0.0</td>\n",
       "      <td>06-09</td>\n",
       "    </tr>\n",
       "    <tr>\n",
       "      <th>2</th>\n",
       "      <td>2</td>\n",
       "      <td>2</td>\n",
       "      <td>2</td>\n",
       "      <td>20170730</td>\n",
       "      <td>450</td>\n",
       "      <td>E</td>\n",
       "      <td>0450CZE240</td>\n",
       "      <td>여주JC-남여주IC</td>\n",
       "      <td>1</td>\n",
       "      <td>07:30</td>\n",
       "      <td>전용</td>\n",
       "      <td>9</td>\n",
       "      <td>0</td>\n",
       "      <td>4</td>\n",
       "      <td>0</td>\n",
       "      <td>13</td>\n",
       "      <td>0</td>\n",
       "      <td>0.0</td>\n",
       "      <td>0.0</td>\n",
       "      <td>06-09</td>\n",
       "    </tr>\n",
       "  </tbody>\n",
       "</table>\n",
       "</div>"
      ],
      "text/plain": [
       "   Unnamed: 0  Unnamed: 0.1  Unnamed: 0.1.1      date  routeNo direction  \\\n",
       "0           0             0               0  20170730      450         E   \n",
       "1           1             1               1  20170730      450         E   \n",
       "2           2             2               2  20170730      450         E   \n",
       "\n",
       "    conzoneId   conzoneNm  laneNum  oTime busLaneGubun  totalTF_1  \\\n",
       "0  0450CZE240  여주JC-남여주IC        1  07:00           전용         15   \n",
       "1  0450CZE240  여주JC-남여주IC        1  07:15           전용          7   \n",
       "2  0450CZE240  여주JC-남여주IC        1  07:30           전용          9   \n",
       "\n",
       "   violationTF_1  totalTF_HV  violationTF_HV  totalTF  violationTF  \\\n",
       "0              0           0               0       15            0   \n",
       "1              0           0               0        7            0   \n",
       "2              0           4               0       13            0   \n",
       "\n",
       "   total_ViolationRate  HV_ViolationRate   time  \n",
       "0                  0.0               0.0  06-09  \n",
       "1                  0.0               0.0  06-09  \n",
       "2                  0.0               0.0  06-09  "
      ]
     },
     "execution_count": 3,
     "metadata": {},
     "output_type": "execute_result"
    }
   ],
   "source": [
    "violation.head(3)"
   ]
  },
  {
   "cell_type": "code",
   "execution_count": 10,
   "id": "e7bec4c6-beea-482e-bacd-a0ae89571fe6",
   "metadata": {
    "execution": {
     "iopub.execute_input": "2021-12-11T02:33:36.805692Z",
     "iopub.status.busy": "2021-12-11T02:33:36.804695Z",
     "iopub.status.idle": "2021-12-11T02:33:36.930365Z",
     "shell.execute_reply": "2021-12-11T02:33:36.929396Z",
     "shell.execute_reply.started": "2021-12-11T02:33:36.805692Z"
    },
    "tags": []
   },
   "outputs": [
    {
     "data": {
      "text/html": [
       "<div>\n",
       "<style scoped>\n",
       "    .dataframe tbody tr th:only-of-type {\n",
       "        vertical-align: middle;\n",
       "    }\n",
       "\n",
       "    .dataframe tbody tr th {\n",
       "        vertical-align: top;\n",
       "    }\n",
       "\n",
       "    .dataframe thead th {\n",
       "        text-align: right;\n",
       "    }\n",
       "</style>\n",
       "<table border=\"1\" class=\"dataframe\">\n",
       "  <thead>\n",
       "    <tr style=\"text-align: right;\">\n",
       "      <th></th>\n",
       "      <th>date</th>\n",
       "      <th>routeNo</th>\n",
       "      <th>direction</th>\n",
       "      <th>conzoneId</th>\n",
       "      <th>conzoneNm</th>\n",
       "      <th>busLaneGubun</th>\n",
       "      <th>time</th>\n",
       "      <th>totalTF</th>\n",
       "      <th>totalTF_1</th>\n",
       "      <th>totalTF_HV</th>\n",
       "      <th>violationTF</th>\n",
       "      <th>violationTF_1</th>\n",
       "      <th>violationTF_HV</th>\n",
       "    </tr>\n",
       "  </thead>\n",
       "  <tbody>\n",
       "    <tr>\n",
       "      <th>0</th>\n",
       "      <td>20170730</td>\n",
       "      <td>450</td>\n",
       "      <td>E</td>\n",
       "      <td>0450CZE240</td>\n",
       "      <td>여주JC-남여주IC</td>\n",
       "      <td>전용</td>\n",
       "      <td>06-09</td>\n",
       "      <td>496</td>\n",
       "      <td>394</td>\n",
       "      <td>102</td>\n",
       "      <td>0</td>\n",
       "      <td>0</td>\n",
       "      <td>0</td>\n",
       "    </tr>\n",
       "    <tr>\n",
       "      <th>1</th>\n",
       "      <td>20170730</td>\n",
       "      <td>450</td>\n",
       "      <td>E</td>\n",
       "      <td>0450CZE240</td>\n",
       "      <td>여주JC-남여주IC</td>\n",
       "      <td>전용</td>\n",
       "      <td>09-12</td>\n",
       "      <td>1596</td>\n",
       "      <td>1406</td>\n",
       "      <td>190</td>\n",
       "      <td>0</td>\n",
       "      <td>0</td>\n",
       "      <td>0</td>\n",
       "    </tr>\n",
       "    <tr>\n",
       "      <th>2</th>\n",
       "      <td>20170730</td>\n",
       "      <td>450</td>\n",
       "      <td>E</td>\n",
       "      <td>0450CZE240</td>\n",
       "      <td>여주JC-남여주IC</td>\n",
       "      <td>전용</td>\n",
       "      <td>12-15</td>\n",
       "      <td>2101</td>\n",
       "      <td>1928</td>\n",
       "      <td>173</td>\n",
       "      <td>0</td>\n",
       "      <td>0</td>\n",
       "      <td>0</td>\n",
       "    </tr>\n",
       "  </tbody>\n",
       "</table>\n",
       "</div>"
      ],
      "text/plain": [
       "       date  routeNo direction   conzoneId   conzoneNm busLaneGubun   time  \\\n",
       "0  20170730      450         E  0450CZE240  여주JC-남여주IC           전용  06-09   \n",
       "1  20170730      450         E  0450CZE240  여주JC-남여주IC           전용  09-12   \n",
       "2  20170730      450         E  0450CZE240  여주JC-남여주IC           전용  12-15   \n",
       "\n",
       "   totalTF  totalTF_1  totalTF_HV  violationTF  violationTF_1  violationTF_HV  \n",
       "0      496        394         102            0              0               0  \n",
       "1     1596       1406         190            0              0               0  \n",
       "2     2101       1928         173            0              0               0  "
      ]
     },
     "execution_count": 10,
     "metadata": {},
     "output_type": "execute_result"
    }
   ],
   "source": [
    "pv = pd.pivot_table(\n",
    "    violation,\n",
    "    index = ['date', 'routeNo', 'direction', 'conzoneId', 'conzoneNm', 'busLaneGubun', 'time'],\n",
    "    aggfunc = 'sum'\n",
    ")\n",
    "\n",
    "pv = pv.reset_index().drop(['Unnamed: 0', 'Unnamed: 0.1', 'Unnamed: 0.1.1', 'laneNum', 'total_ViolationRate', 'HV_ViolationRate'], axis = 'columns')\n",
    "\n",
    "pv.head(3)"
   ]
  },
  {
   "cell_type": "code",
   "execution_count": 21,
   "id": "3f17701a-a943-4854-a5f1-8594d1fde45f",
   "metadata": {
    "execution": {
     "iopub.execute_input": "2021-12-11T02:38:04.910622Z",
     "iopub.status.busy": "2021-12-11T02:38:04.910622Z",
     "iopub.status.idle": "2021-12-11T02:38:04.917455Z",
     "shell.execute_reply": "2021-12-11T02:38:04.916636Z",
     "shell.execute_reply.started": "2021-12-11T02:38:04.910622Z"
    },
    "tags": []
   },
   "outputs": [],
   "source": [
    "pv['total_ViolationRate'] = pv['violationTF']/pv['totalTF']\n",
    "pv['HV_ViolationRate'] = pv['violationTF_HV']/pv['totalTF_HV']\n",
    "\n",
    "pv = pv.fillna(0)"
   ]
  },
  {
   "cell_type": "code",
   "execution_count": 22,
   "id": "4c7f2e7e-4ea0-4689-88e0-0d2e0e5ff5a5",
   "metadata": {
    "execution": {
     "iopub.execute_input": "2021-12-11T02:38:06.602154Z",
     "iopub.status.busy": "2021-12-11T02:38:06.602154Z",
     "iopub.status.idle": "2021-12-11T02:38:06.612141Z",
     "shell.execute_reply": "2021-12-11T02:38:06.611160Z",
     "shell.execute_reply.started": "2021-12-11T02:38:06.602154Z"
    },
    "tags": []
   },
   "outputs": [],
   "source": [
    "save_file = 'violations_merged_03.csv'\n",
    "save_path = os.path.join(violation_dir, save_file)"
   ]
  },
  {
   "cell_type": "code",
   "execution_count": 23,
   "id": "e90be694-485c-47c7-a30b-0aa792449f56",
   "metadata": {
    "execution": {
     "iopub.execute_input": "2021-12-11T02:38:07.105026Z",
     "iopub.status.busy": "2021-12-11T02:38:07.105026Z",
     "iopub.status.idle": "2021-12-11T02:38:07.136559Z",
     "shell.execute_reply": "2021-12-11T02:38:07.136191Z",
     "shell.execute_reply.started": "2021-12-11T02:38:07.105026Z"
    },
    "tags": []
   },
   "outputs": [],
   "source": [
    "pv.to_csv(save_path, encoding = 'cp949')"
   ]
  }
 ],
 "metadata": {
  "kernelspec": {
   "display_name": "Python 3",
   "language": "python",
   "name": "python3"
  },
  "language_info": {
   "codemirror_mode": {
    "name": "ipython",
    "version": 3
   },
   "file_extension": ".py",
   "mimetype": "text/x-python",
   "name": "python",
   "nbconvert_exporter": "python",
   "pygments_lexer": "ipython3",
   "version": "3.8.8"
  }
 },
 "nbformat": 4,
 "nbformat_minor": 5
}
