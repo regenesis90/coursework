{
 "cells": [
  {
   "cell_type": "markdown",
   "id": "8d6e6b07-21ca-4f68-8008-89a3cd947953",
   "metadata": {},
   "source": [
    "# 1. Logit"
   ]
  },
  {
   "cell_type": "code",
   "execution_count": 223,
   "id": "012977c3-ea4b-4895-b9ef-f8e4b5546d7d",
   "metadata": {
    "execution": {
     "iopub.execute_input": "2023-03-23T08:29:22.001691Z",
     "iopub.status.busy": "2023-03-23T08:29:22.001691Z",
     "iopub.status.idle": "2023-03-23T08:29:22.580513Z",
     "shell.execute_reply": "2023-03-23T08:29:22.580513Z",
     "shell.execute_reply.started": "2023-03-23T08:29:22.001691Z"
    },
    "tags": []
   },
   "outputs": [],
   "source": [
    "import numpy as np\n",
    "import pandas as pd\n",
    "import os\n",
    "\n",
    "from tqdm import tqdm\n",
    "\n",
    "import scipy.optimize as op\n"
   ]
  },
  {
   "cell_type": "markdown",
   "id": "08f23ffe-fb54-4f5b-bf0d-f790b1fa64c2",
   "metadata": {},
   "source": [
    "## Load Dataset"
   ]
  },
  {
   "cell_type": "code",
   "execution_count": 1,
   "id": "d22492b1-92bb-4f83-964b-5796aede56ed",
   "metadata": {
    "execution": {
     "iopub.execute_input": "2023-03-23T06:18:45.885054Z",
     "iopub.status.busy": "2023-03-23T06:18:45.885054Z",
     "iopub.status.idle": "2023-03-23T06:18:45.897022Z",
     "shell.execute_reply": "2023-03-23T06:18:45.896062Z",
     "shell.execute_reply.started": "2023-03-23T06:18:45.885054Z"
    },
    "tags": []
   },
   "outputs": [],
   "source": [
    "data_path = 'D:/OneDrive - 연세대학교 (Yonsei University)/Lectures/2023-2_통행자행태모형/03_Logit/Data_combined.xlsx'"
   ]
  },
  {
   "cell_type": "code",
   "execution_count": 9,
   "id": "4e20b08a-4777-480f-a8fd-9ba92879ea7e",
   "metadata": {
    "execution": {
     "iopub.execute_input": "2023-03-23T06:20:33.738906Z",
     "iopub.status.busy": "2023-03-23T06:20:33.738906Z",
     "iopub.status.idle": "2023-03-23T06:20:34.270514Z",
     "shell.execute_reply": "2023-03-23T06:20:34.269834Z",
     "shell.execute_reply.started": "2023-03-23T06:20:33.738906Z"
    },
    "tags": []
   },
   "outputs": [],
   "source": [
    "df_c = pd.read_excel(data_path, sheet_name = 'Choice')\n",
    "df_p = pd.read_excel(data_path, sheet_name = 'Personal')\n",
    "#df_a = pd.read_excel(data_path, sheet_name = 'Attitude')"
   ]
  },
  {
   "cell_type": "code",
   "execution_count": 8,
   "id": "13070739-e5b7-4dfd-b306-e6d0c7533f0e",
   "metadata": {
    "execution": {
     "iopub.execute_input": "2023-03-23T06:20:02.523803Z",
     "iopub.status.busy": "2023-03-23T06:20:02.522805Z",
     "iopub.status.idle": "2023-03-23T06:20:02.542722Z",
     "shell.execute_reply": "2023-03-23T06:20:02.541729Z",
     "shell.execute_reply.started": "2023-03-23T06:20:02.523803Z"
    },
    "tags": []
   },
   "outputs": [
    {
     "data": {
      "text/plain": [
       "(     P_ID  Sit  Cset  Alti  ATime  Time  Fuel  Fare  Choice\n",
       " 0  207109    1     3     1      0    20  0.20   0.0       0\n",
       " 1  207109    1     3     2      2    25  0.15   0.0       1\n",
       " 2  207109    1     3     3      8    25  0.00   0.2       0,\n",
       " (3600, 9))"
      ]
     },
     "execution_count": 8,
     "metadata": {},
     "output_type": "execute_result"
    }
   ],
   "source": [
    "df_c.head(3), df_c.shape"
   ]
  },
  {
   "cell_type": "code",
   "execution_count": 10,
   "id": "7b227f2c-6128-4e37-b5a8-0774abfb56ef",
   "metadata": {
    "execution": {
     "iopub.execute_input": "2023-03-23T06:20:42.216156Z",
     "iopub.status.busy": "2023-03-23T06:20:42.215159Z",
     "iopub.status.idle": "2023-03-23T06:20:42.229122Z",
     "shell.execute_reply": "2023-03-23T06:20:42.228125Z",
     "shell.execute_reply.started": "2023-03-23T06:20:42.216156Z"
    },
    "tags": []
   },
   "outputs": [
    {
     "data": {
      "text/plain": [
       "(     P_ID  Gender  Age\n",
       " 0  207109       0   43\n",
       " 1  207238       1   37\n",
       " 2  207263       1   73,\n",
       " (300, 3))"
      ]
     },
     "execution_count": 10,
     "metadata": {},
     "output_type": "execute_result"
    }
   ],
   "source": [
    "df_p.head(3), df_p.shape"
   ]
  },
  {
   "cell_type": "markdown",
   "id": "e8d8d2df-9898-4fde-9511-6f2d48182ad9",
   "metadata": {},
   "source": [
    "## 속성별 Raw data 추출"
   ]
  },
  {
   "cell_type": "code",
   "execution_count": 39,
   "id": "d2fd6787-3d3f-4c96-9684-1f619ab57bfe",
   "metadata": {
    "execution": {
     "iopub.execute_input": "2023-03-23T06:32:07.814123Z",
     "iopub.status.busy": "2023-03-23T06:32:07.814123Z",
     "iopub.status.idle": "2023-03-23T06:32:07.828088Z",
     "shell.execute_reply": "2023-03-23T06:32:07.827088Z",
     "shell.execute_reply.started": "2023-03-23T06:32:07.814123Z"
    },
    "tags": []
   },
   "outputs": [],
   "source": [
    "Z = ['Age']# 개인의 사회경제적 변수\n",
    "X = ['ATime', 'Time', 'Fuel', 'Fare']# 대안 속성 변수\n",
    "Y = ['Choice'] # 선택지"
   ]
  },
  {
   "cell_type": "code",
   "execution_count": 96,
   "id": "89ef3af2-6a82-4982-9804-c9508c4dee30",
   "metadata": {
    "execution": {
     "iopub.execute_input": "2023-03-23T07:03:37.890599Z",
     "iopub.status.busy": "2023-03-23T07:03:37.889627Z",
     "iopub.status.idle": "2023-03-23T07:03:37.907555Z",
     "shell.execute_reply": "2023-03-23T07:03:37.906558Z",
     "shell.execute_reply.started": "2023-03-23T07:03:37.890599Z"
    },
    "tags": []
   },
   "outputs": [],
   "source": [
    "R_ZJ = np.array(df_p[Z]) #> (300, 1)\n",
    "# 개인의 사회경제적 속성이 변수에 미치는 영향. age 컬럼만 불러와서 numpy 배열로 만든다"
   ]
  },
  {
   "cell_type": "code",
   "execution_count": 41,
   "id": "7561efbe-630e-46cf-848c-00e83445bc6b",
   "metadata": {
    "execution": {
     "iopub.execute_input": "2023-03-23T06:32:11.032072Z",
     "iopub.status.busy": "2023-03-23T06:32:11.032072Z",
     "iopub.status.idle": "2023-03-23T06:32:11.046887Z",
     "shell.execute_reply": "2023-03-23T06:32:11.045885Z",
     "shell.execute_reply.started": "2023-03-23T06:32:11.032072Z"
    },
    "tags": []
   },
   "outputs": [],
   "source": [
    "R_XJ = np.array(df_c[X]) #> (3600 x 4)"
   ]
  },
  {
   "cell_type": "code",
   "execution_count": 42,
   "id": "c371d539-db6e-49d3-b4fd-0c57aa0b4e3a",
   "metadata": {
    "execution": {
     "iopub.execute_input": "2023-03-23T06:32:12.482173Z",
     "iopub.status.busy": "2023-03-23T06:32:12.482173Z",
     "iopub.status.idle": "2023-03-23T06:32:12.491124Z",
     "shell.execute_reply": "2023-03-23T06:32:12.490125Z",
     "shell.execute_reply.started": "2023-03-23T06:32:12.482173Z"
    },
    "tags": []
   },
   "outputs": [],
   "source": [
    "R_YJ = np.array(df_c[Y]) #> (3600 x 1)"
   ]
  },
  {
   "cell_type": "code",
   "execution_count": 43,
   "id": "2516f8a9-4ce2-4581-bc86-614f9d0455e3",
   "metadata": {
    "execution": {
     "iopub.execute_input": "2023-03-23T06:32:13.934720Z",
     "iopub.status.busy": "2023-03-23T06:32:13.934720Z",
     "iopub.status.idle": "2023-03-23T06:32:13.952644Z",
     "shell.execute_reply": "2023-03-23T06:32:13.951646Z",
     "shell.execute_reply.started": "2023-03-23T06:32:13.934720Z"
    },
    "tags": []
   },
   "outputs": [],
   "source": [
    "NofCset = 3 # Choice set이 3개임을 지정해 준다"
   ]
  },
  {
   "cell_type": "markdown",
   "id": "08d2c704-a868-4a2b-a9b8-7fd2bd675f00",
   "metadata": {},
   "source": [
    "## 주요변수 지정"
   ]
  },
  {
   "cell_type": "code",
   "execution_count": 51,
   "id": "28b78c5f-465e-4903-b8c8-0d0a7e00ed69",
   "metadata": {
    "execution": {
     "iopub.execute_input": "2023-03-23T06:35:55.995441Z",
     "iopub.status.busy": "2023-03-23T06:35:55.995441Z",
     "iopub.status.idle": "2023-03-23T06:35:56.012424Z",
     "shell.execute_reply": "2023-03-23T06:35:56.011436Z",
     "shell.execute_reply.started": "2023-03-23T06:35:55.995441Z"
    },
    "tags": []
   },
   "outputs": [],
   "source": [
    "NJ = NofCset # Number of Alternative\n",
    "NC = int(len(df_c)/NJ) # 선택지 개수\n",
    "NN = len(df_p) # 응답자 수 \n",
    "NT = int(NC/NN) # 1인당 몇 개 선택지를 갖는가?\n",
    "\n",
    "NZJ = len(Z) + 1 # 상수를 포함한다\n",
    "NX =  len(X) # X변수 길이"
   ]
  },
  {
   "cell_type": "markdown",
   "id": "122b6924-f8b7-481e-af03-811e7bebf045",
   "metadata": {},
   "source": [
    "## 차원 확대"
   ]
  },
  {
   "cell_type": "code",
   "execution_count": 58,
   "id": "77ad3d05-0242-497a-b94b-67baebd16317",
   "metadata": {
    "execution": {
     "iopub.execute_input": "2023-03-23T06:37:49.642483Z",
     "iopub.status.busy": "2023-03-23T06:37:49.642483Z",
     "iopub.status.idle": "2023-03-23T06:37:49.649040Z",
     "shell.execute_reply": "2023-03-23T06:37:49.649040Z",
     "shell.execute_reply.started": "2023-03-23T06:37:49.642483Z"
    },
    "tags": []
   },
   "outputs": [],
   "source": [
    "ZJ = np.zeros(shape = (NC, NJ, NZJ)) #> (1200, 3, 2)\n",
    "XJ = np.zeros(shape = (NC, NJ, NX)) #> (1200, 3, 4)\n",
    "YJ = np.zeros(shape = (NC, NJ)) #> (1200, 3)"
   ]
  },
  {
   "cell_type": "markdown",
   "id": "6cae75a5-4873-499b-91a7-cf1096cab783",
   "metadata": {},
   "source": [
    "## 차원 확장\n",
    "* MATLAB에서 `ZJ(:,1:(end-1),z)=repmat(R_ZJ(:,z-1),[1,NJ-1])`;\n",
    "    * 2D 배열 R_ZJ NJ-1의 (z-1)번째 열을 수평으로 복제하여 3D 배열 ZJ의 z번째 슬라이스 값을 설정\n",
    "    *  즉, ZJ의 처음 두 차원은 동일하게 유지되고 z번째 슬라이스의 마지막 열은 1로 설정된다."
   ]
  },
  {
   "cell_type": "code",
   "execution_count": 65,
   "id": "5e50a907-633d-444c-99d5-442261299c6c",
   "metadata": {
    "execution": {
     "iopub.execute_input": "2023-03-23T06:46:07.112336Z",
     "iopub.status.busy": "2023-03-23T06:46:07.112336Z",
     "iopub.status.idle": "2023-03-23T06:46:07.126249Z",
     "shell.execute_reply": "2023-03-23T06:46:07.125243Z",
     "shell.execute_reply.started": "2023-03-23T06:46:07.112336Z"
    },
    "tags": []
   },
   "outputs": [],
   "source": [
    "ZJ[:, :-1, 0] = 1"
   ]
  },
  {
   "cell_type": "code",
   "execution_count": 196,
   "id": "0c7e7678-5492-427f-ba69-2570eba88196",
   "metadata": {
    "execution": {
     "iopub.execute_input": "2023-03-23T07:57:55.679518Z",
     "iopub.status.busy": "2023-03-23T07:57:55.678522Z",
     "iopub.status.idle": "2023-03-23T07:57:55.688495Z",
     "shell.execute_reply": "2023-03-23T07:57:55.687525Z",
     "shell.execute_reply.started": "2023-03-23T07:57:55.679518Z"
    },
    "tags": []
   },
   "outputs": [],
   "source": [
    "if NT == 1:\n",
    "    for z in range(1, NZJ): #> 2번째 항목부터 NZJ 번째까지\n",
    "        ZJ[:, :-1, z] = np.tile(R_ZJ[:, z-1][:, None], (1, NJ-1))\n",
    "        \n",
    "else: # 선택지가 2개 이상인 경우\n",
    "    for z in range(1, NZJ):\n",
    "        k = 0\n",
    "        \n",
    "        for n in range(0, NC, NT):\n",
    "            ZJ[n:n+NT, :-1, z] = np.tile(R_ZJ[k, z-1], (NT, NJ-1))\n",
    "            k += 1 #> 여기까지는 ZJ Shape가 변하지 않는다. 계속 (1200, 3, 2) 여야 한다."
   ]
  },
  {
   "cell_type": "code",
   "execution_count": 210,
   "id": "e46dff63-7c5f-4ef8-bdd1-3db234c8ea75",
   "metadata": {
    "execution": {
     "iopub.execute_input": "2023-03-23T08:23:38.812088Z",
     "iopub.status.busy": "2023-03-23T08:23:38.811089Z",
     "iopub.status.idle": "2023-03-23T08:23:38.831035Z",
     "shell.execute_reply": "2023-03-23T08:23:38.830037Z",
     "shell.execute_reply.started": "2023-03-23T08:23:38.812088Z"
    },
    "tags": []
   },
   "outputs": [],
   "source": [
    "k = 0\n",
    "\n",
    "for n in range(NC): #> XJ : (1200, 3, 4) >> , YJ : (1200, 3) >> \n",
    "    XJ[n, :, :] = np.reshape(R_XJ[k:k+NJ, :], (1, NJ, NX))\n",
    "    YJ[n, :] = np.reshape(R_YJ[k:k+NJ, 0], (1, NJ))\n",
    "    \n",
    "    k += NJ"
   ]
  },
  {
   "cell_type": "markdown",
   "id": "b87875e9-8b03-446a-b304-fdf2782b18d7",
   "metadata": {},
   "source": [
    "## 파라미터 개수 불러오기"
   ]
  },
  {
   "cell_type": "code",
   "execution_count": 11,
   "id": "12bd2f14-d48a-4f14-86da-fd2df99633fb",
   "metadata": {
    "execution": {
     "iopub.execute_input": "2023-03-23T06:22:08.952615Z",
     "iopub.status.busy": "2023-03-23T06:22:08.951617Z",
     "iopub.status.idle": "2023-03-23T06:22:08.970668Z",
     "shell.execute_reply": "2023-03-23T06:22:08.969699Z",
     "shell.execute_reply.started": "2023-03-23T06:22:08.952615Z"
    },
    "tags": []
   },
   "outputs": [],
   "source": [
    "param_path = 'D:/OneDrive - 연세대학교 (Yonsei University)/Lectures/2023-2_통행자행태모형/03_Logit/Parameter_Set_Up_Logit.xlsx'"
   ]
  },
  {
   "cell_type": "code",
   "execution_count": 13,
   "id": "0888ad55-c53a-474b-8db6-e471e13c5af2",
   "metadata": {
    "execution": {
     "iopub.execute_input": "2023-03-23T06:22:45.202232Z",
     "iopub.status.busy": "2023-03-23T06:22:45.202232Z",
     "iopub.status.idle": "2023-03-23T06:22:45.220184Z",
     "shell.execute_reply": "2023-03-23T06:22:45.219188Z",
     "shell.execute_reply.started": "2023-03-23T06:22:45.202232Z"
    },
    "tags": []
   },
   "outputs": [],
   "source": [
    "df_param = pd.read_excel(param_path, sheet_name = 'Sheet1')"
   ]
  },
  {
   "cell_type": "code",
   "execution_count": 14,
   "id": "443ebf2b-f656-476c-9489-5cc59c1f5989",
   "metadata": {
    "execution": {
     "iopub.execute_input": "2023-03-23T06:22:47.664060Z",
     "iopub.status.busy": "2023-03-23T06:22:47.663062Z",
     "iopub.status.idle": "2023-03-23T06:22:47.674034Z",
     "shell.execute_reply": "2023-03-23T06:22:47.673036Z",
     "shell.execute_reply.started": "2023-03-23T06:22:47.664060Z"
    },
    "tags": []
   },
   "outputs": [
    {
     "data": {
      "text/html": [
       "<div>\n",
       "<style scoped>\n",
       "    .dataframe tbody tr th:only-of-type {\n",
       "        vertical-align: middle;\n",
       "    }\n",
       "\n",
       "    .dataframe tbody tr th {\n",
       "        vertical-align: top;\n",
       "    }\n",
       "\n",
       "    .dataframe thead th {\n",
       "        text-align: right;\n",
       "    }\n",
       "</style>\n",
       "<table border=\"1\" class=\"dataframe\">\n",
       "  <thead>\n",
       "    <tr style=\"text-align: right;\">\n",
       "      <th></th>\n",
       "      <th>Category</th>\n",
       "      <th>Index1</th>\n",
       "      <th>Index2</th>\n",
       "      <th>Category.1</th>\n",
       "      <th>Index1.1</th>\n",
       "      <th>Index2.1</th>\n",
       "      <th>Initial parameter</th>\n",
       "    </tr>\n",
       "  </thead>\n",
       "  <tbody>\n",
       "    <tr>\n",
       "      <th>0</th>\n",
       "      <td>Bzi</td>\n",
       "      <td>Constant</td>\n",
       "      <td>Private car</td>\n",
       "      <td>1</td>\n",
       "      <td>1</td>\n",
       "      <td>1</td>\n",
       "      <td>0</td>\n",
       "    </tr>\n",
       "    <tr>\n",
       "      <th>1</th>\n",
       "      <td>NaN</td>\n",
       "      <td>NaN</td>\n",
       "      <td>Shared-car</td>\n",
       "      <td>1</td>\n",
       "      <td>1</td>\n",
       "      <td>2</td>\n",
       "      <td>0</td>\n",
       "    </tr>\n",
       "    <tr>\n",
       "      <th>2</th>\n",
       "      <td>NaN</td>\n",
       "      <td>Age</td>\n",
       "      <td>Private car</td>\n",
       "      <td>1</td>\n",
       "      <td>2</td>\n",
       "      <td>1</td>\n",
       "      <td>0</td>\n",
       "    </tr>\n",
       "    <tr>\n",
       "      <th>3</th>\n",
       "      <td>NaN</td>\n",
       "      <td>NaN</td>\n",
       "      <td>Shared-car</td>\n",
       "      <td>1</td>\n",
       "      <td>2</td>\n",
       "      <td>2</td>\n",
       "      <td>0</td>\n",
       "    </tr>\n",
       "    <tr>\n",
       "      <th>4</th>\n",
       "      <td>Bxi</td>\n",
       "      <td>Access time</td>\n",
       "      <td>All</td>\n",
       "      <td>2</td>\n",
       "      <td>1</td>\n",
       "      <td>0</td>\n",
       "      <td>0</td>\n",
       "    </tr>\n",
       "    <tr>\n",
       "      <th>5</th>\n",
       "      <td>NaN</td>\n",
       "      <td>Travel time</td>\n",
       "      <td>All</td>\n",
       "      <td>2</td>\n",
       "      <td>2</td>\n",
       "      <td>0</td>\n",
       "      <td>0</td>\n",
       "    </tr>\n",
       "    <tr>\n",
       "      <th>6</th>\n",
       "      <td>NaN</td>\n",
       "      <td>Fuel cost</td>\n",
       "      <td>PC &amp;SC</td>\n",
       "      <td>2</td>\n",
       "      <td>3</td>\n",
       "      <td>0</td>\n",
       "      <td>0</td>\n",
       "    </tr>\n",
       "    <tr>\n",
       "      <th>7</th>\n",
       "      <td>NaN</td>\n",
       "      <td>Fare</td>\n",
       "      <td>Public transportation</td>\n",
       "      <td>2</td>\n",
       "      <td>4</td>\n",
       "      <td>3</td>\n",
       "      <td>0</td>\n",
       "    </tr>\n",
       "  </tbody>\n",
       "</table>\n",
       "</div>"
      ],
      "text/plain": [
       "  Category       Index1                 Index2  Category.1  Index1.1  \\\n",
       "0      Bzi     Constant            Private car           1         1   \n",
       "1      NaN          NaN             Shared-car           1         1   \n",
       "2      NaN          Age            Private car           1         2   \n",
       "3      NaN          NaN             Shared-car           1         2   \n",
       "4      Bxi  Access time                    All           2         1   \n",
       "5      NaN  Travel time                    All           2         2   \n",
       "6      NaN    Fuel cost                 PC &SC           2         3   \n",
       "7      NaN         Fare  Public transportation           2         4   \n",
       "\n",
       "   Index2.1  Initial parameter  \n",
       "0         1                  0  \n",
       "1         2                  0  \n",
       "2         1                  0  \n",
       "3         2                  0  \n",
       "4         0                  0  \n",
       "5         0                  0  \n",
       "6         0                  0  \n",
       "7         3                  0  "
      ]
     },
     "execution_count": 14,
     "metadata": {},
     "output_type": "execute_result"
    }
   ],
   "source": [
    "df_param"
   ]
  },
  {
   "cell_type": "code",
   "execution_count": 217,
   "id": "e5c6e82d-b958-4269-b100-a7c269733ac0",
   "metadata": {
    "execution": {
     "iopub.execute_input": "2023-03-23T08:26:14.597733Z",
     "iopub.status.busy": "2023-03-23T08:26:14.597733Z",
     "iopub.status.idle": "2023-03-23T08:26:14.604685Z",
     "shell.execute_reply": "2023-03-23T08:26:14.603725Z",
     "shell.execute_reply.started": "2023-03-23T08:26:14.597733Z"
    },
    "tags": []
   },
   "outputs": [],
   "source": [
    "NP = len(df_param) # Param 개수\n",
    "p_index = np.array(df_param[['Category.1', 'Index1.1', 'Index2.1']]) #> (8,3) 행렬"
   ]
  },
  {
   "cell_type": "code",
   "execution_count": 221,
   "id": "c00c35d9-c0c5-4b92-8afd-12b8d5c9c853",
   "metadata": {
    "execution": {
     "iopub.execute_input": "2023-03-23T08:27:13.155340Z",
     "iopub.status.busy": "2023-03-23T08:27:13.155340Z",
     "iopub.status.idle": "2023-03-23T08:27:13.173292Z",
     "shell.execute_reply": "2023-03-23T08:27:13.172297Z",
     "shell.execute_reply.started": "2023-03-23T08:27:13.155340Z"
    },
    "tags": []
   },
   "outputs": [],
   "source": [
    "param = np.array(df_param[['Initial parameter']]) #> (8,) 행렬. 여기에 결과가 저장될 것이다"
   ]
  },
  {
   "cell_type": "markdown",
   "id": "be638670-07ea-4caf-a91f-b2de3fb8ee5d",
   "metadata": {},
   "source": [
    "## Estimation Criterion"
   ]
  },
  {
   "cell_type": "code",
   "execution_count": 222,
   "id": "b1fba945-0648-48e8-980c-787bb7faac9e",
   "metadata": {
    "execution": {
     "iopub.execute_input": "2023-03-23T08:27:47.370039Z",
     "iopub.status.busy": "2023-03-23T08:27:47.370039Z",
     "iopub.status.idle": "2023-03-23T08:27:47.376023Z",
     "shell.execute_reply": "2023-03-23T08:27:47.375026Z",
     "shell.execute_reply.started": "2023-03-23T08:27:47.370039Z"
    },
    "tags": []
   },
   "outputs": [],
   "source": [
    "MAXITERS = 5000 # Maximum Iteration \n",
    "PARAMTOL = 0.0000001 #  Maximum change in Paramters\n",
    "LLTOL = 0.00000001 # Maximum change in Log-likelihood value"
   ]
  }
 ],
 "metadata": {
  "kernelspec": {
   "display_name": "Python 3 (ipykernel)",
   "language": "python",
   "name": "python3"
  },
  "language_info": {
   "codemirror_mode": {
    "name": "ipython",
    "version": 3
   },
   "file_extension": ".py",
   "mimetype": "text/x-python",
   "name": "python",
   "nbconvert_exporter": "python",
   "pygments_lexer": "ipython3",
   "version": "3.8.16"
  }
 },
 "nbformat": 4,
 "nbformat_minor": 5
}
