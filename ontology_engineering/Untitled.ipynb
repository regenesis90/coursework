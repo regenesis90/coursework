{
 "cells": [
  {
   "cell_type": "markdown",
   "id": "e7b96a1f-dafb-456c-9c67-fcdb929e3a2a",
   "metadata": {},
   "source": [
    "# Ontology Engineering"
   ]
  },
  {
   "cell_type": "markdown",
   "id": "7efb134f-108a-484f-b650-fd72ccdaeff7",
   "metadata": {},
   "source": [
    "## Introduction to Semantic Web"
   ]
  },
  {
   "cell_type": "markdown",
   "id": "771f90e7-42fb-4ae5-8dbf-e3c94084b217",
   "metadata": {},
   "source": [
    "### Web\n",
    "* 웹은 CERN에서 근무하는 물리학자 Tim Berners-Lee에 의해 발명되었음\n",
    "* 그러나, 웹에 대한 Tim의 원래 비전은 기존의 (구문적, syntactic) 웹의 현실보다 훨씬 더 야심적이었음"
   ]
  },
  {
   "cell_type": "markdown",
   "id": "da716d25-b282-4181-a97b-721a572ceb2d",
   "metadata": {},
   "source": [
    "### Sematic Web이 왜 필요한가?"
   ]
  },
  {
   "cell_type": "markdown",
   "id": "729d5336-2d3a-402f-af2e-861d4126d829",
   "metadata": {},
   "source": [
    "* **`Information Overload`** : 배경 지식이 포함된 복잡한 쿼리 때문\n",
    "* **`Stove-piped Systems`** : 웹 서비스의 검색 및 이용\n",
    "    * 두 개체(? protain?) 사이의 표면 상호 작용을 시각화함\n",
    "    * 복잡한 작업을 웹 에이전트(web agents)에 위임\n",
    "* **`Poor Content Aggregation(Knowledge Management`** : 열악한 콘텐츠 집계(지식 관리)\n",
    "    * 데이터 저장소에서 정보 찾기\n",
    "    * 여행 문의\n",
    "    * 재화 및 용역의 가격\n",
    "    * 인간 게놈 실험 결과 등"
   ]
  },
  {
   "cell_type": "markdown",
   "id": "c693c4db-c050-4186-8fbb-4b985b117ebb",
   "metadata": {},
   "source": [
    "### Death by Data : Size, Heterogeneity & Complexity\n",
    "* **`Size`** : 매 초당 1,700조 바이트(1.7 million billion bytes)의 데이터가 발생\n",
    "    * 이는 360,000개의 표준 DVD와 같음\n",
    "* **`Multiple format`** : Structured, Unstructured, Semi-Structured\n",
    "    * 구조화된 것, 비구조화된 것, 반만 구조화된 것 등\n",
    "    * 다양한 포맷이 존재하고 있음\n",
    "* **`Multimodal`** : 텍스트, 이미지, 동영상, 센서, 과학/공학\n",
    "    * Thematic, Spatial, Temporal 등"
   ]
  },
  {
   "cell_type": "markdown",
   "id": "d133d30d-06dc-414c-80c4-00f824b830a9",
   "metadata": {},
   "source": [
    "### Information Overflow Problems\n",
    "* 어떻게 모든 가능한 정보를 커버할 것인가?\n",
    "* 어떻게 연관된 정보를 찾을 것인가?\n",
    "* Data, Knowledge\n",
    "* Not data(search), but integration, analysis and insight, leading to decisions and discovery."
   ]
  },
  {
   "cell_type": "markdown",
   "id": "de637f85-b732-4170-88c1-2c17f64d7668",
   "metadata": {},
   "source": [
    "## Semantic Interoperability(시맨틱 상호운용성)\n",
    "* 앞서 언급된 3가지 문제에 대처하기 위해서는 Semantic Interoperability가 필요함\n",
    "* **`Semantics`**(의미론) : 단어, 문장 또는 기타 언어 형태의 의미 또는 해석\n",
    "* **`Semantic Interoperability`** : 다른 시스템이나 당사자가 의도하거나 표현한 내용에 대한 이해를 기반으로 한 리소스의 처리 또는 통합"
   ]
  },
  {
   "cell_type": "markdown",
   "id": "f43214a8-1718-40fa-b9ca-6b3a8813449e",
   "metadata": {
    "tags": []
   },
   "source": [
    "### Challenges in Semantic Interoperability\n",
    "* Business Area : \"만약 전 세계적으로 수 조 달러(trillions of dollars)를 절약할 수 있는 기술이 있따면, 그것은 비즈니스 정보 시스템을 상호 운용 가능하게 만드는 기술이 될 것임\"\n",
    "* Knowledge Management Area :\n",
    "    * **`Semantic Web`** : 컴퓨터에 의미 있고 새로운 가능성의 혁명을 일으킬 콘텐츠... 적절하게 설계된 시맨틱 웹은 인간 지식의 진화를 지원할 수 있음"
   ]
  },
  {
   "cell_type": "markdown",
   "id": "674993b2-7a42-42e0-aab6-99cc53408185",
   "metadata": {},
   "source": [
    "### An Obstacle to Semantic Interoperability\n",
    "* **`Front-endedness`** : 오늘날 대부분의 웹의 컨텐츠들은 인간이 읽기 위해 디자인되었음\n",
    "    * 컴퓨터 프로그램이 의미있게 조작할 수 있도록 만들어지지 않았음\n",
    "    * 예컨대, 일반적인 웹 페이지는 각종 하이퍼링크와 텍스트를 포함한 이미지들을 가지고 있음. 이들은 인간에게는 접근가능하나, 컴퓨터에게는 쉽지 않은 문제임"
   ]
  },
  {
   "cell_type": "markdown",
   "id": "d428f573-7e1e-4e14-84bc-509ee6dca059",
   "metadata": {},
   "source": [
    "### Need to Add \"Semantics\"\n",
    "* 주석(annotation)의 의미에 대한 외부적 동의(external aggrement)\n",
    "    * 주석 태그 집합(a set of annotation tags)의 의미에 동의\n",
    "* 이 접근법의 문제점 :\n",
    "    * 융통성이 없음(inflexible)\n",
    "    * 제한된 수의 표현만이 가능함(limited number of things can be expressed)\n",
    "* Ontology를 사용하여 주석의 의미 지정\n",
    "    * 온올로지는 용어의 어휘를 제공\n",
    "    * 기존 용어를 결합하여 새로운 용어를 구성할 수 있음\n",
    "    * 이러한 용어의 의미(의미론)가 공식적으로 지정됨\n",
    "    * 여러 온톨로지에서 용어 간의 관계를 지정할 수도 있음"
   ]
  },
  {
   "cell_type": "code",
   "execution_count": null,
   "id": "08b2082e-ea64-4f2e-bde0-d9099db57aa7",
   "metadata": {},
   "outputs": [],
   "source": []
  }
 ],
 "metadata": {
  "kernelspec": {
   "display_name": "Python 3",
   "language": "python",
   "name": "python3"
  },
  "language_info": {
   "codemirror_mode": {
    "name": "ipython",
    "version": 3
   },
   "file_extension": ".py",
   "mimetype": "text/x-python",
   "name": "python",
   "nbconvert_exporter": "python",
   "pygments_lexer": "ipython3",
   "version": "3.8.8"
  }
 },
 "nbformat": 4,
 "nbformat_minor": 5
}
