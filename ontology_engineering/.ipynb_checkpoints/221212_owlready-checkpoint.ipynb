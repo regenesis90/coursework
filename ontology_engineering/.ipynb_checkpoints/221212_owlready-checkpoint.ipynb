{
 "cells": [
  {
   "cell_type": "markdown",
   "id": "2beece95-0abf-42fd-9253-48fa486e83a1",
   "metadata": {},
   "source": [
    "# Import"
   ]
  },
  {
   "cell_type": "code",
   "execution_count": 1,
   "id": "344d4e02-700c-4a1c-bccb-3ca9a9b0031c",
   "metadata": {
    "execution": {
     "iopub.execute_input": "2022-12-13T03:34:20.848544Z",
     "iopub.status.busy": "2022-12-13T03:34:20.847526Z",
     "iopub.status.idle": "2022-12-13T03:34:20.860483Z",
     "shell.execute_reply": "2022-12-13T03:34:20.859486Z",
     "shell.execute_reply.started": "2022-12-13T03:34:20.848544Z"
    },
    "tags": []
   },
   "outputs": [],
   "source": [
    "#!pip install owlready2"
   ]
  },
  {
   "cell_type": "code",
   "execution_count": 2,
   "id": "10e0e9cc-5a9f-4bac-943d-ed558159a354",
   "metadata": {
    "execution": {
     "iopub.execute_input": "2022-12-13T03:34:20.861480Z",
     "iopub.status.busy": "2022-12-13T03:34:20.861480Z",
     "iopub.status.idle": "2022-12-13T03:34:21.462871Z",
     "shell.execute_reply": "2022-12-13T03:34:21.461874Z",
     "shell.execute_reply.started": "2022-12-13T03:34:20.861480Z"
    },
    "tags": []
   },
   "outputs": [
    {
     "name": "stderr",
     "output_type": "stream",
     "text": [
      "* Owlready2 * Warning: optimized Cython parser module 'owlready2_optimized' is not available, defaulting to slower Python implementation\n"
     ]
    }
   ],
   "source": [
    "from owlready2 import *\n",
    "import pandas as pd\n",
    "import numpy as np\n",
    "import os\n",
    "\n",
    "from tqdm import tqdm"
   ]
  },
  {
   "cell_type": "markdown",
   "id": "64a381ec-f81c-4636-b4bf-1d3047a3d091",
   "metadata": {},
   "source": [
    "# Load dataset"
   ]
  },
  {
   "cell_type": "markdown",
   "id": "6eeaaee4-d1c2-4a6a-ace7-77b4ecadaa22",
   "metadata": {
    "execution": {
     "iopub.execute_input": "2022-12-12T11:07:07.574818Z",
     "iopub.status.busy": "2022-12-12T11:07:07.573821Z",
     "iopub.status.idle": "2022-12-12T11:07:07.594769Z",
     "shell.execute_reply": "2022-12-12T11:07:07.592771Z",
     "shell.execute_reply.started": "2022-12-12T11:07:07.574818Z"
    },
    "tags": []
   },
   "source": [
    "starbucks_info.columns = [\n",
    "    'Temperature', 'Category', 'Product_Name', 'Milk', 'Whip', 'Calories',\n",
    "       'Total_Fat', 'Saturated_Fat', 'Trans_Fat', 'Cholesterol', 'Sodium',\n",
    "       'Total_Carbohydrates', 'Dietary_Fiber', 'Sugar', 'Protein', 'Vitamin_A',\n",
    "       'Vitamin_C', 'Calcium', 'Iron', 'Caffeine']\n",
    "\n",
    "def fullname(product, milk):\n",
    "    if pd.isna(milk) == False: # milk 값이 있으면\n",
    "        beverage = str(product) + ' with ' + str(milk) + ' Milk'\n",
    "        \n",
    "    else:\n",
    "        beverage = str(product)\n",
    "        \n",
    "    return beverage\n",
    "    \n",
    "starbucks_info['Beverage'] = starbucks_info.apply(lambda x: fullname(x.Product_Name, x.Milk), axis = 1)\n",
    "\n",
    "starbucks_info.to_csv('Starbucks_Recent_Menus_Tall.csv', encoding = 'UTF-8')\n",
    "\n",
    "category = starbucks_info[['Temperature', 'Category', 'Product_Name']].copy()\n",
    "\n",
    "category.drop_duplicates(inplace = True)\n",
    "\n",
    "category.to_csv('product_category.csv', encoding = 'UTF-8')"
   ]
  },
  {
   "cell_type": "code",
   "execution_count": 3,
   "id": "abc13a1c-b68b-4bb2-96eb-716c6ca22f6f",
   "metadata": {
    "execution": {
     "iopub.execute_input": "2022-12-13T03:34:21.463869Z",
     "iopub.status.busy": "2022-12-13T03:34:21.463869Z",
     "iopub.status.idle": "2022-12-13T03:34:21.477832Z",
     "shell.execute_reply": "2022-12-13T03:34:21.476835Z",
     "shell.execute_reply.started": "2022-12-13T03:34:21.463869Z"
    },
    "tags": []
   },
   "outputs": [],
   "source": [
    "menu_dir = 'https://raw.githubusercontent.com/regenesis90/coursework/main/ontology_engineering/Dataset/Starbucks_Recent_Menus_Tall.csv'"
   ]
  },
  {
   "cell_type": "code",
   "execution_count": 4,
   "id": "be429309-1032-4d66-a75a-b05177221d22",
   "metadata": {
    "execution": {
     "iopub.execute_input": "2022-12-13T03:34:21.479826Z",
     "iopub.status.busy": "2022-12-13T03:34:21.478829Z",
     "iopub.status.idle": "2022-12-13T03:34:21.716195Z",
     "shell.execute_reply": "2022-12-13T03:34:21.715228Z",
     "shell.execute_reply.started": "2022-12-13T03:34:21.479826Z"
    },
    "tags": []
   },
   "outputs": [],
   "source": [
    "starbucks_info = pd.read_csv(menu_dir)"
   ]
  },
  {
   "cell_type": "code",
   "execution_count": 5,
   "id": "80617a70-a176-4080-9227-aff8c977dbbe",
   "metadata": {
    "execution": {
     "iopub.execute_input": "2022-12-13T03:34:21.717191Z",
     "iopub.status.busy": "2022-12-13T03:34:21.717191Z",
     "iopub.status.idle": "2022-12-13T03:34:21.764071Z",
     "shell.execute_reply": "2022-12-13T03:34:21.762072Z",
     "shell.execute_reply.started": "2022-12-13T03:34:21.717191Z"
    },
    "tags": []
   },
   "outputs": [
    {
     "data": {
      "text/html": [
       "<div>\n",
       "<style scoped>\n",
       "    .dataframe tbody tr th:only-of-type {\n",
       "        vertical-align: middle;\n",
       "    }\n",
       "\n",
       "    .dataframe tbody tr th {\n",
       "        vertical-align: top;\n",
       "    }\n",
       "\n",
       "    .dataframe thead th {\n",
       "        text-align: right;\n",
       "    }\n",
       "</style>\n",
       "<table border=\"1\" class=\"dataframe\">\n",
       "  <thead>\n",
       "    <tr style=\"text-align: right;\">\n",
       "      <th></th>\n",
       "      <th>ID</th>\n",
       "      <th>Beverage</th>\n",
       "      <th>Product</th>\n",
       "      <th>Milk</th>\n",
       "      <th>Whip</th>\n",
       "      <th>Calories</th>\n",
       "      <th>Total_Fat</th>\n",
       "      <th>Saturated_Fat</th>\n",
       "      <th>Trans_Fat</th>\n",
       "      <th>Cholesterol</th>\n",
       "      <th>Sodium</th>\n",
       "      <th>Total_Carbohydrates</th>\n",
       "      <th>Dietary_Fiber</th>\n",
       "      <th>Sugar</th>\n",
       "      <th>Protein</th>\n",
       "      <th>Vitamin_A</th>\n",
       "      <th>Vitamin_C</th>\n",
       "      <th>Calcium</th>\n",
       "      <th>Iron</th>\n",
       "      <th>Caffeine</th>\n",
       "    </tr>\n",
       "  </thead>\n",
       "  <tbody>\n",
       "    <tr>\n",
       "      <th>0</th>\n",
       "      <td>Brewed_Coffee_Dark_Roast</td>\n",
       "      <td>Brewed Coffee - Dark Roast</td>\n",
       "      <td>Brewed Coffee - Dark Roast</td>\n",
       "      <td>NaN</td>\n",
       "      <td>NaN</td>\n",
       "      <td>4</td>\n",
       "      <td>0.1</td>\n",
       "      <td>0.0</td>\n",
       "      <td>0.0</td>\n",
       "      <td>0</td>\n",
       "      <td>10</td>\n",
       "      <td>0</td>\n",
       "      <td>0</td>\n",
       "      <td>0</td>\n",
       "      <td>0.5</td>\n",
       "      <td>0</td>\n",
       "      <td>0</td>\n",
       "      <td>0</td>\n",
       "      <td>0</td>\n",
       "      <td>193</td>\n",
       "    </tr>\n",
       "    <tr>\n",
       "      <th>1</th>\n",
       "      <td>Brewed_Coffee_Decaf_Pike_Place_Roast</td>\n",
       "      <td>Brewed Coffee - Decaf Pike Place Roast</td>\n",
       "      <td>Brewed Coffee - Decaf Pike Place Roast</td>\n",
       "      <td>NaN</td>\n",
       "      <td>NaN</td>\n",
       "      <td>4</td>\n",
       "      <td>0.1</td>\n",
       "      <td>0.0</td>\n",
       "      <td>0.0</td>\n",
       "      <td>0</td>\n",
       "      <td>10</td>\n",
       "      <td>0</td>\n",
       "      <td>0</td>\n",
       "      <td>0</td>\n",
       "      <td>0.5</td>\n",
       "      <td>0</td>\n",
       "      <td>0</td>\n",
       "      <td>0</td>\n",
       "      <td>0</td>\n",
       "      <td>20</td>\n",
       "    </tr>\n",
       "    <tr>\n",
       "      <th>2</th>\n",
       "      <td>Brewed_Coffee_Medium_Roast</td>\n",
       "      <td>Brewed Coffee - Medium Roast</td>\n",
       "      <td>Brewed Coffee - Medium Roast</td>\n",
       "      <td>NaN</td>\n",
       "      <td>NaN</td>\n",
       "      <td>4</td>\n",
       "      <td>0.1</td>\n",
       "      <td>0.0</td>\n",
       "      <td>0.0</td>\n",
       "      <td>0</td>\n",
       "      <td>10</td>\n",
       "      <td>0</td>\n",
       "      <td>0</td>\n",
       "      <td>0</td>\n",
       "      <td>0.5</td>\n",
       "      <td>0</td>\n",
       "      <td>0</td>\n",
       "      <td>0</td>\n",
       "      <td>0</td>\n",
       "      <td>235</td>\n",
       "    </tr>\n",
       "    <tr>\n",
       "      <th>3</th>\n",
       "      <td>Brewed_Coffee_True_North_Blend_Blonde_Roast</td>\n",
       "      <td>Brewed Coffee - True North Blend Blonde Roast</td>\n",
       "      <td>Brewed Coffee - True North Blend Blonde Roast</td>\n",
       "      <td>NaN</td>\n",
       "      <td>NaN</td>\n",
       "      <td>4</td>\n",
       "      <td>0.1</td>\n",
       "      <td>0.0</td>\n",
       "      <td>0.0</td>\n",
       "      <td>0</td>\n",
       "      <td>10</td>\n",
       "      <td>0</td>\n",
       "      <td>0</td>\n",
       "      <td>0</td>\n",
       "      <td>0.5</td>\n",
       "      <td>0</td>\n",
       "      <td>0</td>\n",
       "      <td>0</td>\n",
       "      <td>0</td>\n",
       "      <td>270</td>\n",
       "    </tr>\n",
       "    <tr>\n",
       "      <th>4</th>\n",
       "      <td>Caffe_Misto_with_Nonfat_Milk</td>\n",
       "      <td>Caffe Misto with Nonfat Milk</td>\n",
       "      <td>Caffe Misto</td>\n",
       "      <td>Nonfat</td>\n",
       "      <td>NaN</td>\n",
       "      <td>60</td>\n",
       "      <td>0.2</td>\n",
       "      <td>0.1</td>\n",
       "      <td>0.0</td>\n",
       "      <td>5</td>\n",
       "      <td>70</td>\n",
       "      <td>8</td>\n",
       "      <td>0</td>\n",
       "      <td>8</td>\n",
       "      <td>6.0</td>\n",
       "      <td>10</td>\n",
       "      <td>0</td>\n",
       "      <td>20</td>\n",
       "      <td>0</td>\n",
       "      <td>115</td>\n",
       "    </tr>\n",
       "  </tbody>\n",
       "</table>\n",
       "</div>"
      ],
      "text/plain": [
       "                                            ID  \\\n",
       "0                     Brewed_Coffee_Dark_Roast   \n",
       "1         Brewed_Coffee_Decaf_Pike_Place_Roast   \n",
       "2                   Brewed_Coffee_Medium_Roast   \n",
       "3  Brewed_Coffee_True_North_Blend_Blonde_Roast   \n",
       "4                 Caffe_Misto_with_Nonfat_Milk   \n",
       "\n",
       "                                        Beverage  \\\n",
       "0                     Brewed Coffee - Dark Roast   \n",
       "1         Brewed Coffee - Decaf Pike Place Roast   \n",
       "2                   Brewed Coffee - Medium Roast   \n",
       "3  Brewed Coffee - True North Blend Blonde Roast   \n",
       "4                   Caffe Misto with Nonfat Milk   \n",
       "\n",
       "                                         Product    Milk Whip  Calories  \\\n",
       "0                     Brewed Coffee - Dark Roast     NaN  NaN         4   \n",
       "1         Brewed Coffee - Decaf Pike Place Roast     NaN  NaN         4   \n",
       "2                   Brewed Coffee - Medium Roast     NaN  NaN         4   \n",
       "3  Brewed Coffee - True North Blend Blonde Roast     NaN  NaN         4   \n",
       "4                                    Caffe Misto  Nonfat  NaN        60   \n",
       "\n",
       "   Total_Fat  Saturated_Fat  Trans_Fat  Cholesterol  Sodium  \\\n",
       "0        0.1            0.0        0.0            0      10   \n",
       "1        0.1            0.0        0.0            0      10   \n",
       "2        0.1            0.0        0.0            0      10   \n",
       "3        0.1            0.0        0.0            0      10   \n",
       "4        0.2            0.1        0.0            5      70   \n",
       "\n",
       "   Total_Carbohydrates  Dietary_Fiber  Sugar  Protein  Vitamin_A  Vitamin_C  \\\n",
       "0                    0              0      0      0.5          0          0   \n",
       "1                    0              0      0      0.5          0          0   \n",
       "2                    0              0      0      0.5          0          0   \n",
       "3                    0              0      0      0.5          0          0   \n",
       "4                    8              0      8      6.0         10          0   \n",
       "\n",
       "   Calcium  Iron  Caffeine  \n",
       "0        0     0       193  \n",
       "1        0     0        20  \n",
       "2        0     0       235  \n",
       "3        0     0       270  \n",
       "4       20     0       115  "
      ]
     },
     "execution_count": 5,
     "metadata": {},
     "output_type": "execute_result"
    }
   ],
   "source": [
    "starbucks_info.head()"
   ]
  },
  {
   "cell_type": "markdown",
   "id": "94db13a2-3a3a-4ec0-898b-929bb58f929e",
   "metadata": {
    "execution": {
     "iopub.execute_input": "2022-12-12T15:57:00.853705Z",
     "iopub.status.busy": "2022-12-12T15:57:00.852708Z",
     "iopub.status.idle": "2022-12-12T15:57:00.871660Z",
     "shell.execute_reply": "2022-12-12T15:57:00.870663Z",
     "shell.execute_reply.started": "2022-12-12T15:57:00.853705Z"
    },
    "tags": []
   },
   "source": [
    "starbucks_info = starbucks_info.astype(\n",
    "    {\n",
    "        'Calories' : 'float16',\n",
    "        'Total_Fat' : 'float16',\n",
    "        'Saturated_Fat' : 'float16',\n",
    "        'Trans_Fat' : 'float16',\n",
    "        'Cholesterol' : 'float16',\n",
    "        'Sodium' : 'float16',\n",
    "        'Total_Carbohydrates' : 'float16',\n",
    "        'Dietary_Fiber' : 'float16',\n",
    "        'Sugar' : 'float16',\n",
    "        'Protein' : 'float16', \n",
    "        'Vitamin_A' : 'float16',\n",
    "        'Vitamin_C' : 'float16',\n",
    "        'Calcium' : 'float16',\n",
    "        'Iron' : 'float16',\n",
    "        'Caffeine' : 'float16'\n",
    "    }\n",
    ")"
   ]
  },
  {
   "cell_type": "code",
   "execution_count": 6,
   "id": "d5f963b5-d4d2-4bec-b4e9-7a107f1c00e9",
   "metadata": {
    "execution": {
     "iopub.execute_input": "2022-12-13T03:34:21.766060Z",
     "iopub.status.busy": "2022-12-13T03:34:21.766060Z",
     "iopub.status.idle": "2022-12-13T03:34:21.779026Z",
     "shell.execute_reply": "2022-12-13T03:34:21.778029Z",
     "shell.execute_reply.started": "2022-12-13T03:34:21.766060Z"
    },
    "tags": []
   },
   "outputs": [],
   "source": [
    "category_dir = 'https://raw.githubusercontent.com/regenesis90/coursework/main/ontology_engineering/Dataset/product_category.csv'"
   ]
  },
  {
   "cell_type": "code",
   "execution_count": 7,
   "id": "705bc931-06c1-449c-a7dd-8511c4b46f13",
   "metadata": {
    "execution": {
     "iopub.execute_input": "2022-12-13T03:34:21.780023Z",
     "iopub.status.busy": "2022-12-13T03:34:21.780023Z",
     "iopub.status.idle": "2022-12-13T03:34:21.857815Z",
     "shell.execute_reply": "2022-12-13T03:34:21.856818Z",
     "shell.execute_reply.started": "2022-12-13T03:34:21.780023Z"
    },
    "tags": []
   },
   "outputs": [],
   "source": [
    "category_info = pd.read_csv(category_dir)"
   ]
  },
  {
   "cell_type": "code",
   "execution_count": 8,
   "id": "e8419111-d354-4d14-9087-47e6f525e44f",
   "metadata": {
    "execution": {
     "iopub.execute_input": "2022-12-13T03:34:21.858814Z",
     "iopub.status.busy": "2022-12-13T03:34:21.858814Z",
     "iopub.status.idle": "2022-12-13T03:34:21.873773Z",
     "shell.execute_reply": "2022-12-13T03:34:21.872776Z",
     "shell.execute_reply.started": "2022-12-13T03:34:21.858814Z"
    },
    "tags": []
   },
   "outputs": [
    {
     "data": {
      "text/html": [
       "<div>\n",
       "<style scoped>\n",
       "    .dataframe tbody tr th:only-of-type {\n",
       "        vertical-align: middle;\n",
       "    }\n",
       "\n",
       "    .dataframe tbody tr th {\n",
       "        vertical-align: top;\n",
       "    }\n",
       "\n",
       "    .dataframe thead th {\n",
       "        text-align: right;\n",
       "    }\n",
       "</style>\n",
       "<table border=\"1\" class=\"dataframe\">\n",
       "  <thead>\n",
       "    <tr style=\"text-align: right;\">\n",
       "      <th></th>\n",
       "      <th>Temperature</th>\n",
       "      <th>Category</th>\n",
       "      <th>ID</th>\n",
       "      <th>Product_Name</th>\n",
       "    </tr>\n",
       "  </thead>\n",
       "  <tbody>\n",
       "    <tr>\n",
       "      <th>0</th>\n",
       "      <td>Hot</td>\n",
       "      <td>Coffee</td>\n",
       "      <td>Brewed_Coffee_Dark_Roast</td>\n",
       "      <td>Brewed Coffee - Dark Roast</td>\n",
       "    </tr>\n",
       "    <tr>\n",
       "      <th>1</th>\n",
       "      <td>Hot</td>\n",
       "      <td>Coffee</td>\n",
       "      <td>Brewed_Coffee_Decaf_Pike_Place_Roast</td>\n",
       "      <td>Brewed Coffee - Decaf Pike Place Roast</td>\n",
       "    </tr>\n",
       "    <tr>\n",
       "      <th>2</th>\n",
       "      <td>Hot</td>\n",
       "      <td>Coffee</td>\n",
       "      <td>Brewed_Coffee_Medium_Roast</td>\n",
       "      <td>Brewed Coffee - Medium Roast</td>\n",
       "    </tr>\n",
       "  </tbody>\n",
       "</table>\n",
       "</div>"
      ],
      "text/plain": [
       "  Temperature Category                                    ID  \\\n",
       "0         Hot   Coffee              Brewed_Coffee_Dark_Roast   \n",
       "1         Hot   Coffee  Brewed_Coffee_Decaf_Pike_Place_Roast   \n",
       "2         Hot   Coffee            Brewed_Coffee_Medium_Roast   \n",
       "\n",
       "                             Product_Name  \n",
       "0              Brewed Coffee - Dark Roast  \n",
       "1  Brewed Coffee - Decaf Pike Place Roast  \n",
       "2            Brewed Coffee - Medium Roast  "
      ]
     },
     "execution_count": 8,
     "metadata": {},
     "output_type": "execute_result"
    }
   ],
   "source": [
    "category_info.head(3)"
   ]
  },
  {
   "cell_type": "code",
   "execution_count": 9,
   "id": "9534db55-ceda-4df3-86f8-ac58443015e1",
   "metadata": {
    "execution": {
     "iopub.execute_input": "2022-12-13T03:34:21.876765Z",
     "iopub.status.busy": "2022-12-13T03:34:21.875768Z",
     "iopub.status.idle": "2022-12-13T03:34:21.889731Z",
     "shell.execute_reply": "2022-12-13T03:34:21.888732Z",
     "shell.execute_reply.started": "2022-12-13T03:34:21.875768Z"
    },
    "tags": []
   },
   "outputs": [
    {
     "data": {
      "text/plain": [
       "ID                      object\n",
       "Beverage                object\n",
       "Product                 object\n",
       "Milk                    object\n",
       "Whip                    object\n",
       "Calories                 int64\n",
       "Total_Fat              float64\n",
       "Saturated_Fat          float64\n",
       "Trans_Fat              float64\n",
       "Cholesterol              int64\n",
       "Sodium                   int64\n",
       "Total_Carbohydrates      int64\n",
       "Dietary_Fiber            int64\n",
       "Sugar                    int64\n",
       "Protein                float64\n",
       "Vitamin_A                int64\n",
       "Vitamin_C                int64\n",
       "Calcium                  int64\n",
       "Iron                     int64\n",
       "Caffeine                 int64\n",
       "dtype: object"
      ]
     },
     "execution_count": 9,
     "metadata": {},
     "output_type": "execute_result"
    }
   ],
   "source": [
    "starbucks_info.dtypes"
   ]
  },
  {
   "cell_type": "markdown",
   "id": "2903c966-b229-45a8-bd49-42e601eed818",
   "metadata": {},
   "source": [
    "# Develop Ontology"
   ]
  },
  {
   "cell_type": "markdown",
   "id": "0d684237-d238-4420-8de4-63ee72741958",
   "metadata": {},
   "source": [
    "## Create New Ontology\n",
    "* 새로운 온톨로지 생성(빈 온톨로지)"
   ]
  },
  {
   "cell_type": "code",
   "execution_count": 10,
   "id": "72c804e1-9795-4a14-8213-00dffb4e948d",
   "metadata": {
    "execution": {
     "iopub.execute_input": "2022-12-13T03:34:21.892723Z",
     "iopub.status.busy": "2022-12-13T03:34:21.892723Z",
     "iopub.status.idle": "2022-12-13T03:34:21.905687Z",
     "shell.execute_reply": "2022-12-13T03:34:21.904691Z",
     "shell.execute_reply.started": "2022-12-13T03:34:21.892723Z"
    },
    "tags": []
   },
   "outputs": [],
   "source": [
    "ontology_name = 'http://test.org/starbucks.owl'\n",
    "onto = get_ontology(ontology_name)"
   ]
  },
  {
   "cell_type": "markdown",
   "id": "59da7c05-1008-4efd-b8eb-5cd3a54cf5f2",
   "metadata": {},
   "source": [
    "## Class & Properties 생성"
   ]
  },
  {
   "cell_type": "markdown",
   "id": "da3d9f37-883d-4c7c-a852-44fd9939e257",
   "metadata": {},
   "source": [
    "### Class 선언"
   ]
  },
  {
   "cell_type": "code",
   "execution_count": 20,
   "id": "70cc699f-d43b-415b-b3e4-abd461668301",
   "metadata": {
    "execution": {
     "iopub.execute_input": "2022-12-13T03:45:44.834558Z",
     "iopub.status.busy": "2022-12-13T03:45:44.834558Z",
     "iopub.status.idle": "2022-12-13T03:45:44.838581Z",
     "shell.execute_reply": "2022-12-13T03:45:44.838581Z",
     "shell.execute_reply.started": "2022-12-13T03:45:44.834558Z"
    },
    "tags": []
   },
   "outputs": [],
   "source": [
    "with onto:\n",
    "    class Starbucks(Thing):\n",
    "        pass"
   ]
  },
  {
   "cell_type": "code",
   "execution_count": 21,
   "id": "f363c172-660f-4f5f-a010-4e4208375068",
   "metadata": {
    "execution": {
     "iopub.execute_input": "2022-12-13T03:46:29.160682Z",
     "iopub.status.busy": "2022-12-13T03:46:29.160682Z",
     "iopub.status.idle": "2022-12-13T03:46:29.165698Z",
     "shell.execute_reply": "2022-12-13T03:46:29.164700Z",
     "shell.execute_reply.started": "2022-12-13T03:46:29.160682Z"
    },
    "tags": []
   },
   "outputs": [],
   "source": [
    "# class 선언\n",
    "with onto:\n",
    "    class Beverage(Thing):\n",
    "        pass\n",
    "    \n",
    "    class Category(Thing):\n",
    "        pass\n",
    "    \n",
    "    class AddOns(Thing):\n",
    "        pass"
   ]
  },
  {
   "cell_type": "markdown",
   "id": "d826f641-ccf5-4331-b689-821d0b135b17",
   "metadata": {},
   "source": [
    "### Property 선언"
   ]
  },
  {
   "cell_type": "code",
   "execution_count": 12,
   "id": "e7eed55d-ee52-447d-88f3-1bda355eddfe",
   "metadata": {
    "execution": {
     "iopub.execute_input": "2022-12-13T03:34:21.925634Z",
     "iopub.status.busy": "2022-12-13T03:34:21.924641Z",
     "iopub.status.idle": "2022-12-13T03:34:21.954557Z",
     "shell.execute_reply": "2022-12-13T03:34:21.952563Z",
     "shell.execute_reply.started": "2022-12-13T03:34:21.925634Z"
    },
    "tags": []
   },
   "outputs": [],
   "source": [
    "# Beverage properties\n",
    "with onto:\n",
    "    #### 밀크, 휩, 카테고리, 애드온 ####\n",
    "    \n",
    "    class has_AddOns_name(DataProperty):\n",
    "        domain = [AddOns]\n",
    "        range = [str]\n",
    "    \n",
    "    class has_Beverage_name(DataProperty):\n",
    "        domain = [Beverage]\n",
    "        range = [str]\n",
    "    \n",
    "    class has_Milk(DataProperty):\n",
    "        domain = [Beverage]\n",
    "        range = [str]\n",
    "        \n",
    "    class has_Whip(DataProperty):\n",
    "        domain = [Beverage]\n",
    "        range = [str]\n",
    "        \n",
    "    class category(ObjectProperty):\n",
    "        domain = [Beverage]\n",
    "        range = [Category]\n",
    "        \n",
    "    class has_AddOns(ObjectProperty):\n",
    "        domain = [Beverage]\n",
    "        range = [AddOns]\n",
    "        \n",
    "    #### 영양분 ####\n",
    "    class has_Calories(DataProperty):\n",
    "        domain = [Or([Beverage, AddOns])]\n",
    "        range = [float]\n",
    "\n",
    "    class has_Total_Fat(DataProperty):\n",
    "        domain = [Or([Beverage, AddOns])]\n",
    "        range = [float]\n",
    "        \n",
    "    class has_Saturated_Fat(DataProperty):\n",
    "        domain = [Or([Beverage, AddOns])]\n",
    "        range = [float]\n",
    "        \n",
    "    class has_Trans_Fat(DataProperty):\n",
    "        domain = [Or([Beverage, AddOns])]\n",
    "        range = [float]\n",
    "        \n",
    "    class has_Cholesterol(DataProperty):\n",
    "        domain = [Or([Beverage, AddOns])]\n",
    "        range = [float]\n",
    "        \n",
    "    class has_Sodium(DataProperty):\n",
    "        domain = [Or([Beverage, AddOns])]\n",
    "        range = [float]\n",
    "        \n",
    "    class has_Total_Carbohydrates(DataProperty):\n",
    "        domain = [Or([Beverage, AddOns])]\n",
    "        range = [float]\n",
    "        \n",
    "    class has_Dietary_Fiber(DataProperty):\n",
    "        domain = [Or([Beverage, AddOns])]\n",
    "        range = [float]\n",
    "        \n",
    "    class has_Sugar(DataProperty):\n",
    "        domain = [Or([Beverage, AddOns])]\n",
    "        range = [float]\n",
    "        \n",
    "    class has_Protein(DataProperty):\n",
    "        domain = [Or([Beverage, AddOns])]\n",
    "        range = [float]\n",
    "        \n",
    "    class has_Vitamin_A(DataProperty):\n",
    "        domain = [Or([Beverage, AddOns])]\n",
    "        range = [float]\n",
    "        \n",
    "    class has_Vitamin_C(DataProperty):\n",
    "        domain = [Or([Beverage, AddOns])]\n",
    "        range = [float]\n",
    "        \n",
    "    class has_Calcium(DataProperty):\n",
    "        domain = [Or([Beverage, AddOns])]\n",
    "        range = [float]\n",
    "        \n",
    "    class has_Iron(DataProperty):\n",
    "        domain = [Or([Beverage, AddOns])]\n",
    "        range = [float]\n",
    "        \n",
    "    class has_Caffeine(DataProperty):\n",
    "        domain = [Or([Beverage, AddOns])]\n",
    "        range = [float]"
   ]
  },
  {
   "cell_type": "markdown",
   "id": "6f1990ea-297e-4fb5-985b-4409faf099f1",
   "metadata": {},
   "source": [
    "## 개별 데이터 투입"
   ]
  },
  {
   "cell_type": "markdown",
   "id": "03ccd78b-40bf-4a9f-9e3e-7a2eba84b4b8",
   "metadata": {},
   "source": [
    "### 함수 정의"
   ]
  },
  {
   "cell_type": "code",
   "execution_count": 14,
   "id": "06cf20cd-d256-4daf-ae44-1f8e9970d560",
   "metadata": {
    "execution": {
     "iopub.execute_input": "2022-12-13T03:34:21.987468Z",
     "iopub.status.busy": "2022-12-13T03:34:21.986471Z",
     "iopub.status.idle": "2022-12-13T03:34:22.016392Z",
     "shell.execute_reply": "2022-12-13T03:34:22.014396Z",
     "shell.execute_reply.started": "2022-12-13T03:34:21.987468Z"
    },
    "tags": []
   },
   "outputs": [],
   "source": [
    "def create_Beverage(ID:str, name:str, Category:str, Milk:str, Whip:str, Calories:float, Total_Fat:float, Saturated_Fat:float, Trans_Fat:float, Cholesterol:float, Sodium:float, Total_Carbohydrates:float, Dietary_Fiber:float, Sugar:float, Protein:float, Vitamin_A:float, Vitamin_C:float, Calcium:float, Iron:float, Caffeine:float):\n",
    "    \"\"\"음료 정보 투입 함수\"\"\"\n",
    "    \n",
    "    new_Beverage = Beverage(ID)\n",
    "    new_Beverage.has_Beverage_name.append(name)\n",
    "    \n",
    "    if pd.isna(Milk) == False: # milk 값이 있으면\n",
    "        new_Beverage.has_Milk.append(Milk)\n",
    "    \n",
    "    if pd.isna(Whip) == False: # Whip 값이 있으면\n",
    "        new_Beverage.has_Whip.append(Whip)\n",
    "    \n",
    "    new_Beverage.has_Calories.append(Calories)\n",
    "    new_Beverage.has_Total_Fat.append(Total_Fat)\n",
    "    new_Beverage.has_Saturated_Fat.append(Saturated_Fat)\n",
    "    new_Beverage.has_Trans_Fat.append(Trans_Fat)\n",
    "    new_Beverage.has_Cholesterol.append(Cholesterol)\n",
    "    new_Beverage.has_Sodium.append(Sodium)\n",
    "    new_Beverage.has_Total_Carbohydrates.append(Total_Carbohydrates)\n",
    "    new_Beverage.has_Dietary_Fiber.append(Dietary_Fiber)\n",
    "    new_Beverage.has_Sugar.append(Sugar)\n",
    "    new_Beverage.has_Protein.append(Protein)\n",
    "    new_Beverage.has_Vitamin_A.append(Vitamin_A)\n",
    "    new_Beverage.has_Vitamin_C.append(Vitamin_C)\n",
    "    new_Beverage.has_Calcium.append(Calcium)\n",
    "    new_Beverage.has_Iron.append(Iron)\n",
    "    new_Beverage.has_Caffeine.append(Caffeine)\n",
    "    \n",
    "    #new_Beverage.Category.append(Category_info(Category))\n",
    "    \n",
    "    return new_Beverage"
   ]
  },
  {
   "cell_type": "code",
   "execution_count": 15,
   "id": "3742f546-2044-4e0c-b790-15037da3d243",
   "metadata": {
    "execution": {
     "iopub.execute_input": "2022-12-13T03:34:22.020381Z",
     "iopub.status.busy": "2022-12-13T03:34:22.019383Z",
     "iopub.status.idle": "2022-12-13T03:34:22.034343Z",
     "shell.execute_reply": "2022-12-13T03:34:22.030356Z",
     "shell.execute_reply.started": "2022-12-13T03:34:22.020381Z"
    },
    "tags": []
   },
   "outputs": [],
   "source": [
    "def create_AddOns(ID:str, name:str, Calories, Total_Fat, Saturated_Fat, Trans_Fat, Cholesterol, Sodium, Total_Carbohydrates, Dietary_Fiber, Sugar, Protein, Vitamin_A, Vitamin_C, Calcium, Iron, Caffeine):\n",
    "    \"\"\"애드온 정보 투입 함수\"\"\"\n",
    "    \n",
    "    new_AddOns = AddOns(ID)\n",
    "    new_AddOns.has_AddOns_name.append(name)\n",
    "    \n",
    "    if pd.isna(Milk) == False: # milk 값이 있으면\n",
    "        new_AddOns.has_Milk.append(Milk)\n",
    "        \n",
    "    if pd.isna(Whip) == False: # Whip 값이 있으면\n",
    "        new_AddOns.has_Whip.append(Whip)\n",
    "        \n",
    "    new_AddOns.has_Calories.append(Calories)\n",
    "    new_AddOns.has_Total_Fat.append(Total_Fat)\n",
    "    new_AddOns.has_Saturated_Fat.append(Saturated_Fat)\n",
    "    new_AddOns.has_Trans_Fat.append(Trans_Fat)\n",
    "    new_AddOns.has_Cholesterol.append(Cholesterol)\n",
    "    new_AddOns.has_Sodium.append(Sodium)\n",
    "    new_AddOns.has_Total_Carbohydrates.append(Total_Carbohydrates)\n",
    "    new_AddOns.has_Dietary_Fiber.append(Dietary_Fiber)\n",
    "    new_AddOns.has_Sugar.append(Sugar)\n",
    "    new_AddOns.has_Protein.append(Protein)\n",
    "    new_AddOns.has_Vitamin_A.append(Vitamin_A)\n",
    "    new_AddOns.has_Vitamin_C.append(Vitamin_C)\n",
    "    new_AddOns.has_Calcium.append(Calcium)\n",
    "    new_AddOns.has_Iron.append(Iron)\n",
    "    new_AddOns.has_Caffeine.append(Caffeine)\n",
    "    \n",
    "    return new_AddOns"
   ]
  },
  {
   "cell_type": "markdown",
   "id": "585e5326-0f35-44fa-9333-80b19d148971",
   "metadata": {},
   "source": [
    "### 정보 투입"
   ]
  },
  {
   "cell_type": "code",
   "execution_count": 17,
   "id": "00a3ed39-0dd3-416a-a694-df15eda8fe40",
   "metadata": {
    "execution": {
     "iopub.execute_input": "2022-12-13T03:34:22.064264Z",
     "iopub.status.busy": "2022-12-13T03:34:22.064264Z",
     "iopub.status.idle": "2022-12-13T03:34:22.381414Z",
     "shell.execute_reply": "2022-12-13T03:34:22.380417Z",
     "shell.execute_reply.started": "2022-12-13T03:34:22.064264Z"
    },
    "tags": []
   },
   "outputs": [
    {
     "name": "stderr",
     "output_type": "stream",
     "text": [
      "100%|██████████████████████████████████████████████████████████████████████████████| 345/345 [00:00<00:00, 1285.96it/s]\n"
     ]
    }
   ],
   "source": [
    "# Beverage 정보 넣기\n",
    "for i in tqdm(range(len(starbucks_info))):\n",
    "    \n",
    "    cur_ID = str(starbucks_info['ID'].iloc[i])\n",
    "    cur_name = str(starbucks_info['Beverage'].iloc[i])\n",
    "    cur_Category = str(starbucks_info['Product'].iloc[i])\n",
    "    cur_Milk = str(starbucks_info['Milk'].iloc[i])\n",
    "    cur_Whip = str(starbucks_info['Whip'].iloc[i])\n",
    "    \n",
    "    cur_Calories = float(starbucks_info['Calories'].iloc[i])\n",
    "    cur_Total_Fat = float(starbucks_info['Total_Fat'].iloc[i])\n",
    "    cur_Saturated_Fat = float(starbucks_info['Saturated_Fat'].iloc[i])\n",
    "    cur_Trans_Fat = float(starbucks_info['Trans_Fat'].iloc[i])\n",
    "    cur_Cholesterol = float(starbucks_info['Cholesterol'].iloc[i])\n",
    "    \n",
    "    cur_Sodium = float(starbucks_info['Sodium'].iloc[i])\n",
    "    cur_Total_Carbohydrates = float(starbucks_info['Total_Carbohydrates'].iloc[i])\n",
    "    cur_Dietary_Fiber = float(starbucks_info['Dietary_Fiber'].iloc[i])\n",
    "    cur_Sugar = float(starbucks_info['Sugar'].iloc[i])\n",
    "    cur_Protein = float(starbucks_info['Protein'].iloc[i])\n",
    "    \n",
    "    cur_Vitamin_A = float(starbucks_info['Vitamin_A'].iloc[i])\n",
    "    cur_Vitamin_C = float(starbucks_info['Vitamin_C'].iloc[i])\n",
    "    cur_Calcium = float(starbucks_info['Calcium'].iloc[i])\n",
    "    cur_Iron = float(starbucks_info['Iron'].iloc[i])\n",
    "    cur_Caffeine = float(starbucks_info['Caffeine'].iloc[i])\n",
    "    \n",
    "    #print(i, cur_name, cur_Milk, cur_Whip, cur_Calories, cur_Total_Fat)\n",
    "    \n",
    "    new_Beverage = create_Beverage(cur_ID, cur_name, cur_Category, cur_Milk, cur_Whip, \n",
    "                                   cur_Calories, cur_Total_Fat, cur_Saturated_Fat, cur_Trans_Fat, cur_Cholesterol, \n",
    "                                   cur_Sodium, cur_Total_Carbohydrates, cur_Dietary_Fiber, cur_Sugar, cur_Protein, cur_Vitamin_A, cur_Vitamin_C, cur_Calcium, cur_Iron, cur_Caffeine)"
   ]
  },
  {
   "cell_type": "code",
   "execution_count": null,
   "id": "24f07222-b854-40fe-bf21-45c166eb2d74",
   "metadata": {},
   "outputs": [],
   "source": [
    "# AddOns 정보 넣기\n",
    "for i in tqdm(range(len(starbucks_info))):\n",
    "    \n",
    "    cur_ID = str(starbucks_info['ID'].iloc[i])\n",
    "    cur_name = str(starbucks_info['Beverage'].iloc[i])\n",
    "    cur_Category = str(starbucks_info['Product'].iloc[i])\n",
    "    cur_Milk = str(starbucks_info['Milk'].iloc[i])\n",
    "    cur_Whip = str(starbucks_info['Whip'].iloc[i])\n",
    "    \n",
    "    cur_Calories = float(starbucks_info['Calories'].iloc[i])\n",
    "    cur_Total_Fat = float(starbucks_info['Total_Fat'].iloc[i])\n",
    "    cur_Saturated_Fat = float(starbucks_info['Saturated_Fat'].iloc[i])\n",
    "    cur_Trans_Fat = float(starbucks_info['Trans_Fat'].iloc[i])\n",
    "    cur_Cholesterol = float(starbucks_info['Cholesterol'].iloc[i])\n",
    "    \n",
    "    cur_Sodium = float(starbucks_info['Sodium'].iloc[i])\n",
    "    cur_Total_Carbohydrates = float(starbucks_info['Total_Carbohydrates'].iloc[i])\n",
    "    cur_Dietary_Fiber = float(starbucks_info['Dietary_Fiber'].iloc[i])\n",
    "    cur_Sugar = float(starbucks_info['Sugar'].iloc[i])\n",
    "    cur_Protein = float(starbucks_info['Protein'].iloc[i])\n",
    "    \n",
    "    cur_Vitamin_A = float(starbucks_info['Vitamin_A'].iloc[i])\n",
    "    cur_Vitamin_C = float(starbucks_info['Vitamin_C'].iloc[i])\n",
    "    cur_Calcium = float(starbucks_info['Calcium'].iloc[i])\n",
    "    cur_Iron = float(starbucks_info['Iron'].iloc[i])\n",
    "    cur_Caffeine = float(starbucks_info['Caffeine'].iloc[i])\n",
    "    \n",
    "    #print(i, cur_name, cur_Milk, cur_Whip, cur_Calories, cur_Total_Fat)\n",
    "    \n",
    "    new_Beverage = create_Beverage(cur_ID, cur_name, cur_Category, cur_Milk, cur_Whip, \n",
    "                                   cur_Calories, cur_Total_Fat, cur_Saturated_Fat, cur_Trans_Fat, cur_Cholesterol, \n",
    "                                   cur_Sodium, cur_Total_Carbohydrates, cur_Dietary_Fiber, cur_Sugar, cur_Protein, cur_Vitamin_A, cur_Vitamin_C, cur_Calcium, cur_Iron, cur_Caffeine)"
   ]
  },
  {
   "cell_type": "markdown",
   "id": "28732f0a-abe1-4223-b8f3-76e3a44b8077",
   "metadata": {},
   "source": [
    "## 구축 온톨로지 저장"
   ]
  },
  {
   "cell_type": "code",
   "execution_count": 18,
   "id": "a5313f6f-dac1-4e87-a3d1-8a9656f2bea2",
   "metadata": {
    "execution": {
     "iopub.execute_input": "2022-12-13T03:34:22.382412Z",
     "iopub.status.busy": "2022-12-13T03:34:22.382412Z",
     "iopub.status.idle": "2022-12-13T03:34:22.429287Z",
     "shell.execute_reply": "2022-12-13T03:34:22.428289Z",
     "shell.execute_reply.started": "2022-12-13T03:34:22.382412Z"
    },
    "tags": []
   },
   "outputs": [],
   "source": [
    "onto.save(file = 'ontology_starbucks.rdf', format = 'rdfxml')"
   ]
  }
 ],
 "metadata": {
  "kernelspec": {
   "display_name": "Python 3",
   "language": "python",
   "name": "python3"
  },
  "language_info": {
   "codemirror_mode": {
    "name": "ipython",
    "version": 3
   },
   "file_extension": ".py",
   "mimetype": "text/x-python",
   "name": "python",
   "nbconvert_exporter": "python",
   "pygments_lexer": "ipython3",
   "version": "3.8.8"
  }
 },
 "nbformat": 4,
 "nbformat_minor": 5
}
