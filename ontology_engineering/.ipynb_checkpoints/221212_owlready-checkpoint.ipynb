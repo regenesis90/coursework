{
 "cells": [
  {
   "cell_type": "markdown",
   "id": "2beece95-0abf-42fd-9253-48fa486e83a1",
   "metadata": {},
   "source": [
    "# Import"
   ]
  },
  {
   "cell_type": "code",
   "execution_count": 1,
   "id": "344d4e02-700c-4a1c-bccb-3ca9a9b0031c",
   "metadata": {
    "execution": {
     "iopub.execute_input": "2022-12-12T10:34:20.007981Z",
     "iopub.status.busy": "2022-12-12T10:34:20.007981Z",
     "iopub.status.idle": "2022-12-12T10:34:33.993003Z",
     "shell.execute_reply": "2022-12-12T10:34:33.992005Z",
     "shell.execute_reply.started": "2022-12-12T10:34:20.007981Z"
    },
    "tags": []
   },
   "outputs": [
    {
     "name": "stdout",
     "output_type": "stream",
     "text": [
      "Collecting owlready2\n",
      "  Downloading Owlready2-0.39.tar.gz (25.5 MB)\n",
      "     ---------------------------------------- 25.5/25.5 MB 6.6 MB/s eta 0:00:00\n",
      "  Preparing metadata (setup.py): started\n",
      "  Preparing metadata (setup.py): finished with status 'done'\n",
      "Building wheels for collected packages: owlready2\n",
      "  Building wheel for owlready2 (setup.py): started\n",
      "  Building wheel for owlready2 (setup.py): finished with status 'done'\n",
      "  Created wheel for owlready2: filename=Owlready2-0.39-py3-none-any.whl size=21517099 sha256=fc6974eb4477cb7e0d5e8280e9ae7326d6ad240592f4a236390ca7aef6ae457d\n",
      "  Stored in directory: c:\\users\\user\\appdata\\local\\pip\\cache\\wheels\\c0\\f5\\d2\\d6aecee2cbd7d72b34bc856a21fe21d37d9c6e6d97e069150e\n",
      "Successfully built owlready2\n",
      "Installing collected packages: owlready2\n",
      "Successfully installed owlready2-0.39\n"
     ]
    },
    {
     "name": "stderr",
     "output_type": "stream",
     "text": [
      "\n",
      "[notice] A new release of pip available: 22.3 -> 22.3.1\n",
      "[notice] To update, run: python.exe -m pip install --upgrade pip\n"
     ]
    }
   ],
   "source": [
    "#!pip install owlready2"
   ]
  },
  {
   "cell_type": "code",
   "execution_count": 2,
   "id": "10e0e9cc-5a9f-4bac-943d-ed558159a354",
   "metadata": {
    "execution": {
     "iopub.execute_input": "2022-12-12T10:34:48.500727Z",
     "iopub.status.busy": "2022-12-12T10:34:48.500727Z",
     "iopub.status.idle": "2022-12-12T10:34:50.791649Z",
     "shell.execute_reply": "2022-12-12T10:34:50.791649Z",
     "shell.execute_reply.started": "2022-12-12T10:34:48.500727Z"
    },
    "tags": []
   },
   "outputs": [
    {
     "name": "stderr",
     "output_type": "stream",
     "text": [
      "* Owlready2 * Warning: optimized Cython parser module 'owlready2_optimized' is not available, defaulting to slower Python implementation\n"
     ]
    }
   ],
   "source": [
    "from owlready2 import *\n",
    "import pandas as pd\n",
    "import os"
   ]
  },
  {
   "cell_type": "code",
   "execution_count": 54,
   "id": "f44fbb8d-6014-4404-b494-9cc922644181",
   "metadata": {
    "execution": {
     "iopub.execute_input": "2022-12-12T11:05:51.805778Z",
     "iopub.status.busy": "2022-12-12T11:05:51.804777Z",
     "iopub.status.idle": "2022-12-12T11:05:51.819633Z",
     "shell.execute_reply": "2022-12-12T11:05:51.818636Z",
     "shell.execute_reply.started": "2022-12-12T11:05:51.805778Z"
    },
    "tags": []
   },
   "outputs": [],
   "source": [
    "import numpy as np"
   ]
  },
  {
   "cell_type": "markdown",
   "id": "64a381ec-f81c-4636-b4bf-1d3047a3d091",
   "metadata": {},
   "source": [
    "# Load dataset"
   ]
  },
  {
   "cell_type": "markdown",
   "id": "6eeaaee4-d1c2-4a6a-ace7-77b4ecadaa22",
   "metadata": {
    "execution": {
     "iopub.execute_input": "2022-12-12T11:07:07.574818Z",
     "iopub.status.busy": "2022-12-12T11:07:07.573821Z",
     "iopub.status.idle": "2022-12-12T11:07:07.594769Z",
     "shell.execute_reply": "2022-12-12T11:07:07.592771Z",
     "shell.execute_reply.started": "2022-12-12T11:07:07.574818Z"
    },
    "tags": []
   },
   "source": [
    "starbucks_info.columns = [\n",
    "    'Temperature', 'Category', 'Product_Name', 'Milk', 'Whip', 'Calories',\n",
    "       'Total_Fat', 'Saturated_Fat', 'Trans_Fat', 'Cholesterol', 'Sodium',\n",
    "       'Total_Carbohydrates', 'Dietary_Fiber', 'Sugar', 'Protein', 'Vitamin_A',\n",
    "       'Vitamin_C', 'Calcium', 'Iron', 'Caffeine']\n",
    "\n",
    "def fullname(product, milk):\n",
    "    if pd.isna(milk) == False: # milk 값이 있으면\n",
    "        beverage = str(product) + ' with ' + str(milk) + ' Milk'\n",
    "        \n",
    "    else:\n",
    "        beverage = str(product)\n",
    "        \n",
    "    return beverage\n",
    "    \n",
    "starbucks_info['Beverage'] = starbucks_info.apply(lambda x: fullname(x.Product_Name, x.Milk), axis = 1)\n",
    "\n",
    "starbucks_info.to_csv('Starbucks_Recent_Menus_Tall.csv', encoding = 'UTF-8')\n",
    "\n",
    "category = starbucks_info[['Temperature', 'Category', 'Product_Name']].copy()\n",
    "\n",
    "category.drop_duplicates(inplace = True)\n",
    "\n",
    "category.to_csv('product_category.csv', encoding = 'UTF-8')"
   ]
  },
  {
   "cell_type": "code",
   "execution_count": 80,
   "id": "abc13a1c-b68b-4bb2-96eb-716c6ca22f6f",
   "metadata": {
    "execution": {
     "iopub.execute_input": "2022-12-12T11:19:07.653970Z",
     "iopub.status.busy": "2022-12-12T11:19:07.653970Z",
     "iopub.status.idle": "2022-12-12T11:19:07.664940Z",
     "shell.execute_reply": "2022-12-12T11:19:07.663942Z",
     "shell.execute_reply.started": "2022-12-12T11:19:07.653970Z"
    },
    "tags": []
   },
   "outputs": [],
   "source": [
    "menu_dir = 'https://raw.githubusercontent.com/regenesis90/coursework/main/ontology_engineering/Dataset/Starbucks_Recent_Menus_Tall.csv'"
   ]
  },
  {
   "cell_type": "code",
   "execution_count": 36,
   "id": "be429309-1032-4d66-a75a-b05177221d22",
   "metadata": {
    "execution": {
     "iopub.execute_input": "2022-12-12T11:02:00.211348Z",
     "iopub.status.busy": "2022-12-12T11:02:00.211348Z",
     "iopub.status.idle": "2022-12-12T11:02:00.789496Z",
     "shell.execute_reply": "2022-12-12T11:02:00.788498Z",
     "shell.execute_reply.started": "2022-12-12T11:02:00.211348Z"
    },
    "tags": []
   },
   "outputs": [],
   "source": [
    "starbucks_info = pd.read_csv(menu_dir)"
   ]
  },
  {
   "cell_type": "code",
   "execution_count": 78,
   "id": "80617a70-a176-4080-9227-aff8c977dbbe",
   "metadata": {
    "execution": {
     "iopub.execute_input": "2022-12-12T11:16:58.150128Z",
     "iopub.status.busy": "2022-12-12T11:16:58.149130Z",
     "iopub.status.idle": "2022-12-12T11:16:58.173067Z",
     "shell.execute_reply": "2022-12-12T11:16:58.172070Z",
     "shell.execute_reply.started": "2022-12-12T11:16:58.150128Z"
    },
    "tags": []
   },
   "outputs": [],
   "source": []
  },
  {
   "cell_type": "markdown",
   "id": "2903c966-b229-45a8-bd49-42e601eed818",
   "metadata": {},
   "source": [
    "# Develop Ontology"
   ]
  },
  {
   "cell_type": "markdown",
   "id": "0d684237-d238-4420-8de4-63ee72741958",
   "metadata": {},
   "source": [
    "## Create New Ontology\n",
    "* 새로운 온톨로지 생성(빈 온톨로지)"
   ]
  },
  {
   "cell_type": "code",
   "execution_count": 65,
   "id": "72c804e1-9795-4a14-8213-00dffb4e948d",
   "metadata": {
    "execution": {
     "iopub.execute_input": "2022-12-12T11:07:25.471060Z",
     "iopub.status.busy": "2022-12-12T11:07:25.470062Z",
     "iopub.status.idle": "2022-12-12T11:07:25.477044Z",
     "shell.execute_reply": "2022-12-12T11:07:25.476047Z",
     "shell.execute_reply.started": "2022-12-12T11:07:25.471060Z"
    },
    "tags": []
   },
   "outputs": [],
   "source": [
    "ontology_name = 'http://test.org/starbucks.owl'\n",
    "onto = get_ontology(ontology_name)"
   ]
  },
  {
   "cell_type": "markdown",
   "id": "59da7c05-1008-4efd-b8eb-5cd3a54cf5f2",
   "metadata": {},
   "source": [
    "## Class & Properties 생성"
   ]
  },
  {
   "cell_type": "markdown",
   "id": "da3d9f37-883d-4c7c-a852-44fd9939e257",
   "metadata": {},
   "source": [
    "### Class 선언"
   ]
  },
  {
   "cell_type": "code",
   "execution_count": 66,
   "id": "f363c172-660f-4f5f-a010-4e4208375068",
   "metadata": {
    "execution": {
     "iopub.execute_input": "2022-12-12T11:07:26.690660Z",
     "iopub.status.busy": "2022-12-12T11:07:26.690660Z",
     "iopub.status.idle": "2022-12-12T11:07:26.708612Z",
     "shell.execute_reply": "2022-12-12T11:07:26.707643Z",
     "shell.execute_reply.started": "2022-12-12T11:07:26.690660Z"
    },
    "tags": []
   },
   "outputs": [],
   "source": [
    "# class 선언\n",
    "with onto:\n",
    "    class Beverage(Thing):\n",
    "        pass"
   ]
  },
  {
   "cell_type": "markdown",
   "id": "d826f641-ccf5-4331-b689-821d0b135b17",
   "metadata": {},
   "source": [
    "### Property 선언"
   ]
  },
  {
   "cell_type": "code",
   "execution_count": null,
   "id": "50e881ea-a9df-4d21-813c-a3c53ac6c48e",
   "metadata": {},
   "outputs": [],
   "source": [
    "# Beverage properties\n",
    "with onto:\n",
    "    class has_Calories(DataProperty):\n",
    "        domain = [Beverage]\n",
    "        range = [int]\n",
    "\n",
    "    class has_Total_Fat(DataProperty):\n",
    "        domain = [Beverage]\n",
    "        range = [float]\n",
    "        \n",
    "    class has_Milk(ObjectProperty):\n",
    "        domain = [Beverage]\n",
    "        range = ['']\n",
    "        \n",
    "    class has_Whip(ObjectProperty):\n",
    "        domain = [Beverage]\n",
    "        range = [Whip]"
   ]
  },
  {
   "cell_type": "code",
   "execution_count": null,
   "id": "117867a9-4825-4205-a58d-5c0321e9ea27",
   "metadata": {},
   "outputs": [],
   "source": [
    "# AddOns properties\n",
    "with onto:\n",
    "    class has_student_name(DataProperty):\n",
    "        domain = [Student]\n",
    "        range = [str]\n",
    "\n",
    "    class has_student_score(DataProperty):\n",
    "        domain = [Student]\n",
    "        range = [int]\n",
    "\n",
    "\n",
    "    class has_student_gender(DataProperty):\n",
    "        domain = [Student]\n",
    "        range = [bool]\n",
    "\n",
    "    class has_student_age(DataProperty):\n",
    "        domain = [Student]\n",
    "        range = [int]\n",
    "        \n",
    "    class apply(ObjectProperty):\n",
    "        domain = [Student]\n",
    "        range = [University]\n",
    "        inverse_property = applied"
   ]
  },
  {
   "cell_type": "code",
   "execution_count": null,
   "id": "fe549032-6636-4e21-aa1e-a1349ed360aa",
   "metadata": {},
   "outputs": [],
   "source": [
    "# Milk properties"
   ]
  }
 ],
 "metadata": {
  "kernelspec": {
   "display_name": "Python 3",
   "language": "python",
   "name": "python3"
  },
  "language_info": {
   "codemirror_mode": {
    "name": "ipython",
    "version": 3
   },
   "file_extension": ".py",
   "mimetype": "text/x-python",
   "name": "python",
   "nbconvert_exporter": "python",
   "pygments_lexer": "ipython3",
   "version": "3.8.8"
  }
 },
 "nbformat": 4,
 "nbformat_minor": 5
}
