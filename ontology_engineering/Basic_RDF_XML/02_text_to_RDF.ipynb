{
 "cells": [
  {
   "cell_type": "markdown",
   "id": "38f3986b-78e3-4b69-9191-c820f6cffc1a",
   "metadata": {},
   "source": [
    "# Text to RDF\n",
    "* 텍스트 명령어(트리플 등 입력)을 통해서 RDF 생성하기\n",
    "* RDF 그래프 객체를 시각화하기\n",
    "* 트리플 구조를 `pandas` 데이터프레임으로 파싱하기\n",
    "* RDF 그래프 객체를 RDF-XML 등의 파일로 저장하기"
   ]
  },
  {
   "cell_type": "markdown",
   "id": "2efd09ec-dc1a-4133-abb6-a0cd18f8e459",
   "metadata": {},
   "source": [
    "* https://hodubab.tistory.com/81\n",
    "* https://rdflib.readthedocs.io/_/downloads/en/4.2.2/pdf/"
   ]
  },
  {
   "cell_type": "markdown",
   "id": "f869d65f-f8a7-4c6e-9e37-33963c591cbe",
   "metadata": {},
   "source": [
    "# Set Up"
   ]
  },
  {
   "cell_type": "markdown",
   "id": "2713182e-68e0-46c8-8b93-2842628fb770",
   "metadata": {},
   "source": [
    "## Imports"
   ]
  },
  {
   "cell_type": "code",
   "execution_count": 10,
   "id": "1dde4971-7f90-4d61-a043-feac81834172",
   "metadata": {
    "execution": {
     "iopub.execute_input": "2022-09-26T01:47:52.560509Z",
     "iopub.status.busy": "2022-09-26T01:47:52.560509Z",
     "iopub.status.idle": "2022-09-26T01:47:52.576162Z",
     "shell.execute_reply": "2022-09-26T01:47:52.576162Z",
     "shell.execute_reply.started": "2022-09-26T01:47:52.560509Z"
    },
    "tags": []
   },
   "outputs": [],
   "source": [
    "import rdflib\n",
    "from rdflib import URIRef, BNode, Literal, Namespace\n",
    "from rdflib.extras.external_graph_libs import rdflib_to_networkx_multidigraph\n",
    "from rdflib.namespace import RDF, FOAF\n",
    "\n",
    "import matplotlib.pyplot as plt\n",
    "from tqdm import tqdm\n",
    "import os\n",
    "\n",
    "# RDF 그래프 그려주는 거\n",
    "import io\n",
    "from io import StringIO, BytesIO\n",
    "import pydotplus\n",
    "from IPython.display import display, Image\n",
    "from rdflib.tools.rdf2dot import rdf2dot"
   ]
  },
  {
   "cell_type": "markdown",
   "id": "2580aab2-43bd-49fd-ad2a-9626d142eb75",
   "metadata": {},
   "source": [
    "## Functions"
   ]
  },
  {
   "cell_type": "code",
   "execution_count": 7,
   "id": "d77f2832-8116-4a12-a85d-c28867954939",
   "metadata": {
    "execution": {
     "iopub.execute_input": "2022-09-26T01:46:59.980702Z",
     "iopub.status.busy": "2022-09-26T01:46:59.980702Z",
     "iopub.status.idle": "2022-09-26T01:46:59.987712Z",
     "shell.execute_reply": "2022-09-26T01:46:59.986714Z",
     "shell.execute_reply.started": "2022-09-26T01:46:59.980702Z"
    },
    "tags": []
   },
   "outputs": [],
   "source": [
    "def visualize(g):\n",
    "    stream = io.StringIO()\n",
    "    rdf2dot(g, stream, opts = {display})\n",
    "    \n",
    "    dg = pydotplus.graph_from_dot_data(stream.getvalue())\n",
    "    png = dg.create_png() # PNG 이미지를 생성함\n",
    "    \n",
    "    display(Image(png)) # 이미지를 표시함"
   ]
  },
  {
   "cell_type": "code",
   "execution_count": 4,
   "id": "8d22ffd7-b025-4000-8eaf-101644ccafa8",
   "metadata": {
    "execution": {
     "iopub.execute_input": "2022-09-26T01:45:53.993396Z",
     "iopub.status.busy": "2022-09-26T01:45:53.993396Z",
     "iopub.status.idle": "2022-09-26T01:45:54.002372Z",
     "shell.execute_reply": "2022-09-26T01:45:54.001375Z",
     "shell.execute_reply.started": "2022-09-26T01:45:53.993396Z"
    },
    "tags": []
   },
   "outputs": [],
   "source": [
    "def make_class(class_name, base_URI:'Str'):\n",
    "    \n",
    "    URI = base_URI + class_name\n",
    "    globals()['class_instance'] = rdflib.URIRef(URI)\n",
    "    \n",
    "    return class_instance"
   ]
  },
  {
   "cell_type": "markdown",
   "id": "7a221dc9-d3e9-4618-918b-48633f20de32",
   "metadata": {},
   "source": [
    "# Input"
   ]
  },
  {
   "cell_type": "markdown",
   "id": "c3ffad59-3bb9-477f-8732-eabc1d39e391",
   "metadata": {},
   "source": [
    "## RDF 설정"
   ]
  },
  {
   "cell_type": "code",
   "execution_count": 12,
   "id": "2623a163-a5de-4bb1-ad17-dd662370f76b",
   "metadata": {
    "execution": {
     "iopub.execute_input": "2022-09-26T01:50:39.186176Z",
     "iopub.status.busy": "2022-09-26T01:50:39.186176Z",
     "iopub.status.idle": "2022-09-26T01:50:39.199141Z",
     "shell.execute_reply": "2022-09-26T01:50:39.199141Z",
     "shell.execute_reply.started": "2022-09-26T01:50:39.186176Z"
    },
    "tags": []
   },
   "outputs": [],
   "source": [
    "URI = 'http://example.org/'"
   ]
  },
  {
   "cell_type": "code",
   "execution_count": 13,
   "id": "decf3b90-5e37-4772-b4e5-50c5455c4032",
   "metadata": {
    "execution": {
     "iopub.execute_input": "2022-09-26T01:50:39.632500Z",
     "iopub.status.busy": "2022-09-26T01:50:39.632500Z",
     "iopub.status.idle": "2022-09-26T01:50:39.645352Z",
     "shell.execute_reply": "2022-09-26T01:50:39.644354Z",
     "shell.execute_reply.started": "2022-09-26T01:50:39.632500Z"
    },
    "tags": []
   },
   "outputs": [],
   "source": [
    "n = Namespace(URI)"
   ]
  },
  {
   "cell_type": "code",
   "execution_count": 15,
   "id": "e40eb7d8-12ab-430d-9789-e8c489f098ca",
   "metadata": {
    "execution": {
     "iopub.execute_input": "2022-09-26T01:50:44.387959Z",
     "iopub.status.busy": "2022-09-26T01:50:44.386962Z",
     "iopub.status.idle": "2022-09-26T01:50:44.404962Z",
     "shell.execute_reply": "2022-09-26T01:50:44.403944Z",
     "shell.execute_reply.started": "2022-09-26T01:50:44.387959Z"
    },
    "tags": []
   },
   "outputs": [
    {
     "data": {
      "text/plain": [
       "(rdflib.term.URIRef('http://example.org/bob'),\n",
       " rdflib.term.URIRef('http://example.org/eve'))"
      ]
     },
     "execution_count": 15,
     "metadata": {},
     "output_type": "execute_result"
    }
   ],
   "source": [
    "n.bob, n.eve"
   ]
  },
  {
   "cell_type": "code",
   "execution_count": 27,
   "id": "aa27e766-b379-4c25-aba6-45dce8cf6519",
   "metadata": {
    "execution": {
     "iopub.execute_input": "2022-09-26T01:54:20.654819Z",
     "iopub.status.busy": "2022-09-26T01:54:20.654819Z",
     "iopub.status.idle": "2022-09-26T01:54:20.674275Z",
     "shell.execute_reply": "2022-09-26T01:54:20.673277Z",
     "shell.execute_reply.started": "2022-09-26T01:54:20.654819Z"
    },
    "tags": []
   },
   "outputs": [],
   "source": [
    "g = rdflib.Graph()"
   ]
  },
  {
   "cell_type": "code",
   "execution_count": 23,
   "id": "fab7794a-eaae-4604-a3be-5fb7b208fc6b",
   "metadata": {
    "execution": {
     "iopub.execute_input": "2022-09-26T01:54:04.495609Z",
     "iopub.status.busy": "2022-09-26T01:54:04.495609Z",
     "iopub.status.idle": "2022-09-26T01:54:04.511661Z",
     "shell.execute_reply": "2022-09-26T01:54:04.511266Z",
     "shell.execute_reply.started": "2022-09-26T01:54:04.495609Z"
    },
    "tags": []
   },
   "outputs": [],
   "source": [
    "Frank = {'gender': 'men', 'married': 'Susie'}\n",
    "Peter = {'father': 'Frank', 'likes': 'Sandra'}\n",
    "Sophie = {'gender': 'women', 'likes': 'Peter'}"
   ]
  },
  {
   "cell_type": "code",
   "execution_count": 24,
   "id": "14d9e008-44bf-4c7d-ba80-899a369125a1",
   "metadata": {
    "execution": {
     "iopub.execute_input": "2022-09-26T01:54:06.630152Z",
     "iopub.status.busy": "2022-09-26T01:54:06.630152Z",
     "iopub.status.idle": "2022-09-26T01:54:06.646583Z",
     "shell.execute_reply": "2022-09-26T01:54:06.645798Z",
     "shell.execute_reply.started": "2022-09-26T01:54:06.630152Z"
    },
    "tags": []
   },
   "outputs": [],
   "source": [
    "person_list = ['Sophie', 'Frank', 'Peter']\n",
    "property_list = [Sophie, Frank, Peter]"
   ]
  },
  {
   "cell_type": "markdown",
   "id": "cc82f68e-4b38-408b-b3e8-94939eebf825",
   "metadata": {},
   "source": [
    "### 타 리소스와 관계 추가"
   ]
  },
  {
   "cell_type": "code",
   "execution_count": 25,
   "id": "4928091f-c551-4bea-94a5-7b0789ae8ab6",
   "metadata": {
    "execution": {
     "iopub.execute_input": "2022-09-26T01:54:15.987409Z",
     "iopub.status.busy": "2022-09-26T01:54:15.987409Z",
     "iopub.status.idle": "2022-09-26T01:54:15.997331Z",
     "shell.execute_reply": "2022-09-26T01:54:15.996333Z",
     "shell.execute_reply.started": "2022-09-26T01:54:15.987409Z"
    },
    "tags": []
   },
   "outputs": [],
   "source": [
    "for person, prop in zip(person_list, property_list):\n",
    "    \n",
    "    vname = person\n",
    "    for p,v in prop.items(): #property==key, values\n",
    "        \n",
    "        # value 값이 string일 경우 Literal로 추가한다\n",
    "        if type(v) == 'str': \n",
    "            person_instance = make_class(vname, URI)\n",
    "            globals()[vname] = make_class(vname, URI)\n",
    "            #print(person_instance, globals()[vname])\n",
    "    \n",
    "            g.add((person_instance, globals()[vname], rdflib.Literal(v)))\n",
    "        \n",
    "        # 숫자형이 아닐 경우 관게형으로 추가한다\n",
    "#         else:\n",
    "#             #print(prop)\n",
    "#             #print(f'p:{p}')\n",
    "#             #print(f'v:{v}')\n",
    "#             #print(type(v))\n",
    "#             person_instance = make_class(vname, URI)\n",
    "#             #print(person_instance)\n",
    "#             globals()[vname] = make_class(vname, URI)\n",
    "#             #print(globals()[vname])\n",
    "    \n",
    "#             globals()[p] = make_class(str(v), '')\n",
    "            \n",
    "#             #print(globals()[p])\n",
    "    \n",
    "#             g.add((person_instance, globals()[vname], globals()[p]))"
   ]
  },
  {
   "cell_type": "code",
   "execution_count": 28,
   "id": "55e614b1-a5f9-4aa7-b597-3ee599af1706",
   "metadata": {
    "execution": {
     "iopub.execute_input": "2022-09-26T01:54:23.539137Z",
     "iopub.status.busy": "2022-09-26T01:54:23.539137Z",
     "iopub.status.idle": "2022-09-26T01:54:23.666908Z",
     "shell.execute_reply": "2022-09-26T01:54:23.666908Z",
     "shell.execute_reply.started": "2022-09-26T01:54:23.539137Z"
    },
    "tags": []
   },
   "outputs": [
    {
     "data": {
      "image/png": "[encoded data removed]",
      "text/plain": [
       "<IPython.core.display.Image object>"
      ]
     },
     "metadata": {},
     "output_type": "display_data"
    }
   ],
   "source": [
    "visualize(g)"
   ]
  },
  {
   "cell_type": "markdown",
   "id": "6f053318-5a6c-4f83-83a3-6d6865b59798",
   "metadata": {},
   "source": [
    "### Value값 추가"
   ]
  },
  {
   "cell_type": "code",
   "execution_count": 37,
   "id": "769a7704-de2e-4b72-b6f8-0ed413df99cd",
   "metadata": {
    "execution": {
     "iopub.execute_input": "2022-09-24T04:57:22.367973Z",
     "iopub.status.busy": "2022-09-24T04:57:22.367973Z",
     "iopub.status.idle": "2022-09-24T04:57:22.776733Z",
     "shell.execute_reply": "2022-09-24T04:57:22.775765Z",
     "shell.execute_reply.started": "2022-09-24T04:57:22.367973Z"
    },
    "tags": []
   },
   "outputs": [
    {
     "name": "stdout",
     "output_type": "stream",
     "text": [
      "\n",
      "(dot.exe:14164): Pango-WARNING **: couldn't load font \"DejaVu Sans Bold Not-Rotated 14\", falling back to \"Sans Bold Not-Rotated 14\", expect ugly output.\n",
      "\n",
      "(dot.exe:14164): Pango-WARNING **: couldn't load font \"DejaVu Sans Not-Rotated 10\", falling back to \"Sans Not-Rotated 10\", expect ugly output.\n",
      "\n",
      "(dot.exe:14164): Pango-WARNING **: couldn't load font \"DejaVu Sans Not-Rotated 14\", falling back to \"Sans Not-Rotated 14\", expect ugly output.\n",
      "\n"
     ]
    },
    {
     "data": {
      "image/png": "[encoded data removed]",
      "text/plain": [
       "<IPython.core.display.Image object>"
      ]
     },
     "metadata": {},
     "output_type": "display_data"
    }
   ],
   "source": [
    "visualize(g)"
   ]
  },
  {
   "cell_type": "code",
   "execution_count": 22,
   "id": "a805cbf0-3ba1-437f-a6b8-d12501d5d179",
   "metadata": {
    "execution": {
     "iopub.execute_input": "2022-09-24T04:49:37.454358Z",
     "iopub.status.busy": "2022-09-24T04:49:37.454358Z",
     "iopub.status.idle": "2022-09-24T04:49:37.465330Z",
     "shell.execute_reply": "2022-09-24T04:49:37.464362Z",
     "shell.execute_reply.started": "2022-09-24T04:49:37.454358Z"
    },
    "tags": []
   },
   "outputs": [
    {
     "data": {
      "text/plain": [
       "['gender', 'likes']"
      ]
     },
     "execution_count": 22,
     "metadata": {},
     "output_type": "execute_result"
    }
   ],
   "source": [
    "\n",
    "list(Sophie.keys())\n"
   ]
  },
  {
   "cell_type": "code",
   "execution_count": 29,
   "id": "b670c868-7143-40c4-a93c-0d2b596a87ae",
   "metadata": {
    "execution": {
     "iopub.execute_input": "2022-09-26T01:54:36.462528Z",
     "iopub.status.busy": "2022-09-26T01:54:36.461533Z",
     "iopub.status.idle": "2022-09-26T01:54:36.483474Z",
     "shell.execute_reply": "2022-09-26T01:54:36.482478Z",
     "shell.execute_reply.started": "2022-09-26T01:54:36.462528Z"
    },
    "tags": []
   },
   "outputs": [
    {
     "ename": "TypeError",
     "evalue": "unhashable type: 'dict'",
     "output_type": "error",
     "traceback": [
      "\u001b[1;31m---------------------------------------------------------------------------\u001b[0m",
      "\u001b[1;31mTypeError\u001b[0m                                 Traceback (most recent call last)",
      "\u001b[1;32m<ipython-input-29-a1c42e665263>\u001b[0m in \u001b[0;36m<module>\u001b[1;34m\u001b[0m\n\u001b[0;32m      3\u001b[0m \u001b[1;33m\u001b[0m\u001b[0m\n\u001b[0;32m      4\u001b[0m \u001b[1;32mfor\u001b[0m \u001b[0mpro\u001b[0m \u001b[1;32min\u001b[0m \u001b[0mproperty_list\u001b[0m\u001b[1;33m:\u001b[0m\u001b[1;33m\u001b[0m\u001b[1;33m\u001b[0m\u001b[0m\n\u001b[1;32m----> 5\u001b[1;33m     \u001b[0mglobals\u001b[0m\u001b[1;33m(\u001b[0m\u001b[1;33m)\u001b[0m\u001b[1;33m[\u001b[0m\u001b[0mpro\u001b[0m\u001b[1;33m]\u001b[0m \u001b[1;33m=\u001b[0m \u001b[0mn\u001b[0m\u001b[1;33m.\u001b[0m\u001b[0mpro\u001b[0m\u001b[1;33m\u001b[0m\u001b[1;33m\u001b[0m\u001b[0m\n\u001b[0m",
      "\u001b[1;31mTypeError\u001b[0m: unhashable type: 'dict'"
     ]
    }
   ],
   "source": [
    "for p in person_list:\n",
    "    globals()[p] = n.p\n",
    "    \n",
    "for pro in property_list:\n",
    "    globals()[pro] = n.pro"
   ]
  },
  {
   "cell_type": "code",
   "execution_count": 32,
   "id": "b121e200-d13e-4d0f-9fb9-9cc769eb47a3",
   "metadata": {
    "execution": {
     "iopub.execute_input": "2022-09-26T01:54:50.184078Z",
     "iopub.status.busy": "2022-09-26T01:54:50.184078Z",
     "iopub.status.idle": "2022-09-26T01:54:50.188093Z",
     "shell.execute_reply": "2022-09-26T01:54:50.188093Z",
     "shell.execute_reply.started": "2022-09-26T01:54:50.184078Z"
    },
    "tags": []
   },
   "outputs": [],
   "source": [
    "g = rdflib.Graph()"
   ]
  },
  {
   "cell_type": "code",
   "execution_count": 33,
   "id": "c1dc38a5-bfa0-4469-8a6c-1a288076716b",
   "metadata": {
    "execution": {
     "iopub.execute_input": "2022-09-26T01:54:50.777332Z",
     "iopub.status.busy": "2022-09-26T01:54:50.776368Z",
     "iopub.status.idle": "2022-09-26T01:54:50.790299Z",
     "shell.execute_reply": "2022-09-26T01:54:50.788304Z",
     "shell.execute_reply.started": "2022-09-26T01:54:50.776368Z"
    },
    "tags": []
   },
   "outputs": [
    {
     "ename": "NameError",
     "evalue": "name 'gender' is not defined",
     "output_type": "error",
     "traceback": [
      "\u001b[1;31m---------------------------------------------------------------------------\u001b[0m",
      "\u001b[1;31mNameError\u001b[0m                                 Traceback (most recent call last)",
      "\u001b[1;32m<ipython-input-33-adbd76a79ec8>\u001b[0m in \u001b[0;36m<module>\u001b[1;34m\u001b[0m\n\u001b[1;32m----> 1\u001b[1;33m \u001b[0mg\u001b[0m\u001b[1;33m.\u001b[0m\u001b[0madd\u001b[0m\u001b[1;33m(\u001b[0m\u001b[1;33m(\u001b[0m\u001b[0mSophie\u001b[0m\u001b[1;33m,\u001b[0m \u001b[0mgender\u001b[0m\u001b[1;33m,\u001b[0m \u001b[0mrdflib\u001b[0m\u001b[1;33m.\u001b[0m\u001b[0mLiteral\u001b[0m\u001b[1;33m(\u001b[0m\u001b[1;34m'women'\u001b[0m\u001b[1;33m)\u001b[0m\u001b[1;33m)\u001b[0m\u001b[1;33m)\u001b[0m\u001b[1;33m\u001b[0m\u001b[1;33m\u001b[0m\u001b[0m\n\u001b[0m\u001b[0;32m      2\u001b[0m \u001b[0mg\u001b[0m\u001b[1;33m.\u001b[0m\u001b[0madd\u001b[0m\u001b[1;33m(\u001b[0m\u001b[1;33m(\u001b[0m\u001b[0mSophie\u001b[0m\u001b[1;33m,\u001b[0m \u001b[0mlikes\u001b[0m\u001b[1;33m,\u001b[0m \u001b[0mPeter\u001b[0m\u001b[1;33m)\u001b[0m\u001b[1;33m)\u001b[0m\u001b[1;33m\u001b[0m\u001b[1;33m\u001b[0m\u001b[0m\n\u001b[0;32m      3\u001b[0m \u001b[1;33m\u001b[0m\u001b[0m\n\u001b[0;32m      4\u001b[0m \u001b[0mg\u001b[0m\u001b[1;33m.\u001b[0m\u001b[0madd\u001b[0m\u001b[1;33m(\u001b[0m\u001b[1;33m(\u001b[0m\u001b[0mFrank\u001b[0m\u001b[1;33m,\u001b[0m \u001b[0mgender\u001b[0m\u001b[1;33m,\u001b[0m \u001b[0mrdflib\u001b[0m\u001b[1;33m.\u001b[0m\u001b[0mLiteral\u001b[0m\u001b[1;33m(\u001b[0m\u001b[1;34m'men'\u001b[0m\u001b[1;33m)\u001b[0m\u001b[1;33m)\u001b[0m\u001b[1;33m)\u001b[0m\u001b[1;33m\u001b[0m\u001b[1;33m\u001b[0m\u001b[0m\n\u001b[0;32m      5\u001b[0m \u001b[0mg\u001b[0m\u001b[1;33m.\u001b[0m\u001b[0madd\u001b[0m\u001b[1;33m(\u001b[0m\u001b[1;33m(\u001b[0m\u001b[0mFrank\u001b[0m\u001b[1;33m,\u001b[0m \u001b[0mmarried\u001b[0m\u001b[1;33m,\u001b[0m \u001b[0mSusie\u001b[0m\u001b[1;33m)\u001b[0m\u001b[1;33m)\u001b[0m\u001b[1;33m\u001b[0m\u001b[1;33m\u001b[0m\u001b[0m\n",
      "\u001b[1;31mNameError\u001b[0m: name 'gender' is not defined"
     ]
    }
   ],
   "source": [
    "g.add((Sophie, gender, rdflib.Literal('women')))\n",
    "g.add((Sophie, likes, Peter))\n",
    "\n",
    "g.add((Frank, gender, rdflib.Literal('men')))\n",
    "g.add((Frank, married, Susie))\n",
    "\n",
    "g.add((Peter, father, Frank))\n",
    "g.add((Peter, likes, Sandra))\n",
    "g.add((Peter, mother, Susie))\n",
    "\n",
    "g.add((Sandra, bornIn, rdflib.Literal(1980)))\n",
    "g.add((Sandra, gender, rdflib.Literal('women')))"
   ]
  },
  {
   "cell_type": "code",
   "execution_count": 16,
   "id": "5ed44f1f-6b1a-49cf-ac9f-14c8ea1f73ec",
   "metadata": {
    "execution": {
     "iopub.execute_input": "2022-09-24T04:47:47.136875Z",
     "iopub.status.busy": "2022-09-24T04:47:47.136875Z",
     "iopub.status.idle": "2022-09-24T04:47:47.224640Z",
     "shell.execute_reply": "2022-09-24T04:47:47.223643Z",
     "shell.execute_reply.started": "2022-09-24T04:47:47.136875Z"
    },
    "tags": []
   },
   "outputs": [
    {
     "data": {
      "image/png": "[encoded data removed]",
      "text/plain": [
       "<IPython.core.display.Image object>"
      ]
     },
     "metadata": {},
     "output_type": "display_data"
    }
   ],
   "source": [
    "visualize(g)"
   ]
  },
  {
   "cell_type": "markdown",
   "id": "d0e13152-abfa-4b7e-a691-78cef7276c8c",
   "metadata": {
    "execution": {
     "iopub.execute_input": "2022-09-24T01:53:36.859074Z",
     "iopub.status.busy": "2022-09-24T01:53:36.858077Z",
     "iopub.status.idle": "2022-09-24T01:53:36.906948Z",
     "shell.execute_reply": "2022-09-24T01:53:36.904986Z",
     "shell.execute_reply.started": "2022-09-24T01:53:36.859074Z"
    },
    "tags": []
   },
   "source": [
    "str_in = StringIO('''@prefix Person: <http://example.org/> .\n",
    "\n",
    "Person:Sophie Person:gender \"women\" ;\n",
    "    Person:likes Person:Peter .\n",
    "\n",
    "Person:Frank Person:bornIn \"1949\" ;\n",
    "    Person:gender \"Men\" ;\n",
    "    Person:married Person:Susie .\n",
    "\n",
    "Person:Peter Person:father Person:Frank ;\n",
    "    Person:gender \"Men\" ;\n",
    "    Person:likes Person:Sandra ;\n",
    "    Person:mother Person:Susie .\n",
    "\n",
    "Person:Sandra Person:bornIn \"1980\" ;\n",
    "    Person:gender \"women\" .\n",
    "\n",
    "Person:Susie Person:bornIn \"1956\" ;\n",
    "    Person:gender \"women\" .'''\n",
    ")\n",
    "\n",
    "g = rdflib.Graph() # RDF 그래프 객체를 생성\n",
    "g.parse(str_in, format = 'n3')"
   ]
  },
  {
   "cell_type": "markdown",
   "id": "6843f5e4-4b6b-41a2-816b-9f0b4830ca93",
   "metadata": {},
   "source": [
    "## Bob"
   ]
  },
  {
   "cell_type": "code",
   "execution_count": 34,
   "id": "620a933a-aade-48a2-8010-369e4a039699",
   "metadata": {
    "execution": {
     "iopub.execute_input": "2022-09-26T01:55:07.015298Z",
     "iopub.status.busy": "2022-09-26T01:55:07.014329Z",
     "iopub.status.idle": "2022-09-26T01:55:07.029302Z",
     "shell.execute_reply": "2022-09-26T01:55:07.027294Z",
     "shell.execute_reply.started": "2022-09-26T01:55:07.015298Z"
    },
    "tags": []
   },
   "outputs": [
    {
     "data": {
      "text/plain": [
       "rdflib.term.URIRef('http://example.org/Bob')"
      ]
     },
     "execution_count": 34,
     "metadata": {},
     "output_type": "execute_result"
    }
   ],
   "source": [
    "bob = make_class('Bob', URI)\n",
    "bob"
   ]
  },
  {
   "cell_type": "code",
   "execution_count": 35,
   "id": "fb7e28c7-e8da-48c8-9bf9-7d2ba625603a",
   "metadata": {
    "execution": {
     "iopub.execute_input": "2022-09-26T01:55:08.743934Z",
     "iopub.status.busy": "2022-09-26T01:55:08.743934Z",
     "iopub.status.idle": "2022-09-26T01:55:08.753908Z",
     "shell.execute_reply": "2022-09-26T01:55:08.752912Z",
     "shell.execute_reply.started": "2022-09-26T01:55:08.743934Z"
    },
    "tags": []
   },
   "outputs": [
    {
     "data": {
      "text/plain": [
       "<Graph identifier=N2188e052f4614fbe9c5ac8d8437af07f (<class 'rdflib.graph.Graph'>)>"
      ]
     },
     "execution_count": 35,
     "metadata": {},
     "output_type": "execute_result"
    }
   ],
   "source": [
    "g = rdflib.Graph()\n",
    "g.add((bob, rdflib.namespace.RDF.type, rdflib.namespace.FOAF.Person)) # 밥의 유형은 사람이다\n",
    "g.add((bob, rdflib.namespace.FOAF.name, rdflib.Literal('Bob'))) # 밥의 이름은 Bob이다"
   ]
  },
  {
   "cell_type": "code",
   "execution_count": 36,
   "id": "0d237671-0022-4b6f-8c3f-95933a5fe439",
   "metadata": {
    "execution": {
     "iopub.execute_input": "2022-09-26T01:55:09.688786Z",
     "iopub.status.busy": "2022-09-26T01:55:09.688786Z",
     "iopub.status.idle": "2022-09-26T01:55:10.020086Z",
     "shell.execute_reply": "2022-09-26T01:55:10.019106Z",
     "shell.execute_reply.started": "2022-09-26T01:55:09.688786Z"
    },
    "tags": []
   },
   "outputs": [
    {
     "name": "stdout",
     "output_type": "stream",
     "text": [
      "\n",
      "(dot.exe:4008): Pango-WARNING **: couldn't load font \"DejaVu Sans Bold Not-Rotated 14\", falling back to \"Sans Bold Not-Rotated 14\", expect ugly output.\n",
      "\n",
      "(dot.exe:4008): Pango-WARNING **: couldn't load font \"DejaVu Sans Not-Rotated 10\", falling back to \"Sans Not-Rotated 10\", expect ugly output.\n",
      "\n",
      "(dot.exe:4008): Pango-WARNING **: couldn't load font \"DejaVu Sans Not-Rotated 14\", falling back to \"Sans Not-Rotated 14\", expect ugly output.\n",
      "\n"
     ]
    },
    {
     "data": {
      "image/png": "[encoded data removed]",
      "text/plain": [
       "<IPython.core.display.Image object>"
      ]
     },
     "metadata": {},
     "output_type": "display_data"
    },
    {
     "data": {
      "text/plain": [
       "<Graph identifier=N2188e052f4614fbe9c5ac8d8437af07f (<class 'rdflib.graph.Graph'>)>"
      ]
     },
     "execution_count": 36,
     "metadata": {},
     "output_type": "execute_result"
    }
   ],
   "source": [
    "visualize(g)\n",
    "g.serialize('test.rdf', format = 'pretty-xml')"
   ]
  },
  {
   "cell_type": "markdown",
   "id": "3c82f594-899b-4e7f-9e38-25af5ca2cc7a",
   "metadata": {},
   "source": [
    "## Continent"
   ]
  },
  {
   "cell_type": "code",
   "execution_count": 37,
   "id": "180c8da9-9394-431d-8e79-3d37cf024eb1",
   "metadata": {
    "execution": {
     "iopub.execute_input": "2022-09-26T01:55:15.063688Z",
     "iopub.status.busy": "2022-09-26T01:55:15.063688Z",
     "iopub.status.idle": "2022-09-26T01:55:15.072593Z",
     "shell.execute_reply": "2022-09-26T01:55:15.071618Z",
     "shell.execute_reply.started": "2022-09-26T01:55:15.063688Z"
    },
    "tags": []
   },
   "outputs": [],
   "source": [
    "URI = 'http://example.org/'"
   ]
  },
  {
   "cell_type": "code",
   "execution_count": 38,
   "id": "1114f3be-175f-4e8d-9594-08cd7211e055",
   "metadata": {
    "execution": {
     "iopub.execute_input": "2022-09-26T01:55:15.831738Z",
     "iopub.status.busy": "2022-09-26T01:55:15.831738Z",
     "iopub.status.idle": "2022-09-26T01:55:15.837695Z",
     "shell.execute_reply": "2022-09-26T01:55:15.836697Z",
     "shell.execute_reply.started": "2022-09-26T01:55:15.831738Z"
    },
    "tags": []
   },
   "outputs": [],
   "source": [
    "property_list = ['has_border_with', 'located_in']\n",
    "country_list = ['germany', 'france', 'china', 'mongolia']\n",
    "continent_list = ['europa', 'asia']"
   ]
  },
  {
   "cell_type": "code",
   "execution_count": 39,
   "id": "8cbad3f1-0dea-47a0-8a78-fa32f4b9a015",
   "metadata": {
    "execution": {
     "iopub.execute_input": "2022-09-26T01:55:16.551653Z",
     "iopub.status.busy": "2022-09-26T01:55:16.551653Z",
     "iopub.status.idle": "2022-09-26T01:55:16.561177Z",
     "shell.execute_reply": "2022-09-26T01:55:16.560209Z",
     "shell.execute_reply.started": "2022-09-26T01:55:16.551653Z"
    },
    "tags": []
   },
   "outputs": [],
   "source": [
    "for p in property_list:\n",
    "    globals()[p] = make_class(p, URI)\n",
    "    \n",
    "for c in country_list:\n",
    "    globals()[c] = make_class(c, URI)\n",
    "    \n",
    "for cn in continent_list:\n",
    "    globals()[cn] = make_class(cn, URI)"
   ]
  },
  {
   "cell_type": "code",
   "execution_count": 40,
   "id": "2bf4b923-02cb-426f-a259-4c51df4c4f24",
   "metadata": {
    "execution": {
     "iopub.execute_input": "2022-09-26T01:55:18.070357Z",
     "iopub.status.busy": "2022-09-26T01:55:18.070357Z",
     "iopub.status.idle": "2022-09-26T01:55:18.086063Z",
     "shell.execute_reply": "2022-09-26T01:55:18.085091Z",
     "shell.execute_reply.started": "2022-09-26T01:55:18.070357Z"
    },
    "tags": []
   },
   "outputs": [],
   "source": [
    "g = rdflib.Graph()"
   ]
  },
  {
   "cell_type": "code",
   "execution_count": 41,
   "id": "c51e572b-e446-4b28-830b-539c02750ef6",
   "metadata": {
    "execution": {
     "iopub.execute_input": "2022-09-26T01:55:18.920821Z",
     "iopub.status.busy": "2022-09-26T01:55:18.920821Z",
     "iopub.status.idle": "2022-09-26T01:55:18.939132Z",
     "shell.execute_reply": "2022-09-26T01:55:18.938134Z",
     "shell.execute_reply.started": "2022-09-26T01:55:18.920821Z"
    },
    "tags": []
   },
   "outputs": [
    {
     "data": {
      "text/plain": [
       "<Graph identifier=N13cc45a064d945328eb4b67a4b43c679 (<class 'rdflib.graph.Graph'>)>"
      ]
     },
     "execution_count": 41,
     "metadata": {},
     "output_type": "execute_result"
    }
   ],
   "source": [
    "g.add((germany, has_border_with, france))\n",
    "g.add((china, has_border_with, mongolia))\n",
    "g.add((germany, located_in, europa))\n",
    "g.add((france, located_in, europa))\n",
    "g.add((china, located_in, asia))\n",
    "g.add((mongolia, located_in, asia))"
   ]
  },
  {
   "cell_type": "code",
   "execution_count": 42,
   "id": "9f6335ab-1955-454c-8dff-525fe351d374",
   "metadata": {
    "execution": {
     "iopub.execute_input": "2022-09-26T01:55:20.216835Z",
     "iopub.status.busy": "2022-09-26T01:55:20.216835Z",
     "iopub.status.idle": "2022-09-26T01:55:20.693929Z",
     "shell.execute_reply": "2022-09-26T01:55:20.693929Z",
     "shell.execute_reply.started": "2022-09-26T01:55:20.216835Z"
    },
    "tags": []
   },
   "outputs": [
    {
     "name": "stdout",
     "output_type": "stream",
     "text": [
      "\n",
      "(dot.exe:13704): Pango-WARNING **: couldn't load font \"DejaVu Sans Bold Not-Rotated 14\", falling back to \"Sans Bold Not-Rotated 14\", expect ugly output.\n",
      "\n",
      "(dot.exe:13704): Pango-WARNING **: couldn't load font \"DejaVu Sans Not-Rotated 10\", falling back to \"Sans Not-Rotated 10\", expect ugly output.\n",
      "\n"
     ]
    },
    {
     "data": {
      "image/png": "[encoded data removed]",
      "text/plain": [
       "<IPython.core.display.Image object>"
      ]
     },
     "metadata": {},
     "output_type": "display_data"
    }
   ],
   "source": [
    "visualize(g)"
   ]
  },
  {
   "cell_type": "markdown",
   "id": "487bb10d-9c4e-4ab0-a51a-f5e001bbfd79",
   "metadata": {},
   "source": [
    "#### 그래프를 RDF-XML로 만들어 저장하기"
   ]
  },
  {
   "cell_type": "code",
   "execution_count": 43,
   "id": "9a7f7482-4ced-481a-ada4-c5aa5af674f1",
   "metadata": {
    "execution": {
     "iopub.execute_input": "2022-09-26T01:55:26.200073Z",
     "iopub.status.busy": "2022-09-26T01:55:26.200073Z",
     "iopub.status.idle": "2022-09-26T01:55:26.215034Z",
     "shell.execute_reply": "2022-09-26T01:55:26.215034Z",
     "shell.execute_reply.started": "2022-09-26T01:55:26.200073Z"
    },
    "tags": []
   },
   "outputs": [
    {
     "data": {
      "text/plain": [
       "<Graph identifier=N13cc45a064d945328eb4b67a4b43c679 (<class 'rdflib.graph.Graph'>)>"
      ]
     },
     "execution_count": 43,
     "metadata": {},
     "output_type": "execute_result"
    }
   ],
   "source": [
    "g.serialize('test.rdf', format = 'pretty-xml')"
   ]
  },
  {
   "cell_type": "markdown",
   "id": "b7a9cbb7-5c97-47a8-a672-79c3d0acb126",
   "metadata": {},
   "source": [
    "# RUN\n",
    "* 함수를 실행하여 결과물을 생성하기"
   ]
  },
  {
   "cell_type": "code",
   "execution_count": null,
   "id": "a00cf5fb-8dcd-4681-8ae6-40ba8000b904",
   "metadata": {},
   "outputs": [],
   "source": []
  }
 ],
 "metadata": {
  "kernelspec": {
   "display_name": "Python 3",
   "language": "python",
   "name": "python3"
  },
  "language_info": {
   "codemirror_mode": {
    "name": "ipython",
    "version": 3
   },
   "file_extension": ".py",
   "mimetype": "text/x-python",
   "name": "python",
   "nbconvert_exporter": "python",
   "pygments_lexer": "ipython3",
   "version": "3.8.8"
  }
 },
 "nbformat": 4,
 "nbformat_minor": 5
}
