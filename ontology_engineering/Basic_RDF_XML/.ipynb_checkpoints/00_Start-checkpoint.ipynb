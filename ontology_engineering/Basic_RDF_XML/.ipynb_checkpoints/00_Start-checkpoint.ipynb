{
 "cells": [
  {
   "cell_type": "markdown",
   "id": "815bd930-b5d9-4cf3-8c69-a67653c92883",
   "metadata": {},
   "source": [
    "# RDFLib : RDF 작동 패키지\n",
    "* RDF/XML, N3, Ntriples, N-Quads, Turtle, Trix, RDFa, MicroData 파서, 직렬변환\n",
    "* Graph 인터페이스 제공\n",
    "* SPARQL 1.1 지원"
   ]
  },
  {
   "cell_type": "code",
   "execution_count": 1,
   "id": "57f70093-3a07-49be-9eef-cc75e3d6df01",
   "metadata": {
    "execution": {
     "iopub.execute_input": "2022-09-22T05:36:01.806465Z",
     "iopub.status.busy": "2022-09-22T05:36:01.806465Z",
     "iopub.status.idle": "2022-09-22T05:36:01.815470Z",
     "shell.execute_reply": "2022-09-22T05:36:01.815470Z",
     "shell.execute_reply.started": "2022-09-22T05:36:01.806465Z"
    },
    "tags": []
   },
   "outputs": [],
   "source": [
    "#!pip install rdflib"
   ]
  },
  {
   "cell_type": "code",
   "execution_count": 2,
   "id": "9fbfaf24-23f9-4c13-aa2f-f9e0d8d4d567",
   "metadata": {
    "execution": {
     "iopub.execute_input": "2022-09-22T05:36:01.816438Z",
     "iopub.status.busy": "2022-09-22T05:36:01.816438Z",
     "iopub.status.idle": "2022-09-22T05:36:01.832396Z",
     "shell.execute_reply": "2022-09-22T05:36:01.831426Z",
     "shell.execute_reply.started": "2022-09-22T05:36:01.816438Z"
    },
    "tags": []
   },
   "outputs": [],
   "source": [
    "#!pip install pydotplus\n",
    "#!pip install graphviz"
   ]
  },
  {
   "cell_type": "code",
   "execution_count": 3,
   "id": "7c711fc9-51ac-4053-ad59-4aef1cc82cbd",
   "metadata": {
    "execution": {
     "iopub.execute_input": "2022-09-22T05:36:01.833420Z",
     "iopub.status.busy": "2022-09-22T05:36:01.832396Z",
     "iopub.status.idle": "2022-09-22T05:36:01.848370Z",
     "shell.execute_reply": "2022-09-22T05:36:01.847356Z",
     "shell.execute_reply.started": "2022-09-22T05:36:01.833420Z"
    },
    "tags": []
   },
   "outputs": [],
   "source": [
    "#!pip install networkx"
   ]
  },
  {
   "cell_type": "markdown",
   "id": "ad805495-7c25-4478-82c3-aa903f073dd6",
   "metadata": {
    "tags": []
   },
   "source": [
    "# Import"
   ]
  },
  {
   "cell_type": "code",
   "execution_count": 1,
   "id": "4644f116-5755-4cda-8d74-8d68bf3d19f1",
   "metadata": {
    "execution": {
     "iopub.execute_input": "2022-09-22T06:01:44.836543Z",
     "iopub.status.busy": "2022-09-22T06:01:44.835546Z",
     "iopub.status.idle": "2022-09-22T06:01:48.848162Z",
     "shell.execute_reply": "2022-09-22T06:01:48.848162Z",
     "shell.execute_reply.started": "2022-09-22T06:01:44.836543Z"
    },
    "tags": []
   },
   "outputs": [],
   "source": [
    "import rdflib\n",
    "from rdflib.extras.external_graph_libs import rdflib_to_networkx_multidigraph\n",
    "import networkx as nx\n",
    "import matplotlib.pyplot as plt\n",
    "import os\n",
    "\n",
    "# RDF 그래프 그려주는 거\n",
    "import io\n",
    "from io import StringIO, BytesIO\n",
    "import pydotplus\n",
    "from IPython.display import display, Image\n",
    "from rdflib.tools.rdf2dot import rdf2dot"
   ]
  },
  {
   "cell_type": "markdown",
   "id": "14a54de8-7862-4841-ad74-2b442031f563",
   "metadata": {},
   "source": [
    "# Basic"
   ]
  },
  {
   "cell_type": "code",
   "execution_count": 5,
   "id": "512bda79-b065-4674-96d7-ac3fdc7403c0",
   "metadata": {
    "execution": {
     "iopub.execute_input": "2022-09-22T05:36:02.550634Z",
     "iopub.status.busy": "2022-09-22T05:36:02.550634Z",
     "iopub.status.idle": "2022-09-22T05:36:02.565679Z",
     "shell.execute_reply": "2022-09-22T05:36:02.565679Z",
     "shell.execute_reply.started": "2022-09-22T05:36:02.550634Z"
    },
    "tags": []
   },
   "outputs": [],
   "source": [
    "g = rdflib.Graph()"
   ]
  },
  {
   "cell_type": "code",
   "execution_count": 6,
   "id": "a48b72ce-2fc5-43d5-b033-ed50a9acfc65",
   "metadata": {
    "execution": {
     "iopub.execute_input": "2022-09-22T05:36:02.566668Z",
     "iopub.status.busy": "2022-09-22T05:36:02.566668Z",
     "iopub.status.idle": "2022-09-22T05:36:03.059479Z",
     "shell.execute_reply": "2022-09-22T05:36:03.058591Z",
     "shell.execute_reply.started": "2022-09-22T05:36:02.566668Z"
    },
    "tags": []
   },
   "outputs": [],
   "source": [
    "result = g.parse('http://www.w3.org/People/Berners-Lee/card')"
   ]
  },
  {
   "cell_type": "code",
   "execution_count": 7,
   "id": "076f70cc-db6a-4376-9ef0-8a020fbd0a7a",
   "metadata": {
    "execution": {
     "iopub.execute_input": "2022-09-22T05:36:03.060476Z",
     "iopub.status.busy": "2022-09-22T05:36:03.060476Z",
     "iopub.status.idle": "2022-09-22T05:36:03.075328Z",
     "shell.execute_reply": "2022-09-22T05:36:03.074331Z",
     "shell.execute_reply.started": "2022-09-22T05:36:03.060476Z"
    },
    "tags": []
   },
   "outputs": [
    {
     "name": "stdout",
     "output_type": "stream",
     "text": [
      "Graph has 86 statements.\n"
     ]
    }
   ],
   "source": [
    "print('Graph has %s statements.'% len(g))"
   ]
  },
  {
   "cell_type": "code",
   "execution_count": 8,
   "id": "9be68dbb-9354-4885-93ad-0c207c9f3edd",
   "metadata": {
    "execution": {
     "iopub.execute_input": "2022-09-22T05:36:03.076325Z",
     "iopub.status.busy": "2022-09-22T05:36:03.076325Z",
     "iopub.status.idle": "2022-09-22T05:36:03.104801Z",
     "shell.execute_reply": "2022-09-22T05:36:03.104801Z",
     "shell.execute_reply.started": "2022-09-22T05:36:03.076325Z"
    },
    "tags": []
   },
   "outputs": [],
   "source": [
    "for s, p, o in g:\n",
    "    if (s, p, o) not in g:\n",
    "        raise Exception('It Better!')\n",
    "        \n",
    "s = g.serialize(format = 'n3')"
   ]
  },
  {
   "cell_type": "code",
   "execution_count": 9,
   "id": "6820a62b-5905-49e7-9fa1-ecd4d9e8df1c",
   "metadata": {
    "execution": {
     "iopub.execute_input": "2022-09-22T05:36:03.106796Z",
     "iopub.status.busy": "2022-09-22T05:36:03.105796Z",
     "iopub.status.idle": "2022-09-22T05:36:03.120736Z",
     "shell.execute_reply": "2022-09-22T05:36:03.120736Z",
     "shell.execute_reply.started": "2022-09-22T05:36:03.106796Z"
    }
   },
   "outputs": [],
   "source": [
    "#print(s)"
   ]
  },
  {
   "cell_type": "markdown",
   "id": "3851ca2a-60ea-4d62-81d9-b2e770bbca5a",
   "metadata": {},
   "source": [
    "# Creating RDF Triples\n",
    "* RDF : URL 레퍼런스, 공백 노드, 문자값 등이 포함된 그래프\n",
    "    * URL 레퍼런스 : 클래스 URIRef\n",
    "    * 공백 노드 : 클래스 BNode\n",
    "    * 문자값 : 클래스 Literal\n",
    "* URIRef, Bnode는 사람, 회사, 웹사이트 등 리소스로 간주됨\n",
    "    * Bnode : URI가 없는 것\n",
    "    * URIRefs : RDF그래프에서 속성이나 서술어(관계) 표현 시 사용됨\n",
    "    * Literal : 이름, 날짜, 숫자 등 속성값을 가짐"
   ]
  },
  {
   "cell_type": "code",
   "execution_count": 10,
   "id": "96d3f41d-efd4-4264-b6ac-134e118a1825",
   "metadata": {
    "execution": {
     "iopub.execute_input": "2022-09-22T05:36:03.122724Z",
     "iopub.status.busy": "2022-09-22T05:36:03.122724Z",
     "iopub.status.idle": "2022-09-22T05:36:03.140670Z",
     "shell.execute_reply": "2022-09-22T05:36:03.136673Z",
     "shell.execute_reply.started": "2022-09-22T05:36:03.122724Z"
    },
    "tags": []
   },
   "outputs": [],
   "source": [
    "bob = rdflib.URIRef('http://example.org/people/Bob')\n",
    "linda = rdflib.BNode() \n",
    "name = rdflib.Literal('Bob')\n",
    "age = rdflib.Literal(24)\n",
    "height = rdflib.Literal(70)"
   ]
  },
  {
   "cell_type": "markdown",
   "id": "b205928e-7ef3-4824-8c0d-05e5668293c1",
   "metadata": {},
   "source": [
    "* 같은 namespace(같은 Prefix를 가진 URI)에 여러개의 URIRef는 rdflib.namespace.Namespace 클래스를 가짐"
   ]
  },
  {
   "cell_type": "code",
   "execution_count": 11,
   "id": "d52417e5-139e-4a38-a247-176a111804ab",
   "metadata": {
    "execution": {
     "iopub.execute_input": "2022-09-22T05:36:03.143655Z",
     "iopub.status.busy": "2022-09-22T05:36:03.142659Z",
     "iopub.status.idle": "2022-09-22T05:36:03.155329Z",
     "shell.execute_reply": "2022-09-22T05:36:03.152341Z",
     "shell.execute_reply.started": "2022-09-22T05:36:03.143655Z"
    },
    "tags": []
   },
   "outputs": [],
   "source": [
    "n = rdflib.Namespace('http://example.org/people/')"
   ]
  },
  {
   "cell_type": "code",
   "execution_count": 12,
   "id": "53675874-3391-4658-ba81-e77e5eea4880",
   "metadata": {
    "execution": {
     "iopub.execute_input": "2022-09-22T05:36:03.156324Z",
     "iopub.status.busy": "2022-09-22T05:36:03.156324Z",
     "iopub.status.idle": "2022-09-22T05:36:03.167822Z",
     "shell.execute_reply": "2022-09-22T05:36:03.167822Z",
     "shell.execute_reply.started": "2022-09-22T05:36:03.156324Z"
    },
    "tags": []
   },
   "outputs": [
    {
     "data": {
      "text/plain": [
       "rdflib.term.URIRef('http://example.org/people/bob')"
      ]
     },
     "execution_count": 12,
     "metadata": {},
     "output_type": "execute_result"
    }
   ],
   "source": [
    "n.bob"
   ]
  },
  {
   "cell_type": "code",
   "execution_count": 13,
   "id": "c7625f56-04c5-43c9-aaf4-436ab0e3c3e7",
   "metadata": {
    "execution": {
     "iopub.execute_input": "2022-09-22T05:36:03.168821Z",
     "iopub.status.busy": "2022-09-22T05:36:03.168821Z",
     "iopub.status.idle": "2022-09-22T05:36:03.183289Z",
     "shell.execute_reply": "2022-09-22T05:36:03.183289Z",
     "shell.execute_reply.started": "2022-09-22T05:36:03.168821Z"
    },
    "tags": []
   },
   "outputs": [
    {
     "data": {
      "text/plain": [
       "rdflib.term.URIRef('http://example.org/people/eve')"
      ]
     },
     "execution_count": 13,
     "metadata": {},
     "output_type": "execute_result"
    }
   ],
   "source": [
    "n.eve"
   ]
  },
  {
   "cell_type": "raw",
   "id": "01c4ff49-f505-4520-8f17-7576e1b21af1",
   "metadata": {},
   "source": [
    "* RDFlib은 자주 쓰이는 RDF Schema의 네임스페이스를 미리 정의하고 있음"
   ]
  },
  {
   "cell_type": "code",
   "execution_count": 14,
   "id": "1fac8f67-a65c-4bf2-8ae9-ca92e65e8537",
   "metadata": {
    "execution": {
     "iopub.execute_input": "2022-09-22T05:36:03.184288Z",
     "iopub.status.busy": "2022-09-22T05:36:03.184288Z",
     "iopub.status.idle": "2022-09-22T05:36:03.199276Z",
     "shell.execute_reply": "2022-09-22T05:36:03.199276Z",
     "shell.execute_reply.started": "2022-09-22T05:36:03.184288Z"
    },
    "tags": []
   },
   "outputs": [
    {
     "name": "stdout",
     "output_type": "stream",
     "text": [
      "Pretty printing has been turned OFF\n"
     ]
    }
   ],
   "source": [
    "pprint(rdflib.namespace.RDF.type)"
   ]
  },
  {
   "cell_type": "code",
   "execution_count": 15,
   "id": "e15cd665-d971-4d15-aa39-2cc5d128eb87",
   "metadata": {
    "execution": {
     "iopub.execute_input": "2022-09-22T05:36:03.201243Z",
     "iopub.status.busy": "2022-09-22T05:36:03.200246Z",
     "iopub.status.idle": "2022-09-22T05:36:03.214236Z",
     "shell.execute_reply": "2022-09-22T05:36:03.214236Z",
     "shell.execute_reply.started": "2022-09-22T05:36:03.201243Z"
    },
    "tags": []
   },
   "outputs": [
    {
     "name": "stdout",
     "output_type": "stream",
     "text": [
      "Pretty printing has been turned ON\n"
     ]
    }
   ],
   "source": [
    "pprint(rdflib.namespace.FOAF.type)"
   ]
  },
  {
   "cell_type": "markdown",
   "id": "98868b38-19a6-4a87-87b4-e55fc83dbefc",
   "metadata": {},
   "source": [
    "# XML to RDF-XML with Python\n",
    "* `g.serialize()`"
   ]
  },
  {
   "cell_type": "markdown",
   "id": "2001ae4a-9531-4cea-9898-042c8133d59d",
   "metadata": {},
   "source": [
    "## Example 1"
   ]
  },
  {
   "cell_type": "code",
   "execution_count": 16,
   "id": "5515f033-ad1b-4fc6-86f9-bd15ac3d98cb",
   "metadata": {
    "execution": {
     "iopub.execute_input": "2022-09-22T06:28:47.998074Z",
     "iopub.status.busy": "2022-09-22T06:28:47.998074Z",
     "iopub.status.idle": "2022-09-22T06:28:48.013696Z",
     "shell.execute_reply": "2022-09-22T06:28:48.013696Z",
     "shell.execute_reply.started": "2022-09-22T06:28:47.998074Z"
    },
    "tags": []
   },
   "outputs": [],
   "source": [
    "file_dir = 'D:/OneDrive - 연세대학교 (Yonsei University)/Lectures/2022-2_온톨로지공학/Github/Dataset'"
   ]
  },
  {
   "cell_type": "code",
   "execution_count": 28,
   "id": "eb36f12e-004c-4f97-bf35-143091ed66a3",
   "metadata": {
    "execution": {
     "iopub.execute_input": "2022-09-22T05:43:55.039464Z",
     "iopub.status.busy": "2022-09-22T05:43:55.038454Z",
     "iopub.status.idle": "2022-09-22T05:43:55.056684Z",
     "shell.execute_reply": "2022-09-22T05:43:55.056684Z",
     "shell.execute_reply.started": "2022-09-22T05:43:55.039464Z"
    },
    "tags": []
   },
   "outputs": [],
   "source": [
    "file_name = 'students.xml'"
   ]
  },
  {
   "cell_type": "code",
   "execution_count": 29,
   "id": "ac91ce14-8a4a-48ae-8359-9ce85d772895",
   "metadata": {
    "execution": {
     "iopub.execute_input": "2022-09-22T05:44:01.570382Z",
     "iopub.status.busy": "2022-09-22T05:44:01.570382Z",
     "iopub.status.idle": "2022-09-22T05:44:01.577635Z",
     "shell.execute_reply": "2022-09-22T05:44:01.577240Z",
     "shell.execute_reply.started": "2022-09-22T05:44:01.570382Z"
    },
    "tags": []
   },
   "outputs": [],
   "source": [
    "file_path = os.path.join(file_dir, file_name)"
   ]
  },
  {
   "cell_type": "code",
   "execution_count": 30,
   "id": "51b42ff4-ccbc-444d-83f3-69a40b964862",
   "metadata": {
    "execution": {
     "iopub.execute_input": "2022-09-22T05:44:20.711968Z",
     "iopub.status.busy": "2022-09-22T05:44:20.711968Z",
     "iopub.status.idle": "2022-09-22T05:44:20.734925Z",
     "shell.execute_reply": "2022-09-22T05:44:20.733927Z",
     "shell.execute_reply.started": "2022-09-22T05:44:20.711968Z"
    },
    "tags": []
   },
   "outputs": [
    {
     "data": {
      "text/plain": [
       "<Graph identifier=N8b51ff2649384f4bb83dec4bc3cd0633 (<class 'rdflib.graph.Graph'>)>"
      ]
     },
     "execution_count": 30,
     "metadata": {},
     "output_type": "execute_result"
    }
   ],
   "source": [
    "g.serialize(file_path, format = 'pretty-xml')"
   ]
  },
  {
   "cell_type": "code",
   "execution_count": 31,
   "id": "61ba235b-564f-4a4c-be00-4868f82e3e44",
   "metadata": {
    "execution": {
     "iopub.execute_input": "2022-09-22T05:44:29.047737Z",
     "iopub.status.busy": "2022-09-22T05:44:29.047737Z",
     "iopub.status.idle": "2022-09-22T05:44:29.060701Z",
     "shell.execute_reply": "2022-09-22T05:44:29.060701Z",
     "shell.execute_reply.started": "2022-09-22T05:44:29.047737Z"
    },
    "tags": []
   },
   "outputs": [
    {
     "name": "stdout",
     "output_type": "stream",
     "text": [
      "<?xml version=\"1.0\" encoding=\"utf-8\"?>\n",
      "<rdf:RDF\n",
      "  xmlns:ns4=\"http://example.org/ns/foo/\"\n",
      "  xmlns=\"http://example.org/ns2#\"\n",
      "  xmlns:ns2=\"https://www.w3.org/TeamSubmission/turtle/tests/\"\n",
      "  xmlns:ns3=\"http://example.org/ns/foo/bar#\"\n",
      "  xmlns:ns1=\"http://example.org/ns/\"\n",
      "  xmlns:rdf=\"http://www.w3.org/1999/02/22-rdf-syntax-ns#\"\n",
      ">\n",
      "  <rdf:Description rdf:about=\"http://example.org/ns/a2\">\n",
      "    <ns1:b2 rdf:resource=\"http://example.org/ns/c2\"/>\n",
      "  </rdf:Description>\n",
      "  <rdf:Description rdf:about=\"https://www.w3.org/TeamSubmission/turtle/tests/a1\">\n",
      "    <ns2:b1 rdf:resource=\"https://www.w3.org/TeamSubmission/turtle/tests/c1\"/>\n",
      "  </rdf:Description>\n",
      "  <rdf:Description rdf:about=\"http://example.org/ns/foo/bar#a4\">\n",
      "    <ns3:b4 rdf:resource=\"http://example.org/ns/foo/bar#c4\"/>\n",
      "  </rdf:Description>\n",
      "  <rdf:Description rdf:about=\"http://example.org/ns2#a5\">\n",
      "    <b5 rdf:resource=\"http://example.org/ns2#c5\"/>\n",
      "  </rdf:Description>\n",
      "  <rdf:Description rdf:about=\"http://example.org/ns/foo/a3\">\n",
      "    <ns4:b3 rdf:resource=\"http://example.org/ns/foo/c3\"/>\n",
      "  </rdf:Description>\n",
      "</rdf:RDF>\n",
      "\n"
     ]
    }
   ],
   "source": [
    "with open(file_path) as fp:\n",
    "    print(fp.read())"
   ]
  },
  {
   "cell_type": "markdown",
   "id": "d4f9b6a9-b9a7-42e2-8a43-8bed5d3c4397",
   "metadata": {},
   "source": [
    "## Example 2\n",
    "* https://stackoverflow.com/questions/66170566/convert-rdf-to-xml-with-python"
   ]
  },
  {
   "cell_type": "code",
   "execution_count": 46,
   "id": "c94e2e20-d212-4460-80e2-c940319526f8",
   "metadata": {
    "execution": {
     "iopub.execute_input": "2022-09-22T05:48:23.462476Z",
     "iopub.status.busy": "2022-09-22T05:48:23.462476Z",
     "iopub.status.idle": "2022-09-22T05:48:23.472044Z",
     "shell.execute_reply": "2022-09-22T05:48:23.471014Z",
     "shell.execute_reply.started": "2022-09-22T05:48:23.462476Z"
    },
    "tags": []
   },
   "outputs": [
    {
     "data": {
      "text/plain": [
       "<Graph identifier=Ncb99eadda46c46989257483f033918f9 (<class 'rdflib.graph.Graph'>)>"
      ]
     },
     "execution_count": 46,
     "metadata": {},
     "output_type": "execute_result"
    }
   ],
   "source": [
    "str_in = StringIO('''@prefix Person: <http://example.org/> .\n",
    "\n",
    "Person:Sophie Person:gender \"women\" ;\n",
    "    Person:likes Person:Peter .\n",
    "\n",
    "Person:Frank Person:bornIn \"1949\" ;\n",
    "    Person:gender \"Men\" ;\n",
    "    Person:married Person:Susie .\n",
    "\n",
    "Person:Peter Person:father Person:Frank ;\n",
    "    Person:gender \"Men\" ;\n",
    "    Person:likes Person:Sandra ;\n",
    "    Person:mother Person:Susie .\n",
    "\n",
    "Person:Sandra Person:bornIn \"1980\" ;\n",
    "    Person:gender \"women\" .\n",
    "\n",
    "Person:Susie Person:bornIn \"1956\" ;\n",
    "    Person:gender \"women\" .'''\n",
    ")\n",
    "\n",
    "g = rdflib.Graph()\n",
    "g.parse(str_in, format='n3')"
   ]
  },
  {
   "cell_type": "code",
   "execution_count": 47,
   "id": "01812a02-22fc-44ad-903b-3dca0c02b3bc",
   "metadata": {
    "execution": {
     "iopub.execute_input": "2022-09-22T05:48:24.461316Z",
     "iopub.status.busy": "2022-09-22T05:48:24.460290Z",
     "iopub.status.idle": "2022-09-22T05:48:24.465277Z",
     "shell.execute_reply": "2022-09-22T05:48:24.464292Z",
     "shell.execute_reply.started": "2022-09-22T05:48:24.461316Z"
    },
    "tags": []
   },
   "outputs": [],
   "source": [
    "file_name = 'person.xml'"
   ]
  },
  {
   "cell_type": "code",
   "execution_count": 48,
   "id": "3d9a9380-0cda-4b3a-9697-876ae4f3819b",
   "metadata": {
    "execution": {
     "iopub.execute_input": "2022-09-22T05:48:25.165573Z",
     "iopub.status.busy": "2022-09-22T05:48:25.164605Z",
     "iopub.status.idle": "2022-09-22T05:48:25.183094Z",
     "shell.execute_reply": "2022-09-22T05:48:25.182097Z",
     "shell.execute_reply.started": "2022-09-22T05:48:25.165573Z"
    },
    "tags": []
   },
   "outputs": [],
   "source": [
    "file_path = os.path.join(file_dir, file_name)"
   ]
  },
  {
   "cell_type": "code",
   "execution_count": 49,
   "id": "b391eac6-23c2-4d64-8748-5df8dd2daa42",
   "metadata": {
    "execution": {
     "iopub.execute_input": "2022-09-22T05:48:25.661620Z",
     "iopub.status.busy": "2022-09-22T05:48:25.661620Z",
     "iopub.status.idle": "2022-09-22T05:48:25.679123Z",
     "shell.execute_reply": "2022-09-22T05:48:25.678157Z",
     "shell.execute_reply.started": "2022-09-22T05:48:25.661620Z"
    },
    "tags": []
   },
   "outputs": [
    {
     "data": {
      "text/plain": [
       "<Graph identifier=Ncb99eadda46c46989257483f033918f9 (<class 'rdflib.graph.Graph'>)>"
      ]
     },
     "execution_count": 49,
     "metadata": {},
     "output_type": "execute_result"
    }
   ],
   "source": [
    "g.serialize(file_path, format = 'pretty-xml')"
   ]
  },
  {
   "cell_type": "code",
   "execution_count": 50,
   "id": "b527d75d-1832-4113-9411-b276a941d251",
   "metadata": {
    "execution": {
     "iopub.execute_input": "2022-09-22T05:48:26.190492Z",
     "iopub.status.busy": "2022-09-22T05:48:26.189510Z",
     "iopub.status.idle": "2022-09-22T05:48:26.205480Z",
     "shell.execute_reply": "2022-09-22T05:48:26.205480Z",
     "shell.execute_reply.started": "2022-09-22T05:48:26.190492Z"
    },
    "tags": []
   },
   "outputs": [
    {
     "name": "stdout",
     "output_type": "stream",
     "text": [
      "<?xml version=\"1.0\" encoding=\"utf-8\"?>\n",
      "<rdf:RDF\n",
      "  xmlns:Person=\"http://example.org/\"\n",
      "  xmlns:rdf=\"http://www.w3.org/1999/02/22-rdf-syntax-ns#\"\n",
      ">\n",
      "  <rdf:Description rdf:about=\"http://example.org/Sophie\">\n",
      "    <Person:gender>women</Person:gender>\n",
      "    <Person:likes>\n",
      "      <rdf:Description rdf:about=\"http://example.org/Peter\">\n",
      "        <Person:father rdf:resource=\"http://example.org/Frank\"/>\n",
      "        <Person:gender>Men</Person:gender>\n",
      "        <Person:likes rdf:resource=\"http://example.org/Sandra\"/>\n",
      "        <Person:mother rdf:resource=\"http://example.org/Susie\"/>\n",
      "      </rdf:Description>\n",
      "    </Person:likes>\n",
      "  </rdf:Description>\n",
      "  <rdf:Description rdf:about=\"http://example.org/Susie\">\n",
      "    <Person:bornIn>1956</Person:bornIn>\n",
      "    <Person:gender>women</Person:gender>\n",
      "  </rdf:Description>\n",
      "  <rdf:Description rdf:about=\"http://example.org/Sandra\">\n",
      "    <Person:bornIn>1980</Person:bornIn>\n",
      "    <Person:gender>women</Person:gender>\n",
      "  </rdf:Description>\n",
      "  <rdf:Description rdf:about=\"http://example.org/Frank\">\n",
      "    <Person:bornIn>1949</Person:bornIn>\n",
      "    <Person:gender>Men</Person:gender>\n",
      "    <Person:married rdf:resource=\"http://example.org/Susie\"/>\n",
      "  </rdf:Description>\n",
      "</rdf:RDF>\n",
      "\n"
     ]
    }
   ],
   "source": [
    "with open(file_path) as fp:\n",
    "    print(fp.read())"
   ]
  },
  {
   "cell_type": "code",
   "execution_count": 6,
   "id": "96467338-8892-443b-b4cb-337c2c5ad013",
   "metadata": {
    "execution": {
     "iopub.execute_input": "2022-09-22T06:13:06.320419Z",
     "iopub.status.busy": "2022-09-22T06:13:06.320419Z",
     "iopub.status.idle": "2022-09-22T06:13:06.335383Z",
     "shell.execute_reply": "2022-09-22T06:13:06.334388Z",
     "shell.execute_reply.started": "2022-09-22T06:13:06.320419Z"
    },
    "tags": []
   },
   "outputs": [],
   "source": [
    "def visualize(g):\n",
    "    stream = io.StringIO()\n",
    "    rdf2dot(g, stream, opts = {display})\n",
    "    dg = pydotplus.graph_from_dot_data(stream.getvalue())\n",
    "    png = dg.create_png()\n",
    "    display(Image(png))"
   ]
  },
  {
   "cell_type": "code",
   "execution_count": 51,
   "id": "d0dfe356-5b87-4ab7-8ac0-08807cdbf3ec",
   "metadata": {
    "execution": {
     "iopub.execute_input": "2022-09-22T05:49:12.584070Z",
     "iopub.status.busy": "2022-09-22T05:49:12.583073Z",
     "iopub.status.idle": "2022-09-22T05:49:12.987345Z",
     "shell.execute_reply": "2022-09-22T05:49:12.986376Z",
     "shell.execute_reply.started": "2022-09-22T05:49:12.584070Z"
    },
    "tags": []
   },
   "outputs": [
    {
     "name": "stdout",
     "output_type": "stream",
     "text": [
      "\n",
      "(dot.exe:11308): Pango-WARNING **: couldn't load font \"DejaVu Sans Bold Not-Rotated 14\", falling back to \"Sans Bold Not-Rotated 14\", expect ugly output.\n",
      "\n",
      "(dot.exe:11308): Pango-WARNING **: couldn't load font \"DejaVu Sans Not-Rotated 10\", falling back to \"Sans Not-Rotated 10\", expect ugly output.\n",
      "\n",
      "(dot.exe:11308): Pango-WARNING **: couldn't load font \"DejaVu Sans Not-Rotated 14\", falling back to \"Sans Not-Rotated 14\", expect ugly output.\n",
      "\n"
     ]
    },
    {
     "data": {
      "image/png": "[encoded data removed]",
      "text/plain": [
       "<IPython.core.display.Image object>"
      ]
     },
     "metadata": {},
     "output_type": "display_data"
    }
   ],
   "source": [
    "visualize(g)"
   ]
  },
  {
   "cell_type": "markdown",
   "id": "ce0ede9b-86de-41aa-8ff7-ba9e9d89e962",
   "metadata": {},
   "source": [
    "# Visualization\n",
    "* 코드 : https://stackoverflow.com/questions/39274216/visualize-an-rdflib-graph-in-python\n",
    "* GraphViz 문제 발생 시 해결법 : https://ssung-22.tistory.com/3"
   ]
  },
  {
   "cell_type": "markdown",
   "id": "45e85b11-ce9f-4b5d-ad87-e38d5966e5c0",
   "metadata": {},
   "source": [
    "## Example 1"
   ]
  },
  {
   "cell_type": "code",
   "execution_count": 2,
   "id": "e894a726-61de-4df1-88d4-2f277632b5fc",
   "metadata": {
    "execution": {
     "iopub.execute_input": "2022-09-22T06:12:58.180403Z",
     "iopub.status.busy": "2022-09-22T06:12:58.180403Z",
     "iopub.status.idle": "2022-09-22T06:12:58.185410Z",
     "shell.execute_reply": "2022-09-22T06:12:58.185410Z",
     "shell.execute_reply.started": "2022-09-22T06:12:58.180403Z"
    },
    "tags": []
   },
   "outputs": [],
   "source": [
    "url = 'https://www.w3.org/TeamSubmission/turtle/tests/test-30.ttl'"
   ]
  },
  {
   "cell_type": "code",
   "execution_count": 8,
   "id": "3614815e-f347-4326-b992-025b273b6d2a",
   "metadata": {
    "execution": {
     "iopub.execute_input": "2022-09-22T06:13:52.333507Z",
     "iopub.status.busy": "2022-09-22T06:13:52.332510Z",
     "iopub.status.idle": "2022-09-22T06:13:53.011279Z",
     "shell.execute_reply": "2022-09-22T06:13:53.009329Z",
     "shell.execute_reply.started": "2022-09-22T06:13:52.333507Z"
    },
    "tags": []
   },
   "outputs": [
    {
     "data": {
      "text/plain": [
       "<Graph identifier=Na76c07569a864b5b9e36a5959aae977a (<class 'rdflib.graph.Graph'>)>"
      ]
     },
     "execution_count": 8,
     "metadata": {},
     "output_type": "execute_result"
    }
   ],
   "source": [
    "g = rdflib.Graph()\n",
    "g.parse(url, format = 'ttl')"
   ]
  },
  {
   "cell_type": "code",
   "execution_count": 9,
   "id": "d810c290-7639-4921-8d69-dc2514d399b7",
   "metadata": {
    "execution": {
     "iopub.execute_input": "2022-09-22T06:13:53.665685Z",
     "iopub.status.busy": "2022-09-22T06:13:53.665685Z",
     "iopub.status.idle": "2022-09-22T06:13:54.001386Z",
     "shell.execute_reply": "2022-09-22T06:13:54.001386Z",
     "shell.execute_reply.started": "2022-09-22T06:13:53.665685Z"
    },
    "tags": []
   },
   "outputs": [
    {
     "name": "stdout",
     "output_type": "stream",
     "text": [
      "\n",
      "(dot.exe:1436): Pango-WARNING **: couldn't load font \"DejaVu Sans Bold Not-Rotated 14\", falling back to \"Sans Bold Not-Rotated 14\", expect ugly output.\n",
      "\n",
      "(dot.exe:1436): Pango-WARNING **: couldn't load font \"DejaVu Sans Not-Rotated 10\", falling back to \"Sans Not-Rotated 10\", expect ugly output.\n",
      "\n"
     ]
    },
    {
     "data": {
      "image/png": "[encoded data removed]",
      "text/plain": [
       "<IPython.core.display.Image object>"
      ]
     },
     "metadata": {},
     "output_type": "display_data"
    }
   ],
   "source": [
    "visualize(g)"
   ]
  },
  {
   "cell_type": "markdown",
   "id": "43be0a7e-bbf6-449c-94e5-e859a3c33768",
   "metadata": {},
   "source": [
    "## Example 2"
   ]
  },
  {
   "cell_type": "code",
   "execution_count": 10,
   "id": "e7c5dce2-c6ab-4e0a-9e21-661861c8c73a",
   "metadata": {
    "execution": {
     "iopub.execute_input": "2022-09-22T06:24:29.689768Z",
     "iopub.status.busy": "2022-09-22T06:24:29.688743Z",
     "iopub.status.idle": "2022-09-22T06:24:29.703704Z",
     "shell.execute_reply": "2022-09-22T06:24:29.702705Z",
     "shell.execute_reply.started": "2022-09-22T06:24:29.689768Z"
    },
    "tags": []
   },
   "outputs": [
    {
     "data": {
      "text/plain": [
       "<Graph identifier=N7e2db83f5989473db965f74a87dbc1a4 (<class 'rdflib.graph.Graph'>)>"
      ]
     },
     "execution_count": 10,
     "metadata": {},
     "output_type": "execute_result"
    }
   ],
   "source": [
    "g = rdflib.Graph()\n",
    "\n",
    "# Now define the key words that we will use (the edge weights of the graph)\n",
    "has_border_with = rdflib.URIRef('http://www.example.org/has_border_with')\n",
    "located_in = rdflib.URIRef('http://www.example.org/located_in')\n",
    "\n",
    "# define the things - base level objects that will be the nodes\n",
    "# In this case first we have countries\n",
    "germany = rdflib.URIRef('http://www.example.org/country1')\n",
    "france = rdflib.URIRef('http://www.example.org/country2')\n",
    "china = rdflib.URIRef('http://www.example.org/country3')\n",
    "mongolia = rdflib.URIRef('http://www.example.org/country4')\n",
    "\n",
    "# then we have continents\n",
    "europa = rdflib.URIRef('http://www.example.org/part1')\n",
    "asia = rdflib.URIRef('http://www.example.org/part2')\n",
    "\n",
    "# Having defined the things and the edge weights, now assemble the graph\n",
    "g.add((germany,has_border_with,france))\n",
    "g.add((china,has_border_with,mongolia))\n",
    "g.add((germany,located_in,europa))\n",
    "g.add((france,located_in,europa))\n",
    "g.add((china,located_in,asia))\n",
    "g.add((mongolia,located_in,asia))"
   ]
  },
  {
   "cell_type": "code",
   "execution_count": 11,
   "id": "098c8e23-fa95-4c44-8b48-57778de4b4d8",
   "metadata": {
    "execution": {
     "iopub.execute_input": "2022-09-22T06:24:41.195986Z",
     "iopub.status.busy": "2022-09-22T06:24:41.195986Z",
     "iopub.status.idle": "2022-09-22T06:24:41.617169Z",
     "shell.execute_reply": "2022-09-22T06:24:41.617169Z",
     "shell.execute_reply.started": "2022-09-22T06:24:41.195986Z"
    },
    "tags": []
   },
   "outputs": [
    {
     "name": "stdout",
     "output_type": "stream",
     "text": [
      "\n",
      "(dot.exe:7216): Pango-WARNING **: couldn't load font \"DejaVu Sans Bold Not-Rotated 14\", falling back to \"Sans Bold Not-Rotated 14\", expect ugly output.\n",
      "\n",
      "(dot.exe:7216): Pango-WARNING **: couldn't load font \"DejaVu Sans Not-Rotated 10\", falling back to \"Sans Not-Rotated 10\", expect ugly output.\n",
      "\n"
     ]
    },
    {
     "data": {
      "image/png": "[encoded data removed]",
      "text/plain": [
       "<IPython.core.display.Image object>"
      ]
     },
     "metadata": {},
     "output_type": "display_data"
    }
   ],
   "source": [
    "visualize(g)"
   ]
  },
  {
   "cell_type": "markdown",
   "id": "21a2a35f-c550-4010-8468-b55e481aa2b4",
   "metadata": {},
   "source": [
    "# Graph to RDF-XML"
   ]
  },
  {
   "cell_type": "code",
   "execution_count": 17,
   "id": "f4627cd1-3108-4514-8389-5320d1e02180",
   "metadata": {
    "execution": {
     "iopub.execute_input": "2022-09-22T06:28:51.519986Z",
     "iopub.status.busy": "2022-09-22T06:28:51.519986Z",
     "iopub.status.idle": "2022-09-22T06:28:51.531959Z",
     "shell.execute_reply": "2022-09-22T06:28:51.530959Z",
     "shell.execute_reply.started": "2022-09-22T06:28:51.519986Z"
    },
    "tags": []
   },
   "outputs": [],
   "source": [
    "v = g.serialize(format = \"xml\", destination = os.path.join(file_dir, 'countries.xml')) #> 그래프 객체를 RDF-XML 파일로 만들어 저장함"
   ]
  }
 ],
 "metadata": {
  "kernelspec": {
   "display_name": "Python 3",
   "language": "python",
   "name": "python3"
  },
  "language_info": {
   "codemirror_mode": {
    "name": "ipython",
    "version": 3
   },
   "file_extension": ".py",
   "mimetype": "text/x-python",
   "name": "python",
   "nbconvert_exporter": "python",
   "pygments_lexer": "ipython3",
   "version": "3.8.8"
  }
 },
 "nbformat": 4,
 "nbformat_minor": 5
}
