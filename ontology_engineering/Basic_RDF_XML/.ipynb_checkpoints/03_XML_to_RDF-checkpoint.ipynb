{
 "cells": [
  {
   "cell_type": "markdown",
   "id": "583586ba-25e8-48f4-ae9f-568a9b11bd18",
   "metadata": {},
   "source": [
    "# Set Up"
   ]
  },
  {
   "cell_type": "markdown",
   "id": "e0744b10-1b29-463e-94fd-120b6b010428",
   "metadata": {
    "tags": []
   },
   "source": [
    "## Import"
   ]
  },
  {
   "cell_type": "code",
   "execution_count": 20,
   "id": "c14bf620-bd31-4f57-8a4b-119139e0b87b",
   "metadata": {
    "execution": {
     "iopub.execute_input": "2022-09-24T03:01:01.461023Z",
     "iopub.status.busy": "2022-09-24T03:01:01.461023Z",
     "iopub.status.idle": "2022-09-24T03:01:01.475984Z",
     "shell.execute_reply": "2022-09-24T03:01:01.474987Z",
     "shell.execute_reply.started": "2022-09-24T03:01:01.461023Z"
    },
    "tags": []
   },
   "outputs": [],
   "source": [
    "import rdflib\n",
    "from rdflib.extras.external_graph_libs import rdflib_to_networkx_multidigraph\n",
    "import networkx as nx\n",
    "import matplotlib.pyplot as plt\n",
    "import os\n",
    "import shutil # 파일, 폴더 복사\n",
    "\n",
    "# RDF 그래프 그려주는 거\n",
    "import io\n",
    "from io import StringIO, BytesIO\n",
    "import pydotplus\n",
    "from IPython.display import display, Image\n",
    "from rdflib.tools.rdf2dot import rdf2dot"
   ]
  },
  {
   "cell_type": "markdown",
   "id": "efef4e50-8269-4a10-a8f9-60a57c65703b",
   "metadata": {},
   "source": [
    "# XML to RDF-XML with Python\n",
    "* `g.serialize()`"
   ]
  },
  {
   "cell_type": "markdown",
   "id": "a57ddc03-dc44-427b-9cf9-118cd91d4058",
   "metadata": {},
   "source": [
    "## XML to RDF-XML"
   ]
  },
  {
   "cell_type": "markdown",
   "id": "65fade35-fcaa-41de-b799-d528e74ecf88",
   "metadata": {},
   "source": [
    "### Load XML"
   ]
  },
  {
   "cell_type": "code",
   "execution_count": 12,
   "id": "de618ff4-b0b0-4858-a29e-35c72b3fda81",
   "metadata": {
    "execution": {
     "iopub.execute_input": "2022-09-24T02:59:11.690179Z",
     "iopub.status.busy": "2022-09-24T02:59:11.690179Z",
     "iopub.status.idle": "2022-09-24T02:59:11.707202Z",
     "shell.execute_reply": "2022-09-24T02:59:11.705829Z",
     "shell.execute_reply.started": "2022-09-24T02:59:11.690179Z"
    },
    "tags": []
   },
   "outputs": [],
   "source": [
    "file_dir = 'D:/OneDrive - 연세대학교 (Yonsei University)/Lectures/2022-2_온톨로지공학/Github/Dataset'"
   ]
  },
  {
   "cell_type": "code",
   "execution_count": 13,
   "id": "ceab8d4b-52c2-4ae9-a372-d0013b6ab3a2",
   "metadata": {
    "execution": {
     "iopub.execute_input": "2022-09-24T02:59:12.170246Z",
     "iopub.status.busy": "2022-09-24T02:59:12.170246Z",
     "iopub.status.idle": "2022-09-24T02:59:12.187238Z",
     "shell.execute_reply": "2022-09-24T02:59:12.185898Z",
     "shell.execute_reply.started": "2022-09-24T02:59:12.170246Z"
    },
    "tags": []
   },
   "outputs": [],
   "source": [
    "file_name = 'Yangtze.xml'"
   ]
  },
  {
   "cell_type": "code",
   "execution_count": 14,
   "id": "993092f9-b775-4ba5-9744-7e9968be947d",
   "metadata": {
    "execution": {
     "iopub.execute_input": "2022-09-24T02:59:12.587832Z",
     "iopub.status.busy": "2022-09-24T02:59:12.587832Z",
     "iopub.status.idle": "2022-09-24T02:59:12.593806Z",
     "shell.execute_reply": "2022-09-24T02:59:12.592819Z",
     "shell.execute_reply.started": "2022-09-24T02:59:12.587832Z"
    },
    "tags": []
   },
   "outputs": [
    {
     "name": "stdout",
     "output_type": "stream",
     "text": [
      "D:/OneDrive - 연세대학교 (Yonsei University)/Lectures/2022-2_온톨로지공학/Github/Dataset\\Yangtze.xml\n"
     ]
    }
   ],
   "source": [
    "file_path = os.path.join(file_dir, file_name)\n",
    "print(file_path)"
   ]
  },
  {
   "cell_type": "code",
   "execution_count": 18,
   "id": "e9d5397b-4b58-49cc-99ee-ddb5fa62acb1",
   "metadata": {
    "execution": {
     "iopub.execute_input": "2022-09-24T02:59:50.182118Z",
     "iopub.status.busy": "2022-09-24T02:59:50.182118Z",
     "iopub.status.idle": "2022-09-24T02:59:50.197079Z",
     "shell.execute_reply": "2022-09-24T02:59:50.195115Z",
     "shell.execute_reply.started": "2022-09-24T02:59:50.182118Z"
    },
    "tags": []
   },
   "outputs": [
    {
     "name": "stdout",
     "output_type": "stream",
     "text": [
      "<?xml version=\"1.0\"?>\n",
      "<River id=\"Yangtze” xmlns=\"http://www.geodesy.org/river\">\n",
      "<length>6300 kilometers</length>\n",
      "<startingLocation>western China's Qinghai-Tibet Plateau</startingLocation>\n",
      "<endingLocation>East China Sea</endingLocation>\n",
      "</River>\n"
     ]
    }
   ],
   "source": [
    "with open(file_path, encoding = 'UTF-8') as fp:\n",
    "    print(fp.read())"
   ]
  },
  {
   "cell_type": "markdown",
   "id": "2b4acc97-6b5c-48bb-b85c-8ee535113966",
   "metadata": {},
   "source": [
    "## Copy File\n",
    "* 원문 보호를 위함"
   ]
  },
  {
   "cell_type": "code",
   "execution_count": 46,
   "id": "2f848734-803e-4cdd-ac7d-bbbb94aaa998",
   "metadata": {
    "execution": {
     "iopub.execute_input": "2022-09-24T03:05:05.371575Z",
     "iopub.status.busy": "2022-09-24T03:05:05.370612Z",
     "iopub.status.idle": "2022-09-24T03:05:05.382547Z",
     "shell.execute_reply": "2022-09-24T03:05:05.381549Z",
     "shell.execute_reply.started": "2022-09-24T03:05:05.371575Z"
    },
    "tags": []
   },
   "outputs": [],
   "source": [
    "copy_name = 'copy_'+ file_name\n",
    "copy_path = os.path.join(file_dir, copy_name)"
   ]
  },
  {
   "cell_type": "code",
   "execution_count": 47,
   "id": "ebf18603-f714-495a-9767-e95b64bb939b",
   "metadata": {
    "execution": {
     "iopub.execute_input": "2022-09-24T03:05:05.860674Z",
     "iopub.status.busy": "2022-09-24T03:05:05.860674Z",
     "iopub.status.idle": "2022-09-24T03:05:05.872881Z",
     "shell.execute_reply": "2022-09-24T03:05:05.871881Z",
     "shell.execute_reply.started": "2022-09-24T03:05:05.860674Z"
    },
    "tags": []
   },
   "outputs": [
    {
     "data": {
      "text/plain": [
       "'D:/OneDrive - 연세대학교 (Yonsei University)/Lectures/2022-2_온톨로지공학/Github/Dataset\\\\copy_Yangtze.xml'"
      ]
     },
     "execution_count": 47,
     "metadata": {},
     "output_type": "execute_result"
    }
   ],
   "source": [
    "shutil.copyfile(file_path, copy_path)"
   ]
  },
  {
   "cell_type": "markdown",
   "id": "322dd27c-111b-4903-9720-a54b640fde57",
   "metadata": {},
   "source": [
    "### XML to RDF-XML"
   ]
  },
  {
   "cell_type": "code",
   "execution_count": 43,
   "id": "88e389a8-3edc-4e78-89f1-1b27845595b9",
   "metadata": {
    "execution": {
     "iopub.execute_input": "2022-09-24T03:04:53.555167Z",
     "iopub.status.busy": "2022-09-24T03:04:53.554203Z",
     "iopub.status.idle": "2022-09-24T03:04:53.560187Z",
     "shell.execute_reply": "2022-09-24T03:04:53.559187Z",
     "shell.execute_reply.started": "2022-09-24T03:04:53.555167Z"
    },
    "tags": []
   },
   "outputs": [],
   "source": [
    "g = rdflib.Graph()"
   ]
  },
  {
   "cell_type": "code",
   "execution_count": 44,
   "id": "2e0ce3d9-0ecb-4ebb-8222-0933ba28d863",
   "metadata": {
    "execution": {
     "iopub.execute_input": "2022-09-24T03:04:54.060563Z",
     "iopub.status.busy": "2022-09-24T03:04:54.060563Z",
     "iopub.status.idle": "2022-09-24T03:04:54.084446Z",
     "shell.execute_reply": "2022-09-24T03:04:54.081455Z",
     "shell.execute_reply.started": "2022-09-24T03:04:54.060563Z"
    },
    "tags": []
   },
   "outputs": [
    {
     "data": {
      "text/plain": [
       "<Graph identifier=N0dcb88543cff4aeb9e2f26ad1aaff207 (<class 'rdflib.graph.Graph'>)>"
      ]
     },
     "execution_count": 44,
     "metadata": {},
     "output_type": "execute_result"
    }
   ],
   "source": [
    "g.serialize(copy_path, format = 'xml')"
   ]
  },
  {
   "cell_type": "code",
   "execution_count": 49,
   "id": "4941ac83-5aca-4491-99ae-6ad0f4a9052b",
   "metadata": {
    "execution": {
     "iopub.execute_input": "2022-09-24T03:05:23.493531Z",
     "iopub.status.busy": "2022-09-24T03:05:23.493531Z",
     "iopub.status.idle": "2022-09-24T03:05:23.505498Z",
     "shell.execute_reply": "2022-09-24T03:05:23.503520Z",
     "shell.execute_reply.started": "2022-09-24T03:05:23.493531Z"
    },
    "tags": []
   },
   "outputs": [
    {
     "name": "stdout",
     "output_type": "stream",
     "text": [
      "<?xml version=\"1.0\"?>\n",
      "<River id=\"Yangtze” xmlns=\"http://www.geodesy.org/river\">\n",
      "<length>6300 kilometers</length>\n",
      "<startingLocation>western China's Qinghai-Tibet Plateau</startingLocation>\n",
      "<endingLocation>East China Sea</endingLocation>\n",
      "</River>\n"
     ]
    }
   ],
   "source": [
    "with open(copy_path, encoding = 'UTF-8') as fp:\n",
    "    print(fp.read())"
   ]
  },
  {
   "cell_type": "markdown",
   "id": "ac76e5ed-478e-4868-8a0d-2432f14b038f",
   "metadata": {},
   "source": [
    "### Show Result "
   ]
  },
  {
   "cell_type": "markdown",
   "id": "a382830f-4d75-49df-954b-50d4d1a1d777",
   "metadata": {},
   "source": [
    "## Show RDF-XML\n",
    "* 이미 RDF-XML로 제작된 파일을 시각화하기"
   ]
  },
  {
   "cell_type": "code",
   "execution_count": 65,
   "id": "201c09e8-f392-49d3-baa9-a26a279632d4",
   "metadata": {
    "execution": {
     "iopub.execute_input": "2022-09-22T06:23:09.215563Z",
     "iopub.status.busy": "2022-09-22T06:23:09.215563Z",
     "iopub.status.idle": "2022-09-22T06:23:09.226541Z",
     "shell.execute_reply": "2022-09-22T06:23:09.226541Z",
     "shell.execute_reply.started": "2022-09-22T06:23:09.215563Z"
    },
    "tags": []
   },
   "outputs": [],
   "source": [
    "file_name = 'starwars.xml'"
   ]
  },
  {
   "cell_type": "code",
   "execution_count": 66,
   "id": "f2a83cd3-ca49-422e-b006-e871a7545975",
   "metadata": {
    "execution": {
     "iopub.execute_input": "2022-09-22T06:23:09.768191Z",
     "iopub.status.busy": "2022-09-22T06:23:09.768191Z",
     "iopub.status.idle": "2022-09-22T06:23:09.780133Z",
     "shell.execute_reply": "2022-09-22T06:23:09.779163Z",
     "shell.execute_reply.started": "2022-09-22T06:23:09.768191Z"
    },
    "tags": []
   },
   "outputs": [],
   "source": [
    "file_path = os.path.join(file_dir, file_name)"
   ]
  },
  {
   "cell_type": "code",
   "execution_count": 67,
   "id": "b2f5ba5a-b546-47a7-a03e-35b4723965bc",
   "metadata": {
    "execution": {
     "iopub.execute_input": "2022-09-22T06:23:10.242167Z",
     "iopub.status.busy": "2022-09-22T06:23:10.241142Z",
     "iopub.status.idle": "2022-09-22T06:23:10.246158Z",
     "shell.execute_reply": "2022-09-22T06:23:10.246158Z",
     "shell.execute_reply.started": "2022-09-22T06:23:10.242167Z"
    },
    "tags": []
   },
   "outputs": [
    {
     "name": "stdout",
     "output_type": "stream",
     "text": [
      "<?xml version=\"1.0\" encoding=\"utf-8\"?>\n",
      "<rdf:RDF\n",
      "  xmlns:Starwars=\"http://example.org/\"\n",
      "  xmlns:rdf=\"http://www.w3.org/1999/02/22-rdf-syntax-ns#\"\n",
      ">\n",
      "  <rdf:Description rdf:about=\"http://example.org/Luke\">\n",
      "    <Starwars:gender>men</Starwars:gender>\n",
      "    <Starwars:likes>\n",
      "      <rdf:Description rdf:about=\"http://example.org/\">\n",
      "        <Starwars:father rdf:resource=\"http://example.org/Anakin\"/>\n",
      "        <Starwars:gender>Men</Starwars:gender>\n",
      "        <Starwars:likes rdf:resource=\"http://example.org/R2-D2\"/>\n",
      "        <Starwars:mother rdf:resource=\"http://example.org/Padme\"/>\n",
      "      </rdf:Description>\n",
      "    </Starwars:likes>\n",
      "  </rdf:Description>\n",
      "  <rdf:Description rdf:about=\"http://example.org/Leia\">\n",
      "    <Starwars:bornIn>Unknown</Starwars:bornIn>\n",
      "    <Starwars:gender>women</Starwars:gender>\n",
      "  </rdf:Description>\n",
      "  <rdf:Description rdf:about=\"http://example.org/Han\">\n",
      "    <Starwars:bornIn>Unknown</Starwars:bornIn>\n",
      "    <Starwars:gender>men</Starwars:gender>\n",
      "  </rdf:Description>\n",
      "</rdf:RDF>\n",
      "\n"
     ]
    }
   ],
   "source": [
    "with open(file_path) as fp:\n",
    "    print(fp.read())"
   ]
  },
  {
   "cell_type": "code",
   "execution_count": 68,
   "id": "fd3e0540-6185-4e69-8f83-89bb4acd9114",
   "metadata": {
    "execution": {
     "iopub.execute_input": "2022-09-22T06:23:12.776297Z",
     "iopub.status.busy": "2022-09-22T06:23:12.776297Z",
     "iopub.status.idle": "2022-09-22T06:23:12.798248Z",
     "shell.execute_reply": "2022-09-22T06:23:12.797249Z",
     "shell.execute_reply.started": "2022-09-22T06:23:12.776297Z"
    },
    "tags": []
   },
   "outputs": [
    {
     "data": {
      "text/plain": [
       "<Graph identifier=N7fe6c791d540428b80a20ea09b52a709 (<class 'rdflib.graph.Graph'>)>"
      ]
     },
     "execution_count": 68,
     "metadata": {},
     "output_type": "execute_result"
    }
   ],
   "source": [
    "g = rdflib.Graph()\n",
    "g.parse(file_path, format = 'xml')"
   ]
  },
  {
   "cell_type": "code",
   "execution_count": 69,
   "id": "f6d21365-ffa8-474e-8f66-a7c48584ad12",
   "metadata": {
    "execution": {
     "iopub.execute_input": "2022-09-22T06:23:13.840339Z",
     "iopub.status.busy": "2022-09-22T06:23:13.840339Z",
     "iopub.status.idle": "2022-09-22T06:23:13.946086Z",
     "shell.execute_reply": "2022-09-22T06:23:13.946086Z",
     "shell.execute_reply.started": "2022-09-22T06:23:13.840339Z"
    },
    "tags": []
   },
   "outputs": [],
   "source": [
    "stream = io.StringIO()\n",
    "rdf2dot(g, stream, opts = {display})\n",
    "dg = pydotplus.graph_from_dot_data(stream.getvalue())"
   ]
  },
  {
   "cell_type": "code",
   "execution_count": 70,
   "id": "a0899074-ec52-4ac8-84ac-b2f29c590bc3",
   "metadata": {
    "execution": {
     "iopub.execute_input": "2022-09-22T06:23:14.761111Z",
     "iopub.status.busy": "2022-09-22T06:23:14.761111Z",
     "iopub.status.idle": "2022-09-22T06:23:14.773075Z",
     "shell.execute_reply": "2022-09-22T06:23:14.773075Z",
     "shell.execute_reply.started": "2022-09-22T06:23:14.761111Z"
    },
    "tags": []
   },
   "outputs": [
    {
     "data": {
      "text/plain": [
       "<pydotplus.graphviz.Dot at 0x1c7a4229ca0>"
      ]
     },
     "execution_count": 70,
     "metadata": {},
     "output_type": "execute_result"
    }
   ],
   "source": [
    "dg"
   ]
  },
  {
   "cell_type": "code",
   "execution_count": 71,
   "id": "e5c8f3ac-ef8e-4109-82e6-cc8c336e88b0",
   "metadata": {
    "execution": {
     "iopub.execute_input": "2022-09-22T06:23:15.870198Z",
     "iopub.status.busy": "2022-09-22T06:23:15.870198Z",
     "iopub.status.idle": "2022-09-22T06:23:16.211885Z",
     "shell.execute_reply": "2022-09-22T06:23:16.211885Z",
     "shell.execute_reply.started": "2022-09-22T06:23:15.870198Z"
    },
    "tags": []
   },
   "outputs": [
    {
     "ename": "InvocationException",
     "evalue": "Program terminated with status: 1. stderr follows: Error: syntax error in line 1 \r\n... <B></B> ...\r\n\r\n(dot.exe:980): Pango-WARNING **: couldn't load font \"DejaVu Sans Not-Rotated 14\", falling back to \"Sans Not-Rotated 14\", expect ugly output.\r\nin label of node node0\r\n\r\n(dot.exe:980): Pango-WARNING **: couldn't load font \"DejaVu Sans Bold Not-Rotated 14\", falling back to \"Sans Bold Not-Rotated 14\", expect ugly output.\r\n\r\n(dot.exe:980): Pango-WARNING **: couldn't load font \"DejaVu Sans Not-Rotated 10\", falling back to \"Sans Not-Rotated 10\", expect ugly output.\r\n",
     "output_type": "error",
     "traceback": [
      "\u001b[1;31m---------------------------------------------------------------------------\u001b[0m",
      "\u001b[1;31mInvocationException\u001b[0m                       Traceback (most recent call last)",
      "\u001b[1;32m<ipython-input-71-aa298f9df5cc>\u001b[0m in \u001b[0;36m<module>\u001b[1;34m\u001b[0m\n\u001b[1;32m----> 1\u001b[1;33m \u001b[0mpng\u001b[0m \u001b[1;33m=\u001b[0m \u001b[0mdg\u001b[0m\u001b[1;33m.\u001b[0m\u001b[0mcreate_png\u001b[0m\u001b[1;33m(\u001b[0m\u001b[1;33m)\u001b[0m\u001b[1;33m\u001b[0m\u001b[1;33m\u001b[0m\u001b[0m\n\u001b[0m\u001b[0;32m      2\u001b[0m \u001b[0mdisplay\u001b[0m\u001b[1;33m(\u001b[0m\u001b[0mImage\u001b[0m\u001b[1;33m(\u001b[0m\u001b[0mpng\u001b[0m\u001b[1;33m)\u001b[0m\u001b[1;33m)\u001b[0m\u001b[1;33m\u001b[0m\u001b[1;33m\u001b[0m\u001b[0m\n",
      "\u001b[1;32mC:\\dev\\Anaconda_3\\lib\\site-packages\\pydotplus\\graphviz.py\u001b[0m in \u001b[0;36m<lambda>\u001b[1;34m(f, prog)\u001b[0m\n\u001b[0;32m   1795\u001b[0m             self.__setattr__(\n\u001b[0;32m   1796\u001b[0m                 \u001b[1;34m'create_'\u001b[0m \u001b[1;33m+\u001b[0m \u001b[0mfrmt\u001b[0m\u001b[1;33m,\u001b[0m\u001b[1;33m\u001b[0m\u001b[1;33m\u001b[0m\u001b[0m\n\u001b[1;32m-> 1797\u001b[1;33m                 \u001b[1;32mlambda\u001b[0m \u001b[0mf\u001b[0m\u001b[1;33m=\u001b[0m\u001b[0mfrmt\u001b[0m\u001b[1;33m,\u001b[0m \u001b[0mprog\u001b[0m\u001b[1;33m=\u001b[0m\u001b[0mself\u001b[0m\u001b[1;33m.\u001b[0m\u001b[0mprog\u001b[0m\u001b[1;33m:\u001b[0m \u001b[0mself\u001b[0m\u001b[1;33m.\u001b[0m\u001b[0mcreate\u001b[0m\u001b[1;33m(\u001b[0m\u001b[0mformat\u001b[0m\u001b[1;33m=\u001b[0m\u001b[0mf\u001b[0m\u001b[1;33m,\u001b[0m \u001b[0mprog\u001b[0m\u001b[1;33m=\u001b[0m\u001b[0mprog\u001b[0m\u001b[1;33m)\u001b[0m\u001b[1;33m\u001b[0m\u001b[1;33m\u001b[0m\u001b[0m\n\u001b[0m\u001b[0;32m   1798\u001b[0m             )\n\u001b[0;32m   1799\u001b[0m             \u001b[0mf\u001b[0m \u001b[1;33m=\u001b[0m \u001b[0mself\u001b[0m\u001b[1;33m.\u001b[0m\u001b[0m__dict__\u001b[0m\u001b[1;33m[\u001b[0m\u001b[1;34m'create_'\u001b[0m \u001b[1;33m+\u001b[0m \u001b[0mfrmt\u001b[0m\u001b[1;33m]\u001b[0m\u001b[1;33m\u001b[0m\u001b[1;33m\u001b[0m\u001b[0m\n",
      "\u001b[1;32mC:\\dev\\Anaconda_3\\lib\\site-packages\\pydotplus\\graphviz.py\u001b[0m in \u001b[0;36mcreate\u001b[1;34m(self, prog, format)\u001b[0m\n\u001b[0;32m   2028\u001b[0m \u001b[1;33m\u001b[0m\u001b[0m\n\u001b[0;32m   2029\u001b[0m         \u001b[1;32mif\u001b[0m \u001b[0mstatus\u001b[0m \u001b[1;33m!=\u001b[0m \u001b[1;36m0\u001b[0m\u001b[1;33m:\u001b[0m\u001b[1;33m\u001b[0m\u001b[1;33m\u001b[0m\u001b[0m\n\u001b[1;32m-> 2030\u001b[1;33m             raise InvocationException(\n\u001b[0m\u001b[0;32m   2031\u001b[0m                 'Program terminated with status: %d. stderr follows: %s' % (\n\u001b[0;32m   2032\u001b[0m                     status, stderr_output))\n",
      "\u001b[1;31mInvocationException\u001b[0m: Program terminated with status: 1. stderr follows: Error: syntax error in line 1 \r\n... <B></B> ...\r\n\r\n(dot.exe:980): Pango-WARNING **: couldn't load font \"DejaVu Sans Not-Rotated 14\", falling back to \"Sans Not-Rotated 14\", expect ugly output.\r\nin label of node node0\r\n\r\n(dot.exe:980): Pango-WARNING **: couldn't load font \"DejaVu Sans Bold Not-Rotated 14\", falling back to \"Sans Bold Not-Rotated 14\", expect ugly output.\r\n\r\n(dot.exe:980): Pango-WARNING **: couldn't load font \"DejaVu Sans Not-Rotated 10\", falling back to \"Sans Not-Rotated 10\", expect ugly output.\r\n"
     ]
    }
   ],
   "source": [
    "png = dg.create_png()\n",
    "display(Image(png))"
   ]
  },
  {
   "cell_type": "code",
   "execution_count": 27,
   "id": "5e2c2284-0364-41a2-8a6b-dbc3c3076188",
   "metadata": {
    "execution": {
     "iopub.execute_input": "2022-09-24T03:03:24.220799Z",
     "iopub.status.busy": "2022-09-24T03:03:24.219771Z",
     "iopub.status.idle": "2022-09-24T03:03:24.238720Z",
     "shell.execute_reply": "2022-09-24T03:03:24.236729Z",
     "shell.execute_reply.started": "2022-09-24T03:03:24.220799Z"
    },
    "tags": []
   },
   "outputs": [],
   "source": [
    "def visualize(g):\n",
    "    stream = io.StringIO()\n",
    "    rdf2dot(g, stream, opts = {display})\n",
    "    dg = pydotplus.graph_from_dot_data(stream.getvalue())\n",
    "    png = dg.create_png()\n",
    "    display(Image(png))"
   ]
  },
  {
   "cell_type": "code",
   "execution_count": null,
   "id": "5c7fb7fb-f6c8-44e9-ab0f-d30b36a18433",
   "metadata": {},
   "outputs": [],
   "source": []
  },
  {
   "cell_type": "code",
   "execution_count": null,
   "id": "2c6a2b05-a0b2-4804-b83c-eb27e87037e7",
   "metadata": {},
   "outputs": [],
   "source": []
  },
  {
   "cell_type": "code",
   "execution_count": 49,
   "id": "a5e90e40-a107-43a8-9195-09ef764ad9bb",
   "metadata": {
    "execution": {
     "iopub.execute_input": "2022-09-22T06:15:22.194638Z",
     "iopub.status.busy": "2022-09-22T06:15:22.193676Z",
     "iopub.status.idle": "2022-09-22T06:15:22.635849Z",
     "shell.execute_reply": "2022-09-22T06:15:22.635849Z",
     "shell.execute_reply.started": "2022-09-22T06:15:22.194638Z"
    },
    "tags": []
   },
   "outputs": [
    {
     "data": {
      "text/plain": [
       "<Graph identifier=N4cee0e4d5238411d8b642eec7c75003a (<class 'rdflib.graph.Graph'>)>"
      ]
     },
     "execution_count": 49,
     "metadata": {},
     "output_type": "execute_result"
    }
   ],
   "source": [
    "g = rdflib.Graph()\n",
    "g.parse(\"http://www.w3.org/2000/10/rdf-tests/rdfcore/ntriples/test.nt\", \n",
    "        format = \"nt\")\n",
    "g.serialize(\"test.rdf\", format=\"pretty-xml\")"
   ]
  },
  {
   "cell_type": "code",
   "execution_count": 50,
   "id": "93b4991e-3aca-4004-a7a0-2ae57cbd1e39",
   "metadata": {
    "execution": {
     "iopub.execute_input": "2022-09-22T06:15:28.977507Z",
     "iopub.status.busy": "2022-09-22T06:15:28.977507Z",
     "iopub.status.idle": "2022-09-22T06:15:29.691516Z",
     "shell.execute_reply": "2022-09-22T06:15:29.690489Z",
     "shell.execute_reply.started": "2022-09-22T06:15:28.977507Z"
    },
    "tags": []
   },
   "outputs": [
    {
     "name": "stdout",
     "output_type": "stream",
     "text": [
      "\n",
      "(dot.exe:13808): Pango-WARNING **: couldn't load font \"DejaVu Sans Bold Not-Rotated 14\", falling back to \"Sans Bold Not-Rotated 14\", expect ugly output.\n",
      "\n",
      "(dot.exe:13808): Pango-WARNING **: couldn't load font \"DejaVu Sans Not-Rotated 10\", falling back to \"Sans Not-Rotated 10\", expect ugly output.\n",
      "\n",
      "(dot.exe:13808): Pango-WARNING **: couldn't load font \"DejaVu Sans Not-Rotated 14\", falling back to \"Sans Not-Rotated 14\", expect ugly output.\n",
      "\n"
     ]
    },
    {
     "data": {
      "image/png": "[encoded data removed]",
      "text/plain": [
       "<IPython.core.display.Image object>"
      ]
     },
     "metadata": {},
     "output_type": "display_data"
    }
   ],
   "source": [
    "visualize(g)"
   ]
  }
 ],
 "metadata": {
  "kernelspec": {
   "display_name": "Python 3",
   "language": "python",
   "name": "python3"
  },
  "language_info": {
   "codemirror_mode": {
    "name": "ipython",
    "version": 3
   },
   "file_extension": ".py",
   "mimetype": "text/x-python",
   "name": "python",
   "nbconvert_exporter": "python",
   "pygments_lexer": "ipython3",
   "version": "3.8.8"
  }
 },
 "nbformat": 4,
 "nbformat_minor": 5
}
