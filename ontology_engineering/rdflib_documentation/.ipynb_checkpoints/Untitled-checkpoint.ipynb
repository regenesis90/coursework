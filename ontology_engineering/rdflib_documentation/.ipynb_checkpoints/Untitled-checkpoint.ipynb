{
 "cells": [
  {
   "cell_type": "markdown",
   "id": "abcd82c5-fa66-4c17-990e-e37eb3c50ee7",
   "metadata": {},
   "source": [
    "# Import"
   ]
  },
  {
   "cell_type": "code",
   "execution_count": 33,
   "id": "73b332df-2423-46ed-b019-01fa4b90166c",
   "metadata": {
    "execution": {
     "iopub.execute_input": "2022-09-24T04:40:21.501759Z",
     "iopub.status.busy": "2022-09-24T04:40:21.501759Z",
     "iopub.status.idle": "2022-09-24T04:40:22.413918Z",
     "shell.execute_reply": "2022-09-24T04:40:22.411919Z",
     "shell.execute_reply.started": "2022-09-24T04:40:21.501759Z"
    },
    "tags": []
   },
   "outputs": [],
   "source": [
    "import rdflib\n",
    "from rdflib.extras.external_graph_libs import rdflib_to_networkx_multidigraph\n",
    "import networkx as nx\n",
    "import matplotlib.pyplot as plt\n",
    "import os\n",
    "\n",
    "# RDF 그래프 그려주는 거\n",
    "import io\n",
    "from io import StringIO, BytesIO\n",
    "import pydotplus\n",
    "from IPython.display import display, Image\n",
    "from rdflib.tools.rdf2dot import rdf2dot"
   ]
  },
  {
   "cell_type": "markdown",
   "id": "23323a29-6cb5-4ff9-a353-7aa3fa86ac99",
   "metadata": {},
   "source": [
    "# Creating RDF Triples\n",
    "* RDF : URL 레퍼런스(`URIREF`), 공백 노드(`BNode`), 문자값(`Literal`)이 포함된 그래프\n",
    "    * `BNode` : URI가 없는 것\n",
    "    * `URIREF` : RDF그래프에서 속성이나 서술어(관계) 표현 시 사용됨\n",
    "    * `Literal` : 이름, 날짜, 숫자 등 속성값"
   ]
  },
  {
   "cell_type": "code",
   "execution_count": 11,
   "id": "92f1446c-eaf2-4093-b52f-3589bdaae446",
   "metadata": {
    "execution": {
     "iopub.execute_input": "2022-09-24T04:14:28.698084Z",
     "iopub.status.busy": "2022-09-24T04:14:28.698084Z",
     "iopub.status.idle": "2022-09-24T04:14:28.715035Z",
     "shell.execute_reply": "2022-09-24T04:14:28.713734Z",
     "shell.execute_reply.started": "2022-09-24T04:14:28.698084Z"
    },
    "tags": []
   },
   "outputs": [],
   "source": [
    "from rdflib import URIRef, BNode, Literal"
   ]
  },
  {
   "cell_type": "code",
   "execution_count": 12,
   "id": "36a1f07d-199e-499d-bd4f-ffd6b90c31eb",
   "metadata": {
    "execution": {
     "iopub.execute_input": "2022-09-24T04:14:33.559500Z",
     "iopub.status.busy": "2022-09-24T04:14:33.559500Z",
     "iopub.status.idle": "2022-09-24T04:14:33.567081Z",
     "shell.execute_reply": "2022-09-24T04:14:33.567081Z",
     "shell.execute_reply.started": "2022-09-24T04:14:33.559500Z"
    },
    "tags": []
   },
   "outputs": [],
   "source": [
    "Luke = URIRef('http://example.org/people/Luke')"
   ]
  },
  {
   "cell_type": "code",
   "execution_count": 13,
   "id": "858a1b57-f0ff-48f0-801d-4a0b8dc55e2c",
   "metadata": {
    "execution": {
     "iopub.execute_input": "2022-09-24T04:14:41.012172Z",
     "iopub.status.busy": "2022-09-24T04:14:41.012172Z",
     "iopub.status.idle": "2022-09-24T04:14:41.018156Z",
     "shell.execute_reply": "2022-09-24T04:14:41.017128Z",
     "shell.execute_reply.started": "2022-09-24T04:14:41.012172Z"
    },
    "tags": []
   },
   "outputs": [],
   "source": [
    "Leia = BNode()"
   ]
  },
  {
   "cell_type": "code",
   "execution_count": 14,
   "id": "6ff589d5-8b7c-46e5-a140-f4330fd41410",
   "metadata": {
    "execution": {
     "iopub.execute_input": "2022-09-24T04:15:02.124135Z",
     "iopub.status.busy": "2022-09-24T04:15:02.124135Z",
     "iopub.status.idle": "2022-09-24T04:15:02.129123Z",
     "shell.execute_reply": "2022-09-24T04:15:02.128142Z",
     "shell.execute_reply.started": "2022-09-24T04:15:02.124135Z"
    },
    "tags": []
   },
   "outputs": [],
   "source": [
    "name = Literal('Luke Skywalker')\n",
    "age = Literal(28)\n",
    "height = Literal(170)"
   ]
  },
  {
   "cell_type": "code",
   "execution_count": 15,
   "id": "8f192aac-ad7b-4786-9b51-5f1499aade2f",
   "metadata": {
    "execution": {
     "iopub.execute_input": "2022-09-24T04:15:22.580637Z",
     "iopub.status.busy": "2022-09-24T04:15:22.579640Z",
     "iopub.status.idle": "2022-09-24T04:15:22.590612Z",
     "shell.execute_reply": "2022-09-24T04:15:22.589613Z",
     "shell.execute_reply.started": "2022-09-24T04:15:22.580637Z"
    },
    "tags": []
   },
   "outputs": [],
   "source": [
    "from rdflib import Namespace"
   ]
  },
  {
   "cell_type": "code",
   "execution_count": 16,
   "id": "a3fe0a1e-b6a7-45d0-980a-5fe1a1f3747e",
   "metadata": {
    "execution": {
     "iopub.execute_input": "2022-09-24T04:15:37.179927Z",
     "iopub.status.busy": "2022-09-24T04:15:37.179927Z",
     "iopub.status.idle": "2022-09-24T04:15:37.198876Z",
     "shell.execute_reply": "2022-09-24T04:15:37.196881Z",
     "shell.execute_reply.started": "2022-09-24T04:15:37.179927Z"
    },
    "tags": []
   },
   "outputs": [],
   "source": [
    "n = Namespace('http://example.org/people/')"
   ]
  },
  {
   "cell_type": "code",
   "execution_count": 20,
   "id": "82165ab5-ebd5-4f98-ae0d-8d54d35d543b",
   "metadata": {
    "execution": {
     "iopub.execute_input": "2022-09-24T04:16:15.255264Z",
     "iopub.status.busy": "2022-09-24T04:16:15.255264Z",
     "iopub.status.idle": "2022-09-24T04:16:15.273216Z",
     "shell.execute_reply": "2022-09-24T04:16:15.272217Z",
     "shell.execute_reply.started": "2022-09-24T04:16:15.255264Z"
    },
    "tags": []
   },
   "outputs": [
    {
     "data": {
      "text/plain": [
       "rdflib.term.URIRef('http://example.org/people/Luke')"
      ]
     },
     "execution_count": 20,
     "metadata": {},
     "output_type": "execute_result"
    }
   ],
   "source": [
    "n.Luke #> rdflib.term.URIRef('http://example.org/people/Luke')"
   ]
  },
  {
   "cell_type": "code",
   "execution_count": 23,
   "id": "7c66efaa-8904-4c14-b80a-ed879889c272",
   "metadata": {
    "execution": {
     "iopub.execute_input": "2022-09-24T04:27:35.613537Z",
     "iopub.status.busy": "2022-09-24T04:27:35.613537Z",
     "iopub.status.idle": "2022-09-24T04:27:35.632481Z",
     "shell.execute_reply": "2022-09-24T04:27:35.631482Z",
     "shell.execute_reply.started": "2022-09-24T04:27:35.613537Z"
    },
    "tags": []
   },
   "outputs": [
    {
     "name": "stdout",
     "output_type": "stream",
     "text": [
      "http://www.w3.org/1999/02/22-rdf-syntax-ns#type\n"
     ]
    }
   ],
   "source": [
    "from rdflib.namespace import RDF, FOAF\n",
    "\n",
    "print(RDF.type) #> 자주 쓰이는 rdf SCHEMA의 네임스페이스를 미리 정의해놓고 있음"
   ]
  },
  {
   "cell_type": "markdown",
   "id": "06c4a735-a18e-4475-b3b1-b6be8d4aa5f4",
   "metadata": {},
   "source": [
    "## 트리플 추가하기"
   ]
  },
  {
   "cell_type": "code",
   "execution_count": 25,
   "id": "6b1ed920-ba29-4d3e-aa0a-59e0bd61e378",
   "metadata": {
    "execution": {
     "iopub.execute_input": "2022-09-24T04:29:01.737178Z",
     "iopub.status.busy": "2022-09-24T04:29:01.737178Z",
     "iopub.status.idle": "2022-09-24T04:29:01.754835Z",
     "shell.execute_reply": "2022-09-24T04:29:01.752801Z",
     "shell.execute_reply.started": "2022-09-24T04:29:01.737178Z"
    },
    "tags": []
   },
   "outputs": [],
   "source": [
    "from rdflib import URIRef, BNode, Literal\n",
    "from rdflib.namespace import RDF, FOAF\n",
    "from rdflib import Graph"
   ]
  },
  {
   "cell_type": "code",
   "execution_count": 36,
   "id": "7b278a4e-9615-41cd-bb37-fcc2e44207eb",
   "metadata": {
    "execution": {
     "iopub.execute_input": "2022-09-24T04:40:29.422742Z",
     "iopub.status.busy": "2022-09-24T04:40:29.422742Z",
     "iopub.status.idle": "2022-09-24T04:40:29.435472Z",
     "shell.execute_reply": "2022-09-24T04:40:29.434488Z",
     "shell.execute_reply.started": "2022-09-24T04:40:29.422742Z"
    },
    "tags": []
   },
   "outputs": [],
   "source": [
    "bob = URIRef(\"http://example.org/people/Bob\")\n",
    "name = Literal('Bob') # passing a string"
   ]
  },
  {
   "cell_type": "code",
   "execution_count": 37,
   "id": "2465391f-6b60-49ab-9726-8cee2cd285b3",
   "metadata": {
    "execution": {
     "iopub.execute_input": "2022-09-24T04:40:29.841552Z",
     "iopub.status.busy": "2022-09-24T04:40:29.840554Z",
     "iopub.status.idle": "2022-09-24T04:40:29.853524Z",
     "shell.execute_reply": "2022-09-24T04:40:29.852527Z",
     "shell.execute_reply.started": "2022-09-24T04:40:29.841552Z"
    },
    "tags": []
   },
   "outputs": [],
   "source": [
    "g = Graph()"
   ]
  },
  {
   "cell_type": "code",
   "execution_count": 38,
   "id": "6a7d9859-c5de-4974-930e-cef4a64c2596",
   "metadata": {
    "execution": {
     "iopub.execute_input": "2022-09-24T04:40:30.249820Z",
     "iopub.status.busy": "2022-09-24T04:40:30.249820Z",
     "iopub.status.idle": "2022-09-24T04:40:30.271769Z",
     "shell.execute_reply": "2022-09-24T04:40:30.268775Z",
     "shell.execute_reply.started": "2022-09-24T04:40:30.249820Z"
    },
    "tags": []
   },
   "outputs": [
    {
     "name": "stdout",
     "output_type": "stream",
     "text": [
      "@prefix ns1: <http://xmlns.com/foaf/0.1/> .\n",
      "\n",
      "<http://example.org/people/Bob> a ns1:Person ;\n",
      "    ns1:name \"Bob\" .\n",
      "\n",
      "\n"
     ]
    }
   ],
   "source": [
    "g.add((bob, RDF.type, FOAF.Person))\n",
    "g.add((bob, FOAF.name, name))\n",
    "\n",
    "print (g.serialize(format = 'turtle'))"
   ]
  },
  {
   "cell_type": "code",
   "execution_count": 41,
   "id": "3843ced5-d77b-4268-b0c6-e7b806d64016",
   "metadata": {
    "execution": {
     "iopub.execute_input": "2022-09-24T04:41:10.211600Z",
     "iopub.status.busy": "2022-09-24T04:41:10.210608Z",
     "iopub.status.idle": "2022-09-24T04:41:10.232519Z",
     "shell.execute_reply": "2022-09-24T04:41:10.229528Z",
     "shell.execute_reply.started": "2022-09-24T04:41:10.211600Z"
    },
    "tags": []
   },
   "outputs": [
    {
     "name": "stdout",
     "output_type": "stream",
     "text": [
      "bob is now 43\n"
     ]
    }
   ],
   "source": [
    "g.set((bob, FOAF.age, Literal(43)))\n",
    "\n",
    "print (\"bob is now\", g.value(bob, FOAF.age))"
   ]
  },
  {
   "cell_type": "markdown",
   "id": "38921666-641d-4817-b532-f4aca9c8cf2a",
   "metadata": {},
   "source": [
    "## 트리플 삭제하기"
   ]
  },
  {
   "cell_type": "code",
   "execution_count": 30,
   "id": "98c253b1-07d9-4992-aae6-6aaf7be08f7d",
   "metadata": {
    "execution": {
     "iopub.execute_input": "2022-09-24T04:29:57.394854Z",
     "iopub.status.busy": "2022-09-24T04:29:57.394854Z",
     "iopub.status.idle": "2022-09-24T04:29:57.404826Z",
     "shell.execute_reply": "2022-09-24T04:29:57.403828Z",
     "shell.execute_reply.started": "2022-09-24T04:29:57.394854Z"
    },
    "tags": []
   },
   "outputs": [
    {
     "data": {
      "text/plain": [
       "<Graph identifier=N5e619d377de34933acd214565e8f72d4 (<class 'rdflib.graph.Graph'>)>"
      ]
     },
     "execution_count": 30,
     "metadata": {},
     "output_type": "execute_result"
    }
   ],
   "source": [
    "g.remove( (bob, None, None) ) # remove all triples about bob"
   ]
  },
  {
   "cell_type": "markdown",
   "id": "958b6c3d-1ca2-4091-a2fb-774b429724e5",
   "metadata": {},
   "source": [
    "## 시각화"
   ]
  },
  {
   "cell_type": "code",
   "execution_count": 34,
   "id": "51b11ff5-2849-494d-99ea-1da87e39b3ef",
   "metadata": {
    "execution": {
     "iopub.execute_input": "2022-09-24T04:40:23.770514Z",
     "iopub.status.busy": "2022-09-24T04:40:23.770514Z",
     "iopub.status.idle": "2022-09-24T04:40:23.778496Z",
     "shell.execute_reply": "2022-09-24T04:40:23.776496Z",
     "shell.execute_reply.started": "2022-09-24T04:40:23.770514Z"
    },
    "tags": []
   },
   "outputs": [],
   "source": [
    "def visualize(g):\n",
    "    stream = io.StringIO()\n",
    "    rdf2dot(g, stream, opts = {display})\n",
    "    \n",
    "    dg = pydotplus.graph_from_dot_data(stream.getvalue())\n",
    "    png = dg.create_png() # PNG 이미지를 생성함\n",
    "    \n",
    "    display(Image(png)) # 이미지를 표시함"
   ]
  },
  {
   "cell_type": "code",
   "execution_count": 40,
   "id": "8eef4e90-7577-4cbc-8478-1a5f67d0f8b6",
   "metadata": {
    "execution": {
     "iopub.execute_input": "2022-09-24T04:40:32.975970Z",
     "iopub.status.busy": "2022-09-24T04:40:32.975970Z",
     "iopub.status.idle": "2022-09-24T04:40:33.428509Z",
     "shell.execute_reply": "2022-09-24T04:40:33.427544Z",
     "shell.execute_reply.started": "2022-09-24T04:40:32.975970Z"
    },
    "tags": []
   },
   "outputs": [
    {
     "name": "stdout",
     "output_type": "stream",
     "text": [
      "\n",
      "(dot.exe:13976): Pango-WARNING **: couldn't load font \"DejaVu Sans Bold Not-Rotated 14\", falling back to \"Sans Bold Not-Rotated 14\", expect ugly output.\n",
      "\n",
      "(dot.exe:13976): Pango-WARNING **: couldn't load font \"DejaVu Sans Not-Rotated 10\", falling back to \"Sans Not-Rotated 10\", expect ugly output.\n",
      "\n",
      "(dot.exe:13976): Pango-WARNING **: couldn't load font \"DejaVu Sans Not-Rotated 14\", falling back to \"Sans Not-Rotated 14\", expect ugly output.\n",
      "\n"
     ]
    },
    {
     "data": {
      "image/png": "[encoded data removed]",
      "text/plain": [
       "<IPython.core.display.Image object>"
      ]
     },
     "metadata": {},
     "output_type": "display_data"
    }
   ],
   "source": [
    "visualize(g)"
   ]
  }
 ],
 "metadata": {
  "kernelspec": {
   "display_name": "Python 3",
   "language": "python",
   "name": "python3"
  },
  "language_info": {
   "codemirror_mode": {
    "name": "ipython",
    "version": 3
   },
   "file_extension": ".py",
   "mimetype": "text/x-python",
   "name": "python",
   "nbconvert_exporter": "python",
   "pygments_lexer": "ipython3",
   "version": "3.8.8"
  }
 },
 "nbformat": 4,
 "nbformat_minor": 5
}
