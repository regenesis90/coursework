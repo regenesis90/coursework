{
 "cells": [
  {
   "cell_type": "markdown",
   "id": "9ac894b5-4532-414d-8625-234397d29ad7",
   "metadata": {},
   "source": [
    "# Set Up"
   ]
  },
  {
   "cell_type": "markdown",
   "id": "1e883eae-1ced-459f-bb90-02e528207b0f",
   "metadata": {},
   "source": [
    "## Import"
   ]
  },
  {
   "cell_type": "code",
   "execution_count": 12,
   "id": "eb1fb0cc-0477-4aef-ba20-c564b69e3adb",
   "metadata": {
    "execution": {
     "iopub.execute_input": "2022-11-01T10:53:56.499373Z",
     "iopub.status.busy": "2022-11-01T10:53:56.499373Z",
     "iopub.status.idle": "2022-11-01T10:53:56.511340Z",
     "shell.execute_reply": "2022-11-01T10:53:56.510343Z",
     "shell.execute_reply.started": "2022-11-01T10:53:56.499373Z"
    },
    "tags": []
   },
   "outputs": [],
   "source": [
    "#!pip install requests_html"
   ]
  },
  {
   "cell_type": "code",
   "execution_count": 13,
   "id": "69df16b5-1eab-4f06-96d0-5baaa3d1cd46",
   "metadata": {
    "execution": {
     "iopub.execute_input": "2022-11-01T10:53:56.512338Z",
     "iopub.status.busy": "2022-11-01T10:53:56.511340Z",
     "iopub.status.idle": "2022-11-01T10:53:56.527298Z",
     "shell.execute_reply": "2022-11-01T10:53:56.526300Z",
     "shell.execute_reply.started": "2022-11-01T10:53:56.512338Z"
    },
    "tags": []
   },
   "outputs": [],
   "source": [
    "from __future__ import print_function\n",
    "\n",
    "import json\n",
    "import urllib\n",
    "import urllib.request\n",
    "\n",
    "import requests\n",
    "from requests_html import HTML\n",
    "from requests_html import HTMLSession\n",
    "\n",
    "import os\n",
    "from dotenv import load_dotenv\n",
    "\n",
    "import pandas as pd"
   ]
  },
  {
   "cell_type": "markdown",
   "id": "e0e6789d-12c0-4deb-81aa-e904795fa811",
   "metadata": {},
   "source": [
    "## API Key\n",
    "* Google Kowledge Graph"
   ]
  },
  {
   "cell_type": "code",
   "execution_count": 14,
   "id": "88ccd65a-dca2-427d-bba7-eb5ac91a7b1b",
   "metadata": {
    "execution": {
     "iopub.execute_input": "2022-11-01T10:53:56.530295Z",
     "iopub.status.busy": "2022-11-01T10:53:56.529294Z",
     "iopub.status.idle": "2022-11-01T10:53:56.543255Z",
     "shell.execute_reply": "2022-11-01T10:53:56.542258Z",
     "shell.execute_reply.started": "2022-11-01T10:53:56.530295Z"
    }
   },
   "outputs": [],
   "source": [
    "env_file = 'D:/OneDrive - 연세대학교 (Yonsei University)/Lectures/2022-2_온톨로지공학/.env'"
   ]
  },
  {
   "cell_type": "code",
   "execution_count": 15,
   "id": "27c64e07-7977-4760-8962-ba619061ca42",
   "metadata": {
    "execution": {
     "iopub.execute_input": "2022-11-01T10:53:56.546247Z",
     "iopub.status.busy": "2022-11-01T10:53:56.546247Z",
     "iopub.status.idle": "2022-11-01T10:53:56.559214Z",
     "shell.execute_reply": "2022-11-01T10:53:56.558215Z",
     "shell.execute_reply.started": "2022-11-01T10:53:56.546247Z"
    },
    "tags": []
   },
   "outputs": [],
   "source": [
    "load_dotenv(env_file)\n",
    "\n",
    "API_key = os.getenv('API_key')"
   ]
  },
  {
   "cell_type": "markdown",
   "id": "de6e0ea6-5909-46d5-b38f-da44367bd867",
   "metadata": {},
   "source": [
    "## Define Functions"
   ]
  },
  {
   "cell_type": "code",
   "execution_count": 19,
   "id": "d26b0b55-2b27-4fc3-90c7-db799c74832f",
   "metadata": {
    "execution": {
     "iopub.execute_input": "2022-11-01T10:54:04.397349Z",
     "iopub.status.busy": "2022-11-01T10:54:04.397349Z",
     "iopub.status.idle": "2022-11-01T10:54:04.420288Z",
     "shell.execute_reply": "2022-11-01T10:54:04.418294Z",
     "shell.execute_reply.started": "2022-11-01T10:54:04.397349Z"
    },
    "tags": []
   },
   "outputs": [],
   "source": [
    "def Google_Knowledge_Graph(query, limit, API_key):\n",
    "    \"\"\"검색어, 검색 정보 개수를 입력하여 Google Knowledge Graph 정보를 가져오는 함수\n",
    "    query :: 검색어\n",
    "    limit :: 결과로 전송받을 정보의 개수\n",
    "    API_key :: Google Knowledge Graph API Key\n",
    "    \"\"\"\n",
    "    \n",
    "    service_url = 'https://kgsearch.googleapis.com/v1/entities:search'\n",
    "\n",
    "    params = {\n",
    "        'query' : query,\n",
    "        'limit' : limit,\n",
    "        'indent' : True,\n",
    "        'key' : API_key\n",
    "    }\n",
    "\n",
    "    url = service_url + '?' + urllib.parse.urlencode(params)\n",
    "    response = json.loads(urllib.request.urlopen(url).read())\n",
    "    \n",
    "    #print(response)\n",
    "    \n",
    "    for element in response['itemListElement']:\n",
    "        \n",
    "        e_name = element['result']['name']\n",
    "        \n",
    "        print('=' * 50)\n",
    "        print(':: ' + e_name + ' ::')\n",
    "        print('=' * 50)\n",
    "        \n",
    "        keys = element['result'].keys()\n",
    "        \n",
    "        \n",
    "        if element['resultScore']:\n",
    "            e_score = element['resultScore']\n",
    "            print(f'· Result Score : {e_score}')\n",
    "        else:\n",
    "            pass\n",
    "    \n",
    "        if 'url' in keys:\n",
    "            e_url = element['result']['url']\n",
    "            print(f'· URL : ' + e_url)\n",
    "        else:\n",
    "            pass\n",
    "        \n",
    "        if 'description' in keys:\n",
    "            e_description = element['result']['description']\n",
    "            print(f'· Description : ' + e_description)\n",
    "        else:\n",
    "            pass\n",
    "        \n",
    "        if 'detailedDescription' in keys:\n",
    "            e_detailed = element['result']['detailedDescription']['articleBody']\n",
    "            print(f'· Detailed Description : ' + e_detailed)\n",
    "        else:\n",
    "            pass\n",
    "        \n",
    "        #if element['result']['detailedDescription']['url']:\n",
    "            #e_detailed_url = element['result']['detailedDescription']['url']\n",
    "        \n",
    "        #if element['result']['detailedDescription']['license']:\n",
    "            #e_detailed_license = element['result']['detailedDescription']['license']\n",
    "        \n",
    "        if 'image' in keys:\n",
    "            e_image_url = element['result']['image']['url']\n",
    "            print(f'· Image URL : ' + e_image_url)\n",
    "            #e_image_contentUrl = element['result']['image']['contentUrl']\n",
    "        else:\n",
    "            pass\n",
    "        \n",
    "        print('')\n",
    "        \n",
    "    return response"
   ]
  },
  {
   "cell_type": "code",
   "execution_count": 24,
   "id": "a39325b2-45f8-4762-98e3-ea4d97bc7b5f",
   "metadata": {
    "execution": {
     "iopub.execute_input": "2022-11-01T10:56:41.046857Z",
     "iopub.status.busy": "2022-11-01T10:56:41.046857Z",
     "iopub.status.idle": "2022-11-01T10:56:41.056829Z",
     "shell.execute_reply": "2022-11-01T10:56:41.053834Z",
     "shell.execute_reply.started": "2022-11-01T10:56:41.046857Z"
    },
    "tags": []
   },
   "outputs": [],
   "source": [
    "def Google_Knowledge_Graph_to_DF(Knowledge_Graph_json, file_name):\n",
    "    \"\"\"Google Knowledge Graph를 Pandas DataFrame으로 반환\n",
    "\n",
    "    :: Args ::\n",
    "        - knowledge_graph_json (string) :: Google Knowledge Graph JSON.\n",
    "        - file_name (string) :: .csv file name\n",
    "    \n",
    "    :: Returns:: \n",
    "        - dataframe (object) :: Knowledge Graph in Pandas dataframe.\n",
    "    \"\"\"\n",
    "    \n",
    "    df = pd.json_normalize(Knowledge_Graph_json, record_path = 'itemListElement')\n",
    "    df.to_csv(file_name, encoding = 'UTF-8')\n",
    "        \n",
    "    return df"
   ]
  },
  {
   "cell_type": "markdown",
   "id": "42a40434-5ed1-4006-888f-5024f9c0b091",
   "metadata": {},
   "source": [
    "# RUN"
   ]
  },
  {
   "cell_type": "code",
   "execution_count": 20,
   "id": "274cdf8a-fb82-4570-acb0-5a7be49f3131",
   "metadata": {
    "execution": {
     "iopub.execute_input": "2022-11-01T10:54:06.501077Z",
     "iopub.status.busy": "2022-11-01T10:54:06.501077Z",
     "iopub.status.idle": "2022-11-01T10:54:07.940662Z",
     "shell.execute_reply": "2022-11-01T10:54:07.940662Z",
     "shell.execute_reply.started": "2022-11-01T10:54:06.501077Z"
    },
    "tags": []
   },
   "outputs": [
    {
     "name": "stdout",
     "output_type": "stream",
     "text": [
      "==================================================\n",
      ":: Mandalorians ::\n",
      "==================================================\n",
      "· Result Score : 813.151123046875\n",
      "· Detailed Description : Mandalorians are fictional people associated with the planet Mandalore in the Star Wars universe and franchise created by George Lucas. \n",
      "· Image URL : https://commons.wikimedia.org/wiki/File:Mandalorian_cosplay_-_2018_Atlanta_Comic_Con.jpg\n",
      "\n",
      "==================================================\n",
      ":: The Mandalorian ::\n",
      "==================================================\n",
      "· Result Score : 751.1976928710938\n",
      "· Description : Television series season\n",
      "· Detailed Description : The third season of the American television series The Mandalorian stars Pedro Pascal as the title character, a bounty hunter traveling to Mandalore to redeem his past transgressions with his companion Grogu. \n",
      "\n",
      "==================================================\n",
      ":: The Mandalorian ::\n",
      "==================================================\n",
      "· Result Score : 451.7928161621094\n",
      "· Description : Television series\n",
      "· Detailed Description : The Mandalorian is an American space western television series created by Jon Favreau for the streaming service Disney+. It is the first live-action series in the Star Wars franchise, beginning five years after the events of Return of the Jedi, and stars Pedro Pascal as the title character, a lone bounty hunter who goes on the run to protect \"the Child\".\n",
      "\n",
      "· Image URL : https://commons.wikimedia.org/wiki/File:Costume_Pageant_Mandalorian_at_Star_Wars_Celebration_IV.jpg\n",
      "\n",
      "==================================================\n",
      ":: The Mandalorian ::\n",
      "==================================================\n",
      "· Result Score : 315.2810363769531\n",
      "· Description : Fictional character\n",
      "· Detailed Description : The Mandalorian, or Mando for short, is a fictional character in the Star Wars franchise, who appears as the titular protagonist of the Disney+ television series The Mandalorian and also appears in its spin-off The Book of Boba Fett. \n",
      "\n"
     ]
    }
   ],
   "source": [
    "Mando = Google_Knowledge_Graph('Mandalorian', 7, API_key)"
   ]
  },
  {
   "cell_type": "code",
   "execution_count": 25,
   "id": "f7e95012-d9c7-4fbc-bd45-043ecbd76823",
   "metadata": {
    "execution": {
     "iopub.execute_input": "2022-11-01T10:56:55.395624Z",
     "iopub.status.busy": "2022-11-01T10:56:55.395624Z",
     "iopub.status.idle": "2022-11-01T10:56:55.430531Z",
     "shell.execute_reply": "2022-11-01T10:56:55.429540Z",
     "shell.execute_reply.started": "2022-11-01T10:56:55.395624Z"
    },
    "tags": []
   },
   "outputs": [
    {
     "data": {
      "text/html": [
       "<div>\n",
       "<style scoped>\n",
       "    .dataframe tbody tr th:only-of-type {\n",
       "        vertical-align: middle;\n",
       "    }\n",
       "\n",
       "    .dataframe tbody tr th {\n",
       "        vertical-align: top;\n",
       "    }\n",
       "\n",
       "    .dataframe thead th {\n",
       "        text-align: right;\n",
       "    }\n",
       "</style>\n",
       "<table border=\"1\" class=\"dataframe\">\n",
       "  <thead>\n",
       "    <tr style=\"text-align: right;\">\n",
       "      <th></th>\n",
       "      <th>@type</th>\n",
       "      <th>resultScore</th>\n",
       "      <th>result.detailedDescription.license</th>\n",
       "      <th>result.detailedDescription.url</th>\n",
       "      <th>result.detailedDescription.articleBody</th>\n",
       "      <th>result.image.url</th>\n",
       "      <th>result.image.contentUrl</th>\n",
       "      <th>result.name</th>\n",
       "      <th>result.@id</th>\n",
       "      <th>result.@type</th>\n",
       "      <th>result.description</th>\n",
       "    </tr>\n",
       "  </thead>\n",
       "  <tbody>\n",
       "    <tr>\n",
       "      <th>0</th>\n",
       "      <td>EntitySearchResult</td>\n",
       "      <td>813.151123</td>\n",
       "      <td>https://en.wikipedia.org/wiki/Wikipedia:Text_o...</td>\n",
       "      <td>https://en.wikipedia.org/wiki/Mandalorians</td>\n",
       "      <td>Mandalorians are fictional people associated w...</td>\n",
       "      <td>https://commons.wikimedia.org/wiki/File:Mandal...</td>\n",
       "      <td>https://encrypted-tbn2.gstatic.com/images?q=tb...</td>\n",
       "      <td>Mandalorians</td>\n",
       "      <td>kg:/m/043xvk</td>\n",
       "      <td>[Thing]</td>\n",
       "      <td>NaN</td>\n",
       "    </tr>\n",
       "    <tr>\n",
       "      <th>1</th>\n",
       "      <td>EntitySearchResult</td>\n",
       "      <td>751.197693</td>\n",
       "      <td>https://en.wikipedia.org/wiki/Wikipedia:Text_o...</td>\n",
       "      <td>https://en.wikipedia.org/wiki/The_Mandalorian_...</td>\n",
       "      <td>The third season of the American television se...</td>\n",
       "      <td>NaN</td>\n",
       "      <td>NaN</td>\n",
       "      <td>The Mandalorian</td>\n",
       "      <td>kg:/g/11r_tm4p0n</td>\n",
       "      <td>[TVSeason, CreativeWork, Thing]</td>\n",
       "      <td>Television series season</td>\n",
       "    </tr>\n",
       "    <tr>\n",
       "      <th>2</th>\n",
       "      <td>EntitySearchResult</td>\n",
       "      <td>451.792816</td>\n",
       "      <td>https://en.wikipedia.org/wiki/Wikipedia:Text_o...</td>\n",
       "      <td>https://en.wikipedia.org/wiki/The_Mandalorian</td>\n",
       "      <td>The Mandalorian is an American space western t...</td>\n",
       "      <td>https://commons.wikimedia.org/wiki/File:Costum...</td>\n",
       "      <td>https://encrypted-tbn0.gstatic.com/images?q=tb...</td>\n",
       "      <td>The Mandalorian</td>\n",
       "      <td>kg:/g/11fd6dg0by</td>\n",
       "      <td>[TVSeries, CreativeWork, Thing]</td>\n",
       "      <td>Television series</td>\n",
       "    </tr>\n",
       "    <tr>\n",
       "      <th>3</th>\n",
       "      <td>EntitySearchResult</td>\n",
       "      <td>315.281036</td>\n",
       "      <td>https://en.wikipedia.org/wiki/Wikipedia:Text_o...</td>\n",
       "      <td>https://en.wikipedia.org/wiki/The_Mandalorian_...</td>\n",
       "      <td>The Mandalorian, or Mando for short, is a fict...</td>\n",
       "      <td>NaN</td>\n",
       "      <td>NaN</td>\n",
       "      <td>The Mandalorian</td>\n",
       "      <td>kg:/g/11j0_91lt4</td>\n",
       "      <td>[Thing]</td>\n",
       "      <td>Fictional character</td>\n",
       "    </tr>\n",
       "  </tbody>\n",
       "</table>\n",
       "</div>"
      ],
      "text/plain": [
       "                @type  resultScore  \\\n",
       "0  EntitySearchResult   813.151123   \n",
       "1  EntitySearchResult   751.197693   \n",
       "2  EntitySearchResult   451.792816   \n",
       "3  EntitySearchResult   315.281036   \n",
       "\n",
       "                  result.detailedDescription.license  \\\n",
       "0  https://en.wikipedia.org/wiki/Wikipedia:Text_o...   \n",
       "1  https://en.wikipedia.org/wiki/Wikipedia:Text_o...   \n",
       "2  https://en.wikipedia.org/wiki/Wikipedia:Text_o...   \n",
       "3  https://en.wikipedia.org/wiki/Wikipedia:Text_o...   \n",
       "\n",
       "                      result.detailedDescription.url  \\\n",
       "0         https://en.wikipedia.org/wiki/Mandalorians   \n",
       "1  https://en.wikipedia.org/wiki/The_Mandalorian_...   \n",
       "2      https://en.wikipedia.org/wiki/The_Mandalorian   \n",
       "3  https://en.wikipedia.org/wiki/The_Mandalorian_...   \n",
       "\n",
       "              result.detailedDescription.articleBody  \\\n",
       "0  Mandalorians are fictional people associated w...   \n",
       "1  The third season of the American television se...   \n",
       "2  The Mandalorian is an American space western t...   \n",
       "3  The Mandalorian, or Mando for short, is a fict...   \n",
       "\n",
       "                                    result.image.url  \\\n",
       "0  https://commons.wikimedia.org/wiki/File:Mandal...   \n",
       "1                                                NaN   \n",
       "2  https://commons.wikimedia.org/wiki/File:Costum...   \n",
       "3                                                NaN   \n",
       "\n",
       "                             result.image.contentUrl      result.name  \\\n",
       "0  https://encrypted-tbn2.gstatic.com/images?q=tb...     Mandalorians   \n",
       "1                                                NaN  The Mandalorian   \n",
       "2  https://encrypted-tbn0.gstatic.com/images?q=tb...  The Mandalorian   \n",
       "3                                                NaN  The Mandalorian   \n",
       "\n",
       "         result.@id                     result.@type        result.description  \n",
       "0      kg:/m/043xvk                          [Thing]                       NaN  \n",
       "1  kg:/g/11r_tm4p0n  [TVSeason, CreativeWork, Thing]  Television series season  \n",
       "2  kg:/g/11fd6dg0by  [TVSeries, CreativeWork, Thing]         Television series  \n",
       "3  kg:/g/11j0_91lt4                          [Thing]       Fictional character  "
      ]
     },
     "execution_count": 25,
     "metadata": {},
     "output_type": "execute_result"
    }
   ],
   "source": [
    "Google_Knowledge_Graph_to_DF(Mando, 'Mandalorian.csv')"
   ]
  }
 ],
 "metadata": {
  "kernelspec": {
   "display_name": "Python 3",
   "language": "python",
   "name": "python3"
  },
  "language_info": {
   "codemirror_mode": {
    "name": "ipython",
    "version": 3
   },
   "file_extension": ".py",
   "mimetype": "text/x-python",
   "name": "python",
   "nbconvert_exporter": "python",
   "pygments_lexer": "ipython3",
   "version": "3.8.8"
  }
 },
 "nbformat": 4,
 "nbformat_minor": 5
}
