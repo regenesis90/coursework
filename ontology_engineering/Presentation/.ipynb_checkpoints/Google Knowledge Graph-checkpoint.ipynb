{
 "cells": [
  {
   "cell_type": "markdown",
   "id": "9ac894b5-4532-414d-8625-234397d29ad7",
   "metadata": {},
   "source": [
    "# Set Up"
   ]
  },
  {
   "cell_type": "markdown",
   "id": "1e883eae-1ced-459f-bb90-02e528207b0f",
   "metadata": {},
   "source": [
    "## Import"
   ]
  },
  {
   "cell_type": "code",
   "execution_count": 9,
   "id": "eb1fb0cc-0477-4aef-ba20-c564b69e3adb",
   "metadata": {
    "execution": {
     "iopub.execute_input": "2022-11-01T00:36:18.157694Z",
     "iopub.status.busy": "2022-11-01T00:36:18.157694Z",
     "iopub.status.idle": "2022-11-01T00:36:18.175646Z",
     "shell.execute_reply": "2022-11-01T00:36:18.174649Z",
     "shell.execute_reply.started": "2022-11-01T00:36:18.157694Z"
    },
    "tags": []
   },
   "outputs": [],
   "source": [
    "#!pip install requests_html"
   ]
  },
  {
   "cell_type": "code",
   "execution_count": 114,
   "id": "69df16b5-1eab-4f06-96d0-5baaa3d1cd46",
   "metadata": {
    "execution": {
     "iopub.execute_input": "2022-10-29T02:23:24.826256Z",
     "iopub.status.busy": "2022-10-29T02:23:24.826256Z",
     "iopub.status.idle": "2022-10-29T02:23:27.329892Z",
     "shell.execute_reply": "2022-10-29T02:23:27.329892Z",
     "shell.execute_reply.started": "2022-10-29T02:23:24.826256Z"
    },
    "tags": []
   },
   "outputs": [],
   "source": [
    "from __future__ import print_function\n",
    "\n",
    "import json\n",
    "import urllib\n",
    "import urllib.request\n",
    "\n",
    "import requests\n",
    "from requests_html import HTML\n",
    "from requests_html import HTMLSession\n",
    "\n",
    "import os\n",
    "from dotenv import load_dotenv\n",
    "\n",
    "import pandas as pd"
   ]
  },
  {
   "cell_type": "markdown",
   "id": "e0e6789d-12c0-4deb-81aa-e904795fa811",
   "metadata": {},
   "source": [
    "## API Key\n",
    "* Google Kowledge Graph"
   ]
  },
  {
   "cell_type": "code",
   "execution_count": 115,
   "id": "27c64e07-7977-4760-8962-ba619061ca42",
   "metadata": {
    "execution": {
     "iopub.execute_input": "2022-10-29T02:23:28.169054Z",
     "iopub.status.busy": "2022-10-29T02:23:28.169054Z",
     "iopub.status.idle": "2022-10-29T02:23:28.190023Z",
     "shell.execute_reply": "2022-10-29T02:23:28.189024Z",
     "shell.execute_reply.started": "2022-10-29T02:23:28.169054Z"
    },
    "tags": []
   },
   "outputs": [],
   "source": [
    "load_dotenv()\n",
    "\n",
    "API_key = os.getenv('API_key')"
   ]
  },
  {
   "cell_type": "markdown",
   "id": "de6e0ea6-5909-46d5-b38f-da44367bd867",
   "metadata": {},
   "source": [
    "## Define Functions"
   ]
  },
  {
   "cell_type": "code",
   "execution_count": 119,
   "id": "d26b0b55-2b27-4fc3-90c7-db799c74832f",
   "metadata": {
    "execution": {
     "iopub.execute_input": "2022-10-29T02:25:24.529530Z",
     "iopub.status.busy": "2022-10-29T02:25:24.529530Z",
     "iopub.status.idle": "2022-10-29T02:25:24.541499Z",
     "shell.execute_reply": "2022-10-29T02:25:24.541499Z",
     "shell.execute_reply.started": "2022-10-29T02:25:24.529530Z"
    },
    "tags": []
   },
   "outputs": [],
   "source": [
    "def Google_Knowledge_Graph(APIquery, limit, API_key):\n",
    "    \"\"\"검색어, 검색 정보 개수를 입력하여 Google Knowledge Graph 정보를 가져오는 함수\n",
    "    query :: 검색어\n",
    "    limit :: 결과로 전송받을 정보의 개수\n",
    "    API_key :: Google Knowledge Graph API Key\n",
    "    \"\"\"\n",
    "    \n",
    "    service_url = 'https://kgsearch.googleapis.com/v1/entities:search'\n",
    "\n",
    "    params = {\n",
    "        'query' : query,\n",
    "        'limit' : limit,\n",
    "        'indent' : True,\n",
    "        'key' : api_key\n",
    "    }\n",
    "\n",
    "    url = service_url + '?' + urllib.parse.urlencode(params)\n",
    "    response = json.loads(urllib.request.urlopen(url).read())\n",
    "    \n",
    "    #print(response)\n",
    "    \n",
    "    for element in response['itemListElement']:\n",
    "        \n",
    "        e_name = element['result']['name']\n",
    "        \n",
    "        print('=' * 50)\n",
    "        print(':: ' + e_name + ' ::')\n",
    "        print('=' * 50)\n",
    "        \n",
    "        keys = element['result'].keys()\n",
    "        \n",
    "        \n",
    "        if element['resultScore']:\n",
    "            e_score = element['resultScore']\n",
    "            print(f'· Result Score : {e_score}')\n",
    "        else:\n",
    "            pass\n",
    "    \n",
    "        if 'url' in keys:\n",
    "            e_url = element['result']['url']\n",
    "            print(f'· URL : ' + e_url)\n",
    "        else:\n",
    "            pass\n",
    "        \n",
    "        if 'description' in keys:\n",
    "            e_description = element['result']['description']\n",
    "            print(f'· Description : ' + e_description)\n",
    "        else:\n",
    "            pass\n",
    "        \n",
    "        if 'detailedDescription' in keys:\n",
    "            e_detailed = element['result']['detailedDescription']['articleBody']\n",
    "            print(f'· Detailed Description : ' + e_detailed)\n",
    "        else:\n",
    "            pass\n",
    "        \n",
    "        #if element['result']['detailedDescription']['url']:\n",
    "            #e_detailed_url = element['result']['detailedDescription']['url']\n",
    "        \n",
    "        #if element['result']['detailedDescription']['license']:\n",
    "            #e_detailed_license = element['result']['detailedDescription']['license']\n",
    "        \n",
    "        if 'image' in keys:\n",
    "            e_image_url = element['result']['image']['url']\n",
    "            print(f'· Image URL : ' + e_image_url)\n",
    "            #e_image_contentUrl = element['result']['image']['contentUrl']\n",
    "        else:\n",
    "            pass\n",
    "        \n",
    "        print('')\n",
    "        \n",
    "    return response"
   ]
  },
  {
   "cell_type": "code",
   "execution_count": 122,
   "id": "a39325b2-45f8-4762-98e3-ea4d97bc7b5f",
   "metadata": {
    "execution": {
     "iopub.execute_input": "2022-10-29T02:25:59.563674Z",
     "iopub.status.busy": "2022-10-29T02:25:59.563674Z",
     "iopub.status.idle": "2022-10-29T02:25:59.581657Z",
     "shell.execute_reply": "2022-10-29T02:25:59.580688Z",
     "shell.execute_reply.started": "2022-10-29T02:25:59.563674Z"
    },
    "tags": []
   },
   "outputs": [],
   "source": [
    "def Google_Knowledge_Graph_to_DF(Knowledge_Graph_json):\n",
    "    \"\"\"Google Knowledge Graph를 Pandas DataFrame으로 반환\n",
    "\n",
    "    :: Args ::\n",
    "        - knowledge_graph_json (string) :: Google Knowledge Graph JSON.\n",
    "    \n",
    "    :: Returns:: \n",
    "        - dataframe (object) :: Knowledge Graph in Pandas dataframe.\n",
    "    \"\"\"\n",
    "        \n",
    "    return pd.json_normalize(Knowledge_Graph_json, record_path = 'itemListElement')"
   ]
  },
  {
   "cell_type": "markdown",
   "id": "42a40434-5ed1-4006-888f-5024f9c0b091",
   "metadata": {},
   "source": [
    "# RUN"
   ]
  },
  {
   "cell_type": "code",
   "execution_count": 121,
   "id": "274cdf8a-fb82-4570-acb0-5a7be49f3131",
   "metadata": {
    "execution": {
     "iopub.execute_input": "2022-10-29T02:25:40.825230Z",
     "iopub.status.busy": "2022-10-29T02:25:40.825230Z",
     "iopub.status.idle": "2022-10-29T02:25:42.139258Z",
     "shell.execute_reply": "2022-10-29T02:25:42.138301Z",
     "shell.execute_reply.started": "2022-10-29T02:25:40.825230Z"
    },
    "tags": []
   },
   "outputs": [
    {
     "name": "stdout",
     "output_type": "stream",
     "text": [
      "==================================================\n",
      ":: Yonsei University ::\n",
      "==================================================\n",
      "· Result Score : 313.2543640136719\n",
      "· URL : http://www.yonsei.ac.kr/sc/index.jsp\n",
      "· Description : Private university in Seoul, South Korea\n",
      "· Detailed Description : Yonsei University is a private research university in Seoul, South Korea. As a member of the \"SKY\" universities, Yonsei University is deemed one of the three most prestigious institutions in the country. \n",
      "· Image URL : https://ko.m.wikipedia.org/wiki/%ED%8C%8C%EC%9D%BC:Yonsei_University_logotype.png\n",
      "\n",
      "==================================================\n",
      ":: Yonsei University Soccer Team ::\n",
      "==================================================\n",
      "· Result Score : 225.4852142333984\n",
      "\n",
      "==================================================\n",
      ":: Yonsei ::\n",
      "==================================================\n",
      "· Result Score : 98.97126007080078\n",
      "· Detailed Description : Yonsei is a Japanese diasporic term used in countries, particularly in North America and in Latin America, to specify the great-grandchildren of Japanese immigrants. The children of Issei are Nisei. Sansei are the third generation, and their offspring are Yonsei. \n",
      "\n",
      "==================================================\n",
      ":: Yonsei University Health System ::\n",
      "==================================================\n",
      "· Result Score : 48.52999496459961\n",
      "\n",
      "==================================================\n",
      ":: Korea University–Yonsei University rivalry ::\n",
      "==================================================\n",
      "· Result Score : 46.63596725463867\n",
      "· Detailed Description : The Korea–Yonsei rivalry is the college rivalry between two universities located in Seoul, South Korea, Yonsei University and Korea University. Located within the same city, the campuses are only thirty minutes apart. Korea University's symbol and mascot is the Tiger and Yonsei University's is the Eagle. Hence, match-ups between the two institutions are referred to as \"Tigers vs Eagles\".\n",
      "\n",
      "\n"
     ]
    }
   ],
   "source": [
    "Yoda = Google_Knowledge_Graph('Yoda', 5, API_key)"
   ]
  },
  {
   "cell_type": "code",
   "execution_count": 123,
   "id": "f7e95012-d9c7-4fbc-bd45-043ecbd76823",
   "metadata": {
    "execution": {
     "iopub.execute_input": "2022-10-29T02:26:17.856837Z",
     "iopub.status.busy": "2022-10-29T02:26:17.856837Z",
     "iopub.status.idle": "2022-10-29T02:26:17.940206Z",
     "shell.execute_reply": "2022-10-29T02:26:17.940206Z",
     "shell.execute_reply.started": "2022-10-29T02:26:17.856837Z"
    },
    "tags": []
   },
   "outputs": [
    {
     "data": {
      "text/html": [
       "<div>\n",
       "<style scoped>\n",
       "    .dataframe tbody tr th:only-of-type {\n",
       "        vertical-align: middle;\n",
       "    }\n",
       "\n",
       "    .dataframe tbody tr th {\n",
       "        vertical-align: top;\n",
       "    }\n",
       "\n",
       "    .dataframe thead th {\n",
       "        text-align: right;\n",
       "    }\n",
       "</style>\n",
       "<table border=\"1\" class=\"dataframe\">\n",
       "  <thead>\n",
       "    <tr style=\"text-align: right;\">\n",
       "      <th></th>\n",
       "      <th>@type</th>\n",
       "      <th>resultScore</th>\n",
       "      <th>result.detailedDescription.url</th>\n",
       "      <th>result.detailedDescription.license</th>\n",
       "      <th>result.detailedDescription.articleBody</th>\n",
       "      <th>result.name</th>\n",
       "      <th>result.@type</th>\n",
       "      <th>result.image.contentUrl</th>\n",
       "      <th>result.image.url</th>\n",
       "      <th>result.@id</th>\n",
       "      <th>result.description</th>\n",
       "      <th>result.url</th>\n",
       "    </tr>\n",
       "  </thead>\n",
       "  <tbody>\n",
       "    <tr>\n",
       "      <th>0</th>\n",
       "      <td>EntitySearchResult</td>\n",
       "      <td>313.254364</td>\n",
       "      <td>https://en.wikipedia.org/wiki/Yonsei_University</td>\n",
       "      <td>https://en.wikipedia.org/wiki/Wikipedia:Text_o...</td>\n",
       "      <td>Yonsei University is a private research univer...</td>\n",
       "      <td>Yonsei University</td>\n",
       "      <td>[Thing, CollegeOrUniversity, EducationalOrgani...</td>\n",
       "      <td>https://encrypted-tbn0.gstatic.com/images?q=tb...</td>\n",
       "      <td>https://ko.m.wikipedia.org/wiki/%ED%8C%8C%EC%9...</td>\n",
       "      <td>kg:/m/03kwls</td>\n",
       "      <td>Private university in Seoul, South Korea</td>\n",
       "      <td>http://www.yonsei.ac.kr/sc/index.jsp</td>\n",
       "    </tr>\n",
       "    <tr>\n",
       "      <th>1</th>\n",
       "      <td>EntitySearchResult</td>\n",
       "      <td>225.485214</td>\n",
       "      <td>NaN</td>\n",
       "      <td>NaN</td>\n",
       "      <td>NaN</td>\n",
       "      <td>Yonsei University Soccer Team</td>\n",
       "      <td>[SportsTeam, Thing, Organization]</td>\n",
       "      <td>NaN</td>\n",
       "      <td>NaN</td>\n",
       "      <td>kg:/m/0nbf37z</td>\n",
       "      <td>NaN</td>\n",
       "      <td>NaN</td>\n",
       "    </tr>\n",
       "    <tr>\n",
       "      <th>2</th>\n",
       "      <td>EntitySearchResult</td>\n",
       "      <td>98.971260</td>\n",
       "      <td>https://en.wikipedia.org/wiki/Yonsei_(Japanese...</td>\n",
       "      <td>https://en.wikipedia.org/wiki/Wikipedia:Text_o...</td>\n",
       "      <td>Yonsei is a Japanese diasporic term used in co...</td>\n",
       "      <td>Yonsei</td>\n",
       "      <td>[Thing]</td>\n",
       "      <td>NaN</td>\n",
       "      <td>NaN</td>\n",
       "      <td>kg:/m/04y5pc6</td>\n",
       "      <td>NaN</td>\n",
       "      <td>NaN</td>\n",
       "    </tr>\n",
       "    <tr>\n",
       "      <th>3</th>\n",
       "      <td>EntitySearchResult</td>\n",
       "      <td>48.529995</td>\n",
       "      <td>NaN</td>\n",
       "      <td>NaN</td>\n",
       "      <td>NaN</td>\n",
       "      <td>Yonsei University Health System</td>\n",
       "      <td>[Thing, Corporation, Organization, Place]</td>\n",
       "      <td>NaN</td>\n",
       "      <td>NaN</td>\n",
       "      <td>kg:/g/11bc6r5sm8</td>\n",
       "      <td>NaN</td>\n",
       "      <td>NaN</td>\n",
       "    </tr>\n",
       "    <tr>\n",
       "      <th>4</th>\n",
       "      <td>EntitySearchResult</td>\n",
       "      <td>46.635967</td>\n",
       "      <td>https://en.wikipedia.org/wiki/Korea_University...</td>\n",
       "      <td>https://en.wikipedia.org/wiki/Wikipedia:Text_o...</td>\n",
       "      <td>The Korea–Yonsei rivalry is the college rivalr...</td>\n",
       "      <td>Korea University–Yonsei University rivalry</td>\n",
       "      <td>[Event, Thing]</td>\n",
       "      <td>NaN</td>\n",
       "      <td>NaN</td>\n",
       "      <td>kg:/m/0cmb9jk</td>\n",
       "      <td>NaN</td>\n",
       "      <td>NaN</td>\n",
       "    </tr>\n",
       "  </tbody>\n",
       "</table>\n",
       "</div>"
      ],
      "text/plain": [
       "                @type  resultScore  \\\n",
       "0  EntitySearchResult   313.254364   \n",
       "1  EntitySearchResult   225.485214   \n",
       "2  EntitySearchResult    98.971260   \n",
       "3  EntitySearchResult    48.529995   \n",
       "4  EntitySearchResult    46.635967   \n",
       "\n",
       "                      result.detailedDescription.url  \\\n",
       "0    https://en.wikipedia.org/wiki/Yonsei_University   \n",
       "1                                                NaN   \n",
       "2  https://en.wikipedia.org/wiki/Yonsei_(Japanese...   \n",
       "3                                                NaN   \n",
       "4  https://en.wikipedia.org/wiki/Korea_University...   \n",
       "\n",
       "                  result.detailedDescription.license  \\\n",
       "0  https://en.wikipedia.org/wiki/Wikipedia:Text_o...   \n",
       "1                                                NaN   \n",
       "2  https://en.wikipedia.org/wiki/Wikipedia:Text_o...   \n",
       "3                                                NaN   \n",
       "4  https://en.wikipedia.org/wiki/Wikipedia:Text_o...   \n",
       "\n",
       "              result.detailedDescription.articleBody  \\\n",
       "0  Yonsei University is a private research univer...   \n",
       "1                                                NaN   \n",
       "2  Yonsei is a Japanese diasporic term used in co...   \n",
       "3                                                NaN   \n",
       "4  The Korea–Yonsei rivalry is the college rivalr...   \n",
       "\n",
       "                                  result.name  \\\n",
       "0                           Yonsei University   \n",
       "1               Yonsei University Soccer Team   \n",
       "2                                      Yonsei   \n",
       "3             Yonsei University Health System   \n",
       "4  Korea University–Yonsei University rivalry   \n",
       "\n",
       "                                        result.@type  \\\n",
       "0  [Thing, CollegeOrUniversity, EducationalOrgani...   \n",
       "1                  [SportsTeam, Thing, Organization]   \n",
       "2                                            [Thing]   \n",
       "3          [Thing, Corporation, Organization, Place]   \n",
       "4                                     [Event, Thing]   \n",
       "\n",
       "                             result.image.contentUrl  \\\n",
       "0  https://encrypted-tbn0.gstatic.com/images?q=tb...   \n",
       "1                                                NaN   \n",
       "2                                                NaN   \n",
       "3                                                NaN   \n",
       "4                                                NaN   \n",
       "\n",
       "                                    result.image.url        result.@id  \\\n",
       "0  https://ko.m.wikipedia.org/wiki/%ED%8C%8C%EC%9...      kg:/m/03kwls   \n",
       "1                                                NaN     kg:/m/0nbf37z   \n",
       "2                                                NaN     kg:/m/04y5pc6   \n",
       "3                                                NaN  kg:/g/11bc6r5sm8   \n",
       "4                                                NaN     kg:/m/0cmb9jk   \n",
       "\n",
       "                         result.description  \\\n",
       "0  Private university in Seoul, South Korea   \n",
       "1                                       NaN   \n",
       "2                                       NaN   \n",
       "3                                       NaN   \n",
       "4                                       NaN   \n",
       "\n",
       "                             result.url  \n",
       "0  http://www.yonsei.ac.kr/sc/index.jsp  \n",
       "1                                   NaN  \n",
       "2                                   NaN  \n",
       "3                                   NaN  \n",
       "4                                   NaN  "
      ]
     },
     "execution_count": 123,
     "metadata": {},
     "output_type": "execute_result"
    }
   ],
   "source": [
    "Google_Knowledge_Graph_to_DF(Yoda)"
   ]
  }
 ],
 "metadata": {
  "kernelspec": {
   "display_name": "Python 3",
   "language": "python",
   "name": "python3"
  },
  "language_info": {
   "codemirror_mode": {
    "name": "ipython",
    "version": 3
   },
   "file_extension": ".py",
   "mimetype": "text/x-python",
   "name": "python",
   "nbconvert_exporter": "python",
   "pygments_lexer": "ipython3",
   "version": "3.8.8"
  }
 },
 "nbformat": 4,
 "nbformat_minor": 5
}
