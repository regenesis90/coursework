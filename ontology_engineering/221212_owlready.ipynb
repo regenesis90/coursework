{
 "cells": [
  {
   "cell_type": "markdown",
   "id": "2beece95-0abf-42fd-9253-48fa486e83a1",
   "metadata": {},
   "source": [
    "# Import"
   ]
  },
  {
   "cell_type": "code",
   "execution_count": 1,
   "id": "344d4e02-700c-4a1c-bccb-3ca9a9b0031c",
   "metadata": {
    "execution": {
     "iopub.execute_input": "2022-12-12T10:34:20.007981Z",
     "iopub.status.busy": "2022-12-12T10:34:20.007981Z",
     "iopub.status.idle": "2022-12-12T10:34:33.993003Z",
     "shell.execute_reply": "2022-12-12T10:34:33.992005Z",
     "shell.execute_reply.started": "2022-12-12T10:34:20.007981Z"
    },
    "tags": []
   },
   "outputs": [
    {
     "name": "stdout",
     "output_type": "stream",
     "text": [
      "Collecting owlready2\n",
      "  Downloading Owlready2-0.39.tar.gz (25.5 MB)\n",
      "     ---------------------------------------- 25.5/25.5 MB 6.6 MB/s eta 0:00:00\n",
      "  Preparing metadata (setup.py): started\n",
      "  Preparing metadata (setup.py): finished with status 'done'\n",
      "Building wheels for collected packages: owlready2\n",
      "  Building wheel for owlready2 (setup.py): started\n",
      "  Building wheel for owlready2 (setup.py): finished with status 'done'\n",
      "  Created wheel for owlready2: filename=Owlready2-0.39-py3-none-any.whl size=21517099 sha256=fc6974eb4477cb7e0d5e8280e9ae7326d6ad240592f4a236390ca7aef6ae457d\n",
      "  Stored in directory: c:\\users\\user\\appdata\\local\\pip\\cache\\wheels\\c0\\f5\\d2\\d6aecee2cbd7d72b34bc856a21fe21d37d9c6e6d97e069150e\n",
      "Successfully built owlready2\n",
      "Installing collected packages: owlready2\n",
      "Successfully installed owlready2-0.39\n"
     ]
    },
    {
     "name": "stderr",
     "output_type": "stream",
     "text": [
      "\n",
      "[notice] A new release of pip available: 22.3 -> 22.3.1\n",
      "[notice] To update, run: python.exe -m pip install --upgrade pip\n"
     ]
    }
   ],
   "source": [
    "#!pip install owlready2"
   ]
  },
  {
   "cell_type": "code",
   "execution_count": 2,
   "id": "10e0e9cc-5a9f-4bac-943d-ed558159a354",
   "metadata": {
    "execution": {
     "iopub.execute_input": "2022-12-12T10:34:48.500727Z",
     "iopub.status.busy": "2022-12-12T10:34:48.500727Z",
     "iopub.status.idle": "2022-12-12T10:34:50.791649Z",
     "shell.execute_reply": "2022-12-12T10:34:50.791649Z",
     "shell.execute_reply.started": "2022-12-12T10:34:48.500727Z"
    },
    "tags": []
   },
   "outputs": [
    {
     "name": "stderr",
     "output_type": "stream",
     "text": [
      "* Owlready2 * Warning: optimized Cython parser module 'owlready2_optimized' is not available, defaulting to slower Python implementation\n"
     ]
    }
   ],
   "source": [
    "from owlready2 import *\n",
    "import pandas as pd\n",
    "import os"
   ]
  },
  {
   "cell_type": "markdown",
   "id": "64a381ec-f81c-4636-b4bf-1d3047a3d091",
   "metadata": {},
   "source": [
    "# Load dataset"
   ]
  },
  {
   "cell_type": "code",
   "execution_count": null,
   "id": "abc13a1c-b68b-4bb2-96eb-716c6ca22f6f",
   "metadata": {},
   "outputs": [],
   "source": []
  }
 ],
 "metadata": {
  "kernelspec": {
   "display_name": "Python 3",
   "language": "python",
   "name": "python3"
  },
  "language_info": {
   "codemirror_mode": {
    "name": "ipython",
    "version": 3
   },
   "file_extension": ".py",
   "mimetype": "text/x-python",
   "name": "python",
   "nbconvert_exporter": "python",
   "pygments_lexer": "ipython3",
   "version": "3.8.8"
  }
 },
 "nbformat": 4,
 "nbformat_minor": 5
}
