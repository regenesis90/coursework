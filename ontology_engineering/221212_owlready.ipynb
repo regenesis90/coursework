{
 "cells": [
  {
   "cell_type": "markdown",
   "id": "2beece95-0abf-42fd-9253-48fa486e83a1",
   "metadata": {},
   "source": [
    "# Import"
   ]
  },
  {
   "cell_type": "code",
   "execution_count": 1,
   "id": "344d4e02-700c-4a1c-bccb-3ca9a9b0031c",
   "metadata": {
    "execution": {
     "iopub.execute_input": "2022-12-13T04:07:34.345316Z",
     "iopub.status.busy": "2022-12-13T04:07:34.345316Z",
     "iopub.status.idle": "2022-12-13T04:07:34.351300Z",
     "shell.execute_reply": "2022-12-13T04:07:34.350330Z",
     "shell.execute_reply.started": "2022-12-13T04:07:34.345316Z"
    },
    "tags": []
   },
   "outputs": [],
   "source": [
    "#!pip install owlready2"
   ]
  },
  {
   "cell_type": "code",
   "execution_count": 2,
   "id": "10e0e9cc-5a9f-4bac-943d-ed558159a354",
   "metadata": {
    "execution": {
     "iopub.execute_input": "2022-12-13T04:07:34.352296Z",
     "iopub.status.busy": "2022-12-13T04:07:34.351300Z",
     "iopub.status.idle": "2022-12-13T04:07:34.854737Z",
     "shell.execute_reply": "2022-12-13T04:07:34.854737Z",
     "shell.execute_reply.started": "2022-12-13T04:07:34.352296Z"
    },
    "tags": []
   },
   "outputs": [
    {
     "name": "stderr",
     "output_type": "stream",
     "text": [
      "* Owlready2 * Warning: optimized Cython parser module 'owlready2_optimized' is not available, defaulting to slower Python implementation\n"
     ]
    }
   ],
   "source": [
    "from owlready2 import *\n",
    "import pandas as pd\n",
    "import numpy as np\n",
    "import os\n",
    "\n",
    "from tqdm import tqdm"
   ]
  },
  {
   "cell_type": "markdown",
   "id": "64a381ec-f81c-4636-b4bf-1d3047a3d091",
   "metadata": {},
   "source": [
    "# Load dataset"
   ]
  },
  {
   "cell_type": "markdown",
   "id": "6eeaaee4-d1c2-4a6a-ace7-77b4ecadaa22",
   "metadata": {
    "execution": {
     "iopub.execute_input": "2022-12-12T11:07:07.574818Z",
     "iopub.status.busy": "2022-12-12T11:07:07.573821Z",
     "iopub.status.idle": "2022-12-12T11:07:07.594769Z",
     "shell.execute_reply": "2022-12-12T11:07:07.592771Z",
     "shell.execute_reply.started": "2022-12-12T11:07:07.574818Z"
    },
    "tags": []
   },
   "source": [
    "starbucks_info.columns = [\n",
    "    'Temperature', 'Category', 'Product_Name', 'Milk', 'Whip', 'Calories',\n",
    "       'Total_Fat', 'Saturated_Fat', 'Trans_Fat', 'Cholesterol', 'Sodium',\n",
    "       'Total_Carbohydrates', 'Dietary_Fiber', 'Sugar', 'Protein', 'Vitamin_A',\n",
    "       'Vitamin_C', 'Calcium', 'Iron', 'Caffeine']\n",
    "\n",
    "def fullname(product, milk):\n",
    "    if pd.isna(milk) == False: # milk 값이 있으면\n",
    "        beverage = str(product) + ' with ' + str(milk) + ' Milk'\n",
    "        \n",
    "    else:\n",
    "        beverage = str(product)\n",
    "        \n",
    "    return beverage\n",
    "    \n",
    "starbucks_info['Beverage'] = starbucks_info.apply(lambda x: fullname(x.Product_Name, x.Milk), axis = 1)\n",
    "\n",
    "starbucks_info.to_csv('Starbucks_Recent_Menus_Tall.csv', encoding = 'UTF-8')\n",
    "\n",
    "category = starbucks_info[['Temperature', 'Category', 'Product_Name']].copy()\n",
    "\n",
    "category.drop_duplicates(inplace = True)\n",
    "\n",
    "category.to_csv('product_category.csv', encoding = 'UTF-8')"
   ]
  },
  {
   "cell_type": "code",
   "execution_count": 3,
   "id": "abc13a1c-b68b-4bb2-96eb-716c6ca22f6f",
   "metadata": {
    "execution": {
     "iopub.execute_input": "2022-12-13T04:07:34.856703Z",
     "iopub.status.busy": "2022-12-13T04:07:34.856703Z",
     "iopub.status.idle": "2022-12-13T04:07:34.871665Z",
     "shell.execute_reply": "2022-12-13T04:07:34.870696Z",
     "shell.execute_reply.started": "2022-12-13T04:07:34.856703Z"
    },
    "tags": []
   },
   "outputs": [],
   "source": [
    "menu_dir = 'https://raw.githubusercontent.com/regenesis90/coursework/main/ontology_engineering/Dataset/Starbucks_Recent_Menus_Tall.csv'"
   ]
  },
  {
   "cell_type": "code",
   "execution_count": 4,
   "id": "be429309-1032-4d66-a75a-b05177221d22",
   "metadata": {
    "execution": {
     "iopub.execute_input": "2022-12-13T04:07:34.872662Z",
     "iopub.status.busy": "2022-12-13T04:07:34.872662Z",
     "iopub.status.idle": "2022-12-13T04:07:35.266994Z",
     "shell.execute_reply": "2022-12-13T04:07:35.266994Z",
     "shell.execute_reply.started": "2022-12-13T04:07:34.872662Z"
    },
    "tags": []
   },
   "outputs": [],
   "source": [
    "starbucks_info = pd.read_csv(menu_dir)"
   ]
  },
  {
   "cell_type": "code",
   "execution_count": 5,
   "id": "d5f963b5-d4d2-4bec-b4e9-7a107f1c00e9",
   "metadata": {
    "execution": {
     "iopub.execute_input": "2022-12-13T04:07:35.267992Z",
     "iopub.status.busy": "2022-12-13T04:07:35.267992Z",
     "iopub.status.idle": "2022-12-13T04:07:35.283920Z",
     "shell.execute_reply": "2022-12-13T04:07:35.282925Z",
     "shell.execute_reply.started": "2022-12-13T04:07:35.267992Z"
    },
    "tags": []
   },
   "outputs": [],
   "source": [
    "category_dir = 'https://raw.githubusercontent.com/regenesis90/coursework/main/ontology_engineering/Dataset/product_category.csv'"
   ]
  },
  {
   "cell_type": "code",
   "execution_count": 6,
   "id": "705bc931-06c1-449c-a7dd-8511c4b46f13",
   "metadata": {
    "execution": {
     "iopub.execute_input": "2022-12-13T04:07:35.284946Z",
     "iopub.status.busy": "2022-12-13T04:07:35.283920Z",
     "iopub.status.idle": "2022-12-13T04:07:35.363706Z",
     "shell.execute_reply": "2022-12-13T04:07:35.362728Z",
     "shell.execute_reply.started": "2022-12-13T04:07:35.284946Z"
    },
    "tags": []
   },
   "outputs": [],
   "source": [
    "category_info = pd.read_csv(category_dir)"
   ]
  },
  {
   "cell_type": "code",
   "execution_count": 7,
   "id": "e8419111-d354-4d14-9087-47e6f525e44f",
   "metadata": {
    "execution": {
     "iopub.execute_input": "2022-12-13T04:07:35.364705Z",
     "iopub.status.busy": "2022-12-13T04:07:35.364705Z",
     "iopub.status.idle": "2022-12-13T04:07:35.379664Z",
     "shell.execute_reply": "2022-12-13T04:07:35.378694Z",
     "shell.execute_reply.started": "2022-12-13T04:07:35.364705Z"
    },
    "tags": []
   },
   "outputs": [
    {
     "data": {
      "text/html": [
       "<div>\n",
       "<style scoped>\n",
       "    .dataframe tbody tr th:only-of-type {\n",
       "        vertical-align: middle;\n",
       "    }\n",
       "\n",
       "    .dataframe tbody tr th {\n",
       "        vertical-align: top;\n",
       "    }\n",
       "\n",
       "    .dataframe thead th {\n",
       "        text-align: right;\n",
       "    }\n",
       "</style>\n",
       "<table border=\"1\" class=\"dataframe\">\n",
       "  <thead>\n",
       "    <tr style=\"text-align: right;\">\n",
       "      <th></th>\n",
       "      <th>Temperature</th>\n",
       "      <th>Category</th>\n",
       "      <th>ID</th>\n",
       "      <th>Product_Name</th>\n",
       "    </tr>\n",
       "  </thead>\n",
       "  <tbody>\n",
       "    <tr>\n",
       "      <th>0</th>\n",
       "      <td>Hot</td>\n",
       "      <td>Coffee</td>\n",
       "      <td>Brewed_Coffee_Dark_Roast</td>\n",
       "      <td>Brewed Coffee - Dark Roast</td>\n",
       "    </tr>\n",
       "    <tr>\n",
       "      <th>1</th>\n",
       "      <td>Hot</td>\n",
       "      <td>Coffee</td>\n",
       "      <td>Brewed_Coffee_Decaf_Pike_Place_Roast</td>\n",
       "      <td>Brewed Coffee - Decaf Pike Place Roast</td>\n",
       "    </tr>\n",
       "    <tr>\n",
       "      <th>2</th>\n",
       "      <td>Hot</td>\n",
       "      <td>Coffee</td>\n",
       "      <td>Brewed_Coffee_Medium_Roast</td>\n",
       "      <td>Brewed Coffee - Medium Roast</td>\n",
       "    </tr>\n",
       "  </tbody>\n",
       "</table>\n",
       "</div>"
      ],
      "text/plain": [
       "  Temperature Category                                    ID  \\\n",
       "0         Hot   Coffee              Brewed_Coffee_Dark_Roast   \n",
       "1         Hot   Coffee  Brewed_Coffee_Decaf_Pike_Place_Roast   \n",
       "2         Hot   Coffee            Brewed_Coffee_Medium_Roast   \n",
       "\n",
       "                             Product_Name  \n",
       "0              Brewed Coffee - Dark Roast  \n",
       "1  Brewed Coffee - Decaf Pike Place Roast  \n",
       "2            Brewed Coffee - Medium Roast  "
      ]
     },
     "execution_count": 7,
     "metadata": {},
     "output_type": "execute_result"
    }
   ],
   "source": [
    "category_info.head(3)"
   ]
  },
  {
   "cell_type": "code",
   "execution_count": 8,
   "id": "22f9b3e1-f569-4fe9-9d57-30e21a76299a",
   "metadata": {
    "execution": {
     "iopub.execute_input": "2022-12-13T04:07:35.380679Z",
     "iopub.status.busy": "2022-12-13T04:07:35.380679Z",
     "iopub.status.idle": "2022-12-13T04:07:35.395658Z",
     "shell.execute_reply": "2022-12-13T04:07:35.394653Z",
     "shell.execute_reply.started": "2022-12-13T04:07:35.380679Z"
    },
    "tags": []
   },
   "outputs": [],
   "source": [
    "addons_dir = 'https://raw.githubusercontent.com/regenesis90/coursework/main/ontology_engineering/Dataset/AddOns.csv'"
   ]
  },
  {
   "cell_type": "code",
   "execution_count": 9,
   "id": "b2dc2171-2f0f-43ca-a2d1-effed6f5a5bb",
   "metadata": {
    "execution": {
     "iopub.execute_input": "2022-12-13T04:07:35.397615Z",
     "iopub.status.busy": "2022-12-13T04:07:35.397615Z",
     "iopub.status.idle": "2022-12-13T04:07:35.569169Z",
     "shell.execute_reply": "2022-12-13T04:07:35.568201Z",
     "shell.execute_reply.started": "2022-12-13T04:07:35.397615Z"
    },
    "tags": []
   },
   "outputs": [
    {
     "data": {
      "text/html": [
       "<div>\n",
       "<style scoped>\n",
       "    .dataframe tbody tr th:only-of-type {\n",
       "        vertical-align: middle;\n",
       "    }\n",
       "\n",
       "    .dataframe tbody tr th {\n",
       "        vertical-align: top;\n",
       "    }\n",
       "\n",
       "    .dataframe thead th {\n",
       "        text-align: right;\n",
       "    }\n",
       "</style>\n",
       "<table border=\"1\" class=\"dataframe\">\n",
       "  <thead>\n",
       "    <tr style=\"text-align: right;\">\n",
       "      <th></th>\n",
       "      <th>ID</th>\n",
       "      <th>AddOns</th>\n",
       "      <th>Calories</th>\n",
       "      <th>Total_Fat</th>\n",
       "      <th>Saturated_Fat</th>\n",
       "      <th>Trans_Fat</th>\n",
       "      <th>Cholesterol</th>\n",
       "      <th>Sodium</th>\n",
       "      <th>Total_Carbohydrates</th>\n",
       "      <th>Dietary_Fiber</th>\n",
       "      <th>Sugar</th>\n",
       "      <th>Protein</th>\n",
       "      <th>Vitamin_A</th>\n",
       "      <th>Vitamin_C</th>\n",
       "      <th>Calcium</th>\n",
       "      <th>Iron</th>\n",
       "      <th>Caffeine</th>\n",
       "    </tr>\n",
       "  </thead>\n",
       "  <tbody>\n",
       "    <tr>\n",
       "      <th>0</th>\n",
       "      <td>Sweetened_Whipped_Cream</td>\n",
       "      <td>Sweetened Whipped Cream</td>\n",
       "      <td>60</td>\n",
       "      <td>6.0</td>\n",
       "      <td>4.0</td>\n",
       "      <td>0.2</td>\n",
       "      <td>20</td>\n",
       "      <td>5</td>\n",
       "      <td>2</td>\n",
       "      <td>0</td>\n",
       "      <td>1</td>\n",
       "      <td>0.3</td>\n",
       "      <td>6</td>\n",
       "      <td>0</td>\n",
       "      <td>0</td>\n",
       "      <td>0</td>\n",
       "      <td>0</td>\n",
       "    </tr>\n",
       "    <tr>\n",
       "      <th>1</th>\n",
       "      <td>Sweetened_Whipped_Cream</td>\n",
       "      <td>Sweetened Whipped Cream</td>\n",
       "      <td>80</td>\n",
       "      <td>8.0</td>\n",
       "      <td>5.0</td>\n",
       "      <td>0.2</td>\n",
       "      <td>30</td>\n",
       "      <td>10</td>\n",
       "      <td>2</td>\n",
       "      <td>0</td>\n",
       "      <td>2</td>\n",
       "      <td>0.4</td>\n",
       "      <td>10</td>\n",
       "      <td>0</td>\n",
       "      <td>2</td>\n",
       "      <td>0</td>\n",
       "      <td>0</td>\n",
       "    </tr>\n",
       "    <tr>\n",
       "      <th>2</th>\n",
       "      <td>Flavoured_Syrup</td>\n",
       "      <td>Flavoured Syrup</td>\n",
       "      <td>20</td>\n",
       "      <td>0.0</td>\n",
       "      <td>0.0</td>\n",
       "      <td>0.0</td>\n",
       "      <td>0</td>\n",
       "      <td>0</td>\n",
       "      <td>5</td>\n",
       "      <td>0</td>\n",
       "      <td>5</td>\n",
       "      <td>0.0</td>\n",
       "      <td>0</td>\n",
       "      <td>0</td>\n",
       "      <td>0</td>\n",
       "      <td>0</td>\n",
       "      <td>0</td>\n",
       "    </tr>\n",
       "  </tbody>\n",
       "</table>\n",
       "</div>"
      ],
      "text/plain": [
       "                        ID                   AddOns  Calories  Total_Fat  \\\n",
       "0  Sweetened_Whipped_Cream  Sweetened Whipped Cream        60        6.0   \n",
       "1  Sweetened_Whipped_Cream  Sweetened Whipped Cream        80        8.0   \n",
       "2          Flavoured_Syrup          Flavoured Syrup        20        0.0   \n",
       "\n",
       "   Saturated_Fat  Trans_Fat  Cholesterol  Sodium  Total_Carbohydrates  \\\n",
       "0            4.0        0.2           20       5                    2   \n",
       "1            5.0        0.2           30      10                    2   \n",
       "2            0.0        0.0            0       0                    5   \n",
       "\n",
       "   Dietary_Fiber  Sugar  Protein  Vitamin_A  Vitamin_C  Calcium  Iron  \\\n",
       "0              0      1      0.3          6          0        0     0   \n",
       "1              0      2      0.4         10          0        2     0   \n",
       "2              0      5      0.0          0          0        0     0   \n",
       "\n",
       "   Caffeine  \n",
       "0         0  \n",
       "1         0  \n",
       "2         0  "
      ]
     },
     "execution_count": 9,
     "metadata": {},
     "output_type": "execute_result"
    }
   ],
   "source": [
    "addons_info = pd.read_csv(addons_dir)\n",
    "addons_info.head(3)"
   ]
  },
  {
   "cell_type": "markdown",
   "id": "2903c966-b229-45a8-bd49-42e601eed818",
   "metadata": {},
   "source": [
    "# Develop Ontology"
   ]
  },
  {
   "cell_type": "markdown",
   "id": "0d684237-d238-4420-8de4-63ee72741958",
   "metadata": {},
   "source": [
    "## Create New Ontology\n",
    "* 새로운 온톨로지 생성(빈 온톨로지)"
   ]
  },
  {
   "cell_type": "code",
   "execution_count": 10,
   "id": "72c804e1-9795-4a14-8213-00dffb4e948d",
   "metadata": {
    "execution": {
     "iopub.execute_input": "2022-12-13T04:07:35.570169Z",
     "iopub.status.busy": "2022-12-13T04:07:35.570169Z",
     "iopub.status.idle": "2022-12-13T04:07:35.588119Z",
     "shell.execute_reply": "2022-12-13T04:07:35.584133Z",
     "shell.execute_reply.started": "2022-12-13T04:07:35.570169Z"
    },
    "tags": []
   },
   "outputs": [],
   "source": [
    "ontology_name = 'http://test.org/starbucks.owl'\n",
    "onto = get_ontology(ontology_name)"
   ]
  },
  {
   "cell_type": "markdown",
   "id": "59da7c05-1008-4efd-b8eb-5cd3a54cf5f2",
   "metadata": {},
   "source": [
    "## Class & Properties 생성"
   ]
  },
  {
   "cell_type": "markdown",
   "id": "da3d9f37-883d-4c7c-a852-44fd9939e257",
   "metadata": {},
   "source": [
    "### Class 선언"
   ]
  },
  {
   "cell_type": "code",
   "execution_count": 11,
   "id": "70cc699f-d43b-415b-b3e4-abd461668301",
   "metadata": {
    "execution": {
     "iopub.execute_input": "2022-12-13T04:07:35.589116Z",
     "iopub.status.busy": "2022-12-13T04:07:35.589116Z",
     "iopub.status.idle": "2022-12-13T04:07:35.604077Z",
     "shell.execute_reply": "2022-12-13T04:07:35.600088Z",
     "shell.execute_reply.started": "2022-12-13T04:07:35.589116Z"
    },
    "tags": []
   },
   "outputs": [],
   "source": [
    "with onto:\n",
    "    class Starbucks(Thing):\n",
    "        pass"
   ]
  },
  {
   "cell_type": "code",
   "execution_count": 12,
   "id": "f363c172-660f-4f5f-a010-4e4208375068",
   "metadata": {
    "execution": {
     "iopub.execute_input": "2022-12-13T04:07:35.605075Z",
     "iopub.status.busy": "2022-12-13T04:07:35.605075Z",
     "iopub.status.idle": "2022-12-13T04:07:35.632998Z",
     "shell.execute_reply": "2022-12-13T04:07:35.632002Z",
     "shell.execute_reply.started": "2022-12-13T04:07:35.605075Z"
    },
    "tags": []
   },
   "outputs": [],
   "source": [
    "# class 선언\n",
    "with onto:\n",
    "    class Beverage(Thing):\n",
    "        pass\n",
    "    \n",
    "    class Product(Thing):\n",
    "        pass\n",
    "    \n",
    "    class AddOns(Thing):\n",
    "        pass"
   ]
  },
  {
   "cell_type": "markdown",
   "id": "d826f641-ccf5-4331-b689-821d0b135b17",
   "metadata": {},
   "source": [
    "### Property 선언"
   ]
  },
  {
   "cell_type": "code",
   "execution_count": 13,
   "id": "e7eed55d-ee52-447d-88f3-1bda355eddfe",
   "metadata": {
    "execution": {
     "iopub.execute_input": "2022-12-13T04:07:35.634994Z",
     "iopub.status.busy": "2022-12-13T04:07:35.633996Z",
     "iopub.status.idle": "2022-12-13T04:07:35.665911Z",
     "shell.execute_reply": "2022-12-13T04:07:35.663916Z",
     "shell.execute_reply.started": "2022-12-13T04:07:35.634994Z"
    },
    "tags": []
   },
   "outputs": [],
   "source": [
    "# Beverage properties\n",
    "with onto:\n",
    "    #### 밀크, 휩, 카테고리, 애드온 ####\n",
    "    \n",
    "    class has_AddOns_name(DataProperty):\n",
    "        domain = [AddOns]\n",
    "        range = [str]\n",
    "    \n",
    "    class has_Beverage_name(DataProperty):\n",
    "        domain = [Beverage]\n",
    "        range = [str]\n",
    "    \n",
    "    class has_Milk(DataProperty):\n",
    "        domain = [Beverage]\n",
    "        range = [str]\n",
    "        \n",
    "    class has_Whip(DataProperty):\n",
    "        domain = [Beverage]\n",
    "        range = [str]\n",
    "        \n",
    "    class category(ObjectProperty):\n",
    "        domain = [Beverage]\n",
    "        range = [Category]\n",
    "        \n",
    "    class has_AddOns(ObjectProperty):\n",
    "        domain = [Beverage]\n",
    "        range = [AddOns]\n",
    "        \n",
    "    #### 영양분 ####\n",
    "    class has_Calories(DataProperty):\n",
    "        domain = [Or([Beverage, AddOns])]\n",
    "        range = [float]\n",
    "\n",
    "    class has_Total_Fat(DataProperty):\n",
    "        domain = [Or([Beverage, AddOns])]\n",
    "        range = [float]\n",
    "        \n",
    "    class has_Saturated_Fat(DataProperty):\n",
    "        domain = [Or([Beverage, AddOns])]\n",
    "        range = [float]\n",
    "        \n",
    "    class has_Trans_Fat(DataProperty):\n",
    "        domain = [Or([Beverage, AddOns])]\n",
    "        range = [float]\n",
    "        \n",
    "    class has_Cholesterol(DataProperty):\n",
    "        domain = [Or([Beverage, AddOns])]\n",
    "        range = [float]\n",
    "        \n",
    "    class has_Sodium(DataProperty):\n",
    "        domain = [Or([Beverage, AddOns])]\n",
    "        range = [float]\n",
    "        \n",
    "    class has_Total_Carbohydrates(DataProperty):\n",
    "        domain = [Or([Beverage, AddOns])]\n",
    "        range = [float]\n",
    "        \n",
    "    class has_Dietary_Fiber(DataProperty):\n",
    "        domain = [Or([Beverage, AddOns])]\n",
    "        range = [float]\n",
    "        \n",
    "    class has_Sugar(DataProperty):\n",
    "        domain = [Or([Beverage, AddOns])]\n",
    "        range = [float]\n",
    "        \n",
    "    class has_Protein(DataProperty):\n",
    "        domain = [Or([Beverage, AddOns])]\n",
    "        range = [float]\n",
    "        \n",
    "    class has_Vitamin_A(DataProperty):\n",
    "        domain = [Or([Beverage, AddOns])]\n",
    "        range = [float]\n",
    "        \n",
    "    class has_Vitamin_C(DataProperty):\n",
    "        domain = [Or([Beverage, AddOns])]\n",
    "        range = [float]\n",
    "        \n",
    "    class has_Calcium(DataProperty):\n",
    "        domain = [Or([Beverage, AddOns])]\n",
    "        range = [float]\n",
    "        \n",
    "    class has_Iron(DataProperty):\n",
    "        domain = [Or([Beverage, AddOns])]\n",
    "        range = [float]\n",
    "        \n",
    "    class has_Caffeine(DataProperty):\n",
    "        domain = [Or([Beverage, AddOns])]\n",
    "        range = [float]"
   ]
  },
  {
   "cell_type": "code",
   "execution_count": null,
   "id": "538a5bb3-20a3-48ac-8b0a-bd5adef06887",
   "metadata": {},
   "outputs": [],
   "source": [
    "### Product가 가진 프로퍼티\n",
    "with onto:\n",
    "\n",
    "    class has_Temperature(DataProperty):\n",
    "        domain = [Product]\n",
    "        range = [Or(['Hot', 'Ice'])]\n",
    "    \n",
    "    class has_Category(DataProperty):\n",
    "        domain = [Product]\n",
    "        range = [Or(['Coffee', 'Espresso', 'Tea', 'Frappuccino Blended Coffee', 'Frappuccino Light Blended Coffee', 'Frappucino Blended Creme', 'Hot Chocolate & Other'])]\n",
    "    "
   ]
  },
  {
   "cell_type": "markdown",
   "id": "6f1990ea-297e-4fb5-985b-4409faf099f1",
   "metadata": {},
   "source": [
    "## 개별 데이터 투입"
   ]
  },
  {
   "cell_type": "markdown",
   "id": "03ccd78b-40bf-4a9f-9e3e-7a2eba84b4b8",
   "metadata": {},
   "source": [
    "### 함수 정의"
   ]
  },
  {
   "cell_type": "code",
   "execution_count": null,
   "id": "4d506452-f705-4a7a-899e-afc263931168",
   "metadata": {},
   "outputs": [],
   "source": [
    "def create_Product():\n",
    "    \"\"\"프로덕트 정보 투입 함수\"\"\"\n",
    "    \n",
    "    new_Product = Product(ID)\n",
    "    \n",
    "    "
   ]
  },
  {
   "cell_type": "code",
   "execution_count": 14,
   "id": "06cf20cd-d256-4daf-ae44-1f8e9970d560",
   "metadata": {
    "execution": {
     "iopub.execute_input": "2022-12-13T04:07:35.669901Z",
     "iopub.status.busy": "2022-12-13T04:07:35.667906Z",
     "iopub.status.idle": "2022-12-13T04:07:35.697826Z",
     "shell.execute_reply": "2022-12-13T04:07:35.695835Z",
     "shell.execute_reply.started": "2022-12-13T04:07:35.669901Z"
    },
    "tags": []
   },
   "outputs": [],
   "source": [
    "def create_Beverage(ID:str, name:str, Category:str, Milk:str, Whip:str, Calories:float, Total_Fat:float, Saturated_Fat:float, Trans_Fat:float, Cholesterol:float, Sodium:float, Total_Carbohydrates:float, Dietary_Fiber:float, Sugar:float, Protein:float, Vitamin_A:float, Vitamin_C:float, Calcium:float, Iron:float, Caffeine:float):\n",
    "    \"\"\"음료 정보 투입 함수\"\"\"\n",
    "    \n",
    "    new_Beverage = Beverage(ID)\n",
    "    new_Beverage.has_Beverage_name.append(name)\n",
    "    \n",
    "    if pd.isna(Milk) == False: # milk 값이 있으면\n",
    "        new_Beverage.has_Milk.append(Milk)\n",
    "    \n",
    "    if pd.isna(Whip) == False: # Whip 값이 있으면\n",
    "        new_Beverage.has_Whip.append(Whip)\n",
    "    \n",
    "    new_Beverage.has_Calories.append(Calories)\n",
    "    new_Beverage.has_Total_Fat.append(Total_Fat)\n",
    "    new_Beverage.has_Saturated_Fat.append(Saturated_Fat)\n",
    "    new_Beverage.has_Trans_Fat.append(Trans_Fat)\n",
    "    new_Beverage.has_Cholesterol.append(Cholesterol)\n",
    "    new_Beverage.has_Sodium.append(Sodium)\n",
    "    new_Beverage.has_Total_Carbohydrates.append(Total_Carbohydrates)\n",
    "    new_Beverage.has_Dietary_Fiber.append(Dietary_Fiber)\n",
    "    new_Beverage.has_Sugar.append(Sugar)\n",
    "    new_Beverage.has_Protein.append(Protein)\n",
    "    new_Beverage.has_Vitamin_A.append(Vitamin_A)\n",
    "    new_Beverage.has_Vitamin_C.append(Vitamin_C)\n",
    "    new_Beverage.has_Calcium.append(Calcium)\n",
    "    new_Beverage.has_Iron.append(Iron)\n",
    "    new_Beverage.has_Caffeine.append(Caffeine)\n",
    "    \n",
    "    #new_Beverage.Category.append(Category_info(Category))\n",
    "    \n",
    "    return new_Beverage"
   ]
  },
  {
   "cell_type": "code",
   "execution_count": 15,
   "id": "3742f546-2044-4e0c-b790-15037da3d243",
   "metadata": {
    "execution": {
     "iopub.execute_input": "2022-12-13T04:07:35.704811Z",
     "iopub.status.busy": "2022-12-13T04:07:35.702812Z",
     "iopub.status.idle": "2022-12-13T04:07:35.729741Z",
     "shell.execute_reply": "2022-12-13T04:07:35.726749Z",
     "shell.execute_reply.started": "2022-12-13T04:07:35.704811Z"
    },
    "tags": []
   },
   "outputs": [],
   "source": [
    "def create_AddOns(ID:str, name:str, Calories, Total_Fat, Saturated_Fat, Trans_Fat, Cholesterol, Sodium, Total_Carbohydrates, Dietary_Fiber, Sugar, Protein, Vitamin_A, Vitamin_C, Calcium, Iron, Caffeine):\n",
    "    \"\"\"애드온 정보 투입 함수\"\"\"\n",
    "    \n",
    "    new_AddOns = AddOns(ID)\n",
    "    new_AddOns.has_AddOns_name.append(name)\n",
    "    \n",
    "    new_AddOns.has_Calories.append(Calories)\n",
    "    new_AddOns.has_Total_Fat.append(Total_Fat)\n",
    "    new_AddOns.has_Saturated_Fat.append(Saturated_Fat)\n",
    "    new_AddOns.has_Trans_Fat.append(Trans_Fat)\n",
    "    new_AddOns.has_Cholesterol.append(Cholesterol)\n",
    "    new_AddOns.has_Sodium.append(Sodium)\n",
    "    new_AddOns.has_Total_Carbohydrates.append(Total_Carbohydrates)\n",
    "    new_AddOns.has_Dietary_Fiber.append(Dietary_Fiber)\n",
    "    new_AddOns.has_Sugar.append(Sugar)\n",
    "    new_AddOns.has_Protein.append(Protein)\n",
    "    new_AddOns.has_Vitamin_A.append(Vitamin_A)\n",
    "    new_AddOns.has_Vitamin_C.append(Vitamin_C)\n",
    "    new_AddOns.has_Calcium.append(Calcium)\n",
    "    new_AddOns.has_Iron.append(Iron)\n",
    "    new_AddOns.has_Caffeine.append(Caffeine)\n",
    "    \n",
    "    return new_AddOns"
   ]
  },
  {
   "cell_type": "markdown",
   "id": "585e5326-0f35-44fa-9333-80b19d148971",
   "metadata": {},
   "source": [
    "### 정보 투입"
   ]
  },
  {
   "cell_type": "code",
   "execution_count": 16,
   "id": "00a3ed39-0dd3-416a-a694-df15eda8fe40",
   "metadata": {
    "execution": {
     "iopub.execute_input": "2022-12-13T04:07:35.736721Z",
     "iopub.status.busy": "2022-12-13T04:07:35.735724Z",
     "iopub.status.idle": "2022-12-13T04:07:36.059888Z",
     "shell.execute_reply": "2022-12-13T04:07:36.058859Z",
     "shell.execute_reply.started": "2022-12-13T04:07:35.736721Z"
    },
    "tags": []
   },
   "outputs": [
    {
     "name": "stderr",
     "output_type": "stream",
     "text": [
      "100%|██████████████████████████████████████████████████████████████████████████████| 335/335 [00:00<00:00, 1199.51it/s]\n"
     ]
    }
   ],
   "source": [
    "# Beverage 정보 넣기\n",
    "for i in tqdm(range(len(starbucks_info))):\n",
    "    \n",
    "    cur_ID = str(starbucks_info['ID'].iloc[i])\n",
    "    cur_name = str(starbucks_info['Beverage'].iloc[i])\n",
    "    cur_Category = str(starbucks_info['Product'].iloc[i])\n",
    "    cur_Milk = str(starbucks_info['Milk'].iloc[i])\n",
    "    cur_Whip = str(starbucks_info['Whip'].iloc[i])\n",
    "    \n",
    "    cur_Calories = float(starbucks_info['Calories'].iloc[i])\n",
    "    cur_Total_Fat = float(starbucks_info['Total_Fat'].iloc[i])\n",
    "    cur_Saturated_Fat = float(starbucks_info['Saturated_Fat'].iloc[i])\n",
    "    cur_Trans_Fat = float(starbucks_info['Trans_Fat'].iloc[i])\n",
    "    cur_Cholesterol = float(starbucks_info['Cholesterol'].iloc[i])\n",
    "    \n",
    "    cur_Sodium = float(starbucks_info['Sodium'].iloc[i])\n",
    "    cur_Total_Carbohydrates = float(starbucks_info['Total_Carbohydrates'].iloc[i])\n",
    "    cur_Dietary_Fiber = float(starbucks_info['Dietary_Fiber'].iloc[i])\n",
    "    cur_Sugar = float(starbucks_info['Sugar'].iloc[i])\n",
    "    cur_Protein = float(starbucks_info['Protein'].iloc[i])\n",
    "    \n",
    "    cur_Vitamin_A = float(starbucks_info['Vitamin_A'].iloc[i])\n",
    "    cur_Vitamin_C = float(starbucks_info['Vitamin_C'].iloc[i])\n",
    "    cur_Calcium = float(starbucks_info['Calcium'].iloc[i])\n",
    "    cur_Iron = float(starbucks_info['Iron'].iloc[i])\n",
    "    cur_Caffeine = float(starbucks_info['Caffeine'].iloc[i])\n",
    "    \n",
    "    #print(i, cur_name, cur_Milk, cur_Whip, cur_Calories, cur_Total_Fat)\n",
    "    \n",
    "    new_Beverage = create_Beverage(cur_ID, cur_name, cur_Category, cur_Milk, cur_Whip, \n",
    "                                   cur_Calories, cur_Total_Fat, cur_Saturated_Fat, cur_Trans_Fat, cur_Cholesterol, \n",
    "                                   cur_Sodium, cur_Total_Carbohydrates, cur_Dietary_Fiber, cur_Sugar, cur_Protein, cur_Vitamin_A, cur_Vitamin_C, cur_Calcium, cur_Iron, cur_Caffeine)"
   ]
  },
  {
   "cell_type": "code",
   "execution_count": 17,
   "id": "24f07222-b854-40fe-bf21-45c166eb2d74",
   "metadata": {
    "execution": {
     "iopub.execute_input": "2022-12-13T04:07:36.060883Z",
     "iopub.status.busy": "2022-12-13T04:07:36.059888Z",
     "iopub.status.idle": "2022-12-13T04:07:36.093796Z",
     "shell.execute_reply": "2022-12-13T04:07:36.091777Z",
     "shell.execute_reply.started": "2022-12-13T04:07:36.060883Z"
    },
    "tags": []
   },
   "outputs": [
    {
     "name": "stderr",
     "output_type": "stream",
     "text": [
      "100%|████████████████████████████████████████████████████████████████████████████████| 10/10 [00:00<00:00, 1117.53it/s]\n"
     ]
    }
   ],
   "source": [
    "# AddOns 정보 넣기\n",
    "for i in tqdm(range(len(addons_info))):\n",
    "    \n",
    "    ad_ID = str(addons_info['ID'].iloc[i])\n",
    "    ad_name = str(addons_info['AddOns'].iloc[i])\n",
    "    \n",
    "    ad_Calories = float(addons_info['Calories'].iloc[i])\n",
    "    ad_Total_Fat = float(addons_info['Total_Fat'].iloc[i])\n",
    "    ad_Saturated_Fat = float(addons_info['Saturated_Fat'].iloc[i])\n",
    "    ad_Trans_Fat = float(addons_info['Trans_Fat'].iloc[i])\n",
    "    ad_Cholesterol = float(addons_info['Cholesterol'].iloc[i])\n",
    "    \n",
    "    ad_Sodium = float(addons_info['Sodium'].iloc[i])\n",
    "    ad_Total_Carbohydrates = float(addons_info['Total_Carbohydrates'].iloc[i])\n",
    "    ad_Dietary_Fiber = float(addons_info['Dietary_Fiber'].iloc[i])\n",
    "    ad_Sugar = float(addons_info['Sugar'].iloc[i])\n",
    "    ad_Protein = float(addons_info['Protein'].iloc[i])\n",
    "    \n",
    "    ad_Vitamin_A = float(addons_info['Vitamin_A'].iloc[i])\n",
    "    ad_Vitamin_C = float(addons_info['Vitamin_C'].iloc[i])\n",
    "    ad_Calcium = float(addons_info['Calcium'].iloc[i])\n",
    "    ad_Iron = float(addons_info['Iron'].iloc[i])\n",
    "    ad_Caffeine = float(addons_info['Caffeine'].iloc[i])\n",
    "    \n",
    "    new_AddOns = create_AddOns(ad_ID, ad_name,\n",
    "                               ad_Calories, ad_Total_Fat, ad_Saturated_Fat, ad_Trans_Fat, ad_Cholesterol,\n",
    "                               ad_Sodium, ad_Total_Carbohydrates, ad_Dietary_Fiber, ad_Sugar, ad_Protein,\n",
    "                               ad_Vitamin_A, ad_Vitamin_C, ad_Calcium, ad_Iron, ad_Caffeine)"
   ]
  },
  {
   "cell_type": "markdown",
   "id": "28732f0a-abe1-4223-b8f3-76e3a44b8077",
   "metadata": {},
   "source": [
    "## 구축 온톨로지 저장"
   ]
  },
  {
   "cell_type": "code",
   "execution_count": 18,
   "id": "a5313f6f-dac1-4e87-a3d1-8a9656f2bea2",
   "metadata": {
    "execution": {
     "iopub.execute_input": "2022-12-13T04:07:36.094764Z",
     "iopub.status.busy": "2022-12-13T04:07:36.094764Z",
     "iopub.status.idle": "2022-12-13T04:07:36.138652Z",
     "shell.execute_reply": "2022-12-13T04:07:36.137650Z",
     "shell.execute_reply.started": "2022-12-13T04:07:36.094764Z"
    },
    "tags": []
   },
   "outputs": [],
   "source": [
    "onto.save(file = 'ontology_starbucks.rdf', format = 'rdfxml')"
   ]
  }
 ],
 "metadata": {
  "kernelspec": {
   "display_name": "Python 3",
   "language": "python",
   "name": "python3"
  },
  "language_info": {
   "codemirror_mode": {
    "name": "ipython",
    "version": 3
   },
   "file_extension": ".py",
   "mimetype": "text/x-python",
   "name": "python",
   "nbconvert_exporter": "python",
   "pygments_lexer": "ipython3",
   "version": "3.8.8"
  }
 },
 "nbformat": 4,
 "nbformat_minor": 5
}
