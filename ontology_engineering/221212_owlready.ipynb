{
 "cells": [
  {
   "cell_type": "markdown",
   "id": "2beece95-0abf-42fd-9253-48fa486e83a1",
   "metadata": {},
   "source": [
    "# Import"
   ]
  },
  {
   "cell_type": "code",
   "execution_count": 1,
   "id": "344d4e02-700c-4a1c-bccb-3ca9a9b0031c",
   "metadata": {
    "execution": {
     "iopub.execute_input": "2022-12-12T10:34:20.007981Z",
     "iopub.status.busy": "2022-12-12T10:34:20.007981Z",
     "iopub.status.idle": "2022-12-12T10:34:33.993003Z",
     "shell.execute_reply": "2022-12-12T10:34:33.992005Z",
     "shell.execute_reply.started": "2022-12-12T10:34:20.007981Z"
    },
    "tags": []
   },
   "outputs": [
    {
     "name": "stdout",
     "output_type": "stream",
     "text": [
      "Collecting owlready2\n",
      "  Downloading Owlready2-0.39.tar.gz (25.5 MB)\n",
      "     ---------------------------------------- 25.5/25.5 MB 6.6 MB/s eta 0:00:00\n",
      "  Preparing metadata (setup.py): started\n",
      "  Preparing metadata (setup.py): finished with status 'done'\n",
      "Building wheels for collected packages: owlready2\n",
      "  Building wheel for owlready2 (setup.py): started\n",
      "  Building wheel for owlready2 (setup.py): finished with status 'done'\n",
      "  Created wheel for owlready2: filename=Owlready2-0.39-py3-none-any.whl size=21517099 sha256=fc6974eb4477cb7e0d5e8280e9ae7326d6ad240592f4a236390ca7aef6ae457d\n",
      "  Stored in directory: c:\\users\\user\\appdata\\local\\pip\\cache\\wheels\\c0\\f5\\d2\\d6aecee2cbd7d72b34bc856a21fe21d37d9c6e6d97e069150e\n",
      "Successfully built owlready2\n",
      "Installing collected packages: owlready2\n",
      "Successfully installed owlready2-0.39\n"
     ]
    },
    {
     "name": "stderr",
     "output_type": "stream",
     "text": [
      "\n",
      "[notice] A new release of pip available: 22.3 -> 22.3.1\n",
      "[notice] To update, run: python.exe -m pip install --upgrade pip\n"
     ]
    }
   ],
   "source": [
    "#!pip install owlready2"
   ]
  },
  {
   "cell_type": "code",
   "execution_count": 2,
   "id": "10e0e9cc-5a9f-4bac-943d-ed558159a354",
   "metadata": {
    "execution": {
     "iopub.execute_input": "2022-12-12T10:34:48.500727Z",
     "iopub.status.busy": "2022-12-12T10:34:48.500727Z",
     "iopub.status.idle": "2022-12-12T10:34:50.791649Z",
     "shell.execute_reply": "2022-12-12T10:34:50.791649Z",
     "shell.execute_reply.started": "2022-12-12T10:34:48.500727Z"
    },
    "tags": []
   },
   "outputs": [
    {
     "name": "stderr",
     "output_type": "stream",
     "text": [
      "* Owlready2 * Warning: optimized Cython parser module 'owlready2_optimized' is not available, defaulting to slower Python implementation\n"
     ]
    }
   ],
   "source": [
    "from owlready2 import *\n",
    "import pandas as pd\n",
    "import os"
   ]
  },
  {
   "cell_type": "code",
   "execution_count": 54,
   "id": "f44fbb8d-6014-4404-b494-9cc922644181",
   "metadata": {
    "execution": {
     "iopub.execute_input": "2022-12-12T11:05:51.805778Z",
     "iopub.status.busy": "2022-12-12T11:05:51.804777Z",
     "iopub.status.idle": "2022-12-12T11:05:51.819633Z",
     "shell.execute_reply": "2022-12-12T11:05:51.818636Z",
     "shell.execute_reply.started": "2022-12-12T11:05:51.805778Z"
    },
    "tags": []
   },
   "outputs": [],
   "source": [
    "import numpy as np"
   ]
  },
  {
   "cell_type": "markdown",
   "id": "64a381ec-f81c-4636-b4bf-1d3047a3d091",
   "metadata": {},
   "source": [
    "# Load dataset"
   ]
  },
  {
   "cell_type": "markdown",
   "id": "6eeaaee4-d1c2-4a6a-ace7-77b4ecadaa22",
   "metadata": {
    "execution": {
     "iopub.execute_input": "2022-12-12T11:07:07.574818Z",
     "iopub.status.busy": "2022-12-12T11:07:07.573821Z",
     "iopub.status.idle": "2022-12-12T11:07:07.594769Z",
     "shell.execute_reply": "2022-12-12T11:07:07.592771Z",
     "shell.execute_reply.started": "2022-12-12T11:07:07.574818Z"
    },
    "tags": []
   },
   "source": [
    "starbucks_info.columns = [\n",
    "    'Temperature', 'Category', 'Product_Name', 'Milk', 'Whip', 'Calories',\n",
    "       'Total_Fat', 'Saturated_Fat', 'Trans_Fat', 'Cholesterol', 'Sodium',\n",
    "       'Total_Carbohydrates', 'Dietary_Fiber', 'Sugar', 'Protein', 'Vitamin_A',\n",
    "       'Vitamin_C', 'Calcium', 'Iron', 'Caffeine']\n",
    "\n",
    "def fullname(product, milk):\n",
    "    if pd.isna(milk) == False: # milk 값이 있으면\n",
    "        beverage = str(product) + ' with ' + str(milk) + ' Milk'\n",
    "        \n",
    "    else:\n",
    "        beverage = str(product)\n",
    "        \n",
    "    return beverage\n",
    "    \n",
    "starbucks_info['Beverage'] = starbucks_info.apply(lambda x: fullname(x.Product_Name, x.Milk), axis = 1)\n",
    "\n",
    "starbucks_info.to_csv('Starbucks_Recent_Menus_Tall.csv', encoding = 'UTF-8')\n",
    "\n",
    "category = starbucks_info[['Temperature', 'Category', 'Product_Name']].copy()\n",
    "\n",
    "category.drop_duplicates(inplace = True)\n",
    "\n",
    "category.to_csv('product_category.csv', encoding = 'UTF-8')"
   ]
  },
  {
   "cell_type": "code",
   "execution_count": 82,
   "id": "abc13a1c-b68b-4bb2-96eb-716c6ca22f6f",
   "metadata": {
    "execution": {
     "iopub.execute_input": "2022-12-12T11:25:23.104838Z",
     "iopub.status.busy": "2022-12-12T11:25:23.103842Z",
     "iopub.status.idle": "2022-12-12T11:25:23.114812Z",
     "shell.execute_reply": "2022-12-12T11:25:23.113845Z",
     "shell.execute_reply.started": "2022-12-12T11:25:23.104838Z"
    },
    "tags": []
   },
   "outputs": [],
   "source": [
    "menu_dir = 'https://raw.githubusercontent.com/regenesis90/coursework/main/ontology_engineering/Dataset/Starbucks_Recent_Menus_Tall.csv'"
   ]
  },
  {
   "cell_type": "code",
   "execution_count": 83,
   "id": "be429309-1032-4d66-a75a-b05177221d22",
   "metadata": {
    "execution": {
     "iopub.execute_input": "2022-12-12T11:25:23.587548Z",
     "iopub.status.busy": "2022-12-12T11:25:23.587548Z",
     "iopub.status.idle": "2022-12-12T11:25:24.095836Z",
     "shell.execute_reply": "2022-12-12T11:25:24.094818Z",
     "shell.execute_reply.started": "2022-12-12T11:25:23.587548Z"
    },
    "tags": []
   },
   "outputs": [],
   "source": [
    "starbucks_info = pd.read_csv(menu_dir)"
   ]
  },
  {
   "cell_type": "code",
   "execution_count": 84,
   "id": "80617a70-a176-4080-9227-aff8c977dbbe",
   "metadata": {
    "execution": {
     "iopub.execute_input": "2022-12-12T11:25:27.702264Z",
     "iopub.status.busy": "2022-12-12T11:25:27.702264Z",
     "iopub.status.idle": "2022-12-12T11:25:27.725205Z",
     "shell.execute_reply": "2022-12-12T11:25:27.723254Z",
     "shell.execute_reply.started": "2022-12-12T11:25:27.702264Z"
    },
    "tags": []
   },
   "outputs": [
    {
     "data": {
      "text/html": [
       "<div>\n",
       "<style scoped>\n",
       "    .dataframe tbody tr th:only-of-type {\n",
       "        vertical-align: middle;\n",
       "    }\n",
       "\n",
       "    .dataframe tbody tr th {\n",
       "        vertical-align: top;\n",
       "    }\n",
       "\n",
       "    .dataframe thead th {\n",
       "        text-align: right;\n",
       "    }\n",
       "</style>\n",
       "<table border=\"1\" class=\"dataframe\">\n",
       "  <thead>\n",
       "    <tr style=\"text-align: right;\">\n",
       "      <th></th>\n",
       "      <th>Beverage</th>\n",
       "      <th>Product</th>\n",
       "      <th>Milk</th>\n",
       "      <th>Whip</th>\n",
       "      <th>Calories</th>\n",
       "      <th>Total_Fat</th>\n",
       "      <th>Saturated_Fat</th>\n",
       "      <th>Trans_Fat</th>\n",
       "      <th>Cholesterol</th>\n",
       "      <th>Sodium</th>\n",
       "      <th>Total_Carbohydrates</th>\n",
       "      <th>Dietary_Fiber</th>\n",
       "      <th>Sugar</th>\n",
       "      <th>Protein</th>\n",
       "      <th>Vitamin_A</th>\n",
       "      <th>Vitamin_C</th>\n",
       "      <th>Calcium</th>\n",
       "      <th>Iron</th>\n",
       "      <th>Caffeine</th>\n",
       "    </tr>\n",
       "  </thead>\n",
       "  <tbody>\n",
       "    <tr>\n",
       "      <th>0</th>\n",
       "      <td>Brewed Coffee - Dark Roast</td>\n",
       "      <td>Brewed Coffee - Dark Roast</td>\n",
       "      <td>NaN</td>\n",
       "      <td>NaN</td>\n",
       "      <td>4</td>\n",
       "      <td>0.1</td>\n",
       "      <td>0.0</td>\n",
       "      <td>0.0</td>\n",
       "      <td>0</td>\n",
       "      <td>10</td>\n",
       "      <td>0</td>\n",
       "      <td>0</td>\n",
       "      <td>0</td>\n",
       "      <td>0.5</td>\n",
       "      <td>0</td>\n",
       "      <td>0</td>\n",
       "      <td>0</td>\n",
       "      <td>0</td>\n",
       "      <td>193</td>\n",
       "    </tr>\n",
       "    <tr>\n",
       "      <th>1</th>\n",
       "      <td>Brewed Coffee - Decaf Pike Place Roast</td>\n",
       "      <td>Brewed Coffee - Decaf Pike Place Roast</td>\n",
       "      <td>NaN</td>\n",
       "      <td>NaN</td>\n",
       "      <td>4</td>\n",
       "      <td>0.1</td>\n",
       "      <td>0.0</td>\n",
       "      <td>0.0</td>\n",
       "      <td>0</td>\n",
       "      <td>10</td>\n",
       "      <td>0</td>\n",
       "      <td>0</td>\n",
       "      <td>0</td>\n",
       "      <td>0.5</td>\n",
       "      <td>0</td>\n",
       "      <td>0</td>\n",
       "      <td>0</td>\n",
       "      <td>0</td>\n",
       "      <td>20</td>\n",
       "    </tr>\n",
       "    <tr>\n",
       "      <th>2</th>\n",
       "      <td>Brewed Coffee - Medium Roast</td>\n",
       "      <td>Brewed Coffee - Medium Roast</td>\n",
       "      <td>NaN</td>\n",
       "      <td>NaN</td>\n",
       "      <td>4</td>\n",
       "      <td>0.1</td>\n",
       "      <td>0.0</td>\n",
       "      <td>0.0</td>\n",
       "      <td>0</td>\n",
       "      <td>10</td>\n",
       "      <td>0</td>\n",
       "      <td>0</td>\n",
       "      <td>0</td>\n",
       "      <td>0.5</td>\n",
       "      <td>0</td>\n",
       "      <td>0</td>\n",
       "      <td>0</td>\n",
       "      <td>0</td>\n",
       "      <td>235</td>\n",
       "    </tr>\n",
       "    <tr>\n",
       "      <th>3</th>\n",
       "      <td>Brewed Coffee - True North Blend Blonde Roast</td>\n",
       "      <td>Brewed Coffee - True North Blend Blonde Roast</td>\n",
       "      <td>NaN</td>\n",
       "      <td>NaN</td>\n",
       "      <td>4</td>\n",
       "      <td>0.1</td>\n",
       "      <td>0.0</td>\n",
       "      <td>0.0</td>\n",
       "      <td>0</td>\n",
       "      <td>10</td>\n",
       "      <td>0</td>\n",
       "      <td>0</td>\n",
       "      <td>0</td>\n",
       "      <td>0.5</td>\n",
       "      <td>0</td>\n",
       "      <td>0</td>\n",
       "      <td>0</td>\n",
       "      <td>0</td>\n",
       "      <td>270</td>\n",
       "    </tr>\n",
       "    <tr>\n",
       "      <th>4</th>\n",
       "      <td>Caffe Misto with Nonfat Milk</td>\n",
       "      <td>Caffe Misto</td>\n",
       "      <td>Nonfat</td>\n",
       "      <td>NaN</td>\n",
       "      <td>60</td>\n",
       "      <td>0.2</td>\n",
       "      <td>0.1</td>\n",
       "      <td>0.0</td>\n",
       "      <td>5</td>\n",
       "      <td>70</td>\n",
       "      <td>8</td>\n",
       "      <td>0</td>\n",
       "      <td>8</td>\n",
       "      <td>6.0</td>\n",
       "      <td>10</td>\n",
       "      <td>0</td>\n",
       "      <td>20</td>\n",
       "      <td>0</td>\n",
       "      <td>115</td>\n",
       "    </tr>\n",
       "  </tbody>\n",
       "</table>\n",
       "</div>"
      ],
      "text/plain": [
       "                                        Beverage  \\\n",
       "0                     Brewed Coffee - Dark Roast   \n",
       "1         Brewed Coffee - Decaf Pike Place Roast   \n",
       "2                   Brewed Coffee - Medium Roast   \n",
       "3  Brewed Coffee - True North Blend Blonde Roast   \n",
       "4                   Caffe Misto with Nonfat Milk   \n",
       "\n",
       "                                         Product    Milk Whip  Calories  \\\n",
       "0                     Brewed Coffee - Dark Roast     NaN  NaN         4   \n",
       "1         Brewed Coffee - Decaf Pike Place Roast     NaN  NaN         4   \n",
       "2                   Brewed Coffee - Medium Roast     NaN  NaN         4   \n",
       "3  Brewed Coffee - True North Blend Blonde Roast     NaN  NaN         4   \n",
       "4                                    Caffe Misto  Nonfat  NaN        60   \n",
       "\n",
       "   Total_Fat  Saturated_Fat  Trans_Fat  Cholesterol  Sodium  \\\n",
       "0        0.1            0.0        0.0            0      10   \n",
       "1        0.1            0.0        0.0            0      10   \n",
       "2        0.1            0.0        0.0            0      10   \n",
       "3        0.1            0.0        0.0            0      10   \n",
       "4        0.2            0.1        0.0            5      70   \n",
       "\n",
       "   Total_Carbohydrates  Dietary_Fiber  Sugar  Protein  Vitamin_A  Vitamin_C  \\\n",
       "0                    0              0      0      0.5          0          0   \n",
       "1                    0              0      0      0.5          0          0   \n",
       "2                    0              0      0      0.5          0          0   \n",
       "3                    0              0      0      0.5          0          0   \n",
       "4                    8              0      8      6.0         10          0   \n",
       "\n",
       "   Calcium  Iron Caffeine  \n",
       "0        0     0      193  \n",
       "1        0     0       20  \n",
       "2        0     0      235  \n",
       "3        0     0      270  \n",
       "4       20     0      115  "
      ]
     },
     "execution_count": 84,
     "metadata": {},
     "output_type": "execute_result"
    }
   ],
   "source": [
    "starbucks_info.head()"
   ]
  },
  {
   "cell_type": "code",
   "execution_count": 118,
   "id": "25c527ae-73f0-4f74-8d85-af1ccc45c9bb",
   "metadata": {
    "execution": {
     "iopub.execute_input": "2022-12-12T14:01:43.448314Z",
     "iopub.status.busy": "2022-12-12T14:01:43.447317Z",
     "iopub.status.idle": "2022-12-12T14:01:43.499178Z",
     "shell.execute_reply": "2022-12-12T14:01:43.494192Z",
     "shell.execute_reply.started": "2022-12-12T14:01:43.448314Z"
    },
    "tags": []
   },
   "outputs": [
    {
     "ename": "ValueError",
     "evalue": "could not convert string to float: '20-25'",
     "output_type": "error",
     "traceback": [
      "\u001b[1;31m---------------------------------------------------------------------------\u001b[0m",
      "\u001b[1;31mValueError\u001b[0m                                Traceback (most recent call last)",
      "\u001b[1;32m<ipython-input-118-c84944999af7>\u001b[0m in \u001b[0;36m<module>\u001b[1;34m\u001b[0m\n\u001b[1;32m----> 1\u001b[1;33m starbucks_info = starbucks_info.astype(\n\u001b[0m\u001b[0;32m      2\u001b[0m     {\n\u001b[0;32m      3\u001b[0m         \u001b[1;34m'Calories'\u001b[0m \u001b[1;33m:\u001b[0m \u001b[1;34m'float'\u001b[0m\u001b[1;33m,\u001b[0m\u001b[1;33m\u001b[0m\u001b[1;33m\u001b[0m\u001b[0m\n\u001b[0;32m      4\u001b[0m         \u001b[1;34m'Total_Fat'\u001b[0m \u001b[1;33m:\u001b[0m \u001b[1;34m'float'\u001b[0m\u001b[1;33m,\u001b[0m\u001b[1;33m\u001b[0m\u001b[1;33m\u001b[0m\u001b[0m\n\u001b[0;32m      5\u001b[0m         \u001b[1;34m'Saturated_Fat'\u001b[0m \u001b[1;33m:\u001b[0m \u001b[1;34m'float'\u001b[0m\u001b[1;33m,\u001b[0m\u001b[1;33m\u001b[0m\u001b[1;33m\u001b[0m\u001b[0m\n",
      "\u001b[1;32mC:\\dev\\Anaconda_3\\lib\\site-packages\\pandas\\core\\generic.py\u001b[0m in \u001b[0;36mastype\u001b[1;34m(self, dtype, copy, errors)\u001b[0m\n\u001b[0;32m   6224\u001b[0m                     \u001b[0mres_col\u001b[0m \u001b[1;33m=\u001b[0m \u001b[0mcol\u001b[0m\u001b[1;33m.\u001b[0m\u001b[0mcopy\u001b[0m\u001b[1;33m(\u001b[0m\u001b[1;33m)\u001b[0m \u001b[1;32mif\u001b[0m \u001b[0mcopy\u001b[0m \u001b[1;32melse\u001b[0m \u001b[0mcol\u001b[0m\u001b[1;33m\u001b[0m\u001b[1;33m\u001b[0m\u001b[0m\n\u001b[0;32m   6225\u001b[0m                 \u001b[1;32melse\u001b[0m\u001b[1;33m:\u001b[0m\u001b[1;33m\u001b[0m\u001b[1;33m\u001b[0m\u001b[0m\n\u001b[1;32m-> 6226\u001b[1;33m                     \u001b[0mres_col\u001b[0m \u001b[1;33m=\u001b[0m \u001b[0mcol\u001b[0m\u001b[1;33m.\u001b[0m\u001b[0mastype\u001b[0m\u001b[1;33m(\u001b[0m\u001b[0mdtype\u001b[0m\u001b[1;33m=\u001b[0m\u001b[0mcdt\u001b[0m\u001b[1;33m,\u001b[0m \u001b[0mcopy\u001b[0m\u001b[1;33m=\u001b[0m\u001b[0mcopy\u001b[0m\u001b[1;33m,\u001b[0m \u001b[0merrors\u001b[0m\u001b[1;33m=\u001b[0m\u001b[0merrors\u001b[0m\u001b[1;33m)\u001b[0m\u001b[1;33m\u001b[0m\u001b[1;33m\u001b[0m\u001b[0m\n\u001b[0m\u001b[0;32m   6227\u001b[0m                 \u001b[0mresults\u001b[0m\u001b[1;33m.\u001b[0m\u001b[0mappend\u001b[0m\u001b[1;33m(\u001b[0m\u001b[0mres_col\u001b[0m\u001b[1;33m)\u001b[0m\u001b[1;33m\u001b[0m\u001b[1;33m\u001b[0m\u001b[0m\n\u001b[0;32m   6228\u001b[0m \u001b[1;33m\u001b[0m\u001b[0m\n",
      "\u001b[1;32mC:\\dev\\Anaconda_3\\lib\\site-packages\\pandas\\core\\generic.py\u001b[0m in \u001b[0;36mastype\u001b[1;34m(self, dtype, copy, errors)\u001b[0m\n\u001b[0;32m   6238\u001b[0m         \u001b[1;32melse\u001b[0m\u001b[1;33m:\u001b[0m\u001b[1;33m\u001b[0m\u001b[1;33m\u001b[0m\u001b[0m\n\u001b[0;32m   6239\u001b[0m             \u001b[1;31m# else, only a single dtype is given\u001b[0m\u001b[1;33m\u001b[0m\u001b[1;33m\u001b[0m\u001b[1;33m\u001b[0m\u001b[0m\n\u001b[1;32m-> 6240\u001b[1;33m             \u001b[0mnew_data\u001b[0m \u001b[1;33m=\u001b[0m \u001b[0mself\u001b[0m\u001b[1;33m.\u001b[0m\u001b[0m_mgr\u001b[0m\u001b[1;33m.\u001b[0m\u001b[0mastype\u001b[0m\u001b[1;33m(\u001b[0m\u001b[0mdtype\u001b[0m\u001b[1;33m=\u001b[0m\u001b[0mdtype\u001b[0m\u001b[1;33m,\u001b[0m \u001b[0mcopy\u001b[0m\u001b[1;33m=\u001b[0m\u001b[0mcopy\u001b[0m\u001b[1;33m,\u001b[0m \u001b[0merrors\u001b[0m\u001b[1;33m=\u001b[0m\u001b[0merrors\u001b[0m\u001b[1;33m)\u001b[0m\u001b[1;33m\u001b[0m\u001b[1;33m\u001b[0m\u001b[0m\n\u001b[0m\u001b[0;32m   6241\u001b[0m             \u001b[1;32mreturn\u001b[0m \u001b[0mself\u001b[0m\u001b[1;33m.\u001b[0m\u001b[0m_constructor\u001b[0m\u001b[1;33m(\u001b[0m\u001b[0mnew_data\u001b[0m\u001b[1;33m)\u001b[0m\u001b[1;33m.\u001b[0m\u001b[0m__finalize__\u001b[0m\u001b[1;33m(\u001b[0m\u001b[0mself\u001b[0m\u001b[1;33m,\u001b[0m \u001b[0mmethod\u001b[0m\u001b[1;33m=\u001b[0m\u001b[1;34m\"astype\"\u001b[0m\u001b[1;33m)\u001b[0m\u001b[1;33m\u001b[0m\u001b[1;33m\u001b[0m\u001b[0m\n\u001b[0;32m   6242\u001b[0m \u001b[1;33m\u001b[0m\u001b[0m\n",
      "\u001b[1;32mC:\\dev\\Anaconda_3\\lib\\site-packages\\pandas\\core\\internals\\managers.py\u001b[0m in \u001b[0;36mastype\u001b[1;34m(self, dtype, copy, errors)\u001b[0m\n\u001b[0;32m    448\u001b[0m \u001b[1;33m\u001b[0m\u001b[0m\n\u001b[0;32m    449\u001b[0m     \u001b[1;32mdef\u001b[0m \u001b[0mastype\u001b[0m\u001b[1;33m(\u001b[0m\u001b[0mself\u001b[0m\u001b[1;33m:\u001b[0m \u001b[0mT\u001b[0m\u001b[1;33m,\u001b[0m \u001b[0mdtype\u001b[0m\u001b[1;33m,\u001b[0m \u001b[0mcopy\u001b[0m\u001b[1;33m:\u001b[0m \u001b[0mbool\u001b[0m \u001b[1;33m=\u001b[0m \u001b[1;32mFalse\u001b[0m\u001b[1;33m,\u001b[0m \u001b[0merrors\u001b[0m\u001b[1;33m:\u001b[0m \u001b[0mstr\u001b[0m \u001b[1;33m=\u001b[0m \u001b[1;34m\"raise\"\u001b[0m\u001b[1;33m)\u001b[0m \u001b[1;33m->\u001b[0m \u001b[0mT\u001b[0m\u001b[1;33m:\u001b[0m\u001b[1;33m\u001b[0m\u001b[1;33m\u001b[0m\u001b[0m\n\u001b[1;32m--> 450\u001b[1;33m         \u001b[1;32mreturn\u001b[0m \u001b[0mself\u001b[0m\u001b[1;33m.\u001b[0m\u001b[0mapply\u001b[0m\u001b[1;33m(\u001b[0m\u001b[1;34m\"astype\"\u001b[0m\u001b[1;33m,\u001b[0m \u001b[0mdtype\u001b[0m\u001b[1;33m=\u001b[0m\u001b[0mdtype\u001b[0m\u001b[1;33m,\u001b[0m \u001b[0mcopy\u001b[0m\u001b[1;33m=\u001b[0m\u001b[0mcopy\u001b[0m\u001b[1;33m,\u001b[0m \u001b[0merrors\u001b[0m\u001b[1;33m=\u001b[0m\u001b[0merrors\u001b[0m\u001b[1;33m)\u001b[0m\u001b[1;33m\u001b[0m\u001b[1;33m\u001b[0m\u001b[0m\n\u001b[0m\u001b[0;32m    451\u001b[0m \u001b[1;33m\u001b[0m\u001b[0m\n\u001b[0;32m    452\u001b[0m     def convert(\n",
      "\u001b[1;32mC:\\dev\\Anaconda_3\\lib\\site-packages\\pandas\\core\\internals\\managers.py\u001b[0m in \u001b[0;36mapply\u001b[1;34m(self, f, align_keys, ignore_failures, **kwargs)\u001b[0m\n\u001b[0;32m    350\u001b[0m                     \u001b[0mapplied\u001b[0m \u001b[1;33m=\u001b[0m \u001b[0mb\u001b[0m\u001b[1;33m.\u001b[0m\u001b[0mapply\u001b[0m\u001b[1;33m(\u001b[0m\u001b[0mf\u001b[0m\u001b[1;33m,\u001b[0m \u001b[1;33m**\u001b[0m\u001b[0mkwargs\u001b[0m\u001b[1;33m)\u001b[0m\u001b[1;33m\u001b[0m\u001b[1;33m\u001b[0m\u001b[0m\n\u001b[0;32m    351\u001b[0m                 \u001b[1;32melse\u001b[0m\u001b[1;33m:\u001b[0m\u001b[1;33m\u001b[0m\u001b[1;33m\u001b[0m\u001b[0m\n\u001b[1;32m--> 352\u001b[1;33m                     \u001b[0mapplied\u001b[0m \u001b[1;33m=\u001b[0m \u001b[0mgetattr\u001b[0m\u001b[1;33m(\u001b[0m\u001b[0mb\u001b[0m\u001b[1;33m,\u001b[0m \u001b[0mf\u001b[0m\u001b[1;33m)\u001b[0m\u001b[1;33m(\u001b[0m\u001b[1;33m**\u001b[0m\u001b[0mkwargs\u001b[0m\u001b[1;33m)\u001b[0m\u001b[1;33m\u001b[0m\u001b[1;33m\u001b[0m\u001b[0m\n\u001b[0m\u001b[0;32m    353\u001b[0m             \u001b[1;32mexcept\u001b[0m \u001b[1;33m(\u001b[0m\u001b[0mTypeError\u001b[0m\u001b[1;33m,\u001b[0m \u001b[0mNotImplementedError\u001b[0m\u001b[1;33m)\u001b[0m\u001b[1;33m:\u001b[0m\u001b[1;33m\u001b[0m\u001b[1;33m\u001b[0m\u001b[0m\n\u001b[0;32m    354\u001b[0m                 \u001b[1;32mif\u001b[0m \u001b[1;32mnot\u001b[0m \u001b[0mignore_failures\u001b[0m\u001b[1;33m:\u001b[0m\u001b[1;33m\u001b[0m\u001b[1;33m\u001b[0m\u001b[0m\n",
      "\u001b[1;32mC:\\dev\\Anaconda_3\\lib\\site-packages\\pandas\\core\\internals\\blocks.py\u001b[0m in \u001b[0;36mastype\u001b[1;34m(self, dtype, copy, errors)\u001b[0m\n\u001b[0;32m    524\u001b[0m         \u001b[0mvalues\u001b[0m \u001b[1;33m=\u001b[0m \u001b[0mself\u001b[0m\u001b[1;33m.\u001b[0m\u001b[0mvalues\u001b[0m\u001b[1;33m\u001b[0m\u001b[1;33m\u001b[0m\u001b[0m\n\u001b[0;32m    525\u001b[0m \u001b[1;33m\u001b[0m\u001b[0m\n\u001b[1;32m--> 526\u001b[1;33m         \u001b[0mnew_values\u001b[0m \u001b[1;33m=\u001b[0m \u001b[0mastype_array_safe\u001b[0m\u001b[1;33m(\u001b[0m\u001b[0mvalues\u001b[0m\u001b[1;33m,\u001b[0m \u001b[0mdtype\u001b[0m\u001b[1;33m,\u001b[0m \u001b[0mcopy\u001b[0m\u001b[1;33m=\u001b[0m\u001b[0mcopy\u001b[0m\u001b[1;33m,\u001b[0m \u001b[0merrors\u001b[0m\u001b[1;33m=\u001b[0m\u001b[0merrors\u001b[0m\u001b[1;33m)\u001b[0m\u001b[1;33m\u001b[0m\u001b[1;33m\u001b[0m\u001b[0m\n\u001b[0m\u001b[0;32m    527\u001b[0m \u001b[1;33m\u001b[0m\u001b[0m\n\u001b[0;32m    528\u001b[0m         \u001b[0mnew_values\u001b[0m \u001b[1;33m=\u001b[0m \u001b[0mmaybe_coerce_values\u001b[0m\u001b[1;33m(\u001b[0m\u001b[0mnew_values\u001b[0m\u001b[1;33m)\u001b[0m\u001b[1;33m\u001b[0m\u001b[1;33m\u001b[0m\u001b[0m\n",
      "\u001b[1;32mC:\\dev\\Anaconda_3\\lib\\site-packages\\pandas\\core\\dtypes\\astype.py\u001b[0m in \u001b[0;36mastype_array_safe\u001b[1;34m(values, dtype, copy, errors)\u001b[0m\n\u001b[0;32m    297\u001b[0m \u001b[1;33m\u001b[0m\u001b[0m\n\u001b[0;32m    298\u001b[0m     \u001b[1;32mtry\u001b[0m\u001b[1;33m:\u001b[0m\u001b[1;33m\u001b[0m\u001b[1;33m\u001b[0m\u001b[0m\n\u001b[1;32m--> 299\u001b[1;33m         \u001b[0mnew_values\u001b[0m \u001b[1;33m=\u001b[0m \u001b[0mastype_array\u001b[0m\u001b[1;33m(\u001b[0m\u001b[0mvalues\u001b[0m\u001b[1;33m,\u001b[0m \u001b[0mdtype\u001b[0m\u001b[1;33m,\u001b[0m \u001b[0mcopy\u001b[0m\u001b[1;33m=\u001b[0m\u001b[0mcopy\u001b[0m\u001b[1;33m)\u001b[0m\u001b[1;33m\u001b[0m\u001b[1;33m\u001b[0m\u001b[0m\n\u001b[0m\u001b[0;32m    300\u001b[0m     \u001b[1;32mexcept\u001b[0m \u001b[1;33m(\u001b[0m\u001b[0mValueError\u001b[0m\u001b[1;33m,\u001b[0m \u001b[0mTypeError\u001b[0m\u001b[1;33m)\u001b[0m\u001b[1;33m:\u001b[0m\u001b[1;33m\u001b[0m\u001b[1;33m\u001b[0m\u001b[0m\n\u001b[0;32m    301\u001b[0m         \u001b[1;31m# e.g. astype_nansafe can fail on object-dtype of strings\u001b[0m\u001b[1;33m\u001b[0m\u001b[1;33m\u001b[0m\u001b[1;33m\u001b[0m\u001b[0m\n",
      "\u001b[1;32mC:\\dev\\Anaconda_3\\lib\\site-packages\\pandas\\core\\dtypes\\astype.py\u001b[0m in \u001b[0;36mastype_array\u001b[1;34m(values, dtype, copy)\u001b[0m\n\u001b[0;32m    228\u001b[0m \u001b[1;33m\u001b[0m\u001b[0m\n\u001b[0;32m    229\u001b[0m     \u001b[1;32melse\u001b[0m\u001b[1;33m:\u001b[0m\u001b[1;33m\u001b[0m\u001b[1;33m\u001b[0m\u001b[0m\n\u001b[1;32m--> 230\u001b[1;33m         \u001b[0mvalues\u001b[0m \u001b[1;33m=\u001b[0m \u001b[0mastype_nansafe\u001b[0m\u001b[1;33m(\u001b[0m\u001b[0mvalues\u001b[0m\u001b[1;33m,\u001b[0m \u001b[0mdtype\u001b[0m\u001b[1;33m,\u001b[0m \u001b[0mcopy\u001b[0m\u001b[1;33m=\u001b[0m\u001b[0mcopy\u001b[0m\u001b[1;33m)\u001b[0m\u001b[1;33m\u001b[0m\u001b[1;33m\u001b[0m\u001b[0m\n\u001b[0m\u001b[0;32m    231\u001b[0m \u001b[1;33m\u001b[0m\u001b[0m\n\u001b[0;32m    232\u001b[0m     \u001b[1;31m# in pandas we don't store numpy str dtypes, so convert to object\u001b[0m\u001b[1;33m\u001b[0m\u001b[1;33m\u001b[0m\u001b[1;33m\u001b[0m\u001b[0m\n",
      "\u001b[1;32mC:\\dev\\Anaconda_3\\lib\\site-packages\\pandas\\core\\dtypes\\astype.py\u001b[0m in \u001b[0;36mastype_nansafe\u001b[1;34m(arr, dtype, copy, skipna)\u001b[0m\n\u001b[0;32m    168\u001b[0m     \u001b[1;32mif\u001b[0m \u001b[0mcopy\u001b[0m \u001b[1;32mor\u001b[0m \u001b[0mis_object_dtype\u001b[0m\u001b[1;33m(\u001b[0m\u001b[0marr\u001b[0m\u001b[1;33m.\u001b[0m\u001b[0mdtype\u001b[0m\u001b[1;33m)\u001b[0m \u001b[1;32mor\u001b[0m \u001b[0mis_object_dtype\u001b[0m\u001b[1;33m(\u001b[0m\u001b[0mdtype\u001b[0m\u001b[1;33m)\u001b[0m\u001b[1;33m:\u001b[0m\u001b[1;33m\u001b[0m\u001b[1;33m\u001b[0m\u001b[0m\n\u001b[0;32m    169\u001b[0m         \u001b[1;31m# Explicit copy, or required since NumPy can't view from / to object.\u001b[0m\u001b[1;33m\u001b[0m\u001b[1;33m\u001b[0m\u001b[1;33m\u001b[0m\u001b[0m\n\u001b[1;32m--> 170\u001b[1;33m         \u001b[1;32mreturn\u001b[0m \u001b[0marr\u001b[0m\u001b[1;33m.\u001b[0m\u001b[0mastype\u001b[0m\u001b[1;33m(\u001b[0m\u001b[0mdtype\u001b[0m\u001b[1;33m,\u001b[0m \u001b[0mcopy\u001b[0m\u001b[1;33m=\u001b[0m\u001b[1;32mTrue\u001b[0m\u001b[1;33m)\u001b[0m\u001b[1;33m\u001b[0m\u001b[1;33m\u001b[0m\u001b[0m\n\u001b[0m\u001b[0;32m    171\u001b[0m \u001b[1;33m\u001b[0m\u001b[0m\n\u001b[0;32m    172\u001b[0m     \u001b[1;32mreturn\u001b[0m \u001b[0marr\u001b[0m\u001b[1;33m.\u001b[0m\u001b[0mastype\u001b[0m\u001b[1;33m(\u001b[0m\u001b[0mdtype\u001b[0m\u001b[1;33m,\u001b[0m \u001b[0mcopy\u001b[0m\u001b[1;33m=\u001b[0m\u001b[0mcopy\u001b[0m\u001b[1;33m)\u001b[0m\u001b[1;33m\u001b[0m\u001b[1;33m\u001b[0m\u001b[0m\n",
      "\u001b[1;31mValueError\u001b[0m: could not convert string to float: '20-25'"
     ]
    }
   ],
   "source": [
    "starbucks_info = starbucks_info.astype(\n",
    "    {\n",
    "        'Calories' : 'float',\n",
    "        'Total_Fat' : 'float',\n",
    "        'Saturated_Fat' : 'float',\n",
    "        'Trans_Fat' : 'float',\n",
    "        'Cholesterol' : 'float',\n",
    "        'Sodium' : 'float',\n",
    "        'Total_Carbohydrates' : 'float',\n",
    "        'Dietary_Fiber' : 'float',\n",
    "        'Sugar' : 'float',\n",
    "        'Protein' : 'float', \n",
    "        'Vitamin_A' : 'float',\n",
    "        'Vitamin_C' : 'float',\n",
    "        'Calcium' : 'float',\n",
    "        'Iron' : 'float',\n",
    "        'Caffeine' : 'float'\n",
    "    }\n",
    ")"
   ]
  },
  {
   "cell_type": "code",
   "execution_count": 85,
   "id": "d5f963b5-d4d2-4bec-b4e9-7a107f1c00e9",
   "metadata": {
    "execution": {
     "iopub.execute_input": "2022-12-12T11:25:55.685944Z",
     "iopub.status.busy": "2022-12-12T11:25:55.685944Z",
     "iopub.status.idle": "2022-12-12T11:25:55.691929Z",
     "shell.execute_reply": "2022-12-12T11:25:55.690960Z",
     "shell.execute_reply.started": "2022-12-12T11:25:55.685944Z"
    },
    "tags": []
   },
   "outputs": [],
   "source": [
    "category_dir = 'https://raw.githubusercontent.com/regenesis90/coursework/main/ontology_engineering/Dataset/product_category.csv'"
   ]
  },
  {
   "cell_type": "code",
   "execution_count": 86,
   "id": "705bc931-06c1-449c-a7dd-8511c4b46f13",
   "metadata": {
    "execution": {
     "iopub.execute_input": "2022-12-12T11:26:03.599371Z",
     "iopub.status.busy": "2022-12-12T11:26:03.599371Z",
     "iopub.status.idle": "2022-12-12T11:26:04.071184Z",
     "shell.execute_reply": "2022-12-12T11:26:04.070180Z",
     "shell.execute_reply.started": "2022-12-12T11:26:03.599371Z"
    },
    "tags": []
   },
   "outputs": [],
   "source": [
    "category_info = pd.read_csv(category_dir)"
   ]
  },
  {
   "cell_type": "code",
   "execution_count": 87,
   "id": "e8419111-d354-4d14-9087-47e6f525e44f",
   "metadata": {
    "execution": {
     "iopub.execute_input": "2022-12-12T11:26:06.950526Z",
     "iopub.status.busy": "2022-12-12T11:26:06.950526Z",
     "iopub.status.idle": "2022-12-12T11:26:06.968478Z",
     "shell.execute_reply": "2022-12-12T11:26:06.967482Z",
     "shell.execute_reply.started": "2022-12-12T11:26:06.950526Z"
    },
    "tags": []
   },
   "outputs": [
    {
     "data": {
      "text/html": [
       "<div>\n",
       "<style scoped>\n",
       "    .dataframe tbody tr th:only-of-type {\n",
       "        vertical-align: middle;\n",
       "    }\n",
       "\n",
       "    .dataframe tbody tr th {\n",
       "        vertical-align: top;\n",
       "    }\n",
       "\n",
       "    .dataframe thead th {\n",
       "        text-align: right;\n",
       "    }\n",
       "</style>\n",
       "<table border=\"1\" class=\"dataframe\">\n",
       "  <thead>\n",
       "    <tr style=\"text-align: right;\">\n",
       "      <th></th>\n",
       "      <th>Unnamed: 0</th>\n",
       "      <th>Temperature</th>\n",
       "      <th>Category</th>\n",
       "      <th>Product_Name</th>\n",
       "    </tr>\n",
       "  </thead>\n",
       "  <tbody>\n",
       "    <tr>\n",
       "      <th>0</th>\n",
       "      <td>0</td>\n",
       "      <td>Hot</td>\n",
       "      <td>Coffee</td>\n",
       "      <td>Brewed Coffee - Dark Roast</td>\n",
       "    </tr>\n",
       "    <tr>\n",
       "      <th>1</th>\n",
       "      <td>1</td>\n",
       "      <td>Hot</td>\n",
       "      <td>Coffee</td>\n",
       "      <td>Brewed Coffee - Decaf Pike Place Roast</td>\n",
       "    </tr>\n",
       "    <tr>\n",
       "      <th>2</th>\n",
       "      <td>2</td>\n",
       "      <td>Hot</td>\n",
       "      <td>Coffee</td>\n",
       "      <td>Brewed Coffee - Medium Roast</td>\n",
       "    </tr>\n",
       "  </tbody>\n",
       "</table>\n",
       "</div>"
      ],
      "text/plain": [
       "   Unnamed: 0 Temperature Category                            Product_Name\n",
       "0           0         Hot   Coffee              Brewed Coffee - Dark Roast\n",
       "1           1         Hot   Coffee  Brewed Coffee - Decaf Pike Place Roast\n",
       "2           2         Hot   Coffee            Brewed Coffee - Medium Roast"
      ]
     },
     "execution_count": 87,
     "metadata": {},
     "output_type": "execute_result"
    }
   ],
   "source": [
    "category_info.head(3)"
   ]
  },
  {
   "cell_type": "code",
   "execution_count": 114,
   "id": "9534db55-ceda-4df3-86f8-ac58443015e1",
   "metadata": {
    "execution": {
     "iopub.execute_input": "2022-12-12T13:58:32.091248Z",
     "iopub.status.busy": "2022-12-12T13:58:32.091248Z",
     "iopub.status.idle": "2022-12-12T13:58:32.104182Z",
     "shell.execute_reply": "2022-12-12T13:58:32.103183Z",
     "shell.execute_reply.started": "2022-12-12T13:58:32.091248Z"
    },
    "tags": []
   },
   "outputs": [
    {
     "data": {
      "text/plain": [
       "Beverage                object\n",
       "Product                 object\n",
       "Milk                    object\n",
       "Whip                    object\n",
       "Calories               float64\n",
       "Total_Fat              float64\n",
       "Saturated_Fat          float64\n",
       "Trans_Fat              float64\n",
       "Cholesterol              int64\n",
       "Sodium                   int64\n",
       "Total_Carbohydrates      int64\n",
       "Dietary_Fiber            int64\n",
       "Sugar                    int64\n",
       "Protein                float64\n",
       "Vitamin_A                int64\n",
       "Vitamin_C                int64\n",
       "Calcium                  int64\n",
       "Iron                     int64\n",
       "Caffeine                object\n",
       "dtype: object"
      ]
     },
     "execution_count": 114,
     "metadata": {},
     "output_type": "execute_result"
    }
   ],
   "source": [
    "starbucks_info.dtypes"
   ]
  },
  {
   "cell_type": "markdown",
   "id": "2903c966-b229-45a8-bd49-42e601eed818",
   "metadata": {},
   "source": [
    "# Develop Ontology"
   ]
  },
  {
   "cell_type": "markdown",
   "id": "0d684237-d238-4420-8de4-63ee72741958",
   "metadata": {},
   "source": [
    "## Create New Ontology\n",
    "* 새로운 온톨로지 생성(빈 온톨로지)"
   ]
  },
  {
   "cell_type": "code",
   "execution_count": 65,
   "id": "72c804e1-9795-4a14-8213-00dffb4e948d",
   "metadata": {
    "execution": {
     "iopub.execute_input": "2022-12-12T11:07:25.471060Z",
     "iopub.status.busy": "2022-12-12T11:07:25.470062Z",
     "iopub.status.idle": "2022-12-12T11:07:25.477044Z",
     "shell.execute_reply": "2022-12-12T11:07:25.476047Z",
     "shell.execute_reply.started": "2022-12-12T11:07:25.471060Z"
    },
    "tags": []
   },
   "outputs": [],
   "source": [
    "ontology_name = 'http://test.org/starbucks.owl'\n",
    "onto = get_ontology(ontology_name)"
   ]
  },
  {
   "cell_type": "markdown",
   "id": "59da7c05-1008-4efd-b8eb-5cd3a54cf5f2",
   "metadata": {},
   "source": [
    "## Class & Properties 생성"
   ]
  },
  {
   "cell_type": "markdown",
   "id": "da3d9f37-883d-4c7c-a852-44fd9939e257",
   "metadata": {},
   "source": [
    "### Class 선언"
   ]
  },
  {
   "cell_type": "code",
   "execution_count": 98,
   "id": "f363c172-660f-4f5f-a010-4e4208375068",
   "metadata": {
    "execution": {
     "iopub.execute_input": "2022-12-12T13:37:24.409168Z",
     "iopub.status.busy": "2022-12-12T13:37:24.409168Z",
     "iopub.status.idle": "2022-12-12T13:37:24.414154Z",
     "shell.execute_reply": "2022-12-12T13:37:24.414154Z",
     "shell.execute_reply.started": "2022-12-12T13:37:24.409168Z"
    },
    "tags": []
   },
   "outputs": [],
   "source": [
    "# class 선언\n",
    "with onto:\n",
    "    class Beverage(Thing):\n",
    "        pass\n",
    "    \n",
    "    class Category(Thing):\n",
    "        pass\n",
    "    \n",
    "    class AddOns(Thing):\n",
    "        pass"
   ]
  },
  {
   "cell_type": "markdown",
   "id": "d826f641-ccf5-4331-b689-821d0b135b17",
   "metadata": {},
   "source": [
    "### Property 선언"
   ]
  },
  {
   "cell_type": "code",
   "execution_count": 115,
   "id": "e7eed55d-ee52-447d-88f3-1bda355eddfe",
   "metadata": {
    "execution": {
     "iopub.execute_input": "2022-12-12T13:58:43.680654Z",
     "iopub.status.busy": "2022-12-12T13:58:43.679657Z",
     "iopub.status.idle": "2022-12-12T13:58:43.696612Z",
     "shell.execute_reply": "2022-12-12T13:58:43.694616Z",
     "shell.execute_reply.started": "2022-12-12T13:58:43.680654Z"
    },
    "tags": []
   },
   "outputs": [],
   "source": [
    "# Beverage properties\n",
    "with onto:\n",
    "    #### 밀크, 휩, 카테고리 ####\n",
    "    class has_Beverage_name(DataProperty):\n",
    "        domain = [Beverage]\n",
    "        range = [str]\n",
    "    \n",
    "    class has_Milk(DataProperty):\n",
    "        domain = [Beverage]\n",
    "        range = [str]\n",
    "        \n",
    "    class has_Whip(DataProperty):\n",
    "        domain = [Beverage]\n",
    "        range = [str]\n",
    "        \n",
    "    class category(ObjectProperty):\n",
    "        domain = [Beverage]\n",
    "        range = [Category]\n",
    "        \n",
    "    #### 영양분 ####\n",
    "    class has_Calories(DataProperty):\n",
    "        domain = [Beverage]\n",
    "        range = [float]\n",
    "\n",
    "    class has_Total_Fat(DataProperty):\n",
    "        domain = [Beverage]\n",
    "        range = [float]\n",
    "        \n",
    "    class has_Saturated_Fat(DataProperty):\n",
    "        domain = [Beverage]\n",
    "        range = [float]\n",
    "        \n",
    "    class has_Trans_Fat(DataProperty):\n",
    "        domain = [Beverage]\n",
    "        range = [float]\n",
    "        \n",
    "    class has_Cholesterol(DataProperty):\n",
    "        domain = [Beverage]\n",
    "        range = [float]\n",
    "        \n",
    "    class has_Sodium(DataProperty):\n",
    "        domain = [Beverage]\n",
    "        range = [float]\n",
    "        \n",
    "    class has_Total_Carbohydrates(DataProperty):\n",
    "        domain = [Beverage]\n",
    "        range = [float]\n",
    "        \n",
    "    class has_Dietary_Fiber(DataProperty):\n",
    "        domain = [Beverage]\n",
    "        range = [float]\n",
    "        \n",
    "    class has_Sugar(DataProperty):\n",
    "        domain = [Beverage]\n",
    "        range = [float]\n",
    "        \n",
    "    class has_Protein(DataProperty):\n",
    "        domain = [Beverage]\n",
    "        range = [float]\n",
    "        \n",
    "    class has_Vitamin_A(DataProperty):\n",
    "        domain = [Beverage]\n",
    "        range = [float]\n",
    "        \n",
    "    class has_Vitamin_C(DataProperty):\n",
    "        domain = [Beverage]\n",
    "        range = [float]\n",
    "        \n",
    "    class has_Calcium(DataProperty):\n",
    "        domain = [Beverage]\n",
    "        range = [float]\n",
    "        \n",
    "    class has_Iron(DataProperty):\n",
    "        domain = [Beverage]\n",
    "        range = [float]\n",
    "        \n",
    "    class has_Caffeine(DataProperty):\n",
    "        domain = [Beverage]\n",
    "        range = [float]"
   ]
  },
  {
   "cell_type": "code",
   "execution_count": 100,
   "id": "50e881ea-a9df-4d21-813c-a3c53ac6c48e",
   "metadata": {
    "execution": {
     "iopub.execute_input": "2022-12-12T13:37:33.973231Z",
     "iopub.status.busy": "2022-12-12T13:37:33.973231Z",
     "iopub.status.idle": "2022-12-12T13:37:33.984166Z",
     "shell.execute_reply": "2022-12-12T13:37:33.983196Z",
     "shell.execute_reply.started": "2022-12-12T13:37:33.973231Z"
    },
    "tags": []
   },
   "outputs": [],
   "source": [
    "# AddOns properties\n",
    "with onto:\n",
    "    class has_AddOns_name(DataProperty):\n",
    "        domain = [AddOns]\n",
    "        range = [str]\n",
    "        \n",
    "    #### 영양분 ####\n",
    "    class has_Calories(DataProperty):\n",
    "        domain = [AddOns]\n",
    "        range = [int]\n",
    "\n",
    "    class has_Total_Fat(DataProperty):\n",
    "        domain = [AddOns]\n",
    "        range = [float]\n",
    "        \n",
    "    class has_Saturated_Fat(DataProperty):\n",
    "        domain = [AddOns]\n",
    "        range = [float]\n",
    "        \n",
    "    class has_Trans_Fat(DataProperty):\n",
    "        domain = [AddOns]\n",
    "        range = [float]\n",
    "        \n",
    "    class has_Cholesterol(DataProperty):\n",
    "        domain = [AddOns]\n",
    "        range = [float]\n",
    "        \n",
    "    class has_Sodium(DataProperty):\n",
    "        domain = [AddOns]\n",
    "        range = [float]\n",
    "        \n",
    "    class has_Total_Carbohydrates(DataProperty):\n",
    "        domain = [AddOns]\n",
    "        range = [float]\n",
    "        \n",
    "    class has_Dietary_Fiber(DataProperty):\n",
    "        domain = [AddOns]\n",
    "        range = [float]\n",
    "        \n",
    "    class has_Sugar(DataProperty):\n",
    "        domain = [AddOns]\n",
    "        range = [float]\n",
    "        \n",
    "    class has_Protein(DataProperty):\n",
    "        domain = [AddOns]\n",
    "        range = [float]\n",
    "        \n",
    "    class has_Vitamin_A(DataProperty):\n",
    "        domain = [AddOns]\n",
    "        range = [float]\n",
    "        \n",
    "    class has_Vitamin_C(DataProperty):\n",
    "        domain = [AddOns]\n",
    "        range = [float]\n",
    "        \n",
    "    class has_Calcium(DataProperty):\n",
    "        domain = [AddOns]\n",
    "        range = [float]\n",
    "        \n",
    "    class has_Iron(DataProperty):\n",
    "        domain = [AddOns]\n",
    "        range = [float]\n",
    "        \n",
    "    class has_Caffeine(DataProperty):\n",
    "        domain = [AddOns]\n",
    "        range = [float]"
   ]
  },
  {
   "cell_type": "markdown",
   "id": "6f1990ea-297e-4fb5-985b-4409faf099f1",
   "metadata": {},
   "source": [
    "## 개별 데이터 투입"
   ]
  },
  {
   "cell_type": "markdown",
   "id": "03ccd78b-40bf-4a9f-9e3e-7a2eba84b4b8",
   "metadata": {},
   "source": [
    "### 함수 정의"
   ]
  },
  {
   "cell_type": "code",
   "execution_count": 116,
   "id": "06cf20cd-d256-4daf-ae44-1f8e9970d560",
   "metadata": {
    "execution": {
     "iopub.execute_input": "2022-12-12T13:58:48.886471Z",
     "iopub.status.busy": "2022-12-12T13:58:48.886471Z",
     "iopub.status.idle": "2022-12-12T13:58:48.902428Z",
     "shell.execute_reply": "2022-12-12T13:58:48.901429Z",
     "shell.execute_reply.started": "2022-12-12T13:58:48.886471Z"
    },
    "tags": []
   },
   "outputs": [],
   "source": [
    "def create_Beverage(name:str, Category:str, Milk:str, Whip:str, Calories, Total_Fat, Saturated_Fat, Trans_Fat, Cholesterol, Sodium, Total_Carbohydrates, Dietary_Fiber, Sugar, Protein, Vitamin_A, Vitamin_C, Calcium, Iron, Caffeine):\n",
    "    \"\"\"음료 정보 투입 함수\"\"\"\n",
    "    \n",
    "    new_Beverage = Beverage(name)\n",
    "    new_Beverage.has_Beverage_name.append(name)\n",
    "    new_Beverage.has_Milk.append(Milk)\n",
    "    new_Beverage.has_Whip.append(Whip)\n",
    "    new_Beverage.has_Calories.append(Calories)\n",
    "    new_Beverage.has_Total_Fat.append(Total_Fat)\n",
    "    new_Beverage.has_Saturated_Fat.append(Saturated_Fat)\n",
    "    new_Beverage.has_Trans_Fat.append(Trans_Fat)\n",
    "    new_Beverage.has_Cholesterol.append(Cholesterol)\n",
    "    new_Beverage.has_Sodium.append(Sodium)\n",
    "    new_Beverage.has_Total_Carbohydrates.append(Total_Carbohydrates)\n",
    "    new_Beverage.has_Dietary_Fiber.append(Dietary_Fiber)\n",
    "    new_Beverage.has_Sugar.append(Sugar)\n",
    "    new_Beverage.has_Protein.append(Protein)\n",
    "    new_Beverage.has_Vitamin_A.append(Vitamin_A)\n",
    "    new_Beverage.has_Vitamin_C.append(Vitamin_C)\n",
    "    new_Beverage.has_Calcium.append(Calcium)\n",
    "    new_Beverage.has_Iron.append(Iron)\n",
    "    new_Beverage.has_Caffeine.append(Caffeine)\n",
    "    \n",
    "    #new_Beverage.Category.append(Category_info(Category))\n",
    "    \n",
    "    return new_Beverage"
   ]
  },
  {
   "cell_type": "code",
   "execution_count": 108,
   "id": "3742f546-2044-4e0c-b790-15037da3d243",
   "metadata": {
    "execution": {
     "iopub.execute_input": "2022-12-12T13:53:44.157633Z",
     "iopub.status.busy": "2022-12-12T13:53:44.156637Z",
     "iopub.status.idle": "2022-12-12T13:53:44.177579Z",
     "shell.execute_reply": "2022-12-12T13:53:44.176582Z",
     "shell.execute_reply.started": "2022-12-12T13:53:44.157633Z"
    },
    "tags": []
   },
   "outputs": [],
   "source": [
    "def create_AddOns(name:str, Calories, Total_Fat, Saturated_Fat, Trans_Fat, Cholesterol, Sodium, Total_Carbohydrates, Dietary_Fiber, Sugar, Protein, Vitamin_A, Vitamin_C, Calcium, Iron, Caffeine):\n",
    "    \"\"\"애드온 정보 투입 함수\"\"\"\n",
    "    \n",
    "    new_AddOns = AddOns(name)\n",
    "    new_AddOns.has_AddOns_name.append(name)\n",
    "    new_AddOns.has_Milk.append(Milk)\n",
    "    new_AddOns.has_Whip.append(Whip)\n",
    "    new_AddOns.has_Calories.append(Calories)\n",
    "    new_AddOns.has_Total_Fat.append(Total_Fat)\n",
    "    new_AddOns.has_Saturated_Fat.append(Saturated_Fat)\n",
    "    new_AddOns.has_Trans_Fat.append(Trans_Fat)\n",
    "    new_AddOns.has_Cholesterol.append(Cholesterol)\n",
    "    new_AddOns.has_Sodium.append(Sodium)\n",
    "    new_AddOns.has_Total_Carbohydrates.append(Total_Carbohydrates)\n",
    "    new_AddOns.has_Dietary_Fiber.append(Dietary_Fiber)\n",
    "    new_AddOns.has_Sugar.append(Sugar)\n",
    "    new_AddOns.has_Protein.append(Protein)\n",
    "    new_AddOns.has_Vitamin_A.append(Vitamin_A)\n",
    "    new_AddOns.has_Vitamin_C.append(Vitamin_C)\n",
    "    new_AddOns.has_Calcium.append(Calcium)\n",
    "    new_AddOns.has_Iron.append(Iron)\n",
    "    new_AddOns.has_Caffeine.append(Caffeine)\n",
    "    \n",
    "    #new_Beverage.Category.append(Category_info(Category))\n",
    "    \n",
    "    return new_AddOns"
   ]
  },
  {
   "cell_type": "markdown",
   "id": "585e5326-0f35-44fa-9333-80b19d148971",
   "metadata": {},
   "source": [
    "### 정보 나열"
   ]
  },
  {
   "cell_type": "code",
   "execution_count": 117,
   "id": "00a3ed39-0dd3-416a-a694-df15eda8fe40",
   "metadata": {
    "execution": {
     "iopub.execute_input": "2022-12-12T13:58:55.213098Z",
     "iopub.status.busy": "2022-12-12T13:58:55.213098Z",
     "iopub.status.idle": "2022-12-12T13:58:55.250030Z",
     "shell.execute_reply": "2022-12-12T13:58:55.247011Z",
     "shell.execute_reply.started": "2022-12-12T13:58:55.213098Z"
    },
    "tags": []
   },
   "outputs": [
    {
     "ename": "ValueError",
     "evalue": "Cannot store literal '0.1' of type '<class 'numpy.float64'>'!",
     "output_type": "error",
     "traceback": [
      "\u001b[1;31m---------------------------------------------------------------------------\u001b[0m",
      "\u001b[1;31mValueError\u001b[0m                                Traceback (most recent call last)",
      "\u001b[1;32m<ipython-input-117-09de87528f33>\u001b[0m in \u001b[0;36m<module>\u001b[1;34m\u001b[0m\n\u001b[0;32m     24\u001b[0m     \u001b[0mcur_Caffeine\u001b[0m \u001b[1;33m=\u001b[0m \u001b[0mstarbucks_info\u001b[0m\u001b[1;33m[\u001b[0m\u001b[1;34m'Caffeine'\u001b[0m\u001b[1;33m]\u001b[0m\u001b[1;33m.\u001b[0m\u001b[0miloc\u001b[0m\u001b[1;33m[\u001b[0m\u001b[0mi\u001b[0m\u001b[1;33m]\u001b[0m\u001b[1;33m\u001b[0m\u001b[1;33m\u001b[0m\u001b[0m\n\u001b[0;32m     25\u001b[0m \u001b[1;33m\u001b[0m\u001b[0m\n\u001b[1;32m---> 26\u001b[1;33m     new_Beverage = create_Beverage(cur_name, cur_Category, cur_Milk, cur_Whip, cur_Calories, cur_Total_Fat, cur_Saturated_Fat, cur_Trans_Fat,\n\u001b[0m\u001b[0;32m     27\u001b[0m                                    \u001b[0mcur_Cholesterol\u001b[0m\u001b[1;33m,\u001b[0m \u001b[0mcur_Sodium\u001b[0m\u001b[1;33m,\u001b[0m \u001b[0mcur_Total_Carbohydrates\u001b[0m\u001b[1;33m,\u001b[0m \u001b[0mcur_Dietary_Fiber\u001b[0m\u001b[1;33m,\u001b[0m \u001b[0mcur_Sugar\u001b[0m\u001b[1;33m,\u001b[0m \u001b[0mcur_Protein\u001b[0m\u001b[1;33m,\u001b[0m\u001b[1;33m\u001b[0m\u001b[1;33m\u001b[0m\u001b[0m\n\u001b[0;32m     28\u001b[0m                                    cur_Vitamin_A, cur_Vitamin_C, cur_Calcium, cur_Iron, cur_Caffeine)\n",
      "\u001b[1;32m<ipython-input-116-d14f73bad72f>\u001b[0m in \u001b[0;36mcreate_Beverage\u001b[1;34m(name, Category, Milk, Whip, Calories, Total_Fat, Saturated_Fat, Trans_Fat, Cholesterol, Sodium, Total_Carbohydrates, Dietary_Fiber, Sugar, Protein, Vitamin_A, Vitamin_C, Calcium, Iron, Caffeine)\u001b[0m\n\u001b[0;32m      7\u001b[0m     \u001b[0mnew_Beverage\u001b[0m\u001b[1;33m.\u001b[0m\u001b[0mhas_Whip\u001b[0m\u001b[1;33m.\u001b[0m\u001b[0mappend\u001b[0m\u001b[1;33m(\u001b[0m\u001b[0mWhip\u001b[0m\u001b[1;33m)\u001b[0m\u001b[1;33m\u001b[0m\u001b[1;33m\u001b[0m\u001b[0m\n\u001b[0;32m      8\u001b[0m     \u001b[0mnew_Beverage\u001b[0m\u001b[1;33m.\u001b[0m\u001b[0mhas_Calories\u001b[0m\u001b[1;33m.\u001b[0m\u001b[0mappend\u001b[0m\u001b[1;33m(\u001b[0m\u001b[0mCalories\u001b[0m\u001b[1;33m)\u001b[0m\u001b[1;33m\u001b[0m\u001b[1;33m\u001b[0m\u001b[0m\n\u001b[1;32m----> 9\u001b[1;33m     \u001b[0mnew_Beverage\u001b[0m\u001b[1;33m.\u001b[0m\u001b[0mhas_Total_Fat\u001b[0m\u001b[1;33m.\u001b[0m\u001b[0mappend\u001b[0m\u001b[1;33m(\u001b[0m\u001b[0mTotal_Fat\u001b[0m\u001b[1;33m)\u001b[0m\u001b[1;33m\u001b[0m\u001b[1;33m\u001b[0m\u001b[0m\n\u001b[0m\u001b[0;32m     10\u001b[0m     \u001b[0mnew_Beverage\u001b[0m\u001b[1;33m.\u001b[0m\u001b[0mhas_Saturated_Fat\u001b[0m\u001b[1;33m.\u001b[0m\u001b[0mappend\u001b[0m\u001b[1;33m(\u001b[0m\u001b[0mSaturated_Fat\u001b[0m\u001b[1;33m)\u001b[0m\u001b[1;33m\u001b[0m\u001b[1;33m\u001b[0m\u001b[0m\n\u001b[0;32m     11\u001b[0m     \u001b[0mnew_Beverage\u001b[0m\u001b[1;33m.\u001b[0m\u001b[0mhas_Trans_Fat\u001b[0m\u001b[1;33m.\u001b[0m\u001b[0mappend\u001b[0m\u001b[1;33m(\u001b[0m\u001b[0mTrans_Fat\u001b[0m\u001b[1;33m)\u001b[0m\u001b[1;33m\u001b[0m\u001b[1;33m\u001b[0m\u001b[0m\n",
      "\u001b[1;32mC:\\dev\\Anaconda_3\\lib\\site-packages\\owlready2\\util.py\u001b[0m in \u001b[0;36mappend\u001b[1;34m(self, x)\u001b[0m\n\u001b[0;32m     75\u001b[0m   \u001b[1;32mdef\u001b[0m \u001b[0m_replace\u001b[0m\u001b[1;33m(\u001b[0m\u001b[0mself\u001b[0m\u001b[1;33m,\u001b[0m \u001b[0mold\u001b[0m\u001b[1;33m,\u001b[0m \u001b[0mnew\u001b[0m\u001b[1;33m)\u001b[0m\u001b[1;33m:\u001b[0m \u001b[0msuper\u001b[0m\u001b[1;33m(\u001b[0m\u001b[1;33m)\u001b[0m\u001b[1;33m.\u001b[0m\u001b[0m__setitem__\u001b[0m\u001b[1;33m(\u001b[0m\u001b[0mself\u001b[0m\u001b[1;33m.\u001b[0m\u001b[0mindex\u001b[0m\u001b[1;33m(\u001b[0m\u001b[0mold\u001b[0m\u001b[1;33m)\u001b[0m\u001b[1;33m,\u001b[0m \u001b[0mnew\u001b[0m\u001b[1;33m)\u001b[0m\u001b[1;33m\u001b[0m\u001b[1;33m\u001b[0m\u001b[0m\n\u001b[0;32m     76\u001b[0m   \u001b[1;32mdef\u001b[0m \u001b[0mreinit\u001b[0m\u001b[1;33m(\u001b[0m\u001b[0mself\u001b[0m\u001b[1;33m,\u001b[0m \u001b[0ml\u001b[0m\u001b[1;33m)\u001b[0m\u001b[1;33m:\u001b[0m          \u001b[0mold\u001b[0m \u001b[1;33m=\u001b[0m \u001b[0mlist\u001b[0m\u001b[1;33m(\u001b[0m\u001b[0mself\u001b[0m\u001b[1;33m)\u001b[0m\u001b[1;33m;\u001b[0m \u001b[0msuper\u001b[0m\u001b[1;33m(\u001b[0m\u001b[1;33m)\u001b[0m\u001b[1;33m.\u001b[0m\u001b[0m__init__\u001b[0m\u001b[1;33m(\u001b[0m\u001b[0ml\u001b[0m\u001b[1;33m)\u001b[0m       \u001b[1;33m;\u001b[0m \u001b[0mself\u001b[0m\u001b[1;33m.\u001b[0m\u001b[0m_callback\u001b[0m\u001b[1;33m(\u001b[0m\u001b[0mself\u001b[0m\u001b[1;33m.\u001b[0m\u001b[0m_obj\u001b[0m\u001b[1;33m,\u001b[0m \u001b[0mold\u001b[0m\u001b[1;33m)\u001b[0m\u001b[1;33m\u001b[0m\u001b[1;33m\u001b[0m\u001b[0m\n\u001b[1;32m---> 77\u001b[1;33m   \u001b[1;32mdef\u001b[0m \u001b[0mappend\u001b[0m\u001b[1;33m(\u001b[0m\u001b[0mself\u001b[0m\u001b[1;33m,\u001b[0m \u001b[0mx\u001b[0m\u001b[1;33m)\u001b[0m\u001b[1;33m:\u001b[0m          \u001b[0mold\u001b[0m \u001b[1;33m=\u001b[0m \u001b[0mlist\u001b[0m\u001b[1;33m(\u001b[0m\u001b[0mself\u001b[0m\u001b[1;33m)\u001b[0m\u001b[1;33m;\u001b[0m \u001b[0msuper\u001b[0m\u001b[1;33m(\u001b[0m\u001b[1;33m)\u001b[0m\u001b[1;33m.\u001b[0m\u001b[0mappend\u001b[0m\u001b[1;33m(\u001b[0m\u001b[0mx\u001b[0m\u001b[1;33m)\u001b[0m         \u001b[1;33m;\u001b[0m \u001b[0mself\u001b[0m\u001b[1;33m.\u001b[0m\u001b[0m_callback\u001b[0m\u001b[1;33m(\u001b[0m\u001b[0mself\u001b[0m\u001b[1;33m.\u001b[0m\u001b[0m_obj\u001b[0m\u001b[1;33m,\u001b[0m \u001b[0mold\u001b[0m\u001b[1;33m)\u001b[0m\u001b[1;33m\u001b[0m\u001b[1;33m\u001b[0m\u001b[0m\n\u001b[0m\u001b[0;32m     78\u001b[0m   \u001b[1;32mdef\u001b[0m \u001b[0minsert\u001b[0m\u001b[1;33m(\u001b[0m\u001b[0mself\u001b[0m\u001b[1;33m,\u001b[0m \u001b[0mi\u001b[0m\u001b[1;33m,\u001b[0m \u001b[0mx\u001b[0m\u001b[1;33m)\u001b[0m\u001b[1;33m:\u001b[0m       \u001b[0mold\u001b[0m \u001b[1;33m=\u001b[0m \u001b[0mlist\u001b[0m\u001b[1;33m(\u001b[0m\u001b[0mself\u001b[0m\u001b[1;33m)\u001b[0m\u001b[1;33m;\u001b[0m \u001b[0msuper\u001b[0m\u001b[1;33m(\u001b[0m\u001b[1;33m)\u001b[0m\u001b[1;33m.\u001b[0m\u001b[0minsert\u001b[0m\u001b[1;33m(\u001b[0m\u001b[0mi\u001b[0m\u001b[1;33m,\u001b[0m \u001b[0mx\u001b[0m\u001b[1;33m)\u001b[0m      \u001b[1;33m;\u001b[0m \u001b[0mself\u001b[0m\u001b[1;33m.\u001b[0m\u001b[0m_callback\u001b[0m\u001b[1;33m(\u001b[0m\u001b[0mself\u001b[0m\u001b[1;33m.\u001b[0m\u001b[0m_obj\u001b[0m\u001b[1;33m,\u001b[0m \u001b[0mold\u001b[0m\u001b[1;33m)\u001b[0m\u001b[1;33m\u001b[0m\u001b[1;33m\u001b[0m\u001b[0m\n\u001b[0;32m     79\u001b[0m   \u001b[1;32mdef\u001b[0m \u001b[0mextend\u001b[0m\u001b[1;33m(\u001b[0m\u001b[0mself\u001b[0m\u001b[1;33m,\u001b[0m \u001b[0ml\u001b[0m\u001b[1;33m)\u001b[0m\u001b[1;33m:\u001b[0m          \u001b[0mold\u001b[0m \u001b[1;33m=\u001b[0m \u001b[0mlist\u001b[0m\u001b[1;33m(\u001b[0m\u001b[0mself\u001b[0m\u001b[1;33m)\u001b[0m\u001b[1;33m;\u001b[0m \u001b[0msuper\u001b[0m\u001b[1;33m(\u001b[0m\u001b[1;33m)\u001b[0m\u001b[1;33m.\u001b[0m\u001b[0mextend\u001b[0m\u001b[1;33m(\u001b[0m\u001b[0ml\u001b[0m\u001b[1;33m)\u001b[0m         \u001b[1;33m;\u001b[0m \u001b[0mself\u001b[0m\u001b[1;33m.\u001b[0m\u001b[0m_callback\u001b[0m\u001b[1;33m(\u001b[0m\u001b[0mself\u001b[0m\u001b[1;33m.\u001b[0m\u001b[0m_obj\u001b[0m\u001b[1;33m,\u001b[0m \u001b[0mold\u001b[0m\u001b[1;33m)\u001b[0m\u001b[1;33m\u001b[0m\u001b[1;33m\u001b[0m\u001b[0m\n",
      "\u001b[1;32mC:\\dev\\Anaconda_3\\lib\\site-packages\\owlready2\\prop.py\u001b[0m in \u001b[0;36m_callback\u001b[1;34m(self, obj, old)\u001b[0m\n\u001b[0;32m   1126\u001b[0m \u001b[1;33m\u001b[0m\u001b[0m\n\u001b[0;32m   1127\u001b[0m       \u001b[1;32mfor\u001b[0m \u001b[0madded\u001b[0m \u001b[1;32min\u001b[0m \u001b[0mnew\u001b[0m \u001b[1;33m-\u001b[0m \u001b[0mold\u001b[0m\u001b[1;33m:\u001b[0m\u001b[1;33m\u001b[0m\u001b[1;33m\u001b[0m\u001b[0m\n\u001b[1;32m-> 1128\u001b[1;33m         \u001b[0mobj\u001b[0m\u001b[1;33m.\u001b[0m\u001b[0mnamespace\u001b[0m\u001b[1;33m.\u001b[0m\u001b[0montology\u001b[0m\u001b[1;33m.\u001b[0m\u001b[0m_add_data_triple_spod\u001b[0m\u001b[1;33m(\u001b[0m\u001b[0mobj\u001b[0m\u001b[1;33m.\u001b[0m\u001b[0mstorid\u001b[0m\u001b[1;33m,\u001b[0m \u001b[0mself\u001b[0m\u001b[1;33m.\u001b[0m\u001b[0m_Prop\u001b[0m\u001b[1;33m.\u001b[0m\u001b[0mstorid\u001b[0m\u001b[1;33m,\u001b[0m \u001b[1;33m*\u001b[0m\u001b[0mobj\u001b[0m\u001b[1;33m.\u001b[0m\u001b[0mnamespace\u001b[0m\u001b[1;33m.\u001b[0m\u001b[0montology\u001b[0m\u001b[1;33m.\u001b[0m\u001b[0m_to_rdf\u001b[0m\u001b[1;33m(\u001b[0m\u001b[0madded\u001b[0m\u001b[1;33m)\u001b[0m\u001b[1;33m)\u001b[0m\u001b[1;33m\u001b[0m\u001b[1;33m\u001b[0m\u001b[0m\n\u001b[0m\u001b[0;32m   1129\u001b[0m \u001b[1;33m\u001b[0m\u001b[0m\n\u001b[0;32m   1130\u001b[0m     \u001b[1;32melse\u001b[0m\u001b[1;33m:\u001b[0m \u001b[1;31m#self._Prop._owl_type == owl_annotation_property:\u001b[0m\u001b[1;33m\u001b[0m\u001b[1;33m\u001b[0m\u001b[0m\n",
      "\u001b[1;32mC:\\dev\\Anaconda_3\\lib\\site-packages\\owlready2\\namespace.py\u001b[0m in \u001b[0;36m_to_rdf\u001b[1;34m(self, o)\u001b[0m\n\u001b[0;32m    282\u001b[0m     \u001b[0md\u001b[0m \u001b[1;33m=\u001b[0m \u001b[0m_universal_datatype_2_abbrev\u001b[0m\u001b[1;33m.\u001b[0m\u001b[0mget\u001b[0m\u001b[1;33m(\u001b[0m\u001b[0mo\u001b[0m\u001b[1;33m)\u001b[0m\u001b[1;33m\u001b[0m\u001b[1;33m\u001b[0m\u001b[0m\n\u001b[0;32m    283\u001b[0m     \u001b[1;32mif\u001b[0m \u001b[1;32mnot\u001b[0m \u001b[0md\u001b[0m \u001b[1;32mis\u001b[0m \u001b[1;32mNone\u001b[0m\u001b[1;33m:\u001b[0m \u001b[1;32mreturn\u001b[0m \u001b[0md\u001b[0m\u001b[1;33m,\u001b[0m \u001b[1;32mNone\u001b[0m\u001b[1;33m\u001b[0m\u001b[1;33m\u001b[0m\u001b[0m\n\u001b[1;32m--> 284\u001b[1;33m     \u001b[1;32mreturn\u001b[0m \u001b[0mto_literal\u001b[0m\u001b[1;33m(\u001b[0m\u001b[0mo\u001b[0m\u001b[1;33m)\u001b[0m\u001b[1;33m\u001b[0m\u001b[1;33m\u001b[0m\u001b[0m\n\u001b[0m\u001b[0;32m    285\u001b[0m \u001b[1;33m\u001b[0m\u001b[0m\n\u001b[0;32m    286\u001b[0m   \u001b[1;32mdef\u001b[0m \u001b[0mclasses\u001b[0m\u001b[1;33m(\u001b[0m\u001b[0mself\u001b[0m\u001b[1;33m)\u001b[0m\u001b[1;33m:\u001b[0m\u001b[1;33m\u001b[0m\u001b[1;33m\u001b[0m\u001b[0m\n",
      "\u001b[1;32mC:\\dev\\Anaconda_3\\lib\\site-packages\\owlready2\\base.py\u001b[0m in \u001b[0;36mto_literal\u001b[1;34m(o)\u001b[0m\n\u001b[0;32m     47\u001b[0m   \u001b[1;32mif\u001b[0m \u001b[0misinstance\u001b[0m\u001b[1;33m(\u001b[0m\u001b[0mo\u001b[0m\u001b[1;33m,\u001b[0m \u001b[0mlocstr\u001b[0m\u001b[1;33m)\u001b[0m \u001b[1;32mand\u001b[0m \u001b[0mo\u001b[0m\u001b[1;33m.\u001b[0m\u001b[0mlang\u001b[0m\u001b[1;33m:\u001b[0m \u001b[1;32mreturn\u001b[0m \u001b[0mo\u001b[0m\u001b[1;33m,\u001b[0m \u001b[1;34m\"@%s\"\u001b[0m \u001b[1;33m%\u001b[0m \u001b[0mo\u001b[0m\u001b[1;33m.\u001b[0m\u001b[0mlang\u001b[0m\u001b[1;33m\u001b[0m\u001b[1;33m\u001b[0m\u001b[0m\n\u001b[0;32m     48\u001b[0m   \u001b[0mdatatype\u001b[0m\u001b[1;33m,\u001b[0m \u001b[0munparser\u001b[0m \u001b[1;33m=\u001b[0m \u001b[0m_universal_datatype_2_abbrev_unparser\u001b[0m\u001b[1;33m.\u001b[0m\u001b[0mget\u001b[0m\u001b[1;33m(\u001b[0m\u001b[0mo\u001b[0m\u001b[1;33m.\u001b[0m\u001b[0m__class__\u001b[0m\u001b[1;33m)\u001b[0m \u001b[1;32mor\u001b[0m \u001b[1;33m(\u001b[0m\u001b[1;32mNone\u001b[0m\u001b[1;33m,\u001b[0m \u001b[1;32mNone\u001b[0m\u001b[1;33m)\u001b[0m\u001b[1;33m\u001b[0m\u001b[1;33m\u001b[0m\u001b[0m\n\u001b[1;32m---> 49\u001b[1;33m   \u001b[1;32mif\u001b[0m \u001b[0mdatatype\u001b[0m \u001b[1;32mis\u001b[0m \u001b[1;32mNone\u001b[0m\u001b[1;33m:\u001b[0m \u001b[1;32mraise\u001b[0m \u001b[0mValueError\u001b[0m\u001b[1;33m(\u001b[0m\u001b[1;34m\"Cannot store literal '%s' of type '%s'!\"\u001b[0m \u001b[1;33m%\u001b[0m \u001b[1;33m(\u001b[0m\u001b[0mo\u001b[0m\u001b[1;33m,\u001b[0m \u001b[0mtype\u001b[0m\u001b[1;33m(\u001b[0m\u001b[0mo\u001b[0m\u001b[1;33m)\u001b[0m\u001b[1;33m)\u001b[0m\u001b[1;33m)\u001b[0m\u001b[1;33m\u001b[0m\u001b[1;33m\u001b[0m\u001b[0m\n\u001b[0m\u001b[0;32m     50\u001b[0m   \u001b[1;32mreturn\u001b[0m \u001b[0munparser\u001b[0m\u001b[1;33m(\u001b[0m\u001b[0mo\u001b[0m\u001b[1;33m)\u001b[0m\u001b[1;33m,\u001b[0m \u001b[0mdatatype\u001b[0m\u001b[1;33m\u001b[0m\u001b[1;33m\u001b[0m\u001b[0m\n\u001b[0;32m     51\u001b[0m \u001b[1;33m\u001b[0m\u001b[0m\n",
      "\u001b[1;31mValueError\u001b[0m: Cannot store literal '0.1' of type '<class 'numpy.float64'>'!"
     ]
    }
   ],
   "source": [
    "# AddOn 정보 나열\n",
    "\n",
    "\n",
    "# Beverage 정보 넣기\n",
    "for i in range(len(starbucks_info)):\n",
    "    cur_name = starbucks_info['Beverage'].iloc[i]\n",
    "    cur_Category = starbucks_info['Product'].iloc[i]\n",
    "    cur_Milk = starbucks_info['Milk'].iloc[i]\n",
    "    cur_Whip = starbucks_info['Whip'].iloc[i]\n",
    "    cur_Calories = starbucks_info['Calories'].iloc[i]\n",
    "    cur_Total_Fat = starbucks_info['Total_Fat'].iloc[i]\n",
    "    cur_Saturated_Fat = starbucks_info['Saturated_Fat'].iloc[i]\n",
    "    cur_Trans_Fat = starbucks_info['Trans_Fat'].iloc[i]\n",
    "    cur_Cholesterol = starbucks_info['Cholesterol'].iloc[i]\n",
    "    cur_Sodium = starbucks_info['Sodium'].iloc[i]\n",
    "    cur_Total_Carbohydrates = starbucks_info['Total_Carbohydrates'].iloc[i]\n",
    "    cur_Dietary_Fiber = starbucks_info['Dietary_Fiber'].iloc[i]\n",
    "    cur_Sugar = starbucks_info['Sugar'].iloc[i]\n",
    "    cur_Protein = starbucks_info['Protein'].iloc[i]\n",
    "    cur_Vitamin_A = starbucks_info['Vitamin_A'].iloc[i]\n",
    "    cur_Vitamin_C = starbucks_info['Vitamin_C'].iloc[i]\n",
    "    cur_Calcium = starbucks_info['Calcium'].iloc[i]\n",
    "    cur_Iron = starbucks_info['Iron'].iloc[i]\n",
    "    cur_Caffeine = starbucks_info['Caffeine'].iloc[i]\n",
    "    \n",
    "    new_Beverage = create_Beverage(cur_name, cur_Category, cur_Milk, cur_Whip, cur_Calories, cur_Total_Fat, cur_Saturated_Fat, cur_Trans_Fat,\n",
    "                                   cur_Cholesterol, cur_Sodium, cur_Total_Carbohydrates, cur_Dietary_Fiber, cur_Sugar, cur_Protein,\n",
    "                                   cur_Vitamin_A, cur_Vitamin_C, cur_Calcium, cur_Iron, cur_Caffeine)"
   ]
  }
 ],
 "metadata": {
  "kernelspec": {
   "display_name": "Python 3",
   "language": "python",
   "name": "python3"
  },
  "language_info": {
   "codemirror_mode": {
    "name": "ipython",
    "version": 3
   },
   "file_extension": ".py",
   "mimetype": "text/x-python",
   "name": "python",
   "nbconvert_exporter": "python",
   "pygments_lexer": "ipython3",
   "version": "3.8.8"
  }
 },
 "nbformat": 4,
 "nbformat_minor": 5
}
