{
 "cells": [
  {
   "cell_type": "markdown",
   "id": "2beece95-0abf-42fd-9253-48fa486e83a1",
   "metadata": {},
   "source": [
    "# Import"
   ]
  },
  {
   "cell_type": "code",
   "execution_count": 1,
   "id": "344d4e02-700c-4a1c-bccb-3ca9a9b0031c",
   "metadata": {
    "execution": {
     "iopub.execute_input": "2022-12-12T10:34:20.007981Z",
     "iopub.status.busy": "2022-12-12T10:34:20.007981Z",
     "iopub.status.idle": "2022-12-12T10:34:33.993003Z",
     "shell.execute_reply": "2022-12-12T10:34:33.992005Z",
     "shell.execute_reply.started": "2022-12-12T10:34:20.007981Z"
    },
    "tags": []
   },
   "outputs": [
    {
     "name": "stdout",
     "output_type": "stream",
     "text": [
      "Collecting owlready2\n",
      "  Downloading Owlready2-0.39.tar.gz (25.5 MB)\n",
      "     ---------------------------------------- 25.5/25.5 MB 6.6 MB/s eta 0:00:00\n",
      "  Preparing metadata (setup.py): started\n",
      "  Preparing metadata (setup.py): finished with status 'done'\n",
      "Building wheels for collected packages: owlready2\n",
      "  Building wheel for owlready2 (setup.py): started\n",
      "  Building wheel for owlready2 (setup.py): finished with status 'done'\n",
      "  Created wheel for owlready2: filename=Owlready2-0.39-py3-none-any.whl size=21517099 sha256=fc6974eb4477cb7e0d5e8280e9ae7326d6ad240592f4a236390ca7aef6ae457d\n",
      "  Stored in directory: c:\\users\\user\\appdata\\local\\pip\\cache\\wheels\\c0\\f5\\d2\\d6aecee2cbd7d72b34bc856a21fe21d37d9c6e6d97e069150e\n",
      "Successfully built owlready2\n",
      "Installing collected packages: owlready2\n",
      "Successfully installed owlready2-0.39\n"
     ]
    },
    {
     "name": "stderr",
     "output_type": "stream",
     "text": [
      "\n",
      "[notice] A new release of pip available: 22.3 -> 22.3.1\n",
      "[notice] To update, run: python.exe -m pip install --upgrade pip\n"
     ]
    }
   ],
   "source": [
    "#!pip install owlready2"
   ]
  },
  {
   "cell_type": "code",
   "execution_count": 2,
   "id": "10e0e9cc-5a9f-4bac-943d-ed558159a354",
   "metadata": {
    "execution": {
     "iopub.execute_input": "2022-12-12T10:34:48.500727Z",
     "iopub.status.busy": "2022-12-12T10:34:48.500727Z",
     "iopub.status.idle": "2022-12-12T10:34:50.791649Z",
     "shell.execute_reply": "2022-12-12T10:34:50.791649Z",
     "shell.execute_reply.started": "2022-12-12T10:34:48.500727Z"
    },
    "tags": []
   },
   "outputs": [
    {
     "name": "stderr",
     "output_type": "stream",
     "text": [
      "* Owlready2 * Warning: optimized Cython parser module 'owlready2_optimized' is not available, defaulting to slower Python implementation\n"
     ]
    }
   ],
   "source": [
    "from owlready2 import *\n",
    "import pandas as pd\n",
    "import os"
   ]
  },
  {
   "cell_type": "markdown",
   "id": "64a381ec-f81c-4636-b4bf-1d3047a3d091",
   "metadata": {},
   "source": [
    "# Load dataset"
   ]
  },
  {
   "cell_type": "code",
   "execution_count": 21,
   "id": "abc13a1c-b68b-4bb2-96eb-716c6ca22f6f",
   "metadata": {
    "execution": {
     "iopub.execute_input": "2022-12-12T10:54:49.997820Z",
     "iopub.status.busy": "2022-12-12T10:54:49.996825Z",
     "iopub.status.idle": "2022-12-12T10:54:50.015748Z",
     "shell.execute_reply": "2022-12-12T10:54:50.014748Z",
     "shell.execute_reply.started": "2022-12-12T10:54:49.997820Z"
    },
    "tags": []
   },
   "outputs": [],
   "source": [
    "data_dir = 'https://raw.githubusercontent.com/regenesis90/coursework/main/ontology_engineering/Dataset/Starbucks_Recent_Menus_Tall.csv'"
   ]
  },
  {
   "cell_type": "code",
   "execution_count": 22,
   "id": "be429309-1032-4d66-a75a-b05177221d22",
   "metadata": {
    "execution": {
     "iopub.execute_input": "2022-12-12T10:54:50.427890Z",
     "iopub.status.busy": "2022-12-12T10:54:50.427890Z",
     "iopub.status.idle": "2022-12-12T10:54:50.505191Z",
     "shell.execute_reply": "2022-12-12T10:54:50.504193Z",
     "shell.execute_reply.started": "2022-12-12T10:54:50.427890Z"
    },
    "tags": []
   },
   "outputs": [],
   "source": [
    "starbucks_info = pd.read_csv(data_dir)"
   ]
  },
  {
   "cell_type": "code",
   "execution_count": 30,
   "id": "586b18f1-c89f-4dc3-9692-921e1ca7c210",
   "metadata": {
    "execution": {
     "iopub.execute_input": "2022-12-12T11:00:16.929375Z",
     "iopub.status.busy": "2022-12-12T11:00:16.929375Z",
     "iopub.status.idle": "2022-12-12T11:00:16.940705Z",
     "shell.execute_reply": "2022-12-12T11:00:16.939719Z",
     "shell.execute_reply.started": "2022-12-12T11:00:16.929375Z"
    },
    "tags": []
   },
   "outputs": [],
   "source": [
    "starbucks_info.columns = [\n",
    "    'Temperature', 'Category', 'Product_Name', 'Milk', 'Whip', 'Calories',\n",
    "       'Total_Fat', 'Saturated_Fat', 'Trans_Fat', 'Cholesterol', 'Sodium',\n",
    "       'Total_Carbohydrates', 'Dietary_Fiber', 'Sugar', 'Protein', 'Vitamin_A',\n",
    "       'Vitamin_C', 'Calcium', 'Iron', 'Caffeine', 'Beverage']"
   ]
  },
  {
   "cell_type": "code",
   "execution_count": 32,
   "id": "9b695c91-af0b-4e5e-965d-40f16d2abcb4",
   "metadata": {
    "execution": {
     "iopub.execute_input": "2022-12-12T11:00:23.984905Z",
     "iopub.status.busy": "2022-12-12T11:00:23.984905Z",
     "iopub.status.idle": "2022-12-12T11:00:24.009774Z",
     "shell.execute_reply": "2022-12-12T11:00:24.007783Z",
     "shell.execute_reply.started": "2022-12-12T11:00:23.984905Z"
    },
    "tags": []
   },
   "outputs": [
    {
     "data": {
      "text/html": [
       "<div>\n",
       "<style scoped>\n",
       "    .dataframe tbody tr th:only-of-type {\n",
       "        vertical-align: middle;\n",
       "    }\n",
       "\n",
       "    .dataframe tbody tr th {\n",
       "        vertical-align: top;\n",
       "    }\n",
       "\n",
       "    .dataframe thead th {\n",
       "        text-align: right;\n",
       "    }\n",
       "</style>\n",
       "<table border=\"1\" class=\"dataframe\">\n",
       "  <thead>\n",
       "    <tr style=\"text-align: right;\">\n",
       "      <th></th>\n",
       "      <th>Temperature</th>\n",
       "      <th>Category</th>\n",
       "      <th>Product_Name</th>\n",
       "      <th>Milk</th>\n",
       "      <th>Whip</th>\n",
       "      <th>Calories</th>\n",
       "      <th>Total_Fat</th>\n",
       "      <th>Saturated_Fat</th>\n",
       "      <th>Trans_Fat</th>\n",
       "      <th>Cholesterol</th>\n",
       "      <th>...</th>\n",
       "      <th>Total_Carbohydrates</th>\n",
       "      <th>Dietary_Fiber</th>\n",
       "      <th>Sugar</th>\n",
       "      <th>Protein</th>\n",
       "      <th>Vitamin_A</th>\n",
       "      <th>Vitamin_C</th>\n",
       "      <th>Calcium</th>\n",
       "      <th>Iron</th>\n",
       "      <th>Caffeine</th>\n",
       "      <th>Beverage</th>\n",
       "    </tr>\n",
       "  </thead>\n",
       "  <tbody>\n",
       "    <tr>\n",
       "      <th>0</th>\n",
       "      <td>Hot</td>\n",
       "      <td>Coffee</td>\n",
       "      <td>Brewed Coffee - Dark Roast</td>\n",
       "      <td>NaN</td>\n",
       "      <td>NaN</td>\n",
       "      <td>4</td>\n",
       "      <td>0.1</td>\n",
       "      <td>0.0</td>\n",
       "      <td>0.0</td>\n",
       "      <td>0</td>\n",
       "      <td>...</td>\n",
       "      <td>0</td>\n",
       "      <td>0</td>\n",
       "      <td>0</td>\n",
       "      <td>0.5</td>\n",
       "      <td>0</td>\n",
       "      <td>0</td>\n",
       "      <td>0</td>\n",
       "      <td>0</td>\n",
       "      <td>193</td>\n",
       "      <td>NaN</td>\n",
       "    </tr>\n",
       "    <tr>\n",
       "      <th>1</th>\n",
       "      <td>Hot</td>\n",
       "      <td>Coffee</td>\n",
       "      <td>Brewed Coffee - Decaf Pike Place Roast</td>\n",
       "      <td>NaN</td>\n",
       "      <td>NaN</td>\n",
       "      <td>4</td>\n",
       "      <td>0.1</td>\n",
       "      <td>0.0</td>\n",
       "      <td>0.0</td>\n",
       "      <td>0</td>\n",
       "      <td>...</td>\n",
       "      <td>0</td>\n",
       "      <td>0</td>\n",
       "      <td>0</td>\n",
       "      <td>0.5</td>\n",
       "      <td>0</td>\n",
       "      <td>0</td>\n",
       "      <td>0</td>\n",
       "      <td>0</td>\n",
       "      <td>20</td>\n",
       "      <td>NaN</td>\n",
       "    </tr>\n",
       "    <tr>\n",
       "      <th>2</th>\n",
       "      <td>Hot</td>\n",
       "      <td>Coffee</td>\n",
       "      <td>Brewed Coffee - Medium Roast</td>\n",
       "      <td>NaN</td>\n",
       "      <td>NaN</td>\n",
       "      <td>4</td>\n",
       "      <td>0.1</td>\n",
       "      <td>0.0</td>\n",
       "      <td>0.0</td>\n",
       "      <td>0</td>\n",
       "      <td>...</td>\n",
       "      <td>0</td>\n",
       "      <td>0</td>\n",
       "      <td>0</td>\n",
       "      <td>0.5</td>\n",
       "      <td>0</td>\n",
       "      <td>0</td>\n",
       "      <td>0</td>\n",
       "      <td>0</td>\n",
       "      <td>235</td>\n",
       "      <td>NaN</td>\n",
       "    </tr>\n",
       "  </tbody>\n",
       "</table>\n",
       "<p>3 rows × 21 columns</p>\n",
       "</div>"
      ],
      "text/plain": [
       "  Temperature Category                            Product_Name Milk Whip  \\\n",
       "0         Hot   Coffee              Brewed Coffee - Dark Roast  NaN  NaN   \n",
       "1         Hot   Coffee  Brewed Coffee - Decaf Pike Place Roast  NaN  NaN   \n",
       "2         Hot   Coffee            Brewed Coffee - Medium Roast  NaN  NaN   \n",
       "\n",
       "   Calories  Total_Fat  Saturated_Fat  Trans_Fat  Cholesterol  ...  \\\n",
       "0         4        0.1            0.0        0.0            0  ...   \n",
       "1         4        0.1            0.0        0.0            0  ...   \n",
       "2         4        0.1            0.0        0.0            0  ...   \n",
       "\n",
       "   Total_Carbohydrates  Dietary_Fiber  Sugar  Protein  Vitamin_A  Vitamin_C  \\\n",
       "0                    0              0      0      0.5          0          0   \n",
       "1                    0              0      0      0.5          0          0   \n",
       "2                    0              0      0      0.5          0          0   \n",
       "\n",
       "   Calcium  Iron  Caffeine Beverage  \n",
       "0        0     0       193      NaN  \n",
       "1        0     0        20      NaN  \n",
       "2        0     0       235      NaN  \n",
       "\n",
       "[3 rows x 21 columns]"
      ]
     },
     "execution_count": 32,
     "metadata": {},
     "output_type": "execute_result"
    }
   ],
   "source": [
    "starbucks_info.head(3)"
   ]
  },
  {
   "cell_type": "code",
   "execution_count": 26,
   "id": "515e9b5e-394a-4790-8284-83aec532d0b6",
   "metadata": {
    "execution": {
     "iopub.execute_input": "2022-12-12T10:56:50.413215Z",
     "iopub.status.busy": "2022-12-12T10:56:50.413215Z",
     "iopub.status.idle": "2022-12-12T10:56:50.432140Z",
     "shell.execute_reply": "2022-12-12T10:56:50.431141Z",
     "shell.execute_reply.started": "2022-12-12T10:56:50.413215Z"
    },
    "tags": []
   },
   "outputs": [],
   "source": [
    "def fullname(product, milk):\n",
    "    if milk: # milk 값이 있으면\n",
    "        beverage = product + ' with ' + milk + ' Milk'\n",
    "        \n",
    "    else:\n",
    "        beverage = product\n",
    "        \n",
    "    return beverage"
   ]
  },
  {
   "cell_type": "code",
   "execution_count": 33,
   "id": "cee7be92-0a52-46d3-9f2b-42927adca631",
   "metadata": {
    "execution": {
     "iopub.execute_input": "2022-12-12T11:00:28.558982Z",
     "iopub.status.busy": "2022-12-12T11:00:28.558982Z",
     "iopub.status.idle": "2022-12-12T11:00:28.594880Z",
     "shell.execute_reply": "2022-12-12T11:00:28.592885Z",
     "shell.execute_reply.started": "2022-12-12T11:00:28.558982Z"
    },
    "tags": []
   },
   "outputs": [
    {
     "ename": "TypeError",
     "evalue": "can only concatenate str (not \"float\") to str",
     "output_type": "error",
     "traceback": [
      "\u001b[1;31m---------------------------------------------------------------------------\u001b[0m",
      "\u001b[1;31mTypeError\u001b[0m                                 Traceback (most recent call last)",
      "\u001b[1;32m<ipython-input-33-b28c74c88292>\u001b[0m in \u001b[0;36m<module>\u001b[1;34m\u001b[0m\n\u001b[1;32m----> 1\u001b[1;33m \u001b[0mstarbucks_info\u001b[0m\u001b[1;33m[\u001b[0m\u001b[1;34m'Beverage'\u001b[0m\u001b[1;33m]\u001b[0m \u001b[1;33m=\u001b[0m \u001b[0mstarbucks_info\u001b[0m\u001b[1;33m.\u001b[0m\u001b[0mapply\u001b[0m\u001b[1;33m(\u001b[0m\u001b[1;32mlambda\u001b[0m \u001b[0mx\u001b[0m\u001b[1;33m:\u001b[0m \u001b[0mfullname\u001b[0m\u001b[1;33m(\u001b[0m\u001b[0mx\u001b[0m\u001b[1;33m.\u001b[0m\u001b[0mProduct_Name\u001b[0m\u001b[1;33m,\u001b[0m \u001b[0mx\u001b[0m\u001b[1;33m.\u001b[0m\u001b[0mMilk\u001b[0m\u001b[1;33m)\u001b[0m\u001b[1;33m,\u001b[0m \u001b[0maxis\u001b[0m \u001b[1;33m=\u001b[0m \u001b[1;36m1\u001b[0m\u001b[1;33m)\u001b[0m\u001b[1;33m\u001b[0m\u001b[1;33m\u001b[0m\u001b[0m\n\u001b[0m",
      "\u001b[1;32mC:\\dev\\Anaconda_3\\lib\\site-packages\\pandas\\core\\frame.py\u001b[0m in \u001b[0;36mapply\u001b[1;34m(self, func, axis, raw, result_type, args, **kwargs)\u001b[0m\n\u001b[0;32m   9563\u001b[0m             \u001b[0mkwargs\u001b[0m\u001b[1;33m=\u001b[0m\u001b[0mkwargs\u001b[0m\u001b[1;33m,\u001b[0m\u001b[1;33m\u001b[0m\u001b[1;33m\u001b[0m\u001b[0m\n\u001b[0;32m   9564\u001b[0m         )\n\u001b[1;32m-> 9565\u001b[1;33m         \u001b[1;32mreturn\u001b[0m \u001b[0mop\u001b[0m\u001b[1;33m.\u001b[0m\u001b[0mapply\u001b[0m\u001b[1;33m(\u001b[0m\u001b[1;33m)\u001b[0m\u001b[1;33m.\u001b[0m\u001b[0m__finalize__\u001b[0m\u001b[1;33m(\u001b[0m\u001b[0mself\u001b[0m\u001b[1;33m,\u001b[0m \u001b[0mmethod\u001b[0m\u001b[1;33m=\u001b[0m\u001b[1;34m\"apply\"\u001b[0m\u001b[1;33m)\u001b[0m\u001b[1;33m\u001b[0m\u001b[1;33m\u001b[0m\u001b[0m\n\u001b[0m\u001b[0;32m   9566\u001b[0m \u001b[1;33m\u001b[0m\u001b[0m\n\u001b[0;32m   9567\u001b[0m     def applymap(\n",
      "\u001b[1;32mC:\\dev\\Anaconda_3\\lib\\site-packages\\pandas\\core\\apply.py\u001b[0m in \u001b[0;36mapply\u001b[1;34m(self)\u001b[0m\n\u001b[0;32m    744\u001b[0m             \u001b[1;32mreturn\u001b[0m \u001b[0mself\u001b[0m\u001b[1;33m.\u001b[0m\u001b[0mapply_raw\u001b[0m\u001b[1;33m(\u001b[0m\u001b[1;33m)\u001b[0m\u001b[1;33m\u001b[0m\u001b[1;33m\u001b[0m\u001b[0m\n\u001b[0;32m    745\u001b[0m \u001b[1;33m\u001b[0m\u001b[0m\n\u001b[1;32m--> 746\u001b[1;33m         \u001b[1;32mreturn\u001b[0m \u001b[0mself\u001b[0m\u001b[1;33m.\u001b[0m\u001b[0mapply_standard\u001b[0m\u001b[1;33m(\u001b[0m\u001b[1;33m)\u001b[0m\u001b[1;33m\u001b[0m\u001b[1;33m\u001b[0m\u001b[0m\n\u001b[0m\u001b[0;32m    747\u001b[0m \u001b[1;33m\u001b[0m\u001b[0m\n\u001b[0;32m    748\u001b[0m     \u001b[1;32mdef\u001b[0m \u001b[0magg\u001b[0m\u001b[1;33m(\u001b[0m\u001b[0mself\u001b[0m\u001b[1;33m)\u001b[0m\u001b[1;33m:\u001b[0m\u001b[1;33m\u001b[0m\u001b[1;33m\u001b[0m\u001b[0m\n",
      "\u001b[1;32mC:\\dev\\Anaconda_3\\lib\\site-packages\\pandas\\core\\apply.py\u001b[0m in \u001b[0;36mapply_standard\u001b[1;34m(self)\u001b[0m\n\u001b[0;32m    871\u001b[0m \u001b[1;33m\u001b[0m\u001b[0m\n\u001b[0;32m    872\u001b[0m     \u001b[1;32mdef\u001b[0m \u001b[0mapply_standard\u001b[0m\u001b[1;33m(\u001b[0m\u001b[0mself\u001b[0m\u001b[1;33m)\u001b[0m\u001b[1;33m:\u001b[0m\u001b[1;33m\u001b[0m\u001b[1;33m\u001b[0m\u001b[0m\n\u001b[1;32m--> 873\u001b[1;33m         \u001b[0mresults\u001b[0m\u001b[1;33m,\u001b[0m \u001b[0mres_index\u001b[0m \u001b[1;33m=\u001b[0m \u001b[0mself\u001b[0m\u001b[1;33m.\u001b[0m\u001b[0mapply_series_generator\u001b[0m\u001b[1;33m(\u001b[0m\u001b[1;33m)\u001b[0m\u001b[1;33m\u001b[0m\u001b[1;33m\u001b[0m\u001b[0m\n\u001b[0m\u001b[0;32m    874\u001b[0m \u001b[1;33m\u001b[0m\u001b[0m\n\u001b[0;32m    875\u001b[0m         \u001b[1;31m# wrap results\u001b[0m\u001b[1;33m\u001b[0m\u001b[1;33m\u001b[0m\u001b[1;33m\u001b[0m\u001b[0m\n",
      "\u001b[1;32mC:\\dev\\Anaconda_3\\lib\\site-packages\\pandas\\core\\apply.py\u001b[0m in \u001b[0;36mapply_series_generator\u001b[1;34m(self)\u001b[0m\n\u001b[0;32m    887\u001b[0m             \u001b[1;32mfor\u001b[0m \u001b[0mi\u001b[0m\u001b[1;33m,\u001b[0m \u001b[0mv\u001b[0m \u001b[1;32min\u001b[0m \u001b[0menumerate\u001b[0m\u001b[1;33m(\u001b[0m\u001b[0mseries_gen\u001b[0m\u001b[1;33m)\u001b[0m\u001b[1;33m:\u001b[0m\u001b[1;33m\u001b[0m\u001b[1;33m\u001b[0m\u001b[0m\n\u001b[0;32m    888\u001b[0m                 \u001b[1;31m# ignore SettingWithCopy here in case the user mutates\u001b[0m\u001b[1;33m\u001b[0m\u001b[1;33m\u001b[0m\u001b[1;33m\u001b[0m\u001b[0m\n\u001b[1;32m--> 889\u001b[1;33m                 \u001b[0mresults\u001b[0m\u001b[1;33m[\u001b[0m\u001b[0mi\u001b[0m\u001b[1;33m]\u001b[0m \u001b[1;33m=\u001b[0m \u001b[0mself\u001b[0m\u001b[1;33m.\u001b[0m\u001b[0mf\u001b[0m\u001b[1;33m(\u001b[0m\u001b[0mv\u001b[0m\u001b[1;33m)\u001b[0m\u001b[1;33m\u001b[0m\u001b[1;33m\u001b[0m\u001b[0m\n\u001b[0m\u001b[0;32m    890\u001b[0m                 \u001b[1;32mif\u001b[0m \u001b[0misinstance\u001b[0m\u001b[1;33m(\u001b[0m\u001b[0mresults\u001b[0m\u001b[1;33m[\u001b[0m\u001b[0mi\u001b[0m\u001b[1;33m]\u001b[0m\u001b[1;33m,\u001b[0m \u001b[0mABCSeries\u001b[0m\u001b[1;33m)\u001b[0m\u001b[1;33m:\u001b[0m\u001b[1;33m\u001b[0m\u001b[1;33m\u001b[0m\u001b[0m\n\u001b[0;32m    891\u001b[0m                     \u001b[1;31m# If we have a view on v, we need to make a copy because\u001b[0m\u001b[1;33m\u001b[0m\u001b[1;33m\u001b[0m\u001b[1;33m\u001b[0m\u001b[0m\n",
      "\u001b[1;32m<ipython-input-33-b28c74c88292>\u001b[0m in \u001b[0;36m<lambda>\u001b[1;34m(x)\u001b[0m\n\u001b[1;32m----> 1\u001b[1;33m \u001b[0mstarbucks_info\u001b[0m\u001b[1;33m[\u001b[0m\u001b[1;34m'Beverage'\u001b[0m\u001b[1;33m]\u001b[0m \u001b[1;33m=\u001b[0m \u001b[0mstarbucks_info\u001b[0m\u001b[1;33m.\u001b[0m\u001b[0mapply\u001b[0m\u001b[1;33m(\u001b[0m\u001b[1;32mlambda\u001b[0m \u001b[0mx\u001b[0m\u001b[1;33m:\u001b[0m \u001b[0mfullname\u001b[0m\u001b[1;33m(\u001b[0m\u001b[0mx\u001b[0m\u001b[1;33m.\u001b[0m\u001b[0mProduct_Name\u001b[0m\u001b[1;33m,\u001b[0m \u001b[0mx\u001b[0m\u001b[1;33m.\u001b[0m\u001b[0mMilk\u001b[0m\u001b[1;33m)\u001b[0m\u001b[1;33m,\u001b[0m \u001b[0maxis\u001b[0m \u001b[1;33m=\u001b[0m \u001b[1;36m1\u001b[0m\u001b[1;33m)\u001b[0m\u001b[1;33m\u001b[0m\u001b[1;33m\u001b[0m\u001b[0m\n\u001b[0m",
      "\u001b[1;32m<ipython-input-26-deeb313910da>\u001b[0m in \u001b[0;36mfullname\u001b[1;34m(product, milk)\u001b[0m\n\u001b[0;32m      1\u001b[0m \u001b[1;32mdef\u001b[0m \u001b[0mfullname\u001b[0m\u001b[1;33m(\u001b[0m\u001b[0mproduct\u001b[0m\u001b[1;33m,\u001b[0m \u001b[0mmilk\u001b[0m\u001b[1;33m)\u001b[0m\u001b[1;33m:\u001b[0m\u001b[1;33m\u001b[0m\u001b[1;33m\u001b[0m\u001b[0m\n\u001b[0;32m      2\u001b[0m     \u001b[1;32mif\u001b[0m \u001b[0mmilk\u001b[0m\u001b[1;33m:\u001b[0m \u001b[1;31m# milk 값이 있으면\u001b[0m\u001b[1;33m\u001b[0m\u001b[1;33m\u001b[0m\u001b[0m\n\u001b[1;32m----> 3\u001b[1;33m         \u001b[0mbeverage\u001b[0m \u001b[1;33m=\u001b[0m \u001b[0mproduct\u001b[0m \u001b[1;33m+\u001b[0m \u001b[1;34m' with '\u001b[0m \u001b[1;33m+\u001b[0m \u001b[0mmilk\u001b[0m \u001b[1;33m+\u001b[0m \u001b[1;34m' Milk'\u001b[0m\u001b[1;33m\u001b[0m\u001b[1;33m\u001b[0m\u001b[0m\n\u001b[0m\u001b[0;32m      4\u001b[0m \u001b[1;33m\u001b[0m\u001b[0m\n\u001b[0;32m      5\u001b[0m     \u001b[1;32melse\u001b[0m\u001b[1;33m:\u001b[0m\u001b[1;33m\u001b[0m\u001b[1;33m\u001b[0m\u001b[0m\n",
      "\u001b[1;31mTypeError\u001b[0m: can only concatenate str (not \"float\") to str"
     ]
    }
   ],
   "source": [
    "starbucks_info['Beverage'] = starbucks_info.apply(lambda x: fullname(x.Product_Name, x.Milk), axis = 1)"
   ]
  },
  {
   "cell_type": "markdown",
   "id": "2903c966-b229-45a8-bd49-42e601eed818",
   "metadata": {},
   "source": [
    "# Develop Ontology"
   ]
  },
  {
   "cell_type": "markdown",
   "id": "0d684237-d238-4420-8de4-63ee72741958",
   "metadata": {},
   "source": [
    "## Create New Ontology\n",
    "* 새로운 온톨로지 생성(빈 온톨로지)"
   ]
  },
  {
   "cell_type": "code",
   "execution_count": 8,
   "id": "72c804e1-9795-4a14-8213-00dffb4e948d",
   "metadata": {
    "execution": {
     "iopub.execute_input": "2022-12-12T10:39:33.303599Z",
     "iopub.status.busy": "2022-12-12T10:39:33.302603Z",
     "iopub.status.idle": "2022-12-12T10:39:33.313574Z",
     "shell.execute_reply": "2022-12-12T10:39:33.312603Z",
     "shell.execute_reply.started": "2022-12-12T10:39:33.303599Z"
    },
    "tags": []
   },
   "outputs": [],
   "source": [
    "ontology_name = 'http://test.org/starbucks.owl'\n",
    "onto = get_ontology(ontology_name)"
   ]
  },
  {
   "cell_type": "markdown",
   "id": "59da7c05-1008-4efd-b8eb-5cd3a54cf5f2",
   "metadata": {},
   "source": [
    "## Class & Properties 생성"
   ]
  },
  {
   "cell_type": "markdown",
   "id": "da3d9f37-883d-4c7c-a852-44fd9939e257",
   "metadata": {},
   "source": [
    "### Class 선언"
   ]
  },
  {
   "cell_type": "code",
   "execution_count": 11,
   "id": "f363c172-660f-4f5f-a010-4e4208375068",
   "metadata": {
    "execution": {
     "iopub.execute_input": "2022-12-12T10:44:06.604941Z",
     "iopub.status.busy": "2022-12-12T10:44:06.603930Z",
     "iopub.status.idle": "2022-12-12T10:44:06.612891Z",
     "shell.execute_reply": "2022-12-12T10:44:06.611893Z",
     "shell.execute_reply.started": "2022-12-12T10:44:06.604941Z"
    },
    "tags": []
   },
   "outputs": [],
   "source": [
    "# class 선언\n",
    "with onto:\n",
    "    class Beverage(Thing):\n",
    "        pass"
   ]
  },
  {
   "cell_type": "markdown",
   "id": "d826f641-ccf5-4331-b689-821d0b135b17",
   "metadata": {},
   "source": [
    "### Property 선언"
   ]
  },
  {
   "cell_type": "code",
   "execution_count": null,
   "id": "50e881ea-a9df-4d21-813c-a3c53ac6c48e",
   "metadata": {},
   "outputs": [],
   "source": [
    "# Beverage properties\n",
    "with onto:\n",
    "    class has_Calories(DataProperty):\n",
    "        domain = [Beverage]\n",
    "        range = [int]\n",
    "\n",
    "    class has_Total_Fat(DataProperty):\n",
    "        domain = [Beverage]\n",
    "        range = [float]\n",
    "        \n",
    "    class applied(ObjectProperty):\n",
    "        domain = [University]\n",
    "        range = [Student]"
   ]
  },
  {
   "cell_type": "code",
   "execution_count": null,
   "id": "117867a9-4825-4205-a58d-5c0321e9ea27",
   "metadata": {},
   "outputs": [],
   "source": [
    "# AddOns properties\n",
    "with onto:\n",
    "    class has_student_name(DataProperty):\n",
    "        domain = [Student]\n",
    "        range = [str]\n",
    "\n",
    "    class has_student_score(DataProperty):\n",
    "        domain = [Student]\n",
    "        range = [int]\n",
    "\n",
    "\n",
    "    class has_student_gender(DataProperty):\n",
    "        domain = [Student]\n",
    "        range = [bool]\n",
    "\n",
    "    class has_student_age(DataProperty):\n",
    "        domain = [Student]\n",
    "        range = [int]\n",
    "        \n",
    "    class apply(ObjectProperty):\n",
    "        domain = [Student]\n",
    "        range = [University]\n",
    "        inverse_property = applied"
   ]
  },
  {
   "cell_type": "code",
   "execution_count": null,
   "id": "fe549032-6636-4e21-aa1e-a1349ed360aa",
   "metadata": {},
   "outputs": [],
   "source": [
    "# Milk properties"
   ]
  }
 ],
 "metadata": {
  "kernelspec": {
   "display_name": "Python 3",
   "language": "python",
   "name": "python3"
  },
  "language_info": {
   "codemirror_mode": {
    "name": "ipython",
    "version": 3
   },
   "file_extension": ".py",
   "mimetype": "text/x-python",
   "name": "python",
   "nbconvert_exporter": "python",
   "pygments_lexer": "ipython3",
   "version": "3.8.8"
  }
 },
 "nbformat": 4,
 "nbformat_minor": 5
}
