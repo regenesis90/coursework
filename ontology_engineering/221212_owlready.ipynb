{
 "cells": [
  {
   "cell_type": "markdown",
   "id": "2beece95-0abf-42fd-9253-48fa486e83a1",
   "metadata": {},
   "source": [
    "# Import"
   ]
  },
  {
   "cell_type": "code",
   "execution_count": 1,
   "id": "344d4e02-700c-4a1c-bccb-3ca9a9b0031c",
   "metadata": {
    "execution": {
     "iopub.execute_input": "2022-12-13T06:17:41.850920Z",
     "iopub.status.busy": "2022-12-13T06:17:41.849943Z",
     "iopub.status.idle": "2022-12-13T06:17:41.866433Z",
     "shell.execute_reply": "2022-12-13T06:17:41.865441Z",
     "shell.execute_reply.started": "2022-12-13T06:17:41.850920Z"
    },
    "tags": []
   },
   "outputs": [],
   "source": [
    "#!pip install owlready2"
   ]
  },
  {
   "cell_type": "code",
   "execution_count": 2,
   "id": "10e0e9cc-5a9f-4bac-943d-ed558159a354",
   "metadata": {
    "execution": {
     "iopub.execute_input": "2022-12-13T06:17:41.867435Z",
     "iopub.status.busy": "2022-12-13T06:17:41.867435Z",
     "iopub.status.idle": "2022-12-13T06:17:42.451174Z",
     "shell.execute_reply": "2022-12-13T06:17:42.450208Z",
     "shell.execute_reply.started": "2022-12-13T06:17:41.867435Z"
    },
    "tags": []
   },
   "outputs": [
    {
     "name": "stderr",
     "output_type": "stream",
     "text": [
      "* Owlready2 * Warning: optimized Cython parser module 'owlready2_optimized' is not available, defaulting to slower Python implementation\n"
     ]
    }
   ],
   "source": [
    "from owlready2 import *\n",
    "import pandas as pd\n",
    "import numpy as np\n",
    "import os\n",
    "\n",
    "from tqdm import tqdm"
   ]
  },
  {
   "cell_type": "markdown",
   "id": "64a381ec-f81c-4636-b4bf-1d3047a3d091",
   "metadata": {},
   "source": [
    "# Load dataset"
   ]
  },
  {
   "cell_type": "code",
   "execution_count": 3,
   "id": "abc13a1c-b68b-4bb2-96eb-716c6ca22f6f",
   "metadata": {
    "execution": {
     "iopub.execute_input": "2022-12-13T06:17:42.452171Z",
     "iopub.status.busy": "2022-12-13T06:17:42.452171Z",
     "iopub.status.idle": "2022-12-13T06:17:42.466647Z",
     "shell.execute_reply": "2022-12-13T06:17:42.465649Z",
     "shell.execute_reply.started": "2022-12-13T06:17:42.452171Z"
    },
    "tags": []
   },
   "outputs": [],
   "source": [
    "menu_dir = 'https://raw.githubusercontent.com/regenesis90/coursework/main/ontology_engineering/Dataset/Starbucks_Recent_Menus_Tall.csv'"
   ]
  },
  {
   "cell_type": "code",
   "execution_count": 4,
   "id": "be429309-1032-4d66-a75a-b05177221d22",
   "metadata": {
    "execution": {
     "iopub.execute_input": "2022-12-13T06:17:42.468641Z",
     "iopub.status.busy": "2022-12-13T06:17:42.467644Z",
     "iopub.status.idle": "2022-12-13T06:17:43.013674Z",
     "shell.execute_reply": "2022-12-13T06:17:43.009685Z",
     "shell.execute_reply.started": "2022-12-13T06:17:42.468641Z"
    },
    "tags": []
   },
   "outputs": [],
   "source": [
    "starbucks_info = pd.read_csv(menu_dir)"
   ]
  },
  {
   "cell_type": "code",
   "execution_count": 5,
   "id": "d5f963b5-d4d2-4bec-b4e9-7a107f1c00e9",
   "metadata": {
    "execution": {
     "iopub.execute_input": "2022-12-13T06:17:43.014672Z",
     "iopub.status.busy": "2022-12-13T06:17:43.014672Z",
     "iopub.status.idle": "2022-12-13T06:17:43.027636Z",
     "shell.execute_reply": "2022-12-13T06:17:43.025641Z",
     "shell.execute_reply.started": "2022-12-13T06:17:43.014672Z"
    },
    "tags": []
   },
   "outputs": [],
   "source": [
    "product_dir = 'https://raw.githubusercontent.com/regenesis90/coursework/main/ontology_engineering/Dataset/product_category.csv'"
   ]
  },
  {
   "cell_type": "code",
   "execution_count": 6,
   "id": "705bc931-06c1-449c-a7dd-8511c4b46f13",
   "metadata": {
    "execution": {
     "iopub.execute_input": "2022-12-13T06:17:43.031635Z",
     "iopub.status.busy": "2022-12-13T06:17:43.030630Z",
     "iopub.status.idle": "2022-12-13T06:17:43.529122Z",
     "shell.execute_reply": "2022-12-13T06:17:43.528153Z",
     "shell.execute_reply.started": "2022-12-13T06:17:43.031635Z"
    },
    "tags": []
   },
   "outputs": [
    {
     "data": {
      "text/html": [
       "<div>\n",
       "<style scoped>\n",
       "    .dataframe tbody tr th:only-of-type {\n",
       "        vertical-align: middle;\n",
       "    }\n",
       "\n",
       "    .dataframe tbody tr th {\n",
       "        vertical-align: top;\n",
       "    }\n",
       "\n",
       "    .dataframe thead th {\n",
       "        text-align: right;\n",
       "    }\n",
       "</style>\n",
       "<table border=\"1\" class=\"dataframe\">\n",
       "  <thead>\n",
       "    <tr style=\"text-align: right;\">\n",
       "      <th></th>\n",
       "      <th>Category_ID</th>\n",
       "      <th>Category_Name</th>\n",
       "      <th>Temperature</th>\n",
       "      <th>Product_ID</th>\n",
       "      <th>Product_Name</th>\n",
       "    </tr>\n",
       "  </thead>\n",
       "  <tbody>\n",
       "    <tr>\n",
       "      <th>0</th>\n",
       "      <td>Coffee</td>\n",
       "      <td>Coffee</td>\n",
       "      <td>Hot</td>\n",
       "      <td>Brewed_Coffee_Dark_Roast</td>\n",
       "      <td>Brewed Coffee - Dark Roast</td>\n",
       "    </tr>\n",
       "    <tr>\n",
       "      <th>1</th>\n",
       "      <td>Coffee</td>\n",
       "      <td>Coffee</td>\n",
       "      <td>Hot</td>\n",
       "      <td>Brewed_Coffee_Decaf_Pike_Place_Roast</td>\n",
       "      <td>Brewed Coffee - Decaf Pike Place Roast</td>\n",
       "    </tr>\n",
       "    <tr>\n",
       "      <th>2</th>\n",
       "      <td>Coffee</td>\n",
       "      <td>Coffee</td>\n",
       "      <td>Hot</td>\n",
       "      <td>Brewed_Coffee_Medium_Roast</td>\n",
       "      <td>Brewed Coffee - Medium Roast</td>\n",
       "    </tr>\n",
       "  </tbody>\n",
       "</table>\n",
       "</div>"
      ],
      "text/plain": [
       "  Category_ID Category_Name Temperature                            Product_ID  \\\n",
       "0      Coffee        Coffee         Hot              Brewed_Coffee_Dark_Roast   \n",
       "1      Coffee        Coffee         Hot  Brewed_Coffee_Decaf_Pike_Place_Roast   \n",
       "2      Coffee        Coffee         Hot            Brewed_Coffee_Medium_Roast   \n",
       "\n",
       "                             Product_Name  \n",
       "0              Brewed Coffee - Dark Roast  \n",
       "1  Brewed Coffee - Decaf Pike Place Roast  \n",
       "2            Brewed Coffee - Medium Roast  "
      ]
     },
     "execution_count": 6,
     "metadata": {},
     "output_type": "execute_result"
    }
   ],
   "source": [
    "product_info = pd.read_csv(product_dir)\n",
    "product_info.head(3)"
   ]
  },
  {
   "cell_type": "code",
   "execution_count": 7,
   "id": "22f9b3e1-f569-4fe9-9d57-30e21a76299a",
   "metadata": {
    "execution": {
     "iopub.execute_input": "2022-12-13T06:17:43.530118Z",
     "iopub.status.busy": "2022-12-13T06:17:43.530118Z",
     "iopub.status.idle": "2022-12-13T06:17:43.545109Z",
     "shell.execute_reply": "2022-12-13T06:17:43.544140Z",
     "shell.execute_reply.started": "2022-12-13T06:17:43.530118Z"
    },
    "tags": []
   },
   "outputs": [],
   "source": [
    "addons_dir = 'https://raw.githubusercontent.com/regenesis90/coursework/main/ontology_engineering/Dataset/AddOns.csv'"
   ]
  },
  {
   "cell_type": "code",
   "execution_count": 8,
   "id": "b2dc2171-2f0f-43ca-a2d1-effed6f5a5bb",
   "metadata": {
    "execution": {
     "iopub.execute_input": "2022-12-13T06:17:43.547105Z",
     "iopub.status.busy": "2022-12-13T06:17:43.546106Z",
     "iopub.status.idle": "2022-12-13T06:17:44.003947Z",
     "shell.execute_reply": "2022-12-13T06:17:44.002949Z",
     "shell.execute_reply.started": "2022-12-13T06:17:43.547105Z"
    },
    "tags": []
   },
   "outputs": [
    {
     "data": {
      "text/html": [
       "<div>\n",
       "<style scoped>\n",
       "    .dataframe tbody tr th:only-of-type {\n",
       "        vertical-align: middle;\n",
       "    }\n",
       "\n",
       "    .dataframe tbody tr th {\n",
       "        vertical-align: top;\n",
       "    }\n",
       "\n",
       "    .dataframe thead th {\n",
       "        text-align: right;\n",
       "    }\n",
       "</style>\n",
       "<table border=\"1\" class=\"dataframe\">\n",
       "  <thead>\n",
       "    <tr style=\"text-align: right;\">\n",
       "      <th></th>\n",
       "      <th>ID</th>\n",
       "      <th>AddOns</th>\n",
       "      <th>Calories</th>\n",
       "      <th>Total_Fat</th>\n",
       "      <th>Saturated_Fat</th>\n",
       "      <th>Trans_Fat</th>\n",
       "      <th>Cholesterol</th>\n",
       "      <th>Sodium</th>\n",
       "      <th>Total_Carbohydrates</th>\n",
       "      <th>Dietary_Fiber</th>\n",
       "      <th>Sugar</th>\n",
       "      <th>Protein</th>\n",
       "      <th>Vitamin_A</th>\n",
       "      <th>Vitamin_C</th>\n",
       "      <th>Calcium</th>\n",
       "      <th>Iron</th>\n",
       "      <th>Caffeine</th>\n",
       "    </tr>\n",
       "  </thead>\n",
       "  <tbody>\n",
       "    <tr>\n",
       "      <th>0</th>\n",
       "      <td>Sweetened_Whipped_Cream</td>\n",
       "      <td>Sweetened Whipped Cream</td>\n",
       "      <td>60</td>\n",
       "      <td>6.0</td>\n",
       "      <td>4.0</td>\n",
       "      <td>0.2</td>\n",
       "      <td>20</td>\n",
       "      <td>5</td>\n",
       "      <td>2</td>\n",
       "      <td>0</td>\n",
       "      <td>1</td>\n",
       "      <td>0.3</td>\n",
       "      <td>6</td>\n",
       "      <td>0</td>\n",
       "      <td>0</td>\n",
       "      <td>0</td>\n",
       "      <td>0</td>\n",
       "    </tr>\n",
       "    <tr>\n",
       "      <th>1</th>\n",
       "      <td>Sweetened_Whipped_Cream</td>\n",
       "      <td>Sweetened Whipped Cream</td>\n",
       "      <td>80</td>\n",
       "      <td>8.0</td>\n",
       "      <td>5.0</td>\n",
       "      <td>0.2</td>\n",
       "      <td>30</td>\n",
       "      <td>10</td>\n",
       "      <td>2</td>\n",
       "      <td>0</td>\n",
       "      <td>2</td>\n",
       "      <td>0.4</td>\n",
       "      <td>10</td>\n",
       "      <td>0</td>\n",
       "      <td>2</td>\n",
       "      <td>0</td>\n",
       "      <td>0</td>\n",
       "    </tr>\n",
       "    <tr>\n",
       "      <th>2</th>\n",
       "      <td>Flavoured_Syrup</td>\n",
       "      <td>Flavoured Syrup</td>\n",
       "      <td>20</td>\n",
       "      <td>0.0</td>\n",
       "      <td>0.0</td>\n",
       "      <td>0.0</td>\n",
       "      <td>0</td>\n",
       "      <td>0</td>\n",
       "      <td>5</td>\n",
       "      <td>0</td>\n",
       "      <td>5</td>\n",
       "      <td>0.0</td>\n",
       "      <td>0</td>\n",
       "      <td>0</td>\n",
       "      <td>0</td>\n",
       "      <td>0</td>\n",
       "      <td>0</td>\n",
       "    </tr>\n",
       "  </tbody>\n",
       "</table>\n",
       "</div>"
      ],
      "text/plain": [
       "                        ID                   AddOns  Calories  Total_Fat  \\\n",
       "0  Sweetened_Whipped_Cream  Sweetened Whipped Cream        60        6.0   \n",
       "1  Sweetened_Whipped_Cream  Sweetened Whipped Cream        80        8.0   \n",
       "2          Flavoured_Syrup          Flavoured Syrup        20        0.0   \n",
       "\n",
       "   Saturated_Fat  Trans_Fat  Cholesterol  Sodium  Total_Carbohydrates  \\\n",
       "0            4.0        0.2           20       5                    2   \n",
       "1            5.0        0.2           30      10                    2   \n",
       "2            0.0        0.0            0       0                    5   \n",
       "\n",
       "   Dietary_Fiber  Sugar  Protein  Vitamin_A  Vitamin_C  Calcium  Iron  \\\n",
       "0              0      1      0.3          6          0        0     0   \n",
       "1              0      2      0.4         10          0        2     0   \n",
       "2              0      5      0.0          0          0        0     0   \n",
       "\n",
       "   Caffeine  \n",
       "0         0  \n",
       "1         0  \n",
       "2         0  "
      ]
     },
     "execution_count": 8,
     "metadata": {},
     "output_type": "execute_result"
    }
   ],
   "source": [
    "addons_info = pd.read_csv(addons_dir)\n",
    "addons_info.head(3)"
   ]
  },
  {
   "cell_type": "markdown",
   "id": "2903c966-b229-45a8-bd49-42e601eed818",
   "metadata": {},
   "source": [
    "# Develop Ontology"
   ]
  },
  {
   "cell_type": "markdown",
   "id": "0d684237-d238-4420-8de4-63ee72741958",
   "metadata": {},
   "source": [
    "## Create New Ontology\n",
    "* 새로운 온톨로지 생성(빈 온톨로지)"
   ]
  },
  {
   "cell_type": "code",
   "execution_count": 9,
   "id": "72c804e1-9795-4a14-8213-00dffb4e948d",
   "metadata": {
    "execution": {
     "iopub.execute_input": "2022-12-13T06:17:44.005942Z",
     "iopub.status.busy": "2022-12-13T06:17:44.005942Z",
     "iopub.status.idle": "2022-12-13T06:17:44.019904Z",
     "shell.execute_reply": "2022-12-13T06:17:44.018905Z",
     "shell.execute_reply.started": "2022-12-13T06:17:44.005942Z"
    },
    "tags": []
   },
   "outputs": [],
   "source": [
    "ontology_name = 'http://test.org/starbucks.owl'\n",
    "onto = get_ontology(ontology_name)"
   ]
  },
  {
   "cell_type": "markdown",
   "id": "59da7c05-1008-4efd-b8eb-5cd3a54cf5f2",
   "metadata": {},
   "source": [
    "## Class & Properties 생성"
   ]
  },
  {
   "cell_type": "markdown",
   "id": "da3d9f37-883d-4c7c-a852-44fd9939e257",
   "metadata": {},
   "source": [
    "### Class 선언"
   ]
  },
  {
   "cell_type": "code",
   "execution_count": 10,
   "id": "f363c172-660f-4f5f-a010-4e4208375068",
   "metadata": {
    "execution": {
     "iopub.execute_input": "2022-12-13T06:17:44.021899Z",
     "iopub.status.busy": "2022-12-13T06:17:44.021899Z",
     "iopub.status.idle": "2022-12-13T06:17:44.034864Z",
     "shell.execute_reply": "2022-12-13T06:17:44.033866Z",
     "shell.execute_reply.started": "2022-12-13T06:17:44.021899Z"
    },
    "tags": []
   },
   "outputs": [],
   "source": [
    "# class 선언\n",
    "with onto:\n",
    "    class Category(Thing):\n",
    "        pass\n",
    "    \n",
    "    class Beverage(Thing):\n",
    "        pass\n",
    "    \n",
    "    class Product(Thing):\n",
    "        pass\n",
    "    \n",
    "    class AddOns(Thing):\n",
    "        pass"
   ]
  },
  {
   "cell_type": "markdown",
   "id": "d826f641-ccf5-4331-b689-821d0b135b17",
   "metadata": {},
   "source": [
    "### Property 선언"
   ]
  },
  {
   "cell_type": "code",
   "execution_count": 11,
   "id": "e0975213-33c9-41a1-8922-730fea186051",
   "metadata": {
    "execution": {
     "iopub.execute_input": "2022-12-13T06:17:44.038853Z",
     "iopub.status.busy": "2022-12-13T06:17:44.037860Z",
     "iopub.status.idle": "2022-12-13T06:17:44.066312Z",
     "shell.execute_reply": "2022-12-13T06:17:44.065313Z",
     "shell.execute_reply.started": "2022-12-13T06:17:44.038853Z"
    },
    "tags": []
   },
   "outputs": [],
   "source": [
    "### Category가 가진 프로퍼티\n",
    "with onto:\n",
    "    class has_Category_Name(DataProperty):\n",
    "        domain = [Category]\n",
    "        range = [str]\n",
    "        \n",
    "    class has_Product(ObjectProperty):\n",
    "        domain = [Category]\n",
    "        range = [Product]"
   ]
  },
  {
   "cell_type": "code",
   "execution_count": 12,
   "id": "538a5bb3-20a3-48ac-8b0a-bd5adef06887",
   "metadata": {
    "execution": {
     "iopub.execute_input": "2022-12-13T06:17:44.067308Z",
     "iopub.status.busy": "2022-12-13T06:17:44.067308Z",
     "iopub.status.idle": "2022-12-13T06:17:44.082267Z",
     "shell.execute_reply": "2022-12-13T06:17:44.081272Z",
     "shell.execute_reply.started": "2022-12-13T06:17:44.067308Z"
    },
    "tags": []
   },
   "outputs": [],
   "source": [
    "### Product가 가진 프로퍼티\n",
    "with onto:\n",
    "    class has_Temperature(DataProperty):\n",
    "        domain = [Product]\n",
    "        range = [Or(['Hot', 'Ice'])]\n",
    "    \n",
    "    class has_Category(ObjectProperty): # Product는 Category에 속함. has_Product 되어있음\n",
    "        domain = [Product]\n",
    "        range = [Category]\n",
    "        inverse_property = has_Product \n",
    "    \n",
    "    class has_Product_Name(DataProperty):\n",
    "        domain = [Product]\n",
    "        range = [str]\n",
    "        \n",
    "    class contain(ObjectProperty): # Product는 여러개의 Beverage를 포함하고 있으니깐\n",
    "        domain = [Product]\n",
    "        range = [Beverage]"
   ]
  },
  {
   "cell_type": "code",
   "execution_count": 13,
   "id": "e7eed55d-ee52-447d-88f3-1bda355eddfe",
   "metadata": {
    "execution": {
     "iopub.execute_input": "2022-12-13T06:17:44.083266Z",
     "iopub.status.busy": "2022-12-13T06:17:44.083266Z",
     "iopub.status.idle": "2022-12-13T06:17:44.114183Z",
     "shell.execute_reply": "2022-12-13T06:17:44.113187Z",
     "shell.execute_reply.started": "2022-12-13T06:17:44.083266Z"
    },
    "tags": []
   },
   "outputs": [],
   "source": [
    "# Beverage properties\n",
    "with onto:\n",
    "    #### 밀크, 휩, 카테고리, 애드온 ####\n",
    "    \n",
    "    class has_AddOns_name(DataProperty):\n",
    "        domain = [AddOns]\n",
    "        range = [str]\n",
    "    \n",
    "    class has_Beverage_name(DataProperty):\n",
    "        domain = [Beverage]\n",
    "        range = [str]\n",
    "    \n",
    "    class has_Milk(DataProperty):\n",
    "        domain = [Beverage]\n",
    "        range = [str]\n",
    "        \n",
    "    class has_Whip(DataProperty):\n",
    "        domain = [Beverage]\n",
    "        range = [str]\n",
    "        \n",
    "    class is_contained(ObjectProperty): # Beverage는 Product에 contained 됨\n",
    "        domain = [Beverage]\n",
    "        range = [Product]\n",
    "        inverse_property = contain\n",
    "        \n",
    "    class has_AddOns(ObjectProperty):\n",
    "        domain = [Beverage]\n",
    "        range = [AddOns]\n",
    "        \n",
    "    #### 영양분 ####\n",
    "    class has_Calories(DataProperty):\n",
    "        domain = [Or([Beverage, AddOns])]\n",
    "        range = [float]\n",
    "\n",
    "    class has_Total_Fat(DataProperty):\n",
    "        domain = [Or([Beverage, AddOns])]\n",
    "        range = [float]\n",
    "        \n",
    "    class has_Saturated_Fat(DataProperty):\n",
    "        domain = [Or([Beverage, AddOns])]\n",
    "        range = [float]\n",
    "        \n",
    "    class has_Trans_Fat(DataProperty):\n",
    "        domain = [Or([Beverage, AddOns])]\n",
    "        range = [float]\n",
    "        \n",
    "    class has_Cholesterol(DataProperty):\n",
    "        domain = [Or([Beverage, AddOns])]\n",
    "        range = [float]\n",
    "        \n",
    "    class has_Sodium(DataProperty):\n",
    "        domain = [Or([Beverage, AddOns])]\n",
    "        range = [float]\n",
    "        \n",
    "    class has_Total_Carbohydrates(DataProperty):\n",
    "        domain = [Or([Beverage, AddOns])]\n",
    "        range = [float]\n",
    "        \n",
    "    class has_Dietary_Fiber(DataProperty):\n",
    "        domain = [Or([Beverage, AddOns])]\n",
    "        range = [float]\n",
    "        \n",
    "    class has_Sugar(DataProperty):\n",
    "        domain = [Or([Beverage, AddOns])]\n",
    "        range = [float]\n",
    "        \n",
    "    class has_Protein(DataProperty):\n",
    "        domain = [Or([Beverage, AddOns])]\n",
    "        range = [float]\n",
    "        \n",
    "    class has_Vitamin_A(DataProperty):\n",
    "        domain = [Or([Beverage, AddOns])]\n",
    "        range = [float]\n",
    "        \n",
    "    class has_Vitamin_C(DataProperty):\n",
    "        domain = [Or([Beverage, AddOns])]\n",
    "        range = [float]\n",
    "        \n",
    "    class has_Calcium(DataProperty):\n",
    "        domain = [Or([Beverage, AddOns])]\n",
    "        range = [float]\n",
    "        \n",
    "    class has_Iron(DataProperty):\n",
    "        domain = [Or([Beverage, AddOns])]\n",
    "        range = [float]\n",
    "        \n",
    "    class has_Caffeine(DataProperty):\n",
    "        domain = [Or([Beverage, AddOns])]\n",
    "        range = [float]"
   ]
  },
  {
   "cell_type": "markdown",
   "id": "6f1990ea-297e-4fb5-985b-4409faf099f1",
   "metadata": {},
   "source": [
    "## 개별 데이터 투입"
   ]
  },
  {
   "cell_type": "markdown",
   "id": "03ccd78b-40bf-4a9f-9e3e-7a2eba84b4b8",
   "metadata": {},
   "source": [
    "### 함수 정의"
   ]
  },
  {
   "cell_type": "code",
   "execution_count": 14,
   "id": "06cf20cd-d256-4daf-ae44-1f8e9970d560",
   "metadata": {
    "execution": {
     "iopub.execute_input": "2022-12-13T06:17:44.117174Z",
     "iopub.status.busy": "2022-12-13T06:17:44.116179Z",
     "iopub.status.idle": "2022-12-13T06:17:44.131138Z",
     "shell.execute_reply": "2022-12-13T06:17:44.129143Z",
     "shell.execute_reply.started": "2022-12-13T06:17:44.117174Z"
    },
    "tags": []
   },
   "outputs": [],
   "source": [
    "def create_Beverage(ID:str, name:str, Product_ID:str, Milk:str, Whip:str, Calories:float, Total_Fat:float, Saturated_Fat:float, Trans_Fat:float, Cholesterol:float, Sodium:float, Total_Carbohydrates:float, Dietary_Fiber:float, Sugar:float, Protein:float, Vitamin_A:float, Vitamin_C:float, Calcium:float, Iron:float, Caffeine:float):\n",
    "    \"\"\"음료 정보 투입 함수\"\"\"\n",
    "    \n",
    "    new_Beverage = Beverage(ID)\n",
    "    new_Beverage.has_Beverage_name.append(name)\n",
    "    \n",
    "    if pd.isna(Milk) == False: # milk 값이 있으면\n",
    "        new_Beverage.has_Milk.append(Milk)\n",
    "    \n",
    "    if pd.isna(Whip) == False: # Whip 값이 있으면\n",
    "        new_Beverage.has_Whip.append(Whip)\n",
    "    \n",
    "    new_Beverage.has_Calories.append(Calories)\n",
    "    new_Beverage.has_Total_Fat.append(Total_Fat)\n",
    "    new_Beverage.has_Saturated_Fat.append(Saturated_Fat)\n",
    "    new_Beverage.has_Trans_Fat.append(Trans_Fat)\n",
    "    new_Beverage.has_Cholesterol.append(Cholesterol)\n",
    "    new_Beverage.has_Sodium.append(Sodium)\n",
    "    new_Beverage.has_Total_Carbohydrates.append(Total_Carbohydrates)\n",
    "    new_Beverage.has_Dietary_Fiber.append(Dietary_Fiber)\n",
    "    new_Beverage.has_Sugar.append(Sugar)\n",
    "    new_Beverage.has_Protein.append(Protein)\n",
    "    new_Beverage.has_Vitamin_A.append(Vitamin_A)\n",
    "    new_Beverage.has_Vitamin_C.append(Vitamin_C)\n",
    "    new_Beverage.has_Calcium.append(Calcium)\n",
    "    new_Beverage.has_Iron.append(Iron)\n",
    "    new_Beverage.has_Caffeine.append(Caffeine)\n",
    "    \n",
    "    new_Beverage.is_contained.append(Product(Product_ID))\n",
    "    \n",
    "    return new_Beverage"
   ]
  },
  {
   "cell_type": "code",
   "execution_count": 15,
   "id": "4d506452-f705-4a7a-899e-afc263931168",
   "metadata": {
    "execution": {
     "iopub.execute_input": "2022-12-13T06:17:44.134129Z",
     "iopub.status.busy": "2022-12-13T06:17:44.134129Z",
     "iopub.status.idle": "2022-12-13T06:17:44.147102Z",
     "shell.execute_reply": "2022-12-13T06:17:44.145108Z",
     "shell.execute_reply.started": "2022-12-13T06:17:44.134129Z"
    },
    "tags": []
   },
   "outputs": [],
   "source": [
    "def create_Product(Product_ID, Product_Name, Category_ID, Temperature):\n",
    "    \"\"\"프로덕트 정보 투입 함수\"\"\"\n",
    "    \n",
    "    new_Product = Product(Product_ID)\n",
    "    \n",
    "    new_Product.has_Product_Name.append(Product_Name)\n",
    "    new_Product.has_Temperature.append(Temperature)\n",
    "    \n",
    "    new_Product.has_Category.append(Category(Category_ID))\n",
    "    \n",
    "    return new_Product"
   ]
  },
  {
   "cell_type": "code",
   "execution_count": 16,
   "id": "46f248a8-7bc4-4796-9afd-2e4274d905db",
   "metadata": {
    "execution": {
     "iopub.execute_input": "2022-12-13T06:17:44.149095Z",
     "iopub.status.busy": "2022-12-13T06:17:44.149095Z",
     "iopub.status.idle": "2022-12-13T06:17:44.161419Z",
     "shell.execute_reply": "2022-12-13T06:17:44.160422Z",
     "shell.execute_reply.started": "2022-12-13T06:17:44.149095Z"
    },
    "tags": []
   },
   "outputs": [],
   "source": [
    "def create_Category(Category_ID, Category_Name):\n",
    "    \n",
    "    new_Category = Category(Category_ID)\n",
    "    new_Category.has_Category_Name.append(Category_Name)\n",
    "    \n",
    "    return new_Category"
   ]
  },
  {
   "cell_type": "code",
   "execution_count": 17,
   "id": "3742f546-2044-4e0c-b790-15037da3d243",
   "metadata": {
    "execution": {
     "iopub.execute_input": "2022-12-13T06:17:44.164413Z",
     "iopub.status.busy": "2022-12-13T06:17:44.163413Z",
     "iopub.status.idle": "2022-12-13T06:17:44.191338Z",
     "shell.execute_reply": "2022-12-13T06:17:44.190341Z",
     "shell.execute_reply.started": "2022-12-13T06:17:44.164413Z"
    },
    "tags": []
   },
   "outputs": [],
   "source": [
    "def create_AddOns(ID:str, name:str, Calories, Total_Fat, Saturated_Fat, Trans_Fat, Cholesterol, Sodium, Total_Carbohydrates, Dietary_Fiber, Sugar, Protein, Vitamin_A, Vitamin_C, Calcium, Iron, Caffeine):\n",
    "    \"\"\"애드온 정보 투입 함수\"\"\"\n",
    "    \n",
    "    new_AddOns = AddOns(ID)\n",
    "    new_AddOns.has_AddOns_name.append(name)\n",
    "    \n",
    "    new_AddOns.has_Calories.append(Calories)\n",
    "    new_AddOns.has_Total_Fat.append(Total_Fat)\n",
    "    new_AddOns.has_Saturated_Fat.append(Saturated_Fat)\n",
    "    new_AddOns.has_Trans_Fat.append(Trans_Fat)\n",
    "    new_AddOns.has_Cholesterol.append(Cholesterol)\n",
    "    new_AddOns.has_Sodium.append(Sodium)\n",
    "    new_AddOns.has_Total_Carbohydrates.append(Total_Carbohydrates)\n",
    "    new_AddOns.has_Dietary_Fiber.append(Dietary_Fiber)\n",
    "    new_AddOns.has_Sugar.append(Sugar)\n",
    "    new_AddOns.has_Protein.append(Protein)\n",
    "    new_AddOns.has_Vitamin_A.append(Vitamin_A)\n",
    "    new_AddOns.has_Vitamin_C.append(Vitamin_C)\n",
    "    new_AddOns.has_Calcium.append(Calcium)\n",
    "    new_AddOns.has_Iron.append(Iron)\n",
    "    new_AddOns.has_Caffeine.append(Caffeine)\n",
    "    \n",
    "    return new_AddOns"
   ]
  },
  {
   "cell_type": "markdown",
   "id": "585e5326-0f35-44fa-9333-80b19d148971",
   "metadata": {},
   "source": [
    "### 정보 투입"
   ]
  },
  {
   "cell_type": "code",
   "execution_count": 18,
   "id": "3e7edf10-f87b-4574-b099-168143b10a5a",
   "metadata": {
    "execution": {
     "iopub.execute_input": "2022-12-13T06:17:44.195326Z",
     "iopub.status.busy": "2022-12-13T06:17:44.193333Z",
     "iopub.status.idle": "2022-12-13T06:17:44.222255Z",
     "shell.execute_reply": "2022-12-13T06:17:44.220261Z",
     "shell.execute_reply.started": "2022-12-13T06:17:44.194341Z"
    },
    "tags": []
   },
   "outputs": [
    {
     "name": "stderr",
     "output_type": "stream",
     "text": [
      "100%|██████████████████████████████████████████████████████████████████████████████████| 8/8 [00:00<00:00, 4009.37it/s]\n"
     ]
    }
   ],
   "source": [
    "# 카테고리 정보 넣기\n",
    "category_info = product_info[['Category_ID', 'Category_Name']].drop_duplicates()\n",
    "\n",
    "for i in tqdm(range(len(category_info))):\n",
    "    \n",
    "    ca_ID = str(category_info['Category_ID'].iloc[i])\n",
    "    ca_Name = str(category_info['Category_Name'].iloc[i])\n",
    "    \n",
    "    new_Category = create_Category(ca_ID, ca_Name)"
   ]
  },
  {
   "cell_type": "code",
   "execution_count": 19,
   "id": "ca2d39ac-e197-4f6c-935f-fd1d16cb6af1",
   "metadata": {
    "execution": {
     "iopub.execute_input": "2022-12-13T06:17:44.226247Z",
     "iopub.status.busy": "2022-12-13T06:17:44.225253Z",
     "iopub.status.idle": "2022-12-13T06:17:44.256171Z",
     "shell.execute_reply": "2022-12-13T06:17:44.254189Z",
     "shell.execute_reply.started": "2022-12-13T06:17:44.226247Z"
    },
    "tags": []
   },
   "outputs": [
    {
     "data": {
      "text/html": [
       "<div>\n",
       "<style scoped>\n",
       "    .dataframe tbody tr th:only-of-type {\n",
       "        vertical-align: middle;\n",
       "    }\n",
       "\n",
       "    .dataframe tbody tr th {\n",
       "        vertical-align: top;\n",
       "    }\n",
       "\n",
       "    .dataframe thead th {\n",
       "        text-align: right;\n",
       "    }\n",
       "</style>\n",
       "<table border=\"1\" class=\"dataframe\">\n",
       "  <thead>\n",
       "    <tr style=\"text-align: right;\">\n",
       "      <th></th>\n",
       "      <th>Category_ID</th>\n",
       "      <th>Category_Name</th>\n",
       "      <th>Temperature</th>\n",
       "      <th>Product_ID</th>\n",
       "      <th>Product_Name</th>\n",
       "    </tr>\n",
       "  </thead>\n",
       "  <tbody>\n",
       "    <tr>\n",
       "      <th>0</th>\n",
       "      <td>Coffee</td>\n",
       "      <td>Coffee</td>\n",
       "      <td>Hot</td>\n",
       "      <td>Brewed_Coffee_Dark_Roast</td>\n",
       "      <td>Brewed Coffee - Dark Roast</td>\n",
       "    </tr>\n",
       "    <tr>\n",
       "      <th>1</th>\n",
       "      <td>Coffee</td>\n",
       "      <td>Coffee</td>\n",
       "      <td>Hot</td>\n",
       "      <td>Brewed_Coffee_Decaf_Pike_Place_Roast</td>\n",
       "      <td>Brewed Coffee - Decaf Pike Place Roast</td>\n",
       "    </tr>\n",
       "    <tr>\n",
       "      <th>2</th>\n",
       "      <td>Coffee</td>\n",
       "      <td>Coffee</td>\n",
       "      <td>Hot</td>\n",
       "      <td>Brewed_Coffee_Medium_Roast</td>\n",
       "      <td>Brewed Coffee - Medium Roast</td>\n",
       "    </tr>\n",
       "    <tr>\n",
       "      <th>3</th>\n",
       "      <td>Coffee</td>\n",
       "      <td>Coffee</td>\n",
       "      <td>Hot</td>\n",
       "      <td>Brewed_Coffee_True_North_Blend_Blonde_Roast</td>\n",
       "      <td>Brewed Coffee - True North Blend Blonde Roast</td>\n",
       "    </tr>\n",
       "    <tr>\n",
       "      <th>4</th>\n",
       "      <td>Coffee</td>\n",
       "      <td>Coffee</td>\n",
       "      <td>Hot</td>\n",
       "      <td>Caffe_Misto</td>\n",
       "      <td>Caffe Misto</td>\n",
       "    </tr>\n",
       "    <tr>\n",
       "      <th>...</th>\n",
       "      <td>...</td>\n",
       "      <td>...</td>\n",
       "      <td>...</td>\n",
       "      <td>...</td>\n",
       "      <td>...</td>\n",
       "    </tr>\n",
       "    <tr>\n",
       "      <th>84</th>\n",
       "      <td>Hot_Chocolate_and_Other</td>\n",
       "      <td>Hot Chocolate &amp; Other</td>\n",
       "      <td>Hot</td>\n",
       "      <td>Skinny_Hot_Chocolate</td>\n",
       "      <td>Skinny Hot Chocolate</td>\n",
       "    </tr>\n",
       "    <tr>\n",
       "      <th>85</th>\n",
       "      <td>Hot_Chocolate_and_Other</td>\n",
       "      <td>Hot Chocolate &amp; Other</td>\n",
       "      <td>Hot</td>\n",
       "      <td>Steamed_Apple_Juice</td>\n",
       "      <td>Steamed Apple Juice</td>\n",
       "    </tr>\n",
       "    <tr>\n",
       "      <th>86</th>\n",
       "      <td>Hot_Chocolate_and_Other</td>\n",
       "      <td>Hot Chocolate &amp; Other</td>\n",
       "      <td>Hot</td>\n",
       "      <td>Steamed_Milk</td>\n",
       "      <td>Steamed Milk</td>\n",
       "    </tr>\n",
       "    <tr>\n",
       "      <th>87</th>\n",
       "      <td>Hot_Chocolate_and_Other</td>\n",
       "      <td>Hot Chocolate &amp; Other</td>\n",
       "      <td>Hot</td>\n",
       "      <td>Vanilla_Steamer</td>\n",
       "      <td>Vanilla Steamer</td>\n",
       "    </tr>\n",
       "    <tr>\n",
       "      <th>88</th>\n",
       "      <td>Hot_Chocolate_and_Other</td>\n",
       "      <td>Hot Chocolate &amp; Other</td>\n",
       "      <td>Hot</td>\n",
       "      <td>White_Hot_Chocolate</td>\n",
       "      <td>White Hot Chocolate</td>\n",
       "    </tr>\n",
       "  </tbody>\n",
       "</table>\n",
       "<p>89 rows × 5 columns</p>\n",
       "</div>"
      ],
      "text/plain": [
       "                Category_ID          Category_Name Temperature  \\\n",
       "0                    Coffee                 Coffee         Hot   \n",
       "1                    Coffee                 Coffee         Hot   \n",
       "2                    Coffee                 Coffee         Hot   \n",
       "3                    Coffee                 Coffee         Hot   \n",
       "4                    Coffee                 Coffee         Hot   \n",
       "..                      ...                    ...         ...   \n",
       "84  Hot_Chocolate_and_Other  Hot Chocolate & Other         Hot   \n",
       "85  Hot_Chocolate_and_Other  Hot Chocolate & Other         Hot   \n",
       "86  Hot_Chocolate_and_Other  Hot Chocolate & Other         Hot   \n",
       "87  Hot_Chocolate_and_Other  Hot Chocolate & Other         Hot   \n",
       "88  Hot_Chocolate_and_Other  Hot Chocolate & Other         Hot   \n",
       "\n",
       "                                     Product_ID  \\\n",
       "0                      Brewed_Coffee_Dark_Roast   \n",
       "1          Brewed_Coffee_Decaf_Pike_Place_Roast   \n",
       "2                    Brewed_Coffee_Medium_Roast   \n",
       "3   Brewed_Coffee_True_North_Blend_Blonde_Roast   \n",
       "4                                   Caffe_Misto   \n",
       "..                                          ...   \n",
       "84                         Skinny_Hot_Chocolate   \n",
       "85                          Steamed_Apple_Juice   \n",
       "86                                 Steamed_Milk   \n",
       "87                              Vanilla_Steamer   \n",
       "88                          White_Hot_Chocolate   \n",
       "\n",
       "                                     Product_Name  \n",
       "0                      Brewed Coffee - Dark Roast  \n",
       "1          Brewed Coffee - Decaf Pike Place Roast  \n",
       "2                    Brewed Coffee - Medium Roast  \n",
       "3   Brewed Coffee - True North Blend Blonde Roast  \n",
       "4                                     Caffe Misto  \n",
       "..                                            ...  \n",
       "84                           Skinny Hot Chocolate  \n",
       "85                            Steamed Apple Juice  \n",
       "86                                   Steamed Milk  \n",
       "87                                Vanilla Steamer  \n",
       "88                            White Hot Chocolate  \n",
       "\n",
       "[89 rows x 5 columns]"
      ]
     },
     "execution_count": 19,
     "metadata": {},
     "output_type": "execute_result"
    }
   ],
   "source": [
    "product_info"
   ]
  },
  {
   "cell_type": "code",
   "execution_count": 20,
   "id": "ead398f5-3157-42a9-8a30-0264e5f9978d",
   "metadata": {
    "execution": {
     "iopub.execute_input": "2022-12-13T06:17:44.257166Z",
     "iopub.status.busy": "2022-12-13T06:17:44.257166Z",
     "iopub.status.idle": "2022-12-13T06:17:44.301570Z",
     "shell.execute_reply": "2022-12-13T06:17:44.299572Z",
     "shell.execute_reply.started": "2022-12-13T06:17:44.257166Z"
    },
    "tags": []
   },
   "outputs": [
    {
     "name": "stderr",
     "output_type": "stream",
     "text": [
      "100%|████████████████████████████████████████████████████████████████████████████████| 89/89 [00:00<00:00, 3432.64it/s]\n"
     ]
    }
   ],
   "source": [
    "# 프로덕트 정보 넣기\n",
    "for i in tqdm(range(len(product_info))):\n",
    "    \n",
    "    pr_ID = str(product_info['Product_ID'].iloc[i])\n",
    "    pr_Product_Name = str(product_info['Product_Name'].iloc[i])\n",
    "    pr_Category = str(product_info['Category_ID'].iloc[i])\n",
    "    pr_Temperature = str(product_info['Temperature'].iloc[i])\n",
    "    \n",
    "    new_Product = create_Product(pr_ID, pr_Product_Name, pr_Category, pr_Temperature)"
   ]
  },
  {
   "cell_type": "code",
   "execution_count": 21,
   "id": "00a3ed39-0dd3-416a-a694-df15eda8fe40",
   "metadata": {
    "execution": {
     "iopub.execute_input": "2022-12-13T06:17:44.303561Z",
     "iopub.status.busy": "2022-12-13T06:17:44.302565Z",
     "iopub.status.idle": "2022-12-13T06:17:44.569538Z",
     "shell.execute_reply": "2022-12-13T06:17:44.568570Z",
     "shell.execute_reply.started": "2022-12-13T06:17:44.303561Z"
    },
    "tags": []
   },
   "outputs": [
    {
     "name": "stderr",
     "output_type": "stream",
     "text": [
      "100%|██████████████████████████████████████████████████████████████████████████████| 335/335 [00:00<00:00, 1329.13it/s]\n"
     ]
    }
   ],
   "source": [
    "# Beverage 정보 넣기\n",
    "for i in tqdm(range(len(starbucks_info))):\n",
    "    \n",
    "    cur_ID = str(starbucks_info['ID'].iloc[i])\n",
    "    cur_name = str(starbucks_info['Beverage'].iloc[i])\n",
    "    cur_Product_ID = starbucks_info['Product_ID'].iloc[i]\n",
    "    \n",
    "    cur_Milk = str(starbucks_info['Milk'].iloc[i])\n",
    "    cur_Whip = str(starbucks_info['Whip'].iloc[i])\n",
    "    \n",
    "    cur_Calories = float(starbucks_info['Calories'].iloc[i])\n",
    "    cur_Total_Fat = float(starbucks_info['Total_Fat'].iloc[i])\n",
    "    cur_Saturated_Fat = float(starbucks_info['Saturated_Fat'].iloc[i])\n",
    "    cur_Trans_Fat = float(starbucks_info['Trans_Fat'].iloc[i])\n",
    "    cur_Cholesterol = float(starbucks_info['Cholesterol'].iloc[i])\n",
    "    \n",
    "    cur_Sodium = float(starbucks_info['Sodium'].iloc[i])\n",
    "    cur_Total_Carbohydrates = float(starbucks_info['Total_Carbohydrates'].iloc[i])\n",
    "    cur_Dietary_Fiber = float(starbucks_info['Dietary_Fiber'].iloc[i])\n",
    "    cur_Sugar = float(starbucks_info['Sugar'].iloc[i])\n",
    "    cur_Protein = float(starbucks_info['Protein'].iloc[i])\n",
    "    \n",
    "    cur_Vitamin_A = float(starbucks_info['Vitamin_A'].iloc[i])\n",
    "    cur_Vitamin_C = float(starbucks_info['Vitamin_C'].iloc[i])\n",
    "    cur_Calcium = float(starbucks_info['Calcium'].iloc[i])\n",
    "    cur_Iron = float(starbucks_info['Iron'].iloc[i])\n",
    "    cur_Caffeine = float(starbucks_info['Caffeine'].iloc[i])\n",
    "    \n",
    "    new_Beverage = create_Beverage(cur_ID, cur_name, cur_Product_ID, cur_Milk, cur_Whip, \n",
    "                                   cur_Calories, cur_Total_Fat, cur_Saturated_Fat, cur_Trans_Fat, cur_Cholesterol, \n",
    "                                   cur_Sodium, cur_Total_Carbohydrates, cur_Dietary_Fiber, cur_Sugar, cur_Protein, cur_Vitamin_A, cur_Vitamin_C, cur_Calcium, cur_Iron, cur_Caffeine)"
   ]
  },
  {
   "cell_type": "code",
   "execution_count": 22,
   "id": "24f07222-b854-40fe-bf21-45c166eb2d74",
   "metadata": {
    "execution": {
     "iopub.execute_input": "2022-12-13T06:17:44.570541Z",
     "iopub.status.busy": "2022-12-13T06:17:44.570541Z",
     "iopub.status.idle": "2022-12-13T06:17:44.601455Z",
     "shell.execute_reply": "2022-12-13T06:17:44.599462Z",
     "shell.execute_reply.started": "2022-12-13T06:17:44.570541Z"
    },
    "tags": []
   },
   "outputs": [
    {
     "name": "stderr",
     "output_type": "stream",
     "text": [
      "100%|████████████████████████████████████████████████████████████████████████████████| 10/10 [00:00<00:00, 1114.17it/s]\n"
     ]
    }
   ],
   "source": [
    "# AddOns 정보 넣기\n",
    "for i in tqdm(range(len(addons_info))):\n",
    "    \n",
    "    ad_ID = str(addons_info['ID'].iloc[i])\n",
    "    ad_name = str(addons_info['AddOns'].iloc[i])\n",
    "    \n",
    "    ad_Calories = float(addons_info['Calories'].iloc[i])\n",
    "    ad_Total_Fat = float(addons_info['Total_Fat'].iloc[i])\n",
    "    ad_Saturated_Fat = float(addons_info['Saturated_Fat'].iloc[i])\n",
    "    ad_Trans_Fat = float(addons_info['Trans_Fat'].iloc[i])\n",
    "    ad_Cholesterol = float(addons_info['Cholesterol'].iloc[i])\n",
    "    \n",
    "    ad_Sodium = float(addons_info['Sodium'].iloc[i])\n",
    "    ad_Total_Carbohydrates = float(addons_info['Total_Carbohydrates'].iloc[i])\n",
    "    ad_Dietary_Fiber = float(addons_info['Dietary_Fiber'].iloc[i])\n",
    "    ad_Sugar = float(addons_info['Sugar'].iloc[i])\n",
    "    ad_Protein = float(addons_info['Protein'].iloc[i])\n",
    "    \n",
    "    ad_Vitamin_A = float(addons_info['Vitamin_A'].iloc[i])\n",
    "    ad_Vitamin_C = float(addons_info['Vitamin_C'].iloc[i])\n",
    "    ad_Calcium = float(addons_info['Calcium'].iloc[i])\n",
    "    ad_Iron = float(addons_info['Iron'].iloc[i])\n",
    "    ad_Caffeine = float(addons_info['Caffeine'].iloc[i])\n",
    "    \n",
    "    new_AddOns = create_AddOns(ad_ID, ad_name,\n",
    "                               ad_Calories, ad_Total_Fat, ad_Saturated_Fat, ad_Trans_Fat, ad_Cholesterol,\n",
    "                               ad_Sodium, ad_Total_Carbohydrates, ad_Dietary_Fiber, ad_Sugar, ad_Protein,\n",
    "                               ad_Vitamin_A, ad_Vitamin_C, ad_Calcium, ad_Iron, ad_Caffeine)"
   ]
  },
  {
   "cell_type": "markdown",
   "id": "28732f0a-abe1-4223-b8f3-76e3a44b8077",
   "metadata": {},
   "source": [
    "## 구축 온톨로지 저장"
   ]
  },
  {
   "cell_type": "code",
   "execution_count": 23,
   "id": "a5313f6f-dac1-4e87-a3d1-8a9656f2bea2",
   "metadata": {
    "execution": {
     "iopub.execute_input": "2022-12-13T06:17:44.602451Z",
     "iopub.status.busy": "2022-12-13T06:17:44.602451Z",
     "iopub.status.idle": "2022-12-13T06:17:44.661801Z",
     "shell.execute_reply": "2022-12-13T06:17:44.660803Z",
     "shell.execute_reply.started": "2022-12-13T06:17:44.602451Z"
    },
    "tags": []
   },
   "outputs": [],
   "source": [
    "onto.save(file = 'ontology_starbucks.rdf', format = 'rdfxml')"
   ]
  },
  {
   "cell_type": "markdown",
   "id": "9a0b5479-430c-4702-83e2-b9c8a00024b4",
   "metadata": {},
   "source": [
    "# 온톨로지 내용 확인"
   ]
  },
  {
   "cell_type": "markdown",
   "id": "0c876f51-ffd2-40a1-9ba4-c7326c617dc3",
   "metadata": {},
   "source": [
    "## Inverse Properties"
   ]
  },
  {
   "cell_type": "code",
   "execution_count": 24,
   "id": "ed6f1157-3ca3-4d6e-8072-3e32758c9bd7",
   "metadata": {
    "execution": {
     "iopub.execute_input": "2022-12-13T06:17:44.663797Z",
     "iopub.status.busy": "2022-12-13T06:17:44.662801Z",
     "iopub.status.idle": "2022-12-13T06:17:44.680750Z",
     "shell.execute_reply": "2022-12-13T06:17:44.677759Z",
     "shell.execute_reply.started": "2022-12-13T06:17:44.663797Z"
    },
    "tags": []
   },
   "outputs": [
    {
     "data": {
      "text/plain": [
       "[4.0]"
      ]
     },
     "execution_count": 24,
     "metadata": {},
     "output_type": "execute_result"
    }
   ],
   "source": [
    "Beverage('Brewed_Coffee_True_North_Blend_Blonde_Roast').has_Calories"
   ]
  }
 ],
 "metadata": {
  "kernelspec": {
   "display_name": "Python 3",
   "language": "python",
   "name": "python3"
  },
  "language_info": {
   "codemirror_mode": {
    "name": "ipython",
    "version": 3
   },
   "file_extension": ".py",
   "mimetype": "text/x-python",
   "name": "python",
   "nbconvert_exporter": "python",
   "pygments_lexer": "ipython3",
   "version": "3.8.8"
  }
 },
 "nbformat": 4,
 "nbformat_minor": 5
}
