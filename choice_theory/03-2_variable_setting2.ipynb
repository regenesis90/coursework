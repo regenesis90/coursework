{
 "cells": [
  {
   "cell_type": "markdown",
   "id": "42e1d824-dd7c-41a1-99a9-360dfb7c69d9",
   "metadata": {},
   "source": [
    "# 데이터 정제, 더미변수 생성\n",
    "- 실제 RStudio 분석에 쓸 수 있도록 데이터를 정제"
   ]
  },
  {
   "cell_type": "code",
   "execution_count": 1,
   "id": "b677cb67-3189-4253-8144-8132c2a004a1",
   "metadata": {
    "execution": {
     "iopub.execute_input": "2021-12-15T06:25:59.782853Z",
     "iopub.status.busy": "2021-12-15T06:25:59.782853Z",
     "iopub.status.idle": "2021-12-15T06:26:00.109944Z",
     "shell.execute_reply": "2021-12-15T06:26:00.109944Z",
     "shell.execute_reply.started": "2021-12-15T06:25:59.782853Z"
    }
   },
   "outputs": [],
   "source": [
    "import pandas as pd\n",
    "import numpy as np\n",
    "import os\n",
    "from tqdm import tqdm"
   ]
  },
  {
   "cell_type": "code",
   "execution_count": 2,
   "id": "c26b351d-ae75-4826-9461-4764c536fa46",
   "metadata": {
    "execution": {
     "iopub.execute_input": "2021-12-15T06:26:00.109944Z",
     "iopub.status.busy": "2021-12-15T06:26:00.109944Z",
     "iopub.status.idle": "2021-12-15T06:26:00.125811Z",
     "shell.execute_reply": "2021-12-15T06:26:00.125811Z",
     "shell.execute_reply.started": "2021-12-15T06:26:00.109944Z"
    },
    "tags": []
   },
   "outputs": [],
   "source": [
    "uphill_dir = 'data'\n",
    "uphill_file = '202111_uphill_congestion_merged.csv'\n",
    "uphill_path = os.path.join(uphill_dir, uphill_file)"
   ]
  },
  {
   "cell_type": "code",
   "execution_count": 3,
   "id": "d9bd9228-d988-4369-8df8-fa8e7808d6a6",
   "metadata": {
    "execution": {
     "iopub.execute_input": "2021-12-15T06:26:00.126805Z",
     "iopub.status.busy": "2021-12-15T06:26:00.126805Z",
     "iopub.status.idle": "2021-12-15T06:26:01.601118Z",
     "shell.execute_reply": "2021-12-15T06:26:01.601118Z",
     "shell.execute_reply.started": "2021-12-15T06:26:00.126805Z"
    },
    "tags": []
   },
   "outputs": [
    {
     "data": {
      "text/html": [
       "<div>\n",
       "<style scoped>\n",
       "    .dataframe tbody tr th:only-of-type {\n",
       "        vertical-align: middle;\n",
       "    }\n",
       "\n",
       "    .dataframe tbody tr th {\n",
       "        vertical-align: top;\n",
       "    }\n",
       "\n",
       "    .dataframe thead th {\n",
       "        text-align: right;\n",
       "    }\n",
       "</style>\n",
       "<table border=\"1\" class=\"dataframe\">\n",
       "  <thead>\n",
       "    <tr style=\"text-align: right;\">\n",
       "      <th></th>\n",
       "      <th>집계시분</th>\n",
       "      <th>VDS_ID</th>\n",
       "      <th>기점종점방향구분코드</th>\n",
       "      <th>노선번호</th>\n",
       "      <th>지점이정</th>\n",
       "      <th>도로이정</th>\n",
       "      <th>평균교통량</th>\n",
       "      <th>평균속도</th>\n",
       "      <th>혼잡빈도수</th>\n",
       "      <th>차로번호</th>\n",
       "      <th>...</th>\n",
       "      <th>차로수</th>\n",
       "      <th>길어깨폭원(m)</th>\n",
       "      <th>설치형식</th>\n",
       "      <th>현재운영_설치형식</th>\n",
       "      <th>중방향계수</th>\n",
       "      <th>중차량구성비</th>\n",
       "      <th>가속차로_연장(m)</th>\n",
       "      <th>감속차로_연장(m)</th>\n",
       "      <th>감속차로_폭(m)</th>\n",
       "      <th>종점후터널유무</th>\n",
       "    </tr>\n",
       "  </thead>\n",
       "  <tbody>\n",
       "    <tr>\n",
       "      <th>0</th>\n",
       "      <td>00:00</td>\n",
       "      <td>0010VDS00700</td>\n",
       "      <td>S</td>\n",
       "      <td>10</td>\n",
       "      <td>7.3</td>\n",
       "      <td>12.86</td>\n",
       "      <td>4</td>\n",
       "      <td>116.46</td>\n",
       "      <td>0</td>\n",
       "      <td>1</td>\n",
       "      <td>...</td>\n",
       "      <td>4</td>\n",
       "      <td>2.5</td>\n",
       "      <td>2</td>\n",
       "      <td>포켓형</td>\n",
       "      <td>0.49</td>\n",
       "      <td>0.1887</td>\n",
       "      <td>90.0</td>\n",
       "      <td>55.0</td>\n",
       "      <td>3.8</td>\n",
       "      <td>0</td>\n",
       "    </tr>\n",
       "    <tr>\n",
       "      <th>1</th>\n",
       "      <td>00:00</td>\n",
       "      <td>0010VDS00700</td>\n",
       "      <td>S</td>\n",
       "      <td>10</td>\n",
       "      <td>7.3</td>\n",
       "      <td>12.86</td>\n",
       "      <td>10</td>\n",
       "      <td>104.19</td>\n",
       "      <td>0</td>\n",
       "      <td>2</td>\n",
       "      <td>...</td>\n",
       "      <td>4</td>\n",
       "      <td>2.5</td>\n",
       "      <td>2</td>\n",
       "      <td>포켓형</td>\n",
       "      <td>0.49</td>\n",
       "      <td>0.1887</td>\n",
       "      <td>90.0</td>\n",
       "      <td>55.0</td>\n",
       "      <td>3.8</td>\n",
       "      <td>0</td>\n",
       "    </tr>\n",
       "    <tr>\n",
       "      <th>2</th>\n",
       "      <td>00:00</td>\n",
       "      <td>0010VDS00700</td>\n",
       "      <td>S</td>\n",
       "      <td>10</td>\n",
       "      <td>7.3</td>\n",
       "      <td>12.86</td>\n",
       "      <td>7</td>\n",
       "      <td>83.34</td>\n",
       "      <td>0</td>\n",
       "      <td>3</td>\n",
       "      <td>...</td>\n",
       "      <td>4</td>\n",
       "      <td>2.5</td>\n",
       "      <td>2</td>\n",
       "      <td>포켓형</td>\n",
       "      <td>0.49</td>\n",
       "      <td>0.1887</td>\n",
       "      <td>90.0</td>\n",
       "      <td>55.0</td>\n",
       "      <td>3.8</td>\n",
       "      <td>0</td>\n",
       "    </tr>\n",
       "  </tbody>\n",
       "</table>\n",
       "<p>3 rows × 25 columns</p>\n",
       "</div>"
      ],
      "text/plain": [
       "    집계시분        VDS_ID 기점종점방향구분코드  노선번호  지점이정   도로이정  평균교통량    평균속도  혼잡빈도수  \\\n",
       "0  00:00  0010VDS00700          S    10   7.3  12.86      4  116.46      0   \n",
       "1  00:00  0010VDS00700          S    10   7.3  12.86     10  104.19      0   \n",
       "2  00:00  0010VDS00700          S    10   7.3  12.86      7   83.34      0   \n",
       "\n",
       "   차로번호  ... 차로수  길어깨폭원(m) 설치형식 현재운영_설치형식 중방향계수  중차량구성비  가속차로_연장(m)  \\\n",
       "0     1  ...   4       2.5    2       포켓형  0.49  0.1887        90.0   \n",
       "1     2  ...   4       2.5    2       포켓형  0.49  0.1887        90.0   \n",
       "2     3  ...   4       2.5    2       포켓형  0.49  0.1887        90.0   \n",
       "\n",
       "   감속차로_연장(m) 감속차로_폭(m)  종점후터널유무  \n",
       "0        55.0       3.8        0  \n",
       "1        55.0       3.8        0  \n",
       "2        55.0       3.8        0  \n",
       "\n",
       "[3 rows x 25 columns]"
      ]
     },
     "execution_count": 3,
     "metadata": {},
     "output_type": "execute_result"
    }
   ],
   "source": [
    "uphill = pd.read_csv(uphill_path, encoding = 'cp949')\n",
    "uphill = uphill.drop(['Unnamed: 0', 'Unnamed: 0.1', '터널까지거리'], axis = 'columns')\n",
    "uphill.head(3)"
   ]
  },
  {
   "cell_type": "code",
   "execution_count": 4,
   "id": "41dfd149-2b9b-47b9-b420-056d250bcfa8",
   "metadata": {
    "execution": {
     "iopub.execute_input": "2021-12-15T06:26:01.602097Z",
     "iopub.status.busy": "2021-12-15T06:26:01.602097Z",
     "iopub.status.idle": "2021-12-15T06:26:01.617076Z",
     "shell.execute_reply": "2021-12-15T06:26:01.617076Z",
     "shell.execute_reply.started": "2021-12-15T06:26:01.602097Z"
    },
    "tags": []
   },
   "outputs": [
    {
     "data": {
      "text/plain": [
       "Index(['집계시분', 'VDS_ID', '기점종점방향구분코드', '노선번호', '지점이정', '도로이정', '평균교통량', '평균속도',\n",
       "       '혼잡빈도수', '차로번호', '콘존명', '콘존길이', '노선', 'R(m)', 'I(%)', '차로수', '길어깨폭원(m)',\n",
       "       '설치형식', '현재운영_설치형식', '중방향계수', '중차량구성비', '가속차로_연장(m)', '감속차로_연장(m)',\n",
       "       '감속차로_폭(m)', '종점후터널유무'],\n",
       "      dtype='object')"
      ]
     },
     "execution_count": 4,
     "metadata": {},
     "output_type": "execute_result"
    }
   ],
   "source": [
    "uphill.columns"
   ]
  },
  {
   "cell_type": "markdown",
   "id": "e9e478ad-7e65-418d-a51b-f9c221451ebf",
   "metadata": {},
   "source": [
    "## 더미변수 생성을 위한 함수 정의\n",
    "* 집계시분 : 3시간 단위의 '시간대'로 변경\n",
    "* 차로번호 : lane_1, lane_2, lane_3, lane_4\n",
    "* 현재운영_설치형식 : 포켓형-uphilltype_2, 추월차로형-uphilltype_3, (기본:폐쇄형)"
   ]
  },
  {
   "cell_type": "code",
   "execution_count": 5,
   "id": "3a7f4dae-7b48-4dfd-ae80-3752fab3dadf",
   "metadata": {
    "execution": {
     "iopub.execute_input": "2021-12-15T06:26:01.618080Z",
     "iopub.status.busy": "2021-12-15T06:26:01.618080Z",
     "iopub.status.idle": "2021-12-15T06:26:01.633032Z",
     "shell.execute_reply": "2021-12-15T06:26:01.633032Z",
     "shell.execute_reply.started": "2021-12-15T06:26:01.618080Z"
    },
    "tags": []
   },
   "outputs": [],
   "source": [
    "def timefunc(x):\n",
    "    \"\"\"시간대(timeline) 변수 생성\"\"\"\n",
    "    t = int(x[:-3])\n",
    "    \n",
    "    if t >= 0 and t < 3:\n",
    "        return '00-03'\n",
    "    elif t >= 3 and t < 6:\n",
    "        return '03-06'\n",
    "    elif t >= 6 and t < 9:\n",
    "        return '06-09'\n",
    "    elif t >= 9 and t < 12:\n",
    "        return '09-12'\n",
    "    elif t >= 12 and t < 15:\n",
    "        return '12-15'\n",
    "    elif t >= 15 and t < 18:\n",
    "        return '15-18'\n",
    "    elif t >= 18 and t < 21:\n",
    "        return '18-21'\n",
    "    elif t >= 21 and t < 24:\n",
    "        return '21-24'"
   ]
  },
  {
   "cell_type": "markdown",
   "id": "d9cb0eeb-f167-422f-ad2c-1a511be4a4f8",
   "metadata": {},
   "source": [
    "## 더미변수 만들기"
   ]
  },
  {
   "cell_type": "code",
   "execution_count": 6,
   "id": "d8e06f6e-2907-4152-9f8b-c7db769b1d7d",
   "metadata": {
    "execution": {
     "iopub.execute_input": "2021-12-15T06:26:01.634007Z",
     "iopub.status.busy": "2021-12-15T06:26:01.634007Z",
     "iopub.status.idle": "2021-12-15T06:26:01.879297Z",
     "shell.execute_reply": "2021-12-15T06:26:01.879297Z",
     "shell.execute_reply.started": "2021-12-15T06:26:01.634007Z"
    }
   },
   "outputs": [],
   "source": [
    "uphill['time'] = uphill['집계시분'].apply(timefunc)"
   ]
  },
  {
   "cell_type": "code",
   "execution_count": 7,
   "id": "f2f33bbc-2a81-49f8-b95c-8e612af290ad",
   "metadata": {
    "execution": {
     "iopub.execute_input": "2021-12-15T06:26:01.879297Z",
     "iopub.status.busy": "2021-12-15T06:26:01.879297Z",
     "iopub.status.idle": "2021-12-15T06:26:01.911088Z",
     "shell.execute_reply": "2021-12-15T06:26:01.911088Z",
     "shell.execute_reply.started": "2021-12-15T06:26:01.879297Z"
    },
    "tags": []
   },
   "outputs": [
    {
     "data": {
      "text/html": [
       "<div>\n",
       "<style scoped>\n",
       "    .dataframe tbody tr th:only-of-type {\n",
       "        vertical-align: middle;\n",
       "    }\n",
       "\n",
       "    .dataframe tbody tr th {\n",
       "        vertical-align: top;\n",
       "    }\n",
       "\n",
       "    .dataframe thead th {\n",
       "        text-align: right;\n",
       "    }\n",
       "</style>\n",
       "<table border=\"1\" class=\"dataframe\">\n",
       "  <thead>\n",
       "    <tr style=\"text-align: right;\">\n",
       "      <th></th>\n",
       "      <th>집계시분</th>\n",
       "      <th>VDS_ID</th>\n",
       "      <th>기점종점방향구분코드</th>\n",
       "      <th>노선번호</th>\n",
       "      <th>지점이정</th>\n",
       "      <th>도로이정</th>\n",
       "      <th>평균교통량</th>\n",
       "      <th>평균속도</th>\n",
       "      <th>혼잡빈도수</th>\n",
       "      <th>차로번호</th>\n",
       "      <th>...</th>\n",
       "      <th>길어깨폭원(m)</th>\n",
       "      <th>설치형식</th>\n",
       "      <th>현재운영_설치형식</th>\n",
       "      <th>중방향계수</th>\n",
       "      <th>중차량구성비</th>\n",
       "      <th>가속차로_연장(m)</th>\n",
       "      <th>감속차로_연장(m)</th>\n",
       "      <th>감속차로_폭(m)</th>\n",
       "      <th>종점후터널유무</th>\n",
       "      <th>time</th>\n",
       "    </tr>\n",
       "  </thead>\n",
       "  <tbody>\n",
       "    <tr>\n",
       "      <th>0</th>\n",
       "      <td>00:00</td>\n",
       "      <td>0010VDS00700</td>\n",
       "      <td>S</td>\n",
       "      <td>10</td>\n",
       "      <td>7.3</td>\n",
       "      <td>12.86</td>\n",
       "      <td>4</td>\n",
       "      <td>116.46</td>\n",
       "      <td>0</td>\n",
       "      <td>1</td>\n",
       "      <td>...</td>\n",
       "      <td>2.5</td>\n",
       "      <td>2</td>\n",
       "      <td>포켓형</td>\n",
       "      <td>0.49</td>\n",
       "      <td>0.1887</td>\n",
       "      <td>90.0</td>\n",
       "      <td>55.0</td>\n",
       "      <td>3.8</td>\n",
       "      <td>0</td>\n",
       "      <td>00-03</td>\n",
       "    </tr>\n",
       "    <tr>\n",
       "      <th>1</th>\n",
       "      <td>00:00</td>\n",
       "      <td>0010VDS00700</td>\n",
       "      <td>S</td>\n",
       "      <td>10</td>\n",
       "      <td>7.3</td>\n",
       "      <td>12.86</td>\n",
       "      <td>10</td>\n",
       "      <td>104.19</td>\n",
       "      <td>0</td>\n",
       "      <td>2</td>\n",
       "      <td>...</td>\n",
       "      <td>2.5</td>\n",
       "      <td>2</td>\n",
       "      <td>포켓형</td>\n",
       "      <td>0.49</td>\n",
       "      <td>0.1887</td>\n",
       "      <td>90.0</td>\n",
       "      <td>55.0</td>\n",
       "      <td>3.8</td>\n",
       "      <td>0</td>\n",
       "      <td>00-03</td>\n",
       "    </tr>\n",
       "    <tr>\n",
       "      <th>2</th>\n",
       "      <td>00:00</td>\n",
       "      <td>0010VDS00700</td>\n",
       "      <td>S</td>\n",
       "      <td>10</td>\n",
       "      <td>7.3</td>\n",
       "      <td>12.86</td>\n",
       "      <td>7</td>\n",
       "      <td>83.34</td>\n",
       "      <td>0</td>\n",
       "      <td>3</td>\n",
       "      <td>...</td>\n",
       "      <td>2.5</td>\n",
       "      <td>2</td>\n",
       "      <td>포켓형</td>\n",
       "      <td>0.49</td>\n",
       "      <td>0.1887</td>\n",
       "      <td>90.0</td>\n",
       "      <td>55.0</td>\n",
       "      <td>3.8</td>\n",
       "      <td>0</td>\n",
       "      <td>00-03</td>\n",
       "    </tr>\n",
       "  </tbody>\n",
       "</table>\n",
       "<p>3 rows × 26 columns</p>\n",
       "</div>"
      ],
      "text/plain": [
       "    집계시분        VDS_ID 기점종점방향구분코드  노선번호  지점이정   도로이정  평균교통량    평균속도  혼잡빈도수  \\\n",
       "0  00:00  0010VDS00700          S    10   7.3  12.86      4  116.46      0   \n",
       "1  00:00  0010VDS00700          S    10   7.3  12.86     10  104.19      0   \n",
       "2  00:00  0010VDS00700          S    10   7.3  12.86      7   83.34      0   \n",
       "\n",
       "   차로번호  ... 길어깨폭원(m)  설치형식 현재운영_설치형식 중방향계수  중차량구성비  가속차로_연장(m)  감속차로_연장(m)  \\\n",
       "0     1  ...      2.5     2       포켓형  0.49  0.1887        90.0        55.0   \n",
       "1     2  ...      2.5     2       포켓형  0.49  0.1887        90.0        55.0   \n",
       "2     3  ...      2.5     2       포켓형  0.49  0.1887        90.0        55.0   \n",
       "\n",
       "   감속차로_폭(m) 종점후터널유무   time  \n",
       "0        3.8       0  00-03  \n",
       "1        3.8       0  00-03  \n",
       "2        3.8       0  00-03  \n",
       "\n",
       "[3 rows x 26 columns]"
      ]
     },
     "execution_count": 7,
     "metadata": {},
     "output_type": "execute_result"
    }
   ],
   "source": [
    "uphill.head(3)"
   ]
  },
  {
   "cell_type": "code",
   "execution_count": 8,
   "id": "42361c59-d0ec-43af-9dd7-de36e760b603",
   "metadata": {
    "execution": {
     "iopub.execute_input": "2021-12-15T06:26:01.912088Z",
     "iopub.status.busy": "2021-12-15T06:26:01.912088Z",
     "iopub.status.idle": "2021-12-15T06:26:01.927051Z",
     "shell.execute_reply": "2021-12-15T06:26:01.927051Z",
     "shell.execute_reply.started": "2021-12-15T06:26:01.912088Z"
    },
    "tags": []
   },
   "outputs": [],
   "source": [
    "save_file = 'FIN_uphill_merged_ver3_202111.csv'\n",
    "save_path = os.path.join(uphill_dir, save_file)"
   ]
  },
  {
   "cell_type": "code",
   "execution_count": 9,
   "id": "dae73352-56cd-4496-8ee9-12bc2d1642d8",
   "metadata": {
    "execution": {
     "iopub.execute_input": "2021-12-15T06:26:01.929051Z",
     "iopub.status.busy": "2021-12-15T06:26:01.928014Z",
     "iopub.status.idle": "2021-12-15T06:26:05.988304Z",
     "shell.execute_reply": "2021-12-15T06:26:05.988106Z",
     "shell.execute_reply.started": "2021-12-15T06:26:01.929051Z"
    },
    "tags": []
   },
   "outputs": [],
   "source": [
    "uphill.to_csv(save_path, encoding = 'cp949')"
   ]
  }
 ],
 "metadata": {
  "kernelspec": {
   "display_name": "Python 3",
   "language": "python",
   "name": "python3"
  },
  "language_info": {
   "codemirror_mode": {
    "name": "ipython",
    "version": 3
   },
   "file_extension": ".py",
   "mimetype": "text/x-python",
   "name": "python",
   "nbconvert_exporter": "python",
   "pygments_lexer": "ipython3",
   "version": "3.8.8"
  }
 },
 "nbformat": 4,
 "nbformat_minor": 5
}
