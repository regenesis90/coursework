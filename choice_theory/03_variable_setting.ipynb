{
 "cells": [
  {
   "cell_type": "markdown",
   "id": "42e1d824-dd7c-41a1-99a9-360dfb7c69d9",
   "metadata": {},
   "source": [
    "# 데이터 정제, 더미변수 생성\n",
    "- 실제 RStudio 분석에 쓸 수 있도록 데이터를 정제"
   ]
  },
  {
   "cell_type": "code",
   "execution_count": 1,
   "id": "b677cb67-3189-4253-8144-8132c2a004a1",
   "metadata": {
    "execution": {
     "iopub.execute_input": "2021-12-17T02:32:43.609479Z",
     "iopub.status.busy": "2021-12-17T02:32:43.609479Z",
     "iopub.status.idle": "2021-12-17T02:32:45.190087Z",
     "shell.execute_reply": "2021-12-17T02:32:45.190087Z",
     "shell.execute_reply.started": "2021-12-17T02:32:43.609479Z"
    }
   },
   "outputs": [],
   "source": [
    "import pandas as pd\n",
    "import numpy as np\n",
    "import os\n",
    "from tqdm import tqdm"
   ]
  },
  {
   "cell_type": "code",
   "execution_count": 2,
   "id": "c26b351d-ae75-4826-9461-4764c536fa46",
   "metadata": {
    "execution": {
     "iopub.execute_input": "2021-12-17T02:32:45.190087Z",
     "iopub.status.busy": "2021-12-17T02:32:45.190087Z",
     "iopub.status.idle": "2021-12-17T02:32:45.205209Z",
     "shell.execute_reply": "2021-12-17T02:32:45.204207Z",
     "shell.execute_reply.started": "2021-12-17T02:32:45.190087Z"
    },
    "tags": []
   },
   "outputs": [],
   "source": [
    "uphill_dir = 'data'\n",
    "uphill_file = '202111_uphill_congestion_merged.csv'\n",
    "uphill_path = os.path.join(uphill_dir, uphill_file)"
   ]
  },
  {
   "cell_type": "code",
   "execution_count": 3,
   "id": "d9bd9228-d988-4369-8df8-fa8e7808d6a6",
   "metadata": {
    "execution": {
     "iopub.execute_input": "2021-12-17T02:32:45.207201Z",
     "iopub.status.busy": "2021-12-17T02:32:45.206208Z",
     "iopub.status.idle": "2021-12-17T02:32:45.470575Z",
     "shell.execute_reply": "2021-12-17T02:32:45.469606Z",
     "shell.execute_reply.started": "2021-12-17T02:32:45.207201Z"
    },
    "tags": []
   },
   "outputs": [
    {
     "data": {
      "text/html": [
       "<div>\n",
       "<style scoped>\n",
       "    .dataframe tbody tr th:only-of-type {\n",
       "        vertical-align: middle;\n",
       "    }\n",
       "\n",
       "    .dataframe tbody tr th {\n",
       "        vertical-align: top;\n",
       "    }\n",
       "\n",
       "    .dataframe thead th {\n",
       "        text-align: right;\n",
       "    }\n",
       "</style>\n",
       "<table border=\"1\" class=\"dataframe\">\n",
       "  <thead>\n",
       "    <tr style=\"text-align: right;\">\n",
       "      <th></th>\n",
       "      <th>집계년월</th>\n",
       "      <th>집계시분</th>\n",
       "      <th>VDS_ID</th>\n",
       "      <th>기점종점방향구분코드</th>\n",
       "      <th>노선번호</th>\n",
       "      <th>지점이정</th>\n",
       "      <th>도로이정</th>\n",
       "      <th>평균교통량</th>\n",
       "      <th>평균속도</th>\n",
       "      <th>혼잡빈도수</th>\n",
       "      <th>...</th>\n",
       "      <th>차로수</th>\n",
       "      <th>길어깨폭원(m)</th>\n",
       "      <th>설치형식</th>\n",
       "      <th>현재운영_설치형식</th>\n",
       "      <th>중방향계수</th>\n",
       "      <th>중차량구성비</th>\n",
       "      <th>가속차로_연장(m)</th>\n",
       "      <th>감속차로_연장(m)</th>\n",
       "      <th>감속차로_폭(m)</th>\n",
       "      <th>종점후터널유무</th>\n",
       "    </tr>\n",
       "  </thead>\n",
       "  <tbody>\n",
       "    <tr>\n",
       "      <th>0</th>\n",
       "      <td>202111</td>\n",
       "      <td>01:50</td>\n",
       "      <td>0100VDE03700</td>\n",
       "      <td>E</td>\n",
       "      <td>100</td>\n",
       "      <td>38.4</td>\n",
       "      <td>35.6</td>\n",
       "      <td>2</td>\n",
       "      <td>94.99</td>\n",
       "      <td>0</td>\n",
       "      <td>...</td>\n",
       "      <td>3</td>\n",
       "      <td>1.5</td>\n",
       "      <td>3</td>\n",
       "      <td>추월차로형</td>\n",
       "      <td>0.5</td>\n",
       "      <td>0.146</td>\n",
       "      <td>150.0</td>\n",
       "      <td>140.0</td>\n",
       "      <td>3.6</td>\n",
       "      <td>0</td>\n",
       "    </tr>\n",
       "    <tr>\n",
       "      <th>1</th>\n",
       "      <td>202111</td>\n",
       "      <td>01:50</td>\n",
       "      <td>0100VDE03700</td>\n",
       "      <td>E</td>\n",
       "      <td>100</td>\n",
       "      <td>38.4</td>\n",
       "      <td>35.6</td>\n",
       "      <td>3</td>\n",
       "      <td>76.62</td>\n",
       "      <td>0</td>\n",
       "      <td>...</td>\n",
       "      <td>3</td>\n",
       "      <td>1.5</td>\n",
       "      <td>3</td>\n",
       "      <td>추월차로형</td>\n",
       "      <td>0.5</td>\n",
       "      <td>0.146</td>\n",
       "      <td>150.0</td>\n",
       "      <td>140.0</td>\n",
       "      <td>3.6</td>\n",
       "      <td>0</td>\n",
       "    </tr>\n",
       "    <tr>\n",
       "      <th>2</th>\n",
       "      <td>202111</td>\n",
       "      <td>01:50</td>\n",
       "      <td>0100VDS04100</td>\n",
       "      <td>S</td>\n",
       "      <td>100</td>\n",
       "      <td>42.8</td>\n",
       "      <td>45.7</td>\n",
       "      <td>1</td>\n",
       "      <td>93.64</td>\n",
       "      <td>0</td>\n",
       "      <td>...</td>\n",
       "      <td>3</td>\n",
       "      <td>1.5</td>\n",
       "      <td>3</td>\n",
       "      <td>추월차로형</td>\n",
       "      <td>0.5</td>\n",
       "      <td>0.156</td>\n",
       "      <td>240.0</td>\n",
       "      <td>200.0</td>\n",
       "      <td>3.6</td>\n",
       "      <td>0</td>\n",
       "    </tr>\n",
       "  </tbody>\n",
       "</table>\n",
       "<p>3 rows × 26 columns</p>\n",
       "</div>"
      ],
      "text/plain": [
       "     집계년월   집계시분        VDS_ID 기점종점방향구분코드  노선번호  지점이정  도로이정  평균교통량   평균속도  \\\n",
       "0  202111  01:50  0100VDE03700          E   100  38.4  35.6      2  94.99   \n",
       "1  202111  01:50  0100VDE03700          E   100  38.4  35.6      3  76.62   \n",
       "2  202111  01:50  0100VDS04100          S   100  42.8  45.7      1  93.64   \n",
       "\n",
       "   혼잡빈도수  ...  차로수 길어깨폭원(m)  설치형식 현재운영_설치형식 중방향계수 중차량구성비  가속차로_연장(m)  \\\n",
       "0      0  ...    3      1.5     3     추월차로형   0.5  0.146       150.0   \n",
       "1      0  ...    3      1.5     3     추월차로형   0.5  0.146       150.0   \n",
       "2      0  ...    3      1.5     3     추월차로형   0.5  0.156       240.0   \n",
       "\n",
       "   감속차로_연장(m)  감속차로_폭(m) 종점후터널유무  \n",
       "0       140.0        3.6       0  \n",
       "1       140.0        3.6       0  \n",
       "2       200.0        3.6       0  \n",
       "\n",
       "[3 rows x 26 columns]"
      ]
     },
     "execution_count": 3,
     "metadata": {},
     "output_type": "execute_result"
    }
   ],
   "source": [
    "uphill = pd.read_csv(uphill_path, encoding = 'cp949')\n",
    "uphill = uphill.drop(['Unnamed: 0', 'Unnamed: 0.1', '터널까지거리'], axis = 'columns')\n",
    "uphill.head(3)"
   ]
  },
  {
   "cell_type": "code",
   "execution_count": 4,
   "id": "41dfd149-2b9b-47b9-b420-056d250bcfa8",
   "metadata": {
    "execution": {
     "iopub.execute_input": "2021-12-17T02:32:45.471573Z",
     "iopub.status.busy": "2021-12-17T02:32:45.471573Z",
     "iopub.status.idle": "2021-12-17T02:32:45.486534Z",
     "shell.execute_reply": "2021-12-17T02:32:45.485536Z",
     "shell.execute_reply.started": "2021-12-17T02:32:45.471573Z"
    },
    "tags": []
   },
   "outputs": [
    {
     "data": {
      "text/plain": [
       "Index(['집계년월', '집계시분', 'VDS_ID', '기점종점방향구분코드', '노선번호', '지점이정', '도로이정', '평균교통량',\n",
       "       '평균속도', '혼잡빈도수', '차로번호', '콘존명', '콘존길이', '노선', 'R(m)', 'I(%)', '차로수',\n",
       "       '길어깨폭원(m)', '설치형식', '현재운영_설치형식', '중방향계수', '중차량구성비', '가속차로_연장(m)',\n",
       "       '감속차로_연장(m)', '감속차로_폭(m)', '종점후터널유무'],\n",
       "      dtype='object')"
      ]
     },
     "execution_count": 4,
     "metadata": {},
     "output_type": "execute_result"
    }
   ],
   "source": [
    "uphill.columns"
   ]
  },
  {
   "cell_type": "markdown",
   "id": "e9e478ad-7e65-418d-a51b-f9c221451ebf",
   "metadata": {},
   "source": [
    "## 더미변수 생성을 위한 함수 정의\n",
    "* 집계시분 : 3시간 단위의 '시간대'로 변경\n",
    "* 차로번호 : lane_1, lane_2, lane_3, lane_4\n",
    "* 현재운영_설치형식 : 포켓형-uphilltype_2, 추월차로형-uphilltype_3, (기본:폐쇄형)"
   ]
  },
  {
   "cell_type": "code",
   "execution_count": 5,
   "id": "3a7f4dae-7b48-4dfd-ae80-3752fab3dadf",
   "metadata": {
    "execution": {
     "iopub.execute_input": "2021-12-17T02:32:45.487591Z",
     "iopub.status.busy": "2021-12-17T02:32:45.487591Z",
     "iopub.status.idle": "2021-12-17T02:32:45.502572Z",
     "shell.execute_reply": "2021-12-17T02:32:45.501574Z",
     "shell.execute_reply.started": "2021-12-17T02:32:45.487591Z"
    },
    "tags": []
   },
   "outputs": [],
   "source": [
    "def timefunc(x):\n",
    "    \"\"\"시간대(timeline) 변수 생성\"\"\"\n",
    "    t = int(x[:-3])\n",
    "    \n",
    "    if t >= 0 and t < 3:\n",
    "        return '00-03'\n",
    "    elif t >= 3 and t < 6:\n",
    "        return '03-06'\n",
    "    elif t >= 6 and t < 9:\n",
    "        return '06-09'\n",
    "    elif t >= 9 and t < 12:\n",
    "        return '09-12'\n",
    "    elif t >= 12 and t < 15:\n",
    "        return '12-15'\n",
    "    elif t >= 15 and t < 18:\n",
    "        return '15-18'\n",
    "    elif t >= 18 and t < 21:\n",
    "        return '18-21'\n",
    "    elif t >= 21 and t < 24:\n",
    "        return '21-24'"
   ]
  },
  {
   "cell_type": "code",
   "execution_count": 6,
   "id": "6a1c9ba9-83d2-4e65-bf95-06b3d6efaa34",
   "metadata": {
    "execution": {
     "iopub.execute_input": "2021-12-17T02:32:45.503589Z",
     "iopub.status.busy": "2021-12-17T02:32:45.502572Z",
     "iopub.status.idle": "2021-12-17T02:32:45.517553Z",
     "shell.execute_reply": "2021-12-17T02:32:45.517553Z",
     "shell.execute_reply.started": "2021-12-17T02:32:45.503589Z"
    },
    "tags": []
   },
   "outputs": [],
   "source": [
    "## 시간대 더미변수 : 00-03이 기준임\n",
    "\n",
    "def timefunc_0306(x):\n",
    "    \"\"\"시간대(time) :: 03-06\"\"\"\n",
    "    if x == '03-06':\n",
    "        return 1\n",
    "    else:\n",
    "        return 0\n",
    "    \n",
    "def timefunc_0609(x):\n",
    "    \"\"\"시간대(time) :: 06-09\"\"\"\n",
    "    if x == '06-09':\n",
    "        return 1\n",
    "    else:\n",
    "        return 0\n",
    "    \n",
    "def timefunc_0912(x):\n",
    "    \"\"\"시간대(time) :: 09-12\"\"\"\n",
    "    if x == '09-12':\n",
    "        return 1\n",
    "    else:\n",
    "        return 0\n",
    "\n",
    "def timefunc_1215(x):\n",
    "    \"\"\"시간대(time) :: 12-15\"\"\"\n",
    "    if x == '12-15':\n",
    "        return 1\n",
    "    else:\n",
    "        return 0\n",
    "\n",
    "def timefunc_1518(x):\n",
    "    \"\"\"시간대(time) :: 15-18\"\"\"\n",
    "    if x == '15-18':\n",
    "        return 1\n",
    "    else:\n",
    "        return 0\n",
    "\n",
    "def timefunc_1821(x):\n",
    "    \"\"\"시간대(time) :: 18-21\"\"\"\n",
    "    if x == '18-21':\n",
    "        return 1\n",
    "    else:\n",
    "        return 0\n",
    "\n",
    "def timefunc_2124(x):\n",
    "    \"\"\"시간대(time) :: 21-24\"\"\"\n",
    "    if x == '21-24':\n",
    "        return 1\n",
    "    else:\n",
    "        return 0"
   ]
  },
  {
   "cell_type": "code",
   "execution_count": 7,
   "id": "5e516420-6ad0-4cf2-8ead-e036b18d5957",
   "metadata": {
    "execution": {
     "iopub.execute_input": "2021-12-17T02:32:45.518558Z",
     "iopub.status.busy": "2021-12-17T02:32:45.518558Z",
     "iopub.status.idle": "2021-12-17T02:32:45.533490Z",
     "shell.execute_reply": "2021-12-17T02:32:45.532494Z",
     "shell.execute_reply.started": "2021-12-17T02:32:45.518558Z"
    },
    "tags": []
   },
   "outputs": [],
   "source": [
    "def lanenum_2(x):\n",
    "    \"\"\"차로번호별 더미변수 생성: 차로번호 == 2\"\"\"\n",
    "    if x == 2:\n",
    "        return 1\n",
    "    else:\n",
    "        return 0\n",
    "    \n",
    "def lanenum_3(x):\n",
    "    \"\"\"차로번호별 더미변수 생성: 차로번호 == 3\"\"\"\n",
    "    if x == 3:\n",
    "        return 1\n",
    "    else:\n",
    "        return 0\n",
    "    \n",
    "def lanenum_4(x):\n",
    "    \"\"\"차로번호별 더미변수 생성: 차로번호 == 4\"\"\"\n",
    "    if x == 4:\n",
    "        return 1\n",
    "    else:\n",
    "\n",
    "        return 0"
   ]
  },
  {
   "cell_type": "code",
   "execution_count": 8,
   "id": "db655433-8e27-4113-8d3d-2ca0b25f7726",
   "metadata": {
    "execution": {
     "iopub.execute_input": "2021-12-17T02:32:45.534496Z",
     "iopub.status.busy": "2021-12-17T02:32:45.534496Z",
     "iopub.status.idle": "2021-12-17T02:32:45.548477Z",
     "shell.execute_reply": "2021-12-17T02:32:45.548477Z",
     "shell.execute_reply.started": "2021-12-17T02:32:45.534496Z"
    },
    "tags": []
   },
   "outputs": [],
   "source": [
    "# 그거... 폐쇄형(1)이 기준임\n",
    "\n",
    "def lanetype_02(x):\n",
    "    \"\"\"현재운영_설치형식 :: 포켓형(2)일 시\"\"\"\n",
    "    if x == '포켓형':\n",
    "        return 1\n",
    "    else:\n",
    "        return 0\n",
    "    \n",
    "def lanetype_03(x):\n",
    "    \"\"\"현재운영_설치형식 :: 추월차로형(3)일 시\"\"\"\n",
    "    if x == '추월차로형':\n",
    "        return 1\n",
    "    else:\n",
    "        return 0"
   ]
  },
  {
   "cell_type": "markdown",
   "id": "d9cb0eeb-f167-422f-ad2c-1a511be4a4f8",
   "metadata": {},
   "source": [
    "## 더미변수 만들기"
   ]
  },
  {
   "cell_type": "code",
   "execution_count": 9,
   "id": "d8e06f6e-2907-4152-9f8b-c7db769b1d7d",
   "metadata": {
    "execution": {
     "iopub.execute_input": "2021-12-17T02:32:45.550443Z",
     "iopub.status.busy": "2021-12-17T02:32:45.550443Z",
     "iopub.status.idle": "2021-12-17T02:32:45.660170Z",
     "shell.execute_reply": "2021-12-17T02:32:45.659182Z",
     "shell.execute_reply.started": "2021-12-17T02:32:45.550443Z"
    }
   },
   "outputs": [],
   "source": [
    "uphill['time'] = uphill['집계시분'].apply(timefunc)\n",
    "uphill['time_0306'] = uphill['time'].apply(timefunc_0306)\n",
    "uphill['time_0609'] = uphill['time'].apply(timefunc_0609)\n",
    "uphill['time_0912'] = uphill['time'].apply(timefunc_0912)\n",
    "uphill['time_1215'] = uphill['time'].apply(timefunc_1215)\n",
    "uphill['time_1518'] = uphill['time'].apply(timefunc_1518)\n",
    "uphill['time_1821'] = uphill['time'].apply(timefunc_1821)\n",
    "uphill['time_2124'] = uphill['time'].apply(timefunc_2124)"
   ]
  },
  {
   "cell_type": "code",
   "execution_count": 10,
   "id": "7b5dabd0-ebee-4a2b-8902-0301dea5acb2",
   "metadata": {
    "execution": {
     "iopub.execute_input": "2021-12-17T02:32:45.661176Z",
     "iopub.status.busy": "2021-12-17T02:32:45.660170Z",
     "iopub.status.idle": "2021-12-17T02:32:45.691096Z",
     "shell.execute_reply": "2021-12-17T02:32:45.691096Z",
     "shell.execute_reply.started": "2021-12-17T02:32:45.661176Z"
    },
    "tags": []
   },
   "outputs": [],
   "source": [
    "uphill['lanetype_01'] = uphill['현재운영_설치형식'].apply(lanetype_02)\n",
    "uphill['lanetype_02'] = uphill['현재운영_설치형식'].apply(lanetype_03)"
   ]
  },
  {
   "cell_type": "code",
   "execution_count": 11,
   "id": "94fda699-81a9-40ea-89c6-108ebe51e3c4",
   "metadata": {
    "execution": {
     "iopub.execute_input": "2021-12-17T02:32:45.692097Z",
     "iopub.status.busy": "2021-12-17T02:32:45.692097Z",
     "iopub.status.idle": "2021-12-17T02:32:45.739940Z",
     "shell.execute_reply": "2021-12-17T02:32:45.738939Z",
     "shell.execute_reply.started": "2021-12-17T02:32:45.692097Z"
    },
    "tags": []
   },
   "outputs": [],
   "source": [
    "uphill['lanenum_2'] = uphill['차로번호'].apply(lanenum_2)\n",
    "uphill['lanenum_3'] = uphill['차로번호'].apply(lanenum_3)\n",
    "uphill['lanenum_4'] = uphill['차로번호'].apply(lanenum_4)"
   ]
  },
  {
   "cell_type": "code",
   "execution_count": 12,
   "id": "f2f33bbc-2a81-49f8-b95c-8e612af290ad",
   "metadata": {
    "execution": {
     "iopub.execute_input": "2021-12-17T02:32:45.740974Z",
     "iopub.status.busy": "2021-12-17T02:32:45.740974Z",
     "iopub.status.idle": "2021-12-17T02:32:45.771852Z",
     "shell.execute_reply": "2021-12-17T02:32:45.770854Z",
     "shell.execute_reply.started": "2021-12-17T02:32:45.740974Z"
    },
    "tags": []
   },
   "outputs": [
    {
     "data": {
      "text/html": [
       "<div>\n",
       "<style scoped>\n",
       "    .dataframe tbody tr th:only-of-type {\n",
       "        vertical-align: middle;\n",
       "    }\n",
       "\n",
       "    .dataframe tbody tr th {\n",
       "        vertical-align: top;\n",
       "    }\n",
       "\n",
       "    .dataframe thead th {\n",
       "        text-align: right;\n",
       "    }\n",
       "</style>\n",
       "<table border=\"1\" class=\"dataframe\">\n",
       "  <thead>\n",
       "    <tr style=\"text-align: right;\">\n",
       "      <th></th>\n",
       "      <th>집계년월</th>\n",
       "      <th>집계시분</th>\n",
       "      <th>VDS_ID</th>\n",
       "      <th>기점종점방향구분코드</th>\n",
       "      <th>노선번호</th>\n",
       "      <th>지점이정</th>\n",
       "      <th>도로이정</th>\n",
       "      <th>평균교통량</th>\n",
       "      <th>평균속도</th>\n",
       "      <th>혼잡빈도수</th>\n",
       "      <th>...</th>\n",
       "      <th>time_0912</th>\n",
       "      <th>time_1215</th>\n",
       "      <th>time_1518</th>\n",
       "      <th>time_1821</th>\n",
       "      <th>time_2124</th>\n",
       "      <th>lanetype_01</th>\n",
       "      <th>lanetype_02</th>\n",
       "      <th>lanenum_2</th>\n",
       "      <th>lanenum_3</th>\n",
       "      <th>lanenum_4</th>\n",
       "    </tr>\n",
       "  </thead>\n",
       "  <tbody>\n",
       "    <tr>\n",
       "      <th>0</th>\n",
       "      <td>202111</td>\n",
       "      <td>01:50</td>\n",
       "      <td>0100VDE03700</td>\n",
       "      <td>E</td>\n",
       "      <td>100</td>\n",
       "      <td>38.4</td>\n",
       "      <td>35.6</td>\n",
       "      <td>2</td>\n",
       "      <td>94.99</td>\n",
       "      <td>0</td>\n",
       "      <td>...</td>\n",
       "      <td>0</td>\n",
       "      <td>0</td>\n",
       "      <td>0</td>\n",
       "      <td>0</td>\n",
       "      <td>0</td>\n",
       "      <td>0</td>\n",
       "      <td>1</td>\n",
       "      <td>0</td>\n",
       "      <td>0</td>\n",
       "      <td>0</td>\n",
       "    </tr>\n",
       "    <tr>\n",
       "      <th>1</th>\n",
       "      <td>202111</td>\n",
       "      <td>01:50</td>\n",
       "      <td>0100VDE03700</td>\n",
       "      <td>E</td>\n",
       "      <td>100</td>\n",
       "      <td>38.4</td>\n",
       "      <td>35.6</td>\n",
       "      <td>3</td>\n",
       "      <td>76.62</td>\n",
       "      <td>0</td>\n",
       "      <td>...</td>\n",
       "      <td>0</td>\n",
       "      <td>0</td>\n",
       "      <td>0</td>\n",
       "      <td>0</td>\n",
       "      <td>0</td>\n",
       "      <td>0</td>\n",
       "      <td>1</td>\n",
       "      <td>1</td>\n",
       "      <td>0</td>\n",
       "      <td>0</td>\n",
       "    </tr>\n",
       "    <tr>\n",
       "      <th>2</th>\n",
       "      <td>202111</td>\n",
       "      <td>01:50</td>\n",
       "      <td>0100VDS04100</td>\n",
       "      <td>S</td>\n",
       "      <td>100</td>\n",
       "      <td>42.8</td>\n",
       "      <td>45.7</td>\n",
       "      <td>1</td>\n",
       "      <td>93.64</td>\n",
       "      <td>0</td>\n",
       "      <td>...</td>\n",
       "      <td>0</td>\n",
       "      <td>0</td>\n",
       "      <td>0</td>\n",
       "      <td>0</td>\n",
       "      <td>0</td>\n",
       "      <td>0</td>\n",
       "      <td>1</td>\n",
       "      <td>0</td>\n",
       "      <td>0</td>\n",
       "      <td>0</td>\n",
       "    </tr>\n",
       "  </tbody>\n",
       "</table>\n",
       "<p>3 rows × 39 columns</p>\n",
       "</div>"
      ],
      "text/plain": [
       "     집계년월   집계시분        VDS_ID 기점종점방향구분코드  노선번호  지점이정  도로이정  평균교통량   평균속도  \\\n",
       "0  202111  01:50  0100VDE03700          E   100  38.4  35.6      2  94.99   \n",
       "1  202111  01:50  0100VDE03700          E   100  38.4  35.6      3  76.62   \n",
       "2  202111  01:50  0100VDS04100          S   100  42.8  45.7      1  93.64   \n",
       "\n",
       "   혼잡빈도수  ...  time_0912 time_1215  time_1518 time_1821 time_2124 lanetype_01  \\\n",
       "0      0  ...          0         0          0         0         0           0   \n",
       "1      0  ...          0         0          0         0         0           0   \n",
       "2      0  ...          0         0          0         0         0           0   \n",
       "\n",
       "   lanetype_02  lanenum_2  lanenum_3 lanenum_4  \n",
       "0            1          0          0         0  \n",
       "1            1          1          0         0  \n",
       "2            1          0          0         0  \n",
       "\n",
       "[3 rows x 39 columns]"
      ]
     },
     "execution_count": 12,
     "metadata": {},
     "output_type": "execute_result"
    }
   ],
   "source": [
    "uphill.head(3)"
   ]
  },
  {
   "cell_type": "code",
   "execution_count": 13,
   "id": "42361c59-d0ec-43af-9dd7-de36e760b603",
   "metadata": {
    "execution": {
     "iopub.execute_input": "2021-12-17T02:32:45.773848Z",
     "iopub.status.busy": "2021-12-17T02:32:45.772850Z",
     "iopub.status.idle": "2021-12-17T02:32:45.787809Z",
     "shell.execute_reply": "2021-12-17T02:32:45.786816Z",
     "shell.execute_reply.started": "2021-12-17T02:32:45.773848Z"
    },
    "tags": []
   },
   "outputs": [],
   "source": [
    "save_file = 'FIN_uphill_merged_ver4_202111.csv'\n",
    "save_path = os.path.join(uphill_dir, save_file)"
   ]
  },
  {
   "cell_type": "code",
   "execution_count": 14,
   "id": "dae73352-56cd-4496-8ee9-12bc2d1642d8",
   "metadata": {
    "execution": {
     "iopub.execute_input": "2021-12-17T02:32:45.788808Z",
     "iopub.status.busy": "2021-12-17T02:32:45.788808Z",
     "iopub.status.idle": "2021-12-17T02:32:46.235579Z",
     "shell.execute_reply": "2021-12-17T02:32:46.234551Z",
     "shell.execute_reply.started": "2021-12-17T02:32:45.788808Z"
    },
    "tags": []
   },
   "outputs": [],
   "source": [
    "uphill.to_csv(save_path, encoding = 'cp949')"
   ]
  }
 ],
 "metadata": {
  "kernelspec": {
   "display_name": "Python 3",
   "language": "python",
   "name": "python3"
  },
  "language_info": {
   "codemirror_mode": {
    "name": "ipython",
    "version": 3
   },
   "file_extension": ".py",
   "mimetype": "text/x-python",
   "name": "python",
   "nbconvert_exporter": "python",
   "pygments_lexer": "ipython3",
   "version": "3.8.8"
  }
 },
 "nbformat": 4,
 "nbformat_minor": 5
}
