{
 "cells": [
  {
   "cell_type": "code",
   "execution_count": 1,
   "id": "3b1207b4-06ad-4718-ac36-bc522f9b3279",
   "metadata": {
    "execution": {
     "iopub.execute_input": "2021-12-15T07:33:08.923679Z",
     "iopub.status.busy": "2021-12-15T07:33:08.923679Z",
     "iopub.status.idle": "2021-12-15T07:33:09.264592Z",
     "shell.execute_reply": "2021-12-15T07:33:09.264592Z",
     "shell.execute_reply.started": "2021-12-15T07:33:08.923679Z"
    },
    "tags": []
   },
   "outputs": [],
   "source": [
    "import pandas as pd\n",
    "import numpy as np\n",
    "import os\n",
    "from tqdm import tqdm"
   ]
  },
  {
   "cell_type": "code",
   "execution_count": 3,
   "id": "1f8e3241-ce65-4053-8db7-e7f3e24ec113",
   "metadata": {
    "execution": {
     "iopub.execute_input": "2021-12-15T07:33:33.961967Z",
     "iopub.status.busy": "2021-12-15T07:33:33.960941Z",
     "iopub.status.idle": "2021-12-15T07:33:34.523935Z",
     "shell.execute_reply": "2021-12-15T07:33:34.523935Z",
     "shell.execute_reply.started": "2021-12-15T07:33:33.960941Z"
    },
    "tags": []
   },
   "outputs": [],
   "source": [
    "uphill_info = pd.read_excel('data/uphill_information_edited.xlsx', sheet_name = '최종편집')"
   ]
  },
  {
   "cell_type": "markdown",
   "id": "15ccb1c6-2d42-4237-b728-9ba901871af2",
   "metadata": {},
   "source": [
    "# 혼잡빈도 파일에서 VDS 필터링"
   ]
  },
  {
   "cell_type": "code",
   "execution_count": 36,
   "id": "1139a490-139e-4cde-982b-0e6287d72c76",
   "metadata": {
    "execution": {
     "iopub.execute_input": "2021-12-09T11:17:15.400081Z",
     "iopub.status.busy": "2021-12-09T11:17:15.400081Z",
     "iopub.status.idle": "2021-12-09T11:17:15.415041Z",
     "shell.execute_reply": "2021-12-09T11:17:15.414073Z",
     "shell.execute_reply.started": "2021-12-09T11:17:15.400081Z"
    },
    "tags": []
   },
   "outputs": [
    {
     "name": "stdout",
     "output_type": "stream",
     "text": [
      "['0500VDE11700', '0500VDE11800', '0500VDS11800']\n"
     ]
    }
   ],
   "source": [
    "VDS = list(uphill_info['VDS_식별번호'].unique())\n",
    "print(VDS[:3])"
   ]
  },
  {
   "cell_type": "code",
   "execution_count": 37,
   "id": "ecb5060d-826a-43d8-bf7d-132417eb8d97",
   "metadata": {
    "execution": {
     "iopub.execute_input": "2021-12-09T11:17:15.417062Z",
     "iopub.status.busy": "2021-12-09T11:17:15.416067Z",
     "iopub.status.idle": "2021-12-09T11:17:15.430998Z",
     "shell.execute_reply": "2021-12-09T11:17:15.430026Z",
     "shell.execute_reply.started": "2021-12-09T11:17:15.417062Z"
    },
    "tags": []
   },
   "outputs": [
    {
     "name": "stdout",
     "output_type": "stream",
     "text": [
      "['혼잡빈도_202012.csv', '혼잡빈도_202101.csv', '혼잡빈도_202102.csv']\n"
     ]
    }
   ],
   "source": [
    "# 파일 이름 가져오기\n",
    "folder = 'congestion/'\n",
    "file_list = os.listdir(folder)\n",
    "print(file_list[:3])"
   ]
  },
  {
   "cell_type": "code",
   "execution_count": 38,
   "id": "92df6eef-8bbc-48f2-bf55-08ac95cbce0a",
   "metadata": {
    "execution": {
     "iopub.execute_input": "2021-12-09T11:17:15.432021Z",
     "iopub.status.busy": "2021-12-09T11:17:15.432021Z",
     "iopub.status.idle": "2021-12-09T11:17:15.446985Z",
     "shell.execute_reply": "2021-12-09T11:17:15.445984Z",
     "shell.execute_reply.started": "2021-12-09T11:17:15.432021Z"
    },
    "tags": []
   },
   "outputs": [],
   "source": [
    "save_csv_dir = 'congestion_filtered'\n",
    "os.makedirs(save_csv_dir, exist_ok = True)"
   ]
  },
  {
   "cell_type": "code",
   "execution_count": 39,
   "id": "0abc09f7-0547-430e-af01-4943a92f2668",
   "metadata": {
    "execution": {
     "iopub.execute_input": "2021-12-09T11:17:15.447953Z",
     "iopub.status.busy": "2021-12-09T11:17:15.447953Z",
     "iopub.status.idle": "2021-12-09T11:18:53.936318Z",
     "shell.execute_reply": "2021-12-09T11:18:53.936318Z",
     "shell.execute_reply.started": "2021-12-09T11:17:15.447953Z"
    },
    "tags": []
   },
   "outputs": [
    {
     "name": "stderr",
     "output_type": "stream",
     "text": [
      "100%|██████████████████████████████████████████████████████████████████████████████████| 12/12 [01:36<00:00,  8.00s/it]\n"
     ]
    }
   ],
   "source": [
    "total_df = pd.DataFrame()\n",
    "\n",
    "for file in tqdm(file_list):\n",
    "    file_path = os.path.join(folder, file)\n",
    "    congestion = pd.read_csv(file_path, encoding = 'cp949')\n",
    "    \n",
    "    VDS_condition = congestion['VDS_ID'].isin(VDS)\n",
    "    congestion = congestion.loc[VDS_condition].iloc[:, :-1]\n",
    "\n",
    "    save_csv_path = os.path.join(save_csv_dir, file)\n",
    "    congestion.to_csv(save_csv_path, encoding = 'cp949')\n",
    "    \n",
    "    total_df = pd.concat([total_df, congestion])\n",
    "\n",
    "total_df = total_df.iloc[:, 1:]\n",
    "total_csv_path = 'congestion_total.csv'\n",
    "total_df.to_csv(total_csv_path, encoding = 'cp949')"
   ]
  },
  {
   "cell_type": "markdown",
   "id": "8aa4105a-8f56-4801-a41f-898baed55b96",
   "metadata": {},
   "source": [
    "# UPHILL과 CONGESTION을 MERGE하기"
   ]
  },
  {
   "cell_type": "code",
   "execution_count": 40,
   "id": "c8d45513-ed8f-40a2-bfa8-8ecc03f30aad",
   "metadata": {
    "execution": {
     "iopub.execute_input": "2021-12-09T11:18:53.936318Z",
     "iopub.status.busy": "2021-12-09T11:18:53.936318Z",
     "iopub.status.idle": "2021-12-09T11:18:54.594681Z",
     "shell.execute_reply": "2021-12-09T11:18:54.594681Z",
     "shell.execute_reply.started": "2021-12-09T11:18:53.936318Z"
    },
    "tags": []
   },
   "outputs": [],
   "source": [
    "total_df = pd.read_csv(total_csv_path, encoding = 'cp949')"
   ]
  },
  {
   "cell_type": "code",
   "execution_count": 41,
   "id": "155548d0-67e6-4a15-ac4a-667dfc88f45a",
   "metadata": {
    "execution": {
     "iopub.execute_input": "2021-12-09T11:18:54.594681Z",
     "iopub.status.busy": "2021-12-09T11:18:54.594681Z",
     "iopub.status.idle": "2021-12-09T11:18:54.941761Z",
     "shell.execute_reply": "2021-12-09T11:18:54.940764Z",
     "shell.execute_reply.started": "2021-12-09T11:18:54.594681Z"
    },
    "tags": []
   },
   "outputs": [],
   "source": [
    "total_df = pd.merge(total_df, uphill_info, how = 'left',\n",
    "                    left_on = ['VDS_ID', '기점종점방향구분코드'], right_on = ['VDS_식별번호', 'direction'])"
   ]
  },
  {
   "cell_type": "code",
   "execution_count": 42,
   "id": "508ada56-725b-4045-90bd-810e7753c65f",
   "metadata": {
    "execution": {
     "iopub.execute_input": "2021-12-09T11:18:54.942783Z",
     "iopub.status.busy": "2021-12-09T11:18:54.942783Z",
     "iopub.status.idle": "2021-12-09T11:18:59.955971Z",
     "shell.execute_reply": "2021-12-09T11:18:59.955971Z",
     "shell.execute_reply.started": "2021-12-09T11:18:54.942783Z"
    },
    "tags": []
   },
   "outputs": [],
   "source": [
    "total_df = total_df.drop(['direction', '구간', 'VDS_식별번호'], axis = 'columns')\n",
    "total_df.to_csv('uphill_congestion_merged.csv', encoding = 'cp949')"
   ]
  },
  {
   "cell_type": "markdown",
   "id": "b98f327e-4768-4180-8435-413562f96498",
   "metadata": {},
   "source": [
    "### 21.12.15 부분추가"
   ]
  },
  {
   "cell_type": "code",
   "execution_count": 4,
   "id": "016ecce2-dc27-4a5e-8b04-6f75cf683265",
   "metadata": {
    "execution": {
     "iopub.execute_input": "2021-12-15T07:34:24.776497Z",
     "iopub.status.busy": "2021-12-15T07:34:24.776497Z",
     "iopub.status.idle": "2021-12-15T07:34:24.857280Z",
     "shell.execute_reply": "2021-12-15T07:34:24.857280Z",
     "shell.execute_reply.started": "2021-12-15T07:34:24.776497Z"
    },
    "tags": []
   },
   "outputs": [],
   "source": [
    "congestion = pd.read_csv('data/congestion_filtered/혼잡빈도_202111.csv', encoding = 'cp949')"
   ]
  },
  {
   "cell_type": "code",
   "execution_count": 5,
   "id": "336ce19d-c669-46d0-85ef-391bea23aad9",
   "metadata": {
    "execution": {
     "iopub.execute_input": "2021-12-15T07:34:49.691550Z",
     "iopub.status.busy": "2021-12-15T07:34:49.691550Z",
     "iopub.status.idle": "2021-12-15T07:34:49.743410Z",
     "shell.execute_reply": "2021-12-15T07:34:49.743410Z",
     "shell.execute_reply.started": "2021-12-15T07:34:49.691550Z"
    },
    "tags": []
   },
   "outputs": [],
   "source": [
    "congestion = pd.merge(congestion, uphill_info, how = 'left',\n",
    "                    left_on = ['VDS_ID', '기점종점방향구분코드'], right_on = ['VDS_식별번호', 'direction'])"
   ]
  },
  {
   "cell_type": "code",
   "execution_count": 8,
   "id": "d6da564e-54cb-43f6-9d4e-0644bb60ea9f",
   "metadata": {
    "execution": {
     "iopub.execute_input": "2021-12-15T07:35:37.626342Z",
     "iopub.status.busy": "2021-12-15T07:35:37.626342Z",
     "iopub.status.idle": "2021-12-15T07:35:38.025575Z",
     "shell.execute_reply": "2021-12-15T07:35:38.025575Z",
     "shell.execute_reply.started": "2021-12-15T07:35:37.626342Z"
    },
    "tags": []
   },
   "outputs": [],
   "source": [
    "congestion = congestion.drop(['direction', '구간', 'VDS_식별번호'], axis = 'columns')\n",
    "congestion.to_csv('data/202111_uphill_congestion_merged.csv', encoding = 'cp949')"
   ]
  }
 ],
 "metadata": {
  "kernelspec": {
   "display_name": "Python 3",
   "language": "python",
   "name": "python3"
  },
  "language_info": {
   "codemirror_mode": {
    "name": "ipython",
    "version": 3
   },
   "file_extension": ".py",
   "mimetype": "text/x-python",
   "name": "python",
   "nbconvert_exporter": "python",
   "pygments_lexer": "ipython3",
   "version": "3.8.8"
  }
 },
 "nbformat": 4,
 "nbformat_minor": 5
}
