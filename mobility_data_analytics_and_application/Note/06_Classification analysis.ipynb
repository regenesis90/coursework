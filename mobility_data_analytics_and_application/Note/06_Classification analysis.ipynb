{
 "cells": [
  {
   "cell_type": "markdown",
   "id": "1cfe1aaf",
   "metadata": {},
   "source": [
    "# Iris dataset"
   ]
  },
  {
   "cell_type": "markdown",
   "id": "f3882e60",
   "metadata": {},
   "source": [
    "### Importing Iris dataset"
   ]
  },
  {
   "cell_type": "code",
   "execution_count": null,
   "id": "79c676cc",
   "metadata": {},
   "outputs": [],
   "source": [
    "import pandas as pd\n",
    "Iris = pd.read_csv(\"Iris_dataset.csv\")\n",
    "Iris"
   ]
  },
  {
   "cell_type": "code",
   "execution_count": null,
   "id": "99ecca23",
   "metadata": {},
   "outputs": [],
   "source": [
    "import seaborn as sns\n",
    "sns.scatterplot(x='sepal.length', y='sepal.width', hue='variety', style='variety', s=100, data=Iris)"
   ]
  },
  {
   "cell_type": "code",
   "execution_count": null,
   "id": "69cf1b92",
   "metadata": {},
   "outputs": [],
   "source": [
    "sns.scatterplot(x='petal.length', y='petal.width', hue='variety', style='variety', s=100, data=Iris)"
   ]
  },
  {
   "cell_type": "markdown",
   "id": "17c1c412",
   "metadata": {},
   "source": [
    "### Partitioning dataset into separate traning and test sets"
   ]
  },
  {
   "cell_type": "code",
   "execution_count": null,
   "id": "78786860",
   "metadata": {},
   "outputs": [],
   "source": [
    "# Using scikit-learn\n",
    "from sklearn.model_selection import train_test_split\n",
    "X=Iris[['sepal.length', 'sepal.width', 'petal.length', 'petal.width']]\n",
    "y=Iris['variety']\n",
    "X_train, X_test, y_train, y_test = train_test_split(X,y,\n",
    "                                                   test_size=0.3,\n",
    "                                                   random_state=0,\n",
    "                                                    stratify=y)"
   ]
  },
  {
   "cell_type": "markdown",
   "id": "e71c37a3",
   "metadata": {},
   "source": [
    "### Decision tree"
   ]
  },
  {
   "cell_type": "markdown",
   "id": "9c403a60",
   "metadata": {},
   "source": [
    "##### Learning"
   ]
  },
  {
   "cell_type": "code",
   "execution_count": null,
   "id": "a5ca6f2a",
   "metadata": {},
   "outputs": [],
   "source": [
    "# Constructing tree\n",
    "from sklearn import tree\n",
    "\n",
    "DT=tree.DecisionTreeClassifier(criterion='gini', max_depth=4, random_state=1)\n",
    "DT.fit(X_train, y_train)"
   ]
  },
  {
   "cell_type": "markdown",
   "id": "9336aa39",
   "metadata": {},
   "source": [
    "##### Plot"
   ]
  },
  {
   "cell_type": "code",
   "execution_count": null,
   "id": "d3fb1d72",
   "metadata": {},
   "outputs": [],
   "source": [
    "# Plotting tree\n",
    "tree.plot_tree(DT)"
   ]
  },
  {
   "cell_type": "markdown",
   "id": "b6aa3250",
   "metadata": {},
   "source": [
    "##### For a better plot: Install \"graphviz\" and \"pydotplus\" at Anaconda propot\n",
    "\n",
    "- conda install python-graphviz\n",
    "- conda install pydotplus"
   ]
  },
  {
   "cell_type": "code",
   "execution_count": null,
   "id": "af90d53d",
   "metadata": {},
   "outputs": [],
   "source": [
    "from pydotplus import graph_from_dot_data\n",
    "from sklearn.tree import export_graphviz\n",
    "dot_data = export_graphviz(DT, out_file=None, \n",
    "                      feature_names=['sepal.length', 'sepal.width', 'petal.length', 'petal.width'],  \n",
    "                      class_names=['setosa', 'versicolor', 'virginica'],  \n",
    "                      filled=True, rounded=True,  \n",
    "                      special_characters=True)  \n",
    "graph = graph_from_dot_data(dot_data)  \n",
    "graph.write_png('DT_iris.png')"
   ]
  },
  {
   "cell_type": "markdown",
   "id": "fdfef671",
   "metadata": {},
   "source": [
    "##### Evaluation"
   ]
  },
  {
   "cell_type": "code",
   "execution_count": null,
   "id": "0ccef4ef",
   "metadata": {},
   "outputs": [],
   "source": [
    "# Prediction using train dataset\n",
    "y_pred = DT.predict(X_test)\n",
    "y_pred"
   ]
  },
  {
   "cell_type": "code",
   "execution_count": null,
   "id": "c31bf557",
   "metadata": {},
   "outputs": [],
   "source": [
    "# Confusion matrix & measurements\n",
    "from sklearn.metrics import classification_report, confusion_matrix\n",
    "print(confusion_matrix(y_test, y_pred))\n",
    "print(classification_report(y_test, y_pred))"
   ]
  },
  {
   "cell_type": "markdown",
   "id": "cd250c2e",
   "metadata": {},
   "source": [
    "# PM Intention Dataset"
   ]
  },
  {
   "cell_type": "markdown",
   "id": "f4b5671e",
   "metadata": {},
   "source": [
    "### Data preparation"
   ]
  },
  {
   "cell_type": "code",
   "execution_count": null,
   "id": "57212433",
   "metadata": {},
   "outputs": [],
   "source": [
    "# Import\n",
    "PM = pd.read_csv(\"E_scooter_intention.csv\")\n",
    "PM"
   ]
  },
  {
   "attachments": {
    "image-2.png": {
     "image/png": "[encoded data removed]"
    }
   },
   "cell_type": "markdown",
   "id": "80ffbafa",
   "metadata": {},
   "source": [
    "- Data description\n",
    "![image-2.png](attachment:image-2.png)"
   ]
  },
  {
   "cell_type": "code",
   "execution_count": null,
   "id": "4fe80601",
   "metadata": {
    "scrolled": true
   },
   "outputs": [],
   "source": [
    "# Frequency of intention\n",
    "Intention_freq = pd.pivot_table(PM, values='ID', index=['Intention'], aggfunc='count', margins=True)\n",
    "Intention_freq "
   ]
  },
  {
   "cell_type": "code",
   "execution_count": null,
   "id": "48bbb02f",
   "metadata": {},
   "outputs": [],
   "source": [
    "# Transform nominal variable to bianry variable: Age_group\n",
    "def Age20(row):\n",
    "    if (row['Age_group'] == '20-29 yr'):\n",
    "        return 1\n",
    "    else:\n",
    "        return 0\n",
    "    \n",
    "def Age30(row):\n",
    "    if (row['Age_group'] == '30-39 yr'):\n",
    "        return 1\n",
    "    else:\n",
    "        return 0\n",
    "\n",
    "PM['Age20'] = PM.apply(lambda row: Age20(row), axis=1)\n",
    "PM['Age30'] = PM.apply(lambda row: Age30(row), axis=1)\n",
    "\n",
    "PM"
   ]
  },
  {
   "cell_type": "code",
   "execution_count": null,
   "id": "0ed830ec",
   "metadata": {},
   "outputs": [],
   "source": [
    "# Transform nominal variable to bianry variable: Trip_type\n",
    "def FMLM(row):\n",
    "    if (row['Trip_type'] == 'FMLM'):\n",
    "        return 1\n",
    "    else:\n",
    "        return 0\n",
    "    \n",
    "def OD(row):\n",
    "    if (row['Trip_type'] == 'Origin-Destination'):\n",
    "        return 1\n",
    "    else:\n",
    "        return 0\n",
    "\n",
    "PM['FMLM'] = PM.apply(lambda row: FMLM(row), axis=1)\n",
    "PM['OD'] = PM.apply(lambda row: OD(row), axis=1)\n",
    "\n",
    "PM"
   ]
  },
  {
   "cell_type": "markdown",
   "id": "20ee9622",
   "metadata": {},
   "source": [
    "### Develop a decision tree of forecasting individual's intention to use PM\n",
    "- Selected features for tree building:\n",
    "- + Dependent variable = 'Intention'\n",
    "- + Independent variables = 'Age20', 'Age30', 'Male', 'FMLM', 'OD', 'Walking_time', 'Commute'\n",
    "- Training set = 80% of the data\n",
    "- Purity measure = GINI\n",
    "- Maximum depth = 5"
   ]
  },
  {
   "cell_type": "code",
   "execution_count": null,
   "id": "b2bcf83c",
   "metadata": {},
   "outputs": [],
   "source": [
    "from sklearn.model_selection import train_test_split\n",
    "from sklearn import tree\n",
    "\n",
    "X=PM[['Age20', 'Age30', 'Male', 'FMLM', 'OD', 'Walking_time', 'Commute']]\n",
    "y=PM['Intention']\n",
    "X_train, X_test, y_train, y_test = train_test_split(X,y,\n",
    "                                                   test_size=0.2,\n",
    "                                                   random_state=0,\n",
    "                                                    stratify=y)\n",
    "\n",
    "\n",
    "DT_PM=tree.DecisionTreeClassifier(criterion='gini', max_depth=5, random_state=1)\n",
    "DT_PM.fit(X_train, y_train)"
   ]
  },
  {
   "cell_type": "code",
   "execution_count": null,
   "id": "3be6a597",
   "metadata": {},
   "outputs": [],
   "source": [
    "dot_data = export_graphviz(DT_PM, out_file=None, \n",
    "                      feature_names=['Age20', 'Age30', 'Male', 'FMLM', 'OD', 'Walking_time', 'Commute'],  \n",
    "                      class_names=['1_Hardly consider','2_Sometimes consider','3_Frequent consider'],  \n",
    "                      filled=True, rounded=True,  \n",
    "                      special_characters=True)  \n",
    "graph = graph_from_dot_data(dot_data)  \n",
    "graph.write_png('DT_PM.png')"
   ]
  },
  {
   "cell_type": "code",
   "execution_count": null,
   "id": "ccd5b6fe",
   "metadata": {
    "scrolled": true
   },
   "outputs": [],
   "source": [
    "y_pred = DT_PM.predict(X_test)\n",
    "print(confusion_matrix(y_test, y_pred))\n",
    "print(classification_report(y_test, y_pred))"
   ]
  },
  {
   "cell_type": "markdown",
   "id": "39010120",
   "metadata": {},
   "source": [
    "- \"Precision\": the ability of the classifier not to label a negative sample as positive\n",
    "- \"Recall\": the ability of the classifier to find all the positive samples\n",
    "- \"f1\": harmonic mean of the precision and recall\n",
    "- \"support\": the number of occurrences of each class in y_true"
   ]
  },
  {
   "cell_type": "markdown",
   "id": "be7236cc",
   "metadata": {},
   "source": [
    "### Improve the model by increasing depth"
   ]
  },
  {
   "cell_type": "markdown",
   "id": "54351e4c",
   "metadata": {},
   "source": [
    "##### Learning & Evaluation"
   ]
  },
  {
   "cell_type": "code",
   "execution_count": null,
   "id": "5fa6f33d",
   "metadata": {},
   "outputs": [],
   "source": [
    "DT_PM7=tree.DecisionTreeClassifier(criterion='gini', max_depth=7, random_state=1)\n",
    "DT_PM7.fit(X_train, y_train)\n",
    "y_pred = DT_PM7.predict(X_test)\n",
    "print(confusion_matrix(y_test, y_pred))\n",
    "print(classification_report(y_test, y_pred))"
   ]
  },
  {
   "cell_type": "markdown",
   "id": "2646f30a",
   "metadata": {},
   "source": [
    "##### Plot"
   ]
  },
  {
   "cell_type": "code",
   "execution_count": null,
   "id": "15ead3d1",
   "metadata": {},
   "outputs": [],
   "source": [
    "dot_data = export_graphviz(DT_PM7, out_file=None, \n",
    "                      feature_names=['Age20', 'Age30', 'Male', 'FMLM', 'OD', 'Walking_time', 'Commute'],  \n",
    "                      class_names=['1_Hardly consider','2_Sometimes consider','3_Frequent consider'],  \n",
    "                      filled=True, rounded=True,  \n",
    "                      special_characters=True)  \n",
    "graph = graph_from_dot_data(dot_data)  \n",
    "graph.write_png('DT_PM7.png')"
   ]
  },
  {
   "cell_type": "markdown",
   "id": "e74c0d15",
   "metadata": {},
   "source": [
    "### Improve the model using random forest approach"
   ]
  },
  {
   "cell_type": "markdown",
   "id": "808b7c8c",
   "metadata": {},
   "source": [
    "##### Learning"
   ]
  },
  {
   "cell_type": "code",
   "execution_count": null,
   "id": "7f30f2a5",
   "metadata": {},
   "outputs": [],
   "source": [
    "from sklearn.ensemble import RandomForestClassifier\n",
    "forest = RandomForestClassifier(criterion='gini', n_estimators=50, random_state=1, n_jobs=2)\n",
    "forest.fit(X_train, y_train)"
   ]
  },
  {
   "cell_type": "markdown",
   "id": "6ccb8338",
   "metadata": {},
   "source": [
    "##### Evaluation"
   ]
  },
  {
   "cell_type": "code",
   "execution_count": null,
   "id": "1031a624",
   "metadata": {},
   "outputs": [],
   "source": [
    "y_pred = forest.predict(X_test)\n",
    "print(confusion_matrix(y_test, y_pred))\n",
    "print(classification_report(y_test, y_pred))"
   ]
  },
  {
   "cell_type": "markdown",
   "id": "17f02508",
   "metadata": {},
   "source": [
    "##### Plot: A single tree"
   ]
  },
  {
   "cell_type": "code",
   "execution_count": null,
   "id": "1fbdaea8",
   "metadata": {},
   "outputs": [],
   "source": [
    "dot_data = export_graphviz(forest.estimators_[0], out_file=None, \n",
    "                      feature_names=['Age20', 'Age30', 'Male', 'FMLM', 'OD', 'Walking_time', 'Commute'],  \n",
    "                      class_names=['1_Hardly consider','2_Sometimes consider','3_Frequent consider'],  \n",
    "                      filled=True, rounded=True,  \n",
    "                      special_characters=True)  \n",
    "graph = graph_from_dot_data(dot_data)  \n",
    "graph.write_png('DT_PM_forest0.png')"
   ]
  },
  {
   "cell_type": "markdown",
   "id": "bda5f393",
   "metadata": {},
   "source": [
    "# Smart Travel Card Data"
   ]
  },
  {
   "cell_type": "markdown",
   "id": "9d866067",
   "metadata": {},
   "source": [
    "### Develop a decision tree of classifying public transportation user type using smart travel card data\n",
    "- Selected features for tree building:\n",
    "- + Dependent variable = 'User'\n",
    "- + Independent variables = 'Subway', 'On_hour', 'Travel time'\n",
    "- Training set = 80% of the data\n",
    "- Purity measure = GINI\n",
    "- Maximum depth = 5"
   ]
  },
  {
   "cell_type": "markdown",
   "id": "2bceafd8",
   "metadata": {},
   "source": [
    "### Data preparation"
   ]
  },
  {
   "cell_type": "code",
   "execution_count": null,
   "id": "d1427411",
   "metadata": {},
   "outputs": [],
   "source": [
    "Cdata = pd.read_csv(\"Transit_card_single_day_c.csv\")\n",
    "Cdata"
   ]
  },
  {
   "cell_type": "code",
   "execution_count": null,
   "id": "45aafee4",
   "metadata": {},
   "outputs": [],
   "source": [
    "# Transform nominal variable to bianry variable: Trip_type\n",
    "def Subway(row):\n",
    "    if (row['Mode'] == 'subway'):\n",
    "        return 1\n",
    "    else:\n",
    "        return 0\n",
    "\n",
    "Cdata['Subway'] = Cdata.apply(lambda row: Subway(row), axis=1)\n",
    "\n",
    "Cdata"
   ]
  },
  {
   "cell_type": "code",
   "execution_count": null,
   "id": "daba6733",
   "metadata": {},
   "outputs": [],
   "source": [
    "# Travel time cacluation (unit = minutes)\n",
    "Cdata['T_time'] = (((Cdata.Off_hour*60)+Cdata.Off_min+(Cdata.Off_sec/60))\n",
    "                 - ((Cdata.On_hour*60)+Cdata.On_min+(Cdata.On_sec/60)))\n",
    "Cdata"
   ]
  },
  {
   "cell_type": "markdown",
   "id": "152757dc",
   "metadata": {},
   "source": [
    "### Learning"
   ]
  },
  {
   "cell_type": "code",
   "execution_count": null,
   "id": "063b6d79",
   "metadata": {},
   "outputs": [],
   "source": [
    "X=Cdata[['Subway', 'On_hour', 'T_time']]\n",
    "y=Cdata['User']\n",
    "X_train, X_test, y_train, y_test = train_test_split(X,y,\n",
    "                                                   test_size=0.2,\n",
    "                                                   random_state=0,\n",
    "                                                    stratify=y)\n",
    "\n",
    "\n",
    "DT_PT_user=tree.DecisionTreeClassifier(criterion='gini', max_depth=5, random_state=1)\n",
    "DT_PT_user.fit(X_train, y_train)"
   ]
  },
  {
   "cell_type": "markdown",
   "id": "8915bf16",
   "metadata": {},
   "source": [
    "### Plot"
   ]
  },
  {
   "cell_type": "code",
   "execution_count": null,
   "id": "a4c32319",
   "metadata": {},
   "outputs": [],
   "source": [
    "dot_data = export_graphviz(DT_PT_user, out_file=None, \n",
    "                      feature_names=['Subway', 'On_hour', 'T_time'],  \n",
    "                      class_names=['disabled','elderly','kids','normal','teen'],  \n",
    "                      filled=True, rounded=True,  \n",
    "                      special_characters=True)  \n",
    "graph = graph_from_dot_data(dot_data)  \n",
    "graph.write_png('DT_PT_user.png')"
   ]
  },
  {
   "cell_type": "markdown",
   "id": "f0211d76",
   "metadata": {},
   "source": [
    "### Evaluation"
   ]
  },
  {
   "cell_type": "code",
   "execution_count": null,
   "id": "a27b5ccf",
   "metadata": {},
   "outputs": [],
   "source": [
    "y_pred = DT_PT_user.predict(X_test)\n",
    "print(confusion_matrix(y_test, y_pred))\n",
    "print(classification_report(y_test, y_pred))"
   ]
  },
  {
   "cell_type": "markdown",
   "id": "9e25cb3f",
   "metadata": {},
   "source": [
    "### Improve the model using random forest approach"
   ]
  },
  {
   "cell_type": "code",
   "execution_count": null,
   "id": "7642afa4",
   "metadata": {},
   "outputs": [],
   "source": [
    "PT_user_forest = RandomForestClassifier(criterion='gini', n_estimators=50, random_state=1, n_jobs=2)\n",
    "PT_user_forest.fit(X_train, y_train)"
   ]
  },
  {
   "cell_type": "code",
   "execution_count": null,
   "id": "7ce68391",
   "metadata": {},
   "outputs": [],
   "source": [
    "y_pred = PT_user_forest.predict(X_test)\n",
    "print(confusion_matrix(y_test, y_pred))\n",
    "print(classification_report(y_test, y_pred))"
   ]
  }
 ],
 "metadata": {
  "kernelspec": {
   "display_name": "Python 3",
   "language": "python",
   "name": "python3"
  },
  "language_info": {
   "codemirror_mode": {
    "name": "ipython",
    "version": 3
   },
   "file_extension": ".py",
   "mimetype": "text/x-python",
   "name": "python",
   "nbconvert_exporter": "python",
   "pygments_lexer": "ipython3",
   "version": "3.8.8"
  }
 },
 "nbformat": 4,
 "nbformat_minor": 5
}
