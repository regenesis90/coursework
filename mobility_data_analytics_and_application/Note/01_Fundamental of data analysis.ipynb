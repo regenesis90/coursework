{
 "cells": [
  {
   "cell_type": "markdown",
   "id": "f3615a0f",
   "metadata": {},
   "source": [
    "# Introduction of Python Packages"
   ]
  },
  {
   "cell_type": "markdown",
   "id": "45040111",
   "metadata": {},
   "source": [
    "### Numpy\n",
    "- Handling large, multi-dimensional arrays and matrices\n",
    "- High-level mathematical functions\n",
    "- https://numpy.org/"
   ]
  },
  {
   "cell_type": "markdown",
   "id": "84729053",
   "metadata": {},
   "source": [
    "### Pandas\n",
    "- Data manipulation and analysis - data table structure\n",
    "- https://pandas.pydata.org/"
   ]
  },
  {
   "cell_type": "markdown",
   "id": "9e9944d3",
   "metadata": {},
   "source": [
    "### Matplotlib\n",
    "- Plotting library\n",
    "- https://matplotlib.org/"
   ]
  },
  {
   "cell_type": "markdown",
   "id": "3584245c",
   "metadata": {},
   "source": [
    "### Seaborn\n",
    "- Data visulaization\n",
    "- https://seaborn.pydata.org/#"
   ]
  },
  {
   "cell_type": "markdown",
   "id": "3d10b4c0",
   "metadata": {},
   "source": [
    "# Understanding NumPy Arrays"
   ]
  },
  {
   "cell_type": "markdown",
   "id": "79f53ff8",
   "metadata": {},
   "source": [
    "### Importing a package"
   ]
  },
  {
   "cell_type": "code",
   "execution_count": null,
   "id": "72115018",
   "metadata": {},
   "outputs": [],
   "source": [
    "import numpy as np"
   ]
  },
  {
   "cell_type": "markdown",
   "id": "23e2e295",
   "metadata": {},
   "source": [
    "### Creating arrays"
   ]
  },
  {
   "cell_type": "code",
   "execution_count": null,
   "id": "3d40131a",
   "metadata": {},
   "outputs": [],
   "source": [
    "a = np.array([2,4,6,8,1])\n",
    "print(a)"
   ]
  },
  {
   "cell_type": "markdown",
   "id": "64f6ad8e",
   "metadata": {},
   "source": [
    "### Creating matrix\n",
    "- (2 X 5)\n",
    "- (2 X 5 X 3)"
   ]
  },
  {
   "cell_type": "code",
   "execution_count": null,
   "id": "b60b90f9",
   "metadata": {},
   "outputs": [],
   "source": [
    "b = np.array([[2,4,6,8,1],[5,7,8,3,2]]) #two-times square bracket \n",
    "print(b)"
   ]
  },
  {
   "cell_type": "code",
   "execution_count": null,
   "id": "c3a79815",
   "metadata": {},
   "outputs": [],
   "source": [
    "b"
   ]
  },
  {
   "cell_type": "code",
   "execution_count": null,
   "id": "21c7e8f5",
   "metadata": {},
   "outputs": [],
   "source": [
    "c = np.array([[[2,4,6,8,1],[5,7,8,3,2]],\n",
    "             [[1,2,3,4,7],[3,5,7,7,8]],\n",
    "             [[5,2,1,1,7],[8,2,2,3,2]]]) \n",
    "print(c)"
   ]
  },
  {
   "cell_type": "markdown",
   "id": "1c7fc814",
   "metadata": {},
   "source": [
    "### Creating arrays using function"
   ]
  },
  {
   "cell_type": "code",
   "execution_count": null,
   "id": "e14a6e14",
   "metadata": {},
   "outputs": [],
   "source": [
    "p = np.zeros((3,3))\n",
    "print(p)"
   ]
  },
  {
   "cell_type": "code",
   "execution_count": null,
   "id": "12a73556",
   "metadata": {},
   "outputs": [],
   "source": [
    "p = np.ones((3,3))\n",
    "print(p)"
   ]
  },
  {
   "cell_type": "code",
   "execution_count": null,
   "id": "fe1f9979",
   "metadata": {},
   "outputs": [],
   "source": [
    "p = np.full((2,2),7)\n",
    "print(p)"
   ]
  },
  {
   "cell_type": "code",
   "execution_count": null,
   "id": "b387d61a",
   "metadata": {},
   "outputs": [],
   "source": [
    "p = np.eye(4)\n",
    "print(p)"
   ]
  },
  {
   "cell_type": "code",
   "execution_count": null,
   "id": "2bb61023",
   "metadata": {},
   "outputs": [],
   "source": [
    "t = np.random.random((3,3))\n",
    "print(t)"
   ]
  },
  {
   "cell_type": "markdown",
   "id": "a3afbf90",
   "metadata": {},
   "source": [
    "### Selecting array elements"
   ]
  },
  {
   "cell_type": "code",
   "execution_count": null,
   "id": "c66de979",
   "metadata": {},
   "outputs": [],
   "source": [
    "print(a)"
   ]
  },
  {
   "cell_type": "code",
   "execution_count": null,
   "id": "63110b30",
   "metadata": {},
   "outputs": [],
   "source": [
    "print(a[0])\n",
    "print(a[3])"
   ]
  },
  {
   "cell_type": "code",
   "execution_count": null,
   "id": "c6b26906",
   "metadata": {},
   "outputs": [],
   "source": [
    "print(b)"
   ]
  },
  {
   "cell_type": "code",
   "execution_count": null,
   "id": "b7ac2ad7",
   "metadata": {},
   "outputs": [],
   "source": [
    "print(b[0,1])\n",
    "print(b[1,4])"
   ]
  },
  {
   "cell_type": "code",
   "execution_count": null,
   "id": "de381602",
   "metadata": {},
   "outputs": [],
   "source": [
    "b[1,4] = 7\n",
    "print(b)"
   ]
  },
  {
   "cell_type": "markdown",
   "id": "fdb63202",
   "metadata": {},
   "source": [
    "### Operation"
   ]
  },
  {
   "cell_type": "code",
   "execution_count": null,
   "id": "65f4d341",
   "metadata": {},
   "outputs": [],
   "source": [
    "A = np.array([[1,-2],[3,5]])\n",
    "B = np.array([[0,3],[2,2]])\n",
    "print(A)\n",
    "print(B)"
   ]
  },
  {
   "cell_type": "code",
   "execution_count": null,
   "id": "8c4bfeab",
   "metadata": {},
   "outputs": [],
   "source": [
    "print(A + B)"
   ]
  },
  {
   "cell_type": "code",
   "execution_count": null,
   "id": "93fbf98a",
   "metadata": {},
   "outputs": [],
   "source": [
    "print(A * B)"
   ]
  },
  {
   "cell_type": "code",
   "execution_count": null,
   "id": "e50d2655",
   "metadata": {},
   "outputs": [],
   "source": [
    "print(A @ B)"
   ]
  },
  {
   "cell_type": "code",
   "execution_count": null,
   "id": "709e0249",
   "metadata": {},
   "outputs": [],
   "source": [
    "print(np.abs(A))"
   ]
  },
  {
   "cell_type": "code",
   "execution_count": null,
   "id": "90a92dc7",
   "metadata": {
    "scrolled": true
   },
   "outputs": [],
   "source": [
    "print(np.sqrt(B))"
   ]
  },
  {
   "cell_type": "code",
   "execution_count": null,
   "id": "e8d626c7",
   "metadata": {},
   "outputs": [],
   "source": [
    "print(np.sum(A))"
   ]
  },
  {
   "cell_type": "code",
   "execution_count": null,
   "id": "d222491f",
   "metadata": {},
   "outputs": [],
   "source": [
    "print(np.sum(A, axis=0))"
   ]
  },
  {
   "cell_type": "code",
   "execution_count": null,
   "id": "fb39fa73",
   "metadata": {},
   "outputs": [],
   "source": [
    "print(np.sum(A, axis=1))"
   ]
  },
  {
   "cell_type": "code",
   "execution_count": null,
   "id": "c63b9d62",
   "metadata": {},
   "outputs": [],
   "source": [
    "print(np.sum(A))\n",
    "print(A.sum())"
   ]
  },
  {
   "cell_type": "code",
   "execution_count": null,
   "id": "e12311bc",
   "metadata": {},
   "outputs": [],
   "source": [
    "print(np.sum(A, axis=0))\n",
    "print(A.sum(axis=0))"
   ]
  },
  {
   "cell_type": "markdown",
   "id": "b14000fc",
   "metadata": {},
   "source": [
    "# Understanding Pandas Dataframes"
   ]
  },
  {
   "cell_type": "markdown",
   "id": "707d7f07",
   "metadata": {},
   "source": [
    "### Import pandas package"
   ]
  },
  {
   "cell_type": "code",
   "execution_count": null,
   "id": "ed489272",
   "metadata": {},
   "outputs": [],
   "source": [
    "import pandas as pd"
   ]
  },
  {
   "cell_type": "markdown",
   "id": "9e74f0df",
   "metadata": {},
   "source": [
    "### Create dataframe"
   ]
  },
  {
   "cell_type": "code",
   "execution_count": null,
   "id": "45b36b2d",
   "metadata": {},
   "outputs": [],
   "source": [
    "data = {'Name':['Kim','Jane','Kevin','Jin'],'Age':[23, 45, 46, 52]}"
   ]
  },
  {
   "cell_type": "code",
   "execution_count": null,
   "id": "131970ab",
   "metadata": {},
   "outputs": [],
   "source": [
    "print(data)"
   ]
  },
  {
   "cell_type": "code",
   "execution_count": null,
   "id": "5c6ecac0",
   "metadata": {},
   "outputs": [],
   "source": [
    "df = pd.DataFrame(data)"
   ]
  },
  {
   "cell_type": "code",
   "execution_count": null,
   "id": "925f9377",
   "metadata": {
    "scrolled": true
   },
   "outputs": [],
   "source": [
    "df"
   ]
  },
  {
   "cell_type": "markdown",
   "id": "293e696e",
   "metadata": {},
   "source": [
    "# Data Import Using Pandas \n",
    "- csv file (comma-separated values)\n",
    "- Go to LearnUS download the data \"Pdata.csv\" and \"Pdata_description.xlsx\" (location: Class Files - Personal trip data)\n",
    "- Copy \"Pdata.csv\" in the folder of Jupyter Notebook Script\n",
    "- Check \"Pdata_description.xlsx\" which includes the descriptions of Pdata"
   ]
  },
  {
   "cell_type": "markdown",
   "id": "c2070d8b",
   "metadata": {},
   "source": [
    "### Importing a csv file"
   ]
  },
  {
   "cell_type": "code",
   "execution_count": null,
   "id": "2e980364",
   "metadata": {},
   "outputs": [],
   "source": [
    "Pdata = pd.read_csv(\"Pdata.csv\")"
   ]
  },
  {
   "cell_type": "code",
   "execution_count": null,
   "id": "75a14b75",
   "metadata": {},
   "outputs": [],
   "source": [
    "Pdata"
   ]
  },
  {
   "cell_type": "code",
   "execution_count": null,
   "id": "8670eb51",
   "metadata": {
    "scrolled": false
   },
   "outputs": [],
   "source": [
    "Pdata.head(10)"
   ]
  },
  {
   "cell_type": "code",
   "execution_count": null,
   "id": "6e584b12",
   "metadata": {},
   "outputs": [],
   "source": [
    "Pdata.tail(10)"
   ]
  },
  {
   "cell_type": "code",
   "execution_count": null,
   "id": "ead13c5f",
   "metadata": {},
   "outputs": [],
   "source": [
    "Pdata.describe()"
   ]
  },
  {
   "cell_type": "markdown",
   "id": "980ae31a",
   "metadata": {},
   "source": [
    "# Data Manupulating using Pandas"
   ]
  },
  {
   "cell_type": "markdown",
   "id": "6a67808c",
   "metadata": {},
   "source": [
    "### Selecting a column"
   ]
  },
  {
   "cell_type": "code",
   "execution_count": null,
   "id": "ce4a9089",
   "metadata": {},
   "outputs": [],
   "source": [
    "Trips = Pdata['NofTrips']\n",
    "Trips"
   ]
  },
  {
   "cell_type": "code",
   "execution_count": null,
   "id": "3df45b70",
   "metadata": {},
   "outputs": [],
   "source": [
    "Pdata.NofTrips"
   ]
  },
  {
   "cell_type": "markdown",
   "id": "ece6058c",
   "metadata": {},
   "source": [
    "### Create variables"
   ]
  },
  {
   "cell_type": "code",
   "execution_count": null,
   "id": "38495438",
   "metadata": {},
   "outputs": [],
   "source": [
    "# Create \"Age\"\n",
    "Pdata[\"Age\"] = 2016-Pdata[\"Byear\"]\n",
    "Pdata"
   ]
  },
  {
   "cell_type": "markdown",
   "id": "c752bf20",
   "metadata": {},
   "source": [
    "Create age group: \n",
    "- (1) create a function for categorizing age, and \n",
    "- (2) use \"apply()\" method which applys a function along an axis of the DataFrame\n"
   ]
  },
  {
   "cell_type": "code",
   "execution_count": null,
   "id": "4f304b6b",
   "metadata": {},
   "outputs": [],
   "source": [
    "#  Create age group: (1) create a function for categorizing age\n",
    "def Age_category(row):\n",
    "    if row['Age'] > 60:\n",
    "        return '60s'\n",
    "    elif row['Age'] > 50:\n",
    "        return '50s'\n",
    "    elif row['Age'] > 40:\n",
    "        return '40s'\n",
    "    elif row['Age'] > 30:\n",
    "        return '30s'\n",
    "    elif row['Age'] > 20:\n",
    "        return '20s'\n",
    "    else:\n",
    "        return '10s'"
   ]
  },
  {
   "cell_type": "code",
   "execution_count": null,
   "id": "38486972",
   "metadata": {},
   "outputs": [],
   "source": [
    "#  Create age group: (2) use \"apply()\" method\n",
    "\n",
    "Pdata['Age_G'] = Pdata.apply(lambda row: Age_category(row), axis=1)\n",
    "\n",
    "Pdata\n"
   ]
  },
  {
   "cell_type": "code",
   "execution_count": null,
   "id": "fafa86cb",
   "metadata": {},
   "outputs": [],
   "source": [
    "#  Categorize job: \"apply()\" method\n",
    "## (1) create a function for categorizing job\n",
    "def Job_category(row):\n",
    "    if (row['Job'] == 7)|(row['Job'] == 8):\n",
    "        return 'Unemployed'\n",
    "    else:\n",
    "        return 'Employed'\n",
    "\n",
    "## (2) use \"apply()\" method\n",
    "Pdata['Job_G'] = Pdata.apply(lambda row: Job_category(row), axis=1)\n",
    "\n",
    "Pdata.head()\n"
   ]
  },
  {
   "cell_type": "code",
   "execution_count": null,
   "id": "8749a9f2",
   "metadata": {},
   "outputs": [],
   "source": [
    "#  Expanding display\n",
    "pd.set_option('display.max_columns',None)\n",
    "Pdata.head()"
   ]
  },
  {
   "cell_type": "markdown",
   "id": "45855072",
   "metadata": {},
   "source": [
    "### Select subset"
   ]
  },
  {
   "cell_type": "code",
   "execution_count": null,
   "id": "acaf018c",
   "metadata": {},
   "outputs": [],
   "source": [
    "# Older than 50 years\n",
    "Pdata_gt50 = Pdata[Pdata[\"Age\"]>50]\n",
    "Pdata_gt50"
   ]
  },
  {
   "cell_type": "code",
   "execution_count": null,
   "id": "3aaab051",
   "metadata": {},
   "outputs": [],
   "source": [
    "Pdata_gt50.describe()"
   ]
  },
  {
   "cell_type": "code",
   "execution_count": null,
   "id": "370cada8",
   "metadata": {},
   "outputs": [],
   "source": [
    "# Select subset\n",
    "# 60s & Employed\n",
    "Pdata_60s_Emp = Pdata[(Pdata[\"Age_G\"]==\"60s\")&(Pdata[\"Job_G\"]==\"Employed\")]\n",
    "Pdata_60s_Emp"
   ]
  },
  {
   "cell_type": "code",
   "execution_count": null,
   "id": "da996b84",
   "metadata": {},
   "outputs": [],
   "source": [
    "Pdata_60s_Emp.describe()"
   ]
  },
  {
   "cell_type": "markdown",
   "id": "7d03a8d8",
   "metadata": {},
   "source": [
    "# Basic Data Exploration Using Pandas"
   ]
  },
  {
   "cell_type": "markdown",
   "id": "7594eebe",
   "metadata": {},
   "source": [
    "### Pivot table"
   ]
  },
  {
   "cell_type": "code",
   "execution_count": null,
   "id": "85ec305c",
   "metadata": {
    "scrolled": false
   },
   "outputs": [],
   "source": [
    "# Average number of trips by age group and occupancy\n",
    "pd.pivot_table(Pdata, values='NofTrips', index=['Age_G'], columns=['Job_G'], aggfunc=np.mean)"
   ]
  },
  {
   "cell_type": "code",
   "execution_count": null,
   "id": "6e5ebd5a",
   "metadata": {},
   "outputs": [],
   "source": [
    "# Average number of trips by age group and occupancy + margin\n",
    "pd.pivot_table(Pdata, values='NofTrips', index=['Age_G'], columns=['Job_G'], aggfunc=np.mean, margins=True)"
   ]
  },
  {
   "cell_type": "code",
   "execution_count": null,
   "id": "6b63c778",
   "metadata": {},
   "outputs": [],
   "source": [
    "# Average shopping duration by household income and gender\n",
    "pd.pivot_table(Pdata, values='Shop_AD', index=['HHinc'], columns=['Gender'], aggfunc=np.mean)"
   ]
  },
  {
   "cell_type": "code",
   "execution_count": null,
   "id": "51a1f853",
   "metadata": {},
   "outputs": [],
   "source": [
    "# Average number of trips by carownership and age group\n",
    "pd.pivot_table(Pdata, values='NofTrips', index=['Ncars'], columns=['Age_G'], aggfunc=np.mean)"
   ]
  },
  {
   "cell_type": "markdown",
   "id": "d43918a6",
   "metadata": {},
   "source": [
    "### Group data (Aggregate)"
   ]
  },
  {
   "cell_type": "code",
   "execution_count": null,
   "id": "53ef23c5",
   "metadata": {},
   "outputs": [],
   "source": [
    "# Extracting \"Gu\" index\n",
    "Pdata[\"Dcode\"] = Pdata[\"Dcode\"].apply(str)\n",
    "Pdata[\"Gcode\"] = Pdata.Dcode.apply(lambda x: x[:4])\n",
    "\n",
    "\n",
    "Pdata"
   ]
  },
  {
   "cell_type": "code",
   "execution_count": null,
   "id": "de354db0",
   "metadata": {},
   "outputs": [],
   "source": [
    "# Grouping by \"Gu\"\n",
    "G_summary = Pdata.groupby('Gcode').mean()\n",
    "G_summary"
   ]
  },
  {
   "cell_type": "code",
   "execution_count": null,
   "id": "fe01f7b0",
   "metadata": {},
   "outputs": [],
   "source": [
    "# Sorting with respect to the number of trips\n",
    "G_summary.sort_values(by=['NofTrips'])"
   ]
  },
  {
   "cell_type": "code",
   "execution_count": null,
   "id": "201c08a7",
   "metadata": {},
   "outputs": [],
   "source": [
    "# Sorting with respect to the number of trips\n",
    "G_summary.sort_values(by=['NofTrips'], ascending=False)"
   ]
  },
  {
   "cell_type": "markdown",
   "id": "c7d3c22a",
   "metadata": {},
   "source": [
    "# More information about Data Analysis Using Pandas"
   ]
  },
  {
   "cell_type": "markdown",
   "id": "c5d6b0aa",
   "metadata": {},
   "source": [
    "### pandas API document\n",
    "https://pandas.pydata.org/docs/reference/index.html"
   ]
  },
  {
   "cell_type": "markdown",
   "id": "9bf1f150",
   "metadata": {},
   "source": [
    "# Data Visualization Using Pandas"
   ]
  },
  {
   "cell_type": "markdown",
   "id": "0d6fe01a",
   "metadata": {},
   "source": [
    "### Line and bar charts"
   ]
  },
  {
   "cell_type": "code",
   "execution_count": null,
   "id": "efeef465",
   "metadata": {},
   "outputs": [],
   "source": [
    "# Example data\n",
    "df = pd.pivot_table(Pdata, values='NofTrips', index=['Age_G'], columns=['Job_G'], aggfunc=np.mean)\n",
    "df"
   ]
  },
  {
   "cell_type": "code",
   "execution_count": null,
   "id": "5f1ae896",
   "metadata": {},
   "outputs": [],
   "source": [
    "# Line plot\n",
    "df.plot()"
   ]
  },
  {
   "cell_type": "code",
   "execution_count": null,
   "id": "7f06c488",
   "metadata": {},
   "outputs": [],
   "source": [
    "# Add label\n",
    "df.plot(ylabel='Average number of trips', xlabel='Age')"
   ]
  },
  {
   "cell_type": "code",
   "execution_count": null,
   "id": "dec3a29b",
   "metadata": {},
   "outputs": [],
   "source": [
    "# Bar plot\n",
    "df.plot(kind='bar')"
   ]
  },
  {
   "cell_type": "code",
   "execution_count": null,
   "id": "951db6c3",
   "metadata": {},
   "outputs": [],
   "source": [
    "# Add label\n",
    "df.plot(kind='bar',ylabel='Average number of trips', xlabel='Age')"
   ]
  },
  {
   "cell_type": "markdown",
   "id": "fa05fe0b",
   "metadata": {},
   "source": [
    "### Scatter plot"
   ]
  },
  {
   "cell_type": "code",
   "execution_count": null,
   "id": "a9b5eb7e",
   "metadata": {},
   "outputs": [],
   "source": [
    "# Scatter plot with respect to age and travel time\n",
    "Pdata.plot.scatter(x='Age', y='TripTime')"
   ]
  },
  {
   "cell_type": "code",
   "execution_count": null,
   "id": "acb4ceb4",
   "metadata": {},
   "outputs": [],
   "source": [
    "# Coloring\n",
    "Pdata.plot.scatter(x='Age', y='TripTime',\n",
    "                  c=['C0' if c ==\"Employed\" else 'C1' for c in Pdata.Job_G])"
   ]
  },
  {
   "cell_type": "markdown",
   "id": "f5b86d0f",
   "metadata": {},
   "source": [
    "### Histogram"
   ]
  },
  {
   "cell_type": "code",
   "execution_count": null,
   "id": "0cc26a8c",
   "metadata": {
    "scrolled": true
   },
   "outputs": [],
   "source": [
    "# Histogram with respect to travel time\n",
    "Pdata.TripTime.hist()"
   ]
  },
  {
   "cell_type": "code",
   "execution_count": null,
   "id": "ee7a7322",
   "metadata": {},
   "outputs": [],
   "source": [
    "# Range control\n",
    "Pdata.TripTime.hist(bins=30)"
   ]
  },
  {
   "attachments": {
    "image-2.png": {
     "image/png": "[encoded data removed]"
    }
   },
   "cell_type": "markdown",
   "id": "e8f5f290",
   "metadata": {},
   "source": [
    "### Box plot\n",
    "- Properties\n",
    "![image-2.png](attachment:image-2.png)"
   ]
  },
  {
   "cell_type": "code",
   "execution_count": null,
   "id": "1fd3edbf",
   "metadata": {},
   "outputs": [],
   "source": [
    "# Box plot with respect to travle time\n",
    "Pdata.boxplot(column='TripTime')"
   ]
  },
  {
   "cell_type": "code",
   "execution_count": null,
   "id": "734c8248",
   "metadata": {},
   "outputs": [],
   "source": [
    "# Box plot with respect to travle time by employment status\n",
    "Pdata.boxplot(column='TripTime', by='Job_G')"
   ]
  },
  {
   "cell_type": "markdown",
   "id": "ba4803f9",
   "metadata": {},
   "source": [
    "# Data Visualization Using Matplotlib"
   ]
  },
  {
   "cell_type": "code",
   "execution_count": null,
   "id": "6a308a39",
   "metadata": {},
   "outputs": [],
   "source": [
    "import matplotlib as mpl\n",
    "import matplotlib.pyplot as plt"
   ]
  },
  {
   "cell_type": "code",
   "execution_count": null,
   "id": "4b6bf54b",
   "metadata": {
    "scrolled": true
   },
   "outputs": [],
   "source": [
    "# Create a plot\n",
    "fig, ax = plt.subplots()"
   ]
  },
  {
   "cell_type": "markdown",
   "id": "ccd76642",
   "metadata": {},
   "source": [
    "### Line plot"
   ]
  },
  {
   "cell_type": "code",
   "execution_count": null,
   "id": "76ecdf24",
   "metadata": {
    "scrolled": true
   },
   "outputs": [],
   "source": [
    "# Line plot: an example\n",
    "fig, ax = plt.subplots()\n",
    "ax.plot([1,2,3,4], [1,4,2,3]);"
   ]
  },
  {
   "cell_type": "markdown",
   "id": "143d377b",
   "metadata": {},
   "source": [
    "### Box plot"
   ]
  },
  {
   "cell_type": "code",
   "execution_count": null,
   "id": "e95105b7",
   "metadata": {},
   "outputs": [],
   "source": [
    "# Box plot with respect to Trip time\n",
    "fig, ax = plt.subplots()\n",
    "ax.boxplot(Pdata.TripTime); #Due to \"NaN\" , it doesn't work."
   ]
  },
  {
   "cell_type": "code",
   "execution_count": null,
   "id": "c12d5ac0",
   "metadata": {},
   "outputs": [],
   "source": [
    "Pdata.head(20)"
   ]
  },
  {
   "cell_type": "code",
   "execution_count": null,
   "id": "4fda3073",
   "metadata": {},
   "outputs": [],
   "source": [
    "# Box plot with respect to Trip time with non-trip data\n",
    "fig, ax = plt.subplots()\n",
    "ax.boxplot(Pdata.TripTime[Pdata.Trip_made==1]);"
   ]
  },
  {
   "cell_type": "markdown",
   "id": "f92711c6",
   "metadata": {},
   "source": [
    "### Multiple plots"
   ]
  },
  {
   "cell_type": "code",
   "execution_count": null,
   "id": "ddb55ae9",
   "metadata": {},
   "outputs": [],
   "source": [
    "# Create multiple plots\n",
    "fig, axes = plt.subplots(nrows=1, ncols=4)"
   ]
  },
  {
   "cell_type": "code",
   "execution_count": null,
   "id": "955516d8",
   "metadata": {},
   "outputs": [],
   "source": [
    "# Multiple plots\n",
    "fig, axes = plt.subplots(nrows=1, ncols=4)\n",
    "Pdata.boxplot(column='TripTime', by='Job_G', ax=axes[0])\n",
    "Pdata.boxplot(column='NofTrips', by='Job_G', ax=axes[1])\n",
    "Pdata.boxplot(column='Shop_TT', by='Job_G', ax=axes[2])\n",
    "Pdata.boxplot(column='Shop_AD', by='Job_G', ax=axes[3])"
   ]
  },
  {
   "cell_type": "code",
   "execution_count": null,
   "id": "df0abd61",
   "metadata": {},
   "outputs": [],
   "source": [
    "# Add adjustment\n",
    "fig, axes = plt.subplots(nrows=1, ncols=4)\n",
    "Pdata.boxplot(column='TripTime', by='Job_G', ax=axes[0])\n",
    "Pdata.boxplot(column='NofTrips', by='Job_G', ax=axes[1])\n",
    "Pdata.boxplot(column='Shop_TT', by='Job_G', ax=axes[2])\n",
    "Pdata.boxplot(column='Shop_AD', by='Job_G', ax=axes[3])\n",
    "plt.suptitle('')\n",
    "plt.tight_layout()"
   ]
  },
  {
   "cell_type": "markdown",
   "id": "b31e24b1",
   "metadata": {},
   "source": [
    "### Bar plot"
   ]
  },
  {
   "cell_type": "code",
   "execution_count": null,
   "id": "55479284",
   "metadata": {},
   "outputs": [],
   "source": [
    "G_summary = Pdata.groupby('Gcode').mean()\n",
    "fig, ax = plt.subplots()\n",
    "ax.bar(G_summary.index, G_summary.Work_TT, color=['C1','C2','C3','C4','C5']) # 주의할것 Gcode로 하면 안됨. index로 해야함(Grouping 한 경우)\n",
    "ax.set_xlabel(\"Gu code\")\n",
    "ax.set_ylabel(\"Average commuting time\")\n",
    "plt.title(\"Comparison of commuting time by Gu\")\n"
   ]
  },
  {
   "cell_type": "markdown",
   "id": "88661954",
   "metadata": {},
   "source": [
    "### For more information about Matplotlib\n",
    "https://matplotlib.org/stable/tutorials/introductory/usage.html#sphx-glr-tutorials-introductory-usage-py"
   ]
  },
  {
   "cell_type": "markdown",
   "id": "9bad48b3",
   "metadata": {},
   "source": [
    "# Data Visualization Using Seaborn"
   ]
  },
  {
   "cell_type": "code",
   "execution_count": null,
   "id": "396db21c",
   "metadata": {},
   "outputs": [],
   "source": [
    "import seaborn as sns"
   ]
  },
  {
   "cell_type": "markdown",
   "id": "a8b4bf88",
   "metadata": {},
   "source": [
    "### Histogram and Kernel density"
   ]
  },
  {
   "cell_type": "code",
   "execution_count": null,
   "id": "25a8fc43",
   "metadata": {},
   "outputs": [],
   "source": [
    "# Histogram with respec to trip time\n",
    "sns.displot(data = Pdata, x=\"TripTime\")"
   ]
  },
  {
   "cell_type": "code",
   "execution_count": null,
   "id": "4b9e363a",
   "metadata": {},
   "outputs": [],
   "source": [
    "# Kernel density with respec to trip time\n",
    "sns.displot(data = Pdata, x=\"TripTime\", kind=\"kde\")"
   ]
  },
  {
   "cell_type": "code",
   "execution_count": null,
   "id": "7692d8f6",
   "metadata": {},
   "outputs": [],
   "source": [
    "# Overlap\n",
    "sns.displot(data = Pdata, x=\"TripTime\", kde=True)"
   ]
  },
  {
   "cell_type": "code",
   "execution_count": null,
   "id": "b471a6fd",
   "metadata": {},
   "outputs": [],
   "source": [
    "# Comparison by employment status\n",
    "sns.displot(data = Pdata, x=\"TripTime\", hue=\"Job_G\", kind=\"kde\")"
   ]
  },
  {
   "cell_type": "code",
   "execution_count": null,
   "id": "e924cf9f",
   "metadata": {},
   "outputs": [],
   "source": [
    "# Comparison by age group\n",
    "sns.displot(data = Pdata, x=\"TripTime\", hue=\"Age_G\", kind=\"kde\")"
   ]
  },
  {
   "cell_type": "markdown",
   "id": "6c8995cc",
   "metadata": {},
   "source": [
    "### Density plots with 2 dimensions"
   ]
  },
  {
   "cell_type": "code",
   "execution_count": null,
   "id": "241746fa",
   "metadata": {},
   "outputs": [],
   "source": [
    "# Density plot with respect to travel time and commute time\n",
    "sns.displot(data = Pdata, x=\"TripTime\", y=\"Work_TT\")"
   ]
  },
  {
   "cell_type": "code",
   "execution_count": null,
   "id": "5c8fd972",
   "metadata": {},
   "outputs": [],
   "source": [
    "# Density plot with respect to travel time and commute time coloring by employment status\n",
    "sns.displot(data = Pdata, x=\"TripTime\", y=\"Work_TT\", hue=\"Job_G\")"
   ]
  },
  {
   "cell_type": "code",
   "execution_count": null,
   "id": "fcca9291",
   "metadata": {},
   "outputs": [],
   "source": [
    "# Kernel density plot with respect to travel time and commute time\n",
    "sns.displot(data = Pdata, x=\"TripTime\", y=\"Work_TT\", kind=\"kde\")"
   ]
  },
  {
   "cell_type": "code",
   "execution_count": null,
   "id": "22d93b69",
   "metadata": {},
   "outputs": [],
   "source": [
    "# Kernel density plot with respect to travel time and commute time by employment status\n",
    "sns.displot(data = Pdata, x=\"TripTime\", y=\"Work_TT\", kind=\"kde\", hue=\"Job_G\")"
   ]
  },
  {
   "cell_type": "markdown",
   "id": "83aba3d8",
   "metadata": {},
   "source": [
    "### Joint plot"
   ]
  },
  {
   "cell_type": "code",
   "execution_count": null,
   "id": "e23b95fa",
   "metadata": {},
   "outputs": [],
   "source": [
    "# Joint plot with respect to shopping travel time and shopping duration\n",
    "sns.jointplot(data = Pdata[(Pdata.Shop_AD>0)], x=\"Shop_TT\", y=\"Shop_AD\")"
   ]
  },
  {
   "cell_type": "code",
   "execution_count": null,
   "id": "4df8b3d4",
   "metadata": {},
   "outputs": [],
   "source": [
    "# Joint plot with respect to shopping travel time and shopping duration by employemnt status\n",
    "sns.jointplot(data = Pdata[(Pdata.Shop_AD>0)], x=\"Shop_TT\", y=\"Shop_AD\", hue=\"Job_G\")"
   ]
  },
  {
   "cell_type": "markdown",
   "id": "df59f83b",
   "metadata": {},
   "source": [
    "### For more information\n",
    "\"seaborn\" manual: https://seaborn.pydata.org/#:~:text=Seaborn%20is%20a%20Python%20data,introductory%20notes%20or%20the%20paper."
   ]
  }
 ],
 "metadata": {
  "kernelspec": {
   "display_name": "Python 3 (ipykernel)",
   "language": "python",
   "name": "python3"
  },
  "language_info": {
   "codemirror_mode": {
    "name": "ipython",
    "version": 3
   },
   "file_extension": ".py",
   "mimetype": "text/x-python",
   "name": "python",
   "nbconvert_exporter": "python",
   "pygments_lexer": "ipython3",
   "version": "3.9.7"
  }
 },
 "nbformat": 4,
 "nbformat_minor": 5
}
