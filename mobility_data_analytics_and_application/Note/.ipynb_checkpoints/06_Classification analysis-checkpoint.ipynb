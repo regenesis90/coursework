{
 "cells": [
  {
   "cell_type": "markdown",
   "id": "39abe069-7a16-4811-9750-ad40a97356cb",
   "metadata": {},
   "source": [
    "# Set up"
   ]
  },
  {
   "cell_type": "markdown",
   "id": "d674dca4-4342-493d-a031-3f48f0640a13",
   "metadata": {},
   "source": [
    "## Import"
   ]
  },
  {
   "cell_type": "code",
   "execution_count": null,
   "id": "67686e6f-b4c7-4769-b441-61756c42e03a",
   "metadata": {},
   "outputs": [],
   "source": [
    "import os\n",
    "import pandas as pd\n",
    "import numpy as np\n",
    "import seaborn as sns\n",
    "\n",
    "from sklearn.ensemble import RandomForestClassifier\n",
    "from sklearn.metrics import classification_report, confusion_matrix\n",
    "from sklearn.model_selection import train_test_split\n",
    "from sklearn import tree\n",
    "\n",
    "from pydotplus import graph_from_dot_data\n",
    "from sklearn.tree import export_graphviz"
   ]
  },
  {
   "cell_type": "markdown",
   "id": "f3882e60",
   "metadata": {},
   "source": [
    "## Importing Iris dataset"
   ]
  },
  {
   "cell_type": "code",
   "execution_count": 3,
   "id": "01215b20-6dbc-4408-b9b7-9ddc37c364e4",
   "metadata": {
    "execution": {
     "iopub.execute_input": "2022-10-26T08:43:57.727450Z",
     "iopub.status.busy": "2022-10-26T08:43:57.727450Z",
     "iopub.status.idle": "2022-10-26T08:43:57.774325Z",
     "shell.execute_reply": "2022-10-26T08:43:57.772380Z",
     "shell.execute_reply.started": "2022-10-26T08:43:57.727450Z"
    }
   },
   "outputs": [],
   "source": [
    "data_dir = 'D:/OneDrive - 연세대학교 (Yonsei University)/Lectures/2022-2_모빌리티데이터분석및활용/dataset'\n",
    "data_name = \"Iris_dataset.csv\"\n",
    "\n",
    "data_path = os.path.join(data_dir, data_name)"
   ]
  },
  {
   "cell_type": "code",
   "execution_count": 4,
   "id": "79c676cc",
   "metadata": {
    "execution": {
     "iopub.execute_input": "2022-10-26T08:43:57.776320Z",
     "iopub.status.busy": "2022-10-26T08:43:57.776320Z",
     "iopub.status.idle": "2022-10-26T08:43:59.505765Z",
     "shell.execute_reply": "2022-10-26T08:43:59.505765Z",
     "shell.execute_reply.started": "2022-10-26T08:43:57.776320Z"
    }
   },
   "outputs": [
    {
     "data": {
      "text/html": [
       "<div>\n",
       "<style scoped>\n",
       "    .dataframe tbody tr th:only-of-type {\n",
       "        vertical-align: middle;\n",
       "    }\n",
       "\n",
       "    .dataframe tbody tr th {\n",
       "        vertical-align: top;\n",
       "    }\n",
       "\n",
       "    .dataframe thead th {\n",
       "        text-align: right;\n",
       "    }\n",
       "</style>\n",
       "<table border=\"1\" class=\"dataframe\">\n",
       "  <thead>\n",
       "    <tr style=\"text-align: right;\">\n",
       "      <th></th>\n",
       "      <th>sepal.length</th>\n",
       "      <th>sepal.width</th>\n",
       "      <th>petal.length</th>\n",
       "      <th>petal.width</th>\n",
       "      <th>variety</th>\n",
       "    </tr>\n",
       "  </thead>\n",
       "  <tbody>\n",
       "    <tr>\n",
       "      <th>0</th>\n",
       "      <td>5.1</td>\n",
       "      <td>3.5</td>\n",
       "      <td>1.4</td>\n",
       "      <td>0.2</td>\n",
       "      <td>Setosa</td>\n",
       "    </tr>\n",
       "    <tr>\n",
       "      <th>1</th>\n",
       "      <td>4.9</td>\n",
       "      <td>3.0</td>\n",
       "      <td>1.4</td>\n",
       "      <td>0.2</td>\n",
       "      <td>Setosa</td>\n",
       "    </tr>\n",
       "    <tr>\n",
       "      <th>2</th>\n",
       "      <td>4.7</td>\n",
       "      <td>3.2</td>\n",
       "      <td>1.3</td>\n",
       "      <td>0.2</td>\n",
       "      <td>Setosa</td>\n",
       "    </tr>\n",
       "    <tr>\n",
       "      <th>3</th>\n",
       "      <td>4.6</td>\n",
       "      <td>3.1</td>\n",
       "      <td>1.5</td>\n",
       "      <td>0.2</td>\n",
       "      <td>Setosa</td>\n",
       "    </tr>\n",
       "    <tr>\n",
       "      <th>4</th>\n",
       "      <td>5.0</td>\n",
       "      <td>3.6</td>\n",
       "      <td>1.4</td>\n",
       "      <td>0.2</td>\n",
       "      <td>Setosa</td>\n",
       "    </tr>\n",
       "    <tr>\n",
       "      <th>...</th>\n",
       "      <td>...</td>\n",
       "      <td>...</td>\n",
       "      <td>...</td>\n",
       "      <td>...</td>\n",
       "      <td>...</td>\n",
       "    </tr>\n",
       "    <tr>\n",
       "      <th>145</th>\n",
       "      <td>6.7</td>\n",
       "      <td>3.0</td>\n",
       "      <td>5.2</td>\n",
       "      <td>2.3</td>\n",
       "      <td>Virginica</td>\n",
       "    </tr>\n",
       "    <tr>\n",
       "      <th>146</th>\n",
       "      <td>6.3</td>\n",
       "      <td>2.5</td>\n",
       "      <td>5.0</td>\n",
       "      <td>1.9</td>\n",
       "      <td>Virginica</td>\n",
       "    </tr>\n",
       "    <tr>\n",
       "      <th>147</th>\n",
       "      <td>6.5</td>\n",
       "      <td>3.0</td>\n",
       "      <td>5.2</td>\n",
       "      <td>2.0</td>\n",
       "      <td>Virginica</td>\n",
       "    </tr>\n",
       "    <tr>\n",
       "      <th>148</th>\n",
       "      <td>6.2</td>\n",
       "      <td>3.4</td>\n",
       "      <td>5.4</td>\n",
       "      <td>2.3</td>\n",
       "      <td>Virginica</td>\n",
       "    </tr>\n",
       "    <tr>\n",
       "      <th>149</th>\n",
       "      <td>5.9</td>\n",
       "      <td>3.0</td>\n",
       "      <td>5.1</td>\n",
       "      <td>1.8</td>\n",
       "      <td>Virginica</td>\n",
       "    </tr>\n",
       "  </tbody>\n",
       "</table>\n",
       "<p>150 rows × 5 columns</p>\n",
       "</div>"
      ],
      "text/plain": [
       "     sepal.length  sepal.width  petal.length  petal.width    variety\n",
       "0             5.1          3.5           1.4          0.2     Setosa\n",
       "1             4.9          3.0           1.4          0.2     Setosa\n",
       "2             4.7          3.2           1.3          0.2     Setosa\n",
       "3             4.6          3.1           1.5          0.2     Setosa\n",
       "4             5.0          3.6           1.4          0.2     Setosa\n",
       "..            ...          ...           ...          ...        ...\n",
       "145           6.7          3.0           5.2          2.3  Virginica\n",
       "146           6.3          2.5           5.0          1.9  Virginica\n",
       "147           6.5          3.0           5.2          2.0  Virginica\n",
       "148           6.2          3.4           5.4          2.3  Virginica\n",
       "149           5.9          3.0           5.1          1.8  Virginica\n",
       "\n",
       "[150 rows x 5 columns]"
      ]
     },
     "execution_count": 4,
     "metadata": {},
     "output_type": "execute_result"
    }
   ],
   "source": [
    "Iris = pd.read_csv(data_path)\n",
    "Iris"
   ]
  },
  {
   "cell_type": "markdown",
   "id": "ef2f087e-fce4-4ac6-81cb-6ddab2c96027",
   "metadata": {},
   "source": [
    "# Analysis"
   ]
  },
  {
   "cell_type": "code",
   "execution_count": 5,
   "id": "99ecca23",
   "metadata": {
    "execution": {
     "iopub.execute_input": "2022-10-26T08:43:59.506792Z",
     "iopub.status.busy": "2022-10-26T08:43:59.506792Z",
     "iopub.status.idle": "2022-10-26T08:44:02.976206Z",
     "shell.execute_reply": "2022-10-26T08:44:02.975235Z",
     "shell.execute_reply.started": "2022-10-26T08:43:59.506792Z"
    }
   },
   "outputs": [
    {
     "data": {
      "text/plain": [
       "<AxesSubplot:xlabel='sepal.length', ylabel='sepal.width'>"
      ]
     },
     "execution_count": 5,
     "metadata": {},
     "output_type": "execute_result"
    },
    {
     "data": {
      "image/png": "[encoded data removed]",
      "text/plain": [
       "<Figure size 432x288 with 1 Axes>"
      ]
     },
     "metadata": {
      "needs_background": "light"
     },
     "output_type": "display_data"
    }
   ],
   "source": [
    "sns.scatterplot(x = 'sepal.length', y = 'sepal.width', hue = 'variety', style = 'variety', s = 100, data = Iris)"
   ]
  },
  {
   "cell_type": "code",
   "execution_count": 6,
   "id": "69cf1b92",
   "metadata": {
    "execution": {
     "iopub.execute_input": "2022-10-26T08:44:02.977233Z",
     "iopub.status.busy": "2022-10-26T08:44:02.976206Z",
     "iopub.status.idle": "2022-10-26T08:44:03.261442Z",
     "shell.execute_reply": "2022-10-26T08:44:03.260444Z",
     "shell.execute_reply.started": "2022-10-26T08:44:02.977233Z"
    }
   },
   "outputs": [
    {
     "data": {
      "text/plain": [
       "<AxesSubplot:xlabel='petal.length', ylabel='petal.width'>"
      ]
     },
     "execution_count": 6,
     "metadata": {},
     "output_type": "execute_result"
    },
    {
     "data": {
      "image/png": "[encoded data removed]",
      "text/plain": [
       "<Figure size 432x288 with 1 Axes>"
      ]
     },
     "metadata": {
      "needs_background": "light"
     },
     "output_type": "display_data"
    }
   ],
   "source": [
    "sns.scatterplot(x = 'petal.length', y = 'petal.width', hue = 'variety', style = 'variety', s = 100, data = Iris)"
   ]
  },
  {
   "cell_type": "markdown",
   "id": "17c1c412",
   "metadata": {},
   "source": [
    "### Partitioning dataset into separate traning and test sets"
   ]
  },
  {
   "cell_type": "code",
   "execution_count": 7,
   "id": "78786860",
   "metadata": {
    "execution": {
     "iopub.execute_input": "2022-10-26T08:44:03.263439Z",
     "iopub.status.busy": "2022-10-26T08:44:03.263439Z",
     "iopub.status.idle": "2022-10-26T08:44:04.829582Z",
     "shell.execute_reply": "2022-10-26T08:44:04.828662Z",
     "shell.execute_reply.started": "2022-10-26T08:44:03.263439Z"
    }
   },
   "outputs": [],
   "source": [
    "# Using scikit-learn\n",
    "X = Iris[['sepal.length', 'sepal.width', 'petal.length', 'petal.width']]\n",
    "y = Iris['variety']\n",
    "X_train, X_test, y_train, y_test = train_test_split(X,y,\n",
    "                                                   test_size = 0.3,\n",
    "                                                   random_state = 0,\n",
    "                                                    stratify = y)"
   ]
  },
  {
   "cell_type": "markdown",
   "id": "e71c37a3",
   "metadata": {},
   "source": [
    "### Decision tree"
   ]
  },
  {
   "cell_type": "markdown",
   "id": "9c403a60",
   "metadata": {},
   "source": [
    "##### Learning"
   ]
  },
  {
   "cell_type": "code",
   "execution_count": 8,
   "id": "a5ca6f2a",
   "metadata": {
    "execution": {
     "iopub.execute_input": "2022-10-26T08:44:04.829582Z",
     "iopub.status.busy": "2022-10-26T08:44:04.829582Z",
     "iopub.status.idle": "2022-10-26T08:44:05.336416Z",
     "shell.execute_reply": "2022-10-26T08:44:05.335418Z",
     "shell.execute_reply.started": "2022-10-26T08:44:04.829582Z"
    }
   },
   "outputs": [
    {
     "data": {
      "text/plain": [
       "DecisionTreeClassifier(max_depth=4, random_state=1)"
      ]
     },
     "execution_count": 8,
     "metadata": {},
     "output_type": "execute_result"
    }
   ],
   "source": [
    "# Constructing tree\n",
    "DT = tree.DecisionTreeClassifier(criterion = 'gini', max_depth = 4, random_state = 1)\n",
    "DT.fit(X_train, y_train)"
   ]
  },
  {
   "cell_type": "markdown",
   "id": "9336aa39",
   "metadata": {},
   "source": [
    "##### Plot"
   ]
  },
  {
   "cell_type": "code",
   "execution_count": 9,
   "id": "d3fb1d72",
   "metadata": {
    "execution": {
     "iopub.execute_input": "2022-10-26T08:44:05.338415Z",
     "iopub.status.busy": "2022-10-26T08:44:05.338415Z",
     "iopub.status.idle": "2022-10-26T08:44:05.857023Z",
     "shell.execute_reply": "2022-10-26T08:44:05.856026Z",
     "shell.execute_reply.started": "2022-10-26T08:44:05.338415Z"
    }
   },
   "outputs": [
    {
     "data": {
      "text/plain": [
       "[Text(167.4, 195.696, 'X[3] <= 0.8\\ngini = 0.667\\nsamples = 105\\nvalue = [35, 35, 35]'),\n",
       " Text(141.64615384615385, 152.208, 'gini = 0.0\\nsamples = 35\\nvalue = [35, 0, 0]'),\n",
       " Text(193.15384615384616, 152.208, 'X[3] <= 1.75\\ngini = 0.5\\nsamples = 70\\nvalue = [0, 35, 35]'),\n",
       " Text(103.01538461538462, 108.72, 'X[2] <= 4.95\\ngini = 0.149\\nsamples = 37\\nvalue = [0, 34, 3]'),\n",
       " Text(51.50769230769231, 65.232, 'X[3] <= 1.65\\ngini = 0.059\\nsamples = 33\\nvalue = [0, 32, 1]'),\n",
       " Text(25.753846153846155, 21.744, 'gini = 0.0\\nsamples = 32\\nvalue = [0, 32, 0]'),\n",
       " Text(77.26153846153846, 21.744, 'gini = 0.0\\nsamples = 1\\nvalue = [0, 0, 1]'),\n",
       " Text(154.52307692307693, 65.232, 'X[3] <= 1.55\\ngini = 0.5\\nsamples = 4\\nvalue = [0, 2, 2]'),\n",
       " Text(128.76923076923077, 21.744, 'gini = 0.0\\nsamples = 2\\nvalue = [0, 0, 2]'),\n",
       " Text(180.27692307692308, 21.744, 'gini = 0.0\\nsamples = 2\\nvalue = [0, 2, 0]'),\n",
       " Text(283.2923076923077, 108.72, 'X[0] <= 5.95\\ngini = 0.059\\nsamples = 33\\nvalue = [0, 1, 32]'),\n",
       " Text(257.53846153846155, 65.232, 'X[2] <= 4.95\\ngini = 0.444\\nsamples = 3\\nvalue = [0, 1, 2]'),\n",
       " Text(231.7846153846154, 21.744, 'gini = 0.0\\nsamples = 1\\nvalue = [0, 1, 0]'),\n",
       " Text(283.2923076923077, 21.744, 'gini = 0.0\\nsamples = 2\\nvalue = [0, 0, 2]'),\n",
       " Text(309.04615384615386, 65.232, 'gini = 0.0\\nsamples = 30\\nvalue = [0, 0, 30]')]"
      ]
     },
     "execution_count": 9,
     "metadata": {},
     "output_type": "execute_result"
    },
    {
     "data": {
      "image/png": "[encoded data removed]",
      "text/plain": [
       "<Figure size 432x288 with 1 Axes>"
      ]
     },
     "metadata": {
      "needs_background": "light"
     },
     "output_type": "display_data"
    }
   ],
   "source": [
    "# Plotting tree\n",
    "tree.plot_tree(DT)"
   ]
  },
  {
   "cell_type": "markdown",
   "id": "b6aa3250",
   "metadata": {},
   "source": [
    "##### For a better plot: Install \"graphviz\" and \"pydotplus\" at Anaconda propot\n",
    "\n",
    "- conda install python-graphviz\n",
    "- conda install pydotplus"
   ]
  },
  {
   "cell_type": "code",
   "execution_count": 10,
   "id": "af90d53d",
   "metadata": {
    "execution": {
     "iopub.execute_input": "2022-10-26T08:44:05.859018Z",
     "iopub.status.busy": "2022-10-26T08:44:05.858021Z",
     "iopub.status.idle": "2022-10-26T08:44:06.886271Z",
     "shell.execute_reply": "2022-10-26T08:44:06.884278Z",
     "shell.execute_reply.started": "2022-10-26T08:44:05.859018Z"
    }
   },
   "outputs": [
    {
     "data": {
      "text/plain": [
       "True"
      ]
     },
     "execution_count": 10,
     "metadata": {},
     "output_type": "execute_result"
    }
   ],
   "source": [
    "#from pydotplus import graph_from_dot_data\n",
    "#from sklearn.tree import export_graphviz\n",
    "\n",
    "dot_data = export_graphviz(DT, out_file = None, \n",
    "                      feature_names = ['sepal.length', 'sepal.width', 'petal.length', 'petal.width'],  \n",
    "                      class_names = ['setosa', 'versicolor', 'virginica'],  \n",
    "                      filled = True, rounded = True,  \n",
    "                      special_characters = True)\n",
    "\n",
    "graph = graph_from_dot_data(dot_data)  \n",
    "graph.write_png('DT_iris.png') # 이게 아웃풋 그림이다. 그래프비즈가 결과를 그려준다."
   ]
  },
  {
   "cell_type": "markdown",
   "id": "fdfef671",
   "metadata": {},
   "source": [
    "##### Evaluation"
   ]
  },
  {
   "cell_type": "code",
   "execution_count": 11,
   "id": "0ccef4ef",
   "metadata": {
    "execution": {
     "iopub.execute_input": "2022-10-26T08:44:06.889266Z",
     "iopub.status.busy": "2022-10-26T08:44:06.889266Z",
     "iopub.status.idle": "2022-10-26T08:44:06.900235Z",
     "shell.execute_reply": "2022-10-26T08:44:06.899237Z",
     "shell.execute_reply.started": "2022-10-26T08:44:06.889266Z"
    }
   },
   "outputs": [
    {
     "data": {
      "text/plain": [
       "array(['Virginica', 'Virginica', 'Setosa', 'Setosa', 'Versicolor',\n",
       "       'Setosa', 'Versicolor', 'Virginica', 'Setosa', 'Versicolor',\n",
       "       'Setosa', 'Virginica', 'Setosa', 'Virginica', 'Versicolor',\n",
       "       'Virginica', 'Versicolor', 'Versicolor', 'Versicolor', 'Setosa',\n",
       "       'Versicolor', 'Virginica', 'Setosa', 'Versicolor', 'Versicolor',\n",
       "       'Virginica', 'Virginica', 'Virginica', 'Versicolor', 'Virginica',\n",
       "       'Versicolor', 'Setosa', 'Setosa', 'Versicolor', 'Versicolor',\n",
       "       'Versicolor', 'Versicolor', 'Setosa', 'Setosa', 'Versicolor',\n",
       "       'Setosa', 'Virginica', 'Setosa', 'Setosa', 'Virginica'],\n",
       "      dtype=object)"
      ]
     },
     "execution_count": 11,
     "metadata": {},
     "output_type": "execute_result"
    }
   ],
   "source": [
    "# Prediction using train dataset\n",
    "y_pred = DT.predict(X_test)\n",
    "y_pred"
   ]
  },
  {
   "cell_type": "code",
   "execution_count": 12,
   "id": "c31bf557",
   "metadata": {
    "execution": {
     "iopub.execute_input": "2022-10-26T08:44:06.902230Z",
     "iopub.status.busy": "2022-10-26T08:44:06.901234Z",
     "iopub.status.idle": "2022-10-26T08:44:06.932153Z",
     "shell.execute_reply": "2022-10-26T08:44:06.930154Z",
     "shell.execute_reply.started": "2022-10-26T08:44:06.901234Z"
    }
   },
   "outputs": [
    {
     "name": "stdout",
     "output_type": "stream",
     "text": [
      "[[15  0  0]\n",
      " [ 0 15  0]\n",
      " [ 0  2 13]]\n",
      "              precision    recall  f1-score   support\n",
      "\n",
      "      Setosa       1.00      1.00      1.00        15\n",
      "  Versicolor       0.88      1.00      0.94        15\n",
      "   Virginica       1.00      0.87      0.93        15\n",
      "\n",
      "    accuracy                           0.96        45\n",
      "   macro avg       0.96      0.96      0.96        45\n",
      "weighted avg       0.96      0.96      0.96        45\n",
      "\n"
     ]
    }
   ],
   "source": [
    "# Confusion matrix & measurements\n",
    "print(confusion_matrix(y_test, y_pred))\n",
    "print(classification_report(y_test, y_pred))"
   ]
  },
  {
   "cell_type": "markdown",
   "id": "cd250c2e",
   "metadata": {},
   "source": [
    "# PM Intention Dataset"
   ]
  },
  {
   "cell_type": "markdown",
   "id": "f4b5671e",
   "metadata": {},
   "source": [
    "### Data preparation"
   ]
  },
  {
   "cell_type": "code",
   "execution_count": 14,
   "id": "eef82d2d-d39b-405c-80b3-40e4234395ca",
   "metadata": {
    "execution": {
     "iopub.execute_input": "2022-10-26T09:21:15.780293Z",
     "iopub.status.busy": "2022-10-26T09:21:15.779264Z",
     "iopub.status.idle": "2022-10-26T09:21:15.791255Z",
     "shell.execute_reply": "2022-10-26T09:21:15.790237Z",
     "shell.execute_reply.started": "2022-10-26T09:21:15.780293Z"
    },
    "tags": []
   },
   "outputs": [],
   "source": [
    "PM_name = \"E_scooter_intention.csv\"\n",
    "PM_path = os.path.join(data_dir, PM_name)"
   ]
  },
  {
   "cell_type": "code",
   "execution_count": 15,
   "id": "57212433",
   "metadata": {
    "execution": {
     "iopub.execute_input": "2022-10-26T09:21:21.550435Z",
     "iopub.status.busy": "2022-10-26T09:21:21.550435Z",
     "iopub.status.idle": "2022-10-26T09:21:21.576364Z",
     "shell.execute_reply": "2022-10-26T09:21:21.575400Z",
     "shell.execute_reply.started": "2022-10-26T09:21:21.550435Z"
    },
    "tags": []
   },
   "outputs": [
    {
     "data": {
      "text/html": [
       "<div>\n",
       "<style scoped>\n",
       "    .dataframe tbody tr th:only-of-type {\n",
       "        vertical-align: middle;\n",
       "    }\n",
       "\n",
       "    .dataframe tbody tr th {\n",
       "        vertical-align: top;\n",
       "    }\n",
       "\n",
       "    .dataframe thead th {\n",
       "        text-align: right;\n",
       "    }\n",
       "</style>\n",
       "<table border=\"1\" class=\"dataframe\">\n",
       "  <thead>\n",
       "    <tr style=\"text-align: right;\">\n",
       "      <th></th>\n",
       "      <th>ID</th>\n",
       "      <th>Age_group</th>\n",
       "      <th>Male</th>\n",
       "      <th>Trip_type</th>\n",
       "      <th>Walking_time</th>\n",
       "      <th>Commute</th>\n",
       "      <th>Intention</th>\n",
       "    </tr>\n",
       "  </thead>\n",
       "  <tbody>\n",
       "    <tr>\n",
       "      <th>0</th>\n",
       "      <td>1</td>\n",
       "      <td>20-29 yr</td>\n",
       "      <td>0</td>\n",
       "      <td>FMLM</td>\n",
       "      <td>10</td>\n",
       "      <td>0</td>\n",
       "      <td>2_Sometimes consider</td>\n",
       "    </tr>\n",
       "    <tr>\n",
       "      <th>1</th>\n",
       "      <td>2</td>\n",
       "      <td>Over 40</td>\n",
       "      <td>0</td>\n",
       "      <td>Station-Station</td>\n",
       "      <td>40</td>\n",
       "      <td>0</td>\n",
       "      <td>2_Sometimes consider</td>\n",
       "    </tr>\n",
       "    <tr>\n",
       "      <th>2</th>\n",
       "      <td>3</td>\n",
       "      <td>30-39 yr</td>\n",
       "      <td>1</td>\n",
       "      <td>FMLM</td>\n",
       "      <td>10</td>\n",
       "      <td>1</td>\n",
       "      <td>2_Sometimes consider</td>\n",
       "    </tr>\n",
       "    <tr>\n",
       "      <th>3</th>\n",
       "      <td>4</td>\n",
       "      <td>Over 40</td>\n",
       "      <td>0</td>\n",
       "      <td>Station-Station</td>\n",
       "      <td>30</td>\n",
       "      <td>0</td>\n",
       "      <td>3_Frequent consider</td>\n",
       "    </tr>\n",
       "    <tr>\n",
       "      <th>4</th>\n",
       "      <td>5</td>\n",
       "      <td>20-29 yr</td>\n",
       "      <td>1</td>\n",
       "      <td>FMLM</td>\n",
       "      <td>30</td>\n",
       "      <td>0</td>\n",
       "      <td>3_Frequent consider</td>\n",
       "    </tr>\n",
       "    <tr>\n",
       "      <th>...</th>\n",
       "      <td>...</td>\n",
       "      <td>...</td>\n",
       "      <td>...</td>\n",
       "      <td>...</td>\n",
       "      <td>...</td>\n",
       "      <td>...</td>\n",
       "      <td>...</td>\n",
       "    </tr>\n",
       "    <tr>\n",
       "      <th>309</th>\n",
       "      <td>334</td>\n",
       "      <td>Over 40</td>\n",
       "      <td>1</td>\n",
       "      <td>FMLM</td>\n",
       "      <td>25</td>\n",
       "      <td>1</td>\n",
       "      <td>2_Sometimes consider</td>\n",
       "    </tr>\n",
       "    <tr>\n",
       "      <th>310</th>\n",
       "      <td>335</td>\n",
       "      <td>20-29 yr</td>\n",
       "      <td>1</td>\n",
       "      <td>FMLM</td>\n",
       "      <td>10</td>\n",
       "      <td>0</td>\n",
       "      <td>2_Sometimes consider</td>\n",
       "    </tr>\n",
       "    <tr>\n",
       "      <th>311</th>\n",
       "      <td>336</td>\n",
       "      <td>20-29 yr</td>\n",
       "      <td>1</td>\n",
       "      <td>Origin-Destination</td>\n",
       "      <td>10</td>\n",
       "      <td>0</td>\n",
       "      <td>3_Frequent consider</td>\n",
       "    </tr>\n",
       "    <tr>\n",
       "      <th>312</th>\n",
       "      <td>337</td>\n",
       "      <td>30-39 yr</td>\n",
       "      <td>0</td>\n",
       "      <td>Origin-Destination</td>\n",
       "      <td>60</td>\n",
       "      <td>1</td>\n",
       "      <td>2_Sometimes consider</td>\n",
       "    </tr>\n",
       "    <tr>\n",
       "      <th>313</th>\n",
       "      <td>338</td>\n",
       "      <td>20-29 yr</td>\n",
       "      <td>0</td>\n",
       "      <td>Origin-Destination</td>\n",
       "      <td>30</td>\n",
       "      <td>0</td>\n",
       "      <td>1_Hardly consider</td>\n",
       "    </tr>\n",
       "  </tbody>\n",
       "</table>\n",
       "<p>314 rows × 7 columns</p>\n",
       "</div>"
      ],
      "text/plain": [
       "      ID Age_group  Male           Trip_type  Walking_time  Commute  \\\n",
       "0      1  20-29 yr     0                FMLM            10        0   \n",
       "1      2   Over 40     0     Station-Station            40        0   \n",
       "2      3  30-39 yr     1                FMLM            10        1   \n",
       "3      4   Over 40     0     Station-Station            30        0   \n",
       "4      5  20-29 yr     1                FMLM            30        0   \n",
       "..   ...       ...   ...                 ...           ...      ...   \n",
       "309  334   Over 40     1                FMLM            25        1   \n",
       "310  335  20-29 yr     1                FMLM            10        0   \n",
       "311  336  20-29 yr     1  Origin-Destination            10        0   \n",
       "312  337  30-39 yr     0  Origin-Destination            60        1   \n",
       "313  338  20-29 yr     0  Origin-Destination            30        0   \n",
       "\n",
       "                Intention  \n",
       "0    2_Sometimes consider  \n",
       "1    2_Sometimes consider  \n",
       "2    2_Sometimes consider  \n",
       "3     3_Frequent consider  \n",
       "4     3_Frequent consider  \n",
       "..                    ...  \n",
       "309  2_Sometimes consider  \n",
       "310  2_Sometimes consider  \n",
       "311   3_Frequent consider  \n",
       "312  2_Sometimes consider  \n",
       "313     1_Hardly consider  \n",
       "\n",
       "[314 rows x 7 columns]"
      ]
     },
     "execution_count": 15,
     "metadata": {},
     "output_type": "execute_result"
    }
   ],
   "source": [
    "# Import\n",
    "\n",
    "PM = pd.read_csv(PM_path)\n",
    "PM"
   ]
  },
  {
   "attachments": {
    "image-2.png": {
     "image/png": "[encoded data removed]"
    }
   },
   "cell_type": "markdown",
   "id": "80ffbafa",
   "metadata": {},
   "source": [
    "- Data description\n",
    "![image-2.png](attachment:image-2.png)"
   ]
  },
  {
   "cell_type": "code",
   "execution_count": 16,
   "id": "4fe80601",
   "metadata": {
    "execution": {
     "iopub.execute_input": "2022-10-26T09:21:26.988782Z",
     "iopub.status.busy": "2022-10-26T09:21:26.987785Z",
     "iopub.status.idle": "2022-10-26T09:21:27.017705Z",
     "shell.execute_reply": "2022-10-26T09:21:27.016739Z",
     "shell.execute_reply.started": "2022-10-26T09:21:26.988782Z"
    },
    "scrolled": true
   },
   "outputs": [
    {
     "data": {
      "text/html": [
       "<div>\n",
       "<style scoped>\n",
       "    .dataframe tbody tr th:only-of-type {\n",
       "        vertical-align: middle;\n",
       "    }\n",
       "\n",
       "    .dataframe tbody tr th {\n",
       "        vertical-align: top;\n",
       "    }\n",
       "\n",
       "    .dataframe thead th {\n",
       "        text-align: right;\n",
       "    }\n",
       "</style>\n",
       "<table border=\"1\" class=\"dataframe\">\n",
       "  <thead>\n",
       "    <tr style=\"text-align: right;\">\n",
       "      <th></th>\n",
       "      <th>ID</th>\n",
       "    </tr>\n",
       "    <tr>\n",
       "      <th>Intention</th>\n",
       "      <th></th>\n",
       "    </tr>\n",
       "  </thead>\n",
       "  <tbody>\n",
       "    <tr>\n",
       "      <th>1_Hardly consider</th>\n",
       "      <td>49</td>\n",
       "    </tr>\n",
       "    <tr>\n",
       "      <th>2_Sometimes consider</th>\n",
       "      <td>188</td>\n",
       "    </tr>\n",
       "    <tr>\n",
       "      <th>3_Frequent consider</th>\n",
       "      <td>77</td>\n",
       "    </tr>\n",
       "    <tr>\n",
       "      <th>All</th>\n",
       "      <td>314</td>\n",
       "    </tr>\n",
       "  </tbody>\n",
       "</table>\n",
       "</div>"
      ],
      "text/plain": [
       "                       ID\n",
       "Intention                \n",
       "1_Hardly consider      49\n",
       "2_Sometimes consider  188\n",
       "3_Frequent consider    77\n",
       "All                   314"
      ]
     },
     "execution_count": 16,
     "metadata": {},
     "output_type": "execute_result"
    }
   ],
   "source": [
    "# Frequency of intention\n",
    "Intention_freq = pd.pivot_table(PM, values = 'ID', index = ['Intention'], aggfunc = 'count', margins = True)\n",
    "Intention_freq "
   ]
  },
  {
   "cell_type": "code",
   "execution_count": null,
   "id": "f347a3a1-5187-4ca6-a064-c7a50a1c33a7",
   "metadata": {},
   "outputs": [],
   "source": [
    "# Transform nominal variable to bianry variable: Age_group\n",
    "def Age20(row):\n",
    "    if (row['Age_group'] == '20-29 yr'):\n",
    "        return 1\n",
    "    \n",
    "    else:\n",
    "        return 0\n",
    "    \n",
    "def Age30(row):\n",
    "    if (row['Age_group'] == '30-39 yr'):\n",
    "        return 1\n",
    "    \n",
    "    else:\n",
    "        return 0"
   ]
  },
  {
   "cell_type": "code",
   "execution_count": 17,
   "id": "48bbb02f",
   "metadata": {
    "execution": {
     "iopub.execute_input": "2022-10-26T09:21:27.018704Z",
     "iopub.status.busy": "2022-10-26T09:21:27.018704Z",
     "iopub.status.idle": "2022-10-26T09:21:27.048622Z",
     "shell.execute_reply": "2022-10-26T09:21:27.047662Z",
     "shell.execute_reply.started": "2022-10-26T09:21:27.018704Z"
    }
   },
   "outputs": [
    {
     "data": {
      "text/html": [
       "<div>\n",
       "<style scoped>\n",
       "    .dataframe tbody tr th:only-of-type {\n",
       "        vertical-align: middle;\n",
       "    }\n",
       "\n",
       "    .dataframe tbody tr th {\n",
       "        vertical-align: top;\n",
       "    }\n",
       "\n",
       "    .dataframe thead th {\n",
       "        text-align: right;\n",
       "    }\n",
       "</style>\n",
       "<table border=\"1\" class=\"dataframe\">\n",
       "  <thead>\n",
       "    <tr style=\"text-align: right;\">\n",
       "      <th></th>\n",
       "      <th>ID</th>\n",
       "      <th>Age_group</th>\n",
       "      <th>Male</th>\n",
       "      <th>Trip_type</th>\n",
       "      <th>Walking_time</th>\n",
       "      <th>Commute</th>\n",
       "      <th>Intention</th>\n",
       "      <th>Age20</th>\n",
       "      <th>Age30</th>\n",
       "    </tr>\n",
       "  </thead>\n",
       "  <tbody>\n",
       "    <tr>\n",
       "      <th>0</th>\n",
       "      <td>1</td>\n",
       "      <td>20-29 yr</td>\n",
       "      <td>0</td>\n",
       "      <td>FMLM</td>\n",
       "      <td>10</td>\n",
       "      <td>0</td>\n",
       "      <td>2_Sometimes consider</td>\n",
       "      <td>1</td>\n",
       "      <td>0</td>\n",
       "    </tr>\n",
       "    <tr>\n",
       "      <th>1</th>\n",
       "      <td>2</td>\n",
       "      <td>Over 40</td>\n",
       "      <td>0</td>\n",
       "      <td>Station-Station</td>\n",
       "      <td>40</td>\n",
       "      <td>0</td>\n",
       "      <td>2_Sometimes consider</td>\n",
       "      <td>0</td>\n",
       "      <td>0</td>\n",
       "    </tr>\n",
       "    <tr>\n",
       "      <th>2</th>\n",
       "      <td>3</td>\n",
       "      <td>30-39 yr</td>\n",
       "      <td>1</td>\n",
       "      <td>FMLM</td>\n",
       "      <td>10</td>\n",
       "      <td>1</td>\n",
       "      <td>2_Sometimes consider</td>\n",
       "      <td>0</td>\n",
       "      <td>1</td>\n",
       "    </tr>\n",
       "    <tr>\n",
       "      <th>3</th>\n",
       "      <td>4</td>\n",
       "      <td>Over 40</td>\n",
       "      <td>0</td>\n",
       "      <td>Station-Station</td>\n",
       "      <td>30</td>\n",
       "      <td>0</td>\n",
       "      <td>3_Frequent consider</td>\n",
       "      <td>0</td>\n",
       "      <td>0</td>\n",
       "    </tr>\n",
       "    <tr>\n",
       "      <th>4</th>\n",
       "      <td>5</td>\n",
       "      <td>20-29 yr</td>\n",
       "      <td>1</td>\n",
       "      <td>FMLM</td>\n",
       "      <td>30</td>\n",
       "      <td>0</td>\n",
       "      <td>3_Frequent consider</td>\n",
       "      <td>1</td>\n",
       "      <td>0</td>\n",
       "    </tr>\n",
       "    <tr>\n",
       "      <th>...</th>\n",
       "      <td>...</td>\n",
       "      <td>...</td>\n",
       "      <td>...</td>\n",
       "      <td>...</td>\n",
       "      <td>...</td>\n",
       "      <td>...</td>\n",
       "      <td>...</td>\n",
       "      <td>...</td>\n",
       "      <td>...</td>\n",
       "    </tr>\n",
       "    <tr>\n",
       "      <th>309</th>\n",
       "      <td>334</td>\n",
       "      <td>Over 40</td>\n",
       "      <td>1</td>\n",
       "      <td>FMLM</td>\n",
       "      <td>25</td>\n",
       "      <td>1</td>\n",
       "      <td>2_Sometimes consider</td>\n",
       "      <td>0</td>\n",
       "      <td>0</td>\n",
       "    </tr>\n",
       "    <tr>\n",
       "      <th>310</th>\n",
       "      <td>335</td>\n",
       "      <td>20-29 yr</td>\n",
       "      <td>1</td>\n",
       "      <td>FMLM</td>\n",
       "      <td>10</td>\n",
       "      <td>0</td>\n",
       "      <td>2_Sometimes consider</td>\n",
       "      <td>1</td>\n",
       "      <td>0</td>\n",
       "    </tr>\n",
       "    <tr>\n",
       "      <th>311</th>\n",
       "      <td>336</td>\n",
       "      <td>20-29 yr</td>\n",
       "      <td>1</td>\n",
       "      <td>Origin-Destination</td>\n",
       "      <td>10</td>\n",
       "      <td>0</td>\n",
       "      <td>3_Frequent consider</td>\n",
       "      <td>1</td>\n",
       "      <td>0</td>\n",
       "    </tr>\n",
       "    <tr>\n",
       "      <th>312</th>\n",
       "      <td>337</td>\n",
       "      <td>30-39 yr</td>\n",
       "      <td>0</td>\n",
       "      <td>Origin-Destination</td>\n",
       "      <td>60</td>\n",
       "      <td>1</td>\n",
       "      <td>2_Sometimes consider</td>\n",
       "      <td>0</td>\n",
       "      <td>1</td>\n",
       "    </tr>\n",
       "    <tr>\n",
       "      <th>313</th>\n",
       "      <td>338</td>\n",
       "      <td>20-29 yr</td>\n",
       "      <td>0</td>\n",
       "      <td>Origin-Destination</td>\n",
       "      <td>30</td>\n",
       "      <td>0</td>\n",
       "      <td>1_Hardly consider</td>\n",
       "      <td>1</td>\n",
       "      <td>0</td>\n",
       "    </tr>\n",
       "  </tbody>\n",
       "</table>\n",
       "<p>314 rows × 9 columns</p>\n",
       "</div>"
      ],
      "text/plain": [
       "      ID Age_group  Male           Trip_type  Walking_time  Commute  \\\n",
       "0      1  20-29 yr     0                FMLM            10        0   \n",
       "1      2   Over 40     0     Station-Station            40        0   \n",
       "2      3  30-39 yr     1                FMLM            10        1   \n",
       "3      4   Over 40     0     Station-Station            30        0   \n",
       "4      5  20-29 yr     1                FMLM            30        0   \n",
       "..   ...       ...   ...                 ...           ...      ...   \n",
       "309  334   Over 40     1                FMLM            25        1   \n",
       "310  335  20-29 yr     1                FMLM            10        0   \n",
       "311  336  20-29 yr     1  Origin-Destination            10        0   \n",
       "312  337  30-39 yr     0  Origin-Destination            60        1   \n",
       "313  338  20-29 yr     0  Origin-Destination            30        0   \n",
       "\n",
       "                Intention  Age20  Age30  \n",
       "0    2_Sometimes consider      1      0  \n",
       "1    2_Sometimes consider      0      0  \n",
       "2    2_Sometimes consider      0      1  \n",
       "3     3_Frequent consider      0      0  \n",
       "4     3_Frequent consider      1      0  \n",
       "..                    ...    ...    ...  \n",
       "309  2_Sometimes consider      0      0  \n",
       "310  2_Sometimes consider      1      0  \n",
       "311   3_Frequent consider      1      0  \n",
       "312  2_Sometimes consider      0      1  \n",
       "313     1_Hardly consider      1      0  \n",
       "\n",
       "[314 rows x 9 columns]"
      ]
     },
     "execution_count": 17,
     "metadata": {},
     "output_type": "execute_result"
    }
   ],
   "source": [
    "PM['Age20'] = PM.apply(lambda row: Age20(row), axis = 1)\n",
    "PM['Age30'] = PM.apply(lambda row: Age30(row), axis = 1)\n",
    "\n",
    "PM"
   ]
  },
  {
   "cell_type": "code",
   "execution_count": null,
   "id": "23baa8ff-ec94-407c-973f-42134a0e3b5e",
   "metadata": {},
   "outputs": [],
   "source": [
    "# Transform nominal variable to bianry variable: Trip_type\n",
    "def FMLM(row):\n",
    "    if (row['Trip_type'] == 'FMLM'):\n",
    "        return 1\n",
    "    else:\n",
    "        return 0\n",
    "    \n",
    "def OD(row):\n",
    "    if (row['Trip_type'] == 'Origin-Destination'):\n",
    "        return 1\n",
    "    else:\n",
    "        return 0"
   ]
  },
  {
   "cell_type": "code",
   "execution_count": 18,
   "id": "0ed830ec",
   "metadata": {
    "execution": {
     "iopub.execute_input": "2022-10-26T09:21:27.050617Z",
     "iopub.status.busy": "2022-10-26T09:21:27.050617Z",
     "iopub.status.idle": "2022-10-26T09:21:27.096494Z",
     "shell.execute_reply": "2022-10-26T09:21:27.095496Z",
     "shell.execute_reply.started": "2022-10-26T09:21:27.050617Z"
    }
   },
   "outputs": [
    {
     "data": {
      "text/html": [
       "<div>\n",
       "<style scoped>\n",
       "    .dataframe tbody tr th:only-of-type {\n",
       "        vertical-align: middle;\n",
       "    }\n",
       "\n",
       "    .dataframe tbody tr th {\n",
       "        vertical-align: top;\n",
       "    }\n",
       "\n",
       "    .dataframe thead th {\n",
       "        text-align: right;\n",
       "    }\n",
       "</style>\n",
       "<table border=\"1\" class=\"dataframe\">\n",
       "  <thead>\n",
       "    <tr style=\"text-align: right;\">\n",
       "      <th></th>\n",
       "      <th>ID</th>\n",
       "      <th>Age_group</th>\n",
       "      <th>Male</th>\n",
       "      <th>Trip_type</th>\n",
       "      <th>Walking_time</th>\n",
       "      <th>Commute</th>\n",
       "      <th>Intention</th>\n",
       "      <th>Age20</th>\n",
       "      <th>Age30</th>\n",
       "      <th>FMLM</th>\n",
       "      <th>OD</th>\n",
       "    </tr>\n",
       "  </thead>\n",
       "  <tbody>\n",
       "    <tr>\n",
       "      <th>0</th>\n",
       "      <td>1</td>\n",
       "      <td>20-29 yr</td>\n",
       "      <td>0</td>\n",
       "      <td>FMLM</td>\n",
       "      <td>10</td>\n",
       "      <td>0</td>\n",
       "      <td>2_Sometimes consider</td>\n",
       "      <td>1</td>\n",
       "      <td>0</td>\n",
       "      <td>1</td>\n",
       "      <td>0</td>\n",
       "    </tr>\n",
       "    <tr>\n",
       "      <th>1</th>\n",
       "      <td>2</td>\n",
       "      <td>Over 40</td>\n",
       "      <td>0</td>\n",
       "      <td>Station-Station</td>\n",
       "      <td>40</td>\n",
       "      <td>0</td>\n",
       "      <td>2_Sometimes consider</td>\n",
       "      <td>0</td>\n",
       "      <td>0</td>\n",
       "      <td>0</td>\n",
       "      <td>0</td>\n",
       "    </tr>\n",
       "    <tr>\n",
       "      <th>2</th>\n",
       "      <td>3</td>\n",
       "      <td>30-39 yr</td>\n",
       "      <td>1</td>\n",
       "      <td>FMLM</td>\n",
       "      <td>10</td>\n",
       "      <td>1</td>\n",
       "      <td>2_Sometimes consider</td>\n",
       "      <td>0</td>\n",
       "      <td>1</td>\n",
       "      <td>1</td>\n",
       "      <td>0</td>\n",
       "    </tr>\n",
       "    <tr>\n",
       "      <th>3</th>\n",
       "      <td>4</td>\n",
       "      <td>Over 40</td>\n",
       "      <td>0</td>\n",
       "      <td>Station-Station</td>\n",
       "      <td>30</td>\n",
       "      <td>0</td>\n",
       "      <td>3_Frequent consider</td>\n",
       "      <td>0</td>\n",
       "      <td>0</td>\n",
       "      <td>0</td>\n",
       "      <td>0</td>\n",
       "    </tr>\n",
       "    <tr>\n",
       "      <th>4</th>\n",
       "      <td>5</td>\n",
       "      <td>20-29 yr</td>\n",
       "      <td>1</td>\n",
       "      <td>FMLM</td>\n",
       "      <td>30</td>\n",
       "      <td>0</td>\n",
       "      <td>3_Frequent consider</td>\n",
       "      <td>1</td>\n",
       "      <td>0</td>\n",
       "      <td>1</td>\n",
       "      <td>0</td>\n",
       "    </tr>\n",
       "    <tr>\n",
       "      <th>...</th>\n",
       "      <td>...</td>\n",
       "      <td>...</td>\n",
       "      <td>...</td>\n",
       "      <td>...</td>\n",
       "      <td>...</td>\n",
       "      <td>...</td>\n",
       "      <td>...</td>\n",
       "      <td>...</td>\n",
       "      <td>...</td>\n",
       "      <td>...</td>\n",
       "      <td>...</td>\n",
       "    </tr>\n",
       "    <tr>\n",
       "      <th>309</th>\n",
       "      <td>334</td>\n",
       "      <td>Over 40</td>\n",
       "      <td>1</td>\n",
       "      <td>FMLM</td>\n",
       "      <td>25</td>\n",
       "      <td>1</td>\n",
       "      <td>2_Sometimes consider</td>\n",
       "      <td>0</td>\n",
       "      <td>0</td>\n",
       "      <td>1</td>\n",
       "      <td>0</td>\n",
       "    </tr>\n",
       "    <tr>\n",
       "      <th>310</th>\n",
       "      <td>335</td>\n",
       "      <td>20-29 yr</td>\n",
       "      <td>1</td>\n",
       "      <td>FMLM</td>\n",
       "      <td>10</td>\n",
       "      <td>0</td>\n",
       "      <td>2_Sometimes consider</td>\n",
       "      <td>1</td>\n",
       "      <td>0</td>\n",
       "      <td>1</td>\n",
       "      <td>0</td>\n",
       "    </tr>\n",
       "    <tr>\n",
       "      <th>311</th>\n",
       "      <td>336</td>\n",
       "      <td>20-29 yr</td>\n",
       "      <td>1</td>\n",
       "      <td>Origin-Destination</td>\n",
       "      <td>10</td>\n",
       "      <td>0</td>\n",
       "      <td>3_Frequent consider</td>\n",
       "      <td>1</td>\n",
       "      <td>0</td>\n",
       "      <td>0</td>\n",
       "      <td>1</td>\n",
       "    </tr>\n",
       "    <tr>\n",
       "      <th>312</th>\n",
       "      <td>337</td>\n",
       "      <td>30-39 yr</td>\n",
       "      <td>0</td>\n",
       "      <td>Origin-Destination</td>\n",
       "      <td>60</td>\n",
       "      <td>1</td>\n",
       "      <td>2_Sometimes consider</td>\n",
       "      <td>0</td>\n",
       "      <td>1</td>\n",
       "      <td>0</td>\n",
       "      <td>1</td>\n",
       "    </tr>\n",
       "    <tr>\n",
       "      <th>313</th>\n",
       "      <td>338</td>\n",
       "      <td>20-29 yr</td>\n",
       "      <td>0</td>\n",
       "      <td>Origin-Destination</td>\n",
       "      <td>30</td>\n",
       "      <td>0</td>\n",
       "      <td>1_Hardly consider</td>\n",
       "      <td>1</td>\n",
       "      <td>0</td>\n",
       "      <td>0</td>\n",
       "      <td>1</td>\n",
       "    </tr>\n",
       "  </tbody>\n",
       "</table>\n",
       "<p>314 rows × 11 columns</p>\n",
       "</div>"
      ],
      "text/plain": [
       "      ID Age_group  Male           Trip_type  Walking_time  Commute  \\\n",
       "0      1  20-29 yr     0                FMLM            10        0   \n",
       "1      2   Over 40     0     Station-Station            40        0   \n",
       "2      3  30-39 yr     1                FMLM            10        1   \n",
       "3      4   Over 40     0     Station-Station            30        0   \n",
       "4      5  20-29 yr     1                FMLM            30        0   \n",
       "..   ...       ...   ...                 ...           ...      ...   \n",
       "309  334   Over 40     1                FMLM            25        1   \n",
       "310  335  20-29 yr     1                FMLM            10        0   \n",
       "311  336  20-29 yr     1  Origin-Destination            10        0   \n",
       "312  337  30-39 yr     0  Origin-Destination            60        1   \n",
       "313  338  20-29 yr     0  Origin-Destination            30        0   \n",
       "\n",
       "                Intention  Age20  Age30  FMLM  OD  \n",
       "0    2_Sometimes consider      1      0     1   0  \n",
       "1    2_Sometimes consider      0      0     0   0  \n",
       "2    2_Sometimes consider      0      1     1   0  \n",
       "3     3_Frequent consider      0      0     0   0  \n",
       "4     3_Frequent consider      1      0     1   0  \n",
       "..                    ...    ...    ...   ...  ..  \n",
       "309  2_Sometimes consider      0      0     1   0  \n",
       "310  2_Sometimes consider      1      0     1   0  \n",
       "311   3_Frequent consider      1      0     0   1  \n",
       "312  2_Sometimes consider      0      1     0   1  \n",
       "313     1_Hardly consider      1      0     0   1  \n",
       "\n",
       "[314 rows x 11 columns]"
      ]
     },
     "execution_count": 18,
     "metadata": {},
     "output_type": "execute_result"
    }
   ],
   "source": [
    "PM['FMLM'] = PM.apply(lambda row: FMLM(row), axis = 1)\n",
    "PM['OD'] = PM.apply(lambda row: OD(row), axis = 1)\n",
    "\n",
    "PM"
   ]
  },
  {
   "cell_type": "markdown",
   "id": "20ee9622",
   "metadata": {},
   "source": [
    "### Develop a decision tree of forecasting individual's intention to use PM\n",
    "- Selected features for tree building:\n",
    "- + Dependent variable = 'Intention'\n",
    "- + Independent variables = 'Age20', 'Age30', 'Male', 'FMLM', 'OD', 'Walking_time', 'Commute'\n",
    "- Training set = 80% of the data\n",
    "- Purity measure = GINI\n",
    "- Maximum depth = 5"
   ]
  },
  {
   "cell_type": "code",
   "execution_count": 19,
   "id": "b2bcf83c",
   "metadata": {
    "execution": {
     "iopub.execute_input": "2022-10-26T09:21:27.097492Z",
     "iopub.status.busy": "2022-10-26T09:21:27.097492Z",
     "iopub.status.idle": "2022-10-26T09:21:27.112451Z",
     "shell.execute_reply": "2022-10-26T09:21:27.111486Z",
     "shell.execute_reply.started": "2022-10-26T09:21:27.097492Z"
    }
   },
   "outputs": [
    {
     "data": {
      "text/plain": [
       "DecisionTreeClassifier(max_depth=5, random_state=1)"
      ]
     },
     "execution_count": 19,
     "metadata": {},
     "output_type": "execute_result"
    }
   ],
   "source": [
    "X = PM[['Age20', 'Age30', 'Male', 'FMLM', 'OD', 'Walking_time', 'Commute']]\n",
    "y = PM['Intention']\n",
    "X_train, X_test, y_train, y_test = train_test_split(X,y,\n",
    "                                                   test_size = 0.2,\n",
    "                                                   random_state = 0,\n",
    "                                                    stratify = y)\n",
    "\n",
    "\n",
    "DT_PM = tree.DecisionTreeClassifier(criterion = 'gini', max_depth = 5, random_state = 1)\n",
    "DT_PM.fit(X_train, y_train)"
   ]
  },
  {
   "cell_type": "code",
   "execution_count": 20,
   "id": "3be6a597",
   "metadata": {
    "execution": {
     "iopub.execute_input": "2022-10-26T09:21:27.113449Z",
     "iopub.status.busy": "2022-10-26T09:21:27.113449Z",
     "iopub.status.idle": "2022-10-26T09:21:28.512126Z",
     "shell.execute_reply": "2022-10-26T09:21:28.511144Z",
     "shell.execute_reply.started": "2022-10-26T09:21:27.113449Z"
    }
   },
   "outputs": [
    {
     "data": {
      "text/plain": [
       "True"
      ]
     },
     "execution_count": 20,
     "metadata": {},
     "output_type": "execute_result"
    }
   ],
   "source": [
    "dot_data = export_graphviz(DT_PM, out_file = None, \n",
    "                      feature_names = ['Age20', 'Age30', 'Male', 'FMLM', 'OD', 'Walking_time', 'Commute'],  \n",
    "                      class_names = ['1_Hardly consider','2_Sometimes consider','3_Frequent consider'],  \n",
    "                      filled = True, rounded = True,  \n",
    "                      special_characters = True)  \n",
    "graph = graph_from_dot_data(dot_data)  \n",
    "graph.write_png('DT_PM.png')"
   ]
  },
  {
   "cell_type": "code",
   "execution_count": 21,
   "id": "ccd5b6fe",
   "metadata": {
    "execution": {
     "iopub.execute_input": "2022-10-26T09:21:28.513123Z",
     "iopub.status.busy": "2022-10-26T09:21:28.513123Z",
     "iopub.status.idle": "2022-10-26T09:21:28.544069Z",
     "shell.execute_reply": "2022-10-26T09:21:28.543072Z",
     "shell.execute_reply.started": "2022-10-26T09:21:28.513123Z"
    },
    "scrolled": true
   },
   "outputs": [
    {
     "name": "stdout",
     "output_type": "stream",
     "text": [
      "[[ 2  7  1]\n",
      " [ 2 21 15]\n",
      " [ 0  5 10]]\n",
      "                      precision    recall  f1-score   support\n",
      "\n",
      "   1_Hardly consider       0.50      0.20      0.29        10\n",
      "2_Sometimes consider       0.64      0.55      0.59        38\n",
      " 3_Frequent consider       0.38      0.67      0.49        15\n",
      "\n",
      "            accuracy                           0.52        63\n",
      "           macro avg       0.51      0.47      0.46        63\n",
      "        weighted avg       0.55      0.52      0.52        63\n",
      "\n"
     ]
    }
   ],
   "source": [
    "y_pred = DT_PM.predict(X_test)\n",
    "print(confusion_matrix(y_test, y_pred))\n",
    "print(classification_report(y_test, y_pred))"
   ]
  },
  {
   "cell_type": "markdown",
   "id": "39010120",
   "metadata": {},
   "source": [
    "- \"Precision\": the ability of the classifier not to label a negative sample as positive\n",
    "- \"Recall\": the ability of the classifier to find all the positive samples\n",
    "- \"f1\": harmonic mean of the precision and recall\n",
    "- \"support\": the number of occurrences of each class in y_true"
   ]
  },
  {
   "cell_type": "markdown",
   "id": "be7236cc",
   "metadata": {},
   "source": [
    "### Improve the model by increasing depth"
   ]
  },
  {
   "cell_type": "markdown",
   "id": "54351e4c",
   "metadata": {},
   "source": [
    "##### Learning & Evaluation"
   ]
  },
  {
   "cell_type": "code",
   "execution_count": 22,
   "id": "5fa6f33d",
   "metadata": {
    "execution": {
     "iopub.execute_input": "2022-10-26T09:21:28.545038Z",
     "iopub.status.busy": "2022-10-26T09:21:28.545038Z",
     "iopub.status.idle": "2022-10-26T09:21:28.575955Z",
     "shell.execute_reply": "2022-10-26T09:21:28.574988Z",
     "shell.execute_reply.started": "2022-10-26T09:21:28.545038Z"
    }
   },
   "outputs": [
    {
     "name": "stdout",
     "output_type": "stream",
     "text": [
      "[[ 2  7  1]\n",
      " [ 2 23 13]\n",
      " [ 0  6  9]]\n",
      "                      precision    recall  f1-score   support\n",
      "\n",
      "   1_Hardly consider       0.50      0.20      0.29        10\n",
      "2_Sometimes consider       0.64      0.61      0.62        38\n",
      " 3_Frequent consider       0.39      0.60      0.47        15\n",
      "\n",
      "            accuracy                           0.54        63\n",
      "           macro avg       0.51      0.47      0.46        63\n",
      "        weighted avg       0.56      0.54      0.53        63\n",
      "\n"
     ]
    }
   ],
   "source": [
    "DT_PM7=tree.DecisionTreeClassifier(criterion = 'gini', max_depth = 7, random_state = 1)\n",
    "DT_PM7.fit(X_train, y_train)\n",
    "y_pred = DT_PM7.predict(X_test)\n",
    "print(confusion_matrix(y_test, y_pred))\n",
    "print(classification_report(y_test, y_pred))"
   ]
  },
  {
   "cell_type": "markdown",
   "id": "2646f30a",
   "metadata": {},
   "source": [
    "##### Plot"
   ]
  },
  {
   "cell_type": "code",
   "execution_count": 23,
   "id": "15ead3d1",
   "metadata": {
    "execution": {
     "iopub.execute_input": "2022-10-26T09:21:28.578986Z",
     "iopub.status.busy": "2022-10-26T09:21:28.577989Z",
     "iopub.status.idle": "2022-10-26T09:21:30.937051Z",
     "shell.execute_reply": "2022-10-26T09:21:30.936082Z",
     "shell.execute_reply.started": "2022-10-26T09:21:28.578986Z"
    }
   },
   "outputs": [
    {
     "data": {
      "text/plain": [
       "True"
      ]
     },
     "execution_count": 23,
     "metadata": {},
     "output_type": "execute_result"
    }
   ],
   "source": [
    "dot_data = export_graphviz(DT_PM7, out_file = None, \n",
    "                      feature_names = ['Age20', 'Age30', 'Male', 'FMLM', 'OD', 'Walking_time', 'Commute'],  \n",
    "                      class_names = ['1_Hardly consider','2_Sometimes consider','3_Frequent consider'],  \n",
    "                      filled = True, rounded = True,  \n",
    "                      special_characters = True)  \n",
    "graph = graph_from_dot_data(dot_data)  \n",
    "graph.write_png('DT_PM7.png')"
   ]
  },
  {
   "cell_type": "markdown",
   "id": "e74c0d15",
   "metadata": {},
   "source": [
    "### Improve the model using random forest approach"
   ]
  },
  {
   "cell_type": "markdown",
   "id": "808b7c8c",
   "metadata": {},
   "source": [
    "##### Learning"
   ]
  },
  {
   "cell_type": "code",
   "execution_count": 24,
   "id": "7f30f2a5",
   "metadata": {
    "execution": {
     "iopub.execute_input": "2022-10-26T09:21:30.940043Z",
     "iopub.status.busy": "2022-10-26T09:21:30.940043Z",
     "iopub.status.idle": "2022-10-26T09:21:31.095628Z",
     "shell.execute_reply": "2022-10-26T09:21:31.094660Z",
     "shell.execute_reply.started": "2022-10-26T09:21:30.940043Z"
    }
   },
   "outputs": [
    {
     "data": {
      "text/plain": [
       "RandomForestClassifier(n_estimators=50, n_jobs=2, random_state=1)"
      ]
     },
     "execution_count": 24,
     "metadata": {},
     "output_type": "execute_result"
    }
   ],
   "source": [
    "forest = RandomForestClassifier(criterion = 'gini', n_estimators = 50, random_state = 1, n_jobs = 2)\n",
    "forest.fit(X_train, y_train)"
   ]
  },
  {
   "cell_type": "markdown",
   "id": "6ccb8338",
   "metadata": {},
   "source": [
    "##### Evaluation"
   ]
  },
  {
   "cell_type": "code",
   "execution_count": 25,
   "id": "1031a624",
   "metadata": {
    "execution": {
     "iopub.execute_input": "2022-10-26T09:21:31.097622Z",
     "iopub.status.busy": "2022-10-26T09:21:31.096627Z",
     "iopub.status.idle": "2022-10-26T09:21:31.127542Z",
     "shell.execute_reply": "2022-10-26T09:21:31.126550Z",
     "shell.execute_reply.started": "2022-10-26T09:21:31.097622Z"
    }
   },
   "outputs": [
    {
     "name": "stdout",
     "output_type": "stream",
     "text": [
      "[[ 3  5  2]\n",
      " [ 1 25 12]\n",
      " [ 0  8  7]]\n",
      "                      precision    recall  f1-score   support\n",
      "\n",
      "   1_Hardly consider       0.75      0.30      0.43        10\n",
      "2_Sometimes consider       0.66      0.66      0.66        38\n",
      " 3_Frequent consider       0.33      0.47      0.39        15\n",
      "\n",
      "            accuracy                           0.56        63\n",
      "           macro avg       0.58      0.47      0.49        63\n",
      "        weighted avg       0.60      0.56      0.56        63\n",
      "\n"
     ]
    }
   ],
   "source": [
    "y_pred = forest.predict(X_test)\n",
    "print(confusion_matrix(y_test, y_pred))\n",
    "print(classification_report(y_test, y_pred))"
   ]
  },
  {
   "cell_type": "markdown",
   "id": "17f02508",
   "metadata": {},
   "source": [
    "##### Plot: A single tree"
   ]
  },
  {
   "cell_type": "code",
   "execution_count": 26,
   "id": "1fbdaea8",
   "metadata": {
    "execution": {
     "iopub.execute_input": "2022-10-26T09:21:31.128539Z",
     "iopub.status.busy": "2022-10-26T09:21:31.128539Z",
     "iopub.status.idle": "2022-10-26T09:21:33.539924Z",
     "shell.execute_reply": "2022-10-26T09:21:33.538966Z",
     "shell.execute_reply.started": "2022-10-26T09:21:31.128539Z"
    }
   },
   "outputs": [
    {
     "data": {
      "text/plain": [
       "True"
      ]
     },
     "execution_count": 26,
     "metadata": {},
     "output_type": "execute_result"
    }
   ],
   "source": [
    "dot_data = export_graphviz(forest.estimators_[0], out_file = None, \n",
    "                      feature_names = ['Age20', 'Age30', 'Male', 'FMLM', 'OD', 'Walking_time', 'Commute'],  \n",
    "                      class_names = ['1_Hardly consider','2_Sometimes consider','3_Frequent consider'],  \n",
    "                      filled = True, rounded = True,  \n",
    "                      special_characters = True)  \n",
    "graph = graph_from_dot_data(dot_data)  \n",
    "graph.write_png('DT_PM_forest0.png')"
   ]
  },
  {
   "cell_type": "markdown",
   "id": "bda5f393",
   "metadata": {},
   "source": [
    "# Smart Travel Card Data"
   ]
  },
  {
   "cell_type": "markdown",
   "id": "9d866067",
   "metadata": {},
   "source": [
    "### Develop a decision tree of classifying public transportation user type using smart travel card data\n",
    "- Selected features for tree building:\n",
    "- + Dependent variable = 'User'\n",
    "- + Independent variables = 'Subway', 'On_hour', 'Travel time'\n",
    "- Training set = 80% of the data\n",
    "- Purity measure = GINI\n",
    "- Maximum depth = 5"
   ]
  },
  {
   "cell_type": "markdown",
   "id": "2bceafd8",
   "metadata": {},
   "source": [
    "### Data preparation"
   ]
  },
  {
   "cell_type": "code",
   "execution_count": 28,
   "id": "81d11a8d-0529-476b-86b3-322d7be736ce",
   "metadata": {
    "execution": {
     "iopub.execute_input": "2022-10-26T09:22:15.100301Z",
     "iopub.status.busy": "2022-10-26T09:22:15.100301Z",
     "iopub.status.idle": "2022-10-26T09:22:15.116258Z",
     "shell.execute_reply": "2022-10-26T09:22:15.115261Z",
     "shell.execute_reply.started": "2022-10-26T09:22:15.100301Z"
    },
    "tags": []
   },
   "outputs": [],
   "source": [
    "Cdata_name = \"Transit_card_single_day_c.csv\"\n",
    "Cdata_path = os.path.join(data_dir, Cdata_name)"
   ]
  },
  {
   "cell_type": "code",
   "execution_count": 29,
   "id": "d1427411",
   "metadata": {
    "execution": {
     "iopub.execute_input": "2022-10-26T09:22:21.331800Z",
     "iopub.status.busy": "2022-10-26T09:22:21.331800Z",
     "iopub.status.idle": "2022-10-26T09:22:21.778761Z",
     "shell.execute_reply": "2022-10-26T09:22:21.777761Z",
     "shell.execute_reply.started": "2022-10-26T09:22:21.331800Z"
    },
    "tags": []
   },
   "outputs": [
    {
     "data": {
      "text/html": [
       "<div>\n",
       "<style scoped>\n",
       "    .dataframe tbody tr th:only-of-type {\n",
       "        vertical-align: middle;\n",
       "    }\n",
       "\n",
       "    .dataframe tbody tr th {\n",
       "        vertical-align: top;\n",
       "    }\n",
       "\n",
       "    .dataframe thead th {\n",
       "        text-align: right;\n",
       "    }\n",
       "</style>\n",
       "<table border=\"1\" class=\"dataframe\">\n",
       "  <thead>\n",
       "    <tr style=\"text-align: right;\">\n",
       "      <th></th>\n",
       "      <th>Card_ID</th>\n",
       "      <th>Trip_Seq</th>\n",
       "      <th>Leg_Seq</th>\n",
       "      <th>User</th>\n",
       "      <th>Mode</th>\n",
       "      <th>Route</th>\n",
       "      <th>On_station</th>\n",
       "      <th>Off_station</th>\n",
       "      <th>On_hour</th>\n",
       "      <th>On_min</th>\n",
       "      <th>On_sec</th>\n",
       "      <th>Off_hour</th>\n",
       "      <th>Off_min</th>\n",
       "      <th>Off_sec</th>\n",
       "    </tr>\n",
       "  </thead>\n",
       "  <tbody>\n",
       "    <tr>\n",
       "      <th>0</th>\n",
       "      <td>100001</td>\n",
       "      <td>1</td>\n",
       "      <td>1</td>\n",
       "      <td>normal</td>\n",
       "      <td>subway</td>\n",
       "      <td>20000000</td>\n",
       "      <td>424</td>\n",
       "      <td>328</td>\n",
       "      <td>17</td>\n",
       "      <td>25</td>\n",
       "      <td>55</td>\n",
       "      <td>17</td>\n",
       "      <td>50</td>\n",
       "      <td>15</td>\n",
       "    </tr>\n",
       "    <tr>\n",
       "      <th>1</th>\n",
       "      <td>100002</td>\n",
       "      <td>1</td>\n",
       "      <td>1</td>\n",
       "      <td>elderly</td>\n",
       "      <td>subway</td>\n",
       "      <td>20000000</td>\n",
       "      <td>204</td>\n",
       "      <td>313</td>\n",
       "      <td>17</td>\n",
       "      <td>9</td>\n",
       "      <td>1</td>\n",
       "      <td>17</td>\n",
       "      <td>34</td>\n",
       "      <td>57</td>\n",
       "    </tr>\n",
       "    <tr>\n",
       "      <th>2</th>\n",
       "      <td>100003</td>\n",
       "      <td>1</td>\n",
       "      <td>1</td>\n",
       "      <td>normal</td>\n",
       "      <td>subway</td>\n",
       "      <td>20000000</td>\n",
       "      <td>2618</td>\n",
       "      <td>2632</td>\n",
       "      <td>7</td>\n",
       "      <td>40</td>\n",
       "      <td>7</td>\n",
       "      <td>8</td>\n",
       "      <td>8</td>\n",
       "      <td>49</td>\n",
       "    </tr>\n",
       "    <tr>\n",
       "      <th>3</th>\n",
       "      <td>100003</td>\n",
       "      <td>1</td>\n",
       "      <td>2</td>\n",
       "      <td>normal</td>\n",
       "      <td>bus</td>\n",
       "      <td>11110049</td>\n",
       "      <td>9002129</td>\n",
       "      <td>9002129</td>\n",
       "      <td>8</td>\n",
       "      <td>14</td>\n",
       "      <td>21</td>\n",
       "      <td>8</td>\n",
       "      <td>15</td>\n",
       "      <td>1</td>\n",
       "    </tr>\n",
       "    <tr>\n",
       "      <th>4</th>\n",
       "      <td>100003</td>\n",
       "      <td>2</td>\n",
       "      <td>1</td>\n",
       "      <td>normal</td>\n",
       "      <td>subway</td>\n",
       "      <td>20000000</td>\n",
       "      <td>2632</td>\n",
       "      <td>2618</td>\n",
       "      <td>20</td>\n",
       "      <td>29</td>\n",
       "      <td>13</td>\n",
       "      <td>21</td>\n",
       "      <td>4</td>\n",
       "      <td>17</td>\n",
       "    </tr>\n",
       "    <tr>\n",
       "      <th>...</th>\n",
       "      <td>...</td>\n",
       "      <td>...</td>\n",
       "      <td>...</td>\n",
       "      <td>...</td>\n",
       "      <td>...</td>\n",
       "      <td>...</td>\n",
       "      <td>...</td>\n",
       "      <td>...</td>\n",
       "      <td>...</td>\n",
       "      <td>...</td>\n",
       "      <td>...</td>\n",
       "      <td>...</td>\n",
       "      <td>...</td>\n",
       "      <td>...</td>\n",
       "    </tr>\n",
       "    <tr>\n",
       "      <th>401488</th>\n",
       "      <td>269599</td>\n",
       "      <td>2</td>\n",
       "      <td>1</td>\n",
       "      <td>elderly</td>\n",
       "      <td>subway</td>\n",
       "      <td>20000000</td>\n",
       "      <td>152</td>\n",
       "      <td>2820</td>\n",
       "      <td>15</td>\n",
       "      <td>4</td>\n",
       "      <td>27</td>\n",
       "      <td>16</td>\n",
       "      <td>16</td>\n",
       "      <td>13</td>\n",
       "    </tr>\n",
       "    <tr>\n",
       "      <th>401489</th>\n",
       "      <td>269600</td>\n",
       "      <td>1</td>\n",
       "      <td>1</td>\n",
       "      <td>normal</td>\n",
       "      <td>subway</td>\n",
       "      <td>20000000</td>\n",
       "      <td>410</td>\n",
       "      <td>155</td>\n",
       "      <td>8</td>\n",
       "      <td>20</td>\n",
       "      <td>7</td>\n",
       "      <td>8</td>\n",
       "      <td>53</td>\n",
       "      <td>16</td>\n",
       "    </tr>\n",
       "    <tr>\n",
       "      <th>401490</th>\n",
       "      <td>269600</td>\n",
       "      <td>2</td>\n",
       "      <td>1</td>\n",
       "      <td>normal</td>\n",
       "      <td>subway</td>\n",
       "      <td>20000000</td>\n",
       "      <td>155</td>\n",
       "      <td>414</td>\n",
       "      <td>17</td>\n",
       "      <td>30</td>\n",
       "      <td>58</td>\n",
       "      <td>17</td>\n",
       "      <td>55</td>\n",
       "      <td>14</td>\n",
       "    </tr>\n",
       "    <tr>\n",
       "      <th>401491</th>\n",
       "      <td>269601</td>\n",
       "      <td>1</td>\n",
       "      <td>1</td>\n",
       "      <td>normal</td>\n",
       "      <td>subway</td>\n",
       "      <td>20000000</td>\n",
       "      <td>2627</td>\n",
       "      <td>222</td>\n",
       "      <td>9</td>\n",
       "      <td>39</td>\n",
       "      <td>39</td>\n",
       "      <td>10</td>\n",
       "      <td>17</td>\n",
       "      <td>27</td>\n",
       "    </tr>\n",
       "    <tr>\n",
       "      <th>401492</th>\n",
       "      <td>269601</td>\n",
       "      <td>2</td>\n",
       "      <td>1</td>\n",
       "      <td>normal</td>\n",
       "      <td>subway</td>\n",
       "      <td>20000000</td>\n",
       "      <td>222</td>\n",
       "      <td>2627</td>\n",
       "      <td>21</td>\n",
       "      <td>47</td>\n",
       "      <td>56</td>\n",
       "      <td>22</td>\n",
       "      <td>28</td>\n",
       "      <td>5</td>\n",
       "    </tr>\n",
       "  </tbody>\n",
       "</table>\n",
       "<p>401493 rows × 14 columns</p>\n",
       "</div>"
      ],
      "text/plain": [
       "        Card_ID  Trip_Seq  Leg_Seq     User    Mode     Route  On_station  \\\n",
       "0        100001         1        1   normal  subway  20000000         424   \n",
       "1        100002         1        1  elderly  subway  20000000         204   \n",
       "2        100003         1        1   normal  subway  20000000        2618   \n",
       "3        100003         1        2   normal     bus  11110049     9002129   \n",
       "4        100003         2        1   normal  subway  20000000        2632   \n",
       "...         ...       ...      ...      ...     ...       ...         ...   \n",
       "401488   269599         2        1  elderly  subway  20000000         152   \n",
       "401489   269600         1        1   normal  subway  20000000         410   \n",
       "401490   269600         2        1   normal  subway  20000000         155   \n",
       "401491   269601         1        1   normal  subway  20000000        2627   \n",
       "401492   269601         2        1   normal  subway  20000000         222   \n",
       "\n",
       "        Off_station  On_hour  On_min  On_sec  Off_hour  Off_min  Off_sec  \n",
       "0               328       17      25      55        17       50       15  \n",
       "1               313       17       9       1        17       34       57  \n",
       "2              2632        7      40       7         8        8       49  \n",
       "3           9002129        8      14      21         8       15        1  \n",
       "4              2618       20      29      13        21        4       17  \n",
       "...             ...      ...     ...     ...       ...      ...      ...  \n",
       "401488         2820       15       4      27        16       16       13  \n",
       "401489          155        8      20       7         8       53       16  \n",
       "401490          414       17      30      58        17       55       14  \n",
       "401491          222        9      39      39        10       17       27  \n",
       "401492         2627       21      47      56        22       28        5  \n",
       "\n",
       "[401493 rows x 14 columns]"
      ]
     },
     "execution_count": 29,
     "metadata": {},
     "output_type": "execute_result"
    }
   ],
   "source": [
    "Cdata = pd.read_csv(Cdata_path)\n",
    "Cdata"
   ]
  },
  {
   "cell_type": "code",
   "execution_count": 1,
   "id": "22449d8f-734f-443a-8e09-2ce7cf2b7eb5",
   "metadata": {
    "execution": {
     "iopub.execute_input": "2022-10-28T01:02:35.267876Z",
     "iopub.status.busy": "2022-10-28T01:02:35.267876Z",
     "iopub.status.idle": "2022-10-28T01:02:35.282880Z",
     "shell.execute_reply": "2022-10-28T01:02:35.281863Z",
     "shell.execute_reply.started": "2022-10-28T01:02:35.267876Z"
    }
   },
   "outputs": [],
   "source": [
    "# Transform nominal variable to bianry variable: Trip_type\n",
    "def Subway(row):\n",
    "    if (row['Mode'] == 'subway'):\n",
    "        return 1\n",
    "    \n",
    "    else:\n",
    "        return 0"
   ]
  },
  {
   "cell_type": "code",
   "execution_count": 30,
   "id": "45aafee4",
   "metadata": {
    "execution": {
     "iopub.execute_input": "2022-10-26T09:22:25.908773Z",
     "iopub.status.busy": "2022-10-26T09:22:25.908773Z",
     "iopub.status.idle": "2022-10-26T09:22:28.496852Z",
     "shell.execute_reply": "2022-10-26T09:22:28.495856Z",
     "shell.execute_reply.started": "2022-10-26T09:22:25.908773Z"
    }
   },
   "outputs": [
    {
     "data": {
      "text/html": [
       "<div>\n",
       "<style scoped>\n",
       "    .dataframe tbody tr th:only-of-type {\n",
       "        vertical-align: middle;\n",
       "    }\n",
       "\n",
       "    .dataframe tbody tr th {\n",
       "        vertical-align: top;\n",
       "    }\n",
       "\n",
       "    .dataframe thead th {\n",
       "        text-align: right;\n",
       "    }\n",
       "</style>\n",
       "<table border=\"1\" class=\"dataframe\">\n",
       "  <thead>\n",
       "    <tr style=\"text-align: right;\">\n",
       "      <th></th>\n",
       "      <th>Card_ID</th>\n",
       "      <th>Trip_Seq</th>\n",
       "      <th>Leg_Seq</th>\n",
       "      <th>User</th>\n",
       "      <th>Mode</th>\n",
       "      <th>Route</th>\n",
       "      <th>On_station</th>\n",
       "      <th>Off_station</th>\n",
       "      <th>On_hour</th>\n",
       "      <th>On_min</th>\n",
       "      <th>On_sec</th>\n",
       "      <th>Off_hour</th>\n",
       "      <th>Off_min</th>\n",
       "      <th>Off_sec</th>\n",
       "      <th>Subway</th>\n",
       "    </tr>\n",
       "  </thead>\n",
       "  <tbody>\n",
       "    <tr>\n",
       "      <th>0</th>\n",
       "      <td>100001</td>\n",
       "      <td>1</td>\n",
       "      <td>1</td>\n",
       "      <td>normal</td>\n",
       "      <td>subway</td>\n",
       "      <td>20000000</td>\n",
       "      <td>424</td>\n",
       "      <td>328</td>\n",
       "      <td>17</td>\n",
       "      <td>25</td>\n",
       "      <td>55</td>\n",
       "      <td>17</td>\n",
       "      <td>50</td>\n",
       "      <td>15</td>\n",
       "      <td>1</td>\n",
       "    </tr>\n",
       "    <tr>\n",
       "      <th>1</th>\n",
       "      <td>100002</td>\n",
       "      <td>1</td>\n",
       "      <td>1</td>\n",
       "      <td>elderly</td>\n",
       "      <td>subway</td>\n",
       "      <td>20000000</td>\n",
       "      <td>204</td>\n",
       "      <td>313</td>\n",
       "      <td>17</td>\n",
       "      <td>9</td>\n",
       "      <td>1</td>\n",
       "      <td>17</td>\n",
       "      <td>34</td>\n",
       "      <td>57</td>\n",
       "      <td>1</td>\n",
       "    </tr>\n",
       "    <tr>\n",
       "      <th>2</th>\n",
       "      <td>100003</td>\n",
       "      <td>1</td>\n",
       "      <td>1</td>\n",
       "      <td>normal</td>\n",
       "      <td>subway</td>\n",
       "      <td>20000000</td>\n",
       "      <td>2618</td>\n",
       "      <td>2632</td>\n",
       "      <td>7</td>\n",
       "      <td>40</td>\n",
       "      <td>7</td>\n",
       "      <td>8</td>\n",
       "      <td>8</td>\n",
       "      <td>49</td>\n",
       "      <td>1</td>\n",
       "    </tr>\n",
       "    <tr>\n",
       "      <th>3</th>\n",
       "      <td>100003</td>\n",
       "      <td>1</td>\n",
       "      <td>2</td>\n",
       "      <td>normal</td>\n",
       "      <td>bus</td>\n",
       "      <td>11110049</td>\n",
       "      <td>9002129</td>\n",
       "      <td>9002129</td>\n",
       "      <td>8</td>\n",
       "      <td>14</td>\n",
       "      <td>21</td>\n",
       "      <td>8</td>\n",
       "      <td>15</td>\n",
       "      <td>1</td>\n",
       "      <td>0</td>\n",
       "    </tr>\n",
       "    <tr>\n",
       "      <th>4</th>\n",
       "      <td>100003</td>\n",
       "      <td>2</td>\n",
       "      <td>1</td>\n",
       "      <td>normal</td>\n",
       "      <td>subway</td>\n",
       "      <td>20000000</td>\n",
       "      <td>2632</td>\n",
       "      <td>2618</td>\n",
       "      <td>20</td>\n",
       "      <td>29</td>\n",
       "      <td>13</td>\n",
       "      <td>21</td>\n",
       "      <td>4</td>\n",
       "      <td>17</td>\n",
       "      <td>1</td>\n",
       "    </tr>\n",
       "    <tr>\n",
       "      <th>...</th>\n",
       "      <td>...</td>\n",
       "      <td>...</td>\n",
       "      <td>...</td>\n",
       "      <td>...</td>\n",
       "      <td>...</td>\n",
       "      <td>...</td>\n",
       "      <td>...</td>\n",
       "      <td>...</td>\n",
       "      <td>...</td>\n",
       "      <td>...</td>\n",
       "      <td>...</td>\n",
       "      <td>...</td>\n",
       "      <td>...</td>\n",
       "      <td>...</td>\n",
       "      <td>...</td>\n",
       "    </tr>\n",
       "    <tr>\n",
       "      <th>401488</th>\n",
       "      <td>269599</td>\n",
       "      <td>2</td>\n",
       "      <td>1</td>\n",
       "      <td>elderly</td>\n",
       "      <td>subway</td>\n",
       "      <td>20000000</td>\n",
       "      <td>152</td>\n",
       "      <td>2820</td>\n",
       "      <td>15</td>\n",
       "      <td>4</td>\n",
       "      <td>27</td>\n",
       "      <td>16</td>\n",
       "      <td>16</td>\n",
       "      <td>13</td>\n",
       "      <td>1</td>\n",
       "    </tr>\n",
       "    <tr>\n",
       "      <th>401489</th>\n",
       "      <td>269600</td>\n",
       "      <td>1</td>\n",
       "      <td>1</td>\n",
       "      <td>normal</td>\n",
       "      <td>subway</td>\n",
       "      <td>20000000</td>\n",
       "      <td>410</td>\n",
       "      <td>155</td>\n",
       "      <td>8</td>\n",
       "      <td>20</td>\n",
       "      <td>7</td>\n",
       "      <td>8</td>\n",
       "      <td>53</td>\n",
       "      <td>16</td>\n",
       "      <td>1</td>\n",
       "    </tr>\n",
       "    <tr>\n",
       "      <th>401490</th>\n",
       "      <td>269600</td>\n",
       "      <td>2</td>\n",
       "      <td>1</td>\n",
       "      <td>normal</td>\n",
       "      <td>subway</td>\n",
       "      <td>20000000</td>\n",
       "      <td>155</td>\n",
       "      <td>414</td>\n",
       "      <td>17</td>\n",
       "      <td>30</td>\n",
       "      <td>58</td>\n",
       "      <td>17</td>\n",
       "      <td>55</td>\n",
       "      <td>14</td>\n",
       "      <td>1</td>\n",
       "    </tr>\n",
       "    <tr>\n",
       "      <th>401491</th>\n",
       "      <td>269601</td>\n",
       "      <td>1</td>\n",
       "      <td>1</td>\n",
       "      <td>normal</td>\n",
       "      <td>subway</td>\n",
       "      <td>20000000</td>\n",
       "      <td>2627</td>\n",
       "      <td>222</td>\n",
       "      <td>9</td>\n",
       "      <td>39</td>\n",
       "      <td>39</td>\n",
       "      <td>10</td>\n",
       "      <td>17</td>\n",
       "      <td>27</td>\n",
       "      <td>1</td>\n",
       "    </tr>\n",
       "    <tr>\n",
       "      <th>401492</th>\n",
       "      <td>269601</td>\n",
       "      <td>2</td>\n",
       "      <td>1</td>\n",
       "      <td>normal</td>\n",
       "      <td>subway</td>\n",
       "      <td>20000000</td>\n",
       "      <td>222</td>\n",
       "      <td>2627</td>\n",
       "      <td>21</td>\n",
       "      <td>47</td>\n",
       "      <td>56</td>\n",
       "      <td>22</td>\n",
       "      <td>28</td>\n",
       "      <td>5</td>\n",
       "      <td>1</td>\n",
       "    </tr>\n",
       "  </tbody>\n",
       "</table>\n",
       "<p>401493 rows × 15 columns</p>\n",
       "</div>"
      ],
      "text/plain": [
       "        Card_ID  Trip_Seq  Leg_Seq     User    Mode     Route  On_station  \\\n",
       "0        100001         1        1   normal  subway  20000000         424   \n",
       "1        100002         1        1  elderly  subway  20000000         204   \n",
       "2        100003         1        1   normal  subway  20000000        2618   \n",
       "3        100003         1        2   normal     bus  11110049     9002129   \n",
       "4        100003         2        1   normal  subway  20000000        2632   \n",
       "...         ...       ...      ...      ...     ...       ...         ...   \n",
       "401488   269599         2        1  elderly  subway  20000000         152   \n",
       "401489   269600         1        1   normal  subway  20000000         410   \n",
       "401490   269600         2        1   normal  subway  20000000         155   \n",
       "401491   269601         1        1   normal  subway  20000000        2627   \n",
       "401492   269601         2        1   normal  subway  20000000         222   \n",
       "\n",
       "        Off_station  On_hour  On_min  On_sec  Off_hour  Off_min  Off_sec  \\\n",
       "0               328       17      25      55        17       50       15   \n",
       "1               313       17       9       1        17       34       57   \n",
       "2              2632        7      40       7         8        8       49   \n",
       "3           9002129        8      14      21         8       15        1   \n",
       "4              2618       20      29      13        21        4       17   \n",
       "...             ...      ...     ...     ...       ...      ...      ...   \n",
       "401488         2820       15       4      27        16       16       13   \n",
       "401489          155        8      20       7         8       53       16   \n",
       "401490          414       17      30      58        17       55       14   \n",
       "401491          222        9      39      39        10       17       27   \n",
       "401492         2627       21      47      56        22       28        5   \n",
       "\n",
       "        Subway  \n",
       "0            1  \n",
       "1            1  \n",
       "2            1  \n",
       "3            0  \n",
       "4            1  \n",
       "...        ...  \n",
       "401488       1  \n",
       "401489       1  \n",
       "401490       1  \n",
       "401491       1  \n",
       "401492       1  \n",
       "\n",
       "[401493 rows x 15 columns]"
      ]
     },
     "execution_count": 30,
     "metadata": {},
     "output_type": "execute_result"
    }
   ],
   "source": [
    "Cdata['Subway'] = Cdata.apply(lambda row: Subway(row), axis=1)\n",
    "\n",
    "Cdata"
   ]
  },
  {
   "cell_type": "code",
   "execution_count": 31,
   "id": "daba6733",
   "metadata": {
    "execution": {
     "iopub.execute_input": "2022-10-26T09:22:28.497820Z",
     "iopub.status.busy": "2022-10-26T09:22:28.497820Z",
     "iopub.status.idle": "2022-10-26T09:22:28.559684Z",
     "shell.execute_reply": "2022-10-26T09:22:28.558686Z",
     "shell.execute_reply.started": "2022-10-26T09:22:28.497820Z"
    }
   },
   "outputs": [
    {
     "data": {
      "text/html": [
       "<div>\n",
       "<style scoped>\n",
       "    .dataframe tbody tr th:only-of-type {\n",
       "        vertical-align: middle;\n",
       "    }\n",
       "\n",
       "    .dataframe tbody tr th {\n",
       "        vertical-align: top;\n",
       "    }\n",
       "\n",
       "    .dataframe thead th {\n",
       "        text-align: right;\n",
       "    }\n",
       "</style>\n",
       "<table border=\"1\" class=\"dataframe\">\n",
       "  <thead>\n",
       "    <tr style=\"text-align: right;\">\n",
       "      <th></th>\n",
       "      <th>Card_ID</th>\n",
       "      <th>Trip_Seq</th>\n",
       "      <th>Leg_Seq</th>\n",
       "      <th>User</th>\n",
       "      <th>Mode</th>\n",
       "      <th>Route</th>\n",
       "      <th>On_station</th>\n",
       "      <th>Off_station</th>\n",
       "      <th>On_hour</th>\n",
       "      <th>On_min</th>\n",
       "      <th>On_sec</th>\n",
       "      <th>Off_hour</th>\n",
       "      <th>Off_min</th>\n",
       "      <th>Off_sec</th>\n",
       "      <th>Subway</th>\n",
       "      <th>T_time</th>\n",
       "    </tr>\n",
       "  </thead>\n",
       "  <tbody>\n",
       "    <tr>\n",
       "      <th>0</th>\n",
       "      <td>100001</td>\n",
       "      <td>1</td>\n",
       "      <td>1</td>\n",
       "      <td>normal</td>\n",
       "      <td>subway</td>\n",
       "      <td>20000000</td>\n",
       "      <td>424</td>\n",
       "      <td>328</td>\n",
       "      <td>17</td>\n",
       "      <td>25</td>\n",
       "      <td>55</td>\n",
       "      <td>17</td>\n",
       "      <td>50</td>\n",
       "      <td>15</td>\n",
       "      <td>1</td>\n",
       "      <td>24.333333</td>\n",
       "    </tr>\n",
       "    <tr>\n",
       "      <th>1</th>\n",
       "      <td>100002</td>\n",
       "      <td>1</td>\n",
       "      <td>1</td>\n",
       "      <td>elderly</td>\n",
       "      <td>subway</td>\n",
       "      <td>20000000</td>\n",
       "      <td>204</td>\n",
       "      <td>313</td>\n",
       "      <td>17</td>\n",
       "      <td>9</td>\n",
       "      <td>1</td>\n",
       "      <td>17</td>\n",
       "      <td>34</td>\n",
       "      <td>57</td>\n",
       "      <td>1</td>\n",
       "      <td>25.933333</td>\n",
       "    </tr>\n",
       "    <tr>\n",
       "      <th>2</th>\n",
       "      <td>100003</td>\n",
       "      <td>1</td>\n",
       "      <td>1</td>\n",
       "      <td>normal</td>\n",
       "      <td>subway</td>\n",
       "      <td>20000000</td>\n",
       "      <td>2618</td>\n",
       "      <td>2632</td>\n",
       "      <td>7</td>\n",
       "      <td>40</td>\n",
       "      <td>7</td>\n",
       "      <td>8</td>\n",
       "      <td>8</td>\n",
       "      <td>49</td>\n",
       "      <td>1</td>\n",
       "      <td>28.700000</td>\n",
       "    </tr>\n",
       "    <tr>\n",
       "      <th>3</th>\n",
       "      <td>100003</td>\n",
       "      <td>1</td>\n",
       "      <td>2</td>\n",
       "      <td>normal</td>\n",
       "      <td>bus</td>\n",
       "      <td>11110049</td>\n",
       "      <td>9002129</td>\n",
       "      <td>9002129</td>\n",
       "      <td>8</td>\n",
       "      <td>14</td>\n",
       "      <td>21</td>\n",
       "      <td>8</td>\n",
       "      <td>15</td>\n",
       "      <td>1</td>\n",
       "      <td>0</td>\n",
       "      <td>0.666667</td>\n",
       "    </tr>\n",
       "    <tr>\n",
       "      <th>4</th>\n",
       "      <td>100003</td>\n",
       "      <td>2</td>\n",
       "      <td>1</td>\n",
       "      <td>normal</td>\n",
       "      <td>subway</td>\n",
       "      <td>20000000</td>\n",
       "      <td>2632</td>\n",
       "      <td>2618</td>\n",
       "      <td>20</td>\n",
       "      <td>29</td>\n",
       "      <td>13</td>\n",
       "      <td>21</td>\n",
       "      <td>4</td>\n",
       "      <td>17</td>\n",
       "      <td>1</td>\n",
       "      <td>35.066667</td>\n",
       "    </tr>\n",
       "    <tr>\n",
       "      <th>...</th>\n",
       "      <td>...</td>\n",
       "      <td>...</td>\n",
       "      <td>...</td>\n",
       "      <td>...</td>\n",
       "      <td>...</td>\n",
       "      <td>...</td>\n",
       "      <td>...</td>\n",
       "      <td>...</td>\n",
       "      <td>...</td>\n",
       "      <td>...</td>\n",
       "      <td>...</td>\n",
       "      <td>...</td>\n",
       "      <td>...</td>\n",
       "      <td>...</td>\n",
       "      <td>...</td>\n",
       "      <td>...</td>\n",
       "    </tr>\n",
       "    <tr>\n",
       "      <th>401488</th>\n",
       "      <td>269599</td>\n",
       "      <td>2</td>\n",
       "      <td>1</td>\n",
       "      <td>elderly</td>\n",
       "      <td>subway</td>\n",
       "      <td>20000000</td>\n",
       "      <td>152</td>\n",
       "      <td>2820</td>\n",
       "      <td>15</td>\n",
       "      <td>4</td>\n",
       "      <td>27</td>\n",
       "      <td>16</td>\n",
       "      <td>16</td>\n",
       "      <td>13</td>\n",
       "      <td>1</td>\n",
       "      <td>71.766667</td>\n",
       "    </tr>\n",
       "    <tr>\n",
       "      <th>401489</th>\n",
       "      <td>269600</td>\n",
       "      <td>1</td>\n",
       "      <td>1</td>\n",
       "      <td>normal</td>\n",
       "      <td>subway</td>\n",
       "      <td>20000000</td>\n",
       "      <td>410</td>\n",
       "      <td>155</td>\n",
       "      <td>8</td>\n",
       "      <td>20</td>\n",
       "      <td>7</td>\n",
       "      <td>8</td>\n",
       "      <td>53</td>\n",
       "      <td>16</td>\n",
       "      <td>1</td>\n",
       "      <td>33.150000</td>\n",
       "    </tr>\n",
       "    <tr>\n",
       "      <th>401490</th>\n",
       "      <td>269600</td>\n",
       "      <td>2</td>\n",
       "      <td>1</td>\n",
       "      <td>normal</td>\n",
       "      <td>subway</td>\n",
       "      <td>20000000</td>\n",
       "      <td>155</td>\n",
       "      <td>414</td>\n",
       "      <td>17</td>\n",
       "      <td>30</td>\n",
       "      <td>58</td>\n",
       "      <td>17</td>\n",
       "      <td>55</td>\n",
       "      <td>14</td>\n",
       "      <td>1</td>\n",
       "      <td>24.266667</td>\n",
       "    </tr>\n",
       "    <tr>\n",
       "      <th>401491</th>\n",
       "      <td>269601</td>\n",
       "      <td>1</td>\n",
       "      <td>1</td>\n",
       "      <td>normal</td>\n",
       "      <td>subway</td>\n",
       "      <td>20000000</td>\n",
       "      <td>2627</td>\n",
       "      <td>222</td>\n",
       "      <td>9</td>\n",
       "      <td>39</td>\n",
       "      <td>39</td>\n",
       "      <td>10</td>\n",
       "      <td>17</td>\n",
       "      <td>27</td>\n",
       "      <td>1</td>\n",
       "      <td>37.800000</td>\n",
       "    </tr>\n",
       "    <tr>\n",
       "      <th>401492</th>\n",
       "      <td>269601</td>\n",
       "      <td>2</td>\n",
       "      <td>1</td>\n",
       "      <td>normal</td>\n",
       "      <td>subway</td>\n",
       "      <td>20000000</td>\n",
       "      <td>222</td>\n",
       "      <td>2627</td>\n",
       "      <td>21</td>\n",
       "      <td>47</td>\n",
       "      <td>56</td>\n",
       "      <td>22</td>\n",
       "      <td>28</td>\n",
       "      <td>5</td>\n",
       "      <td>1</td>\n",
       "      <td>40.150000</td>\n",
       "    </tr>\n",
       "  </tbody>\n",
       "</table>\n",
       "<p>401493 rows × 16 columns</p>\n",
       "</div>"
      ],
      "text/plain": [
       "        Card_ID  Trip_Seq  Leg_Seq     User    Mode     Route  On_station  \\\n",
       "0        100001         1        1   normal  subway  20000000         424   \n",
       "1        100002         1        1  elderly  subway  20000000         204   \n",
       "2        100003         1        1   normal  subway  20000000        2618   \n",
       "3        100003         1        2   normal     bus  11110049     9002129   \n",
       "4        100003         2        1   normal  subway  20000000        2632   \n",
       "...         ...       ...      ...      ...     ...       ...         ...   \n",
       "401488   269599         2        1  elderly  subway  20000000         152   \n",
       "401489   269600         1        1   normal  subway  20000000         410   \n",
       "401490   269600         2        1   normal  subway  20000000         155   \n",
       "401491   269601         1        1   normal  subway  20000000        2627   \n",
       "401492   269601         2        1   normal  subway  20000000         222   \n",
       "\n",
       "        Off_station  On_hour  On_min  On_sec  Off_hour  Off_min  Off_sec  \\\n",
       "0               328       17      25      55        17       50       15   \n",
       "1               313       17       9       1        17       34       57   \n",
       "2              2632        7      40       7         8        8       49   \n",
       "3           9002129        8      14      21         8       15        1   \n",
       "4              2618       20      29      13        21        4       17   \n",
       "...             ...      ...     ...     ...       ...      ...      ...   \n",
       "401488         2820       15       4      27        16       16       13   \n",
       "401489          155        8      20       7         8       53       16   \n",
       "401490          414       17      30      58        17       55       14   \n",
       "401491          222        9      39      39        10       17       27   \n",
       "401492         2627       21      47      56        22       28        5   \n",
       "\n",
       "        Subway     T_time  \n",
       "0            1  24.333333  \n",
       "1            1  25.933333  \n",
       "2            1  28.700000  \n",
       "3            0   0.666667  \n",
       "4            1  35.066667  \n",
       "...        ...        ...  \n",
       "401488       1  71.766667  \n",
       "401489       1  33.150000  \n",
       "401490       1  24.266667  \n",
       "401491       1  37.800000  \n",
       "401492       1  40.150000  \n",
       "\n",
       "[401493 rows x 16 columns]"
      ]
     },
     "execution_count": 31,
     "metadata": {},
     "output_type": "execute_result"
    }
   ],
   "source": [
    "# Travel time cacluation (unit = minutes)\n",
    "Cdata['T_time'] = (((Cdata.Off_hour*60)+Cdata.Off_min+(Cdata.Off_sec/60))\n",
    "                 - ((Cdata.On_hour*60)+Cdata.On_min+(Cdata.On_sec/60)))\n",
    "Cdata"
   ]
  },
  {
   "cell_type": "markdown",
   "id": "152757dc",
   "metadata": {},
   "source": [
    "### Learning"
   ]
  },
  {
   "cell_type": "code",
   "execution_count": null,
   "id": "5d1fd258-567e-467f-86f9-2b9e90af505a",
   "metadata": {},
   "outputs": [],
   "source": [
    "X = Cdata[['Subway', 'On_hour', 'T_time']]\n",
    "y = Cdata['User']\n",
    "X_train, X_test, y_train, y_test = train_test_split(X,y,\n",
    "                                                   test_size = 0.2,\n",
    "                                                   random_state = 0,\n",
    "                                                    stratify = y)"
   ]
  },
  {
   "cell_type": "code",
   "execution_count": 32,
   "id": "063b6d79",
   "metadata": {
    "execution": {
     "iopub.execute_input": "2022-10-26T09:22:28.560681Z",
     "iopub.status.busy": "2022-10-26T09:22:28.560681Z",
     "iopub.status.idle": "2022-10-26T09:22:29.400434Z",
     "shell.execute_reply": "2022-10-26T09:22:29.400434Z",
     "shell.execute_reply.started": "2022-10-26T09:22:28.560681Z"
    }
   },
   "outputs": [
    {
     "data": {
      "text/plain": [
       "DecisionTreeClassifier(max_depth=5, random_state=1)"
      ]
     },
     "execution_count": 32,
     "metadata": {},
     "output_type": "execute_result"
    }
   ],
   "source": [
    "DT_PT_user = tree.DecisionTreeClassifier(criterion = 'gini', max_depth = 5, random_state = 1)\n",
    "DT_PT_user.fit(X_train, y_train)"
   ]
  },
  {
   "cell_type": "markdown",
   "id": "8915bf16",
   "metadata": {},
   "source": [
    "### Plot"
   ]
  },
  {
   "cell_type": "code",
   "execution_count": 33,
   "id": "a4c32319",
   "metadata": {
    "execution": {
     "iopub.execute_input": "2022-10-26T09:22:29.402437Z",
     "iopub.status.busy": "2022-10-26T09:22:29.401432Z",
     "iopub.status.idle": "2022-10-26T09:22:30.925368Z",
     "shell.execute_reply": "2022-10-26T09:22:30.923335Z",
     "shell.execute_reply.started": "2022-10-26T09:22:29.402437Z"
    }
   },
   "outputs": [
    {
     "data": {
      "text/plain": [
       "True"
      ]
     },
     "execution_count": 33,
     "metadata": {},
     "output_type": "execute_result"
    }
   ],
   "source": [
    "dot_data = export_graphviz(DT_PT_user, out_file = None, \n",
    "                      feature_names = ['Subway', 'On_hour', 'T_time'],  \n",
    "                      class_names = ['disabled','elderly','kids','normal','teen'],  \n",
    "                      filled = True, rounded = True,  \n",
    "                      special_characters = True)  \n",
    "graph = graph_from_dot_data(dot_data)  \n",
    "graph.write_png('DT_PT_user.png')"
   ]
  },
  {
   "cell_type": "markdown",
   "id": "f0211d76",
   "metadata": {},
   "source": [
    "### Evaluation"
   ]
  },
  {
   "cell_type": "code",
   "execution_count": 34,
   "id": "a27b5ccf",
   "metadata": {
    "execution": {
     "iopub.execute_input": "2022-10-26T09:22:30.926354Z",
     "iopub.status.busy": "2022-10-26T09:22:30.925368Z",
     "iopub.status.idle": "2022-10-26T09:22:32.912015Z",
     "shell.execute_reply": "2022-10-26T09:22:32.911018Z",
     "shell.execute_reply.started": "2022-10-26T09:22:30.926354Z"
    },
    "tags": []
   },
   "outputs": [
    {
     "name": "stdout",
     "output_type": "stream",
     "text": [
      "[[    0     0     0  1090     0]\n",
      " [    0     0     0  6261     0]\n",
      " [    0     0     0   285     0]\n",
      " [    0     2     0 69960     0]\n",
      " [    0     1     0  2700     0]]\n"
     ]
    },
    {
     "name": "stderr",
     "output_type": "stream",
     "text": [
      "C:\\dev\\Anaconda_3\\lib\\site-packages\\sklearn\\metrics\\_classification.py:1245: UndefinedMetricWarning: Precision and F-score are ill-defined and being set to 0.0 in labels with no predicted samples. Use `zero_division` parameter to control this behavior.\n",
      "  _warn_prf(average, modifier, msg_start, len(result))\n",
      "C:\\dev\\Anaconda_3\\lib\\site-packages\\sklearn\\metrics\\_classification.py:1245: UndefinedMetricWarning: Precision and F-score are ill-defined and being set to 0.0 in labels with no predicted samples. Use `zero_division` parameter to control this behavior.\n",
      "  _warn_prf(average, modifier, msg_start, len(result))\n"
     ]
    },
    {
     "name": "stdout",
     "output_type": "stream",
     "text": [
      "              precision    recall  f1-score   support\n",
      "\n",
      "    disabled       0.00      0.00      0.00      1090\n",
      "     elderly       0.00      0.00      0.00      6261\n",
      "        kids       0.00      0.00      0.00       285\n",
      "      normal       0.87      1.00      0.93     69962\n",
      "        teen       0.00      0.00      0.00      2701\n",
      "\n",
      "    accuracy                           0.87     80299\n",
      "   macro avg       0.17      0.20      0.19     80299\n",
      "weighted avg       0.76      0.87      0.81     80299\n",
      "\n"
     ]
    },
    {
     "name": "stderr",
     "output_type": "stream",
     "text": [
      "C:\\dev\\Anaconda_3\\lib\\site-packages\\sklearn\\metrics\\_classification.py:1245: UndefinedMetricWarning: Precision and F-score are ill-defined and being set to 0.0 in labels with no predicted samples. Use `zero_division` parameter to control this behavior.\n",
      "  _warn_prf(average, modifier, msg_start, len(result))\n"
     ]
    }
   ],
   "source": [
    "y_pred = DT_PT_user.predict(X_test)\n",
    "\n",
    "print(confusion_matrix(y_test, y_pred))\n",
    "print(classification_report(y_test, y_pred))"
   ]
  },
  {
   "cell_type": "markdown",
   "id": "9e25cb3f",
   "metadata": {},
   "source": [
    "### Improve the model using random forest approach"
   ]
  },
  {
   "cell_type": "code",
   "execution_count": 35,
   "id": "7642afa4",
   "metadata": {
    "execution": {
     "iopub.execute_input": "2022-10-26T09:22:32.913015Z",
     "iopub.status.busy": "2022-10-26T09:22:32.913015Z",
     "iopub.status.idle": "2022-10-26T09:22:42.203169Z",
     "shell.execute_reply": "2022-10-26T09:22:42.202203Z",
     "shell.execute_reply.started": "2022-10-26T09:22:32.913015Z"
    },
    "tags": []
   },
   "outputs": [
    {
     "data": {
      "text/plain": [
       "RandomForestClassifier(n_estimators=50, n_jobs=2, random_state=1)"
      ]
     },
     "execution_count": 35,
     "metadata": {},
     "output_type": "execute_result"
    }
   ],
   "source": [
    "PT_user_forest = RandomForestClassifier(criterion = 'gini', n_estimators = 50, random_state = 1, n_jobs = 2)\n",
    "PT_user_forest.fit(X_train, y_train)"
   ]
  },
  {
   "cell_type": "code",
   "execution_count": 36,
   "id": "7ce68391",
   "metadata": {
    "execution": {
     "iopub.execute_input": "2022-10-26T09:22:42.204167Z",
     "iopub.status.busy": "2022-10-26T09:22:42.204167Z",
     "iopub.status.idle": "2022-10-26T09:22:44.724873Z",
     "shell.execute_reply": "2022-10-26T09:22:44.723864Z",
     "shell.execute_reply.started": "2022-10-26T09:22:42.204167Z"
    },
    "tags": []
   },
   "outputs": [
    {
     "name": "stdout",
     "output_type": "stream",
     "text": [
      "[[   23   130     0   921    16]\n",
      " [  111   938     8  5117    87]\n",
      " [    1    15     1   258    10]\n",
      " [  369  2825    54 65977   737]\n",
      " [   13   106     4  2529    49]]\n",
      "              precision    recall  f1-score   support\n",
      "\n",
      "    disabled       0.04      0.02      0.03      1090\n",
      "     elderly       0.23      0.15      0.18      6261\n",
      "        kids       0.01      0.00      0.01       285\n",
      "      normal       0.88      0.94      0.91     69962\n",
      "        teen       0.05      0.02      0.03      2701\n",
      "\n",
      "    accuracy                           0.83     80299\n",
      "   macro avg       0.25      0.23      0.23     80299\n",
      "weighted avg       0.79      0.83      0.81     80299\n",
      "\n"
     ]
    }
   ],
   "source": [
    "y_pred = PT_user_forest.predict(X_test)\n",
    "print(confusion_matrix(y_test, y_pred))\n",
    "print(classification_report(y_test, y_pred))"
   ]
  }
 ],
 "metadata": {
  "kernelspec": {
   "display_name": "Python 3",
   "language": "python",
   "name": "python3"
  },
  "language_info": {
   "codemirror_mode": {
    "name": "ipython",
    "version": 3
   },
   "file_extension": ".py",
   "mimetype": "text/x-python",
   "name": "python",
   "nbconvert_exporter": "python",
   "pygments_lexer": "ipython3",
   "version": "3.8.8"
  }
 },
 "nbformat": 4,
 "nbformat_minor": 5
}
