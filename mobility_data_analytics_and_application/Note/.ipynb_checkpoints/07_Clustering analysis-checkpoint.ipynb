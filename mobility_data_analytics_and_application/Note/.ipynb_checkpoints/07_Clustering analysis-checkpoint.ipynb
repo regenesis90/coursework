{
 "cells": [
  {
   "cell_type": "markdown",
   "id": "48a5527a",
   "metadata": {},
   "source": [
    "# Iris data"
   ]
  },
  {
   "cell_type": "code",
   "execution_count": 54,
   "id": "039f957d-e005-4d88-8dee-54a778c66c36",
   "metadata": {
    "execution": {
     "iopub.execute_input": "2022-11-09T09:14:23.043367Z",
     "iopub.status.busy": "2022-11-09T09:14:23.042370Z",
     "iopub.status.idle": "2022-11-09T09:14:23.059324Z",
     "shell.execute_reply": "2022-11-09T09:14:23.058326Z",
     "shell.execute_reply.started": "2022-11-09T09:14:23.043367Z"
    },
    "tags": []
   },
   "outputs": [],
   "source": [
    "import warnings\n",
    "from tqdm import tqdm"
   ]
  },
  {
   "cell_type": "markdown",
   "id": "2db707fa",
   "metadata": {},
   "source": [
    "### Data import"
   ]
  },
  {
   "cell_type": "code",
   "execution_count": 1,
   "id": "ead2ea48-17c1-46fe-bc7a-1af4c9e79c98",
   "metadata": {
    "execution": {
     "iopub.execute_input": "2022-11-09T08:21:44.390642Z",
     "iopub.status.busy": "2022-11-09T08:21:44.390642Z",
     "iopub.status.idle": "2022-11-09T08:21:44.398621Z",
     "shell.execute_reply": "2022-11-09T08:21:44.397624Z",
     "shell.execute_reply.started": "2022-11-09T08:21:44.390642Z"
    }
   },
   "outputs": [],
   "source": [
    "Iris_path = 'D:/OneDrive - 연세대학교 (Yonsei University)/Lectures/2022-2_모빌리티데이터분석및활용/dataset/Iris_dataset.csv'"
   ]
  },
  {
   "cell_type": "code",
   "execution_count": 2,
   "id": "b446b484",
   "metadata": {
    "execution": {
     "iopub.execute_input": "2022-11-09T08:21:44.399618Z",
     "iopub.status.busy": "2022-11-09T08:21:44.399618Z",
     "iopub.status.idle": "2022-11-09T08:21:44.976730Z",
     "shell.execute_reply": "2022-11-09T08:21:44.975762Z",
     "shell.execute_reply.started": "2022-11-09T08:21:44.399618Z"
    }
   },
   "outputs": [
    {
     "data": {
      "text/html": [
       "<div>\n",
       "<style scoped>\n",
       "    .dataframe tbody tr th:only-of-type {\n",
       "        vertical-align: middle;\n",
       "    }\n",
       "\n",
       "    .dataframe tbody tr th {\n",
       "        vertical-align: top;\n",
       "    }\n",
       "\n",
       "    .dataframe thead th {\n",
       "        text-align: right;\n",
       "    }\n",
       "</style>\n",
       "<table border=\"1\" class=\"dataframe\">\n",
       "  <thead>\n",
       "    <tr style=\"text-align: right;\">\n",
       "      <th></th>\n",
       "      <th>sepal.length</th>\n",
       "      <th>sepal.width</th>\n",
       "      <th>petal.length</th>\n",
       "      <th>petal.width</th>\n",
       "      <th>variety</th>\n",
       "    </tr>\n",
       "  </thead>\n",
       "  <tbody>\n",
       "    <tr>\n",
       "      <th>0</th>\n",
       "      <td>5.1</td>\n",
       "      <td>3.5</td>\n",
       "      <td>1.4</td>\n",
       "      <td>0.2</td>\n",
       "      <td>Setosa</td>\n",
       "    </tr>\n",
       "    <tr>\n",
       "      <th>1</th>\n",
       "      <td>4.9</td>\n",
       "      <td>3.0</td>\n",
       "      <td>1.4</td>\n",
       "      <td>0.2</td>\n",
       "      <td>Setosa</td>\n",
       "    </tr>\n",
       "    <tr>\n",
       "      <th>2</th>\n",
       "      <td>4.7</td>\n",
       "      <td>3.2</td>\n",
       "      <td>1.3</td>\n",
       "      <td>0.2</td>\n",
       "      <td>Setosa</td>\n",
       "    </tr>\n",
       "    <tr>\n",
       "      <th>3</th>\n",
       "      <td>4.6</td>\n",
       "      <td>3.1</td>\n",
       "      <td>1.5</td>\n",
       "      <td>0.2</td>\n",
       "      <td>Setosa</td>\n",
       "    </tr>\n",
       "    <tr>\n",
       "      <th>4</th>\n",
       "      <td>5.0</td>\n",
       "      <td>3.6</td>\n",
       "      <td>1.4</td>\n",
       "      <td>0.2</td>\n",
       "      <td>Setosa</td>\n",
       "    </tr>\n",
       "    <tr>\n",
       "      <th>...</th>\n",
       "      <td>...</td>\n",
       "      <td>...</td>\n",
       "      <td>...</td>\n",
       "      <td>...</td>\n",
       "      <td>...</td>\n",
       "    </tr>\n",
       "    <tr>\n",
       "      <th>145</th>\n",
       "      <td>6.7</td>\n",
       "      <td>3.0</td>\n",
       "      <td>5.2</td>\n",
       "      <td>2.3</td>\n",
       "      <td>Virginica</td>\n",
       "    </tr>\n",
       "    <tr>\n",
       "      <th>146</th>\n",
       "      <td>6.3</td>\n",
       "      <td>2.5</td>\n",
       "      <td>5.0</td>\n",
       "      <td>1.9</td>\n",
       "      <td>Virginica</td>\n",
       "    </tr>\n",
       "    <tr>\n",
       "      <th>147</th>\n",
       "      <td>6.5</td>\n",
       "      <td>3.0</td>\n",
       "      <td>5.2</td>\n",
       "      <td>2.0</td>\n",
       "      <td>Virginica</td>\n",
       "    </tr>\n",
       "    <tr>\n",
       "      <th>148</th>\n",
       "      <td>6.2</td>\n",
       "      <td>3.4</td>\n",
       "      <td>5.4</td>\n",
       "      <td>2.3</td>\n",
       "      <td>Virginica</td>\n",
       "    </tr>\n",
       "    <tr>\n",
       "      <th>149</th>\n",
       "      <td>5.9</td>\n",
       "      <td>3.0</td>\n",
       "      <td>5.1</td>\n",
       "      <td>1.8</td>\n",
       "      <td>Virginica</td>\n",
       "    </tr>\n",
       "  </tbody>\n",
       "</table>\n",
       "<p>150 rows × 5 columns</p>\n",
       "</div>"
      ],
      "text/plain": [
       "     sepal.length  sepal.width  petal.length  petal.width    variety\n",
       "0             5.1          3.5           1.4          0.2     Setosa\n",
       "1             4.9          3.0           1.4          0.2     Setosa\n",
       "2             4.7          3.2           1.3          0.2     Setosa\n",
       "3             4.6          3.1           1.5          0.2     Setosa\n",
       "4             5.0          3.6           1.4          0.2     Setosa\n",
       "..            ...          ...           ...          ...        ...\n",
       "145           6.7          3.0           5.2          2.3  Virginica\n",
       "146           6.3          2.5           5.0          1.9  Virginica\n",
       "147           6.5          3.0           5.2          2.0  Virginica\n",
       "148           6.2          3.4           5.4          2.3  Virginica\n",
       "149           5.9          3.0           5.1          1.8  Virginica\n",
       "\n",
       "[150 rows x 5 columns]"
      ]
     },
     "execution_count": 2,
     "metadata": {},
     "output_type": "execute_result"
    }
   ],
   "source": [
    "import pandas as pd\n",
    "Iris = pd.read_csv(Iris_path)\n",
    "Iris"
   ]
  },
  {
   "cell_type": "code",
   "execution_count": 3,
   "id": "afa62ff1",
   "metadata": {
    "execution": {
     "iopub.execute_input": "2022-11-09T08:21:44.977727Z",
     "iopub.status.busy": "2022-11-09T08:21:44.977727Z",
     "iopub.status.idle": "2022-11-09T08:21:44.992687Z",
     "shell.execute_reply": "2022-11-09T08:21:44.991691Z",
     "shell.execute_reply.started": "2022-11-09T08:21:44.977727Z"
    }
   },
   "outputs": [
    {
     "data": {
      "text/html": [
       "<div>\n",
       "<style scoped>\n",
       "    .dataframe tbody tr th:only-of-type {\n",
       "        vertical-align: middle;\n",
       "    }\n",
       "\n",
       "    .dataframe tbody tr th {\n",
       "        vertical-align: top;\n",
       "    }\n",
       "\n",
       "    .dataframe thead th {\n",
       "        text-align: right;\n",
       "    }\n",
       "</style>\n",
       "<table border=\"1\" class=\"dataframe\">\n",
       "  <thead>\n",
       "    <tr style=\"text-align: right;\">\n",
       "      <th></th>\n",
       "      <th>petal.length</th>\n",
       "      <th>petal.width</th>\n",
       "    </tr>\n",
       "  </thead>\n",
       "  <tbody>\n",
       "    <tr>\n",
       "      <th>0</th>\n",
       "      <td>1.4</td>\n",
       "      <td>0.2</td>\n",
       "    </tr>\n",
       "    <tr>\n",
       "      <th>1</th>\n",
       "      <td>1.4</td>\n",
       "      <td>0.2</td>\n",
       "    </tr>\n",
       "    <tr>\n",
       "      <th>2</th>\n",
       "      <td>1.3</td>\n",
       "      <td>0.2</td>\n",
       "    </tr>\n",
       "    <tr>\n",
       "      <th>3</th>\n",
       "      <td>1.5</td>\n",
       "      <td>0.2</td>\n",
       "    </tr>\n",
       "    <tr>\n",
       "      <th>4</th>\n",
       "      <td>1.4</td>\n",
       "      <td>0.2</td>\n",
       "    </tr>\n",
       "    <tr>\n",
       "      <th>...</th>\n",
       "      <td>...</td>\n",
       "      <td>...</td>\n",
       "    </tr>\n",
       "    <tr>\n",
       "      <th>145</th>\n",
       "      <td>5.2</td>\n",
       "      <td>2.3</td>\n",
       "    </tr>\n",
       "    <tr>\n",
       "      <th>146</th>\n",
       "      <td>5.0</td>\n",
       "      <td>1.9</td>\n",
       "    </tr>\n",
       "    <tr>\n",
       "      <th>147</th>\n",
       "      <td>5.2</td>\n",
       "      <td>2.0</td>\n",
       "    </tr>\n",
       "    <tr>\n",
       "      <th>148</th>\n",
       "      <td>5.4</td>\n",
       "      <td>2.3</td>\n",
       "    </tr>\n",
       "    <tr>\n",
       "      <th>149</th>\n",
       "      <td>5.1</td>\n",
       "      <td>1.8</td>\n",
       "    </tr>\n",
       "  </tbody>\n",
       "</table>\n",
       "<p>150 rows × 2 columns</p>\n",
       "</div>"
      ],
      "text/plain": [
       "     petal.length  petal.width\n",
       "0             1.4          0.2\n",
       "1             1.4          0.2\n",
       "2             1.3          0.2\n",
       "3             1.5          0.2\n",
       "4             1.4          0.2\n",
       "..            ...          ...\n",
       "145           5.2          2.3\n",
       "146           5.0          1.9\n",
       "147           5.2          2.0\n",
       "148           5.4          2.3\n",
       "149           5.1          1.8\n",
       "\n",
       "[150 rows x 2 columns]"
      ]
     },
     "execution_count": 3,
     "metadata": {},
     "output_type": "execute_result"
    }
   ],
   "source": [
    "# Generating unlabeled data\n",
    "X = Iris[['petal.length', 'petal.width']]\n",
    "X"
   ]
  },
  {
   "cell_type": "markdown",
   "id": "7be92125",
   "metadata": {},
   "source": [
    "### Plot data with respect to petal"
   ]
  },
  {
   "cell_type": "code",
   "execution_count": 4,
   "id": "3741d7f8",
   "metadata": {
    "execution": {
     "iopub.execute_input": "2022-11-09T08:21:44.993685Z",
     "iopub.status.busy": "2022-11-09T08:21:44.993685Z",
     "iopub.status.idle": "2022-11-09T08:21:46.064871Z",
     "shell.execute_reply": "2022-11-09T08:21:46.062863Z",
     "shell.execute_reply.started": "2022-11-09T08:21:44.993685Z"
    }
   },
   "outputs": [
    {
     "data": {
      "text/plain": [
       "<AxesSubplot:xlabel='petal.length', ylabel='petal.width'>"
      ]
     },
     "execution_count": 4,
     "metadata": {},
     "output_type": "execute_result"
    },
    {
     "data": {
      "image/png": "[encoded data removed]",
      "text/plain": [
       "<Figure size 432x288 with 1 Axes>"
      ]
     },
     "metadata": {
      "needs_background": "light"
     },
     "output_type": "display_data"
    }
   ],
   "source": [
    "X.plot.scatter(x = 'petal.length', y = 'petal.width')"
   ]
  },
  {
   "cell_type": "markdown",
   "id": "502517a2",
   "metadata": {},
   "source": [
    "### Clustering (K-means)\n",
    "- Number of cluster = 3"
   ]
  },
  {
   "cell_type": "code",
   "execution_count": 5,
   "id": "c519aa5e",
   "metadata": {
    "execution": {
     "iopub.execute_input": "2022-11-09T08:21:46.065857Z",
     "iopub.status.busy": "2022-11-09T08:21:46.065857Z",
     "iopub.status.idle": "2022-11-09T08:21:50.108988Z",
     "shell.execute_reply": "2022-11-09T08:21:50.106996Z",
     "shell.execute_reply.started": "2022-11-09T08:21:46.065857Z"
    }
   },
   "outputs": [
    {
     "data": {
      "text/plain": [
       "array([2, 2, 2, 2, 2, 2, 2, 2, 2, 2, 2, 2, 2, 2, 2, 2, 2, 2, 2, 2, 2, 2,\n",
       "       2, 2, 2, 2, 2, 2, 2, 2, 2, 2, 2, 2, 2, 2, 2, 2, 2, 2, 2, 2, 2, 2,\n",
       "       2, 2, 2, 2, 2, 2, 1, 1, 1, 1, 1, 1, 1, 1, 1, 1, 1, 1, 1, 1, 1, 1,\n",
       "       1, 1, 1, 1, 1, 1, 1, 1, 1, 1, 1, 0, 1, 1, 1, 1, 1, 0, 1, 1, 1, 1,\n",
       "       1, 1, 1, 1, 1, 1, 1, 1, 1, 1, 1, 1, 0, 0, 0, 0, 0, 0, 1, 0, 0, 0,\n",
       "       0, 0, 0, 0, 0, 0, 0, 0, 0, 1, 0, 0, 0, 0, 0, 0, 1, 0, 0, 0, 0, 0,\n",
       "       0, 0, 0, 0, 0, 0, 1, 0, 0, 0, 0, 0, 0, 0, 0, 0, 0, 0])"
      ]
     },
     "execution_count": 5,
     "metadata": {},
     "output_type": "execute_result"
    }
   ],
   "source": [
    "from sklearn.cluster import KMeans\n",
    "\n",
    "km = KMeans(n_clusters = 3,\n",
    "           init = 'random',\n",
    "           n_init = 10,\n",
    "           max_iter = 300,\n",
    "           tol = 1e-04,\n",
    "           random_state = 0)\n",
    "\n",
    "y_km = km.fit_predict(X)\n",
    "y_km"
   ]
  },
  {
   "cell_type": "code",
   "execution_count": 6,
   "id": "421ca471",
   "metadata": {
    "execution": {
     "iopub.execute_input": "2022-11-09T08:21:50.110982Z",
     "iopub.status.busy": "2022-11-09T08:21:50.109984Z",
     "iopub.status.idle": "2022-11-09T08:21:50.171848Z",
     "shell.execute_reply": "2022-11-09T08:21:50.168845Z",
     "shell.execute_reply.started": "2022-11-09T08:21:50.110982Z"
    }
   },
   "outputs": [
    {
     "data": {
      "text/html": [
       "<div>\n",
       "<style scoped>\n",
       "    .dataframe tbody tr th:only-of-type {\n",
       "        vertical-align: middle;\n",
       "    }\n",
       "\n",
       "    .dataframe tbody tr th {\n",
       "        vertical-align: top;\n",
       "    }\n",
       "\n",
       "    .dataframe thead th {\n",
       "        text-align: right;\n",
       "    }\n",
       "</style>\n",
       "<table border=\"1\" class=\"dataframe\">\n",
       "  <thead>\n",
       "    <tr style=\"text-align: right;\">\n",
       "      <th></th>\n",
       "      <th>sepal.length</th>\n",
       "      <th>sepal.width</th>\n",
       "      <th>petal.length</th>\n",
       "      <th>petal.width</th>\n",
       "      <th>variety</th>\n",
       "      <th>y_km</th>\n",
       "    </tr>\n",
       "  </thead>\n",
       "  <tbody>\n",
       "    <tr>\n",
       "      <th>0</th>\n",
       "      <td>5.1</td>\n",
       "      <td>3.5</td>\n",
       "      <td>1.4</td>\n",
       "      <td>0.2</td>\n",
       "      <td>Setosa</td>\n",
       "      <td>2</td>\n",
       "    </tr>\n",
       "    <tr>\n",
       "      <th>1</th>\n",
       "      <td>4.9</td>\n",
       "      <td>3.0</td>\n",
       "      <td>1.4</td>\n",
       "      <td>0.2</td>\n",
       "      <td>Setosa</td>\n",
       "      <td>2</td>\n",
       "    </tr>\n",
       "    <tr>\n",
       "      <th>2</th>\n",
       "      <td>4.7</td>\n",
       "      <td>3.2</td>\n",
       "      <td>1.3</td>\n",
       "      <td>0.2</td>\n",
       "      <td>Setosa</td>\n",
       "      <td>2</td>\n",
       "    </tr>\n",
       "    <tr>\n",
       "      <th>3</th>\n",
       "      <td>4.6</td>\n",
       "      <td>3.1</td>\n",
       "      <td>1.5</td>\n",
       "      <td>0.2</td>\n",
       "      <td>Setosa</td>\n",
       "      <td>2</td>\n",
       "    </tr>\n",
       "    <tr>\n",
       "      <th>4</th>\n",
       "      <td>5.0</td>\n",
       "      <td>3.6</td>\n",
       "      <td>1.4</td>\n",
       "      <td>0.2</td>\n",
       "      <td>Setosa</td>\n",
       "      <td>2</td>\n",
       "    </tr>\n",
       "    <tr>\n",
       "      <th>...</th>\n",
       "      <td>...</td>\n",
       "      <td>...</td>\n",
       "      <td>...</td>\n",
       "      <td>...</td>\n",
       "      <td>...</td>\n",
       "      <td>...</td>\n",
       "    </tr>\n",
       "    <tr>\n",
       "      <th>145</th>\n",
       "      <td>6.7</td>\n",
       "      <td>3.0</td>\n",
       "      <td>5.2</td>\n",
       "      <td>2.3</td>\n",
       "      <td>Virginica</td>\n",
       "      <td>0</td>\n",
       "    </tr>\n",
       "    <tr>\n",
       "      <th>146</th>\n",
       "      <td>6.3</td>\n",
       "      <td>2.5</td>\n",
       "      <td>5.0</td>\n",
       "      <td>1.9</td>\n",
       "      <td>Virginica</td>\n",
       "      <td>0</td>\n",
       "    </tr>\n",
       "    <tr>\n",
       "      <th>147</th>\n",
       "      <td>6.5</td>\n",
       "      <td>3.0</td>\n",
       "      <td>5.2</td>\n",
       "      <td>2.0</td>\n",
       "      <td>Virginica</td>\n",
       "      <td>0</td>\n",
       "    </tr>\n",
       "    <tr>\n",
       "      <th>148</th>\n",
       "      <td>6.2</td>\n",
       "      <td>3.4</td>\n",
       "      <td>5.4</td>\n",
       "      <td>2.3</td>\n",
       "      <td>Virginica</td>\n",
       "      <td>0</td>\n",
       "    </tr>\n",
       "    <tr>\n",
       "      <th>149</th>\n",
       "      <td>5.9</td>\n",
       "      <td>3.0</td>\n",
       "      <td>5.1</td>\n",
       "      <td>1.8</td>\n",
       "      <td>Virginica</td>\n",
       "      <td>0</td>\n",
       "    </tr>\n",
       "  </tbody>\n",
       "</table>\n",
       "<p>150 rows × 6 columns</p>\n",
       "</div>"
      ],
      "text/plain": [
       "     sepal.length  sepal.width  petal.length  petal.width    variety  y_km\n",
       "0             5.1          3.5           1.4          0.2     Setosa     2\n",
       "1             4.9          3.0           1.4          0.2     Setosa     2\n",
       "2             4.7          3.2           1.3          0.2     Setosa     2\n",
       "3             4.6          3.1           1.5          0.2     Setosa     2\n",
       "4             5.0          3.6           1.4          0.2     Setosa     2\n",
       "..            ...          ...           ...          ...        ...   ...\n",
       "145           6.7          3.0           5.2          2.3  Virginica     0\n",
       "146           6.3          2.5           5.0          1.9  Virginica     0\n",
       "147           6.5          3.0           5.2          2.0  Virginica     0\n",
       "148           6.2          3.4           5.4          2.3  Virginica     0\n",
       "149           5.9          3.0           5.1          1.8  Virginica     0\n",
       "\n",
       "[150 rows x 6 columns]"
      ]
     },
     "execution_count": 6,
     "metadata": {},
     "output_type": "execute_result"
    }
   ],
   "source": [
    "# Add the result(y_km) to Iris dstaset\n",
    "import numpy as np\n",
    "\n",
    "Iris['y_km'] = y_km.tolist()\n",
    "Iris"
   ]
  },
  {
   "cell_type": "code",
   "execution_count": 7,
   "id": "4e79ac69",
   "metadata": {
    "execution": {
     "iopub.execute_input": "2022-11-09T08:21:50.174827Z",
     "iopub.status.busy": "2022-11-09T08:21:50.173830Z",
     "iopub.status.idle": "2022-11-09T08:21:51.430416Z",
     "shell.execute_reply": "2022-11-09T08:21:51.429449Z",
     "shell.execute_reply.started": "2022-11-09T08:21:50.174827Z"
    }
   },
   "outputs": [
    {
     "data": {
      "text/plain": [
       "<AxesSubplot:xlabel='petal.length', ylabel='petal.width'>"
      ]
     },
     "execution_count": 7,
     "metadata": {},
     "output_type": "execute_result"
    },
    {
     "data": {
      "image/png": "[encoded data removed]",
      "text/plain": [
       "<Figure size 432x288 with 1 Axes>"
      ]
     },
     "metadata": {
      "needs_background": "light"
     },
     "output_type": "display_data"
    }
   ],
   "source": [
    "# Plot the results by the clusters\n",
    "import seaborn as sns\n",
    "sns.scatterplot(x = 'petal.length', y = 'petal.width', hue = 'y_km', style = 'y_km', s = 100, data = Iris)"
   ]
  },
  {
   "cell_type": "code",
   "execution_count": 8,
   "id": "ffca1caf",
   "metadata": {
    "execution": {
     "iopub.execute_input": "2022-11-09T08:21:51.431441Z",
     "iopub.status.busy": "2022-11-09T08:21:51.430416Z",
     "iopub.status.idle": "2022-11-09T08:21:51.663988Z",
     "shell.execute_reply": "2022-11-09T08:21:51.662954Z",
     "shell.execute_reply.started": "2022-11-09T08:21:51.431441Z"
    }
   },
   "outputs": [
    {
     "data": {
      "text/plain": [
       "<AxesSubplot:xlabel='petal.length', ylabel='petal.width'>"
      ]
     },
     "execution_count": 8,
     "metadata": {},
     "output_type": "execute_result"
    },
    {
     "data": {
      "image/png": "[encoded data removed]",
      "text/plain": [
       "<Figure size 432x288 with 1 Axes>"
      ]
     },
     "metadata": {
      "needs_background": "light"
     },
     "output_type": "display_data"
    }
   ],
   "source": [
    "# Comparision with the true data\n",
    "sns.scatterplot(x = 'petal.length', y = 'petal.width', hue = 'variety', style = 'variety', s = 100, data = Iris)"
   ]
  },
  {
   "cell_type": "markdown",
   "id": "7864a085",
   "metadata": {},
   "source": [
    "### Elbow method (K-means)"
   ]
  },
  {
   "cell_type": "code",
   "execution_count": 9,
   "id": "b4e0fa29",
   "metadata": {
    "execution": {
     "iopub.execute_input": "2022-11-09T08:21:51.665974Z",
     "iopub.status.busy": "2022-11-09T08:21:51.664976Z",
     "iopub.status.idle": "2022-11-09T08:21:51.678943Z",
     "shell.execute_reply": "2022-11-09T08:21:51.677970Z",
     "shell.execute_reply.started": "2022-11-09T08:21:51.665974Z"
    }
   },
   "outputs": [
    {
     "name": "stdout",
     "output_type": "stream",
     "text": [
      "31.371358974358966\n"
     ]
    }
   ],
   "source": [
    "# Reporting SSE\n",
    "print(km.inertia_)"
   ]
  },
  {
   "cell_type": "code",
   "execution_count": 51,
   "id": "9164582f",
   "metadata": {
    "execution": {
     "iopub.execute_input": "2022-11-09T08:44:40.212180Z",
     "iopub.status.busy": "2022-11-09T08:44:40.212180Z",
     "iopub.status.idle": "2022-11-09T08:44:40.689880Z",
     "shell.execute_reply": "2022-11-09T08:44:40.688912Z",
     "shell.execute_reply.started": "2022-11-09T08:44:40.212180Z"
    },
    "tags": []
   },
   "outputs": [
    {
     "data": {
      "text/plain": [
       "[152840.0778704412,\n",
       " 64391.15039586971,\n",
       " 36164.742698778144,\n",
       " 28638.249226939333,\n",
       " 22083.718488072853,\n",
       " 17943.239460241188,\n",
       " 15050.72438526969,\n",
       " 11671.553808787936,\n",
       " 10367.094728076552,\n",
       " 8891.105326072862]"
      ]
     },
     "execution_count": 51,
     "metadata": {},
     "output_type": "execute_result"
    }
   ],
   "source": [
    "warnings.filterwarnings(action = 'ignore')\n",
    "\n",
    "# Evaluating SSEs by increasing the number of clusters\n",
    "distortions = []\n",
    "\n",
    "for i in range(1,11):\n",
    "    \n",
    "    km = KMeans(n_clusters = i,\n",
    "               init='random',\n",
    "               n_init = 10,\n",
    "               max_iter = 300,\n",
    "               random_state = 0)\n",
    "    km.fit(X)\n",
    "    \n",
    "    distortions.append(km.inertia_)\n",
    "\n",
    "distortions"
   ]
  },
  {
   "cell_type": "code",
   "execution_count": 11,
   "id": "31c2b2c4",
   "metadata": {
    "execution": {
     "iopub.execute_input": "2022-11-09T08:21:52.551446Z",
     "iopub.status.busy": "2022-11-09T08:21:52.550450Z",
     "iopub.status.idle": "2022-11-09T08:21:52.832294Z",
     "shell.execute_reply": "2022-11-09T08:21:52.830303Z",
     "shell.execute_reply.started": "2022-11-09T08:21:52.551446Z"
    }
   },
   "outputs": [
    {
     "data": {
      "text/plain": [
       "[<matplotlib.lines.Line2D at 0x20c27137a00>]"
      ]
     },
     "execution_count": 11,
     "metadata": {},
     "output_type": "execute_result"
    },
    {
     "data": {
      "image/png": "[encoded data removed]",
      "text/plain": [
       "<Figure size 432x288 with 1 Axes>"
      ]
     },
     "metadata": {
      "needs_background": "light"
     },
     "output_type": "display_data"
    }
   ],
   "source": [
    "# Ploting the SSEs\n",
    "import matplotlib.pyplot as plt\n",
    "plt.plot(range(1, 11), distortions, marker = 'o')"
   ]
  },
  {
   "cell_type": "markdown",
   "id": "b524c51e",
   "metadata": {},
   "source": [
    "### Silhouette analysis (K-means)"
   ]
  },
  {
   "cell_type": "markdown",
   "id": "daf2d19c",
   "metadata": {},
   "source": [
    "- k=2"
   ]
  },
  {
   "cell_type": "code",
   "execution_count": 12,
   "id": "267edbf6",
   "metadata": {
    "execution": {
     "iopub.execute_input": "2022-11-09T08:21:52.834292Z",
     "iopub.status.busy": "2022-11-09T08:21:52.834292Z",
     "iopub.status.idle": "2022-11-09T08:21:53.247296Z",
     "shell.execute_reply": "2022-11-09T08:21:53.246298Z",
     "shell.execute_reply.started": "2022-11-09T08:21:52.834292Z"
    }
   },
   "outputs": [
    {
     "data": {
      "image/png": "[encoded data removed]",
      "text/plain": [
       "<Figure size 432x288 with 1 Axes>"
      ]
     },
     "metadata": {
      "needs_background": "light"
     },
     "output_type": "display_data"
    }
   ],
   "source": [
    "# Clustering\n",
    "km = KMeans(n_clusters = 2,\n",
    "           init = 'random',\n",
    "           n_init = 10,\n",
    "           max_iter = 300,\n",
    "           tol = 1e-04,\n",
    "           random_state = 0)\n",
    "\n",
    "y_km = km.fit_predict(X)\n",
    "\n",
    "# Evaluating silhouette coefficients\n",
    "from sklearn.metrics import silhouette_samples\n",
    "\n",
    "silhouette_vals = silhouette_samples(X, y_km, metric = 'euclidean')\n",
    "\n",
    "# Ploting\n",
    "from matplotlib import cm\n",
    "\n",
    "cluster_labels = np.unique(y_km)\n",
    "n_clusters = cluster_labels.shape[0]\n",
    "y_ax_lower, y_ax_upper = 0, 0\n",
    "yticks = []\n",
    "\n",
    "for i,c in enumerate(cluster_labels):\n",
    "    c_silhouette_vals = silhouette_vals[y_km == c]\n",
    "    c_silhouette_vals.sort()\n",
    "    y_ax_upper += len(c_silhouette_vals)\n",
    "    color = cm.jet(float(i)/n_clusters)\n",
    "    \n",
    "    plt.barh(range(y_ax_lower, y_ax_upper),\n",
    "             c_silhouette_vals,\n",
    "             height = 1.0,\n",
    "             edgecolor = 'none',\n",
    "             color = color)\n",
    "    \n",
    "    yticks.append((y_ax_lower + y_ax_upper)/2.)\n",
    "    y_ax_lower += len(c_silhouette_vals)\n",
    "\n",
    "# Ploting average of silhouette coefficients\n",
    "silhouette_avg = np.mean(silhouette_vals)\n",
    "plt.axvline(silhouette_avg,\n",
    "           color = \"red\",\n",
    "           linestyle = \"--\")\n",
    "\n",
    "# Layout\n",
    "plt.yticks(yticks, cluster_labels+1)\n",
    "plt.ylabel('Cluster')\n",
    "plt.xlabel('Silhouette coefficient')\n",
    "plt.tight_layout()\n",
    "plt.show()"
   ]
  },
  {
   "cell_type": "markdown",
   "id": "cb396bf0",
   "metadata": {},
   "source": [
    "- K = 3"
   ]
  },
  {
   "cell_type": "code",
   "execution_count": 13,
   "id": "44bd1fea",
   "metadata": {
    "execution": {
     "iopub.execute_input": "2022-11-09T08:21:53.251291Z",
     "iopub.status.busy": "2022-11-09T08:21:53.250292Z",
     "iopub.status.idle": "2022-11-09T08:21:53.833911Z",
     "shell.execute_reply": "2022-11-09T08:21:53.831923Z",
     "shell.execute_reply.started": "2022-11-09T08:21:53.251291Z"
    }
   },
   "outputs": [
    {
     "data": {
      "image/png": "[encoded data removed]",
      "text/plain": [
       "<Figure size 432x288 with 1 Axes>"
      ]
     },
     "metadata": {
      "needs_background": "light"
     },
     "output_type": "display_data"
    }
   ],
   "source": [
    "# Clustering\n",
    "km = KMeans(n_clusters = 3,\n",
    "           init = 'random',\n",
    "           n_init = 10,\n",
    "           max_iter = 300,\n",
    "           tol = 1e-04,\n",
    "           random_state = 0)\n",
    "\n",
    "y_km = km.fit_predict(X)\n",
    "\n",
    "# Evaluating silhouette coefficients\n",
    "from sklearn.metrics import silhouette_samples\n",
    "silhouette_vals=silhouette_samples(X,y_km,metric='euclidean')\n",
    "\n",
    "# Ploting\n",
    "from matplotlib import cm\n",
    "cluster_labels = np.unique(y_km)\n",
    "n_clusters = cluster_labels.shape[0]\n",
    "y_ax_lower, y_ax_upper = 0, 0\n",
    "yticks = []\n",
    "for i,c in enumerate(cluster_labels):\n",
    "    c_silhouette_vals = silhouette_vals[y_km == c]\n",
    "    c_silhouette_vals.sort()\n",
    "    y_ax_upper += len(c_silhouette_vals)\n",
    "    color = cm.jet(float(i)/n_clusters)\n",
    "    plt.barh(range(y_ax_lower, y_ax_upper),\n",
    "             c_silhouette_vals,\n",
    "             height=1.0,\n",
    "             edgecolor='none',\n",
    "             color=color)\n",
    "    yticks.append((y_ax_lower+y_ax_upper)/2.)\n",
    "    y_ax_lower += len(c_silhouette_vals)\n",
    "\n",
    "# Ploting average of silhouette coefficients\n",
    "silhouette_avg = np.mean(silhouette_vals)\n",
    "plt.axvline(silhouette_avg,\n",
    "           color=\"red\",\n",
    "           linestyle=\"--\")\n",
    "\n",
    "# Layout\n",
    "plt.yticks(yticks, cluster_labels+1)\n",
    "plt.ylabel('Cluster')\n",
    "plt.xlabel('Silhouette coefficient')\n",
    "plt.tight_layout()\n",
    "plt.show() # 3개 클러스터가 2개, 4개일 때보다는 상대적으로 낫다(절대적으로는 좀...아닌것같긴한데...)"
   ]
  },
  {
   "cell_type": "code",
   "execution_count": 14,
   "id": "559681f3",
   "metadata": {
    "execution": {
     "iopub.execute_input": "2022-11-09T08:21:53.835909Z",
     "iopub.status.busy": "2022-11-09T08:21:53.834907Z",
     "iopub.status.idle": "2022-11-09T08:21:54.483469Z",
     "shell.execute_reply": "2022-11-09T08:21:54.482473Z",
     "shell.execute_reply.started": "2022-11-09T08:21:53.834907Z"
    }
   },
   "outputs": [
    {
     "data": {
      "image/png": "[encoded data removed]",
      "text/plain": [
       "<Figure size 432x288 with 1 Axes>"
      ]
     },
     "metadata": {
      "needs_background": "light"
     },
     "output_type": "display_data"
    }
   ],
   "source": [
    "# Clustering\n",
    "km = KMeans(n_clusters=4,\n",
    "           init='random',\n",
    "           n_init=10,\n",
    "           max_iter=300,\n",
    "           tol=1e-04,\n",
    "           random_state=0)\n",
    "y_km=km.fit_predict(X)\n",
    "\n",
    "# Evaluating silhouette coefficients\n",
    "from sklearn.metrics import silhouette_samples\n",
    "\n",
    "silhouette_vals=silhouette_samples(X,y_km,metric='euclidean')\n",
    "\n",
    "# Ploting\n",
    "from matplotlib import cm\n",
    "\n",
    "cluster_labels = np.unique(y_km)\n",
    "n_clusters = cluster_labels.shape[0]\n",
    "y_ax_lower, y_ax_upper = 0, 0\n",
    "yticks = []\n",
    "\n",
    "for i,c in enumerate(cluster_labels):\n",
    "    c_silhouette_vals = silhouette_vals[y_km == c]\n",
    "    c_silhouette_vals.sort()\n",
    "    y_ax_upper += len(c_silhouette_vals)\n",
    "    color = cm.jet(float(i)/n_clusters)\n",
    "    plt.barh(range(y_ax_lower, y_ax_upper),\n",
    "             c_silhouette_vals,\n",
    "             height=1.0,\n",
    "             edgecolor='none',\n",
    "             color=color)\n",
    "    yticks.append((y_ax_lower+y_ax_upper)/2.)\n",
    "    y_ax_lower += len(c_silhouette_vals)\n",
    "\n",
    "# Ploting average of silhouette coefficients\n",
    "silhouette_avg = np.mean(silhouette_vals)\n",
    "plt.axvline(silhouette_avg,\n",
    "           color=\"red\",\n",
    "           linestyle=\"--\")\n",
    "\n",
    "# Layout\n",
    "plt.yticks(yticks, cluster_labels+1)\n",
    "plt.ylabel('Cluster')\n",
    "plt.xlabel('Silhouette coefficient')\n",
    "plt.tight_layout()\n",
    "plt.show()"
   ]
  },
  {
   "cell_type": "markdown",
   "id": "35df5928",
   "metadata": {},
   "source": [
    "### Clustering (DBSCAN)"
   ]
  },
  {
   "cell_type": "code",
   "execution_count": 15,
   "id": "7c848f9a",
   "metadata": {
    "execution": {
     "iopub.execute_input": "2022-11-09T08:21:54.485476Z",
     "iopub.status.busy": "2022-11-09T08:21:54.485476Z",
     "iopub.status.idle": "2022-11-09T08:21:54.513933Z",
     "shell.execute_reply": "2022-11-09T08:21:54.512935Z",
     "shell.execute_reply.started": "2022-11-09T08:21:54.485476Z"
    }
   },
   "outputs": [
    {
     "data": {
      "text/plain": [
       "array([ 0,  0,  0,  0,  0,  0,  0,  0,  0,  0,  0,  0,  0,  0,  0,  0,  0,\n",
       "        0,  0,  0,  0,  0,  0,  0,  0,  0,  0,  0,  0,  0,  0,  0,  0,  0,\n",
       "        0,  0,  0,  0,  0,  0,  0,  0,  0,  0,  0,  0,  0,  0,  0,  0,  1,\n",
       "        1,  1,  1,  1,  1,  1, -1,  1,  1, -1,  1,  1,  1, -1,  1,  1,  1,\n",
       "        1,  1,  1,  1,  1,  1,  1,  1,  1,  1,  1, -1,  1,  1,  1,  1,  1,\n",
       "        1,  1,  1,  1,  1,  1,  1,  1, -1,  1,  1,  1,  1, -1,  1, -1,  1,\n",
       "        2, -1,  2, -1,  1, -1, -1, -1,  1,  1,  2,  1,  3,  3, -1, -1, -1,\n",
       "        1,  2,  1, -1,  1,  2, -1,  1,  1,  2, -1, -1, -1,  2,  1, -1,  2,\n",
       "        2, -1,  1,  2,  2,  3,  1,  2,  2,  3,  1,  1,  2,  1],\n",
       "      dtype=int64)"
      ]
     },
     "execution_count": 15,
     "metadata": {},
     "output_type": "execute_result"
    }
   ],
   "source": [
    "from sklearn.cluster import DBSCAN\n",
    "\n",
    "db = DBSCAN(eps = 0.2, min_samples = 4, metric = 'euclidean')\n",
    "\n",
    "y_db_02_4 = db.fit_predict(X)\n",
    "y_db_02_4 # 디비스캔에서 -1은 노이즈를 의미함."
   ]
  },
  {
   "cell_type": "code",
   "execution_count": 16,
   "id": "52c48dac",
   "metadata": {
    "execution": {
     "iopub.execute_input": "2022-11-09T08:21:54.516927Z",
     "iopub.status.busy": "2022-11-09T08:21:54.515932Z",
     "iopub.status.idle": "2022-11-09T08:21:54.566820Z",
     "shell.execute_reply": "2022-11-09T08:21:54.560821Z",
     "shell.execute_reply.started": "2022-11-09T08:21:54.516927Z"
    }
   },
   "outputs": [
    {
     "data": {
      "text/html": [
       "<div>\n",
       "<style scoped>\n",
       "    .dataframe tbody tr th:only-of-type {\n",
       "        vertical-align: middle;\n",
       "    }\n",
       "\n",
       "    .dataframe tbody tr th {\n",
       "        vertical-align: top;\n",
       "    }\n",
       "\n",
       "    .dataframe thead th {\n",
       "        text-align: right;\n",
       "    }\n",
       "</style>\n",
       "<table border=\"1\" class=\"dataframe\">\n",
       "  <thead>\n",
       "    <tr style=\"text-align: right;\">\n",
       "      <th></th>\n",
       "      <th>sepal.length</th>\n",
       "      <th>sepal.width</th>\n",
       "      <th>petal.length</th>\n",
       "      <th>petal.width</th>\n",
       "      <th>variety</th>\n",
       "      <th>y_km</th>\n",
       "      <th>y_db_02_4</th>\n",
       "    </tr>\n",
       "  </thead>\n",
       "  <tbody>\n",
       "    <tr>\n",
       "      <th>0</th>\n",
       "      <td>5.1</td>\n",
       "      <td>3.5</td>\n",
       "      <td>1.4</td>\n",
       "      <td>0.2</td>\n",
       "      <td>Setosa</td>\n",
       "      <td>2</td>\n",
       "      <td>0</td>\n",
       "    </tr>\n",
       "    <tr>\n",
       "      <th>1</th>\n",
       "      <td>4.9</td>\n",
       "      <td>3.0</td>\n",
       "      <td>1.4</td>\n",
       "      <td>0.2</td>\n",
       "      <td>Setosa</td>\n",
       "      <td>2</td>\n",
       "      <td>0</td>\n",
       "    </tr>\n",
       "    <tr>\n",
       "      <th>2</th>\n",
       "      <td>4.7</td>\n",
       "      <td>3.2</td>\n",
       "      <td>1.3</td>\n",
       "      <td>0.2</td>\n",
       "      <td>Setosa</td>\n",
       "      <td>2</td>\n",
       "      <td>0</td>\n",
       "    </tr>\n",
       "    <tr>\n",
       "      <th>3</th>\n",
       "      <td>4.6</td>\n",
       "      <td>3.1</td>\n",
       "      <td>1.5</td>\n",
       "      <td>0.2</td>\n",
       "      <td>Setosa</td>\n",
       "      <td>2</td>\n",
       "      <td>0</td>\n",
       "    </tr>\n",
       "    <tr>\n",
       "      <th>4</th>\n",
       "      <td>5.0</td>\n",
       "      <td>3.6</td>\n",
       "      <td>1.4</td>\n",
       "      <td>0.2</td>\n",
       "      <td>Setosa</td>\n",
       "      <td>2</td>\n",
       "      <td>0</td>\n",
       "    </tr>\n",
       "    <tr>\n",
       "      <th>...</th>\n",
       "      <td>...</td>\n",
       "      <td>...</td>\n",
       "      <td>...</td>\n",
       "      <td>...</td>\n",
       "      <td>...</td>\n",
       "      <td>...</td>\n",
       "      <td>...</td>\n",
       "    </tr>\n",
       "    <tr>\n",
       "      <th>145</th>\n",
       "      <td>6.7</td>\n",
       "      <td>3.0</td>\n",
       "      <td>5.2</td>\n",
       "      <td>2.3</td>\n",
       "      <td>Virginica</td>\n",
       "      <td>0</td>\n",
       "      <td>3</td>\n",
       "    </tr>\n",
       "    <tr>\n",
       "      <th>146</th>\n",
       "      <td>6.3</td>\n",
       "      <td>2.5</td>\n",
       "      <td>5.0</td>\n",
       "      <td>1.9</td>\n",
       "      <td>Virginica</td>\n",
       "      <td>0</td>\n",
       "      <td>1</td>\n",
       "    </tr>\n",
       "    <tr>\n",
       "      <th>147</th>\n",
       "      <td>6.5</td>\n",
       "      <td>3.0</td>\n",
       "      <td>5.2</td>\n",
       "      <td>2.0</td>\n",
       "      <td>Virginica</td>\n",
       "      <td>0</td>\n",
       "      <td>1</td>\n",
       "    </tr>\n",
       "    <tr>\n",
       "      <th>148</th>\n",
       "      <td>6.2</td>\n",
       "      <td>3.4</td>\n",
       "      <td>5.4</td>\n",
       "      <td>2.3</td>\n",
       "      <td>Virginica</td>\n",
       "      <td>0</td>\n",
       "      <td>2</td>\n",
       "    </tr>\n",
       "    <tr>\n",
       "      <th>149</th>\n",
       "      <td>5.9</td>\n",
       "      <td>3.0</td>\n",
       "      <td>5.1</td>\n",
       "      <td>1.8</td>\n",
       "      <td>Virginica</td>\n",
       "      <td>0</td>\n",
       "      <td>1</td>\n",
       "    </tr>\n",
       "  </tbody>\n",
       "</table>\n",
       "<p>150 rows × 7 columns</p>\n",
       "</div>"
      ],
      "text/plain": [
       "     sepal.length  sepal.width  petal.length  petal.width    variety  y_km  \\\n",
       "0             5.1          3.5           1.4          0.2     Setosa     2   \n",
       "1             4.9          3.0           1.4          0.2     Setosa     2   \n",
       "2             4.7          3.2           1.3          0.2     Setosa     2   \n",
       "3             4.6          3.1           1.5          0.2     Setosa     2   \n",
       "4             5.0          3.6           1.4          0.2     Setosa     2   \n",
       "..            ...          ...           ...          ...        ...   ...   \n",
       "145           6.7          3.0           5.2          2.3  Virginica     0   \n",
       "146           6.3          2.5           5.0          1.9  Virginica     0   \n",
       "147           6.5          3.0           5.2          2.0  Virginica     0   \n",
       "148           6.2          3.4           5.4          2.3  Virginica     0   \n",
       "149           5.9          3.0           5.1          1.8  Virginica     0   \n",
       "\n",
       "     y_db_02_4  \n",
       "0            0  \n",
       "1            0  \n",
       "2            0  \n",
       "3            0  \n",
       "4            0  \n",
       "..         ...  \n",
       "145          3  \n",
       "146          1  \n",
       "147          1  \n",
       "148          2  \n",
       "149          1  \n",
       "\n",
       "[150 rows x 7 columns]"
      ]
     },
     "execution_count": 16,
     "metadata": {},
     "output_type": "execute_result"
    }
   ],
   "source": [
    "# Add the result(y_km) to Iris dstaset\n",
    "Iris['y_db_02_4'] = y_db_02_4.tolist()\n",
    "Iris"
   ]
  },
  {
   "cell_type": "code",
   "execution_count": 17,
   "id": "0b4b2034",
   "metadata": {
    "execution": {
     "iopub.execute_input": "2022-11-09T08:21:54.570783Z",
     "iopub.status.busy": "2022-11-09T08:21:54.569797Z",
     "iopub.status.idle": "2022-11-09T08:21:55.292604Z",
     "shell.execute_reply": "2022-11-09T08:21:55.289614Z",
     "shell.execute_reply.started": "2022-11-09T08:21:54.570783Z"
    }
   },
   "outputs": [
    {
     "data": {
      "text/plain": [
       "<AxesSubplot:xlabel='petal.length', ylabel='petal.width'>"
      ]
     },
     "execution_count": 17,
     "metadata": {},
     "output_type": "execute_result"
    },
    {
     "data": {
      "image/png": "[encoded data removed]",
      "text/plain": [
       "<Figure size 432x288 with 1 Axes>"
      ]
     },
     "metadata": {
      "needs_background": "light"
     },
     "output_type": "display_data"
    }
   ],
   "source": [
    "# Plot the results by the clusters\n",
    "sns.scatterplot(x = 'petal.length', y = 'petal.width', hue = 'y_db_02_4', style = 'y_db_02_4', s = 100, data = Iris)"
   ]
  },
  {
   "cell_type": "code",
   "execution_count": 18,
   "id": "d3eaef87",
   "metadata": {
    "execution": {
     "iopub.execute_input": "2022-11-09T08:21:55.296110Z",
     "iopub.status.busy": "2022-11-09T08:21:55.295595Z",
     "iopub.status.idle": "2022-11-09T08:21:55.324042Z",
     "shell.execute_reply": "2022-11-09T08:21:55.320055Z",
     "shell.execute_reply.started": "2022-11-09T08:21:55.296110Z"
    }
   },
   "outputs": [
    {
     "data": {
      "text/plain": [
       "array([0, 0, 0, 0, 0, 0, 0, 0, 0, 0, 0, 0, 0, 0, 0, 0, 0, 0, 0, 0, 0, 0,\n",
       "       0, 0, 0, 0, 0, 0, 0, 0, 0, 0, 0, 0, 0, 0, 0, 0, 0, 0, 0, 0, 0, 0,\n",
       "       0, 0, 0, 0, 0, 0, 1, 1, 1, 1, 1, 1, 1, 1, 1, 1, 1, 1, 1, 1, 1, 1,\n",
       "       1, 1, 1, 1, 1, 1, 1, 1, 1, 1, 1, 1, 1, 1, 1, 1, 1, 1, 1, 1, 1, 1,\n",
       "       1, 1, 1, 1, 1, 1, 1, 1, 1, 1, 1, 1, 1, 1, 1, 1, 1, 1, 1, 1, 1, 1,\n",
       "       1, 1, 1, 1, 1, 1, 1, 1, 1, 1, 1, 1, 1, 1, 1, 1, 1, 1, 1, 1, 1, 1,\n",
       "       1, 1, 1, 1, 1, 1, 1, 1, 1, 1, 1, 1, 1, 1, 1, 1, 1, 1], dtype=int64)"
      ]
     },
     "execution_count": 18,
     "metadata": {},
     "output_type": "execute_result"
    }
   ],
   "source": [
    "db = DBSCAN(eps = 0.5, min_samples = 4, metric = 'euclidean')\n",
    "y_db_05_4 = db.fit_predict(X)\n",
    "y_db_05_4 ## DB스캔에서 -1은 노이즈를 의미한다."
   ]
  },
  {
   "cell_type": "code",
   "execution_count": 19,
   "id": "d8b9f3b1",
   "metadata": {
    "execution": {
     "iopub.execute_input": "2022-11-09T08:21:55.326033Z",
     "iopub.status.busy": "2022-11-09T08:21:55.326033Z",
     "iopub.status.idle": "2022-11-09T08:21:55.940564Z",
     "shell.execute_reply": "2022-11-09T08:21:55.938590Z",
     "shell.execute_reply.started": "2022-11-09T08:21:55.326033Z"
    }
   },
   "outputs": [
    {
     "data": {
      "text/plain": [
       "<AxesSubplot:xlabel='petal.length', ylabel='petal.width'>"
      ]
     },
     "execution_count": 19,
     "metadata": {},
     "output_type": "execute_result"
    },
    {
     "data": {
      "image/png": "[encoded data removed]",
      "text/plain": [
       "<Figure size 432x288 with 1 Axes>"
      ]
     },
     "metadata": {
      "needs_background": "light"
     },
     "output_type": "display_data"
    }
   ],
   "source": [
    "# Add the result(y_km) to Iris dstaset\n",
    "Iris['y_db_05_4'] = y_db_05_4.tolist()\n",
    "sns.scatterplot(x = 'petal.length', y = 'petal.width', hue = 'y_db_05_4', style = 'y_db_05_4', s = 100, data = Iris)"
   ]
  },
  {
   "cell_type": "code",
   "execution_count": 20,
   "id": "88b245fd",
   "metadata": {
    "execution": {
     "iopub.execute_input": "2022-11-09T08:21:55.941561Z",
     "iopub.status.busy": "2022-11-09T08:21:55.941561Z",
     "iopub.status.idle": "2022-11-09T08:21:56.602243Z",
     "shell.execute_reply": "2022-11-09T08:21:56.597741Z",
     "shell.execute_reply.started": "2022-11-09T08:21:55.941561Z"
    }
   },
   "outputs": [
    {
     "data": {
      "text/plain": [
       "<AxesSubplot:xlabel='petal.length', ylabel='petal.width'>"
      ]
     },
     "execution_count": 20,
     "metadata": {},
     "output_type": "execute_result"
    },
    {
     "data": {
      "image/png": "[encoded data removed]",
      "text/plain": [
       "<Figure size 432x288 with 1 Axes>"
      ]
     },
     "metadata": {
      "needs_background": "light"
     },
     "output_type": "display_data"
    }
   ],
   "source": [
    "db = DBSCAN(eps = 0.3, min_samples = 4, metric = 'euclidean')\n",
    "y_db_03_4 = db.fit_predict(X)\n",
    "Iris['y_db_03_4'] = y_db_03_4.tolist()\n",
    "sns.scatterplot(x = 'petal.length', y = 'petal.width', hue = 'y_db_03_4', style = 'y_db_03_4', s = 100, data = Iris)"
   ]
  },
  {
   "cell_type": "code",
   "execution_count": 21,
   "id": "2e93d47f",
   "metadata": {
    "execution": {
     "iopub.execute_input": "2022-11-09T08:21:56.607237Z",
     "iopub.status.busy": "2022-11-09T08:21:56.606234Z",
     "iopub.status.idle": "2022-11-09T08:21:57.354361Z",
     "shell.execute_reply": "2022-11-09T08:21:57.353365Z",
     "shell.execute_reply.started": "2022-11-09T08:21:56.607237Z"
    }
   },
   "outputs": [
    {
     "data": {
      "text/plain": [
       "[<matplotlib.lines.Line2D at 0x20c2b78e2e0>]"
      ]
     },
     "execution_count": 21,
     "metadata": {},
     "output_type": "execute_result"
    },
    {
     "data": {
      "image/png": "[encoded data removed]",
      "text/plain": [
       "<Figure size 432x288 with 1 Axes>"
      ]
     },
     "metadata": {
      "needs_background": "light"
     },
     "output_type": "display_data"
    }
   ],
   "source": [
    "# k-nearest neighbor (k-distance plot)\n",
    "from sklearn.neighbors import NearestNeighbors\n",
    "from matplotlib import pyplot as plt\n",
    "\n",
    "neighbors = NearestNeighbors(n_neighbors = 4)\n",
    "neighbors_fit = neighbors.fit(X)\n",
    "distances, indices = neighbors_fit.kneighbors(X)\n",
    "distances = np.sort(distances, axis = 0)\n",
    "distances = distances[:,1]\n",
    "plt.plot(distances)"
   ]
  },
  {
   "cell_type": "code",
   "execution_count": 22,
   "id": "fa341842",
   "metadata": {
    "execution": {
     "iopub.execute_input": "2022-11-09T08:21:57.356370Z",
     "iopub.status.busy": "2022-11-09T08:21:57.355357Z",
     "iopub.status.idle": "2022-11-09T08:21:57.961397Z",
     "shell.execute_reply": "2022-11-09T08:21:57.960394Z",
     "shell.execute_reply.started": "2022-11-09T08:21:57.356370Z"
    }
   },
   "outputs": [
    {
     "data": {
      "text/plain": [
       "<AxesSubplot:xlabel='petal.length', ylabel='petal.width'>"
      ]
     },
     "execution_count": 22,
     "metadata": {},
     "output_type": "execute_result"
    },
    {
     "data": {
      "image/png": "[encoded data removed]",
      "text/plain": [
       "<Figure size 432x288 with 1 Axes>"
      ]
     },
     "metadata": {
      "needs_background": "light"
     },
     "output_type": "display_data"
    }
   ],
   "source": [
    "db = DBSCAN(eps = 0.15, min_samples = 4, metric = 'euclidean')\n",
    "y_db_015_4 = db.fit_predict(X)\n",
    "Iris['y_db_015_4'] = y_db_015_4.tolist()\n",
    "sns.scatterplot(x = 'petal.length', y = 'petal.width', hue = 'y_db_015_4', style = 'y_db_015_4', s = 100, data = Iris)\n",
    "\n",
    "# DBSCAN은 이 데이터에는 별로 좋지 않다. 따라서 다른 방법을 써야 한다."
   ]
  },
  {
   "cell_type": "markdown",
   "id": "c1e1fe63",
   "metadata": {},
   "source": [
    "# An Example (Half-Moon Shaped)"
   ]
  },
  {
   "cell_type": "code",
   "execution_count": 23,
   "id": "22f2eadc",
   "metadata": {
    "execution": {
     "iopub.execute_input": "2022-11-09T08:21:57.961397Z",
     "iopub.status.busy": "2022-11-09T08:21:57.961397Z",
     "iopub.status.idle": "2022-11-09T08:21:58.725991Z",
     "shell.execute_reply": "2022-11-09T08:21:58.724968Z",
     "shell.execute_reply.started": "2022-11-09T08:21:57.961397Z"
    }
   },
   "outputs": [
    {
     "data": {
      "image/png": "[encoded data removed]",
      "text/plain": [
       "<Figure size 432x288 with 1 Axes>"
      ]
     },
     "metadata": {
      "needs_background": "light"
     },
     "output_type": "display_data"
    }
   ],
   "source": [
    "# Generating data\n",
    "from sklearn.datasets import make_moons\n",
    "\n",
    "X, y = make_moons(n_samples = 200, noise = 0.05, random_state = 0)\n",
    "\n",
    "plt.scatter(X[:, 0], X[:, 1])\n",
    "plt.tight_layout()\n",
    "plt.show()"
   ]
  },
  {
   "cell_type": "markdown",
   "id": "d8a1784a",
   "metadata": {},
   "source": [
    "### K-means"
   ]
  },
  {
   "cell_type": "code",
   "execution_count": 24,
   "id": "56b8f5fa",
   "metadata": {
    "execution": {
     "iopub.execute_input": "2022-11-09T08:21:58.726988Z",
     "iopub.status.busy": "2022-11-09T08:21:58.726988Z",
     "iopub.status.idle": "2022-11-09T08:21:58.941490Z",
     "shell.execute_reply": "2022-11-09T08:21:58.940490Z",
     "shell.execute_reply.started": "2022-11-09T08:21:58.726988Z"
    }
   },
   "outputs": [
    {
     "data": {
      "text/plain": [
       "<matplotlib.collections.PathCollection at 0x20c2b353f70>"
      ]
     },
     "execution_count": 24,
     "metadata": {},
     "output_type": "execute_result"
    },
    {
     "data": {
      "image/png": "[encoded data removed]",
      "text/plain": [
       "<Figure size 432x288 with 1 Axes>"
      ]
     },
     "metadata": {
      "needs_background": "light"
     },
     "output_type": "display_data"
    }
   ],
   "source": [
    "km = KMeans(n_clusters = 2, random_state = 0) # KMeans 클러스터 : 노이즈를 고려하지 않음\n",
    "\n",
    "y_km = km.fit_predict(X)\n",
    "\n",
    "plt.scatter(X[y_km == 0,0],\n",
    "           X[y_km == 0,1],\n",
    "           c = 'lightblue',\n",
    "           edgecolor = 'black',\n",
    "           marker = 'o',\n",
    "           s = 40)\n",
    "\n",
    "plt.scatter(X[y_km == 1, 0],\n",
    "           X[y_km == 1, 1],\n",
    "           c = 'red',\n",
    "           edgecolor = 'black',\n",
    "           marker = 's',\n",
    "           s = 40)"
   ]
  },
  {
   "cell_type": "markdown",
   "id": "57ee7757",
   "metadata": {},
   "source": [
    "### DBSCAN"
   ]
  },
  {
   "cell_type": "code",
   "execution_count": 25,
   "id": "c418538d",
   "metadata": {
    "execution": {
     "iopub.execute_input": "2022-11-09T08:21:58.946478Z",
     "iopub.status.busy": "2022-11-09T08:21:58.946478Z",
     "iopub.status.idle": "2022-11-09T08:21:59.360459Z",
     "shell.execute_reply": "2022-11-09T08:21:59.357469Z",
     "shell.execute_reply.started": "2022-11-09T08:21:58.946478Z"
    }
   },
   "outputs": [
    {
     "data": {
      "text/plain": [
       "<matplotlib.collections.PathCollection at 0x20c2b53fc70>"
      ]
     },
     "execution_count": 25,
     "metadata": {},
     "output_type": "execute_result"
    },
    {
     "data": {
      "image/png": "[encoded data removed]",
      "text/plain": [
       "<Figure size 432x288 with 1 Axes>"
      ]
     },
     "metadata": {
      "needs_background": "light"
     },
     "output_type": "display_data"
    }
   ],
   "source": [
    "db = DBSCAN(eps = 0.2, min_samples = 5, metric = 'euclidean')\n",
    "\n",
    "y_db=db.fit_predict(X)\n",
    "\n",
    "plt.scatter(X[y_db == 0,0],\n",
    "           X[y_db == 0,1],\n",
    "           c = 'lightblue',\n",
    "           edgecolor = 'black',\n",
    "           marker = 'o',\n",
    "           s = 40)\n",
    "\n",
    "plt.scatter(X[y_db == 1, 0],\n",
    "           X[y_db == 1, 1],\n",
    "           c = 'red',\n",
    "           edgecolor = 'black',\n",
    "           marker = 's',\n",
    "           s = 40)"
   ]
  },
  {
   "cell_type": "markdown",
   "id": "d9208b6b",
   "metadata": {},
   "source": [
    "# Navigation Data"
   ]
  },
  {
   "cell_type": "markdown",
   "id": "e244fd44",
   "metadata": {},
   "source": [
    "- How many percentages of car-owner are \"car-dependent\"?\n",
    "- => How can the car-usage type be classified?\n",
    "\n",
    "- Develop a machine learning model (K-means clustering) that classifies car-owners into a car-usege type using their vehicles' trajectory data (i.e. GPS data) for a month\n",
    "- Use the following features:\n",
    "--      (1)  The number of days for a month\n",
    "--      (2)  The average travel time per trip\n",
    "--      (3)  The average number of trips per day"
   ]
  },
  {
   "cell_type": "markdown",
   "id": "00a97bf4",
   "metadata": {},
   "source": [
    "### Data processing"
   ]
  },
  {
   "cell_type": "code",
   "execution_count": 27,
   "id": "caefe3ab-0317-4158-a34c-f3b5099aa5b7",
   "metadata": {
    "execution": {
     "iopub.execute_input": "2022-11-09T08:22:39.372789Z",
     "iopub.status.busy": "2022-11-09T08:22:39.371790Z",
     "iopub.status.idle": "2022-11-09T08:22:39.387318Z",
     "shell.execute_reply": "2022-11-09T08:22:39.387318Z",
     "shell.execute_reply.started": "2022-11-09T08:22:39.372789Z"
    }
   },
   "outputs": [],
   "source": [
    "Navi_path = 'D:/OneDrive - 연세대학교 (Yonsei University)/Lectures/2022-2_모빌리티데이터분석및활용/dataset/Navi_data.csv'"
   ]
  },
  {
   "cell_type": "code",
   "execution_count": 29,
   "id": "ced2f071",
   "metadata": {
    "execution": {
     "iopub.execute_input": "2022-11-09T08:22:49.897227Z",
     "iopub.status.busy": "2022-11-09T08:22:49.897227Z",
     "iopub.status.idle": "2022-11-09T08:22:50.843030Z",
     "shell.execute_reply": "2022-11-09T08:22:50.841035Z",
     "shell.execute_reply.started": "2022-11-09T08:22:49.897227Z"
    }
   },
   "outputs": [
    {
     "data": {
      "text/html": [
       "<div>\n",
       "<style scoped>\n",
       "    .dataframe tbody tr th:only-of-type {\n",
       "        vertical-align: middle;\n",
       "    }\n",
       "\n",
       "    .dataframe tbody tr th {\n",
       "        vertical-align: top;\n",
       "    }\n",
       "\n",
       "    .dataframe thead th {\n",
       "        text-align: right;\n",
       "    }\n",
       "</style>\n",
       "<table border=\"1\" class=\"dataframe\">\n",
       "  <thead>\n",
       "    <tr style=\"text-align: right;\">\n",
       "      <th></th>\n",
       "      <th>ID</th>\n",
       "      <th>Date</th>\n",
       "      <th>Time</th>\n",
       "      <th>Longitude</th>\n",
       "      <th>Latitude</th>\n",
       "      <th>Speed</th>\n",
       "    </tr>\n",
       "  </thead>\n",
       "  <tbody>\n",
       "    <tr>\n",
       "      <th>0</th>\n",
       "      <td>502915</td>\n",
       "      <td>20171209</td>\n",
       "      <td>122533</td>\n",
       "      <td>126.888421</td>\n",
       "      <td>37.510334</td>\n",
       "      <td>0.000000</td>\n",
       "    </tr>\n",
       "    <tr>\n",
       "      <th>1</th>\n",
       "      <td>502915</td>\n",
       "      <td>20171209</td>\n",
       "      <td>122635</td>\n",
       "      <td>126.888421</td>\n",
       "      <td>37.510334</td>\n",
       "      <td>0.000000</td>\n",
       "    </tr>\n",
       "    <tr>\n",
       "      <th>2</th>\n",
       "      <td>502915</td>\n",
       "      <td>20171209</td>\n",
       "      <td>122738</td>\n",
       "      <td>126.888874</td>\n",
       "      <td>37.510986</td>\n",
       "      <td>4.730095</td>\n",
       "    </tr>\n",
       "    <tr>\n",
       "      <th>3</th>\n",
       "      <td>502915</td>\n",
       "      <td>20171209</td>\n",
       "      <td>122943</td>\n",
       "      <td>126.886946</td>\n",
       "      <td>37.512514</td>\n",
       "      <td>6.924282</td>\n",
       "    </tr>\n",
       "    <tr>\n",
       "      <th>4</th>\n",
       "      <td>502915</td>\n",
       "      <td>20171209</td>\n",
       "      <td>123045</td>\n",
       "      <td>126.882310</td>\n",
       "      <td>37.514892</td>\n",
       "      <td>28.306628</td>\n",
       "    </tr>\n",
       "    <tr>\n",
       "      <th>...</th>\n",
       "      <td>...</td>\n",
       "      <td>...</td>\n",
       "      <td>...</td>\n",
       "      <td>...</td>\n",
       "      <td>...</td>\n",
       "      <td>...</td>\n",
       "    </tr>\n",
       "    <tr>\n",
       "      <th>1038365</th>\n",
       "      <td>3103978</td>\n",
       "      <td>20171222</td>\n",
       "      <td>235512</td>\n",
       "      <td>127.275210</td>\n",
       "      <td>38.087225</td>\n",
       "      <td>0.000000</td>\n",
       "    </tr>\n",
       "    <tr>\n",
       "      <th>1038366</th>\n",
       "      <td>3103978</td>\n",
       "      <td>20171222</td>\n",
       "      <td>235612</td>\n",
       "      <td>127.275210</td>\n",
       "      <td>38.087225</td>\n",
       "      <td>0.000000</td>\n",
       "    </tr>\n",
       "    <tr>\n",
       "      <th>1038367</th>\n",
       "      <td>3103978</td>\n",
       "      <td>20171222</td>\n",
       "      <td>235713</td>\n",
       "      <td>127.275210</td>\n",
       "      <td>38.087225</td>\n",
       "      <td>0.000000</td>\n",
       "    </tr>\n",
       "    <tr>\n",
       "      <th>1038368</th>\n",
       "      <td>3103978</td>\n",
       "      <td>20171222</td>\n",
       "      <td>235813</td>\n",
       "      <td>127.275210</td>\n",
       "      <td>38.087225</td>\n",
       "      <td>0.000000</td>\n",
       "    </tr>\n",
       "    <tr>\n",
       "      <th>1038369</th>\n",
       "      <td>3103978</td>\n",
       "      <td>20171222</td>\n",
       "      <td>235913</td>\n",
       "      <td>127.275210</td>\n",
       "      <td>38.087225</td>\n",
       "      <td>0.000000</td>\n",
       "    </tr>\n",
       "  </tbody>\n",
       "</table>\n",
       "<p>1038370 rows × 6 columns</p>\n",
       "</div>"
      ],
      "text/plain": [
       "              ID      Date    Time   Longitude   Latitude      Speed\n",
       "0         502915  20171209  122533  126.888421  37.510334   0.000000\n",
       "1         502915  20171209  122635  126.888421  37.510334   0.000000\n",
       "2         502915  20171209  122738  126.888874  37.510986   4.730095\n",
       "3         502915  20171209  122943  126.886946  37.512514   6.924282\n",
       "4         502915  20171209  123045  126.882310  37.514892  28.306628\n",
       "...          ...       ...     ...         ...        ...        ...\n",
       "1038365  3103978  20171222  235512  127.275210  38.087225   0.000000\n",
       "1038366  3103978  20171222  235612  127.275210  38.087225   0.000000\n",
       "1038367  3103978  20171222  235713  127.275210  38.087225   0.000000\n",
       "1038368  3103978  20171222  235813  127.275210  38.087225   0.000000\n",
       "1038369  3103978  20171222  235913  127.275210  38.087225   0.000000\n",
       "\n",
       "[1038370 rows x 6 columns]"
      ]
     },
     "execution_count": 29,
     "metadata": {},
     "output_type": "execute_result"
    }
   ],
   "source": [
    "# Navigation data\n",
    "Tdata = pd.read_csv(Navi_path)\n",
    "Tdata"
   ]
  },
  {
   "cell_type": "code",
   "execution_count": 30,
   "id": "db584390",
   "metadata": {
    "execution": {
     "iopub.execute_input": "2022-11-09T08:22:50.846025Z",
     "iopub.status.busy": "2022-11-09T08:22:50.845034Z",
     "iopub.status.idle": "2022-11-09T08:22:50.872950Z",
     "shell.execute_reply": "2022-11-09T08:22:50.870958Z",
     "shell.execute_reply.started": "2022-11-09T08:22:50.846025Z"
    }
   },
   "outputs": [],
   "source": [
    "##### [RECALL] Extracting trip information form trajectory data (see \"03_Trajectory data analysis.ipynb\" 참고)\n",
    "#####  The follwoing function is the function of extracting trip information by combining the scripts of \"03_Trajectory data analysis.ipynb\" \n",
    "\n",
    "def Extract_veh_use(Veh_ID):\n",
    "    MyT = Tdata[Tdata.ID == Veh_ID]\n",
    "    \n",
    "    # Create a variable representing \"time of day\" <== \"Time\" need to be modified.\n",
    "    MyT['Time_hh'] = MyT.Time//10000\n",
    "    MyT['Time_mm'] = (MyT.Time//100) - (MyT.Time_hh * 100)\n",
    "    MyT['Time_ss'] = MyT.Time - (MyT.Time_hh*10000) - (MyT.Time_mm * 100)\n",
    "    \n",
    "    MyT['Time_H'] = MyT.Time_hh + (MyT.Time_mm/60) + (MyT.Time_ss/3600)\n",
    "\n",
    "    # Set-up and initialization\n",
    "    MyT['TripID'] = 0\n",
    "    MyT['TripOD'] = 0\n",
    "\n",
    "    MyT.TripID.iloc[0] = 1\n",
    "    MyT.TripOD.iloc[0] = 'origin'\n",
    "    MyT.TripOD.iloc[len(MyT) - 1] = 'destination'\n",
    "    \n",
    "    # Segmenting\n",
    "    for n in range(1, len(MyT)):\n",
    "        if MyT.Date.iloc[n] == MyT.Date.iloc[n-1]:\n",
    "            if (MyT.Time_H.iloc[n] - MyT.Time_H.iloc[n-1])>0.1667:\n",
    "                MyT.TripID.iloc[n] = MyT.TripID.iloc[n-1]+1\n",
    "                MyT.TripOD.iloc[n] = \"origin\"\n",
    "                MyT.TripOD.iloc[n-1] = \"destination\"\n",
    "            else:\n",
    "                MyT.TripID.iloc[n] = MyT.TripID.iloc[n-1]\n",
    "        else:\n",
    "            MyT.TripID.iloc[n] = 1\n",
    "            MyT.TripOD.iloc[n] = \"origin\"\n",
    "            MyT.TripOD.iloc[n-1] = \"destination\"\n",
    "            \n",
    "    # Create base data frame\n",
    "    MyT_Trip = MyT.loc[:,['ID', 'Date', 'TripID']]\n",
    "\n",
    "    MyT_Trip = MyT_Trip.drop_duplicates()\n",
    "\n",
    "    # Create columns\n",
    "    MyT_Trip['Longitude_O'] = 0\n",
    "    MyT_Trip['Latitude_O'] = 0\n",
    "    MyT_Trip['Time_H_O'] = 0\n",
    "\n",
    "    MyT_Trip['Longitude_D'] = 0\n",
    "    MyT_Trip['Latitude_D'] = 0\n",
    "    MyT_Trip['Time_H_D'] = 0\n",
    "\n",
    "    MyT_Trip['T_time'] = 0\n",
    "\n",
    "    # Complete the table\n",
    "    m = 0\n",
    "\n",
    "    for n in range(0, len(MyT)):\n",
    "        if (MyT.Date.iloc[n] == MyT_Trip.Date.iloc[m]) & (MyT.TripID.iloc[n] == MyT_Trip.TripID.iloc[m]):\n",
    "            if MyT.TripOD.iloc[n] == \"origin\":\n",
    "                MyT_Trip.Longitude_O.iloc[m] = MyT.Longitude.iloc[n]\n",
    "                MyT_Trip.Latitude_O.iloc[m] = MyT.Latitude.iloc[n]\n",
    "                MyT_Trip.Time_H_O.iloc[m] = MyT.Time_H.iloc[n]\n",
    "            elif MyT.TripOD.iloc[n] == \"destination\":\n",
    "                MyT_Trip.Longitude_D.iloc[m] = MyT.Longitude.iloc[n]\n",
    "                MyT_Trip.Latitude_D.iloc[m] = MyT.Latitude.iloc[n]\n",
    "                MyT_Trip.Time_H_D.iloc[m] = MyT.Time_H.iloc[n]\n",
    "\n",
    "                MyT_Trip.T_time.iloc[m] = (MyT_Trip.Time_H_D.iloc[m]-MyT_Trip.Time_H_O.iloc[m]) * 60\n",
    "                m = m+1\n",
    "    \n",
    "    # Eliminate noise\n",
    "    MyT_Trip.drop(MyT_Trip.loc[MyT_Trip['Longitude_O'] == 0].index, inplace = True)\n",
    "    MyT_Trip.drop(MyT_Trip.loc[MyT_Trip['Longitude_D'] == 0].index, inplace = True)\n",
    "    MyT_Trip.drop(MyT_Trip.loc[MyT_Trip['T_time'] > 180].index, inplace = True)\n",
    "    MyT_Trip.drop(MyT_Trip.loc[MyT_Trip['T_time'] < 5].index, inplace = True)\n",
    "        \n",
    "    # Extracting vehicle-based characteristics\n",
    "    ### The number of days\n",
    "    N_days = MyT_Trip.Date.unique().size\n",
    "    ### The average travel time per trip\n",
    "    Avg_time = MyT_Trip.T_time.mean()\n",
    "    \n",
    "    ### The average number of trips per day\n",
    "    if N_days == 0:\n",
    "        Avg_N_trips = 'NaN'\n",
    "    else:\n",
    "        Avg_N_trips = len(MyT_Trip)/N_days\n",
    "    \n",
    "    # DataFrame generation\n",
    "    data = [[N_days, Avg_time, Avg_N_trips]]\n",
    "    Veh_use = pd.DataFrame(data,columns = ['N_days', 'Avg_time' , 'Avg_N_trips'])\n",
    "    \n",
    "    \n",
    "    return Veh_use"
   ]
  },
  {
   "cell_type": "code",
   "execution_count": 52,
   "id": "f1b26782",
   "metadata": {
    "execution": {
     "iopub.execute_input": "2022-11-09T08:45:00.392522Z",
     "iopub.status.busy": "2022-11-09T08:45:00.392522Z",
     "iopub.status.idle": "2022-11-09T08:45:10.972611Z",
     "shell.execute_reply": "2022-11-09T08:45:10.971645Z",
     "shell.execute_reply.started": "2022-11-09T08:45:00.392522Z"
    },
    "tags": []
   },
   "outputs": [
    {
     "data": {
      "text/html": [
       "<div>\n",
       "<style scoped>\n",
       "    .dataframe tbody tr th:only-of-type {\n",
       "        vertical-align: middle;\n",
       "    }\n",
       "\n",
       "    .dataframe tbody tr th {\n",
       "        vertical-align: top;\n",
       "    }\n",
       "\n",
       "    .dataframe thead th {\n",
       "        text-align: right;\n",
       "    }\n",
       "</style>\n",
       "<table border=\"1\" class=\"dataframe\">\n",
       "  <thead>\n",
       "    <tr style=\"text-align: right;\">\n",
       "      <th></th>\n",
       "      <th>N_days</th>\n",
       "      <th>Avg_time</th>\n",
       "      <th>Avg_N_trips</th>\n",
       "    </tr>\n",
       "  </thead>\n",
       "  <tbody>\n",
       "    <tr>\n",
       "      <th>0</th>\n",
       "      <td>20</td>\n",
       "      <td>44.660993</td>\n",
       "      <td>2.35</td>\n",
       "    </tr>\n",
       "  </tbody>\n",
       "</table>\n",
       "</div>"
      ],
      "text/plain": [
       "   N_days   Avg_time  Avg_N_trips\n",
       "0      20  44.660993         2.35"
      ]
     },
     "execution_count": 52,
     "metadata": {},
     "output_type": "execute_result"
    }
   ],
   "source": [
    "# Test\n",
    "warnings.filterwarnings(action = 'ignore')\n",
    "Extract_veh_use(2223549) "
   ]
  },
  {
   "cell_type": "code",
   "execution_count": 32,
   "id": "6e03151e",
   "metadata": {
    "execution": {
     "iopub.execute_input": "2022-11-09T08:23:05.209808Z",
     "iopub.status.busy": "2022-11-09T08:23:05.209808Z",
     "iopub.status.idle": "2022-11-09T08:23:05.225737Z",
     "shell.execute_reply": "2022-11-09T08:23:05.223746Z",
     "shell.execute_reply.started": "2022-11-09T08:23:05.209808Z"
    }
   },
   "outputs": [
    {
     "data": {
      "text/plain": [
       "array([ 502915,  567810,  600415,  685330,  776983, 1347674, 1354799,\n",
       "       1395688, 1418313, 1446805, 1538802, 1586316, 1618082, 1678779,\n",
       "       1682265, 1708409, 1718991, 1754540, 1766694, 1768915, 1851141,\n",
       "       1873223, 1894298, 1994596, 1998496, 2028833, 2036354, 2068708,\n",
       "       2092962, 2094182, 2097253, 2107340, 2120334, 2127773, 2134592,\n",
       "       2159863, 2180112, 2220702, 2220788, 2220948, 2220984, 2221027,\n",
       "       2221068, 2221096, 2221159, 2221177, 2221188, 2221270, 2221299,\n",
       "       2221321, 2221349, 2221418, 2221438, 2221487, 2221516, 2221532,\n",
       "       2221590, 2221626, 2221628, 2221666, 2221716, 2221789, 2221800,\n",
       "       2221823, 2221927, 2221941, 2222000, 2222149, 2222223, 2222226,\n",
       "       2222230, 2222250, 2222311, 2222327, 2222450, 2222490, 2222512,\n",
       "       2222550, 2222579, 2222610, 2222622, 2222640, 2222727, 2222872,\n",
       "       2223020, 2223092, 2223109, 2223262, 2223289, 2223379, 2223422,\n",
       "       2223444, 2223457, 2223511, 2223549, 2223624, 2223682, 2223702,\n",
       "       2223991, 2224343, 2224633, 2224733, 2224755, 2224789, 2224820,\n",
       "       2224918, 2225012, 2225072, 2225131, 2225562, 2225887, 2225944,\n",
       "       2226565, 2227453, 2227753, 2227789, 2228043, 2228249, 2228387,\n",
       "       2229128, 2229133, 2229521, 2229590, 2229717, 2230559, 2235079,\n",
       "       2238669, 2239977, 2244851, 2264056, 2290737, 2291063, 2292580,\n",
       "       2294121, 2295977, 2304014, 2349362, 2349495, 2350231, 2361644,\n",
       "       2382811, 2410046, 2412671, 2423435, 2428672, 2430607, 2443333,\n",
       "       2448386, 2472017, 2472042, 2472828, 2473351, 2474083, 2476743,\n",
       "       2476829, 2483525, 2485625, 2486325, 2491454, 2496018, 2500698,\n",
       "       2502579, 2502614, 2502857, 2503047, 2504284, 2505260, 2505683,\n",
       "       2511109, 2512769, 2514960, 2515091, 2520508, 2522423, 2524030,\n",
       "       2526903, 2530061, 2530560, 2531314, 2532541, 2537556, 2540364,\n",
       "       2553983, 2563163, 2563318, 2569575, 2580693, 2580720, 2584949,\n",
       "       2593002, 2611837, 2623459, 2624647, 2641966, 2671360, 2697046,\n",
       "       2702867, 2724120, 2732986, 2770164, 2771019, 2788270, 2798798,\n",
       "       2799085, 2801842, 2858783, 2858797, 2919316, 2953818, 2983478,\n",
       "       3030215, 3045052, 3085309, 3088962, 3095826, 3103978], dtype=int64)"
      ]
     },
     "execution_count": 32,
     "metadata": {},
     "output_type": "execute_result"
    }
   ],
   "source": [
    "Veh_list=Tdata.ID.unique()\n",
    "Veh_list"
   ]
  },
  {
   "cell_type": "code",
   "execution_count": 33,
   "id": "1aa1d657",
   "metadata": {
    "execution": {
     "iopub.execute_input": "2022-11-09T08:23:05.226736Z",
     "iopub.status.busy": "2022-11-09T08:23:05.226736Z",
     "iopub.status.idle": "2022-11-09T08:23:05.242698Z",
     "shell.execute_reply": "2022-11-09T08:23:05.239705Z",
     "shell.execute_reply.started": "2022-11-09T08:23:05.226736Z"
    }
   },
   "outputs": [
    {
     "data": {
      "text/plain": [
       "216"
      ]
     },
     "execution_count": 33,
     "metadata": {},
     "output_type": "execute_result"
    }
   ],
   "source": [
    "Veh_list.size"
   ]
  },
  {
   "cell_type": "code",
   "execution_count": 53,
   "id": "3389e816",
   "metadata": {
    "execution": {
     "iopub.execute_input": "2022-11-09T08:45:10.973638Z",
     "iopub.status.busy": "2022-11-09T08:45:10.972611Z",
     "iopub.status.idle": "2022-11-09T08:54:10.901691Z",
     "shell.execute_reply": "2022-11-09T08:54:10.900694Z",
     "shell.execute_reply.started": "2022-11-09T08:45:10.973638Z"
    },
    "tags": []
   },
   "outputs": [
    {
     "data": {
      "text/html": [
       "<div>\n",
       "<style scoped>\n",
       "    .dataframe tbody tr th:only-of-type {\n",
       "        vertical-align: middle;\n",
       "    }\n",
       "\n",
       "    .dataframe tbody tr th {\n",
       "        vertical-align: top;\n",
       "    }\n",
       "\n",
       "    .dataframe thead th {\n",
       "        text-align: right;\n",
       "    }\n",
       "</style>\n",
       "<table border=\"1\" class=\"dataframe\">\n",
       "  <thead>\n",
       "    <tr style=\"text-align: right;\">\n",
       "      <th></th>\n",
       "      <th>N_days</th>\n",
       "      <th>Avg_time</th>\n",
       "      <th>Avg_N_trips</th>\n",
       "    </tr>\n",
       "  </thead>\n",
       "  <tbody>\n",
       "    <tr>\n",
       "      <th>0</th>\n",
       "      <td>1</td>\n",
       "      <td>28.633333</td>\n",
       "      <td>2.000000</td>\n",
       "    </tr>\n",
       "    <tr>\n",
       "      <th>0</th>\n",
       "      <td>1</td>\n",
       "      <td>98.366667</td>\n",
       "      <td>2.000000</td>\n",
       "    </tr>\n",
       "    <tr>\n",
       "      <th>0</th>\n",
       "      <td>1</td>\n",
       "      <td>64.141667</td>\n",
       "      <td>2.000000</td>\n",
       "    </tr>\n",
       "    <tr>\n",
       "      <th>0</th>\n",
       "      <td>5</td>\n",
       "      <td>31.582051</td>\n",
       "      <td>2.600000</td>\n",
       "    </tr>\n",
       "    <tr>\n",
       "      <th>0</th>\n",
       "      <td>15</td>\n",
       "      <td>18.133333</td>\n",
       "      <td>2.066667</td>\n",
       "    </tr>\n",
       "    <tr>\n",
       "      <th>...</th>\n",
       "      <td>...</td>\n",
       "      <td>...</td>\n",
       "      <td>...</td>\n",
       "    </tr>\n",
       "    <tr>\n",
       "      <th>0</th>\n",
       "      <td>2</td>\n",
       "      <td>68.833333</td>\n",
       "      <td>2.500000</td>\n",
       "    </tr>\n",
       "    <tr>\n",
       "      <th>0</th>\n",
       "      <td>1</td>\n",
       "      <td>65.625000</td>\n",
       "      <td>2.000000</td>\n",
       "    </tr>\n",
       "    <tr>\n",
       "      <th>0</th>\n",
       "      <td>2</td>\n",
       "      <td>22.886667</td>\n",
       "      <td>2.500000</td>\n",
       "    </tr>\n",
       "    <tr>\n",
       "      <th>0</th>\n",
       "      <td>1</td>\n",
       "      <td>5.666667</td>\n",
       "      <td>1.000000</td>\n",
       "    </tr>\n",
       "    <tr>\n",
       "      <th>0</th>\n",
       "      <td>3</td>\n",
       "      <td>84.222222</td>\n",
       "      <td>1.000000</td>\n",
       "    </tr>\n",
       "  </tbody>\n",
       "</table>\n",
       "<p>210 rows × 3 columns</p>\n",
       "</div>"
      ],
      "text/plain": [
       "    N_days   Avg_time  Avg_N_trips\n",
       "0        1  28.633333     2.000000\n",
       "0        1  98.366667     2.000000\n",
       "0        1  64.141667     2.000000\n",
       "0        5  31.582051     2.600000\n",
       "0       15  18.133333     2.066667\n",
       "..     ...        ...          ...\n",
       "0        2  68.833333     2.500000\n",
       "0        1  65.625000     2.000000\n",
       "0        2  22.886667     2.500000\n",
       "0        1   5.666667     1.000000\n",
       "0        3  84.222222     1.000000\n",
       "\n",
       "[210 rows x 3 columns]"
      ]
     },
     "execution_count": 53,
     "metadata": {},
     "output_type": "execute_result"
    }
   ],
   "source": [
    "# Entire vehicle\n",
    "\n",
    "warnings.filterwarnings(action = 'ignore')\n",
    "\n",
    "Veh_list=Tdata.ID.unique()\n",
    "\n",
    "\n",
    "Veh_use_all = Extract_veh_use(Veh_list[0])\n",
    "\n",
    "for a in range(1,Veh_list.size):\n",
    "    Veh_use = Extract_veh_use(Veh_list[a])\n",
    "    if Veh_use.N_days[0] != 0:\n",
    "        Veh_use_all = pd.concat([Veh_use_all,Veh_use])\n",
    "\n",
    "\n",
    "Veh_use_all"
   ]
  },
  {
   "cell_type": "markdown",
   "id": "436b419a",
   "metadata": {},
   "source": [
    "### Data exploration"
   ]
  },
  {
   "cell_type": "code",
   "execution_count": 35,
   "id": "e0767e44",
   "metadata": {
    "execution": {
     "iopub.execute_input": "2022-11-09T08:31:44.141013Z",
     "iopub.status.busy": "2022-11-09T08:31:44.141013Z",
     "iopub.status.idle": "2022-11-09T08:31:44.330535Z",
     "shell.execute_reply": "2022-11-09T08:31:44.329509Z",
     "shell.execute_reply.started": "2022-11-09T08:31:44.141013Z"
    }
   },
   "outputs": [
    {
     "data": {
      "text/plain": [
       "<AxesSubplot:xlabel='Avg_N_trips', ylabel='Avg_time'>"
      ]
     },
     "execution_count": 35,
     "metadata": {},
     "output_type": "execute_result"
    },
    {
     "data": {
      "image/png": "[encoded data removed]",
      "text/plain": [
       "<Figure size 432x288 with 1 Axes>"
      ]
     },
     "metadata": {
      "needs_background": "light"
     },
     "output_type": "display_data"
    }
   ],
   "source": [
    "Veh_use_all.plot.scatter(x='Avg_N_trips', y='Avg_time')"
   ]
  },
  {
   "cell_type": "code",
   "execution_count": 36,
   "id": "a6a12868",
   "metadata": {
    "execution": {
     "iopub.execute_input": "2022-11-09T08:31:44.330535Z",
     "iopub.status.busy": "2022-11-09T08:31:44.330535Z",
     "iopub.status.idle": "2022-11-09T08:31:44.486828Z",
     "shell.execute_reply": "2022-11-09T08:31:44.486828Z",
     "shell.execute_reply.started": "2022-11-09T08:31:44.330535Z"
    }
   },
   "outputs": [
    {
     "data": {
      "text/plain": [
       "<AxesSubplot:xlabel='N_days', ylabel='Avg_time'>"
      ]
     },
     "execution_count": 36,
     "metadata": {},
     "output_type": "execute_result"
    },
    {
     "data": {
      "image/png": "[encoded data removed]",
      "text/plain": [
       "<Figure size 432x288 with 1 Axes>"
      ]
     },
     "metadata": {
      "needs_background": "light"
     },
     "output_type": "display_data"
    }
   ],
   "source": [
    "Veh_use_all.plot.scatter(x='N_days', y='Avg_time')"
   ]
  },
  {
   "cell_type": "code",
   "execution_count": 37,
   "id": "061543d9",
   "metadata": {
    "execution": {
     "iopub.execute_input": "2022-11-09T08:31:44.488826Z",
     "iopub.status.busy": "2022-11-09T08:31:44.488826Z",
     "iopub.status.idle": "2022-11-09T08:31:44.646993Z",
     "shell.execute_reply": "2022-11-09T08:31:44.645990Z",
     "shell.execute_reply.started": "2022-11-09T08:31:44.488826Z"
    }
   },
   "outputs": [
    {
     "data": {
      "text/plain": [
       "<AxesSubplot:xlabel='N_days', ylabel='Avg_N_trips'>"
      ]
     },
     "execution_count": 37,
     "metadata": {},
     "output_type": "execute_result"
    },
    {
     "data": {
      "image/png": "[encoded data removed]",
      "text/plain": [
       "<Figure size 432x288 with 1 Axes>"
      ]
     },
     "metadata": {
      "needs_background": "light"
     },
     "output_type": "display_data"
    }
   ],
   "source": [
    "Veh_use_all.plot.scatter(x='N_days', y='Avg_N_trips')"
   ]
  },
  {
   "cell_type": "markdown",
   "id": "36187336",
   "metadata": {},
   "source": [
    "### Elbow method\n",
    "- Number of cluster = 1 to 10"
   ]
  },
  {
   "cell_type": "code",
   "execution_count": 38,
   "id": "e60e283a",
   "metadata": {
    "execution": {
     "iopub.execute_input": "2022-11-09T08:31:44.648017Z",
     "iopub.status.busy": "2022-11-09T08:31:44.648017Z",
     "iopub.status.idle": "2022-11-09T08:31:45.215596Z",
     "shell.execute_reply": "2022-11-09T08:31:45.213588Z",
     "shell.execute_reply.started": "2022-11-09T08:31:44.648017Z"
    }
   },
   "outputs": [
    {
     "name": "stderr",
     "output_type": "stream",
     "text": [
      "C:\\dev\\Anaconda_3\\lib\\site-packages\\sklearn\\cluster\\_kmeans.py:881: UserWarning: KMeans is known to have a memory leak on Windows with MKL, when there are less chunks than available threads. You can avoid it by setting the environment variable OMP_NUM_THREADS=1.\n",
      "  warnings.warn(\n"
     ]
    },
    {
     "data": {
      "text/plain": [
       "[<matplotlib.lines.Line2D at 0x20c2d38d2e0>]"
      ]
     },
     "execution_count": 38,
     "metadata": {},
     "output_type": "execute_result"
    },
    {
     "data": {
      "image/png": "[encoded data removed]",
      "text/plain": [
       "<Figure size 432x288 with 1 Axes>"
      ]
     },
     "metadata": {
      "needs_background": "light"
     },
     "output_type": "display_data"
    }
   ],
   "source": [
    "# Elbow method\n",
    "X=Veh_use_all[['N_days', 'Avg_time' , 'Avg_N_trips']]\n",
    "X\n",
    "\n",
    "distortions = []\n",
    "for i in range(1,11):\n",
    "    km = KMeans(n_clusters=i,\n",
    "               init='random',\n",
    "               n_init=10,\n",
    "               max_iter=300,\n",
    "               random_state=0)\n",
    "    km.fit(X)\n",
    "    distortions.append(km.inertia_)\n",
    "distortions\n",
    "\n",
    "\n",
    "plt.plot(range(1,11), distortions, marker='o')"
   ]
  },
  {
   "cell_type": "markdown",
   "id": "3d963460",
   "metadata": {},
   "source": [
    "### Silhouette analysis"
   ]
  },
  {
   "cell_type": "code",
   "execution_count": 39,
   "id": "1e972895",
   "metadata": {
    "execution": {
     "iopub.execute_input": "2022-11-09T08:31:45.217591Z",
     "iopub.status.busy": "2022-11-09T08:31:45.216595Z",
     "iopub.status.idle": "2022-11-09T08:31:45.757024Z",
     "shell.execute_reply": "2022-11-09T08:31:45.755982Z",
     "shell.execute_reply.started": "2022-11-09T08:31:45.217591Z"
    },
    "tags": []
   },
   "outputs": [
    {
     "data": {
      "image/png": "[encoded data removed]",
      "text/plain": [
       "<Figure size 432x288 with 1 Axes>"
      ]
     },
     "metadata": {
      "needs_background": "light"
     },
     "output_type": "display_data"
    }
   ],
   "source": [
    "# Cluster = 5\n",
    "km = KMeans(n_clusters=5,\n",
    "           init='random',\n",
    "           n_init=10,\n",
    "           max_iter=300,\n",
    "           tol=1e-04,\n",
    "           random_state=0)\n",
    "y_km=km.fit_predict(X)\n",
    "\n",
    "# Evaluating silhouette coefficients\n",
    "from sklearn.metrics import silhouette_samples\n",
    "silhouette_vals=silhouette_samples(X,y_km,metric='euclidean')\n",
    "\n",
    "# Ploting\n",
    "from matplotlib import cm\n",
    "cluster_labels = np.unique(y_km)\n",
    "n_clusters = cluster_labels.shape[0]\n",
    "y_ax_lower, y_ax_upper = 0, 0\n",
    "yticks = []\n",
    "for i,c in enumerate(cluster_labels):\n",
    "    c_silhouette_vals = silhouette_vals[y_km == c]\n",
    "    c_silhouette_vals.sort()\n",
    "    y_ax_upper += len(c_silhouette_vals)\n",
    "    color = cm.jet(float(i)/n_clusters)\n",
    "    plt.barh(range(y_ax_lower, y_ax_upper),\n",
    "             c_silhouette_vals,\n",
    "             height=1.0,\n",
    "             edgecolor='none',\n",
    "             color=color)\n",
    "    yticks.append((y_ax_lower+y_ax_upper)/2.)\n",
    "    y_ax_lower += len(c_silhouette_vals)\n",
    "\n",
    "# Ploting average of silhouette coefficients\n",
    "silhouette_avg = np.mean(silhouette_vals)\n",
    "plt.axvline(silhouette_avg,\n",
    "           color=\"red\",\n",
    "           linestyle=\"--\")\n",
    "\n",
    "# Layout\n",
    "plt.yticks(yticks, cluster_labels+1)\n",
    "plt.ylabel('Cluster')\n",
    "plt.xlabel('Silhouette coefficient')\n",
    "plt.tight_layout()\n",
    "plt.show()"
   ]
  },
  {
   "cell_type": "code",
   "execution_count": 40,
   "id": "3e7451a2",
   "metadata": {
    "execution": {
     "iopub.execute_input": "2022-11-09T08:31:45.757979Z",
     "iopub.status.busy": "2022-11-09T08:31:45.757979Z",
     "iopub.status.idle": "2022-11-09T08:31:46.217481Z",
     "shell.execute_reply": "2022-11-09T08:31:46.215127Z",
     "shell.execute_reply.started": "2022-11-09T08:31:45.757979Z"
    }
   },
   "outputs": [
    {
     "data": {
      "image/png": "[encoded data removed]",
      "text/plain": [
       "<Figure size 432x288 with 1 Axes>"
      ]
     },
     "metadata": {
      "needs_background": "light"
     },
     "output_type": "display_data"
    }
   ],
   "source": [
    "# Cluster = 6\n",
    "km = KMeans(n_clusters=6,\n",
    "           init='random',\n",
    "           n_init=10,\n",
    "           max_iter=300,\n",
    "           tol=1e-04,\n",
    "           random_state=0)\n",
    "y_km=km.fit_predict(X)\n",
    "\n",
    "# Evaluating silhouette coefficients\n",
    "from sklearn.metrics import silhouette_samples\n",
    "silhouette_vals=silhouette_samples(X,y_km,metric='euclidean')\n",
    "\n",
    "# Ploting\n",
    "from matplotlib import cm\n",
    "cluster_labels = np.unique(y_km)\n",
    "n_clusters = cluster_labels.shape[0]\n",
    "y_ax_lower, y_ax_upper = 0, 0\n",
    "yticks = []\n",
    "for i,c in enumerate(cluster_labels):\n",
    "    c_silhouette_vals = silhouette_vals[y_km == c]\n",
    "    c_silhouette_vals.sort()\n",
    "    y_ax_upper += len(c_silhouette_vals)\n",
    "    color = cm.jet(float(i)/n_clusters)\n",
    "    plt.barh(range(y_ax_lower, y_ax_upper),\n",
    "             c_silhouette_vals,\n",
    "             height=1.0,\n",
    "             edgecolor='none',\n",
    "             color=color)\n",
    "    yticks.append((y_ax_lower+y_ax_upper)/2.)\n",
    "    y_ax_lower += len(c_silhouette_vals)\n",
    "\n",
    "# Ploting average of silhouette coefficients\n",
    "silhouette_avg = np.mean(silhouette_vals)\n",
    "plt.axvline(silhouette_avg,\n",
    "           color=\"red\",\n",
    "           linestyle=\"--\")\n",
    "\n",
    "# Layout\n",
    "plt.yticks(yticks, cluster_labels+1)\n",
    "plt.ylabel('Cluster')\n",
    "plt.xlabel('Silhouette coefficient')\n",
    "plt.tight_layout()\n",
    "plt.show()"
   ]
  },
  {
   "cell_type": "code",
   "execution_count": 41,
   "id": "2baf019c",
   "metadata": {
    "execution": {
     "iopub.execute_input": "2022-11-09T08:31:46.219486Z",
     "iopub.status.busy": "2022-11-09T08:31:46.218483Z",
     "iopub.status.idle": "2022-11-09T08:31:46.644797Z",
     "shell.execute_reply": "2022-11-09T08:31:46.643349Z",
     "shell.execute_reply.started": "2022-11-09T08:31:46.219486Z"
    }
   },
   "outputs": [
    {
     "data": {
      "image/png": "[encoded data removed]",
      "text/plain": [
       "<Figure size 432x288 with 1 Axes>"
      ]
     },
     "metadata": {
      "needs_background": "light"
     },
     "output_type": "display_data"
    }
   ],
   "source": [
    "# Cluster = 7\n",
    "km = KMeans(n_clusters=7,\n",
    "           init='random',\n",
    "           n_init=10,\n",
    "           max_iter=300,\n",
    "           tol=1e-04,\n",
    "           random_state=0)\n",
    "y_km=km.fit_predict(X)\n",
    "\n",
    "# Evaluating silhouette coefficients\n",
    "from sklearn.metrics import silhouette_samples\n",
    "silhouette_vals=silhouette_samples(X,y_km,metric='euclidean')\n",
    "\n",
    "# Ploting\n",
    "from matplotlib import cm\n",
    "cluster_labels = np.unique(y_km)\n",
    "n_clusters = cluster_labels.shape[0]\n",
    "y_ax_lower, y_ax_upper = 0, 0\n",
    "yticks = []\n",
    "for i,c in enumerate(cluster_labels):\n",
    "    c_silhouette_vals = silhouette_vals[y_km == c]\n",
    "    c_silhouette_vals.sort()\n",
    "    y_ax_upper += len(c_silhouette_vals)\n",
    "    color = cm.jet(float(i)/n_clusters)\n",
    "    plt.barh(range(y_ax_lower, y_ax_upper),\n",
    "             c_silhouette_vals,\n",
    "             height=1.0,\n",
    "             edgecolor='none',\n",
    "             color=color)\n",
    "    yticks.append((y_ax_lower+y_ax_upper)/2.)\n",
    "    y_ax_lower += len(c_silhouette_vals)\n",
    "\n",
    "# Ploting average of silhouette coefficients\n",
    "silhouette_avg = np.mean(silhouette_vals)\n",
    "plt.axvline(silhouette_avg,\n",
    "           color=\"red\",\n",
    "           linestyle=\"--\")\n",
    "\n",
    "# Layout\n",
    "plt.yticks(yticks, cluster_labels+1)\n",
    "plt.ylabel('Cluster')\n",
    "plt.xlabel('Silhouette coefficient')\n",
    "plt.tight_layout()\n",
    "plt.show()"
   ]
  },
  {
   "cell_type": "code",
   "execution_count": 42,
   "id": "25b9950e",
   "metadata": {
    "execution": {
     "iopub.execute_input": "2022-11-09T08:31:46.646826Z",
     "iopub.status.busy": "2022-11-09T08:31:46.646826Z",
     "iopub.status.idle": "2022-11-09T08:31:47.089376Z",
     "shell.execute_reply": "2022-11-09T08:31:47.088347Z",
     "shell.execute_reply.started": "2022-11-09T08:31:46.646826Z"
    }
   },
   "outputs": [
    {
     "data": {
      "image/png": "[encoded data removed]",
      "text/plain": [
       "<Figure size 432x288 with 1 Axes>"
      ]
     },
     "metadata": {
      "needs_background": "light"
     },
     "output_type": "display_data"
    }
   ],
   "source": [
    "# Cluster = 8\n",
    "km = KMeans(n_clusters=8,\n",
    "           init='random',\n",
    "           n_init=10,\n",
    "           max_iter=300,\n",
    "           tol=1e-04,\n",
    "           random_state=0)\n",
    "y_km=km.fit_predict(X)\n",
    "\n",
    "# Evaluating silhouette coefficients\n",
    "from sklearn.metrics import silhouette_samples\n",
    "silhouette_vals=silhouette_samples(X,y_km,metric='euclidean')\n",
    "\n",
    "# Ploting\n",
    "from matplotlib import cm\n",
    "cluster_labels = np.unique(y_km)\n",
    "n_clusters = cluster_labels.shape[0]\n",
    "y_ax_lower, y_ax_upper = 0, 0\n",
    "yticks = []\n",
    "for i,c in enumerate(cluster_labels):\n",
    "    c_silhouette_vals = silhouette_vals[y_km == c]\n",
    "    c_silhouette_vals.sort()\n",
    "    y_ax_upper += len(c_silhouette_vals)\n",
    "    color = cm.jet(float(i)/n_clusters)\n",
    "    plt.barh(range(y_ax_lower, y_ax_upper),\n",
    "             c_silhouette_vals,\n",
    "             height=1.0,\n",
    "             edgecolor='none',\n",
    "             color=color)\n",
    "    yticks.append((y_ax_lower+y_ax_upper)/2.)\n",
    "    y_ax_lower += len(c_silhouette_vals)\n",
    "\n",
    "# Ploting average of silhouette coefficients\n",
    "silhouette_avg = np.mean(silhouette_vals)\n",
    "plt.axvline(silhouette_avg,\n",
    "           color=\"red\",\n",
    "           linestyle=\"--\")\n",
    "\n",
    "# Layout\n",
    "plt.yticks(yticks, cluster_labels+1)\n",
    "plt.ylabel('Cluster')\n",
    "plt.xlabel('Silhouette coefficient')\n",
    "plt.tight_layout()\n",
    "plt.show()"
   ]
  },
  {
   "cell_type": "markdown",
   "id": "d7d6e41d",
   "metadata": {},
   "source": [
    "### Final model and interpretation\n",
    "- Plot the data by cluster"
   ]
  },
  {
   "cell_type": "code",
   "execution_count": 43,
   "id": "42b5b59d",
   "metadata": {
    "execution": {
     "iopub.execute_input": "2022-11-09T08:31:47.090372Z",
     "iopub.status.busy": "2022-11-09T08:31:47.090372Z",
     "iopub.status.idle": "2022-11-09T08:31:47.153213Z",
     "shell.execute_reply": "2022-11-09T08:31:47.151683Z",
     "shell.execute_reply.started": "2022-11-09T08:31:47.090372Z"
    }
   },
   "outputs": [
    {
     "data": {
      "text/html": [
       "<div>\n",
       "<style scoped>\n",
       "    .dataframe tbody tr th:only-of-type {\n",
       "        vertical-align: middle;\n",
       "    }\n",
       "\n",
       "    .dataframe tbody tr th {\n",
       "        vertical-align: top;\n",
       "    }\n",
       "\n",
       "    .dataframe thead th {\n",
       "        text-align: right;\n",
       "    }\n",
       "</style>\n",
       "<table border=\"1\" class=\"dataframe\">\n",
       "  <thead>\n",
       "    <tr style=\"text-align: right;\">\n",
       "      <th></th>\n",
       "      <th>N_days</th>\n",
       "      <th>Avg_time</th>\n",
       "      <th>Avg_N_trips</th>\n",
       "      <th>y_km</th>\n",
       "    </tr>\n",
       "  </thead>\n",
       "  <tbody>\n",
       "    <tr>\n",
       "      <th>0</th>\n",
       "      <td>1</td>\n",
       "      <td>28.633333</td>\n",
       "      <td>2.000000</td>\n",
       "      <td>2</td>\n",
       "    </tr>\n",
       "    <tr>\n",
       "      <th>0</th>\n",
       "      <td>1</td>\n",
       "      <td>98.366667</td>\n",
       "      <td>2.000000</td>\n",
       "      <td>3</td>\n",
       "    </tr>\n",
       "    <tr>\n",
       "      <th>0</th>\n",
       "      <td>1</td>\n",
       "      <td>64.141667</td>\n",
       "      <td>2.000000</td>\n",
       "      <td>5</td>\n",
       "    </tr>\n",
       "    <tr>\n",
       "      <th>0</th>\n",
       "      <td>5</td>\n",
       "      <td>31.582051</td>\n",
       "      <td>2.600000</td>\n",
       "      <td>2</td>\n",
       "    </tr>\n",
       "    <tr>\n",
       "      <th>0</th>\n",
       "      <td>15</td>\n",
       "      <td>18.133333</td>\n",
       "      <td>2.066667</td>\n",
       "      <td>4</td>\n",
       "    </tr>\n",
       "    <tr>\n",
       "      <th>...</th>\n",
       "      <td>...</td>\n",
       "      <td>...</td>\n",
       "      <td>...</td>\n",
       "      <td>...</td>\n",
       "    </tr>\n",
       "    <tr>\n",
       "      <th>0</th>\n",
       "      <td>2</td>\n",
       "      <td>68.833333</td>\n",
       "      <td>2.500000</td>\n",
       "      <td>5</td>\n",
       "    </tr>\n",
       "    <tr>\n",
       "      <th>0</th>\n",
       "      <td>1</td>\n",
       "      <td>65.625000</td>\n",
       "      <td>2.000000</td>\n",
       "      <td>5</td>\n",
       "    </tr>\n",
       "    <tr>\n",
       "      <th>0</th>\n",
       "      <td>2</td>\n",
       "      <td>22.886667</td>\n",
       "      <td>2.500000</td>\n",
       "      <td>4</td>\n",
       "    </tr>\n",
       "    <tr>\n",
       "      <th>0</th>\n",
       "      <td>1</td>\n",
       "      <td>5.666667</td>\n",
       "      <td>1.000000</td>\n",
       "      <td>4</td>\n",
       "    </tr>\n",
       "    <tr>\n",
       "      <th>0</th>\n",
       "      <td>3</td>\n",
       "      <td>84.222222</td>\n",
       "      <td>1.000000</td>\n",
       "      <td>5</td>\n",
       "    </tr>\n",
       "  </tbody>\n",
       "</table>\n",
       "<p>210 rows × 4 columns</p>\n",
       "</div>"
      ],
      "text/plain": [
       "    N_days   Avg_time  Avg_N_trips  y_km\n",
       "0        1  28.633333     2.000000     2\n",
       "0        1  98.366667     2.000000     3\n",
       "0        1  64.141667     2.000000     5\n",
       "0        5  31.582051     2.600000     2\n",
       "0       15  18.133333     2.066667     4\n",
       "..     ...        ...          ...   ...\n",
       "0        2  68.833333     2.500000     5\n",
       "0        1  65.625000     2.000000     5\n",
       "0        2  22.886667     2.500000     4\n",
       "0        1   5.666667     1.000000     4\n",
       "0        3  84.222222     1.000000     5\n",
       "\n",
       "[210 rows x 4 columns]"
      ]
     },
     "execution_count": 43,
     "metadata": {},
     "output_type": "execute_result"
    }
   ],
   "source": [
    "# Cluster = 6\n",
    "km = KMeans(n_clusters=6,\n",
    "           init='random',\n",
    "           n_init=10,\n",
    "           max_iter=300,\n",
    "           tol=1e-04,\n",
    "           random_state=0)\n",
    "y_km=km.fit_predict(X)\n",
    "\n",
    "X['y_km']=y_km.tolist()\n",
    "X"
   ]
  },
  {
   "cell_type": "code",
   "execution_count": 44,
   "id": "c2708631",
   "metadata": {
    "execution": {
     "iopub.execute_input": "2022-11-09T08:31:47.156304Z",
     "iopub.status.busy": "2022-11-09T08:31:47.154781Z",
     "iopub.status.idle": "2022-11-09T08:31:47.184469Z",
     "shell.execute_reply": "2022-11-09T08:31:47.182935Z",
     "shell.execute_reply.started": "2022-11-09T08:31:47.156304Z"
    }
   },
   "outputs": [
    {
     "data": {
      "text/html": [
       "<div>\n",
       "<style scoped>\n",
       "    .dataframe tbody tr th:only-of-type {\n",
       "        vertical-align: middle;\n",
       "    }\n",
       "\n",
       "    .dataframe tbody tr th {\n",
       "        vertical-align: top;\n",
       "    }\n",
       "\n",
       "    .dataframe thead th {\n",
       "        text-align: right;\n",
       "    }\n",
       "</style>\n",
       "<table border=\"1\" class=\"dataframe\">\n",
       "  <thead>\n",
       "    <tr style=\"text-align: right;\">\n",
       "      <th></th>\n",
       "      <th>N_days</th>\n",
       "      <th>Avg_time</th>\n",
       "      <th>Avg_N_trips</th>\n",
       "    </tr>\n",
       "    <tr>\n",
       "      <th>y_km</th>\n",
       "      <th></th>\n",
       "      <th></th>\n",
       "      <th></th>\n",
       "    </tr>\n",
       "  </thead>\n",
       "  <tbody>\n",
       "    <tr>\n",
       "      <th>0</th>\n",
       "      <td>10.230769</td>\n",
       "      <td>53.830899</td>\n",
       "      <td>2.429642</td>\n",
       "    </tr>\n",
       "    <tr>\n",
       "      <th>1</th>\n",
       "      <td>20.000000</td>\n",
       "      <td>33.966764</td>\n",
       "      <td>7.339677</td>\n",
       "    </tr>\n",
       "    <tr>\n",
       "      <th>2</th>\n",
       "      <td>3.923077</td>\n",
       "      <td>35.418841</td>\n",
       "      <td>2.594376</td>\n",
       "    </tr>\n",
       "    <tr>\n",
       "      <th>3</th>\n",
       "      <td>2.166667</td>\n",
       "      <td>107.294173</td>\n",
       "      <td>1.710317</td>\n",
       "    </tr>\n",
       "    <tr>\n",
       "      <th>4</th>\n",
       "      <td>3.606061</td>\n",
       "      <td>17.645074</td>\n",
       "      <td>2.087626</td>\n",
       "    </tr>\n",
       "    <tr>\n",
       "      <th>5</th>\n",
       "      <td>6.218750</td>\n",
       "      <td>72.967450</td>\n",
       "      <td>2.082596</td>\n",
       "    </tr>\n",
       "  </tbody>\n",
       "</table>\n",
       "</div>"
      ],
      "text/plain": [
       "         N_days    Avg_time  Avg_N_trips\n",
       "y_km                                    \n",
       "0     10.230769   53.830899     2.429642\n",
       "1     20.000000   33.966764     7.339677\n",
       "2      3.923077   35.418841     2.594376\n",
       "3      2.166667  107.294173     1.710317\n",
       "4      3.606061   17.645074     2.087626\n",
       "5      6.218750   72.967450     2.082596"
      ]
     },
     "execution_count": 44,
     "metadata": {},
     "output_type": "execute_result"
    }
   ],
   "source": [
    "# Average characteristics by cluster\n",
    "Cluster_summary = X.groupby('y_km').mean()\n",
    "Cluster_summary # 각 클러스터의 성격을 나타낸다. "
   ]
  },
  {
   "cell_type": "code",
   "execution_count": 45,
   "id": "cf6712e7",
   "metadata": {
    "execution": {
     "iopub.execute_input": "2022-11-09T08:31:47.184469Z",
     "iopub.status.busy": "2022-11-09T08:31:47.184469Z",
     "iopub.status.idle": "2022-11-09T08:31:47.231194Z",
     "shell.execute_reply": "2022-11-09T08:31:47.229200Z",
     "shell.execute_reply.started": "2022-11-09T08:31:47.184469Z"
    }
   },
   "outputs": [
    {
     "data": {
      "text/html": [
       "<div>\n",
       "<style scoped>\n",
       "    .dataframe tbody tr th:only-of-type {\n",
       "        vertical-align: middle;\n",
       "    }\n",
       "\n",
       "    .dataframe tbody tr th {\n",
       "        vertical-align: top;\n",
       "    }\n",
       "\n",
       "    .dataframe thead th {\n",
       "        text-align: right;\n",
       "    }\n",
       "</style>\n",
       "<table border=\"1\" class=\"dataframe\">\n",
       "  <thead>\n",
       "    <tr style=\"text-align: right;\">\n",
       "      <th></th>\n",
       "      <th>N_days</th>\n",
       "    </tr>\n",
       "    <tr>\n",
       "      <th>y_km</th>\n",
       "      <th></th>\n",
       "    </tr>\n",
       "  </thead>\n",
       "  <tbody>\n",
       "    <tr>\n",
       "      <th>0</th>\n",
       "      <td>24.761905</td>\n",
       "    </tr>\n",
       "    <tr>\n",
       "      <th>1</th>\n",
       "      <td>10.952381</td>\n",
       "    </tr>\n",
       "    <tr>\n",
       "      <th>2</th>\n",
       "      <td>24.761905</td>\n",
       "    </tr>\n",
       "    <tr>\n",
       "      <th>3</th>\n",
       "      <td>8.571429</td>\n",
       "    </tr>\n",
       "    <tr>\n",
       "      <th>4</th>\n",
       "      <td>15.714286</td>\n",
       "    </tr>\n",
       "    <tr>\n",
       "      <th>5</th>\n",
       "      <td>15.238095</td>\n",
       "    </tr>\n",
       "    <tr>\n",
       "      <th>All</th>\n",
       "      <td>100.000000</td>\n",
       "    </tr>\n",
       "  </tbody>\n",
       "</table>\n",
       "</div>"
      ],
      "text/plain": [
       "          N_days\n",
       "y_km            \n",
       "0      24.761905\n",
       "1      10.952381\n",
       "2      24.761905\n",
       "3       8.571429\n",
       "4      15.714286\n",
       "5      15.238095\n",
       "All   100.000000"
      ]
     },
     "execution_count": 45,
     "metadata": {},
     "output_type": "execute_result"
    }
   ],
   "source": [
    "# Market share\n",
    "Cluster_freq = pd.pivot_table(X, values='N_days', index=['y_km'], aggfunc='count', margins=True)\n",
    "Cluster_share = (Cluster_freq/Cluster_freq.loc['All'])*100 \n",
    "Cluster_share # 일종의 마켓 셰어. 프로포션. 각 클러스터가 차지하는 비율이다. 이는 매우 중요하다. "
   ]
  },
  {
   "cell_type": "code",
   "execution_count": 46,
   "id": "c6fdd2cc",
   "metadata": {
    "execution": {
     "iopub.execute_input": "2022-11-09T08:31:47.233198Z",
     "iopub.status.busy": "2022-11-09T08:31:47.233198Z",
     "iopub.status.idle": "2022-11-09T08:31:47.544554Z",
     "shell.execute_reply": "2022-11-09T08:31:47.543556Z",
     "shell.execute_reply.started": "2022-11-09T08:31:47.233198Z"
    }
   },
   "outputs": [
    {
     "data": {
      "text/plain": [
       "<AxesSubplot:xlabel='N_days', ylabel='Avg_time'>"
      ]
     },
     "execution_count": 46,
     "metadata": {},
     "output_type": "execute_result"
    },
    {
     "data": {
      "image/png": "[encoded data removed]",
      "text/plain": [
       "<Figure size 432x288 with 1 Axes>"
      ]
     },
     "metadata": {
      "needs_background": "light"
     },
     "output_type": "display_data"
    }
   ],
   "source": [
    "# Plot the results by the clusters\n",
    "import seaborn as sns\n",
    "sns.scatterplot(x = 'N_days', y = 'Avg_time', hue = 'y_km', style = 'y_km', s = 100, data = X)"
   ]
  },
  {
   "cell_type": "code",
   "execution_count": 47,
   "id": "cbeac3d0",
   "metadata": {
    "execution": {
     "iopub.execute_input": "2022-11-09T08:31:47.544554Z",
     "iopub.status.busy": "2022-11-09T08:31:47.544554Z",
     "iopub.status.idle": "2022-11-09T08:31:48.036820Z",
     "shell.execute_reply": "2022-11-09T08:31:48.035821Z",
     "shell.execute_reply.started": "2022-11-09T08:31:47.544554Z"
    }
   },
   "outputs": [
    {
     "data": {
      "text/plain": [
       "<AxesSubplot:xlabel='Avg_N_trips', ylabel='Avg_time'>"
      ]
     },
     "execution_count": 47,
     "metadata": {},
     "output_type": "execute_result"
    },
    {
     "data": {
      "image/png": "[encoded data removed]",
      "text/plain": [
       "<Figure size 432x288 with 1 Axes>"
      ]
     },
     "metadata": {
      "needs_background": "light"
     },
     "output_type": "display_data"
    }
   ],
   "source": [
    "sns.scatterplot(x = 'Avg_N_trips', y = 'Avg_time', hue = 'y_km', style = 'y_km', s = 100, data = X)"
   ]
  },
  {
   "cell_type": "code",
   "execution_count": 48,
   "id": "0901f9a5",
   "metadata": {
    "execution": {
     "iopub.execute_input": "2022-11-09T08:31:48.037817Z",
     "iopub.status.busy": "2022-11-09T08:31:48.037817Z",
     "iopub.status.idle": "2022-11-09T08:31:48.356007Z",
     "shell.execute_reply": "2022-11-09T08:31:48.353007Z",
     "shell.execute_reply.started": "2022-11-09T08:31:48.037817Z"
    }
   },
   "outputs": [
    {
     "data": {
      "text/plain": [
       "<AxesSubplot:xlabel='Avg_N_trips', ylabel='N_days'>"
      ]
     },
     "execution_count": 48,
     "metadata": {},
     "output_type": "execute_result"
    },
    {
     "data": {
      "image/png": "[encoded data removed]",
      "text/plain": [
       "<Figure size 432x288 with 1 Axes>"
      ]
     },
     "metadata": {
      "needs_background": "light"
     },
     "output_type": "display_data"
    }
   ],
   "source": [
    "sns.scatterplot(x = 'Avg_N_trips', y = 'N_days', hue = 'y_km', style = 'y_km', s = 100, data = X)"
   ]
  },
  {
   "cell_type": "markdown",
   "id": "68fe0252",
   "metadata": {},
   "source": [
    "### Application"
   ]
  },
  {
   "cell_type": "markdown",
   "id": "2bdc66be",
   "metadata": {},
   "source": [
    "#### There is a dataset of vehcle ID 1347674 (\"Navi_data_single_veh.csv\"). What type of driver is the owner of this vehicle?\n",
    "* 머신러닝 관점에서, 우리는 어떤 것을 예측할 수 있다."
   ]
  },
  {
   "cell_type": "code",
   "execution_count": 49,
   "id": "3ed8f19a",
   "metadata": {
    "execution": {
     "iopub.execute_input": "2022-11-09T08:31:48.356965Z",
     "iopub.status.busy": "2022-11-09T08:31:48.356965Z",
     "iopub.status.idle": "2022-11-09T08:31:48.385888Z",
     "shell.execute_reply": "2022-11-09T08:31:48.384919Z",
     "shell.execute_reply.started": "2022-11-09T08:31:48.356965Z"
    }
   },
   "outputs": [
    {
     "ename": "FileNotFoundError",
     "evalue": "[Errno 2] No such file or directory: 'Navi_data_single_veh.csv'",
     "output_type": "error",
     "traceback": [
      "\u001b[1;31m---------------------------------------------------------------------------\u001b[0m",
      "\u001b[1;31mFileNotFoundError\u001b[0m                         Traceback (most recent call last)",
      "\u001b[1;32m<ipython-input-49-d82b8723d7fe>\u001b[0m in \u001b[0;36m<module>\u001b[1;34m\u001b[0m\n\u001b[1;32m----> 1\u001b[1;33m \u001b[0mTdata\u001b[0m \u001b[1;33m=\u001b[0m \u001b[0mpd\u001b[0m\u001b[1;33m.\u001b[0m\u001b[0mread_csv\u001b[0m\u001b[1;33m(\u001b[0m\u001b[1;34m\"Navi_data_single_veh.csv\"\u001b[0m\u001b[1;33m)\u001b[0m\u001b[1;33m\u001b[0m\u001b[1;33m\u001b[0m\u001b[0m\n\u001b[0m\u001b[0;32m      2\u001b[0m \u001b[0mTdata\u001b[0m\u001b[1;33m\u001b[0m\u001b[1;33m\u001b[0m\u001b[0m\n",
      "\u001b[1;32mC:\\dev\\Anaconda_3\\lib\\site-packages\\pandas\\io\\parsers.py\u001b[0m in \u001b[0;36mread_csv\u001b[1;34m(filepath_or_buffer, sep, delimiter, header, names, index_col, usecols, squeeze, prefix, mangle_dupe_cols, dtype, engine, converters, true_values, false_values, skipinitialspace, skiprows, skipfooter, nrows, na_values, keep_default_na, na_filter, verbose, skip_blank_lines, parse_dates, infer_datetime_format, keep_date_col, date_parser, dayfirst, cache_dates, iterator, chunksize, compression, thousands, decimal, lineterminator, quotechar, quoting, doublequote, escapechar, comment, encoding, dialect, error_bad_lines, warn_bad_lines, delim_whitespace, low_memory, memory_map, float_precision, storage_options)\u001b[0m\n\u001b[0;32m    608\u001b[0m     \u001b[0mkwds\u001b[0m\u001b[1;33m.\u001b[0m\u001b[0mupdate\u001b[0m\u001b[1;33m(\u001b[0m\u001b[0mkwds_defaults\u001b[0m\u001b[1;33m)\u001b[0m\u001b[1;33m\u001b[0m\u001b[1;33m\u001b[0m\u001b[0m\n\u001b[0;32m    609\u001b[0m \u001b[1;33m\u001b[0m\u001b[0m\n\u001b[1;32m--> 610\u001b[1;33m     \u001b[1;32mreturn\u001b[0m \u001b[0m_read\u001b[0m\u001b[1;33m(\u001b[0m\u001b[0mfilepath_or_buffer\u001b[0m\u001b[1;33m,\u001b[0m \u001b[0mkwds\u001b[0m\u001b[1;33m)\u001b[0m\u001b[1;33m\u001b[0m\u001b[1;33m\u001b[0m\u001b[0m\n\u001b[0m\u001b[0;32m    611\u001b[0m \u001b[1;33m\u001b[0m\u001b[0m\n\u001b[0;32m    612\u001b[0m \u001b[1;33m\u001b[0m\u001b[0m\n",
      "\u001b[1;32mC:\\dev\\Anaconda_3\\lib\\site-packages\\pandas\\io\\parsers.py\u001b[0m in \u001b[0;36m_read\u001b[1;34m(filepath_or_buffer, kwds)\u001b[0m\n\u001b[0;32m    460\u001b[0m \u001b[1;33m\u001b[0m\u001b[0m\n\u001b[0;32m    461\u001b[0m     \u001b[1;31m# Create the parser.\u001b[0m\u001b[1;33m\u001b[0m\u001b[1;33m\u001b[0m\u001b[1;33m\u001b[0m\u001b[0m\n\u001b[1;32m--> 462\u001b[1;33m     \u001b[0mparser\u001b[0m \u001b[1;33m=\u001b[0m \u001b[0mTextFileReader\u001b[0m\u001b[1;33m(\u001b[0m\u001b[0mfilepath_or_buffer\u001b[0m\u001b[1;33m,\u001b[0m \u001b[1;33m**\u001b[0m\u001b[0mkwds\u001b[0m\u001b[1;33m)\u001b[0m\u001b[1;33m\u001b[0m\u001b[1;33m\u001b[0m\u001b[0m\n\u001b[0m\u001b[0;32m    463\u001b[0m \u001b[1;33m\u001b[0m\u001b[0m\n\u001b[0;32m    464\u001b[0m     \u001b[1;32mif\u001b[0m \u001b[0mchunksize\u001b[0m \u001b[1;32mor\u001b[0m \u001b[0miterator\u001b[0m\u001b[1;33m:\u001b[0m\u001b[1;33m\u001b[0m\u001b[1;33m\u001b[0m\u001b[0m\n",
      "\u001b[1;32mC:\\dev\\Anaconda_3\\lib\\site-packages\\pandas\\io\\parsers.py\u001b[0m in \u001b[0;36m__init__\u001b[1;34m(self, f, engine, **kwds)\u001b[0m\n\u001b[0;32m    817\u001b[0m             \u001b[0mself\u001b[0m\u001b[1;33m.\u001b[0m\u001b[0moptions\u001b[0m\u001b[1;33m[\u001b[0m\u001b[1;34m\"has_index_names\"\u001b[0m\u001b[1;33m]\u001b[0m \u001b[1;33m=\u001b[0m \u001b[0mkwds\u001b[0m\u001b[1;33m[\u001b[0m\u001b[1;34m\"has_index_names\"\u001b[0m\u001b[1;33m]\u001b[0m\u001b[1;33m\u001b[0m\u001b[1;33m\u001b[0m\u001b[0m\n\u001b[0;32m    818\u001b[0m \u001b[1;33m\u001b[0m\u001b[0m\n\u001b[1;32m--> 819\u001b[1;33m         \u001b[0mself\u001b[0m\u001b[1;33m.\u001b[0m\u001b[0m_engine\u001b[0m \u001b[1;33m=\u001b[0m \u001b[0mself\u001b[0m\u001b[1;33m.\u001b[0m\u001b[0m_make_engine\u001b[0m\u001b[1;33m(\u001b[0m\u001b[0mself\u001b[0m\u001b[1;33m.\u001b[0m\u001b[0mengine\u001b[0m\u001b[1;33m)\u001b[0m\u001b[1;33m\u001b[0m\u001b[1;33m\u001b[0m\u001b[0m\n\u001b[0m\u001b[0;32m    820\u001b[0m \u001b[1;33m\u001b[0m\u001b[0m\n\u001b[0;32m    821\u001b[0m     \u001b[1;32mdef\u001b[0m \u001b[0mclose\u001b[0m\u001b[1;33m(\u001b[0m\u001b[0mself\u001b[0m\u001b[1;33m)\u001b[0m\u001b[1;33m:\u001b[0m\u001b[1;33m\u001b[0m\u001b[1;33m\u001b[0m\u001b[0m\n",
      "\u001b[1;32mC:\\dev\\Anaconda_3\\lib\\site-packages\\pandas\\io\\parsers.py\u001b[0m in \u001b[0;36m_make_engine\u001b[1;34m(self, engine)\u001b[0m\n\u001b[0;32m   1048\u001b[0m             )\n\u001b[0;32m   1049\u001b[0m         \u001b[1;31m# error: Too many arguments for \"ParserBase\"\u001b[0m\u001b[1;33m\u001b[0m\u001b[1;33m\u001b[0m\u001b[1;33m\u001b[0m\u001b[0m\n\u001b[1;32m-> 1050\u001b[1;33m         \u001b[1;32mreturn\u001b[0m \u001b[0mmapping\u001b[0m\u001b[1;33m[\u001b[0m\u001b[0mengine\u001b[0m\u001b[1;33m]\u001b[0m\u001b[1;33m(\u001b[0m\u001b[0mself\u001b[0m\u001b[1;33m.\u001b[0m\u001b[0mf\u001b[0m\u001b[1;33m,\u001b[0m \u001b[1;33m**\u001b[0m\u001b[0mself\u001b[0m\u001b[1;33m.\u001b[0m\u001b[0moptions\u001b[0m\u001b[1;33m)\u001b[0m  \u001b[1;31m# type: ignore[call-arg]\u001b[0m\u001b[1;33m\u001b[0m\u001b[1;33m\u001b[0m\u001b[0m\n\u001b[0m\u001b[0;32m   1051\u001b[0m \u001b[1;33m\u001b[0m\u001b[0m\n\u001b[0;32m   1052\u001b[0m     \u001b[1;32mdef\u001b[0m \u001b[0m_failover_to_python\u001b[0m\u001b[1;33m(\u001b[0m\u001b[0mself\u001b[0m\u001b[1;33m)\u001b[0m\u001b[1;33m:\u001b[0m\u001b[1;33m\u001b[0m\u001b[1;33m\u001b[0m\u001b[0m\n",
      "\u001b[1;32mC:\\dev\\Anaconda_3\\lib\\site-packages\\pandas\\io\\parsers.py\u001b[0m in \u001b[0;36m__init__\u001b[1;34m(self, src, **kwds)\u001b[0m\n\u001b[0;32m   1865\u001b[0m \u001b[1;33m\u001b[0m\u001b[0m\n\u001b[0;32m   1866\u001b[0m         \u001b[1;31m# open handles\u001b[0m\u001b[1;33m\u001b[0m\u001b[1;33m\u001b[0m\u001b[1;33m\u001b[0m\u001b[0m\n\u001b[1;32m-> 1867\u001b[1;33m         \u001b[0mself\u001b[0m\u001b[1;33m.\u001b[0m\u001b[0m_open_handles\u001b[0m\u001b[1;33m(\u001b[0m\u001b[0msrc\u001b[0m\u001b[1;33m,\u001b[0m \u001b[0mkwds\u001b[0m\u001b[1;33m)\u001b[0m\u001b[1;33m\u001b[0m\u001b[1;33m\u001b[0m\u001b[0m\n\u001b[0m\u001b[0;32m   1868\u001b[0m         \u001b[1;32massert\u001b[0m \u001b[0mself\u001b[0m\u001b[1;33m.\u001b[0m\u001b[0mhandles\u001b[0m \u001b[1;32mis\u001b[0m \u001b[1;32mnot\u001b[0m \u001b[1;32mNone\u001b[0m\u001b[1;33m\u001b[0m\u001b[1;33m\u001b[0m\u001b[0m\n\u001b[0;32m   1869\u001b[0m         \u001b[1;32mfor\u001b[0m \u001b[0mkey\u001b[0m \u001b[1;32min\u001b[0m \u001b[1;33m(\u001b[0m\u001b[1;34m\"storage_options\"\u001b[0m\u001b[1;33m,\u001b[0m \u001b[1;34m\"encoding\"\u001b[0m\u001b[1;33m,\u001b[0m \u001b[1;34m\"memory_map\"\u001b[0m\u001b[1;33m,\u001b[0m \u001b[1;34m\"compression\"\u001b[0m\u001b[1;33m)\u001b[0m\u001b[1;33m:\u001b[0m\u001b[1;33m\u001b[0m\u001b[1;33m\u001b[0m\u001b[0m\n",
      "\u001b[1;32mC:\\dev\\Anaconda_3\\lib\\site-packages\\pandas\\io\\parsers.py\u001b[0m in \u001b[0;36m_open_handles\u001b[1;34m(self, src, kwds)\u001b[0m\n\u001b[0;32m   1360\u001b[0m         \u001b[0mLet\u001b[0m \u001b[0mthe\u001b[0m \u001b[0mreaders\u001b[0m \u001b[0mopen\u001b[0m \u001b[0mIOHanldes\u001b[0m \u001b[0mafter\u001b[0m \u001b[0mthey\u001b[0m \u001b[0mare\u001b[0m \u001b[0mdone\u001b[0m \u001b[1;32mwith\u001b[0m \u001b[0mtheir\u001b[0m \u001b[0mpotential\u001b[0m \u001b[0mraises\u001b[0m\u001b[1;33m.\u001b[0m\u001b[1;33m\u001b[0m\u001b[1;33m\u001b[0m\u001b[0m\n\u001b[0;32m   1361\u001b[0m         \"\"\"\n\u001b[1;32m-> 1362\u001b[1;33m         self.handles = get_handle(\n\u001b[0m\u001b[0;32m   1363\u001b[0m             \u001b[0msrc\u001b[0m\u001b[1;33m,\u001b[0m\u001b[1;33m\u001b[0m\u001b[1;33m\u001b[0m\u001b[0m\n\u001b[0;32m   1364\u001b[0m             \u001b[1;34m\"r\"\u001b[0m\u001b[1;33m,\u001b[0m\u001b[1;33m\u001b[0m\u001b[1;33m\u001b[0m\u001b[0m\n",
      "\u001b[1;32mC:\\dev\\Anaconda_3\\lib\\site-packages\\pandas\\io\\common.py\u001b[0m in \u001b[0;36mget_handle\u001b[1;34m(path_or_buf, mode, encoding, compression, memory_map, is_text, errors, storage_options)\u001b[0m\n\u001b[0;32m    640\u001b[0m                 \u001b[0merrors\u001b[0m \u001b[1;33m=\u001b[0m \u001b[1;34m\"replace\"\u001b[0m\u001b[1;33m\u001b[0m\u001b[1;33m\u001b[0m\u001b[0m\n\u001b[0;32m    641\u001b[0m             \u001b[1;31m# Encoding\u001b[0m\u001b[1;33m\u001b[0m\u001b[1;33m\u001b[0m\u001b[1;33m\u001b[0m\u001b[0m\n\u001b[1;32m--> 642\u001b[1;33m             handle = open(\n\u001b[0m\u001b[0;32m    643\u001b[0m                 \u001b[0mhandle\u001b[0m\u001b[1;33m,\u001b[0m\u001b[1;33m\u001b[0m\u001b[1;33m\u001b[0m\u001b[0m\n\u001b[0;32m    644\u001b[0m                 \u001b[0mioargs\u001b[0m\u001b[1;33m.\u001b[0m\u001b[0mmode\u001b[0m\u001b[1;33m,\u001b[0m\u001b[1;33m\u001b[0m\u001b[1;33m\u001b[0m\u001b[0m\n",
      "\u001b[1;31mFileNotFoundError\u001b[0m: [Errno 2] No such file or directory: 'Navi_data_single_veh.csv'"
     ]
    }
   ],
   "source": [
    "Tdata = pd.read_csv(\"Navi_data_single_veh.csv\") \n",
    "Tdata"
   ]
  },
  {
   "cell_type": "code",
   "execution_count": null,
   "id": "a4ec9339",
   "metadata": {
    "execution": {
     "iopub.status.busy": "2022-11-09T08:31:48.386920Z",
     "iopub.status.idle": "2022-11-09T08:31:48.386920Z",
     "shell.execute_reply": "2022-11-09T08:31:48.386920Z"
    }
   },
   "outputs": [],
   "source": [
    "X=Extract_veh_use(1347674)\n",
    "X"
   ]
  },
  {
   "cell_type": "code",
   "execution_count": null,
   "id": "80a5e14e",
   "metadata": {
    "execution": {
     "iopub.status.busy": "2022-11-09T08:31:48.387885Z",
     "iopub.status.idle": "2022-11-09T08:31:48.387885Z",
     "shell.execute_reply": "2022-11-09T08:31:48.387885Z"
    }
   },
   "outputs": [],
   "source": [
    "km.predict(X)"
   ]
  },
  {
   "cell_type": "code",
   "execution_count": null,
   "id": "4c1ea73a",
   "metadata": {
    "execution": {
     "iopub.status.busy": "2022-11-09T08:31:48.388921Z",
     "iopub.status.idle": "2022-11-09T08:31:48.389912Z",
     "shell.execute_reply": "2022-11-09T08:31:48.389912Z"
    }
   },
   "outputs": [],
   "source": [
    "print(km.predict(X))"
   ]
  },
  {
   "cell_type": "code",
   "execution_count": null,
   "id": "7251133b",
   "metadata": {},
   "outputs": [],
   "source": []
  }
 ],
 "metadata": {
  "kernelspec": {
   "display_name": "Python 3",
   "language": "python",
   "name": "python3"
  },
  "language_info": {
   "codemirror_mode": {
    "name": "ipython",
    "version": 3
   },
   "file_extension": ".py",
   "mimetype": "text/x-python",
   "name": "python",
   "nbconvert_exporter": "python",
   "pygments_lexer": "ipython3",
   "version": "3.8.8"
  }
 },
 "nbformat": 4,
 "nbformat_minor": 5
}
