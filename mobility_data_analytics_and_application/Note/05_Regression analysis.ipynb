{
 "cells": [
  {
   "cell_type": "markdown",
   "id": "f3615a0f",
   "metadata": {},
   "source": [
    "# Preparation"
   ]
  },
  {
   "cell_type": "markdown",
   "id": "3de69702",
   "metadata": {},
   "source": [
    "### Data for exercise"
   ]
  },
  {
   "cell_type": "markdown",
   "id": "64ae2529",
   "metadata": {},
   "source": [
    "- \"Pdata.csv\" (Used in \"Fundamental of data analysis\")"
   ]
  },
  {
   "cell_type": "markdown",
   "id": "82426eac",
   "metadata": {},
   "source": [
    "### Data import & set-up"
   ]
  },
  {
   "cell_type": "code",
   "execution_count": null,
   "id": "d09de3bb",
   "metadata": {},
   "outputs": [],
   "source": [
    "import pandas as pd\n",
    "Pdata = pd.read_csv(\"Pdata.csv\")\n",
    "Pdata"
   ]
  },
  {
   "cell_type": "code",
   "execution_count": null,
   "id": "30ba185e",
   "metadata": {},
   "outputs": [],
   "source": [
    "# Create \"Age\"\n",
    "Pdata[\"Age\"] = 2016-Pdata[\"Byear\"]\n",
    "Pdata"
   ]
  },
  {
   "cell_type": "code",
   "execution_count": null,
   "id": "907ed665",
   "metadata": {},
   "outputs": [],
   "source": [
    "# Categorize job: 'Unemployed' = 0, 'Employed' = 1\n",
    "def Job_category(row):\n",
    "    if (row['Job'] == 7)|(row['Job'] == 8):\n",
    "        return 0 # Unemployed\n",
    "    else:\n",
    "        return 1 # Employed\n",
    "\n",
    "Pdata['Employed'] = Pdata.apply(lambda row: Job_category(row), axis=1)\n",
    "\n",
    "Pdata"
   ]
  },
  {
   "cell_type": "code",
   "execution_count": null,
   "id": "23264441",
   "metadata": {},
   "outputs": [],
   "source": [
    "# Transform nominal variable to bianry variable: Ncars => Own=1, Non-own=0\n",
    "def Ncars_modi(row):\n",
    "    if (row['Ncars'] == 1):\n",
    "        return 1 # Own\n",
    "    else:\n",
    "        return 0 # Non-own\n",
    "\n",
    "Pdata['Car_own'] = Pdata.apply(lambda row: Ncars_modi(row), axis=1)\n",
    "\n",
    "Pdata"
   ]
  },
  {
   "cell_type": "code",
   "execution_count": null,
   "id": "440b1163",
   "metadata": {},
   "outputs": [],
   "source": [
    "# Transform nominal variable to bianry variable: Gender => Male=1, Female=0\n",
    "def Gender_modi(row):\n",
    "    if (row['Gender'] == 1):\n",
    "        return 1 # Male\n",
    "    else:\n",
    "        return 0 # Female\n",
    "\n",
    "Pdata['Male'] = Pdata.apply(lambda row: Gender_modi(row), axis=1)\n",
    "\n",
    "Pdata"
   ]
  },
  {
   "cell_type": "code",
   "execution_count": null,
   "id": "a00f7daa",
   "metadata": {},
   "outputs": [],
   "source": [
    "# Transform nominal variable to bianry variable: License => Own=1, Non-own=0\n",
    "def Licence_modi(row):\n",
    "    if (row['Licence'] == 1):\n",
    "        return 1 # Own\n",
    "    else:\n",
    "        return 0 # Non-own\n",
    "\n",
    "Pdata['Licence_own'] = Pdata.apply(lambda row: Licence_modi(row), axis=1)\n",
    "\n",
    "Pdata"
   ]
  },
  {
   "cell_type": "code",
   "execution_count": null,
   "id": "b6b36c8e",
   "metadata": {},
   "outputs": [],
   "source": [
    "# Select variable: Create a dataframe \"Pdata_sel\" with HHinc, NofTrips, TripTime, Work_TT, Work_AD, Shop_TT, Shop_AD, Age, Employed, Car_own, Male, Licence_own\n",
    "Pdata_sel=Pdata[['HHinc', 'NofTrips', 'TripTime', 'Work_TT', 'Work_AD', 'Shop_TT', 'Shop_AD', 'Age', 'Employed', 'Car_own', 'Male', 'Licence_own']]\n",
    "Pdata_sel"
   ]
  },
  {
   "cell_type": "code",
   "execution_count": null,
   "id": "a79ae57c",
   "metadata": {},
   "outputs": [],
   "source": [
    "# Create a pair plot using Seaborn\n",
    "import seaborn as sns\n",
    "sns.pairplot(Pdata_sel[['HHinc', 'NofTrips', 'TripTime', 'Work_TT', 'Work_AD', 'Shop_TT', 'Shop_AD', 'Age']])"
   ]
  },
  {
   "cell_type": "markdown",
   "id": "bec76c7f",
   "metadata": {},
   "source": [
    "# About \"Scikit-learn\" Package"
   ]
  },
  {
   "cell_type": "markdown",
   "id": "2f58b697",
   "metadata": {},
   "source": [
    "- https://scikit-learn.org/stable/"
   ]
  },
  {
   "cell_type": "markdown",
   "id": "8b244596",
   "metadata": {},
   "source": [
    "# Linear Regression"
   ]
  },
  {
   "cell_type": "markdown",
   "id": "5e83affb",
   "metadata": {},
   "source": [
    "### Problem definition"
   ]
  },
  {
   "cell_type": "markdown",
   "id": "5f2422bb",
   "metadata": {},
   "source": [
    "- What type of person does spend much time for trips?\n",
    "- Which socio-demographic characteristics does affect travel time?\n",
    "- Can we predict an individual's travel time for a day if we know his/her socio-demographic chracteristics?\n",
    "\n",
    "- Dependent variable = 'TripTime'\n",
    "- Independent variables = 'HHinc', 'Age', 'Employed', 'Car_own', 'Male', 'Licence_own'"
   ]
  },
  {
   "cell_type": "markdown",
   "id": "33c84825",
   "metadata": {},
   "source": [
    "### Data cleaning"
   ]
  },
  {
   "cell_type": "code",
   "execution_count": null,
   "id": "946ab939",
   "metadata": {
    "scrolled": true
   },
   "outputs": [],
   "source": [
    "Pdata_sel.head(50)"
   ]
  },
  {
   "cell_type": "code",
   "execution_count": null,
   "id": "845f0d53",
   "metadata": {},
   "outputs": [],
   "source": [
    "# Drop NaN\n",
    "Pdata_sel=Pdata_sel.dropna()"
   ]
  },
  {
   "cell_type": "code",
   "execution_count": null,
   "id": "d00c638d",
   "metadata": {},
   "outputs": [],
   "source": [
    "# Check the result\n",
    "Pdata_sel.head(50)"
   ]
  },
  {
   "cell_type": "markdown",
   "id": "b3920e0c",
   "metadata": {},
   "source": [
    "### Parameter estimation (Learning)"
   ]
  },
  {
   "cell_type": "markdown",
   "id": "4caac86d",
   "metadata": {},
   "source": [
    "https://scikit-learn.org/stable/modules/generated/sklearn.linear_model.LinearRegression.html"
   ]
  },
  {
   "cell_type": "code",
   "execution_count": null,
   "id": "01576876",
   "metadata": {},
   "outputs": [],
   "source": [
    "# Using scikit-learn\n",
    "from sklearn.linear_model import LinearRegression\n",
    "LR=LinearRegression()\n",
    "X=Pdata_sel[['HHinc', 'Age', 'Employed', 'Car_own', 'Male', 'Licence_own']]\n",
    "y=Pdata_sel['TripTime']\n",
    "LR.fit(X,y)"
   ]
  },
  {
   "cell_type": "code",
   "execution_count": null,
   "id": "e52be872",
   "metadata": {},
   "outputs": [],
   "source": [
    "# Reporting results: Estimates (coefficient)\n",
    "LR.coef_"
   ]
  },
  {
   "cell_type": "code",
   "execution_count": null,
   "id": "2b1ae3c4",
   "metadata": {},
   "outputs": [],
   "source": [
    "# Reporting results: Intercept\n",
    "LR.intercept_"
   ]
  },
  {
   "cell_type": "code",
   "execution_count": null,
   "id": "5d6ce533",
   "metadata": {},
   "outputs": [],
   "source": [
    "# Reporting results: Score\n",
    "LR.score(X,y)"
   ]
  },
  {
   "cell_type": "markdown",
   "id": "b76f36fa",
   "metadata": {},
   "source": [
    "### Prediction (Application)"
   ]
  },
  {
   "cell_type": "markdown",
   "id": "14646121",
   "metadata": {},
   "source": [
    "Predict the travel time for a day of the following 5 persons using the estimated model"
   ]
  },
  {
   "cell_type": "code",
   "execution_count": null,
   "id": "56b68335",
   "metadata": {},
   "outputs": [],
   "source": [
    "# Data of 5 persons\n",
    "import numpy as np\n",
    "Data = np.array([[2,35,1,1,1,1],[5,48,0,0,0,1],[3,55,1,0,1,1],[2,35,1,1,1,0],[1,21,0,1,0,0]])\n",
    "Data"
   ]
  },
  {
   "cell_type": "code",
   "execution_count": null,
   "id": "9d902afc",
   "metadata": {},
   "outputs": [],
   "source": [
    "# Prediction\n",
    "LR.predict(Data)"
   ]
  },
  {
   "cell_type": "markdown",
   "id": "2403562a",
   "metadata": {},
   "source": [
    "### Another method for estimating parameters and reporting the results"
   ]
  },
  {
   "cell_type": "code",
   "execution_count": null,
   "id": "c5959da8",
   "metadata": {},
   "outputs": [],
   "source": [
    "import statsmodels.api as sm"
   ]
  },
  {
   "cell_type": "code",
   "execution_count": null,
   "id": "2a5d410e",
   "metadata": {},
   "outputs": [],
   "source": [
    "# Add contsnt\n",
    "X2=sm.add_constant(X)\n",
    "X2"
   ]
  },
  {
   "cell_type": "code",
   "execution_count": null,
   "id": "766e7aa8",
   "metadata": {},
   "outputs": [],
   "source": [
    "# Estimation\n",
    "Result = sm.OLS(y,X2)"
   ]
  },
  {
   "cell_type": "code",
   "execution_count": null,
   "id": "3de34d07",
   "metadata": {},
   "outputs": [],
   "source": [
    "# Reporting\n",
    "print(Result.fit().summary())"
   ]
  },
  {
   "cell_type": "markdown",
   "id": "6af7b863",
   "metadata": {},
   "source": [
    "# Logistic Regression"
   ]
  },
  {
   "cell_type": "markdown",
   "id": "0e5592e0",
   "metadata": {},
   "source": [
    "### Problem definition 1"
   ]
  },
  {
   "cell_type": "markdown",
   "id": "a921a772",
   "metadata": {},
   "source": [
    "- Which type of person does tend to conduct shopping? \n",
    "- What are the factors affecting shopping trip generation of each individual?\n",
    "\n",
    "- Dependent variable = Shop\n",
    "- Independent variables = 'Age', 'Employed', 'Car_own', 'Male', 'HHinc_1','HHinc_2','HHinc_3','HHinc_4','HHinc_5', 'Work_TT', 'Work_AD'"
   ]
  },
  {
   "cell_type": "markdown",
   "id": "e657a991",
   "metadata": {},
   "source": [
    "### Create \"Shop\" variable = 1 if shopping trip exists, otherwise 0"
   ]
  },
  {
   "cell_type": "code",
   "execution_count": null,
   "id": "63def98f",
   "metadata": {},
   "outputs": [],
   "source": [
    "def Shop_create(row):\n",
    "    if (row['Shop_TT'] > 0):\n",
    "        return 1\n",
    "    else:\n",
    "        return 0\n",
    "\n",
    "Pdata_sel['Shop'] = Pdata_sel.apply(lambda row: Shop_create(row), axis=1)\n",
    "\n",
    "Pdata_sel"
   ]
  },
  {
   "cell_type": "markdown",
   "id": "e70090fd",
   "metadata": {},
   "source": [
    "### Dummy coding for household income"
   ]
  },
  {
   "cell_type": "code",
   "execution_count": null,
   "id": "0f14b098",
   "metadata": {},
   "outputs": [],
   "source": [
    "def HHinc_1(row):\n",
    "    if (row['HHinc'] == 1):\n",
    "        return 1\n",
    "    else:\n",
    "        return 0\n",
    "    \n",
    "def HHinc_2(row):\n",
    "    if (row['HHinc'] == 2):\n",
    "        return 1\n",
    "    else:\n",
    "        return 0\n",
    "    \n",
    "def HHinc_3(row):\n",
    "    if (row['HHinc'] == 3):\n",
    "        return 1\n",
    "    else:\n",
    "        return 0\n",
    "\n",
    "def HHinc_4(row):\n",
    "    if (row['HHinc'] == 4):\n",
    "        return 1\n",
    "    else:\n",
    "        return 0\n",
    "    \n",
    "def HHinc_5(row):\n",
    "    if (row['HHinc'] == 5):\n",
    "        return 1\n",
    "    else:\n",
    "        return 0\n",
    "\n",
    "Pdata_sel['HHinc_1'] = Pdata_sel.apply(lambda row: HHinc_1(row), axis=1)\n",
    "Pdata_sel['HHinc_2'] = Pdata_sel.apply(lambda row: HHinc_2(row), axis=1)\n",
    "Pdata_sel['HHinc_3'] = Pdata_sel.apply(lambda row: HHinc_3(row), axis=1)\n",
    "Pdata_sel['HHinc_4'] = Pdata_sel.apply(lambda row: HHinc_4(row), axis=1)\n",
    "Pdata_sel['HHinc_5'] = Pdata_sel.apply(lambda row: HHinc_5(row), axis=1)\n",
    "\n",
    "Pdata_sel"
   ]
  },
  {
   "cell_type": "markdown",
   "id": "2e508048",
   "metadata": {},
   "source": [
    "### Parameter estimation (Learning)"
   ]
  },
  {
   "cell_type": "markdown",
   "id": "6b10f167",
   "metadata": {},
   "source": [
    "https://scikit-learn.org/stable/modules/generated/sklearn.linear_model.LogisticRegression.html"
   ]
  },
  {
   "cell_type": "code",
   "execution_count": null,
   "id": "b3222aea",
   "metadata": {},
   "outputs": [],
   "source": [
    "# Using scikit-learn\n",
    "from sklearn.linear_model import LogisticRegression\n",
    "LGR=LogisticRegression()\n",
    "X=Pdata_sel[['Age', 'Car_own', 'Male', 'Work_TT', 'Work_AD']]\n",
    "y=Pdata_sel['Shop']\n",
    "LGR.fit(X,y)"
   ]
  },
  {
   "cell_type": "code",
   "execution_count": null,
   "id": "76561a2a",
   "metadata": {},
   "outputs": [],
   "source": [
    "# Reporting\n",
    "print(LGR.coef_)\n",
    "print(LGR.intercept_)\n",
    "print(LGR.score(X,y))"
   ]
  },
  {
   "cell_type": "markdown",
   "id": "8cf72266",
   "metadata": {},
   "source": [
    "### Another method for estimating parameters and reporting the results"
   ]
  },
  {
   "cell_type": "code",
   "execution_count": null,
   "id": "c9c522f7",
   "metadata": {},
   "outputs": [],
   "source": [
    "# Using statsmodels\n",
    "X2=sm.add_constant(X)\n",
    "Result=sm.Logit(y,X2).fit()\n",
    "print(Result.summary())"
   ]
  },
  {
   "cell_type": "markdown",
   "id": "d945d585",
   "metadata": {},
   "source": [
    "### Problem definition 2"
   ]
  },
  {
   "cell_type": "markdown",
   "id": "00000a81",
   "metadata": {},
   "source": [
    "- Can we determine an individual whether he/she owns a private car based on his/her mobility pattern?\n",
    "- Develop a machine learning model of car-ownership judegment using mobility data of individual\n",
    "\n",
    "- Dependent variable = Car_own\n",
    "- Independent variables = 'Work_TT', 'Work_AD', 'Shop_TT', 'Shop_AD'"
   ]
  },
  {
   "cell_type": "markdown",
   "id": "e34e2721",
   "metadata": {},
   "source": [
    "### Partitioning dataset into separate traning and test sets"
   ]
  },
  {
   "cell_type": "code",
   "execution_count": null,
   "id": "ced7d622",
   "metadata": {},
   "outputs": [],
   "source": [
    "# Using scikit-learn\n",
    "from sklearn.model_selection import train_test_split\n",
    "X=Pdata_sel[['Work_TT', 'Work_AD', 'Shop_TT', 'Shop_AD']]\n",
    "y=Pdata_sel['Car_own']\n",
    "X_train, X_test, y_train, y_test = train_test_split(X,y,\n",
    "                                                   test_size=0.3, #30% => test set\n",
    "                                                   random_state=0,\n",
    "                                                    stratify=y)"
   ]
  },
  {
   "cell_type": "code",
   "execution_count": null,
   "id": "1dee24de",
   "metadata": {},
   "outputs": [],
   "source": [
    "X_train.describe()"
   ]
  },
  {
   "cell_type": "code",
   "execution_count": null,
   "id": "684cb247",
   "metadata": {
    "scrolled": true
   },
   "outputs": [],
   "source": [
    "X_test.describe()"
   ]
  },
  {
   "cell_type": "code",
   "execution_count": null,
   "id": "682d0923",
   "metadata": {},
   "outputs": [],
   "source": [
    "y_train.describe()"
   ]
  },
  {
   "cell_type": "code",
   "execution_count": null,
   "id": "69f675fd",
   "metadata": {},
   "outputs": [],
   "source": [
    "y_test.describe()"
   ]
  },
  {
   "cell_type": "markdown",
   "id": "3a407a0f",
   "metadata": {},
   "source": [
    "### Parameter estimation (Learning)"
   ]
  },
  {
   "cell_type": "code",
   "execution_count": null,
   "id": "1a4430b8",
   "metadata": {},
   "outputs": [],
   "source": [
    "LGR=LogisticRegression()\n",
    "LGR.fit(X_train,y_train)\n",
    "print(LGR.coef_)\n",
    "print(LGR.intercept_)\n",
    "print(LGR.score(X_train,y_train))"
   ]
  },
  {
   "cell_type": "markdown",
   "id": "530b80b8",
   "metadata": {},
   "source": [
    "### Evaluation"
   ]
  },
  {
   "cell_type": "code",
   "execution_count": null,
   "id": "c44d9add",
   "metadata": {},
   "outputs": [],
   "source": [
    "# Predition of probability using the test data set\n",
    "LGR.predict_proba(X_test)"
   ]
  },
  {
   "cell_type": "code",
   "execution_count": null,
   "id": "d11a6ae0",
   "metadata": {},
   "outputs": [],
   "source": [
    "# Predition of class label using the test data set\n",
    "y_pred = LGR.predict(X_test)\n",
    "y_pred"
   ]
  },
  {
   "cell_type": "code",
   "execution_count": null,
   "id": "dfeea30f",
   "metadata": {},
   "outputs": [],
   "source": [
    "# Confusion matrix\n",
    "from sklearn.metrics import confusion_matrix\n",
    "confusion_matrix(y_test, y_pred)"
   ]
  },
  {
   "cell_type": "code",
   "execution_count": null,
   "id": "0f81c9bd",
   "metadata": {},
   "outputs": [],
   "source": [
    "# Visualization of confusion matrix\n",
    "sns.heatmap(confusion_matrix(y_test, y_pred), linewidths = 0.5)"
   ]
  },
  {
   "cell_type": "markdown",
   "id": "8371b075",
   "metadata": {},
   "source": [
    "### Application"
   ]
  },
  {
   "cell_type": "markdown",
   "id": "6f195930",
   "metadata": {},
   "source": [
    "Who does own a private car? and how likely?\n",
    "- A: Work_TT=60, Work_AD=800, Shop_TT=10, Shop_AD=15\n",
    "- B: Work_TT=30, Work_AD=500, Shop_TT=50, Shop_AD=100"
   ]
  },
  {
   "cell_type": "code",
   "execution_count": null,
   "id": "696be3e4",
   "metadata": {},
   "outputs": [],
   "source": [
    "Individual = np.array([[60,800,10,15],[30,500,50,100]])\n",
    "Individual"
   ]
  },
  {
   "cell_type": "code",
   "execution_count": null,
   "id": "2eae667f",
   "metadata": {},
   "outputs": [],
   "source": [
    "LGR.predict(Individual)"
   ]
  },
  {
   "cell_type": "code",
   "execution_count": null,
   "id": "0d93db81",
   "metadata": {},
   "outputs": [],
   "source": [
    "LGR.predict_proba(Individual)"
   ]
  }
 ],
 "metadata": {
  "kernelspec": {
   "display_name": "Python 3 (ipykernel)",
   "language": "python",
   "name": "python3"
  },
  "language_info": {
   "codemirror_mode": {
    "name": "ipython",
    "version": 3
   },
   "file_extension": ".py",
   "mimetype": "text/x-python",
   "name": "python",
   "nbconvert_exporter": "python",
   "pygments_lexer": "ipython3",
   "version": "3.9.7"
  }
 },
 "nbformat": 4,
 "nbformat_minor": 5
}
