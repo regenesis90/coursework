{
 "cells": [
  {
   "cell_type": "markdown",
   "id": "41c2dc32-e8c9-4c1c-81a4-f62a53e5c210",
   "metadata": {},
   "source": [
    "# Imports"
   ]
  },
  {
   "cell_type": "code",
   "execution_count": 1,
   "id": "3656ee90-9a1c-4b82-b8c7-c2bda64068c3",
   "metadata": {
    "execution": {
     "iopub.execute_input": "2022-10-12T09:39:52.983272Z",
     "iopub.status.busy": "2022-10-12T09:39:52.983272Z",
     "iopub.status.idle": "2022-10-12T09:39:56.811177Z",
     "shell.execute_reply": "2022-10-12T09:39:56.808147Z",
     "shell.execute_reply.started": "2022-10-12T09:39:52.983272Z"
    },
    "tags": []
   },
   "outputs": [
    {
     "name": "stdout",
     "output_type": "stream",
     "text": [
      "Requirement already satisfied: pyarrow in c:\\dev\\anaconda_3\\lib\\site-packages (9.0.0)\n",
      "Requirement already satisfied: numpy>=1.16.6 in c:\\dev\\anaconda_3\\lib\\site-packages (from pyarrow) (1.20.1)\n"
     ]
    }
   ],
   "source": [
    "!pip install pyarrow"
   ]
  },
  {
   "cell_type": "code",
   "execution_count": 2,
   "id": "2c61f80d-4734-49fd-af56-d61633d09282",
   "metadata": {
    "execution": {
     "iopub.execute_input": "2022-10-12T09:39:56.812170Z",
     "iopub.status.busy": "2022-10-12T09:39:56.812170Z",
     "iopub.status.idle": "2022-10-12T09:39:58.113168Z",
     "shell.execute_reply": "2022-10-12T09:39:58.113168Z",
     "shell.execute_reply.started": "2022-10-12T09:39:56.812170Z"
    },
    "tags": []
   },
   "outputs": [],
   "source": [
    "import numpy as np\n",
    "import pandas as pd\n",
    "import os\n",
    "\n",
    "import matplotlib.pyplot as plt\n",
    "import seaborn as sns"
   ]
  },
  {
   "cell_type": "code",
   "execution_count": 3,
   "id": "753c3723-45c9-41cb-9879-188c649e8e30",
   "metadata": {
    "execution": {
     "iopub.execute_input": "2022-10-12T09:39:58.113168Z",
     "iopub.status.busy": "2022-10-12T09:39:58.113168Z",
     "iopub.status.idle": "2022-10-12T09:39:58.197646Z",
     "shell.execute_reply": "2022-10-12T09:39:58.197646Z",
     "shell.execute_reply.started": "2022-10-12T09:39:58.113168Z"
    },
    "tags": []
   },
   "outputs": [],
   "source": [
    "import pyarrow.parquet as pq # .csv 데이터는 읽는 것보다 쓰는 데 매우 시간이 많이 걸린다. arrow에서는 csv 포맷을 지원하지 않으므로, parquet 타입 파일을 활용해야 한다.\n",
    "from pyarrow import csv"
   ]
  },
  {
   "cell_type": "markdown",
   "id": "05a84c33-6bec-40f1-b857-bb3ad1afcdfa",
   "metadata": {},
   "source": [
    "`pq.write_table(csv.read_csv('data.csv), 'data.parquet')` : pandas csv 데이터를 parquet 파일로 저장\n",
    "\n",
    "* 데이터 프레임을 Parquet 파일로 저장\n",
    "    * 데이터프레임을 먼저 Table로 변환 후 Parquet로 저장한다.(속도는 비슷) \n",
    "    * pandas 함수 : `df.to_parquet('data3.parquet', engine='pyarrow', index=False)` \n",
    "    * index 컬럼 제거할 경우, `preserve_index=False`활용하기 : \n",
    "        * `import pyarrow as pa`\n",
    "        * `import pyarrow.parquet as pq`\n",
    "        * `table_from_pandas = pa.Table.from_pandas(df, preserve_index=False) pq.write_table(table_from_pandas, 'data.parquet')`\n",
    "        * 참고 : Pandas는 nanosecond를 지원하지만 Spark 같은 경우는 nanosecond를 지원하지 않기 때문에 관련 옵션이 있다.\n",
    "    * Parquet 파일을 데이터프레임으로 읽기 : 읽는 속도가 빠르고 메타데이터로 설정한 데이터 타입이 유지되기 때문에 더 효과적이다.\n",
    "        * 참고 : read_pandas는 read_table 함수에 pandas의 index 컬럼 읽기가 추가된 함수이다.\n",
    "        * df = pd.read_parquet('data.parquet', engine='pyarrow') \n",
    "        * df = pq.read_pandas('data.parquet').to_pandas()"
   ]
  },
  {
   "cell_type": "markdown",
   "id": "9e32919c-aef7-42ef-a960-ae5873cc57f2",
   "metadata": {},
   "source": [
    "## Load Dataset"
   ]
  },
  {
   "cell_type": "code",
   "execution_count": 4,
   "id": "7380acc1-9dc6-4158-b594-bfc3b5676571",
   "metadata": {
    "execution": {
     "iopub.execute_input": "2022-10-12T09:39:58.197646Z",
     "iopub.status.busy": "2022-10-12T09:39:58.197646Z",
     "iopub.status.idle": "2022-10-12T09:39:58.213855Z",
     "shell.execute_reply": "2022-10-12T09:39:58.212857Z",
     "shell.execute_reply.started": "2022-10-12T09:39:58.197646Z"
    },
    "tags": []
   },
   "outputs": [],
   "source": [
    "data_dir = 'D:/OneDrive - 연세대학교 (Yonsei University)/Lectures/2022-2_모빌리티데이터분석및활용/dataset/TLC_record'"
   ]
  },
  {
   "cell_type": "code",
   "execution_count": 5,
   "id": "59dc69c8-82f5-40e7-90f7-8e41fea0ea97",
   "metadata": {
    "execution": {
     "iopub.execute_input": "2022-10-12T09:39:58.214882Z",
     "iopub.status.busy": "2022-10-12T09:39:58.214882Z",
     "iopub.status.idle": "2022-10-12T09:39:58.229812Z",
     "shell.execute_reply": "2022-10-12T09:39:58.228845Z",
     "shell.execute_reply.started": "2022-10-12T09:39:58.214882Z"
    },
    "tags": []
   },
   "outputs": [],
   "source": [
    "data_jan = 'yellow_tripdata_2022-01.parquet'\n",
    "data_jun = 'yellow_tripdata_2022-06.parquet'\n",
    "data_zone = 'taxi+_zone_lookup.csv'"
   ]
  },
  {
   "cell_type": "code",
   "execution_count": 6,
   "id": "38d7d0f0-3343-44a6-96c8-7d7a330670b8",
   "metadata": {
    "execution": {
     "iopub.execute_input": "2022-10-12T09:39:58.230888Z",
     "iopub.status.busy": "2022-10-12T09:39:58.230888Z",
     "iopub.status.idle": "2022-10-12T09:39:58.245183Z",
     "shell.execute_reply": "2022-10-12T09:39:58.244432Z",
     "shell.execute_reply.started": "2022-10-12T09:39:58.230888Z"
    },
    "tags": []
   },
   "outputs": [],
   "source": [
    "path_jan = os.path.join(data_dir, data_jan)\n",
    "path_jun = os.path.join(data_dir, data_jun)\n",
    "path_zone = os.path.join(data_dir, data_zone)"
   ]
  },
  {
   "cell_type": "code",
   "execution_count": 7,
   "id": "90ac2d13-cb05-4982-af18-81a0ef8c92cf",
   "metadata": {
    "execution": {
     "iopub.execute_input": "2022-10-12T09:39:58.246185Z",
     "iopub.status.busy": "2022-10-12T09:39:58.246185Z",
     "iopub.status.idle": "2022-10-12T09:39:59.100877Z",
     "shell.execute_reply": "2022-10-12T09:39:59.099908Z",
     "shell.execute_reply.started": "2022-10-12T09:39:58.246185Z"
    },
    "tags": []
   },
   "outputs": [],
   "source": [
    "df_jan = pd.read_parquet(path_jan, engine = 'pyarrow')\n",
    "df_jun = pd.read_parquet(path_jun, engine = 'pyarrow')\n",
    "\n",
    "df_jan.reset_index(inplace = True)\n",
    "df_jun.reset_index(inplace = True)\n",
    "\n",
    "df_jan.rename(columns = {'index': 'Num'}, inplace = True)\n",
    "df_jun.rename(columns = {'index': 'Num'}, inplace = True)"
   ]
  },
  {
   "cell_type": "code",
   "execution_count": 8,
   "id": "a7f8ee53-2e8a-4cd8-bd3d-bcdc78662440",
   "metadata": {
    "execution": {
     "iopub.execute_input": "2022-10-12T09:39:59.103867Z",
     "iopub.status.busy": "2022-10-12T09:39:59.102871Z",
     "iopub.status.idle": "2022-10-12T09:39:59.147836Z",
     "shell.execute_reply": "2022-10-12T09:39:59.145839Z",
     "shell.execute_reply.started": "2022-10-12T09:39:59.103867Z"
    },
    "tags": []
   },
   "outputs": [
    {
     "data": {
      "text/html": [
       "<div>\n",
       "<style scoped>\n",
       "    .dataframe tbody tr th:only-of-type {\n",
       "        vertical-align: middle;\n",
       "    }\n",
       "\n",
       "    .dataframe tbody tr th {\n",
       "        vertical-align: top;\n",
       "    }\n",
       "\n",
       "    .dataframe thead th {\n",
       "        text-align: right;\n",
       "    }\n",
       "</style>\n",
       "<table border=\"1\" class=\"dataframe\">\n",
       "  <thead>\n",
       "    <tr style=\"text-align: right;\">\n",
       "      <th></th>\n",
       "      <th>Num</th>\n",
       "      <th>VendorID</th>\n",
       "      <th>tpep_pickup_datetime</th>\n",
       "      <th>tpep_dropoff_datetime</th>\n",
       "      <th>passenger_count</th>\n",
       "      <th>trip_distance</th>\n",
       "      <th>RatecodeID</th>\n",
       "      <th>store_and_fwd_flag</th>\n",
       "      <th>PULocationID</th>\n",
       "      <th>DOLocationID</th>\n",
       "      <th>payment_type</th>\n",
       "      <th>fare_amount</th>\n",
       "      <th>extra</th>\n",
       "      <th>mta_tax</th>\n",
       "      <th>tip_amount</th>\n",
       "      <th>tolls_amount</th>\n",
       "      <th>improvement_surcharge</th>\n",
       "      <th>total_amount</th>\n",
       "      <th>congestion_surcharge</th>\n",
       "      <th>airport_fee</th>\n",
       "    </tr>\n",
       "  </thead>\n",
       "  <tbody>\n",
       "    <tr>\n",
       "      <th>0</th>\n",
       "      <td>0</td>\n",
       "      <td>1</td>\n",
       "      <td>2022-01-01 00:35:40</td>\n",
       "      <td>2022-01-01 00:53:29</td>\n",
       "      <td>2.0</td>\n",
       "      <td>3.80</td>\n",
       "      <td>1.0</td>\n",
       "      <td>N</td>\n",
       "      <td>142</td>\n",
       "      <td>236</td>\n",
       "      <td>1</td>\n",
       "      <td>14.5</td>\n",
       "      <td>3.0</td>\n",
       "      <td>0.5</td>\n",
       "      <td>3.65</td>\n",
       "      <td>0.0</td>\n",
       "      <td>0.3</td>\n",
       "      <td>21.95</td>\n",
       "      <td>2.5</td>\n",
       "      <td>0.0</td>\n",
       "    </tr>\n",
       "    <tr>\n",
       "      <th>1</th>\n",
       "      <td>1</td>\n",
       "      <td>1</td>\n",
       "      <td>2022-01-01 00:33:43</td>\n",
       "      <td>2022-01-01 00:42:07</td>\n",
       "      <td>1.0</td>\n",
       "      <td>2.10</td>\n",
       "      <td>1.0</td>\n",
       "      <td>N</td>\n",
       "      <td>236</td>\n",
       "      <td>42</td>\n",
       "      <td>1</td>\n",
       "      <td>8.0</td>\n",
       "      <td>0.5</td>\n",
       "      <td>0.5</td>\n",
       "      <td>4.00</td>\n",
       "      <td>0.0</td>\n",
       "      <td>0.3</td>\n",
       "      <td>13.30</td>\n",
       "      <td>0.0</td>\n",
       "      <td>0.0</td>\n",
       "    </tr>\n",
       "    <tr>\n",
       "      <th>2</th>\n",
       "      <td>2</td>\n",
       "      <td>2</td>\n",
       "      <td>2022-01-01 00:53:21</td>\n",
       "      <td>2022-01-01 01:02:19</td>\n",
       "      <td>1.0</td>\n",
       "      <td>0.97</td>\n",
       "      <td>1.0</td>\n",
       "      <td>N</td>\n",
       "      <td>166</td>\n",
       "      <td>166</td>\n",
       "      <td>1</td>\n",
       "      <td>7.5</td>\n",
       "      <td>0.5</td>\n",
       "      <td>0.5</td>\n",
       "      <td>1.76</td>\n",
       "      <td>0.0</td>\n",
       "      <td>0.3</td>\n",
       "      <td>10.56</td>\n",
       "      <td>0.0</td>\n",
       "      <td>0.0</td>\n",
       "    </tr>\n",
       "  </tbody>\n",
       "</table>\n",
       "</div>"
      ],
      "text/plain": [
       "   Num  VendorID tpep_pickup_datetime tpep_dropoff_datetime  passenger_count  \\\n",
       "0    0         1  2022-01-01 00:35:40   2022-01-01 00:53:29              2.0   \n",
       "1    1         1  2022-01-01 00:33:43   2022-01-01 00:42:07              1.0   \n",
       "2    2         2  2022-01-01 00:53:21   2022-01-01 01:02:19              1.0   \n",
       "\n",
       "   trip_distance  RatecodeID store_and_fwd_flag  PULocationID  DOLocationID  \\\n",
       "0           3.80         1.0                  N           142           236   \n",
       "1           2.10         1.0                  N           236            42   \n",
       "2           0.97         1.0                  N           166           166   \n",
       "\n",
       "   payment_type  fare_amount  extra  mta_tax  tip_amount  tolls_amount  \\\n",
       "0             1         14.5    3.0      0.5        3.65           0.0   \n",
       "1             1          8.0    0.5      0.5        4.00           0.0   \n",
       "2             1          7.5    0.5      0.5        1.76           0.0   \n",
       "\n",
       "   improvement_surcharge  total_amount  congestion_surcharge  airport_fee  \n",
       "0                    0.3         21.95                   2.5          0.0  \n",
       "1                    0.3         13.30                   0.0          0.0  \n",
       "2                    0.3         10.56                   0.0          0.0  "
      ]
     },
     "execution_count": 8,
     "metadata": {},
     "output_type": "execute_result"
    }
   ],
   "source": [
    "df_jan.head(3)"
   ]
  },
  {
   "cell_type": "code",
   "execution_count": 9,
   "id": "486f1526-7ed9-47c7-b896-a9e5d54f5bfb",
   "metadata": {
    "execution": {
     "iopub.execute_input": "2022-10-12T09:39:59.148839Z",
     "iopub.status.busy": "2022-10-12T09:39:59.148839Z",
     "iopub.status.idle": "2022-10-12T09:39:59.162830Z",
     "shell.execute_reply": "2022-10-12T09:39:59.161798Z",
     "shell.execute_reply.started": "2022-10-12T09:39:59.148839Z"
    },
    "tags": []
   },
   "outputs": [],
   "source": [
    "df_zone = pd.read_csv(path_zone)"
   ]
  },
  {
   "cell_type": "code",
   "execution_count": 10,
   "id": "47ce75d6-13bf-4287-b527-34f4af54662e",
   "metadata": {
    "execution": {
     "iopub.execute_input": "2022-10-12T09:39:59.163829Z",
     "iopub.status.busy": "2022-10-12T09:39:59.163829Z",
     "iopub.status.idle": "2022-10-12T09:39:59.178335Z",
     "shell.execute_reply": "2022-10-12T09:39:59.177306Z",
     "shell.execute_reply.started": "2022-10-12T09:39:59.163829Z"
    },
    "tags": []
   },
   "outputs": [
    {
     "data": {
      "text/html": [
       "<div>\n",
       "<style scoped>\n",
       "    .dataframe tbody tr th:only-of-type {\n",
       "        vertical-align: middle;\n",
       "    }\n",
       "\n",
       "    .dataframe tbody tr th {\n",
       "        vertical-align: top;\n",
       "    }\n",
       "\n",
       "    .dataframe thead th {\n",
       "        text-align: right;\n",
       "    }\n",
       "</style>\n",
       "<table border=\"1\" class=\"dataframe\">\n",
       "  <thead>\n",
       "    <tr style=\"text-align: right;\">\n",
       "      <th></th>\n",
       "      <th>LocationID</th>\n",
       "      <th>Borough</th>\n",
       "      <th>Zone</th>\n",
       "      <th>service_zone</th>\n",
       "    </tr>\n",
       "  </thead>\n",
       "  <tbody>\n",
       "    <tr>\n",
       "      <th>0</th>\n",
       "      <td>1</td>\n",
       "      <td>EWR</td>\n",
       "      <td>Newark Airport</td>\n",
       "      <td>EWR</td>\n",
       "    </tr>\n",
       "    <tr>\n",
       "      <th>1</th>\n",
       "      <td>2</td>\n",
       "      <td>Queens</td>\n",
       "      <td>Jamaica Bay</td>\n",
       "      <td>Boro Zone</td>\n",
       "    </tr>\n",
       "    <tr>\n",
       "      <th>2</th>\n",
       "      <td>3</td>\n",
       "      <td>Bronx</td>\n",
       "      <td>Allerton/Pelham Gardens</td>\n",
       "      <td>Boro Zone</td>\n",
       "    </tr>\n",
       "  </tbody>\n",
       "</table>\n",
       "</div>"
      ],
      "text/plain": [
       "   LocationID Borough                     Zone service_zone\n",
       "0           1     EWR           Newark Airport          EWR\n",
       "1           2  Queens              Jamaica Bay    Boro Zone\n",
       "2           3   Bronx  Allerton/Pelham Gardens    Boro Zone"
      ]
     },
     "execution_count": 10,
     "metadata": {},
     "output_type": "execute_result"
    }
   ],
   "source": [
    "df_zone.head(3)"
   ]
  },
  {
   "cell_type": "markdown",
   "id": "d29fca5a-54d1-45fd-9e89-71276c76f073",
   "metadata": {},
   "source": [
    "# Q1) Find the largest demand of the yellow taxi at New York in January 2022 in terms of:\n",
    "* (1) Pick-up location (i.e. zone)\n",
    "* (2) Drop-off location\n",
    "* (3) Origin-destination (i.e. from a pick-up zone to drop-off zone)"
   ]
  },
  {
   "cell_type": "markdown",
   "id": "fc1ee8e4-0a4e-4d55-a58f-dee0ad9192ff",
   "metadata": {},
   "source": [
    "## Merge Dataframes : Taxi + Zone\n",
    "* Taxi 데이터프레임과 Zone 데이터프레임을 Merge\n",
    "* 기점코드(`PULocationID`), 종점코드(`DOLocationID`)에 대한 정보를 Zone 정보와 통합하여 한 데이터프레임으로 나타냄\n",
    "    * `PULocationID` : TLC Taxi zone in which the taximeter was engaged\n",
    "    * `DOLocationID` : TLC Taxi Zone in which the taximeter was disengaged"
   ]
  },
  {
   "cell_type": "code",
   "execution_count": 11,
   "id": "18cd41fd-17ac-415a-af7b-78d9efbbf053",
   "metadata": {
    "execution": {
     "iopub.execute_input": "2022-10-12T09:39:59.179336Z",
     "iopub.status.busy": "2022-10-12T09:39:59.179336Z",
     "iopub.status.idle": "2022-10-12T09:40:00.164862Z",
     "shell.execute_reply": "2022-10-12T09:40:00.163833Z",
     "shell.execute_reply.started": "2022-10-12T09:39:59.179336Z"
    },
    "tags": []
   },
   "outputs": [],
   "source": [
    "merged_jan = pd.merge(df_jan, df_zone, how = 'left', left_on = 'PULocationID', right_on = 'LocationID')\n",
    "merged_jan.rename(columns = {'Borough': 'PU_Borough', 'Zone': 'PU_Zone', 'service_zone': 'PU_service_zone'}, inplace = True)"
   ]
  },
  {
   "cell_type": "code",
   "execution_count": 12,
   "id": "2caad6dd-3e49-4f55-8c8f-a0bd5aefbdd7",
   "metadata": {
    "execution": {
     "iopub.execute_input": "2022-10-12T09:40:00.165859Z",
     "iopub.status.busy": "2022-10-12T09:40:00.164862Z",
     "iopub.status.idle": "2022-10-12T09:40:00.793859Z",
     "shell.execute_reply": "2022-10-12T09:40:00.792898Z",
     "shell.execute_reply.started": "2022-10-12T09:40:00.165859Z"
    },
    "tags": []
   },
   "outputs": [],
   "source": [
    "merged_jan = pd.merge(merged_jan, df_zone, how = 'left', left_on = 'DOLocationID', right_on = 'LocationID')\n",
    "merged_jan.rename(columns = {'Borough': 'DO_Borough', 'Zone': 'DO_Zone', 'service_zone': 'DO_service_zone'}, inplace = True)"
   ]
  },
  {
   "cell_type": "code",
   "execution_count": 13,
   "id": "0b447512-e6e5-4296-b3ab-d6dd0db6603a",
   "metadata": {
    "execution": {
     "iopub.execute_input": "2022-10-12T09:40:00.793859Z",
     "iopub.status.busy": "2022-10-12T09:40:00.793859Z",
     "iopub.status.idle": "2022-10-12T09:40:01.455614Z",
     "shell.execute_reply": "2022-10-12T09:40:01.455614Z",
     "shell.execute_reply.started": "2022-10-12T09:40:00.793859Z"
    },
    "tags": []
   },
   "outputs": [],
   "source": [
    "merged_jan.drop(['LocationID_x', 'LocationID_y'], axis = 'columns', inplace = True)"
   ]
  },
  {
   "cell_type": "code",
   "execution_count": 14,
   "id": "b3048319-5964-42d9-b639-5e8ba749bb6a",
   "metadata": {
    "execution": {
     "iopub.execute_input": "2022-10-12T09:40:01.456582Z",
     "iopub.status.busy": "2022-10-12T09:40:01.456582Z",
     "iopub.status.idle": "2022-10-12T09:40:01.489054Z",
     "shell.execute_reply": "2022-10-12T09:40:01.487061Z",
     "shell.execute_reply.started": "2022-10-12T09:40:01.456582Z"
    },
    "tags": []
   },
   "outputs": [
    {
     "data": {
      "text/html": [
       "<div>\n",
       "<style scoped>\n",
       "    .dataframe tbody tr th:only-of-type {\n",
       "        vertical-align: middle;\n",
       "    }\n",
       "\n",
       "    .dataframe tbody tr th {\n",
       "        vertical-align: top;\n",
       "    }\n",
       "\n",
       "    .dataframe thead th {\n",
       "        text-align: right;\n",
       "    }\n",
       "</style>\n",
       "<table border=\"1\" class=\"dataframe\">\n",
       "  <thead>\n",
       "    <tr style=\"text-align: right;\">\n",
       "      <th></th>\n",
       "      <th>Num</th>\n",
       "      <th>VendorID</th>\n",
       "      <th>tpep_pickup_datetime</th>\n",
       "      <th>tpep_dropoff_datetime</th>\n",
       "      <th>passenger_count</th>\n",
       "      <th>trip_distance</th>\n",
       "      <th>RatecodeID</th>\n",
       "      <th>store_and_fwd_flag</th>\n",
       "      <th>PULocationID</th>\n",
       "      <th>DOLocationID</th>\n",
       "      <th>...</th>\n",
       "      <th>improvement_surcharge</th>\n",
       "      <th>total_amount</th>\n",
       "      <th>congestion_surcharge</th>\n",
       "      <th>airport_fee</th>\n",
       "      <th>PU_Borough</th>\n",
       "      <th>PU_Zone</th>\n",
       "      <th>PU_service_zone</th>\n",
       "      <th>DO_Borough</th>\n",
       "      <th>DO_Zone</th>\n",
       "      <th>DO_service_zone</th>\n",
       "    </tr>\n",
       "  </thead>\n",
       "  <tbody>\n",
       "    <tr>\n",
       "      <th>0</th>\n",
       "      <td>0</td>\n",
       "      <td>1</td>\n",
       "      <td>2022-01-01 00:35:40</td>\n",
       "      <td>2022-01-01 00:53:29</td>\n",
       "      <td>2.0</td>\n",
       "      <td>3.80</td>\n",
       "      <td>1.0</td>\n",
       "      <td>N</td>\n",
       "      <td>142</td>\n",
       "      <td>236</td>\n",
       "      <td>...</td>\n",
       "      <td>0.3</td>\n",
       "      <td>21.95</td>\n",
       "      <td>2.5</td>\n",
       "      <td>0.0</td>\n",
       "      <td>Manhattan</td>\n",
       "      <td>Lincoln Square East</td>\n",
       "      <td>Yellow Zone</td>\n",
       "      <td>Manhattan</td>\n",
       "      <td>Upper East Side North</td>\n",
       "      <td>Yellow Zone</td>\n",
       "    </tr>\n",
       "    <tr>\n",
       "      <th>1</th>\n",
       "      <td>1</td>\n",
       "      <td>1</td>\n",
       "      <td>2022-01-01 00:33:43</td>\n",
       "      <td>2022-01-01 00:42:07</td>\n",
       "      <td>1.0</td>\n",
       "      <td>2.10</td>\n",
       "      <td>1.0</td>\n",
       "      <td>N</td>\n",
       "      <td>236</td>\n",
       "      <td>42</td>\n",
       "      <td>...</td>\n",
       "      <td>0.3</td>\n",
       "      <td>13.30</td>\n",
       "      <td>0.0</td>\n",
       "      <td>0.0</td>\n",
       "      <td>Manhattan</td>\n",
       "      <td>Upper East Side North</td>\n",
       "      <td>Yellow Zone</td>\n",
       "      <td>Manhattan</td>\n",
       "      <td>Central Harlem North</td>\n",
       "      <td>Boro Zone</td>\n",
       "    </tr>\n",
       "    <tr>\n",
       "      <th>2</th>\n",
       "      <td>2</td>\n",
       "      <td>2</td>\n",
       "      <td>2022-01-01 00:53:21</td>\n",
       "      <td>2022-01-01 01:02:19</td>\n",
       "      <td>1.0</td>\n",
       "      <td>0.97</td>\n",
       "      <td>1.0</td>\n",
       "      <td>N</td>\n",
       "      <td>166</td>\n",
       "      <td>166</td>\n",
       "      <td>...</td>\n",
       "      <td>0.3</td>\n",
       "      <td>10.56</td>\n",
       "      <td>0.0</td>\n",
       "      <td>0.0</td>\n",
       "      <td>Manhattan</td>\n",
       "      <td>Morningside Heights</td>\n",
       "      <td>Boro Zone</td>\n",
       "      <td>Manhattan</td>\n",
       "      <td>Morningside Heights</td>\n",
       "      <td>Boro Zone</td>\n",
       "    </tr>\n",
       "  </tbody>\n",
       "</table>\n",
       "<p>3 rows × 26 columns</p>\n",
       "</div>"
      ],
      "text/plain": [
       "   Num  VendorID tpep_pickup_datetime tpep_dropoff_datetime  passenger_count  \\\n",
       "0    0         1  2022-01-01 00:35:40   2022-01-01 00:53:29              2.0   \n",
       "1    1         1  2022-01-01 00:33:43   2022-01-01 00:42:07              1.0   \n",
       "2    2         2  2022-01-01 00:53:21   2022-01-01 01:02:19              1.0   \n",
       "\n",
       "   trip_distance  RatecodeID store_and_fwd_flag  PULocationID  DOLocationID  \\\n",
       "0           3.80         1.0                  N           142           236   \n",
       "1           2.10         1.0                  N           236            42   \n",
       "2           0.97         1.0                  N           166           166   \n",
       "\n",
       "   ...  improvement_surcharge  total_amount  congestion_surcharge  \\\n",
       "0  ...                    0.3         21.95                   2.5   \n",
       "1  ...                    0.3         13.30                   0.0   \n",
       "2  ...                    0.3         10.56                   0.0   \n",
       "\n",
       "   airport_fee  PU_Borough                PU_Zone  PU_service_zone  \\\n",
       "0          0.0   Manhattan    Lincoln Square East      Yellow Zone   \n",
       "1          0.0   Manhattan  Upper East Side North      Yellow Zone   \n",
       "2          0.0   Manhattan    Morningside Heights        Boro Zone   \n",
       "\n",
       "   DO_Borough                DO_Zone  DO_service_zone  \n",
       "0   Manhattan  Upper East Side North      Yellow Zone  \n",
       "1   Manhattan   Central Harlem North        Boro Zone  \n",
       "2   Manhattan    Morningside Heights        Boro Zone  \n",
       "\n",
       "[3 rows x 26 columns]"
      ]
     },
     "execution_count": 14,
     "metadata": {},
     "output_type": "execute_result"
    }
   ],
   "source": [
    "merged_jan.head(3)"
   ]
  },
  {
   "cell_type": "markdown",
   "id": "6a2d0068-525a-41d3-927b-e141ea77b399",
   "metadata": {},
   "source": [
    "## (1) The largest demand of pick-up location\n",
    "* i.e. zone\n",
    "* pick-up location(탑승 존)을 찾기 위해서 `PU_Zone` 컬럼을 이용"
   ]
  },
  {
   "cell_type": "markdown",
   "id": "e79e9e49-1503-4fd9-9da2-678b23b168e7",
   "metadata": {},
   "source": [
    "### Make pivot table"
   ]
  },
  {
   "cell_type": "code",
   "execution_count": 15,
   "id": "d3996c47-f336-46d1-98c4-3b6e5ea23b2f",
   "metadata": {
    "execution": {
     "iopub.execute_input": "2022-10-12T09:40:01.492050Z",
     "iopub.status.busy": "2022-10-12T09:40:01.491051Z",
     "iopub.status.idle": "2022-10-12T09:40:01.757770Z",
     "shell.execute_reply": "2022-10-12T09:40:01.756773Z",
     "shell.execute_reply.started": "2022-10-12T09:40:01.492050Z"
    },
    "tags": []
   },
   "outputs": [],
   "source": [
    "pv_pickup = pd.pivot_table(merged_jan, index = 'PU_Zone', values = 'Num', aggfunc = 'count')"
   ]
  },
  {
   "cell_type": "code",
   "execution_count": 16,
   "id": "526eec96-a1e2-47cd-9554-6ad9d10499af",
   "metadata": {
    "execution": {
     "iopub.execute_input": "2022-10-12T09:40:01.757770Z",
     "iopub.status.busy": "2022-10-12T09:40:01.757770Z",
     "iopub.status.idle": "2022-10-12T09:40:01.772734Z",
     "shell.execute_reply": "2022-10-12T09:40:01.771738Z",
     "shell.execute_reply.started": "2022-10-12T09:40:01.757770Z"
    },
    "tags": []
   },
   "outputs": [],
   "source": [
    "pv_pickup.sort_values(by = 'Num', ascending = False, inplace = True)"
   ]
  },
  {
   "cell_type": "code",
   "execution_count": 17,
   "id": "a82bda08-85e7-42e5-ab76-cad315b52501",
   "metadata": {
    "execution": {
     "iopub.execute_input": "2022-10-12T09:40:01.773731Z",
     "iopub.status.busy": "2022-10-12T09:40:01.773731Z",
     "iopub.status.idle": "2022-10-12T09:40:01.788230Z",
     "shell.execute_reply": "2022-10-12T09:40:01.787215Z",
     "shell.execute_reply.started": "2022-10-12T09:40:01.773731Z"
    },
    "tags": []
   },
   "outputs": [
    {
     "data": {
      "text/html": [
       "<div>\n",
       "<style scoped>\n",
       "    .dataframe tbody tr th:only-of-type {\n",
       "        vertical-align: middle;\n",
       "    }\n",
       "\n",
       "    .dataframe tbody tr th {\n",
       "        vertical-align: top;\n",
       "    }\n",
       "\n",
       "    .dataframe thead th {\n",
       "        text-align: right;\n",
       "    }\n",
       "</style>\n",
       "<table border=\"1\" class=\"dataframe\">\n",
       "  <thead>\n",
       "    <tr style=\"text-align: right;\">\n",
       "      <th></th>\n",
       "      <th>Num</th>\n",
       "    </tr>\n",
       "    <tr>\n",
       "      <th>PU_Zone</th>\n",
       "      <th></th>\n",
       "    </tr>\n",
       "  </thead>\n",
       "  <tbody>\n",
       "    <tr>\n",
       "      <th>Upper East Side South</th>\n",
       "      <td>121630</td>\n",
       "    </tr>\n",
       "    <tr>\n",
       "      <th>Upper East Side North</th>\n",
       "      <td>120814</td>\n",
       "    </tr>\n",
       "    <tr>\n",
       "      <th>JFK Airport</th>\n",
       "      <td>103485</td>\n",
       "    </tr>\n",
       "    <tr>\n",
       "      <th>Midtown Center</th>\n",
       "      <td>88237</td>\n",
       "    </tr>\n",
       "    <tr>\n",
       "      <th>Penn Station/Madison Sq West</th>\n",
       "      <td>80580</td>\n",
       "    </tr>\n",
       "    <tr>\n",
       "      <th>...</th>\n",
       "      <td>...</td>\n",
       "    </tr>\n",
       "    <tr>\n",
       "      <th>Oakwood</th>\n",
       "      <td>1</td>\n",
       "    </tr>\n",
       "    <tr>\n",
       "      <th>Governor's Island/Ellis Island/Liberty Island</th>\n",
       "      <td>1</td>\n",
       "    </tr>\n",
       "    <tr>\n",
       "      <th>New Dorp/Midland Beach</th>\n",
       "      <td>1</td>\n",
       "    </tr>\n",
       "    <tr>\n",
       "      <th>Breezy Point/Fort Tilden/Riis Beach</th>\n",
       "      <td>1</td>\n",
       "    </tr>\n",
       "    <tr>\n",
       "      <th>Port Richmond</th>\n",
       "      <td>1</td>\n",
       "    </tr>\n",
       "  </tbody>\n",
       "</table>\n",
       "<p>255 rows × 1 columns</p>\n",
       "</div>"
      ],
      "text/plain": [
       "                                                  Num\n",
       "PU_Zone                                              \n",
       "Upper East Side South                          121630\n",
       "Upper East Side North                          120814\n",
       "JFK Airport                                    103485\n",
       "Midtown Center                                  88237\n",
       "Penn Station/Madison Sq West                    80580\n",
       "...                                               ...\n",
       "Oakwood                                             1\n",
       "Governor's Island/Ellis Island/Liberty Island       1\n",
       "New Dorp/Midland Beach                              1\n",
       "Breezy Point/Fort Tilden/Riis Beach                 1\n",
       "Port Richmond                                       1\n",
       "\n",
       "[255 rows x 1 columns]"
      ]
     },
     "execution_count": 17,
     "metadata": {},
     "output_type": "execute_result"
    }
   ],
   "source": [
    "pv_pickup"
   ]
  },
  {
   "cell_type": "markdown",
   "id": "998b86c5-6f93-46a3-8a4f-9001a5950330",
   "metadata": {},
   "source": [
    "### Answer\n",
    "* The largest demand among the pick-up locations is **'Upper East Side South'** Zone.\n",
    "* The number of demand is 121,630."
   ]
  },
  {
   "cell_type": "markdown",
   "id": "dd8ea1c5-2df3-45a3-a391-0ce53e16bde0",
   "metadata": {},
   "source": [
    "## (2) The largest demand of drop-off location"
   ]
  },
  {
   "cell_type": "markdown",
   "id": "6e00e6a3-02fb-416b-ae5e-505576978a46",
   "metadata": {},
   "source": [
    "### Make pivot table"
   ]
  },
  {
   "cell_type": "code",
   "execution_count": 18,
   "id": "b5dce438-7960-4120-b896-79e053a40d91",
   "metadata": {
    "execution": {
     "iopub.execute_input": "2022-10-12T09:40:01.789208Z",
     "iopub.status.busy": "2022-10-12T09:40:01.789208Z",
     "iopub.status.idle": "2022-10-12T09:40:01.976981Z",
     "shell.execute_reply": "2022-10-12T09:40:01.976981Z",
     "shell.execute_reply.started": "2022-10-12T09:40:01.789208Z"
    },
    "tags": []
   },
   "outputs": [],
   "source": [
    "pv_dropoff = pd.pivot_table(merged_jan, index = 'DO_Zone', values = 'Num', aggfunc = 'count')"
   ]
  },
  {
   "cell_type": "code",
   "execution_count": 19,
   "id": "569f4fe3-74d4-46c7-a42b-60e98c891cd1",
   "metadata": {
    "execution": {
     "iopub.execute_input": "2022-10-12T09:40:01.977983Z",
     "iopub.status.busy": "2022-10-12T09:40:01.977983Z",
     "iopub.status.idle": "2022-10-12T09:40:01.993483Z",
     "shell.execute_reply": "2022-10-12T09:40:01.992463Z",
     "shell.execute_reply.started": "2022-10-12T09:40:01.977983Z"
    },
    "tags": []
   },
   "outputs": [],
   "source": [
    "pv_dropoff.sort_values(by = 'Num', ascending = False, inplace = True)"
   ]
  },
  {
   "cell_type": "code",
   "execution_count": 20,
   "id": "0714f027-6399-4239-84c7-10730d0b6ef7",
   "metadata": {
    "execution": {
     "iopub.execute_input": "2022-10-12T09:40:01.994455Z",
     "iopub.status.busy": "2022-10-12T09:40:01.994455Z",
     "iopub.status.idle": "2022-10-12T09:40:02.010415Z",
     "shell.execute_reply": "2022-10-12T09:40:02.009417Z",
     "shell.execute_reply.started": "2022-10-12T09:40:01.994455Z"
    },
    "tags": []
   },
   "outputs": [
    {
     "data": {
      "text/html": [
       "<div>\n",
       "<style scoped>\n",
       "    .dataframe tbody tr th:only-of-type {\n",
       "        vertical-align: middle;\n",
       "    }\n",
       "\n",
       "    .dataframe tbody tr th {\n",
       "        vertical-align: top;\n",
       "    }\n",
       "\n",
       "    .dataframe thead th {\n",
       "        text-align: right;\n",
       "    }\n",
       "</style>\n",
       "<table border=\"1\" class=\"dataframe\">\n",
       "  <thead>\n",
       "    <tr style=\"text-align: right;\">\n",
       "      <th></th>\n",
       "      <th>Num</th>\n",
       "    </tr>\n",
       "    <tr>\n",
       "      <th>DO_Zone</th>\n",
       "      <th></th>\n",
       "    </tr>\n",
       "  </thead>\n",
       "  <tbody>\n",
       "    <tr>\n",
       "      <th>Upper East Side North</th>\n",
       "      <td>123470</td>\n",
       "    </tr>\n",
       "    <tr>\n",
       "      <th>Upper East Side South</th>\n",
       "      <td>106355</td>\n",
       "    </tr>\n",
       "    <tr>\n",
       "      <th>Lenox Hill West</th>\n",
       "      <td>78341</td>\n",
       "    </tr>\n",
       "    <tr>\n",
       "      <th>Upper West Side South</th>\n",
       "      <td>75050</td>\n",
       "    </tr>\n",
       "    <tr>\n",
       "      <th>Midtown Center</th>\n",
       "      <td>74707</td>\n",
       "    </tr>\n",
       "    <tr>\n",
       "      <th>...</th>\n",
       "      <td>...</td>\n",
       "    </tr>\n",
       "    <tr>\n",
       "      <th>Port Richmond</th>\n",
       "      <td>12</td>\n",
       "    </tr>\n",
       "    <tr>\n",
       "      <th>Rossville/Woodrow</th>\n",
       "      <td>9</td>\n",
       "    </tr>\n",
       "    <tr>\n",
       "      <th>Jamaica Bay</th>\n",
       "      <td>5</td>\n",
       "    </tr>\n",
       "    <tr>\n",
       "      <th>Governor's Island/Ellis Island/Liberty Island</th>\n",
       "      <td>2</td>\n",
       "    </tr>\n",
       "    <tr>\n",
       "      <th>Freshkills Park</th>\n",
       "      <td>1</td>\n",
       "    </tr>\n",
       "  </tbody>\n",
       "</table>\n",
       "<p>259 rows × 1 columns</p>\n",
       "</div>"
      ],
      "text/plain": [
       "                                                  Num\n",
       "DO_Zone                                              \n",
       "Upper East Side North                          123470\n",
       "Upper East Side South                          106355\n",
       "Lenox Hill West                                 78341\n",
       "Upper West Side South                           75050\n",
       "Midtown Center                                  74707\n",
       "...                                               ...\n",
       "Port Richmond                                      12\n",
       "Rossville/Woodrow                                   9\n",
       "Jamaica Bay                                         5\n",
       "Governor's Island/Ellis Island/Liberty Island       2\n",
       "Freshkills Park                                     1\n",
       "\n",
       "[259 rows x 1 columns]"
      ]
     },
     "execution_count": 20,
     "metadata": {},
     "output_type": "execute_result"
    }
   ],
   "source": [
    "pv_dropoff"
   ]
  },
  {
   "cell_type": "markdown",
   "id": "ded115c4-cc40-4137-b4bc-d422176547f3",
   "metadata": {},
   "source": [
    "### Answer\n",
    "* The largest demand among the drop-off locations is **'Upper East Side North'** Zone. \n",
    "* The number of demand is 123,470."
   ]
  },
  {
   "cell_type": "markdown",
   "id": "533c9319-120c-401e-abcd-27202da5c579",
   "metadata": {},
   "source": [
    "## (3) The largest demand of Origin-destination\n",
    "* i.e. from a pick-up zone to drop-off zone"
   ]
  },
  {
   "cell_type": "markdown",
   "id": "b9c95aa2-03e5-4acf-9090-c43124cfc3d5",
   "metadata": {},
   "source": [
    "### Make OD column\n",
    "* Origin-destination 컬럼 `OD`생성하기"
   ]
  },
  {
   "cell_type": "code",
   "execution_count": 21,
   "id": "26983a94-f9f5-4c9c-aa5d-ed473a54f36c",
   "metadata": {
    "execution": {
     "iopub.execute_input": "2022-10-12T09:40:02.011410Z",
     "iopub.status.busy": "2022-10-12T09:40:02.011410Z",
     "iopub.status.idle": "2022-10-12T09:40:02.884165Z",
     "shell.execute_reply": "2022-10-12T09:40:02.884165Z",
     "shell.execute_reply.started": "2022-10-12T09:40:02.011410Z"
    },
    "tags": []
   },
   "outputs": [],
   "source": [
    "merged_jan['OD'] = merged_jan['PU_Zone'] + '-' + merged_jan['DO_Zone']"
   ]
  },
  {
   "cell_type": "markdown",
   "id": "9ff9362d-542b-4902-a197-4d8f1c59d249",
   "metadata": {},
   "source": [
    "### Make pivot table"
   ]
  },
  {
   "cell_type": "code",
   "execution_count": 22,
   "id": "31ce82af-6efc-43af-b0e8-c60d190cc06b",
   "metadata": {
    "execution": {
     "iopub.execute_input": "2022-10-12T09:40:02.885164Z",
     "iopub.status.busy": "2022-10-12T09:40:02.885164Z",
     "iopub.status.idle": "2022-10-12T09:40:03.688012Z",
     "shell.execute_reply": "2022-10-12T09:40:03.687051Z",
     "shell.execute_reply.started": "2022-10-12T09:40:02.885164Z"
    },
    "tags": []
   },
   "outputs": [],
   "source": [
    "pv_OD = pd.pivot_table(merged_jan, index = 'OD', values = 'Num', aggfunc = 'count')"
   ]
  },
  {
   "cell_type": "code",
   "execution_count": 23,
   "id": "1b76bc48-6a66-474a-8c70-761dc9c9c8ec",
   "metadata": {
    "execution": {
     "iopub.execute_input": "2022-10-12T09:40:03.691006Z",
     "iopub.status.busy": "2022-10-12T09:40:03.690006Z",
     "iopub.status.idle": "2022-10-12T09:40:03.703968Z",
     "shell.execute_reply": "2022-10-12T09:40:03.702969Z",
     "shell.execute_reply.started": "2022-10-12T09:40:03.691006Z"
    },
    "tags": []
   },
   "outputs": [],
   "source": [
    "pv_OD.sort_values(by = 'Num', ascending = False, inplace = True)"
   ]
  },
  {
   "cell_type": "code",
   "execution_count": 24,
   "id": "2ce75cd2-e040-4291-8ef7-fe13ad41029b",
   "metadata": {
    "execution": {
     "iopub.execute_input": "2022-10-12T09:40:03.706961Z",
     "iopub.status.busy": "2022-10-12T09:40:03.705962Z",
     "iopub.status.idle": "2022-10-12T09:40:03.719927Z",
     "shell.execute_reply": "2022-10-12T09:40:03.718952Z",
     "shell.execute_reply.started": "2022-10-12T09:40:03.706961Z"
    },
    "tags": []
   },
   "outputs": [
    {
     "data": {
      "text/html": [
       "<div>\n",
       "<style scoped>\n",
       "    .dataframe tbody tr th:only-of-type {\n",
       "        vertical-align: middle;\n",
       "    }\n",
       "\n",
       "    .dataframe tbody tr th {\n",
       "        vertical-align: top;\n",
       "    }\n",
       "\n",
       "    .dataframe thead th {\n",
       "        text-align: right;\n",
       "    }\n",
       "</style>\n",
       "<table border=\"1\" class=\"dataframe\">\n",
       "  <thead>\n",
       "    <tr style=\"text-align: right;\">\n",
       "      <th></th>\n",
       "      <th>Num</th>\n",
       "    </tr>\n",
       "    <tr>\n",
       "      <th>OD</th>\n",
       "      <th></th>\n",
       "    </tr>\n",
       "  </thead>\n",
       "  <tbody>\n",
       "    <tr>\n",
       "      <th>Upper East Side South-Upper East Side North</th>\n",
       "      <td>18749</td>\n",
       "    </tr>\n",
       "    <tr>\n",
       "      <th>Upper East Side North-Upper East Side South</th>\n",
       "      <td>16200</td>\n",
       "    </tr>\n",
       "    <tr>\n",
       "      <th>Upper East Side North-Upper East Side North</th>\n",
       "      <td>13871</td>\n",
       "    </tr>\n",
       "    <tr>\n",
       "      <th>Upper East Side South-Upper East Side South</th>\n",
       "      <td>12149</td>\n",
       "    </tr>\n",
       "    <tr>\n",
       "      <th>NV-NV</th>\n",
       "      <td>10811</td>\n",
       "    </tr>\n",
       "    <tr>\n",
       "      <th>...</th>\n",
       "      <td>...</td>\n",
       "    </tr>\n",
       "    <tr>\n",
       "      <th>Co-Op City-Flatlands</th>\n",
       "      <td>1</td>\n",
       "    </tr>\n",
       "    <tr>\n",
       "      <th>Co-Op City-Fordham South</th>\n",
       "      <td>1</td>\n",
       "    </tr>\n",
       "    <tr>\n",
       "      <th>Co-Op City-Fresh Meadows</th>\n",
       "      <td>1</td>\n",
       "    </tr>\n",
       "    <tr>\n",
       "      <th>Co-Op City-Glen Oaks</th>\n",
       "      <td>1</td>\n",
       "    </tr>\n",
       "    <tr>\n",
       "      <th>Old Astoria-Soundview/Castle Hill</th>\n",
       "      <td>1</td>\n",
       "    </tr>\n",
       "  </tbody>\n",
       "</table>\n",
       "<p>21013 rows × 1 columns</p>\n",
       "</div>"
      ],
      "text/plain": [
       "                                               Num\n",
       "OD                                                \n",
       "Upper East Side South-Upper East Side North  18749\n",
       "Upper East Side North-Upper East Side South  16200\n",
       "Upper East Side North-Upper East Side North  13871\n",
       "Upper East Side South-Upper East Side South  12149\n",
       "NV-NV                                        10811\n",
       "...                                            ...\n",
       "Co-Op City-Flatlands                             1\n",
       "Co-Op City-Fordham South                         1\n",
       "Co-Op City-Fresh Meadows                         1\n",
       "Co-Op City-Glen Oaks                             1\n",
       "Old Astoria-Soundview/Castle Hill                1\n",
       "\n",
       "[21013 rows x 1 columns]"
      ]
     },
     "execution_count": 24,
     "metadata": {},
     "output_type": "execute_result"
    }
   ],
   "source": [
    "pv_OD"
   ]
  },
  {
   "cell_type": "markdown",
   "id": "9432a6d2-fbb9-436a-beae-dbdaa690c05d",
   "metadata": {},
   "source": [
    "### Answer\n",
    "* The largest demand of Origin-Destination is **Upper East Side South** zone to **Upper East Side North** zone.\n",
    "* The number of that demand is 18,749."
   ]
  },
  {
   "cell_type": "markdown",
   "id": "e215bec2-7085-4ec1-9e1e-7e41761c22ce",
   "metadata": {},
   "source": [
    "# Q2) Compare the yellow taxi data between January 2022 and June 2022 in terms of:\n",
    "* (1) Total demand (i.e. the number of passengers)\n",
    "* (2) Average trip distance per ride\n",
    "* (3) Distribution of demand across time of day"
   ]
  },
  {
   "cell_type": "markdown",
   "id": "fccb69d8-883c-4841-bb89-3056cf7db198",
   "metadata": {},
   "source": [
    "## (1) Total demand\n",
    "* i.e. the number of passengers\n",
    "* Using `passenger_count` column"
   ]
  },
  {
   "cell_type": "code",
   "execution_count": 25,
   "id": "64b9c5d9-71a3-468b-adf9-c1ce52683f7d",
   "metadata": {
    "execution": {
     "iopub.execute_input": "2022-10-12T09:40:03.721920Z",
     "iopub.status.busy": "2022-10-12T09:40:03.721920Z",
     "iopub.status.idle": "2022-10-12T09:40:03.783800Z",
     "shell.execute_reply": "2022-10-12T09:40:03.782787Z",
     "shell.execute_reply.started": "2022-10-12T09:40:03.721920Z"
    },
    "tags": []
   },
   "outputs": [],
   "source": [
    "total_demand = pd.Series([int(df_jan['passenger_count'].sum()), int(df_jun['passenger_count'].sum())], index = ['January', 'June'])"
   ]
  },
  {
   "cell_type": "code",
   "execution_count": 26,
   "id": "46b2e2c9-31a0-4dbd-80b4-f2b26f043c65",
   "metadata": {
    "execution": {
     "iopub.execute_input": "2022-10-12T09:40:03.784791Z",
     "iopub.status.busy": "2022-10-12T09:40:03.784791Z",
     "iopub.status.idle": "2022-10-12T09:40:03.799303Z",
     "shell.execute_reply": "2022-10-12T09:40:03.798304Z",
     "shell.execute_reply.started": "2022-10-12T09:40:03.784791Z"
    },
    "tags": []
   },
   "outputs": [
    {
     "data": {
      "text/plain": [
       "January    3324167\n",
       "June       4792664\n",
       "dtype: int64"
      ]
     },
     "execution_count": 26,
     "metadata": {},
     "output_type": "execute_result"
    }
   ],
   "source": [
    "total_demand"
   ]
  },
  {
   "cell_type": "markdown",
   "id": "ea07fade-5079-423a-afda-b48edeada20a",
   "metadata": {
    "execution": {
     "iopub.execute_input": "2022-10-12T04:44:12.809389Z",
     "iopub.status.busy": "2022-10-12T04:44:12.808390Z",
     "iopub.status.idle": "2022-10-12T04:44:12.818363Z",
     "shell.execute_reply": "2022-10-12T04:44:12.817395Z",
     "shell.execute_reply.started": "2022-10-12T04:44:12.809389Z"
    },
    "tags": []
   },
   "source": [
    "* The number of passengers in january 2022 is 3,324,167.\n",
    "* The number of passengers in june 2022 is 4,792,664.\n",
    "* The demand of june 2022 is larger than january 2022's."
   ]
  },
  {
   "cell_type": "markdown",
   "id": "caab7046-ee5a-4e2a-89c6-72290d0da23a",
   "metadata": {},
   "source": [
    "## (2) Average trip distance per ride"
   ]
  },
  {
   "cell_type": "code",
   "execution_count": 28,
   "id": "a774be95-36f5-4997-8004-c6de6c41288a",
   "metadata": {
    "execution": {
     "iopub.execute_input": "2022-10-12T09:40:03.941291Z",
     "iopub.status.busy": "2022-10-12T09:40:03.941291Z",
     "iopub.status.idle": "2022-10-12T09:40:03.957219Z",
     "shell.execute_reply": "2022-10-12T09:40:03.956223Z",
     "shell.execute_reply.started": "2022-10-12T09:40:03.941291Z"
    },
    "tags": []
   },
   "outputs": [],
   "source": [
    "avg_trip_distance = pd.Series([df_jan['trip_distance'].mean(), df_jun['trip_distance'].mean()], index = ['January', 'June'])"
   ]
  },
  {
   "cell_type": "code",
   "execution_count": 29,
   "id": "11f534ce-d1da-4e71-b301-322c9a47f0bf",
   "metadata": {
    "execution": {
     "iopub.execute_input": "2022-10-12T09:40:03.959240Z",
     "iopub.status.busy": "2022-10-12T09:40:03.959240Z",
     "iopub.status.idle": "2022-10-12T09:40:03.974214Z",
     "shell.execute_reply": "2022-10-12T09:40:03.972194Z",
     "shell.execute_reply.started": "2022-10-12T09:40:03.959240Z"
    },
    "tags": []
   },
   "outputs": [
    {
     "data": {
      "text/plain": [
       "January    5.372751\n",
       "June       5.968216\n",
       "dtype: float64"
      ]
     },
     "execution_count": 29,
     "metadata": {},
     "output_type": "execute_result"
    }
   ],
   "source": [
    "avg_trip_distance"
   ]
  },
  {
   "cell_type": "markdown",
   "id": "d8b2d74d-238d-4951-8d87-151c9d0fef73",
   "metadata": {},
   "source": [
    "* The average trip distance per ride in january 2022 is about 5.37km.\n",
    "* The average trip distance per ride in january 2022 is about 5.97km.\n",
    "* The average trip distance per ride in june 2022 is 0.6km longer than january 2022's."
   ]
  },
  {
   "cell_type": "markdown",
   "id": "05db07e6-0c31-46c7-af1e-82f6bd2a2eca",
   "metadata": {},
   "source": [
    "## (3) Distributions of demand across time of day"
   ]
  },
  {
   "cell_type": "markdown",
   "id": "18dd7efe-2fea-40b5-83f1-48ae7f2d1bb3",
   "metadata": {},
   "source": [
    "### Parse hour from datetime \n",
    "* `df['A'].dt.date` : YYYY-MM-DD(문자)\n",
    "* `df['A'].dt.year` : 연(4자리 숫자)\n",
    "* `df['A'].dt.month` : 월(숫자)\n",
    "* `df['A'].dt.month_name()` : 월(문자)\n",
    "* `df['A'].dt.day` : 일(숫자)\n",
    "* `df['A'].dt.time` : HH:MM:SS(문자)\n",
    "* `df['A'].dt.hour` : 시(숫자)\n",
    "* `df['A'].dt.minute` : 분(숫자)\n",
    "* `df['A'].dt.second` : 초(숫자)\n",
    "* `df['A'].dt.quarter` : 분기(숫자)\n",
    "* `df['A'].dt.weekday` : 요일숫자(0-월, 1-화), (=dayofweek)\n",
    "* `df['A'].dt.weekofyear` : 연 기준 몇주째(숫자) (=week)\n",
    "* `df['A'].dt.dayofyear` : 연 기준 몇일째(숫자)\n",
    "* `df['A'].dt.days_in_month` : 월 일수(숫자) (=daysinmonth)"
   ]
  },
  {
   "cell_type": "code",
   "execution_count": 31,
   "id": "5b48aa94-9b10-4e2a-a23e-f354bc7333a2",
   "metadata": {
    "execution": {
     "iopub.execute_input": "2022-10-12T09:40:04.106530Z",
     "iopub.status.busy": "2022-10-12T09:40:04.106530Z",
     "iopub.status.idle": "2022-10-12T09:40:04.433562Z",
     "shell.execute_reply": "2022-10-12T09:40:04.433562Z",
     "shell.execute_reply.started": "2022-10-12T09:40:04.106530Z"
    },
    "tags": []
   },
   "outputs": [],
   "source": [
    "df_jan['PU_hour'] = df_jan['tpep_pickup_datetime'].dt.hour\n",
    "df_jun['PU_hour'] = df_jun['tpep_pickup_datetime'].dt.hour"
   ]
  },
  {
   "cell_type": "code",
   "execution_count": 32,
   "id": "8cbc8440-b38a-4257-a207-73fa14685761",
   "metadata": {
    "execution": {
     "iopub.execute_input": "2022-10-12T09:40:04.434597Z",
     "iopub.status.busy": "2022-10-12T09:40:04.434597Z",
     "iopub.status.idle": "2022-10-12T09:40:04.466626Z",
     "shell.execute_reply": "2022-10-12T09:40:04.464656Z",
     "shell.execute_reply.started": "2022-10-12T09:40:04.434597Z"
    },
    "tags": []
   },
   "outputs": [
    {
     "data": {
      "text/html": [
       "<div>\n",
       "<style scoped>\n",
       "    .dataframe tbody tr th:only-of-type {\n",
       "        vertical-align: middle;\n",
       "    }\n",
       "\n",
       "    .dataframe tbody tr th {\n",
       "        vertical-align: top;\n",
       "    }\n",
       "\n",
       "    .dataframe thead th {\n",
       "        text-align: right;\n",
       "    }\n",
       "</style>\n",
       "<table border=\"1\" class=\"dataframe\">\n",
       "  <thead>\n",
       "    <tr style=\"text-align: right;\">\n",
       "      <th></th>\n",
       "      <th>Num</th>\n",
       "      <th>VendorID</th>\n",
       "      <th>tpep_pickup_datetime</th>\n",
       "      <th>tpep_dropoff_datetime</th>\n",
       "      <th>passenger_count</th>\n",
       "      <th>trip_distance</th>\n",
       "      <th>RatecodeID</th>\n",
       "      <th>store_and_fwd_flag</th>\n",
       "      <th>PULocationID</th>\n",
       "      <th>DOLocationID</th>\n",
       "      <th>...</th>\n",
       "      <th>fare_amount</th>\n",
       "      <th>extra</th>\n",
       "      <th>mta_tax</th>\n",
       "      <th>tip_amount</th>\n",
       "      <th>tolls_amount</th>\n",
       "      <th>improvement_surcharge</th>\n",
       "      <th>total_amount</th>\n",
       "      <th>congestion_surcharge</th>\n",
       "      <th>airport_fee</th>\n",
       "      <th>PU_hour</th>\n",
       "    </tr>\n",
       "  </thead>\n",
       "  <tbody>\n",
       "    <tr>\n",
       "      <th>0</th>\n",
       "      <td>0</td>\n",
       "      <td>1</td>\n",
       "      <td>2022-01-01 00:35:40</td>\n",
       "      <td>2022-01-01 00:53:29</td>\n",
       "      <td>2.0</td>\n",
       "      <td>3.80</td>\n",
       "      <td>1.0</td>\n",
       "      <td>N</td>\n",
       "      <td>142</td>\n",
       "      <td>236</td>\n",
       "      <td>...</td>\n",
       "      <td>14.5</td>\n",
       "      <td>3.0</td>\n",
       "      <td>0.5</td>\n",
       "      <td>3.65</td>\n",
       "      <td>0.0</td>\n",
       "      <td>0.3</td>\n",
       "      <td>21.95</td>\n",
       "      <td>2.5</td>\n",
       "      <td>0.0</td>\n",
       "      <td>0</td>\n",
       "    </tr>\n",
       "    <tr>\n",
       "      <th>1</th>\n",
       "      <td>1</td>\n",
       "      <td>1</td>\n",
       "      <td>2022-01-01 00:33:43</td>\n",
       "      <td>2022-01-01 00:42:07</td>\n",
       "      <td>1.0</td>\n",
       "      <td>2.10</td>\n",
       "      <td>1.0</td>\n",
       "      <td>N</td>\n",
       "      <td>236</td>\n",
       "      <td>42</td>\n",
       "      <td>...</td>\n",
       "      <td>8.0</td>\n",
       "      <td>0.5</td>\n",
       "      <td>0.5</td>\n",
       "      <td>4.00</td>\n",
       "      <td>0.0</td>\n",
       "      <td>0.3</td>\n",
       "      <td>13.30</td>\n",
       "      <td>0.0</td>\n",
       "      <td>0.0</td>\n",
       "      <td>0</td>\n",
       "    </tr>\n",
       "    <tr>\n",
       "      <th>2</th>\n",
       "      <td>2</td>\n",
       "      <td>2</td>\n",
       "      <td>2022-01-01 00:53:21</td>\n",
       "      <td>2022-01-01 01:02:19</td>\n",
       "      <td>1.0</td>\n",
       "      <td>0.97</td>\n",
       "      <td>1.0</td>\n",
       "      <td>N</td>\n",
       "      <td>166</td>\n",
       "      <td>166</td>\n",
       "      <td>...</td>\n",
       "      <td>7.5</td>\n",
       "      <td>0.5</td>\n",
       "      <td>0.5</td>\n",
       "      <td>1.76</td>\n",
       "      <td>0.0</td>\n",
       "      <td>0.3</td>\n",
       "      <td>10.56</td>\n",
       "      <td>0.0</td>\n",
       "      <td>0.0</td>\n",
       "      <td>0</td>\n",
       "    </tr>\n",
       "  </tbody>\n",
       "</table>\n",
       "<p>3 rows × 21 columns</p>\n",
       "</div>"
      ],
      "text/plain": [
       "   Num  VendorID tpep_pickup_datetime tpep_dropoff_datetime  passenger_count  \\\n",
       "0    0         1  2022-01-01 00:35:40   2022-01-01 00:53:29              2.0   \n",
       "1    1         1  2022-01-01 00:33:43   2022-01-01 00:42:07              1.0   \n",
       "2    2         2  2022-01-01 00:53:21   2022-01-01 01:02:19              1.0   \n",
       "\n",
       "   trip_distance  RatecodeID store_and_fwd_flag  PULocationID  DOLocationID  \\\n",
       "0           3.80         1.0                  N           142           236   \n",
       "1           2.10         1.0                  N           236            42   \n",
       "2           0.97         1.0                  N           166           166   \n",
       "\n",
       "   ...  fare_amount  extra  mta_tax  tip_amount  tolls_amount  \\\n",
       "0  ...         14.5    3.0      0.5        3.65           0.0   \n",
       "1  ...          8.0    0.5      0.5        4.00           0.0   \n",
       "2  ...          7.5    0.5      0.5        1.76           0.0   \n",
       "\n",
       "   improvement_surcharge  total_amount  congestion_surcharge  airport_fee  \\\n",
       "0                    0.3         21.95                   2.5          0.0   \n",
       "1                    0.3         13.30                   0.0          0.0   \n",
       "2                    0.3         10.56                   0.0          0.0   \n",
       "\n",
       "   PU_hour  \n",
       "0        0  \n",
       "1        0  \n",
       "2        0  \n",
       "\n",
       "[3 rows x 21 columns]"
      ]
     },
     "execution_count": 32,
     "metadata": {},
     "output_type": "execute_result"
    }
   ],
   "source": [
    "df_jan.head(3)"
   ]
  },
  {
   "cell_type": "markdown",
   "id": "178416b4-a19c-42e6-807a-73af3d931119",
   "metadata": {},
   "source": [
    "### Draw distributions of demand across time of day"
   ]
  },
  {
   "cell_type": "code",
   "execution_count": 34,
   "id": "49bb2057-53fa-4741-bf99-e59739d13f79",
   "metadata": {
    "execution": {
     "iopub.execute_input": "2022-10-12T09:40:22.018064Z",
     "iopub.status.busy": "2022-10-12T09:40:22.017068Z",
     "iopub.status.idle": "2022-10-12T09:40:35.134980Z",
     "shell.execute_reply": "2022-10-12T09:40:35.133981Z",
     "shell.execute_reply.started": "2022-10-12T09:40:22.018064Z"
    },
    "tags": []
   },
   "outputs": [
    {
     "name": "stderr",
     "output_type": "stream",
     "text": [
      "C:\\dev\\Anaconda_3\\lib\\site-packages\\seaborn\\distributions.py:2557: FutureWarning: `distplot` is a deprecated function and will be removed in a future version. Please adapt your code to use either `displot` (a figure-level function with similar flexibility) or `histplot` (an axes-level function for histograms).\n",
      "  warnings.warn(msg, FutureWarning)\n",
      "C:\\dev\\Anaconda_3\\lib\\site-packages\\seaborn\\distributions.py:2557: FutureWarning: `distplot` is a deprecated function and will be removed in a future version. Please adapt your code to use either `displot` (a figure-level function with similar flexibility) or `histplot` (an axes-level function for histograms).\n",
      "  warnings.warn(msg, FutureWarning)\n"
     ]
    },
    {
     "data": {
      "image/png": "[encoded data removed]",
      "text/plain": [
       "<Figure size 360x360 with 1 Axes>"
      ]
     },
     "metadata": {
      "needs_background": "light"
     },
     "output_type": "display_data"
    }
   ],
   "source": [
    "# Drawing Density Plot\n",
    "fig, ax = plt.subplots(figsize = (5 , 5))\n",
    "\n",
    "sns.distplot(df_jan['PU_hour'], bins = 24, kde_kws = {'bw_method' : 1})\n",
    "sns.distplot(df_jun['PU_hour'], bins = 24, kde_kws = {'bw_method' : 1})\n",
    "\n",
    "plt.xlim([0, 24])\n",
    "\n",
    "# Graph Title and Label Setting\n",
    "plt.suptitle('The Distribution of the Demand across Time of Day') # 그래프 전체에 대한 Title\n",
    "\n",
    "ax.set_xlabel('Time of Day')\n",
    "ax.set_ylabel('Density')\n",
    "\n",
    "# Add legend\n",
    "plt.legend(labels = ['January', 'June'])\n",
    "\n",
    "# Show Graph\n",
    "plt.show()"
   ]
  }
 ],
 "metadata": {
  "kernelspec": {
   "display_name": "Python 3",
   "language": "python",
   "name": "python3"
  },
  "language_info": {
   "codemirror_mode": {
    "name": "ipython",
    "version": 3
   },
   "file_extension": ".py",
   "mimetype": "text/x-python",
   "name": "python",
   "nbconvert_exporter": "python",
   "pygments_lexer": "ipython3",
   "version": "3.8.8"
  }
 },
 "nbformat": 4,
 "nbformat_minor": 5
}
