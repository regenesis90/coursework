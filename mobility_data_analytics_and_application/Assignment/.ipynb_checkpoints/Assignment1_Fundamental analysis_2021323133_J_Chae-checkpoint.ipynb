{
 "cells": [
  {
   "cell_type": "markdown",
   "id": "ae077372-a632-4ddd-aa79-66ef801d73c2",
   "metadata": {},
   "source": [
    "# Assignment 1\n",
    "* **Chae, Jimin(2021323133)**"
   ]
  },
  {
   "cell_type": "markdown",
   "id": "e40a2a21-5b9d-4adf-baba-8beabfdd5562",
   "metadata": {},
   "source": [
    "# Setup"
   ]
  },
  {
   "cell_type": "markdown",
   "id": "2a882eca-1963-4689-a10a-1db50cefab61",
   "metadata": {},
   "source": [
    "## Import"
   ]
  },
  {
   "cell_type": "code",
   "execution_count": 1,
   "id": "57741002-df48-44af-abb4-9237353fb68d",
   "metadata": {
    "execution": {
     "iopub.execute_input": "2022-09-22T05:06:27.152712Z",
     "iopub.status.busy": "2022-09-22T05:06:27.151717Z",
     "iopub.status.idle": "2022-09-22T05:06:31.675137Z",
     "shell.execute_reply": "2022-09-22T05:06:31.675137Z",
     "shell.execute_reply.started": "2022-09-22T05:06:27.152712Z"
    },
    "tags": []
   },
   "outputs": [],
   "source": [
    "import pandas as pd\n",
    "import numpy as np\n",
    "import math\n",
    "import os\n",
    "\n",
    "import matplotlib.pyplot as plt\n",
    "import seaborn as sns"
   ]
  },
  {
   "cell_type": "markdown",
   "id": "0f2c3228-1786-4704-b5e6-f4cd74d8d07a",
   "metadata": {},
   "source": [
    "## Load Dataset"
   ]
  },
  {
   "cell_type": "code",
   "execution_count": 2,
   "id": "77da1141-2bda-410c-8ba8-8075619c3d08",
   "metadata": {
    "execution": {
     "iopub.execute_input": "2022-09-22T05:06:31.676136Z",
     "iopub.status.busy": "2022-09-22T05:06:31.676136Z",
     "iopub.status.idle": "2022-09-22T05:06:31.691567Z",
     "shell.execute_reply": "2022-09-22T05:06:31.690563Z",
     "shell.execute_reply.started": "2022-09-22T05:06:31.676136Z"
    },
    "tags": []
   },
   "outputs": [],
   "source": [
    "data_file = 'Pdata.csv'"
   ]
  },
  {
   "cell_type": "code",
   "execution_count": 3,
   "id": "2ff7fe83-c8fe-45fe-aeb8-64ec8871c708",
   "metadata": {
    "execution": {
     "iopub.execute_input": "2022-09-22T05:06:31.693557Z",
     "iopub.status.busy": "2022-09-22T05:06:31.692559Z",
     "iopub.status.idle": "2022-09-22T05:06:31.719108Z",
     "shell.execute_reply": "2022-09-22T05:06:31.707598Z",
     "shell.execute_reply.started": "2022-09-22T05:06:31.693557Z"
    },
    "tags": []
   },
   "outputs": [],
   "source": [
    "data_dir = 'D:/OneDrive - 연세대학교 (Yonsei University)/Lectures/2022-2_모빌리티데이터분석및활용/dataset'"
   ]
  },
  {
   "cell_type": "code",
   "execution_count": 4,
   "id": "1d4e421e-0146-4a8b-8a5d-b740cc984b64",
   "metadata": {
    "execution": {
     "iopub.execute_input": "2022-09-22T05:06:31.722102Z",
     "iopub.status.busy": "2022-09-22T05:06:31.722102Z",
     "iopub.status.idle": "2022-09-22T05:06:31.738406Z",
     "shell.execute_reply": "2022-09-22T05:06:31.737901Z",
     "shell.execute_reply.started": "2022-09-22T05:06:31.722102Z"
    },
    "tags": []
   },
   "outputs": [
    {
     "name": "stdout",
     "output_type": "stream",
     "text": [
      "D:/OneDrive - 연세대학교 (Yonsei University)/Lectures/2022-2_모빌리티데이터분석및활용/dataset\\Pdata.csv\n"
     ]
    }
   ],
   "source": [
    "data_path = os.path.join(data_dir, data_file)\n",
    "print(data_path)"
   ]
  },
  {
   "cell_type": "code",
   "execution_count": 5,
   "id": "4c7a3e8b-8557-4658-9905-5beda24fe522",
   "metadata": {
    "execution": {
     "iopub.execute_input": "2022-09-22T05:06:31.739895Z",
     "iopub.status.busy": "2022-09-22T05:06:31.739895Z",
     "iopub.status.idle": "2022-09-22T05:06:31.785649Z",
     "shell.execute_reply": "2022-09-22T05:06:31.784650Z",
     "shell.execute_reply.started": "2022-09-22T05:06:31.739895Z"
    },
    "tags": []
   },
   "outputs": [],
   "source": [
    "data = pd.read_csv(data_path)"
   ]
  },
  {
   "cell_type": "markdown",
   "id": "06df6dee-dd01-4dbd-9a41-5110d6872861",
   "metadata": {},
   "source": [
    "## Data Structure"
   ]
  },
  {
   "cell_type": "code",
   "execution_count": 6,
   "id": "70238511-fd72-4547-8abe-b3456eeeb267",
   "metadata": {
    "execution": {
     "iopub.execute_input": "2022-09-22T05:06:31.788147Z",
     "iopub.status.busy": "2022-09-22T05:06:31.788147Z",
     "iopub.status.idle": "2022-09-22T05:06:31.816347Z",
     "shell.execute_reply": "2022-09-22T05:06:31.816347Z",
     "shell.execute_reply.started": "2022-09-22T05:06:31.788147Z"
    },
    "tags": []
   },
   "outputs": [
    {
     "data": {
      "text/html": [
       "<div>\n",
       "<style scoped>\n",
       "    .dataframe tbody tr th:only-of-type {\n",
       "        vertical-align: middle;\n",
       "    }\n",
       "\n",
       "    .dataframe tbody tr th {\n",
       "        vertical-align: top;\n",
       "    }\n",
       "\n",
       "    .dataframe thead th {\n",
       "        text-align: right;\n",
       "    }\n",
       "</style>\n",
       "<table border=\"1\" class=\"dataframe\">\n",
       "  <thead>\n",
       "    <tr style=\"text-align: right;\">\n",
       "      <th></th>\n",
       "      <th>HH_ID</th>\n",
       "      <th>HHsize</th>\n",
       "      <th>HHsize5</th>\n",
       "      <th>Dcode</th>\n",
       "      <th>Thouse</th>\n",
       "      <th>HHinc</th>\n",
       "      <th>Ncars</th>\n",
       "      <th>P_ID</th>\n",
       "      <th>Byear</th>\n",
       "      <th>Gender</th>\n",
       "      <th>Licence</th>\n",
       "      <th>Job</th>\n",
       "      <th>Workdays</th>\n",
       "      <th>Trip_made</th>\n",
       "      <th>NofTrips</th>\n",
       "      <th>TripTime</th>\n",
       "      <th>Work_TT</th>\n",
       "      <th>Work_AD</th>\n",
       "      <th>Shop_TT</th>\n",
       "      <th>Shop_AD</th>\n",
       "    </tr>\n",
       "  </thead>\n",
       "  <tbody>\n",
       "    <tr>\n",
       "      <th>0</th>\n",
       "      <td>4889</td>\n",
       "      <td>2</td>\n",
       "      <td>2</td>\n",
       "      <td>1138060000</td>\n",
       "      <td>1</td>\n",
       "      <td>4</td>\n",
       "      <td>1</td>\n",
       "      <td>1</td>\n",
       "      <td>1980</td>\n",
       "      <td>1</td>\n",
       "      <td>1</td>\n",
       "      <td>4</td>\n",
       "      <td>2.0</td>\n",
       "      <td>1</td>\n",
       "      <td>2</td>\n",
       "      <td>100.0</td>\n",
       "      <td>60</td>\n",
       "      <td>810</td>\n",
       "      <td>0</td>\n",
       "      <td>0</td>\n",
       "    </tr>\n",
       "    <tr>\n",
       "      <th>1</th>\n",
       "      <td>4889</td>\n",
       "      <td>2</td>\n",
       "      <td>2</td>\n",
       "      <td>1138060000</td>\n",
       "      <td>1</td>\n",
       "      <td>4</td>\n",
       "      <td>1</td>\n",
       "      <td>2</td>\n",
       "      <td>1980</td>\n",
       "      <td>2</td>\n",
       "      <td>1</td>\n",
       "      <td>4</td>\n",
       "      <td>2.0</td>\n",
       "      <td>1</td>\n",
       "      <td>2</td>\n",
       "      <td>60.0</td>\n",
       "      <td>30</td>\n",
       "      <td>660</td>\n",
       "      <td>0</td>\n",
       "      <td>0</td>\n",
       "    </tr>\n",
       "    <tr>\n",
       "      <th>2</th>\n",
       "      <td>4918</td>\n",
       "      <td>4</td>\n",
       "      <td>3</td>\n",
       "      <td>1138060000</td>\n",
       "      <td>1</td>\n",
       "      <td>4</td>\n",
       "      <td>1</td>\n",
       "      <td>1</td>\n",
       "      <td>1972</td>\n",
       "      <td>1</td>\n",
       "      <td>1</td>\n",
       "      <td>4</td>\n",
       "      <td>2.0</td>\n",
       "      <td>1</td>\n",
       "      <td>2</td>\n",
       "      <td>85.0</td>\n",
       "      <td>45</td>\n",
       "      <td>715</td>\n",
       "      <td>0</td>\n",
       "      <td>0</td>\n",
       "    </tr>\n",
       "  </tbody>\n",
       "</table>\n",
       "</div>"
      ],
      "text/plain": [
       "   HH_ID  HHsize  HHsize5       Dcode  Thouse  HHinc  Ncars  P_ID  Byear  \\\n",
       "0   4889       2        2  1138060000       1      4      1     1   1980   \n",
       "1   4889       2        2  1138060000       1      4      1     2   1980   \n",
       "2   4918       4        3  1138060000       1      4      1     1   1972   \n",
       "\n",
       "   Gender  Licence  Job  Workdays  Trip_made  NofTrips  TripTime  Work_TT  \\\n",
       "0       1        1    4       2.0          1         2     100.0       60   \n",
       "1       2        1    4       2.0          1         2      60.0       30   \n",
       "2       1        1    4       2.0          1         2      85.0       45   \n",
       "\n",
       "   Work_AD  Shop_TT  Shop_AD  \n",
       "0      810        0        0  \n",
       "1      660        0        0  \n",
       "2      715        0        0  "
      ]
     },
     "execution_count": 6,
     "metadata": {},
     "output_type": "execute_result"
    }
   ],
   "source": [
    "data.head(3)"
   ]
  },
  {
   "cell_type": "code",
   "execution_count": 7,
   "id": "c84ebe2c-31e9-4447-abef-6b3561b6a785",
   "metadata": {
    "execution": {
     "iopub.execute_input": "2022-09-22T05:06:31.816347Z",
     "iopub.status.busy": "2022-09-22T05:06:31.816347Z",
     "iopub.status.idle": "2022-09-22T05:06:31.833411Z",
     "shell.execute_reply": "2022-09-22T05:06:31.832412Z",
     "shell.execute_reply.started": "2022-09-22T05:06:31.816347Z"
    },
    "tags": []
   },
   "outputs": [
    {
     "data": {
      "text/plain": [
       "Index(['HH_ID', 'HHsize', 'HHsize5', 'Dcode', 'Thouse', 'HHinc', 'Ncars',\n",
       "       'P_ID', 'Byear', 'Gender', 'Licence', 'Job', 'Workdays', 'Trip_made',\n",
       "       'NofTrips', 'TripTime', 'Work_TT', 'Work_AD', 'Shop_TT', 'Shop_AD'],\n",
       "      dtype='object')"
      ]
     },
     "execution_count": 7,
     "metadata": {},
     "output_type": "execute_result"
    }
   ],
   "source": [
    "data.columns # Columns of Pdata.csv"
   ]
  },
  {
   "cell_type": "markdown",
   "id": "8e35ade0",
   "metadata": {},
   "source": [
    "# Q1 (20 points)\n",
    "We are going to investigate how the car-ownership affects the number of trips generated by person. Do people who own a car generate more trips than others? Please answer this question by creating a pivot table"
   ]
  },
  {
   "cell_type": "markdown",
   "id": "5c27f574-d01e-4043-9475-fd69f4310d79",
   "metadata": {},
   "source": [
    "## (1) Make Pivot Table"
   ]
  },
  {
   "cell_type": "code",
   "execution_count": 8,
   "id": "6ef5dc60-b496-497f-af33-e82e0f3c3fe6",
   "metadata": {
    "execution": {
     "iopub.execute_input": "2022-09-22T05:06:31.835407Z",
     "iopub.status.busy": "2022-09-22T05:06:31.834408Z",
     "iopub.status.idle": "2022-09-22T05:06:31.848607Z",
     "shell.execute_reply": "2022-09-22T05:06:31.847607Z",
     "shell.execute_reply.started": "2022-09-22T05:06:31.835407Z"
    },
    "tags": []
   },
   "outputs": [],
   "source": [
    "def car_ownership(Ncars):\n",
    "    \"\"\"\n",
    "    This functhion Label by using 'Ncar' column value.\n",
    "    1 :: Car Owner\n",
    "    2 :: Non-Owner\n",
    "    \"\"\"\n",
    "\n",
    "    if Ncars == 1:\n",
    "        return 'Own'\n",
    "    \n",
    "    elif Ncars == 2:\n",
    "        return 'Non-own'\n",
    "    \n",
    "    else:\n",
    "        pass"
   ]
  },
  {
   "cell_type": "code",
   "execution_count": 9,
   "id": "03a13ed9-3279-4086-b60d-f37909c5e2c7",
   "metadata": {
    "execution": {
     "iopub.execute_input": "2022-09-22T05:06:31.851641Z",
     "iopub.status.busy": "2022-09-22T05:06:31.850628Z",
     "iopub.status.idle": "2022-09-22T05:06:31.862833Z",
     "shell.execute_reply": "2022-09-22T05:06:31.862833Z",
     "shell.execute_reply.started": "2022-09-22T05:06:31.850628Z"
    },
    "tags": []
   },
   "outputs": [],
   "source": [
    "data['Car Ownership'] = data['Ncars'].apply(car_ownership)"
   ]
  },
  {
   "cell_type": "code",
   "execution_count": 10,
   "id": "646c669c",
   "metadata": {
    "execution": {
     "iopub.execute_input": "2022-09-22T05:06:31.863806Z",
     "iopub.status.busy": "2022-09-22T05:06:31.863806Z",
     "iopub.status.idle": "2022-09-22T05:06:31.925666Z",
     "shell.execute_reply": "2022-09-22T05:06:31.925666Z",
     "shell.execute_reply.started": "2022-09-22T05:06:31.863806Z"
    },
    "tags": []
   },
   "outputs": [],
   "source": [
    "pivot_1 = pd.pivot_table(data, index = 'Car Ownership', values = 'NofTrips', aggfunc = 'mean')"
   ]
  },
  {
   "cell_type": "code",
   "execution_count": 11,
   "id": "acf876ed-a573-4796-a5f5-501398ea2f19",
   "metadata": {
    "execution": {
     "iopub.execute_input": "2022-09-22T05:06:31.926665Z",
     "iopub.status.busy": "2022-09-22T05:06:31.926665Z",
     "iopub.status.idle": "2022-09-22T05:06:31.945679Z",
     "shell.execute_reply": "2022-09-22T05:06:31.942686Z",
     "shell.execute_reply.started": "2022-09-22T05:06:31.926665Z"
    },
    "tags": []
   },
   "outputs": [
    {
     "data": {
      "text/html": [
       "<div>\n",
       "<style scoped>\n",
       "    .dataframe tbody tr th:only-of-type {\n",
       "        vertical-align: middle;\n",
       "    }\n",
       "\n",
       "    .dataframe tbody tr th {\n",
       "        vertical-align: top;\n",
       "    }\n",
       "\n",
       "    .dataframe thead th {\n",
       "        text-align: right;\n",
       "    }\n",
       "</style>\n",
       "<table border=\"1\" class=\"dataframe\">\n",
       "  <thead>\n",
       "    <tr style=\"text-align: right;\">\n",
       "      <th></th>\n",
       "      <th>NofTrips</th>\n",
       "    </tr>\n",
       "    <tr>\n",
       "      <th>Car Ownership</th>\n",
       "      <th></th>\n",
       "    </tr>\n",
       "  </thead>\n",
       "  <tbody>\n",
       "    <tr>\n",
       "      <th>Non-own</th>\n",
       "      <td>1.822640</td>\n",
       "    </tr>\n",
       "    <tr>\n",
       "      <th>Own</th>\n",
       "      <td>2.027216</td>\n",
       "    </tr>\n",
       "  </tbody>\n",
       "</table>\n",
       "</div>"
      ],
      "text/plain": [
       "               NofTrips\n",
       "Car Ownership          \n",
       "Non-own        1.822640\n",
       "Own            2.027216"
      ]
     },
     "execution_count": 11,
     "metadata": {},
     "output_type": "execute_result"
    }
   ],
   "source": [
    "pivot_1"
   ]
  },
  {
   "cell_type": "markdown",
   "id": "0addce23-ab4f-4f83-8a92-54f864ca3611",
   "metadata": {},
   "source": [
    "## (2) Draw Bar Graph"
   ]
  },
  {
   "cell_type": "code",
   "execution_count": 12,
   "id": "c45ab081-361b-4aaa-b229-b18fad80c4dc",
   "metadata": {
    "execution": {
     "iopub.execute_input": "2022-09-22T05:06:31.946676Z",
     "iopub.status.busy": "2022-09-22T05:06:31.946676Z",
     "iopub.status.idle": "2022-09-22T05:06:31.958035Z",
     "shell.execute_reply": "2022-09-22T05:06:31.958035Z",
     "shell.execute_reply.started": "2022-09-22T05:06:31.946676Z"
    },
    "tags": []
   },
   "outputs": [],
   "source": [
    "car_ownership = pd.Series(data = pivot_1['NofTrips'], index = pivot_1.index)"
   ]
  },
  {
   "cell_type": "code",
   "execution_count": 13,
   "id": "df323cfa-c77b-414c-9be2-459455ba3bd0",
   "metadata": {
    "execution": {
     "iopub.execute_input": "2022-09-22T05:06:31.959033Z",
     "iopub.status.busy": "2022-09-22T05:06:31.959033Z",
     "iopub.status.idle": "2022-09-22T05:06:31.973044Z",
     "shell.execute_reply": "2022-09-22T05:06:31.973044Z",
     "shell.execute_reply.started": "2022-09-22T05:06:31.959033Z"
    },
    "tags": []
   },
   "outputs": [
    {
     "data": {
      "text/plain": [
       "Car Ownership\n",
       "Non-own    1.822640\n",
       "Own        2.027216\n",
       "Name: NofTrips, dtype: float64"
      ]
     },
     "execution_count": 13,
     "metadata": {},
     "output_type": "execute_result"
    }
   ],
   "source": [
    "car_ownership"
   ]
  },
  {
   "cell_type": "code",
   "execution_count": 14,
   "id": "58c0bea9-bfcc-42d9-8feb-933c1c80f64c",
   "metadata": {
    "execution": {
     "iopub.execute_input": "2022-09-22T05:06:31.974063Z",
     "iopub.status.busy": "2022-09-22T05:06:31.974063Z",
     "iopub.status.idle": "2022-09-22T05:06:32.161312Z",
     "shell.execute_reply": "2022-09-22T05:06:32.161312Z",
     "shell.execute_reply.started": "2022-09-22T05:06:31.974063Z"
    },
    "tags": []
   },
   "outputs": [
    {
     "data": {
      "image/png": "[encoded data removed]",
      "text/plain": [
       "<Figure size 432x288 with 1 Axes>"
      ]
     },
     "metadata": {
      "needs_background": "light"
     },
     "output_type": "display_data"
    }
   ],
   "source": [
    "color_theme = ['#00b0f0', '#ff5050']\n",
    "\n",
    "fig = plt.figure()\n",
    "\n",
    "axis = fig.add_subplot(1, 1, 1)\n",
    "\n",
    "axis.bar(\n",
    "    x = car_ownership.index, \n",
    "    height = car_ownership.values,\n",
    "    color = color_theme,\n",
    "    alpha = 0.8,\n",
    "    edgecolor = color_theme,\n",
    "    linewidth = 3,\n",
    "    width = 0.7\n",
    ")\n",
    "\n",
    "plt.ylim([0, 2.50])\n",
    "\n",
    "for i in range(len(car_ownership.index)):\n",
    "    height = car_ownership.values[i]\n",
    "    plt.text(car_ownership.index[i], height + 0.05, '%.2f' %height, ha = 'center', va = 'bottom', size = 12)\n",
    "\n",
    "\n",
    "# Graph Title and Label Settig\n",
    "axis.set_title('Average Trips by Car Ownership', fontsize = 14)\n",
    "axis.set_xlabel('Car Ownership')\n",
    "axis.set_ylabel('Average Trips(Trip/day)')\n",
    "\n",
    "# Show Graph\n",
    "plt.show()"
   ]
  },
  {
   "cell_type": "markdown",
   "id": "d0153fc0-9300-4e7c-976d-c67dac7beca0",
   "metadata": {},
   "source": [
    "## (3) Interpretatation\n",
    "* According to Pdata.csv, each car owners tend to generate more trips than non-owners on average.\n",
    "* Car owners generate 2.03 trips per day, But non-owners generate 1.82 trips per day, averagily."
   ]
  },
  {
   "cell_type": "markdown",
   "id": "e2dd3a28",
   "metadata": {},
   "source": [
    "# Q2 (30 points)\n",
    "- (1) Draw Kernel density distributions of total travel time for a day by the car-ownership\n",
    "- (2) Interpret the results - how does the distibutions differ? and what does the difference stand for?"
   ]
  },
  {
   "cell_type": "markdown",
   "id": "22e2a2d0-18db-47e6-a69e-9b94d009bdfc",
   "metadata": {},
   "source": [
    "* 통행횟수가 0인 경우, 통행을 하지 않았으므로 통행시간 산정 시 해당 관측치들을 제외해야 할 것이다.\n",
    "* ”0”과 누락값, NaN은 분명히 다른 값임에 유의한다. : 통행시간이 0이라면 순간이동한 거겠지? ㅋㅋㅋ"
   ]
  },
  {
   "cell_type": "markdown",
   "id": "94e9711e-2774-47b4-a75d-b6a610523db0",
   "metadata": {},
   "source": [
    "## (1) Draw Kernel Density Distributions"
   ]
  },
  {
   "cell_type": "code",
   "execution_count": 15,
   "id": "e2615bf5-83a5-461f-8137-97134b509fd3",
   "metadata": {
    "execution": {
     "iopub.execute_input": "2022-09-22T05:06:32.162184Z",
     "iopub.status.busy": "2022-09-22T05:06:32.162184Z",
     "iopub.status.idle": "2022-09-22T05:06:32.176806Z",
     "shell.execute_reply": "2022-09-22T05:06:32.176806Z",
     "shell.execute_reply.started": "2022-09-22T05:06:32.162184Z"
    },
    "tags": []
   },
   "outputs": [
    {
     "data": {
      "text/html": [
       "<div>\n",
       "<style scoped>\n",
       "    .dataframe tbody tr th:only-of-type {\n",
       "        vertical-align: middle;\n",
       "    }\n",
       "\n",
       "    .dataframe tbody tr th {\n",
       "        vertical-align: top;\n",
       "    }\n",
       "\n",
       "    .dataframe thead th {\n",
       "        text-align: right;\n",
       "    }\n",
       "</style>\n",
       "<table border=\"1\" class=\"dataframe\">\n",
       "  <thead>\n",
       "    <tr style=\"text-align: right;\">\n",
       "      <th></th>\n",
       "      <th>HH_ID</th>\n",
       "      <th>HHsize</th>\n",
       "      <th>HHsize5</th>\n",
       "      <th>Dcode</th>\n",
       "      <th>Thouse</th>\n",
       "      <th>HHinc</th>\n",
       "      <th>Ncars</th>\n",
       "      <th>P_ID</th>\n",
       "      <th>Byear</th>\n",
       "      <th>Gender</th>\n",
       "      <th>...</th>\n",
       "      <th>Job</th>\n",
       "      <th>Workdays</th>\n",
       "      <th>Trip_made</th>\n",
       "      <th>NofTrips</th>\n",
       "      <th>TripTime</th>\n",
       "      <th>Work_TT</th>\n",
       "      <th>Work_AD</th>\n",
       "      <th>Shop_TT</th>\n",
       "      <th>Shop_AD</th>\n",
       "      <th>Car Ownership</th>\n",
       "    </tr>\n",
       "  </thead>\n",
       "  <tbody>\n",
       "    <tr>\n",
       "      <th>0</th>\n",
       "      <td>4889</td>\n",
       "      <td>2</td>\n",
       "      <td>2</td>\n",
       "      <td>1138060000</td>\n",
       "      <td>1</td>\n",
       "      <td>4</td>\n",
       "      <td>1</td>\n",
       "      <td>1</td>\n",
       "      <td>1980</td>\n",
       "      <td>1</td>\n",
       "      <td>...</td>\n",
       "      <td>4</td>\n",
       "      <td>2.0</td>\n",
       "      <td>1</td>\n",
       "      <td>2</td>\n",
       "      <td>100.0</td>\n",
       "      <td>60</td>\n",
       "      <td>810</td>\n",
       "      <td>0</td>\n",
       "      <td>0</td>\n",
       "      <td>Own</td>\n",
       "    </tr>\n",
       "    <tr>\n",
       "      <th>1</th>\n",
       "      <td>4889</td>\n",
       "      <td>2</td>\n",
       "      <td>2</td>\n",
       "      <td>1138060000</td>\n",
       "      <td>1</td>\n",
       "      <td>4</td>\n",
       "      <td>1</td>\n",
       "      <td>2</td>\n",
       "      <td>1980</td>\n",
       "      <td>2</td>\n",
       "      <td>...</td>\n",
       "      <td>4</td>\n",
       "      <td>2.0</td>\n",
       "      <td>1</td>\n",
       "      <td>2</td>\n",
       "      <td>60.0</td>\n",
       "      <td>30</td>\n",
       "      <td>660</td>\n",
       "      <td>0</td>\n",
       "      <td>0</td>\n",
       "      <td>Own</td>\n",
       "    </tr>\n",
       "    <tr>\n",
       "      <th>2</th>\n",
       "      <td>4918</td>\n",
       "      <td>4</td>\n",
       "      <td>3</td>\n",
       "      <td>1138060000</td>\n",
       "      <td>1</td>\n",
       "      <td>4</td>\n",
       "      <td>1</td>\n",
       "      <td>1</td>\n",
       "      <td>1972</td>\n",
       "      <td>1</td>\n",
       "      <td>...</td>\n",
       "      <td>4</td>\n",
       "      <td>2.0</td>\n",
       "      <td>1</td>\n",
       "      <td>2</td>\n",
       "      <td>85.0</td>\n",
       "      <td>45</td>\n",
       "      <td>715</td>\n",
       "      <td>0</td>\n",
       "      <td>0</td>\n",
       "      <td>Own</td>\n",
       "    </tr>\n",
       "  </tbody>\n",
       "</table>\n",
       "<p>3 rows × 21 columns</p>\n",
       "</div>"
      ],
      "text/plain": [
       "   HH_ID  HHsize  HHsize5       Dcode  Thouse  HHinc  Ncars  P_ID  Byear  \\\n",
       "0   4889       2        2  1138060000       1      4      1     1   1980   \n",
       "1   4889       2        2  1138060000       1      4      1     2   1980   \n",
       "2   4918       4        3  1138060000       1      4      1     1   1972   \n",
       "\n",
       "   Gender  ...  Job  Workdays  Trip_made  NofTrips  TripTime  Work_TT  \\\n",
       "0       1  ...    4       2.0          1         2     100.0       60   \n",
       "1       2  ...    4       2.0          1         2      60.0       30   \n",
       "2       1  ...    4       2.0          1         2      85.0       45   \n",
       "\n",
       "   Work_AD  Shop_TT  Shop_AD  Car Ownership  \n",
       "0      810        0        0            Own  \n",
       "1      660        0        0            Own  \n",
       "2      715        0        0            Own  \n",
       "\n",
       "[3 rows x 21 columns]"
      ]
     },
     "execution_count": 15,
     "metadata": {},
     "output_type": "execute_result"
    }
   ],
   "source": [
    "data.head(3)"
   ]
  },
  {
   "cell_type": "code",
   "execution_count": 16,
   "id": "900a5940-daea-4e91-b207-2f94dc4e82b6",
   "metadata": {
    "execution": {
     "iopub.execute_input": "2022-09-22T05:06:32.178272Z",
     "iopub.status.busy": "2022-09-22T05:06:32.177768Z",
     "iopub.status.idle": "2022-09-22T05:06:32.549355Z",
     "shell.execute_reply": "2022-09-22T05:06:32.549355Z",
     "shell.execute_reply.started": "2022-09-22T05:06:32.178272Z"
    },
    "tags": []
   },
   "outputs": [
    {
     "data": {
      "image/png": "[encoded data removed]",
      "text/plain": [
       "<Figure size 360x360 with 1 Axes>"
      ]
     },
     "metadata": {
      "needs_background": "light"
     },
     "output_type": "display_data"
    }
   ],
   "source": [
    "# Drawing Kernel Density Curve\n",
    "\n",
    "fig, ax = plt.subplots(figsize = (5 , 5))\n",
    "\n",
    "sns.histplot(ax = ax,\n",
    "             data = data[data['Car Ownership'] == 'Non-own'], \n",
    "             x = 'TripTime', stat = 'density', bins = 50, kde = True,\n",
    "             color = color_theme[0], alpha = 0, edgecolor = 'White')\n",
    "\n",
    "sns.histplot(ax = ax,\n",
    "             data = data[data['Car Ownership'] == 'Own'], \n",
    "             x = 'TripTime', stat = 'density', bins = 50, kde = True,\n",
    "             color = color_theme[1], alpha = 0.0, edgecolor = 'White')\n",
    "\n",
    "plt.ylim([0, 0.014])\n",
    "\n",
    "# Graph Title and Label Settig\n",
    "ax.set_title('Total Travel Time per Day by the Car-ownership', fontsize = 14)\n",
    "ax.set_xlabel('Total Travel Time(min/day)')\n",
    "ax.set_ylabel('Density')\n",
    "\n",
    "# Add legend\n",
    "plt.legend(labels = car_ownership.index)\n",
    "\n",
    "# Show Graph\n",
    "plt.show()"
   ]
  },
  {
   "cell_type": "code",
   "execution_count": null,
   "id": "8420ab95-553e-4e24-9ef5-9c87ca63abee",
   "metadata": {},
   "outputs": [],
   "source": [
    "# Solution\n",
    "sns.displot(data = Pdata, x = 'TripTime', hue = 'Ncars', kind = 'kde')"
   ]
  },
  {
   "cell_type": "code",
   "execution_count": null,
   "id": "6180384c-338f-42e7-92c6-21de003df462",
   "metadata": {},
   "outputs": [],
   "source": [
    "fig, ax = plt.subplots(1, 1, figsize = (10, 8))\n",
    "\n",
    "# distplot은 displot과 달리, 두 개 이상의 그래프를 1개 플롯에 오버랩할 수 있게 함. KDEplot, histplot, 별의별거 다써도 됨\n",
    "ax = sns.distplot(data = Pdata[Pdata['Ncars'] == 1]['Triptime'], kind = 'kde')"
   ]
  },
  {
   "cell_type": "markdown",
   "id": "8096cb81-597f-4adb-82fb-87eff862206e",
   "metadata": {},
   "source": [
    "## (2) Interpretation\n",
    "* According to the kernel density plot, Car owners total travel time is tend to be slightly higher than non-owners.\n",
    "* A peak point of Non-owners total travel time is about 40 min per day. if total travel time is increased from peak point, the curve is rapidly decrease from peak point density value."
   ]
  },
  {
   "cell_type": "markdown",
   "id": "ded749d5",
   "metadata": {},
   "source": [
    "# Q3 (50 points)\n",
    "Aging society is one of the biggest issues all over the world. Many urban and transportation planners try to forecast travel demand in aging society. The travel demand can be measured by the number of trips (i.e. frequency) and the total amount of travel time (i.e. length). The aging society might mean not only \"longer life\" but also \"later retirement\". In this context, we are going to analze relationships among travel demand, age, and employment status.\n",
    "- (1) Draw a line plot to compare the average in the number of trips for a day by different age groups and employment status. Age groups should be classified into 6 groups including \"under or equal to 10s\", \"20s\", \"30s\", \"40s\", \"50s\", and \"equal to or over 60s\". In addition, employment status should be classified into 2 categories: \"Employed\" and \"Unemployed\" (hint: the lecture script already provides the script for the answer.)\n",
    "- (2) Draw a line plot to compare the average in the total travel time for a day by different age groups and employment status.\n",
    "- (3) Based on the results (1) and (2), what is your expectation and forecast of travel demand in aging society - how will possibly the travel demand be changed? Will it be increased or decreased? or having another pattern?"
   ]
  },
  {
   "cell_type": "markdown",
   "id": "22d51460-ee04-4c65-836e-aa1e75433a5b",
   "metadata": {},
   "source": [
    "## (1) Lineplot : Number of Trips\n",
    "* **the average in Number of Trips for a day by different age groups and employment status**\n",
    "* Classify each observation by Age groups\n",
    "* Draw a line plot to compare the average in number of trips for a day by different age roups and employment status\n",
    "* Employment status : 'Employed' / 'Unemployed'\n",
    "* Age group : under or equal to 10s / 20s / 30s / 40s / 50s / equal to or over 60s"
   ]
  },
  {
   "cell_type": "markdown",
   "id": "ac2e8589-fdea-4783-acfb-9a094b2510b9",
   "metadata": {},
   "source": [
    "### i. Classify Observations\n",
    "* By age group\n",
    "* By employment status"
   ]
  },
  {
   "cell_type": "code",
   "execution_count": 17,
   "id": "aaa063b9-3782-49c4-aec4-f7d622e70d1f",
   "metadata": {
    "execution": {
     "iopub.execute_input": "2022-09-22T05:06:32.550355Z",
     "iopub.status.busy": "2022-09-22T05:06:32.550355Z",
     "iopub.status.idle": "2022-09-22T05:06:32.564918Z",
     "shell.execute_reply": "2022-09-22T05:06:32.564918Z",
     "shell.execute_reply.started": "2022-09-22T05:06:32.550355Z"
    },
    "tags": []
   },
   "outputs": [],
   "source": [
    "def age_group(Byear):\n",
    "    \"\"\"\n",
    "    By using 'Byear' column, This function classify age group for each observations.\n",
    "    age = 2022 - Byear\n",
    "    \"\"\"\n",
    "    \n",
    "    age = 2022 - Byear\n",
    "    \n",
    "    if age < 20:\n",
    "        return '≤10s'\n",
    "    \n",
    "    elif age >= 20 and age < 30:\n",
    "        return '20s'\n",
    "    \n",
    "    elif age >= 30 and age < 40:\n",
    "        return '30s'\n",
    "    \n",
    "    elif age >= 40 and age < 50:\n",
    "        return '40s'\n",
    "    \n",
    "    elif age >= 50 and age < 60:\n",
    "        return '50s'\n",
    "    \n",
    "    elif age >= 60:\n",
    "        return '60s≤'\n",
    "    \n",
    "    else:\n",
    "        pass"
   ]
  },
  {
   "cell_type": "code",
   "execution_count": 18,
   "id": "625075e4-7585-4397-8f3c-ad1fd26ef2ad",
   "metadata": {
    "execution": {
     "iopub.execute_input": "2022-09-22T05:06:32.565915Z",
     "iopub.status.busy": "2022-09-22T05:06:32.565915Z",
     "iopub.status.idle": "2022-09-22T05:06:32.580114Z",
     "shell.execute_reply": "2022-09-22T05:06:32.580114Z",
     "shell.execute_reply.started": "2022-09-22T05:06:32.565915Z"
    },
    "tags": []
   },
   "outputs": [],
   "source": [
    "def employment_group(Job):\n",
    "    \"\"\"\n",
    "    By using 'Job' column, This function classify each observations to Employed or unemployed.\n",
    "    Employed : 1, 2, 3, 4, 5, 6, 7, 9\n",
    "    Unemployed : 8\n",
    "    \"\"\"\n",
    "    \n",
    "    Employed = [1, 2, 3, 4, 5, 6, 7, 9]\n",
    "    \n",
    "    if Job in Employed:\n",
    "        return 'Employed'\n",
    "    \n",
    "    elif Job == 8:\n",
    "        return 'Unemployed'\n",
    "    \n",
    "    else:\n",
    "        pass"
   ]
  },
  {
   "cell_type": "code",
   "execution_count": 19,
   "id": "fba5acd9-f85d-4ac0-84e6-eed8bc651756",
   "metadata": {
    "execution": {
     "iopub.execute_input": "2022-09-22T05:06:32.582112Z",
     "iopub.status.busy": "2022-09-22T05:06:32.582112Z",
     "iopub.status.idle": "2022-09-22T05:06:32.597586Z",
     "shell.execute_reply": "2022-09-22T05:06:32.595623Z",
     "shell.execute_reply.started": "2022-09-22T05:06:32.582112Z"
    },
    "tags": []
   },
   "outputs": [],
   "source": [
    "data['Age Group'] = data['Byear'].apply(age_group)"
   ]
  },
  {
   "cell_type": "code",
   "execution_count": 20,
   "id": "3d4fed05-f011-45a0-a2a0-269188f19c51",
   "metadata": {
    "execution": {
     "iopub.execute_input": "2022-09-22T05:06:32.598090Z",
     "iopub.status.busy": "2022-09-22T05:06:32.598090Z",
     "iopub.status.idle": "2022-09-22T05:06:32.626090Z",
     "shell.execute_reply": "2022-09-22T05:06:32.626090Z",
     "shell.execute_reply.started": "2022-09-22T05:06:32.598090Z"
    },
    "tags": []
   },
   "outputs": [],
   "source": [
    "data['Employment Status'] = data['Job'].apply(employment_group)"
   ]
  },
  {
   "cell_type": "markdown",
   "id": "c520bc19-e6e6-4654-8233-b8b22952daad",
   "metadata": {},
   "source": [
    "### ii. Make Pivot Table"
   ]
  },
  {
   "cell_type": "code",
   "execution_count": 21,
   "id": "0810b54e-f561-4b67-af70-f97e01387b97",
   "metadata": {
    "execution": {
     "iopub.execute_input": "2022-09-22T05:06:34.334077Z",
     "iopub.status.busy": "2022-09-22T05:06:34.333090Z",
     "iopub.status.idle": "2022-09-22T05:06:34.384089Z",
     "shell.execute_reply": "2022-09-22T05:06:34.383221Z",
     "shell.execute_reply.started": "2022-09-22T05:06:34.333090Z"
    },
    "tags": []
   },
   "outputs": [],
   "source": [
    "pivot_2 = pd.pivot_table(data, index = 'Age Group', columns = 'Employment Status', values = 'NofTrips', aggfunc = 'mean', margins = True)"
   ]
  },
  {
   "cell_type": "code",
   "execution_count": 22,
   "id": "db4117d9-673e-4bb0-9925-25cf1c7b5989",
   "metadata": {
    "execution": {
     "iopub.execute_input": "2022-09-22T05:06:39.540284Z",
     "iopub.status.busy": "2022-09-22T05:06:39.540284Z",
     "iopub.status.idle": "2022-09-22T05:06:39.562404Z",
     "shell.execute_reply": "2022-09-22T05:06:39.561406Z",
     "shell.execute_reply.started": "2022-09-22T05:06:39.540284Z"
    },
    "tags": []
   },
   "outputs": [
    {
     "data": {
      "text/html": [
       "<div>\n",
       "<style scoped>\n",
       "    .dataframe tbody tr th:only-of-type {\n",
       "        vertical-align: middle;\n",
       "    }\n",
       "\n",
       "    .dataframe tbody tr th {\n",
       "        vertical-align: top;\n",
       "    }\n",
       "\n",
       "    .dataframe thead th {\n",
       "        text-align: right;\n",
       "    }\n",
       "</style>\n",
       "<table border=\"1\" class=\"dataframe\">\n",
       "  <thead>\n",
       "    <tr style=\"text-align: right;\">\n",
       "      <th>Employment Status</th>\n",
       "      <th>Employed</th>\n",
       "      <th>Unemployed</th>\n",
       "      <th>All</th>\n",
       "    </tr>\n",
       "    <tr>\n",
       "      <th>Age Group</th>\n",
       "      <th></th>\n",
       "      <th></th>\n",
       "      <th></th>\n",
       "    </tr>\n",
       "  </thead>\n",
       "  <tbody>\n",
       "    <tr>\n",
       "      <th>20s</th>\n",
       "      <td>2.083333</td>\n",
       "      <td>2.218310</td>\n",
       "      <td>2.204949</td>\n",
       "    </tr>\n",
       "    <tr>\n",
       "      <th>30s</th>\n",
       "      <td>2.083113</td>\n",
       "      <td>1.538106</td>\n",
       "      <td>1.995936</td>\n",
       "    </tr>\n",
       "    <tr>\n",
       "      <th>40s</th>\n",
       "      <td>2.063982</td>\n",
       "      <td>1.015152</td>\n",
       "      <td>2.038560</td>\n",
       "    </tr>\n",
       "    <tr>\n",
       "      <th>50s</th>\n",
       "      <td>2.077756</td>\n",
       "      <td>1.015873</td>\n",
       "      <td>2.052492</td>\n",
       "    </tr>\n",
       "    <tr>\n",
       "      <th>60s≤</th>\n",
       "      <td>1.899298</td>\n",
       "      <td>1.250689</td>\n",
       "      <td>1.722564</td>\n",
       "    </tr>\n",
       "    <tr>\n",
       "      <th>≤10s</th>\n",
       "      <td>NaN</td>\n",
       "      <td>2.710024</td>\n",
       "      <td>2.710024</td>\n",
       "    </tr>\n",
       "    <tr>\n",
       "      <th>All</th>\n",
       "      <td>2.006790</td>\n",
       "      <td>1.831284</td>\n",
       "      <td>1.959366</td>\n",
       "    </tr>\n",
       "  </tbody>\n",
       "</table>\n",
       "</div>"
      ],
      "text/plain": [
       "Employment Status  Employed  Unemployed       All\n",
       "Age Group                                        \n",
       "20s                2.083333    2.218310  2.204949\n",
       "30s                2.083113    1.538106  1.995936\n",
       "40s                2.063982    1.015152  2.038560\n",
       "50s                2.077756    1.015873  2.052492\n",
       "60s≤               1.899298    1.250689  1.722564\n",
       "≤10s                    NaN    2.710024  2.710024\n",
       "All                2.006790    1.831284  1.959366"
      ]
     },
     "execution_count": 22,
     "metadata": {},
     "output_type": "execute_result"
    }
   ],
   "source": [
    "pivot_2"
   ]
  },
  {
   "cell_type": "markdown",
   "id": "41af58e1-ea75-4437-975f-fbf52e402d43",
   "metadata": {},
   "source": [
    "### iii. Draw Lineplot"
   ]
  },
  {
   "cell_type": "code",
   "execution_count": 23,
   "id": "a0936014-e599-4131-8231-51f36616073e",
   "metadata": {
    "execution": {
     "iopub.execute_input": "2022-09-22T05:06:52.043504Z",
     "iopub.status.busy": "2022-09-22T05:06:52.043504Z",
     "iopub.status.idle": "2022-09-22T05:06:52.060885Z",
     "shell.execute_reply": "2022-09-22T05:06:52.060885Z",
     "shell.execute_reply.started": "2022-09-22T05:06:52.043504Z"
    },
    "tags": []
   },
   "outputs": [],
   "source": [
    "color_theme_2 = ['#FF8352', '#00E1DF', '#Dee500']"
   ]
  },
  {
   "cell_type": "code",
   "execution_count": 24,
   "id": "3f1493e5-c11f-4d67-8126-7dd8902a1c11",
   "metadata": {
    "execution": {
     "iopub.execute_input": "2022-09-22T05:06:52.959945Z",
     "iopub.status.busy": "2022-09-22T05:06:52.959945Z",
     "iopub.status.idle": "2022-09-22T05:06:53.178471Z",
     "shell.execute_reply": "2022-09-22T05:06:53.178471Z",
     "shell.execute_reply.started": "2022-09-22T05:06:52.959945Z"
    },
    "tags": []
   },
   "outputs": [
    {
     "data": {
      "image/png": "[encoded data removed]",
      "text/plain": [
       "<Figure size 360x360 with 1 Axes>"
      ]
     },
     "metadata": {
      "needs_background": "light"
     },
     "output_type": "display_data"
    }
   ],
   "source": [
    "fig1, ax = plt.subplots(figsize = (5 , 5))\n",
    "\n",
    "plt.ylim(0, 3.0)\n",
    "\n",
    "ax.plot(pivot_2['All'], color = color_theme_2[2], marker = 'o', alpha = 0.5)\n",
    "ax.plot(pivot_2['Employed'], color = color_theme_2[0], marker = 'o')\n",
    "ax.plot(pivot_2['Unemployed'], color = color_theme_2[1], marker = 'o')\n",
    "\n",
    "for x, y in zip(pivot_2.index, pivot_2['Employed']):\n",
    "    plt.annotate('{:.2f}'.format(y), (x, y), textcoords = 'offset points', xytext = (0, 7), ha = 'center')\n",
    "    \n",
    "for x, y in zip(pivot_2.index, pivot_2['Unemployed']):\n",
    "    plt.annotate('{:.2f}'.format(y), (x, y), textcoords = 'offset points', xytext = (0, 7), ha = 'center')\n",
    "    \n",
    "# Add legend\n",
    "ax.legend(labels = ['All', 'Employed', 'Unemployed'])\n",
    "\n",
    "# Graph Title and Label Settig\n",
    "ax.set_title('Average in Number of Trips for a Day', fontsize = 14)\n",
    "ax.set_xlabel('Age Group')\n",
    "ax.set_ylabel('Number of Trips(trip/day)')\n",
    "\n",
    "# Show Graph\n",
    "plt.show()"
   ]
  },
  {
   "cell_type": "markdown",
   "id": "591ca5bf-2c57-46f4-bd97-affd1f23b865",
   "metadata": {},
   "source": [
    "## (2) line Plot : Total Travel time\n",
    "* **Average in Total Travel time by age groups and employment status**\n",
    "* Draw a line plot to compare the average in the total travel time for a day by different age groups and employment status."
   ]
  },
  {
   "cell_type": "markdown",
   "id": "df54a28f-01fb-4b3d-af64-1b7e18aa39c8",
   "metadata": {},
   "source": [
    "### i. Make Pivot Table"
   ]
  },
  {
   "cell_type": "code",
   "execution_count": 25,
   "id": "e92c7048-fa5a-45c6-84bf-b2ac34046598",
   "metadata": {
    "execution": {
     "iopub.execute_input": "2022-09-22T05:07:22.988837Z",
     "iopub.status.busy": "2022-09-22T05:07:22.987822Z",
     "iopub.status.idle": "2022-09-22T05:07:23.032358Z",
     "shell.execute_reply": "2022-09-22T05:07:23.031370Z",
     "shell.execute_reply.started": "2022-09-22T05:07:22.987822Z"
    },
    "tags": []
   },
   "outputs": [],
   "source": [
    "pivot_3 = pd.pivot_table(data, index = 'Age Group', columns = 'Employment Status', values = 'TripTime', aggfunc = 'mean', margins = True)"
   ]
  },
  {
   "cell_type": "code",
   "execution_count": 26,
   "id": "bcd560cd-fd95-4c98-9f6a-577522cfeeb7",
   "metadata": {
    "execution": {
     "iopub.execute_input": "2022-09-22T05:07:23.487929Z",
     "iopub.status.busy": "2022-09-22T05:07:23.487929Z",
     "iopub.status.idle": "2022-09-22T05:07:23.500004Z",
     "shell.execute_reply": "2022-09-22T05:07:23.499029Z",
     "shell.execute_reply.started": "2022-09-22T05:07:23.487929Z"
    },
    "tags": []
   },
   "outputs": [],
   "source": [
    "pivot_3 = pivot_3.reindex(['≤10s', '20s', '30s', '40s', '50s', '60s≤'])"
   ]
  },
  {
   "cell_type": "code",
   "execution_count": 27,
   "id": "4b6b1ccb-e037-45b4-8bae-4f69148dbcca",
   "metadata": {
    "execution": {
     "iopub.execute_input": "2022-09-22T05:07:23.986313Z",
     "iopub.status.busy": "2022-09-22T05:07:23.986313Z",
     "iopub.status.idle": "2022-09-22T05:07:23.997895Z",
     "shell.execute_reply": "2022-09-22T05:07:23.997895Z",
     "shell.execute_reply.started": "2022-09-22T05:07:23.986313Z"
    },
    "tags": []
   },
   "outputs": [
    {
     "data": {
      "text/html": [
       "<div>\n",
       "<style scoped>\n",
       "    .dataframe tbody tr th:only-of-type {\n",
       "        vertical-align: middle;\n",
       "    }\n",
       "\n",
       "    .dataframe tbody tr th {\n",
       "        vertical-align: top;\n",
       "    }\n",
       "\n",
       "    .dataframe thead th {\n",
       "        text-align: right;\n",
       "    }\n",
       "</style>\n",
       "<table border=\"1\" class=\"dataframe\">\n",
       "  <thead>\n",
       "    <tr style=\"text-align: right;\">\n",
       "      <th>Employment Status</th>\n",
       "      <th>Employed</th>\n",
       "      <th>Unemployed</th>\n",
       "      <th>All</th>\n",
       "    </tr>\n",
       "    <tr>\n",
       "      <th>Age Group</th>\n",
       "      <th></th>\n",
       "      <th></th>\n",
       "      <th></th>\n",
       "    </tr>\n",
       "  </thead>\n",
       "  <tbody>\n",
       "    <tr>\n",
       "      <th>≤10s</th>\n",
       "      <td>NaN</td>\n",
       "      <td>37.942515</td>\n",
       "      <td>37.942515</td>\n",
       "    </tr>\n",
       "    <tr>\n",
       "      <th>20s</th>\n",
       "      <td>80.960265</td>\n",
       "      <td>77.110345</td>\n",
       "      <td>77.509615</td>\n",
       "    </tr>\n",
       "    <tr>\n",
       "      <th>30s</th>\n",
       "      <td>83.201779</td>\n",
       "      <td>87.253333</td>\n",
       "      <td>83.700739</td>\n",
       "    </tr>\n",
       "    <tr>\n",
       "      <th>40s</th>\n",
       "      <td>76.333059</td>\n",
       "      <td>58.656250</td>\n",
       "      <td>76.103210</td>\n",
       "    </tr>\n",
       "    <tr>\n",
       "      <th>50s</th>\n",
       "      <td>70.496215</td>\n",
       "      <td>45.741935</td>\n",
       "      <td>70.177667</td>\n",
       "    </tr>\n",
       "    <tr>\n",
       "      <th>60s≤</th>\n",
       "      <td>56.490301</td>\n",
       "      <td>51.987452</td>\n",
       "      <td>55.586240</td>\n",
       "    </tr>\n",
       "  </tbody>\n",
       "</table>\n",
       "</div>"
      ],
      "text/plain": [
       "Employment Status   Employed  Unemployed        All\n",
       "Age Group                                          \n",
       "≤10s                     NaN   37.942515  37.942515\n",
       "20s                80.960265   77.110345  77.509615\n",
       "30s                83.201779   87.253333  83.700739\n",
       "40s                76.333059   58.656250  76.103210\n",
       "50s                70.496215   45.741935  70.177667\n",
       "60s≤               56.490301   51.987452  55.586240"
      ]
     },
     "execution_count": 27,
     "metadata": {},
     "output_type": "execute_result"
    }
   ],
   "source": [
    "pivot_3"
   ]
  },
  {
   "cell_type": "markdown",
   "id": "5b4cfead-a18e-41ce-bb20-7c86fe553659",
   "metadata": {},
   "source": [
    "### ii. Draw Lineplot"
   ]
  },
  {
   "cell_type": "code",
   "execution_count": 28,
   "id": "bd20f94f-3c76-4343-bbb9-5c1e71edabfd",
   "metadata": {
    "execution": {
     "iopub.execute_input": "2022-09-22T05:07:26.952596Z",
     "iopub.status.busy": "2022-09-22T05:07:26.951598Z",
     "iopub.status.idle": "2022-09-22T05:07:27.163303Z",
     "shell.execute_reply": "2022-09-22T05:07:27.163303Z",
     "shell.execute_reply.started": "2022-09-22T05:07:26.952596Z"
    },
    "tags": []
   },
   "outputs": [
    {
     "data": {
      "image/png": "[encoded data removed]",
      "text/plain": [
       "<Figure size 360x360 with 1 Axes>"
      ]
     },
     "metadata": {
      "needs_background": "light"
     },
     "output_type": "display_data"
    }
   ],
   "source": [
    "fig2, ax2 = plt.subplots(figsize = (5 , 5))\n",
    "\n",
    "plt.ylim(35, 95)\n",
    "\n",
    "ax2.plot(pivot_3['All'], color = color_theme_2[2], marker = 'o', alpha = 0.7)\n",
    "ax2.plot(pivot_3['Employed'], color = color_theme_2[0], marker = 'o')\n",
    "ax2.plot(pivot_3['Unemployed'], color = color_theme_2[1], marker = 'o')\n",
    "\n",
    "for x, y in zip(pivot_3.index, pivot_3['Employed']):\n",
    "    plt.annotate('{:.2f}'.format(y), (x, y), textcoords = 'offset points', xytext = (0, 7), ha = 'center')\n",
    "    \n",
    "for x, y in zip(pivot_3.index, pivot_3['Unemployed']):\n",
    "    plt.annotate('{:.2f}'.format(y), (x, y), textcoords = 'offset points', xytext = (0, 7), ha = 'center')\n",
    "    \n",
    "# Add legend\n",
    "ax2.legend(labels = ['All', 'Employed', 'Unemployed'])\n",
    "\n",
    "# Graph Title and Label Settig\n",
    "ax2.set_title('Average in Total Travel Time for a Day', fontsize = 14)\n",
    "ax2.set_xlabel('Age Group')\n",
    "ax2.set_ylabel('Total Travel Time(min/day)')\n",
    "\n",
    "# Show Graph\n",
    "plt.show()"
   ]
  },
  {
   "cell_type": "code",
   "execution_count": 40,
   "id": "003d0780-ec77-456b-9bd1-d13f402d6221",
   "metadata": {
    "execution": {
     "iopub.execute_input": "2022-09-21T04:34:06.846391Z",
     "iopub.status.busy": "2022-09-21T04:34:06.846391Z",
     "iopub.status.idle": "2022-09-21T04:34:06.860606Z",
     "shell.execute_reply": "2022-09-21T04:34:06.860606Z",
     "shell.execute_reply.started": "2022-09-21T04:34:06.846391Z"
    },
    "tags": []
   },
   "outputs": [
    {
     "data": {
      "text/plain": [
       "0.7297848772809421"
      ]
     },
     "execution_count": 40,
     "metadata": {},
     "output_type": "execute_result"
    }
   ],
   "source": [
    "len(data[data['Employment Status'] == 'Employed'])/len(data)"
   ]
  },
  {
   "cell_type": "markdown",
   "id": "3d78c9a8-494e-42cb-8bd9-b91cb39aedba",
   "metadata": {},
   "source": [
    "### iv. Make Pivot Table\n",
    "* Respondent Count of Dataset"
   ]
  },
  {
   "cell_type": "code",
   "execution_count": 29,
   "id": "cc47eae9-86bf-49af-bbc5-3dc211604db8",
   "metadata": {
    "execution": {
     "iopub.execute_input": "2022-09-22T05:07:46.059864Z",
     "iopub.status.busy": "2022-09-22T05:07:46.059864Z",
     "iopub.status.idle": "2022-09-22T05:07:46.100602Z",
     "shell.execute_reply": "2022-09-22T05:07:46.099634Z",
     "shell.execute_reply.started": "2022-09-22T05:07:46.059864Z"
    },
    "tags": []
   },
   "outputs": [],
   "source": [
    "pivot_4 = pd.pivot_table(data, index = 'Age Group', columns = 'Employment Status', values = 'P_ID', aggfunc = 'count', margins = True)"
   ]
  },
  {
   "cell_type": "code",
   "execution_count": 30,
   "id": "dd266778-dfae-4b43-942e-fe4a3b6dd502",
   "metadata": {
    "execution": {
     "iopub.execute_input": "2022-09-22T05:07:52.255580Z",
     "iopub.status.busy": "2022-09-22T05:07:52.255580Z",
     "iopub.status.idle": "2022-09-22T05:07:52.265948Z",
     "shell.execute_reply": "2022-09-22T05:07:52.265948Z",
     "shell.execute_reply.started": "2022-09-22T05:07:52.255580Z"
    },
    "tags": []
   },
   "outputs": [],
   "source": [
    "pivot_4 = pivot_4.reindex(['≤10s', '20s', '30s', '40s', '50s', '60s≤'])"
   ]
  },
  {
   "cell_type": "code",
   "execution_count": 31,
   "id": "ef97c044-7758-4381-ac2f-de3a5ba68459",
   "metadata": {
    "execution": {
     "iopub.execute_input": "2022-09-22T05:07:52.962423Z",
     "iopub.status.busy": "2022-09-22T05:07:52.962423Z",
     "iopub.status.idle": "2022-09-22T05:07:52.978583Z",
     "shell.execute_reply": "2022-09-22T05:07:52.977585Z",
     "shell.execute_reply.started": "2022-09-22T05:07:52.962423Z"
    },
    "tags": []
   },
   "outputs": [
    {
     "data": {
      "text/html": [
       "<div>\n",
       "<style scoped>\n",
       "    .dataframe tbody tr th:only-of-type {\n",
       "        vertical-align: middle;\n",
       "    }\n",
       "\n",
       "    .dataframe tbody tr th {\n",
       "        vertical-align: top;\n",
       "    }\n",
       "\n",
       "    .dataframe thead th {\n",
       "        text-align: right;\n",
       "    }\n",
       "</style>\n",
       "<table border=\"1\" class=\"dataframe\">\n",
       "  <thead>\n",
       "    <tr style=\"text-align: right;\">\n",
       "      <th>Employment Status</th>\n",
       "      <th>Employed</th>\n",
       "      <th>Unemployed</th>\n",
       "      <th>All</th>\n",
       "    </tr>\n",
       "    <tr>\n",
       "      <th>Age Group</th>\n",
       "      <th></th>\n",
       "      <th></th>\n",
       "      <th></th>\n",
       "    </tr>\n",
       "  </thead>\n",
       "  <tbody>\n",
       "    <tr>\n",
       "      <th>≤10s</th>\n",
       "      <td>NaN</td>\n",
       "      <td>838.0</td>\n",
       "      <td>838</td>\n",
       "    </tr>\n",
       "    <tr>\n",
       "      <th>20s</th>\n",
       "      <td>156.0</td>\n",
       "      <td>1420.0</td>\n",
       "      <td>1576</td>\n",
       "    </tr>\n",
       "    <tr>\n",
       "      <th>30s</th>\n",
       "      <td>2274.0</td>\n",
       "      <td>433.0</td>\n",
       "      <td>2707</td>\n",
       "    </tr>\n",
       "    <tr>\n",
       "      <th>40s</th>\n",
       "      <td>2657.0</td>\n",
       "      <td>66.0</td>\n",
       "      <td>2723</td>\n",
       "    </tr>\n",
       "    <tr>\n",
       "      <th>50s</th>\n",
       "      <td>2585.0</td>\n",
       "      <td>63.0</td>\n",
       "      <td>2648</td>\n",
       "    </tr>\n",
       "    <tr>\n",
       "      <th>60s≤</th>\n",
       "      <td>4846.0</td>\n",
       "      <td>1815.0</td>\n",
       "      <td>6661</td>\n",
       "    </tr>\n",
       "  </tbody>\n",
       "</table>\n",
       "</div>"
      ],
      "text/plain": [
       "Employment Status  Employed  Unemployed   All\n",
       "Age Group                                    \n",
       "≤10s                    NaN       838.0   838\n",
       "20s                   156.0      1420.0  1576\n",
       "30s                  2274.0       433.0  2707\n",
       "40s                  2657.0        66.0  2723\n",
       "50s                  2585.0        63.0  2648\n",
       "60s≤                 4846.0      1815.0  6661"
      ]
     },
     "execution_count": 31,
     "metadata": {},
     "output_type": "execute_result"
    }
   ],
   "source": [
    "pivot_4 # Respondent Count "
   ]
  },
  {
   "cell_type": "markdown",
   "id": "0109b441-8760-4dfc-8b28-b6bdd3d2c70a",
   "metadata": {},
   "source": [
    "## (3) Expectation and Forecast"
   ]
  },
  {
   "cell_type": "markdown",
   "id": "152bc094-f45b-4b24-aeae-07113f1dc44b",
   "metadata": {},
   "source": [
    "### ii. Expectation and forecast\n",
    "* **`Introduction`**\n",
    "    * A lime-colored line in the lineplot is for total respondents. It shows each age group's Number of trips and Total Travel time on average.\n",
    "    * A orange-colored line is for 'Employed' respondents. And a cyan-colored line is for 'Unemployed' respondents.\n",
    "    * About 73.0% of the respondents is 'Employed'. So, trend of average Number of trip and Total travel time for total respondent have similar distribution with Employed's one.\n",
    "* **`Average Number of Trips for a Day`**\n",
    "    * In case of 'Employed' respondent, their average number of trips per a day by average group is almost same with each other(2.06~2.08). But for equal to or over than 60s, their average number of trips for a day is decreased to 1.90.\n",
    "    * In case of 'Unemployed' respondent, increasing the age group, the average number of trips per a day by average group is decreasing. But for equal to or over than 60s, thos values are slightly increase to 1.25 times per a day.\n",
    "    * A distribution of daily number of trips for all respondent is tend to be similar with 'Employed' respondents(Because, about 73.0% of the respondents are 'Employed'). So, Number of trips is decreasing as age is increasing.\n",
    "* **`Average Total Travel Time for a Day`**\n",
    "    * The trend of total respondents is similar to that of 'Employed'. Except for the slight difference in the '20s', it can be seen that the lime-colored line and the orange-colored line overlap in other age groups.\n",
    "    * For both 'Unemployed' and 'Employed', the average total travel time is the highest for respondents in their 30s.\n",
    "    * In the case of 'Unemployed', the average total travel time increases until the 30s, then decreases the most from the 40s to the 50s, showing the minimum value in the 50s (45.74 minutes), and showing a slight increase in the equal to or over 60s(51.99 minutes).\n",
    "    * In the case of 'Employed', the average travel time steadily decreases from those in their 30s to those in their 60s, and the decrease is greatest after those in their 50s.\n",
    "* **`Expected Result`**\n",
    "    * According to the analysis results, the average daily total travel time and the average daily number of trips tend to decrease as the age group increases. \n",
    "    * In other words, as the age increases, the demand for travel decreases on average.\n",
    "    * If the travel demand and employment trends of the given data are maintained, the total number of trips and total travel time will decrease if the society is aging.\n",
    "    * However, even in the same age group, the daily total travel time and the number of trips increase for the Unemployed compared to the Employed. \n",
    "    * Therefore, if the proportion of the unemployed elderly increases compared to now, the travel demand of the aging population may rise."
   ]
  }
 ],
 "metadata": {
  "kernelspec": {
   "display_name": "Python 3",
   "language": "python",
   "name": "python3"
  },
  "language_info": {
   "codemirror_mode": {
    "name": "ipython",
    "version": 3
   },
   "file_extension": ".py",
   "mimetype": "text/x-python",
   "name": "python",
   "nbconvert_exporter": "python",
   "pygments_lexer": "ipython3",
   "version": "3.8.8"
  }
 },
 "nbformat": 4,
 "nbformat_minor": 5
}
