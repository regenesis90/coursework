{
 "cells": [
  {
   "cell_type": "markdown",
   "id": "c93e60dd-be07-4e3d-a95c-5158f7907975",
   "metadata": {},
   "source": [
    "# Assignment 3\n",
    "* Please use an example dataset of travel diary data (linked trip) which are uploaded on LearnUS \n",
    "    * Class Files -> Travel diary -> Travel_data_Linked.csv\n",
    "* For detail information of each column, check “Travel_data_Linked_description.xlsx”)"
   ]
  },
  {
   "cell_type": "markdown",
   "id": "22b2f00c-b61c-439a-a50d-8b347a179e11",
   "metadata": {},
   "source": [
    "# Q1\n",
    "* Develop a decision tree model of forecasting trip purpose by considering the following conditions:\n",
    "    - Use the variables included in the dataset only (Do not use external data)\n",
    "    - Create new variables (i.e. features) using the variables if necessary (e.g., travel time, etc.)\n",
    "    - Apply F1-score as the measurement of the performance\n",
    "*  Submit Jupyter Notebook file of your model and results\n",
    "    - (You don’t need to submit the tree structure, but F1-score should be stated in the results.)"
   ]
  },
  {
   "cell_type": "markdown",
   "id": "22bd6f46-476a-42f6-a1f4-3c82d5a6645f",
   "metadata": {},
   "source": [
    "# Evaluation Criteria\n",
    "* **Absolute Evaluation**\n",
    "* The top 30% students with respect to F1-score will receive 100 points, and the bottom 20% students will receive 70 points.\n",
    "* The others will receive 85 points.\n",
    "* However, the students who fail to develop a tree or apply a wrong method will receive less than 50 points.\n",
    "* Top 3 students with respect to F1-score will present their solutions at the beginning of the lecture."
   ]
  }
 ],
 "metadata": {
  "kernelspec": {
   "display_name": "Python 3",
   "language": "python",
   "name": "python3"
  },
  "language_info": {
   "codemirror_mode": {
    "name": "ipython",
    "version": 3
   },
   "file_extension": ".py",
   "mimetype": "text/x-python",
   "name": "python",
   "nbconvert_exporter": "python",
   "pygments_lexer": "ipython3",
   "version": "3.8.8"
  }
 },
 "nbformat": 4,
 "nbformat_minor": 5
}
