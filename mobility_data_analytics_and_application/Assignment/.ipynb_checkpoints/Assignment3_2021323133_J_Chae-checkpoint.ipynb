{
 "cells": [
  {
   "cell_type": "markdown",
   "id": "c93e60dd-be07-4e3d-a95c-5158f7907975",
   "metadata": {},
   "source": [
    "# Assignment 3\n",
    "* Please use an example dataset of travel diary data (linked trip) which are uploaded on LearnUS \n",
    "    * Class Files -> Travel diary -> Travel_data_Linked.csv\n",
    "* For detail information of each column, check “Travel_data_Linked_description.xlsx”)"
   ]
  },
  {
   "cell_type": "markdown",
   "id": "787294cb-a4ee-4f26-948a-627dc16a7954",
   "metadata": {},
   "source": [
    "# Set up"
   ]
  },
  {
   "cell_type": "markdown",
   "id": "f97ed537-0523-410d-a465-2f5b53fb0b35",
   "metadata": {},
   "source": [
    "## Import"
   ]
  },
  {
   "cell_type": "code",
   "execution_count": 650,
   "id": "8e84da8e-bfb6-4b2e-b700-3b74fd1b9065",
   "metadata": {
    "execution": {
     "iopub.execute_input": "2022-11-03T02:20:40.133282Z",
     "iopub.status.busy": "2022-11-03T02:20:40.133282Z",
     "iopub.status.idle": "2022-11-03T02:20:40.140264Z",
     "shell.execute_reply": "2022-11-03T02:20:40.139268Z",
     "shell.execute_reply.started": "2022-11-03T02:20:40.133282Z"
    },
    "tags": []
   },
   "outputs": [],
   "source": [
    "import os\n",
    "import pandas as pd\n",
    "import numpy as np\n",
    "import seaborn as sns\n",
    "\n",
    "from sklearn.ensemble import RandomForestClassifier\n",
    "from sklearn.metrics import classification_report, confusion_matrix\n",
    "from sklearn.model_selection import train_test_split\n",
    "from sklearn import tree\n",
    "\n",
    "from pydotplus import graph_from_dot_data\n",
    "from sklearn.tree import export_graphviz"
   ]
  },
  {
   "cell_type": "markdown",
   "id": "d33ed27c-21fd-45ff-8d93-76720d536ac7",
   "metadata": {},
   "source": [
    "## Load Dataset"
   ]
  },
  {
   "cell_type": "code",
   "execution_count": 651,
   "id": "10e90af0-3397-4472-978f-d85c5233d5e1",
   "metadata": {
    "execution": {
     "iopub.execute_input": "2022-11-03T02:20:40.141261Z",
     "iopub.status.busy": "2022-11-03T02:20:40.141261Z",
     "iopub.status.idle": "2022-11-03T02:20:40.156228Z",
     "shell.execute_reply": "2022-11-03T02:20:40.155223Z",
     "shell.execute_reply.started": "2022-11-03T02:20:40.141261Z"
    },
    "tags": []
   },
   "outputs": [],
   "source": [
    "data_dir = 'D:/OneDrive - 연세대학교 (Yonsei University)/Lectures/2022-2_모빌리티데이터분석및활용/dataset'"
   ]
  },
  {
   "cell_type": "code",
   "execution_count": 652,
   "id": "4f0df52d-09d8-4493-a3b5-689940da8815",
   "metadata": {
    "execution": {
     "iopub.execute_input": "2022-11-03T02:20:40.157219Z",
     "iopub.status.busy": "2022-11-03T02:20:40.157219Z",
     "iopub.status.idle": "2022-11-03T02:20:40.172190Z",
     "shell.execute_reply": "2022-11-03T02:20:40.171182Z",
     "shell.execute_reply.started": "2022-11-03T02:20:40.157219Z"
    },
    "tags": []
   },
   "outputs": [],
   "source": [
    "data_file = 'Travel_data_Linked.csv'"
   ]
  },
  {
   "cell_type": "code",
   "execution_count": 653,
   "id": "fad4ac5e-7630-4c51-aac4-16aada7a4a51",
   "metadata": {
    "execution": {
     "iopub.execute_input": "2022-11-03T02:20:40.174173Z",
     "iopub.status.busy": "2022-11-03T02:20:40.173176Z",
     "iopub.status.idle": "2022-11-03T02:20:40.187138Z",
     "shell.execute_reply": "2022-11-03T02:20:40.186170Z",
     "shell.execute_reply.started": "2022-11-03T02:20:40.174173Z"
    },
    "tags": []
   },
   "outputs": [],
   "source": [
    "data_path = os.path.join(data_dir, data_file)"
   ]
  },
  {
   "cell_type": "code",
   "execution_count": 654,
   "id": "6f647403-9147-4069-9563-183bac2ea7ff",
   "metadata": {
    "execution": {
     "iopub.execute_input": "2022-11-03T02:20:40.188164Z",
     "iopub.status.busy": "2022-11-03T02:20:40.188164Z",
     "iopub.status.idle": "2022-11-03T02:20:40.313386Z",
     "shell.execute_reply": "2022-11-03T02:20:40.312388Z",
     "shell.execute_reply.started": "2022-11-03T02:20:40.188164Z"
    },
    "tags": []
   },
   "outputs": [],
   "source": [
    "df = pd.read_csv(data_path)"
   ]
  },
  {
   "cell_type": "code",
   "execution_count": 655,
   "id": "259ad9af-ac61-4a23-9e0a-079657763ec0",
   "metadata": {
    "execution": {
     "iopub.execute_input": "2022-11-03T02:20:40.315899Z",
     "iopub.status.busy": "2022-11-03T02:20:40.314897Z",
     "iopub.status.idle": "2022-11-03T02:20:40.363770Z",
     "shell.execute_reply": "2022-11-03T02:20:40.360777Z",
     "shell.execute_reply.started": "2022-11-03T02:20:40.315899Z"
    },
    "tags": []
   },
   "outputs": [
    {
     "data": {
      "text/html": [
       "<div>\n",
       "<style scoped>\n",
       "    .dataframe tbody tr th:only-of-type {\n",
       "        vertical-align: middle;\n",
       "    }\n",
       "\n",
       "    .dataframe tbody tr th {\n",
       "        vertical-align: top;\n",
       "    }\n",
       "\n",
       "    .dataframe thead th {\n",
       "        text-align: right;\n",
       "    }\n",
       "</style>\n",
       "<table border=\"1\" class=\"dataframe\">\n",
       "  <thead>\n",
       "    <tr style=\"text-align: right;\">\n",
       "      <th></th>\n",
       "      <th>No</th>\n",
       "      <th>HH_ID</th>\n",
       "      <th>HHsize</th>\n",
       "      <th>HHsize5</th>\n",
       "      <th>HHinc</th>\n",
       "      <th>Ncars</th>\n",
       "      <th>P_ID</th>\n",
       "      <th>HHrel</th>\n",
       "      <th>Age</th>\n",
       "      <th>Gender</th>\n",
       "      <th>...</th>\n",
       "      <th>Trip_ID</th>\n",
       "      <th>Trip_purpG</th>\n",
       "      <th>Trip_d_P</th>\n",
       "      <th>Trip_d_hh</th>\n",
       "      <th>Trip_d_mm</th>\n",
       "      <th>Trip_d_D</th>\n",
       "      <th>Trip_a_P</th>\n",
       "      <th>Trip_a_hh</th>\n",
       "      <th>Trip_a_mm</th>\n",
       "      <th>Trip_a_D</th>\n",
       "    </tr>\n",
       "  </thead>\n",
       "  <tbody>\n",
       "    <tr>\n",
       "      <th>0</th>\n",
       "      <td>1</td>\n",
       "      <td>4889</td>\n",
       "      <td>2</td>\n",
       "      <td>2</td>\n",
       "      <td>4</td>\n",
       "      <td>1</td>\n",
       "      <td>1</td>\n",
       "      <td>1</td>\n",
       "      <td>36</td>\n",
       "      <td>1</td>\n",
       "      <td>...</td>\n",
       "      <td>1.0</td>\n",
       "      <td>1.0</td>\n",
       "      <td>1.0</td>\n",
       "      <td>6.0</td>\n",
       "      <td>30.0</td>\n",
       "      <td>1.138060e+09</td>\n",
       "      <td>1.0</td>\n",
       "      <td>7.0</td>\n",
       "      <td>30.0</td>\n",
       "      <td>1.168064e+09</td>\n",
       "    </tr>\n",
       "    <tr>\n",
       "      <th>1</th>\n",
       "      <td>2</td>\n",
       "      <td>4889</td>\n",
       "      <td>2</td>\n",
       "      <td>2</td>\n",
       "      <td>4</td>\n",
       "      <td>1</td>\n",
       "      <td>1</td>\n",
       "      <td>1</td>\n",
       "      <td>36</td>\n",
       "      <td>1</td>\n",
       "      <td>...</td>\n",
       "      <td>2.0</td>\n",
       "      <td>5.0</td>\n",
       "      <td>2.0</td>\n",
       "      <td>9.0</td>\n",
       "      <td>0.0</td>\n",
       "      <td>1.168064e+09</td>\n",
       "      <td>2.0</td>\n",
       "      <td>9.0</td>\n",
       "      <td>40.0</td>\n",
       "      <td>1.138060e+09</td>\n",
       "    </tr>\n",
       "    <tr>\n",
       "      <th>2</th>\n",
       "      <td>3</td>\n",
       "      <td>4889</td>\n",
       "      <td>2</td>\n",
       "      <td>2</td>\n",
       "      <td>4</td>\n",
       "      <td>1</td>\n",
       "      <td>2</td>\n",
       "      <td>2</td>\n",
       "      <td>36</td>\n",
       "      <td>2</td>\n",
       "      <td>...</td>\n",
       "      <td>1.0</td>\n",
       "      <td>1.0</td>\n",
       "      <td>1.0</td>\n",
       "      <td>8.0</td>\n",
       "      <td>0.0</td>\n",
       "      <td>1.138060e+09</td>\n",
       "      <td>1.0</td>\n",
       "      <td>8.0</td>\n",
       "      <td>30.0</td>\n",
       "      <td>1.156055e+09</td>\n",
       "    </tr>\n",
       "  </tbody>\n",
       "</table>\n",
       "<p>3 rows × 26 columns</p>\n",
       "</div>"
      ],
      "text/plain": [
       "   No  HH_ID  HHsize  HHsize5  HHinc  Ncars  P_ID  HHrel  Age  Gender  ...  \\\n",
       "0   1   4889       2        2      4      1     1      1   36       1  ...   \n",
       "1   2   4889       2        2      4      1     1      1   36       1  ...   \n",
       "2   3   4889       2        2      4      1     2      2   36       2  ...   \n",
       "\n",
       "   Trip_ID  Trip_purpG  Trip_d_P  Trip_d_hh  Trip_d_mm      Trip_d_D  \\\n",
       "0      1.0         1.0       1.0        6.0       30.0  1.138060e+09   \n",
       "1      2.0         5.0       2.0        9.0        0.0  1.168064e+09   \n",
       "2      1.0         1.0       1.0        8.0        0.0  1.138060e+09   \n",
       "\n",
       "   Trip_a_P  Trip_a_hh  Trip_a_mm      Trip_a_D  \n",
       "0       1.0        7.0       30.0  1.168064e+09  \n",
       "1       2.0        9.0       40.0  1.138060e+09  \n",
       "2       1.0        8.0       30.0  1.156055e+09  \n",
       "\n",
       "[3 rows x 26 columns]"
      ]
     },
     "execution_count": 655,
     "metadata": {},
     "output_type": "execute_result"
    }
   ],
   "source": [
    "df.head(3)"
   ]
  },
  {
   "cell_type": "markdown",
   "id": "22b2f00c-b61c-439a-a50d-8b347a179e11",
   "metadata": {},
   "source": [
    "# Q1\n",
    "* Develop a decision tree model of forecasting trip purpose by considering the following conditions:\n",
    "    - Use the variables included in the dataset only (Do not use external data)\n",
    "    - Create new variables (i.e. features) using the variables if necessary (e.g., travel time, etc.)\n",
    "    - Apply F1-score as the measurement of the performance\n",
    "*  Submit Jupyter Notebook file of your model and results\n",
    "    - (You don’t need to submit the tree structure, but F1-score should be stated in the results.)"
   ]
  },
  {
   "cell_type": "markdown",
   "id": "ae3f2e58-fd7b-48b7-b170-83e70d34497f",
   "metadata": {},
   "source": [
    "### Create Dummy Variables"
   ]
  },
  {
   "cell_type": "code",
   "execution_count": 656,
   "id": "e85983db-0676-45ba-a0bf-aba22e891658",
   "metadata": {
    "execution": {
     "iopub.execute_input": "2022-11-03T02:20:40.365764Z",
     "iopub.status.busy": "2022-11-03T02:20:40.364766Z",
     "iopub.status.idle": "2022-11-03T02:20:40.377732Z",
     "shell.execute_reply": "2022-11-03T02:20:40.375739Z",
     "shell.execute_reply.started": "2022-11-03T02:20:40.365764Z"
    },
    "tags": []
   },
   "outputs": [],
   "source": [
    "def Age_10(Age):\n",
    "    if Age < 20:\n",
    "        return 1\n",
    "    else:\n",
    "        return 0\n",
    "    \n",
    "def Age_20(Age):\n",
    "    if Age < 30 and Age >= 20:\n",
    "        return 1\n",
    "    else:\n",
    "        return 0\n",
    "    \n",
    "def Age_30(Age):\n",
    "    if Age < 40 and Age >= 30:\n",
    "        return 1\n",
    "    else:\n",
    "        return 0\n",
    "\n",
    "def Age_40(Age):\n",
    "    if Age < 50 and Age >= 40:\n",
    "        return 1\n",
    "    else:\n",
    "        return 0\n",
    "\n",
    "def Age_50(Age):\n",
    "    if Age < 65 and Age >= 50:\n",
    "        return 1\n",
    "    else:\n",
    "        return 0\n",
    "    \n",
    "def Age_65(Age):\n",
    "    if Age >= 65:\n",
    "        return 1\n",
    "    else:\n",
    "        return 0"
   ]
  },
  {
   "cell_type": "code",
   "execution_count": 657,
   "id": "34764080-8b9a-438f-9197-f1cac525dbd1",
   "metadata": {
    "execution": {
     "iopub.execute_input": "2022-11-03T02:20:40.380725Z",
     "iopub.status.busy": "2022-11-03T02:20:40.379727Z",
     "iopub.status.idle": "2022-11-03T02:20:40.391694Z",
     "shell.execute_reply": "2022-11-03T02:20:40.390696Z",
     "shell.execute_reply.started": "2022-11-03T02:20:40.380725Z"
    },
    "tags": []
   },
   "outputs": [],
   "source": [
    "def Dummy_car_ownership(Ncars):\n",
    "\n",
    "    if Ncars == 1: # Car own\n",
    "        return 1\n",
    "    elif Ncars == 2: # Do not own\n",
    "        return 0\n",
    "    else:\n",
    "        pass"
   ]
  },
  {
   "cell_type": "code",
   "execution_count": 658,
   "id": "fbc3dd31-3830-4896-a18e-856acc2a04b1",
   "metadata": {
    "execution": {
     "iopub.execute_input": "2022-11-03T02:20:40.393689Z",
     "iopub.status.busy": "2022-11-03T02:20:40.393689Z",
     "iopub.status.idle": "2022-11-03T02:20:40.408653Z",
     "shell.execute_reply": "2022-11-03T02:20:40.406661Z",
     "shell.execute_reply.started": "2022-11-03T02:20:40.393689Z"
    },
    "tags": []
   },
   "outputs": [],
   "source": [
    "def Dummy_HHrel_1(HHrel):\n",
    "    if HHrel == 1: # 'Householder'\n",
    "        return 1\n",
    "    else:\n",
    "        return 0\n",
    "    \n",
    "def Dummy_HHrel_2(HHrel):\n",
    "    if HHrel == 2: # 'Spouse'\n",
    "        return 1\n",
    "    else:\n",
    "        return 0\n",
    "    \n",
    "def Dummy_HHrel_3(HHrel):\n",
    "    if HHrel == 3: # 'Children'\n",
    "        return 1\n",
    "    else:\n",
    "        return 0\n",
    "    \n",
    "def Dummy_HHrel_4(HHrel):\n",
    "    if HHrel == 4: #'Parents'\n",
    "        return 1\n",
    "    else:\n",
    "        return 0\n",
    "    \n",
    "def Dummy_HHrel_5(HHrel):\n",
    "    if HHrel == 5: #'etc.'\n",
    "        return 1\n",
    "    else:\n",
    "        return 0"
   ]
  },
  {
   "cell_type": "code",
   "execution_count": 659,
   "id": "e9395a7a-106c-4128-9bf2-2a91e564c38d",
   "metadata": {
    "execution": {
     "iopub.execute_input": "2022-11-03T02:20:40.412642Z",
     "iopub.status.busy": "2022-11-03T02:20:40.411646Z",
     "iopub.status.idle": "2022-11-03T02:20:40.424138Z",
     "shell.execute_reply": "2022-11-03T02:20:40.422140Z",
     "shell.execute_reply.started": "2022-11-03T02:20:40.412642Z"
    },
    "tags": []
   },
   "outputs": [],
   "source": [
    "def Dummy_Gender(Gender):\n",
    "    if Gender == 1: # Male\n",
    "        return 1\n",
    "    elif Gender == 2: # Female\n",
    "        return 0\n",
    "    else:\n",
    "        pass"
   ]
  },
  {
   "cell_type": "code",
   "execution_count": 660,
   "id": "973866d6-b9cd-454e-a6e1-bc3b2ba74119",
   "metadata": {
    "execution": {
     "iopub.execute_input": "2022-11-03T02:20:40.427127Z",
     "iopub.status.busy": "2022-11-03T02:20:40.426129Z",
     "iopub.status.idle": "2022-11-03T02:20:40.438097Z",
     "shell.execute_reply": "2022-11-03T02:20:40.437100Z",
     "shell.execute_reply.started": "2022-11-03T02:20:40.427127Z"
    },
    "tags": []
   },
   "outputs": [],
   "source": [
    "def Dummy_License(License):\n",
    "\n",
    "    if License == 1: # Own\n",
    "        return 1\n",
    "    elif License == 2: # Do not own\n",
    "        return 0\n",
    "    else:\n",
    "        pass"
   ]
  },
  {
   "cell_type": "code",
   "execution_count": 661,
   "id": "e32daadf-180c-4f66-ba38-4bee042cbd88",
   "metadata": {
    "execution": {
     "iopub.execute_input": "2022-11-03T02:20:40.440093Z",
     "iopub.status.busy": "2022-11-03T02:20:40.439098Z",
     "iopub.status.idle": "2022-11-03T02:20:40.456053Z",
     "shell.execute_reply": "2022-11-03T02:20:40.452060Z",
     "shell.execute_reply.started": "2022-11-03T02:20:40.440093Z"
    },
    "tags": []
   },
   "outputs": [],
   "source": [
    "def Dummy_School_1(School):\n",
    "    if School == 1: #p Preschooler\n",
    "        return 1\n",
    "    else:\n",
    "        return 0\n",
    "\n",
    "def Dummy_School_2(School):\n",
    "    if School == 2: # Elementary School Student\n",
    "        return 1\n",
    "    else:\n",
    "        return 0\n",
    "\n",
    "def Dummy_School_3(School):\n",
    "    if School == 3: # Middle(high) School Student\n",
    "        return 1\n",
    "    else:\n",
    "        return 0\n",
    "\n",
    "def Dummy_School_4(School):\n",
    "    if School == 4: # Undergraduate(Graduate)\n",
    "        return 1\n",
    "    else:\n",
    "        return 0\n",
    "\n",
    "def Dummy_School_5(School):\n",
    "    if School == 5: # Not a Student\n",
    "        return 1\n",
    "    else:\n",
    "        return 0"
   ]
  },
  {
   "cell_type": "code",
   "execution_count": 662,
   "id": "8a203c01-86e0-4cdd-922f-fd0f89ef1397",
   "metadata": {
    "execution": {
     "iopub.execute_input": "2022-11-03T02:20:40.459043Z",
     "iopub.status.busy": "2022-11-03T02:20:40.458045Z",
     "iopub.status.idle": "2022-11-03T02:20:40.469017Z",
     "shell.execute_reply": "2022-11-03T02:20:40.467020Z",
     "shell.execute_reply.started": "2022-11-03T02:20:40.459043Z"
    },
    "tags": []
   },
   "outputs": [],
   "source": [
    "def Dummy_Job_1(Job):\n",
    "    if Job == 1: # Specialized Job\n",
    "        return 1\n",
    "    else:\n",
    "        return 0\n",
    "\n",
    "def Dummy_Job_2(Job):\n",
    "    if Job == 2: # Service\n",
    "        return 1\n",
    "    else:\n",
    "        return 0\n",
    "\n",
    "def Dummy_Job_3(Job):\n",
    "    if Job == 3: # Retail\n",
    "        return 1\n",
    "    else:\n",
    "        return 0\n",
    "\n",
    "def Dummy_Job_4(Job):\n",
    "    if Job == 4: # Management or office\n",
    "        return 1\n",
    "    else:\n",
    "        return 0\n",
    "\n",
    "def Dummy_Job_5(Job):\n",
    "    if Job == 5: # Agriculture\n",
    "        return 1\n",
    "    else:\n",
    "        return 0\n",
    "\n",
    "def Dummy_Job_6(Job):\n",
    "    if Job == 6: # Simple Labor\n",
    "        return 1\n",
    "    else:\n",
    "        return 0\n",
    "\n",
    "def Dummy_Job_7(Job):\n",
    "    if Job == 7: # homemaker\n",
    "        return 1\n",
    "    else:\n",
    "        return 0\n",
    "\n",
    "def Dummy_Job_8(Job):\n",
    "    if Job == 8: # unemployed or student\n",
    "        return 1\n",
    "    else:\n",
    "        return 0\n",
    "\n",
    "def Dummy_Job_9(Job):\n",
    "    if Job == 9: # etc.\n",
    "        return 1\n",
    "    else:\n",
    "        return 0"
   ]
  },
  {
   "cell_type": "code",
   "execution_count": 663,
   "id": "3185ee22-f467-4ab0-9b1d-48f15ba18ed2",
   "metadata": {
    "execution": {
     "iopub.execute_input": "2022-11-03T02:20:40.472009Z",
     "iopub.status.busy": "2022-11-03T02:20:40.472009Z",
     "iopub.status.idle": "2022-11-03T02:20:40.485969Z",
     "shell.execute_reply": "2022-11-03T02:20:40.481984Z",
     "shell.execute_reply.started": "2022-11-03T02:20:40.472009Z"
    },
    "tags": []
   },
   "outputs": [],
   "source": [
    "def Dummy_Workdays_12(Workdays):\n",
    "    if Workdays == 1 or Workdays == 2: # 6~7 day weekly\n",
    "        return 1\n",
    "    else:\n",
    "        return 0\n",
    "\n",
    "def Dummy_Workdays_34(Workdays):\n",
    "    if Workdays == 3 or Workdays == 4: \n",
    "        return 1\n",
    "    else:\n",
    "        return 0\n",
    "    \n",
    "def Dummy_Workdays_1(Workdays):\n",
    "    if Workdays == 1: # 6~7 day weekly\n",
    "        return 1\n",
    "    else:\n",
    "        return 0\n",
    "\n",
    "def Dummy_Workdays_2(Workdays):\n",
    "    if Workdays == 2: \n",
    "        return 1\n",
    "    else:\n",
    "        return 0\n",
    "    \n",
    "\n",
    "def Dummy_Workdays_3(Workdays):\n",
    "    if Workdays == 3: # 3~4 days weekly\n",
    "        return 1\n",
    "    else:\n",
    "        return 0\n",
    "\n",
    "def Dummy_Workdays_4(Workdays):\n",
    "    if Workdays == 4: # 1~2 days weekly\n",
    "        return 1\n",
    "    else:\n",
    "        return 0\n",
    "\n",
    "def Dummy_Workdays_5(Workdays):\n",
    "    if Workdays == 5: # etc.\n",
    "        return 1\n",
    "    else:\n",
    "        return 0"
   ]
  },
  {
   "cell_type": "code",
   "execution_count": 664,
   "id": "241abfee-ad1a-4945-a499-df88996c0575",
   "metadata": {
    "execution": {
     "iopub.execute_input": "2022-11-03T02:20:40.486967Z",
     "iopub.status.busy": "2022-11-03T02:20:40.486967Z",
     "iopub.status.idle": "2022-11-03T02:20:40.498935Z",
     "shell.execute_reply": "2022-11-03T02:20:40.497937Z",
     "shell.execute_reply.started": "2022-11-03T02:20:40.486967Z"
    },
    "tags": []
   },
   "outputs": [],
   "source": [
    "def Dummy_Workhours_1(Workhours):\n",
    "    if Workhours == 1: # Full time\n",
    "        return 1\n",
    "    else:\n",
    "        return 0\n",
    "\n",
    "def Dummy_Workhours_2(Workhours):\n",
    "    if Workhours == 2: # part-time(less than 8 hours)\n",
    "        return 1\n",
    "    else:\n",
    "        return 0\n",
    "\n",
    "def Dummy_Workhours_3(Workhours):\n",
    "    if Workhours == 3: # etc(including irregular work)\n",
    "        return 1\n",
    "    else:\n",
    "        return 0"
   ]
  },
  {
   "cell_type": "code",
   "execution_count": 665,
   "id": "789addcf-c10c-40e3-aaf0-9b193ab80b48",
   "metadata": {
    "execution": {
     "iopub.execute_input": "2022-11-03T02:20:40.500932Z",
     "iopub.status.busy": "2022-11-03T02:20:40.499936Z",
     "iopub.status.idle": "2022-11-03T02:20:40.514895Z",
     "shell.execute_reply": "2022-11-03T02:20:40.513898Z",
     "shell.execute_reply.started": "2022-11-03T02:20:40.500932Z"
    },
    "tags": []
   },
   "outputs": [],
   "source": [
    "def Dummy_Trip_made(Trip_made):\n",
    "    if Trip_made == 1: # Traveled\n",
    "        return 1\n",
    "    elif Trip_made == 2: # Not Traveled\n",
    "        return 0\n",
    "    else:\n",
    "        pass"
   ]
  },
  {
   "cell_type": "code",
   "execution_count": 666,
   "id": "f81dc722-e1a9-4c36-b431-761a9faad199",
   "metadata": {
    "execution": {
     "iopub.execute_input": "2022-11-03T02:20:40.517088Z",
     "iopub.status.busy": "2022-11-03T02:20:40.517088Z",
     "iopub.status.idle": "2022-11-03T02:20:40.530054Z",
     "shell.execute_reply": "2022-11-03T02:20:40.529054Z",
     "shell.execute_reply.started": "2022-11-03T02:20:40.517088Z"
    },
    "tags": []
   },
   "outputs": [],
   "source": [
    "def Dummy_Trip_d_P_1(Trip_d_P):\n",
    "    if Trip_d_P == 1: # AM\n",
    "        return 1\n",
    "    else:\n",
    "        return 0\n",
    "    \n",
    "def Dummy_Trip_d_P_2(Trip_d_P):\n",
    "    if Trip_d_P == 2: # PM\n",
    "        return 1\n",
    "    else:\n",
    "        return 0\n",
    "    \n",
    "def Dummy_Trip_d_P_3(Trip_d_P):\n",
    "    if Trip_d_P == 3: # AM(following day)\n",
    "        return 1\n",
    "    else:\n",
    "        return 0"
   ]
  },
  {
   "cell_type": "code",
   "execution_count": 667,
   "id": "9c8f6ba4-77e6-4034-9e29-61cc0992edcd",
   "metadata": {
    "execution": {
     "iopub.execute_input": "2022-11-03T02:20:40.533068Z",
     "iopub.status.busy": "2022-11-03T02:20:40.532046Z",
     "iopub.status.idle": "2022-11-03T02:20:40.548003Z",
     "shell.execute_reply": "2022-11-03T02:20:40.545012Z",
     "shell.execute_reply.started": "2022-11-03T02:20:40.533068Z"
    },
    "tags": []
   },
   "outputs": [],
   "source": [
    "def Time_hour(Trip_d_hh, Trip_d_P):\n",
    "    if Trip_d_P == 1:\n",
    "        return Trip_d_hh\n",
    "    \n",
    "    elif Trip_d_P == 2:\n",
    "        return (Trip_d_hh + 12)\n",
    "    \n",
    "    elif Trip_d_P == 3:\n",
    "        return (Trip_d_hh + 24)\n",
    "    \n",
    "    else:\n",
    "        pass"
   ]
  },
  {
   "cell_type": "code",
   "execution_count": 668,
   "id": "76e84489-0903-4c43-aff9-b19f2b787a88",
   "metadata": {
    "execution": {
     "iopub.execute_input": "2022-11-03T02:20:40.550996Z",
     "iopub.status.busy": "2022-11-03T02:20:40.550996Z",
     "iopub.status.idle": "2022-11-03T02:20:41.411087Z",
     "shell.execute_reply": "2022-11-03T02:20:41.411087Z",
     "shell.execute_reply.started": "2022-11-03T02:20:40.550996Z"
    },
    "tags": []
   },
   "outputs": [],
   "source": [
    "df['Age_10'] = df['Age'].apply(Age_10)\n",
    "df['Age_20'] = df['Age'].apply(Age_20)\n",
    "df['Age_30'] = df['Age'].apply(Age_30)\n",
    "df['Age_40'] = df['Age'].apply(Age_40)\n",
    "df['Age_50'] = df['Age'].apply(Age_50)\n",
    "df['Age_65'] = df['Age'].apply(Age_65)\n",
    "\n",
    "df['Car_ownership'] = df['Ncars'].apply(Dummy_car_ownership)\n",
    "\n",
    "df['HHrel_1'] = df['HHrel'].apply(Dummy_HHrel_1)\n",
    "df['HHrel_2'] = df['HHrel'].apply(Dummy_HHrel_2)\n",
    "df['HHrel_3'] = df['HHrel'].apply(Dummy_HHrel_3)\n",
    "df['HHrel_4'] = df['HHrel'].apply(Dummy_HHrel_4)\n",
    "df['HHrel_5'] = df['HHrel'].apply(Dummy_HHrel_5)\n",
    "\n",
    "df['Gender_DM'] = df['Gender'].apply(Dummy_Gender)\n",
    "df['License_DM'] = df['Licence'].apply(Dummy_License)\n",
    "\n",
    "df['School_1'] = df['School'].apply(Dummy_School_1)\n",
    "df['School_2'] = df['School'].apply(Dummy_School_2)\n",
    "df['School_3'] = df['School'].apply(Dummy_School_3)\n",
    "df['School_4'] = df['School'].apply(Dummy_School_4)\n",
    "df['School_5'] = df['School'].apply(Dummy_School_5)\n",
    "\n",
    "df['Job_1'] = df['Job'].apply(Dummy_Job_1)\n",
    "df['Job_2'] = df['Job'].apply(Dummy_Job_2)\n",
    "df['Job_3'] = df['Job'].apply(Dummy_Job_3)\n",
    "df['Job_4'] = df['Job'].apply(Dummy_Job_4)\n",
    "df['Job_5'] = df['Job'].apply(Dummy_Job_5)\n",
    "df['Job_6'] = df['Job'].apply(Dummy_Job_6)\n",
    "df['Job_7'] = df['Job'].apply(Dummy_Job_7)\n",
    "df['Job_8'] = df['Job'].apply(Dummy_Job_8)\n",
    "df['Job_9'] = df['Job'].apply(Dummy_Job_9)\n",
    "\n",
    "\n",
    "df['Workdays_12'] = df['Workdays'].apply(Dummy_Workdays_12)\n",
    "df['Workdays_34'] = df['Workdays'].apply(Dummy_Workdays_34)\n",
    "\n",
    "df['Workdays_1'] = df['Workdays'].apply(Dummy_Workdays_1)\n",
    "df['Workdays_2'] = df['Workdays'].apply(Dummy_Workdays_2)\n",
    "df['Workdays_3'] = df['Workdays'].apply(Dummy_Workdays_3)\n",
    "df['Workdays_4'] = df['Workdays'].apply(Dummy_Workdays_4)\n",
    "df['Workdays_5'] = df['Workdays'].apply(Dummy_Workdays_5)\n",
    "\n",
    "df['Workhours_1'] = df['Workhours'].apply(Dummy_Workhours_1)\n",
    "df['Workhours_2'] = df['Workhours'].apply(Dummy_Workhours_2)\n",
    "df['Workhours_3'] = df['Workhours'].apply(Dummy_Workhours_3)\n",
    "\n",
    "df['Trip_d_hour_24'] = df.apply(lambda x : Time_hour(x['Trip_d_hh'], x['Trip_d_P']), axis = 1)\n",
    "\n",
    "df['Trip_d_P_1'] = df['Trip_d_P'].apply(Dummy_Trip_d_P_1)\n",
    "df['Trip_d_P_2'] = df['Trip_d_P'].apply(Dummy_Trip_d_P_2)\n",
    "df['Trip_d_P_3'] = df['Trip_d_P'].apply(Dummy_Trip_d_P_3)"
   ]
  },
  {
   "cell_type": "code",
   "execution_count": 669,
   "id": "c7af283c-d091-462d-8d03-8f2b72157638",
   "metadata": {
    "execution": {
     "iopub.execute_input": "2022-11-03T02:20:41.412055Z",
     "iopub.status.busy": "2022-11-03T02:20:41.412055Z",
     "iopub.status.idle": "2022-11-03T02:20:41.444491Z",
     "shell.execute_reply": "2022-11-03T02:20:41.442502Z",
     "shell.execute_reply.started": "2022-11-03T02:20:41.412055Z"
    },
    "tags": []
   },
   "outputs": [
    {
     "data": {
      "text/html": [
       "<div>\n",
       "<style scoped>\n",
       "    .dataframe tbody tr th:only-of-type {\n",
       "        vertical-align: middle;\n",
       "    }\n",
       "\n",
       "    .dataframe tbody tr th {\n",
       "        vertical-align: top;\n",
       "    }\n",
       "\n",
       "    .dataframe thead th {\n",
       "        text-align: right;\n",
       "    }\n",
       "</style>\n",
       "<table border=\"1\" class=\"dataframe\">\n",
       "  <thead>\n",
       "    <tr style=\"text-align: right;\">\n",
       "      <th></th>\n",
       "      <th>No</th>\n",
       "      <th>HH_ID</th>\n",
       "      <th>HHsize</th>\n",
       "      <th>HHsize5</th>\n",
       "      <th>HHinc</th>\n",
       "      <th>Ncars</th>\n",
       "      <th>P_ID</th>\n",
       "      <th>HHrel</th>\n",
       "      <th>Age</th>\n",
       "      <th>Gender</th>\n",
       "      <th>...</th>\n",
       "      <th>Workdays_3</th>\n",
       "      <th>Workdays_4</th>\n",
       "      <th>Workdays_5</th>\n",
       "      <th>Workhours_1</th>\n",
       "      <th>Workhours_2</th>\n",
       "      <th>Workhours_3</th>\n",
       "      <th>Trip_d_hour_24</th>\n",
       "      <th>Trip_d_P_1</th>\n",
       "      <th>Trip_d_P_2</th>\n",
       "      <th>Trip_d_P_3</th>\n",
       "    </tr>\n",
       "  </thead>\n",
       "  <tbody>\n",
       "    <tr>\n",
       "      <th>0</th>\n",
       "      <td>1</td>\n",
       "      <td>4889</td>\n",
       "      <td>2</td>\n",
       "      <td>2</td>\n",
       "      <td>4</td>\n",
       "      <td>1</td>\n",
       "      <td>1</td>\n",
       "      <td>1</td>\n",
       "      <td>36</td>\n",
       "      <td>1</td>\n",
       "      <td>...</td>\n",
       "      <td>0</td>\n",
       "      <td>0</td>\n",
       "      <td>0</td>\n",
       "      <td>1</td>\n",
       "      <td>0</td>\n",
       "      <td>0</td>\n",
       "      <td>6.0</td>\n",
       "      <td>1</td>\n",
       "      <td>0</td>\n",
       "      <td>0</td>\n",
       "    </tr>\n",
       "    <tr>\n",
       "      <th>1</th>\n",
       "      <td>2</td>\n",
       "      <td>4889</td>\n",
       "      <td>2</td>\n",
       "      <td>2</td>\n",
       "      <td>4</td>\n",
       "      <td>1</td>\n",
       "      <td>1</td>\n",
       "      <td>1</td>\n",
       "      <td>36</td>\n",
       "      <td>1</td>\n",
       "      <td>...</td>\n",
       "      <td>0</td>\n",
       "      <td>0</td>\n",
       "      <td>0</td>\n",
       "      <td>1</td>\n",
       "      <td>0</td>\n",
       "      <td>0</td>\n",
       "      <td>21.0</td>\n",
       "      <td>0</td>\n",
       "      <td>1</td>\n",
       "      <td>0</td>\n",
       "    </tr>\n",
       "    <tr>\n",
       "      <th>2</th>\n",
       "      <td>3</td>\n",
       "      <td>4889</td>\n",
       "      <td>2</td>\n",
       "      <td>2</td>\n",
       "      <td>4</td>\n",
       "      <td>1</td>\n",
       "      <td>2</td>\n",
       "      <td>2</td>\n",
       "      <td>36</td>\n",
       "      <td>2</td>\n",
       "      <td>...</td>\n",
       "      <td>0</td>\n",
       "      <td>0</td>\n",
       "      <td>0</td>\n",
       "      <td>1</td>\n",
       "      <td>0</td>\n",
       "      <td>0</td>\n",
       "      <td>8.0</td>\n",
       "      <td>1</td>\n",
       "      <td>0</td>\n",
       "      <td>0</td>\n",
       "    </tr>\n",
       "  </tbody>\n",
       "</table>\n",
       "<p>3 rows × 68 columns</p>\n",
       "</div>"
      ],
      "text/plain": [
       "   No  HH_ID  HHsize  HHsize5  HHinc  Ncars  P_ID  HHrel  Age  Gender  ...  \\\n",
       "0   1   4889       2        2      4      1     1      1   36       1  ...   \n",
       "1   2   4889       2        2      4      1     1      1   36       1  ...   \n",
       "2   3   4889       2        2      4      1     2      2   36       2  ...   \n",
       "\n",
       "   Workdays_3  Workdays_4  Workdays_5  Workhours_1  Workhours_2  Workhours_3  \\\n",
       "0           0           0           0            1            0            0   \n",
       "1           0           0           0            1            0            0   \n",
       "2           0           0           0            1            0            0   \n",
       "\n",
       "   Trip_d_hour_24  Trip_d_P_1  Trip_d_P_2  Trip_d_P_3  \n",
       "0             6.0           1           0           0  \n",
       "1            21.0           0           1           0  \n",
       "2             8.0           1           0           0  \n",
       "\n",
       "[3 rows x 68 columns]"
      ]
     },
     "execution_count": 669,
     "metadata": {},
     "output_type": "execute_result"
    }
   ],
   "source": [
    "df.head(3)"
   ]
  },
  {
   "cell_type": "markdown",
   "id": "3fa9f648-6997-4d49-a9ae-9edeefb11dfc",
   "metadata": {},
   "source": [
    "### Create Trip Time Variable"
   ]
  },
  {
   "cell_type": "code",
   "execution_count": 670,
   "id": "5702da2d-3597-4fa0-953c-ac17a6d4d99b",
   "metadata": {
    "execution": {
     "iopub.execute_input": "2022-11-03T02:20:41.446484Z",
     "iopub.status.busy": "2022-11-03T02:20:41.446484Z",
     "iopub.status.idle": "2022-11-03T02:20:41.457455Z",
     "shell.execute_reply": "2022-11-03T02:20:41.456486Z",
     "shell.execute_reply.started": "2022-11-03T02:20:41.446484Z"
    },
    "tags": []
   },
   "outputs": [],
   "source": [
    "def Trip_time_calculate(Trip_a_P, Trip_a_hh, Trip_a_mm, Trip_d_P, Trip_d_hh, Trip_d_mm):\n",
    "    Trip_d = Trip_d_hh * 60 + Trip_d_mm\n",
    "    Trip_a = Trip_a_hh * 60 + Trip_a_mm\n",
    "    \n",
    "    if Trip_a_P == Trip_d_P: # 둘의 오전, 오후 포함 시간대가 같은 경우\n",
    "        Trip_time = Trip_a - Trip_d\n",
    "        \n",
    "    elif Trip_a_P == 1 and Trip_d_P == 2: #오전 출발, 오후 도착\n",
    "        Trip_time = (Trip_a + 12 * 60) - Trip_d\n",
    "        \n",
    "    elif Trip_a_P == 2 and Trip_d_P == 3: #오후 출발, 다음날 도착\n",
    "        Trip_time = (Trip_a + 24 * 60) - (Trip_d + 12 * 60)\n",
    "        \n",
    "    elif Trip_a_P == 1 and Trip_d_P == 3: #오전 출발, 다음날 도착\n",
    "        Trip_time = (Trip_a + 24 * 60) - Trip_d\n",
    "        \n",
    "    else:\n",
    "        Trip_time = None\n",
    "        \n",
    "    return Trip_time"
   ]
  },
  {
   "cell_type": "code",
   "execution_count": 671,
   "id": "cede16f5-2932-445c-ac54-578f6d563463",
   "metadata": {
    "execution": {
     "iopub.execute_input": "2022-11-03T02:20:41.458452Z",
     "iopub.status.busy": "2022-11-03T02:20:41.458452Z",
     "iopub.status.idle": "2022-11-03T02:20:42.202175Z",
     "shell.execute_reply": "2022-11-03T02:20:42.201205Z",
     "shell.execute_reply.started": "2022-11-03T02:20:41.458452Z"
    },
    "tags": []
   },
   "outputs": [],
   "source": [
    "df['Trip_time'] = df.apply(lambda x : Trip_time_calculate(x['Trip_a_P'], x['Trip_a_hh'], x['Trip_a_mm'], x['Trip_d_P'], x['Trip_d_hh'], x['Trip_d_mm']) , axis = 1 )"
   ]
  },
  {
   "cell_type": "code",
   "execution_count": 672,
   "id": "804264fa-8d31-43e3-8a1c-c143c8217828",
   "metadata": {
    "execution": {
     "iopub.execute_input": "2022-11-03T02:20:42.203174Z",
     "iopub.status.busy": "2022-11-03T02:20:42.202175Z",
     "iopub.status.idle": "2022-11-03T02:20:42.234604Z",
     "shell.execute_reply": "2022-11-03T02:20:42.233606Z",
     "shell.execute_reply.started": "2022-11-03T02:20:42.203174Z"
    },
    "tags": []
   },
   "outputs": [
    {
     "data": {
      "text/html": [
       "<div>\n",
       "<style scoped>\n",
       "    .dataframe tbody tr th:only-of-type {\n",
       "        vertical-align: middle;\n",
       "    }\n",
       "\n",
       "    .dataframe tbody tr th {\n",
       "        vertical-align: top;\n",
       "    }\n",
       "\n",
       "    .dataframe thead th {\n",
       "        text-align: right;\n",
       "    }\n",
       "</style>\n",
       "<table border=\"1\" class=\"dataframe\">\n",
       "  <thead>\n",
       "    <tr style=\"text-align: right;\">\n",
       "      <th></th>\n",
       "      <th>No</th>\n",
       "      <th>HH_ID</th>\n",
       "      <th>HHsize</th>\n",
       "      <th>HHsize5</th>\n",
       "      <th>HHinc</th>\n",
       "      <th>Ncars</th>\n",
       "      <th>P_ID</th>\n",
       "      <th>HHrel</th>\n",
       "      <th>Age</th>\n",
       "      <th>Gender</th>\n",
       "      <th>...</th>\n",
       "      <th>Workdays_4</th>\n",
       "      <th>Workdays_5</th>\n",
       "      <th>Workhours_1</th>\n",
       "      <th>Workhours_2</th>\n",
       "      <th>Workhours_3</th>\n",
       "      <th>Trip_d_hour_24</th>\n",
       "      <th>Trip_d_P_1</th>\n",
       "      <th>Trip_d_P_2</th>\n",
       "      <th>Trip_d_P_3</th>\n",
       "      <th>Trip_time</th>\n",
       "    </tr>\n",
       "  </thead>\n",
       "  <tbody>\n",
       "    <tr>\n",
       "      <th>0</th>\n",
       "      <td>1</td>\n",
       "      <td>4889</td>\n",
       "      <td>2</td>\n",
       "      <td>2</td>\n",
       "      <td>4</td>\n",
       "      <td>1</td>\n",
       "      <td>1</td>\n",
       "      <td>1</td>\n",
       "      <td>36</td>\n",
       "      <td>1</td>\n",
       "      <td>...</td>\n",
       "      <td>0</td>\n",
       "      <td>0</td>\n",
       "      <td>1</td>\n",
       "      <td>0</td>\n",
       "      <td>0</td>\n",
       "      <td>6.0</td>\n",
       "      <td>1</td>\n",
       "      <td>0</td>\n",
       "      <td>0</td>\n",
       "      <td>60.0</td>\n",
       "    </tr>\n",
       "    <tr>\n",
       "      <th>1</th>\n",
       "      <td>2</td>\n",
       "      <td>4889</td>\n",
       "      <td>2</td>\n",
       "      <td>2</td>\n",
       "      <td>4</td>\n",
       "      <td>1</td>\n",
       "      <td>1</td>\n",
       "      <td>1</td>\n",
       "      <td>36</td>\n",
       "      <td>1</td>\n",
       "      <td>...</td>\n",
       "      <td>0</td>\n",
       "      <td>0</td>\n",
       "      <td>1</td>\n",
       "      <td>0</td>\n",
       "      <td>0</td>\n",
       "      <td>21.0</td>\n",
       "      <td>0</td>\n",
       "      <td>1</td>\n",
       "      <td>0</td>\n",
       "      <td>40.0</td>\n",
       "    </tr>\n",
       "    <tr>\n",
       "      <th>2</th>\n",
       "      <td>3</td>\n",
       "      <td>4889</td>\n",
       "      <td>2</td>\n",
       "      <td>2</td>\n",
       "      <td>4</td>\n",
       "      <td>1</td>\n",
       "      <td>2</td>\n",
       "      <td>2</td>\n",
       "      <td>36</td>\n",
       "      <td>2</td>\n",
       "      <td>...</td>\n",
       "      <td>0</td>\n",
       "      <td>0</td>\n",
       "      <td>1</td>\n",
       "      <td>0</td>\n",
       "      <td>0</td>\n",
       "      <td>8.0</td>\n",
       "      <td>1</td>\n",
       "      <td>0</td>\n",
       "      <td>0</td>\n",
       "      <td>30.0</td>\n",
       "    </tr>\n",
       "  </tbody>\n",
       "</table>\n",
       "<p>3 rows × 69 columns</p>\n",
       "</div>"
      ],
      "text/plain": [
       "   No  HH_ID  HHsize  HHsize5  HHinc  Ncars  P_ID  HHrel  Age  Gender  ...  \\\n",
       "0   1   4889       2        2      4      1     1      1   36       1  ...   \n",
       "1   2   4889       2        2      4      1     1      1   36       1  ...   \n",
       "2   3   4889       2        2      4      1     2      2   36       2  ...   \n",
       "\n",
       "   Workdays_4  Workdays_5  Workhours_1  Workhours_2  Workhours_3  \\\n",
       "0           0           0            1            0            0   \n",
       "1           0           0            1            0            0   \n",
       "2           0           0            1            0            0   \n",
       "\n",
       "   Trip_d_hour_24  Trip_d_P_1  Trip_d_P_2  Trip_d_P_3  Trip_time  \n",
       "0             6.0           1           0           0       60.0  \n",
       "1            21.0           0           1           0       40.0  \n",
       "2             8.0           1           0           0       30.0  \n",
       "\n",
       "[3 rows x 69 columns]"
      ]
     },
     "execution_count": 672,
     "metadata": {},
     "output_type": "execute_result"
    }
   ],
   "source": [
    "df.head(3)"
   ]
  },
  {
   "cell_type": "markdown",
   "id": "792e59b2-973a-4937-8615-4e989816d8c2",
   "metadata": {},
   "source": [
    "### Create Trip Purpose"
   ]
  },
  {
   "cell_type": "code",
   "execution_count": 673,
   "id": "a794d79f-7825-4116-9d8b-02c5e2ee91a7",
   "metadata": {
    "execution": {
     "iopub.execute_input": "2022-11-03T02:20:42.235601Z",
     "iopub.status.busy": "2022-11-03T02:20:42.235601Z",
     "iopub.status.idle": "2022-11-03T02:20:42.249563Z",
     "shell.execute_reply": "2022-11-03T02:20:42.248566Z",
     "shell.execute_reply.started": "2022-11-03T02:20:42.235601Z"
    },
    "tags": []
   },
   "outputs": [],
   "source": [
    "def Trip_purpose(Trip_purpG):\n",
    "    if Trip_purpG == 1:\n",
    "        return 'Work'\n",
    "    \n",
    "    elif Trip_purpG == 2:\n",
    "        return 'Education'\n",
    "    \n",
    "    elif Trip_purpG == 3:\n",
    "        return 'Business'\n",
    "    \n",
    "    elif Trip_purpG == 4:\n",
    "        return 'Shopping/social/leisure'\n",
    "    \n",
    "    elif Trip_purpG == 5:\n",
    "        return 'Back-home'\n",
    "    \n",
    "    elif Trip_purpG == 6:\n",
    "        return 'Other'\n",
    "    \n",
    "    else:\n",
    "        pass"
   ]
  },
  {
   "cell_type": "code",
   "execution_count": 674,
   "id": "3d26daa1-139c-459c-9fdc-e04aa3366878",
   "metadata": {
    "execution": {
     "iopub.execute_input": "2022-11-03T02:20:42.251561Z",
     "iopub.status.busy": "2022-11-03T02:20:42.250561Z",
     "iopub.status.idle": "2022-11-03T02:20:42.282476Z",
     "shell.execute_reply": "2022-11-03T02:20:42.280483Z",
     "shell.execute_reply.started": "2022-11-03T02:20:42.251561Z"
    },
    "tags": []
   },
   "outputs": [],
   "source": [
    "df['Trip_Purpose'] = df['Trip_purpG'].apply(Trip_purpose)"
   ]
  },
  {
   "cell_type": "markdown",
   "id": "3f7b9b62-62ce-428e-b06a-a2bbb4b89967",
   "metadata": {},
   "source": [
    "### Data Filtering"
   ]
  },
  {
   "cell_type": "code",
   "execution_count": 675,
   "id": "57e056d2-7313-453a-97cc-cdaf943fd573",
   "metadata": {
    "execution": {
     "iopub.execute_input": "2022-11-03T02:20:42.284470Z",
     "iopub.status.busy": "2022-11-03T02:20:42.284470Z",
     "iopub.status.idle": "2022-11-03T02:20:42.313399Z",
     "shell.execute_reply": "2022-11-03T02:20:42.312405Z",
     "shell.execute_reply.started": "2022-11-03T02:20:42.284470Z"
    },
    "tags": []
   },
   "outputs": [],
   "source": [
    "full = df[df['Trip_made'] == 1]"
   ]
  },
  {
   "cell_type": "code",
   "execution_count": 676,
   "id": "3598eb41-abfc-416c-82d0-47d40cf38520",
   "metadata": {
    "execution": {
     "iopub.execute_input": "2022-11-03T02:20:42.316390Z",
     "iopub.status.busy": "2022-11-03T02:20:42.316390Z",
     "iopub.status.idle": "2022-11-03T02:20:42.362788Z",
     "shell.execute_reply": "2022-11-03T02:20:42.359795Z",
     "shell.execute_reply.started": "2022-11-03T02:20:42.316390Z"
    },
    "tags": []
   },
   "outputs": [
    {
     "name": "stderr",
     "output_type": "stream",
     "text": [
      "<ipython-input-676-53a8ed2d1e32>:1: SettingWithCopyWarning: \n",
      "A value is trying to be set on a copy of a slice from a DataFrame\n",
      "\n",
      "See the caveats in the documentation: https://pandas.pydata.org/pandas-docs/stable/user_guide/indexing.html#returning-a-view-versus-a-copy\n",
      "  full.dropna(inplace = True)\n"
     ]
    }
   ],
   "source": [
    "full.dropna(inplace = True)"
   ]
  },
  {
   "cell_type": "code",
   "execution_count": 677,
   "id": "fb70094c-f96e-4206-bcb9-776a0ed2c853",
   "metadata": {
    "execution": {
     "iopub.execute_input": "2022-11-03T02:20:42.366778Z",
     "iopub.status.busy": "2022-11-03T02:20:42.365785Z",
     "iopub.status.idle": "2022-11-03T02:20:42.377749Z",
     "shell.execute_reply": "2022-11-03T02:20:42.375757Z",
     "shell.execute_reply.started": "2022-11-03T02:20:42.366778Z"
    },
    "tags": []
   },
   "outputs": [
    {
     "data": {
      "text/plain": [
       "Index(['No', 'HH_ID', 'HHsize', 'HHsize5', 'HHinc', 'Ncars', 'P_ID', 'HHrel',\n",
       "       'Age', 'Gender', 'Licence', 'School', 'Job', 'Workdays', 'Workhours',\n",
       "       'Trip_made', 'Trip_ID', 'Trip_purpG', 'Trip_d_P', 'Trip_d_hh',\n",
       "       'Trip_d_mm', 'Trip_d_D', 'Trip_a_P', 'Trip_a_hh', 'Trip_a_mm',\n",
       "       'Trip_a_D', 'Age_10', 'Age_20', 'Age_30', 'Age_40', 'Age_50', 'Age_65',\n",
       "       'Car_ownership', 'HHrel_1', 'HHrel_2', 'HHrel_3', 'HHrel_4', 'HHrel_5',\n",
       "       'Gender_DM', 'License_DM', 'School_1', 'School_2', 'School_3',\n",
       "       'School_4', 'School_5', 'Job_1', 'Job_2', 'Job_3', 'Job_4', 'Job_5',\n",
       "       'Job_6', 'Job_7', 'Job_8', 'Job_9', 'Workdays_12', 'Workdays_34',\n",
       "       'Workdays_1', 'Workdays_2', 'Workdays_3', 'Workdays_4', 'Workdays_5',\n",
       "       'Workhours_1', 'Workhours_2', 'Workhours_3', 'Trip_d_hour_24',\n",
       "       'Trip_d_P_1', 'Trip_d_P_2', 'Trip_d_P_3', 'Trip_time', 'Trip_Purpose'],\n",
       "      dtype='object')"
      ]
     },
     "execution_count": 677,
     "metadata": {},
     "output_type": "execute_result"
    }
   ],
   "source": [
    "full.columns"
   ]
  },
  {
   "cell_type": "markdown",
   "id": "5ec0c8b0-19f9-496f-add1-38830ceca1c8",
   "metadata": {},
   "source": [
    "## Create Derived Variable"
   ]
  },
  {
   "cell_type": "code",
   "execution_count": 678,
   "id": "eddbfd6e-8627-4ffe-8d69-bb576aae7a43",
   "metadata": {
    "execution": {
     "iopub.execute_input": "2022-11-03T02:20:42.378744Z",
     "iopub.status.busy": "2022-11-03T02:20:42.378744Z",
     "iopub.status.idle": "2022-11-03T02:20:42.392708Z",
     "shell.execute_reply": "2022-11-03T02:20:42.390716Z",
     "shell.execute_reply.started": "2022-11-03T02:20:42.378744Z"
    },
    "tags": []
   },
   "outputs": [
    {
     "data": {
      "text/plain": [
       "array([1, 2, 5, 3, 4], dtype=int64)"
      ]
     },
     "execution_count": 678,
     "metadata": {},
     "output_type": "execute_result"
    }
   ],
   "source": [
    "full['HHrel'].unique()"
   ]
  },
  {
   "cell_type": "code",
   "execution_count": 679,
   "id": "f06f67b2-f17f-4803-9c88-c14b4cfe388b",
   "metadata": {
    "execution": {
     "iopub.execute_input": "2022-11-03T02:20:42.393710Z",
     "iopub.status.busy": "2022-11-03T02:20:42.393710Z",
     "iopub.status.idle": "2022-11-03T02:20:42.458085Z",
     "shell.execute_reply": "2022-11-03T02:20:42.454097Z",
     "shell.execute_reply.started": "2022-11-03T02:20:42.393710Z"
    },
    "tags": []
   },
   "outputs": [
    {
     "data": {
      "text/html": [
       "<div>\n",
       "<style scoped>\n",
       "    .dataframe tbody tr th:only-of-type {\n",
       "        vertical-align: middle;\n",
       "    }\n",
       "\n",
       "    .dataframe tbody tr th {\n",
       "        vertical-align: top;\n",
       "    }\n",
       "\n",
       "    .dataframe thead th {\n",
       "        text-align: right;\n",
       "    }\n",
       "</style>\n",
       "<table border=\"1\" class=\"dataframe\">\n",
       "  <thead>\n",
       "    <tr style=\"text-align: right;\">\n",
       "      <th></th>\n",
       "      <th></th>\n",
       "      <th>Trip_purpG</th>\n",
       "      <th>1.0</th>\n",
       "      <th>2.0</th>\n",
       "      <th>3.0</th>\n",
       "      <th>4.0</th>\n",
       "      <th>5.0</th>\n",
       "      <th>6.0</th>\n",
       "    </tr>\n",
       "    <tr>\n",
       "      <th></th>\n",
       "      <th>Job</th>\n",
       "      <th>HHrel</th>\n",
       "      <th></th>\n",
       "      <th></th>\n",
       "      <th></th>\n",
       "      <th></th>\n",
       "      <th></th>\n",
       "      <th></th>\n",
       "    </tr>\n",
       "  </thead>\n",
       "  <tbody>\n",
       "    <tr>\n",
       "      <th rowspan=\"33\" valign=\"top\">P_ID</th>\n",
       "      <th rowspan=\"5\" valign=\"top\">1.0</th>\n",
       "      <th>1</th>\n",
       "      <td>251.0</td>\n",
       "      <td>2.0</td>\n",
       "      <td>42.0</td>\n",
       "      <td>25.0</td>\n",
       "      <td>277.0</td>\n",
       "      <td>16.0</td>\n",
       "    </tr>\n",
       "    <tr>\n",
       "      <th>2</th>\n",
       "      <td>63.0</td>\n",
       "      <td>NaN</td>\n",
       "      <td>NaN</td>\n",
       "      <td>6.0</td>\n",
       "      <td>70.0</td>\n",
       "      <td>4.0</td>\n",
       "    </tr>\n",
       "    <tr>\n",
       "      <th>3</th>\n",
       "      <td>43.0</td>\n",
       "      <td>1.0</td>\n",
       "      <td>2.0</td>\n",
       "      <td>5.0</td>\n",
       "      <td>46.0</td>\n",
       "      <td>1.0</td>\n",
       "    </tr>\n",
       "    <tr>\n",
       "      <th>4</th>\n",
       "      <td>5.0</td>\n",
       "      <td>NaN</td>\n",
       "      <td>3.0</td>\n",
       "      <td>1.0</td>\n",
       "      <td>7.0</td>\n",
       "      <td>2.0</td>\n",
       "    </tr>\n",
       "    <tr>\n",
       "      <th>5</th>\n",
       "      <td>8.0</td>\n",
       "      <td>NaN</td>\n",
       "      <td>NaN</td>\n",
       "      <td>1.0</td>\n",
       "      <td>11.0</td>\n",
       "      <td>NaN</td>\n",
       "    </tr>\n",
       "    <tr>\n",
       "      <th rowspan=\"5\" valign=\"top\">2.0</th>\n",
       "      <th>1</th>\n",
       "      <td>1048.0</td>\n",
       "      <td>6.0</td>\n",
       "      <td>142.0</td>\n",
       "      <td>90.0</td>\n",
       "      <td>1072.0</td>\n",
       "      <td>63.0</td>\n",
       "    </tr>\n",
       "    <tr>\n",
       "      <th>2</th>\n",
       "      <td>564.0</td>\n",
       "      <td>NaN</td>\n",
       "      <td>27.0</td>\n",
       "      <td>71.0</td>\n",
       "      <td>593.0</td>\n",
       "      <td>34.0</td>\n",
       "    </tr>\n",
       "    <tr>\n",
       "      <th>3</th>\n",
       "      <td>208.0</td>\n",
       "      <td>1.0</td>\n",
       "      <td>4.0</td>\n",
       "      <td>16.0</td>\n",
       "      <td>211.0</td>\n",
       "      <td>9.0</td>\n",
       "    </tr>\n",
       "    <tr>\n",
       "      <th>4</th>\n",
       "      <td>13.0</td>\n",
       "      <td>NaN</td>\n",
       "      <td>3.0</td>\n",
       "      <td>1.0</td>\n",
       "      <td>13.0</td>\n",
       "      <td>NaN</td>\n",
       "    </tr>\n",
       "    <tr>\n",
       "      <th>5</th>\n",
       "      <td>40.0</td>\n",
       "      <td>4.0</td>\n",
       "      <td>1.0</td>\n",
       "      <td>4.0</td>\n",
       "      <td>42.0</td>\n",
       "      <td>1.0</td>\n",
       "    </tr>\n",
       "    <tr>\n",
       "      <th rowspan=\"5\" valign=\"top\">3.0</th>\n",
       "      <th>1</th>\n",
       "      <td>1368.0</td>\n",
       "      <td>2.0</td>\n",
       "      <td>151.0</td>\n",
       "      <td>114.0</td>\n",
       "      <td>1408.0</td>\n",
       "      <td>40.0</td>\n",
       "    </tr>\n",
       "    <tr>\n",
       "      <th>2</th>\n",
       "      <td>698.0</td>\n",
       "      <td>NaN</td>\n",
       "      <td>45.0</td>\n",
       "      <td>63.0</td>\n",
       "      <td>723.0</td>\n",
       "      <td>22.0</td>\n",
       "    </tr>\n",
       "    <tr>\n",
       "      <th>3</th>\n",
       "      <td>294.0</td>\n",
       "      <td>1.0</td>\n",
       "      <td>4.0</td>\n",
       "      <td>17.0</td>\n",
       "      <td>298.0</td>\n",
       "      <td>4.0</td>\n",
       "    </tr>\n",
       "    <tr>\n",
       "      <th>4</th>\n",
       "      <td>31.0</td>\n",
       "      <td>NaN</td>\n",
       "      <td>NaN</td>\n",
       "      <td>1.0</td>\n",
       "      <td>34.0</td>\n",
       "      <td>1.0</td>\n",
       "    </tr>\n",
       "    <tr>\n",
       "      <th>5</th>\n",
       "      <td>52.0</td>\n",
       "      <td>1.0</td>\n",
       "      <td>2.0</td>\n",
       "      <td>4.0</td>\n",
       "      <td>54.0</td>\n",
       "      <td>NaN</td>\n",
       "    </tr>\n",
       "    <tr>\n",
       "      <th rowspan=\"5\" valign=\"top\">4.0</th>\n",
       "      <th>1</th>\n",
       "      <td>1781.0</td>\n",
       "      <td>2.0</td>\n",
       "      <td>185.0</td>\n",
       "      <td>188.0</td>\n",
       "      <td>1834.0</td>\n",
       "      <td>77.0</td>\n",
       "    </tr>\n",
       "    <tr>\n",
       "      <th>2</th>\n",
       "      <td>494.0</td>\n",
       "      <td>NaN</td>\n",
       "      <td>14.0</td>\n",
       "      <td>43.0</td>\n",
       "      <td>510.0</td>\n",
       "      <td>18.0</td>\n",
       "    </tr>\n",
       "    <tr>\n",
       "      <th>3</th>\n",
       "      <td>946.0</td>\n",
       "      <td>4.0</td>\n",
       "      <td>37.0</td>\n",
       "      <td>87.0</td>\n",
       "      <td>953.0</td>\n",
       "      <td>32.0</td>\n",
       "    </tr>\n",
       "    <tr>\n",
       "      <th>4</th>\n",
       "      <td>12.0</td>\n",
       "      <td>NaN</td>\n",
       "      <td>1.0</td>\n",
       "      <td>1.0</td>\n",
       "      <td>13.0</td>\n",
       "      <td>2.0</td>\n",
       "    </tr>\n",
       "    <tr>\n",
       "      <th>5</th>\n",
       "      <td>70.0</td>\n",
       "      <td>NaN</td>\n",
       "      <td>2.0</td>\n",
       "      <td>4.0</td>\n",
       "      <td>70.0</td>\n",
       "      <td>1.0</td>\n",
       "    </tr>\n",
       "    <tr>\n",
       "      <th rowspan=\"3\" valign=\"top\">5.0</th>\n",
       "      <th>1</th>\n",
       "      <td>19.0</td>\n",
       "      <td>NaN</td>\n",
       "      <td>1.0</td>\n",
       "      <td>3.0</td>\n",
       "      <td>23.0</td>\n",
       "      <td>1.0</td>\n",
       "    </tr>\n",
       "    <tr>\n",
       "      <th>2</th>\n",
       "      <td>4.0</td>\n",
       "      <td>NaN</td>\n",
       "      <td>NaN</td>\n",
       "      <td>1.0</td>\n",
       "      <td>5.0</td>\n",
       "      <td>1.0</td>\n",
       "    </tr>\n",
       "    <tr>\n",
       "      <th>3</th>\n",
       "      <td>12.0</td>\n",
       "      <td>NaN</td>\n",
       "      <td>NaN</td>\n",
       "      <td>3.0</td>\n",
       "      <td>12.0</td>\n",
       "      <td>NaN</td>\n",
       "    </tr>\n",
       "    <tr>\n",
       "      <th rowspan=\"5\" valign=\"top\">6.0</th>\n",
       "      <th>1</th>\n",
       "      <td>730.0</td>\n",
       "      <td>NaN</td>\n",
       "      <td>71.0</td>\n",
       "      <td>77.0</td>\n",
       "      <td>758.0</td>\n",
       "      <td>20.0</td>\n",
       "    </tr>\n",
       "    <tr>\n",
       "      <th>2</th>\n",
       "      <td>118.0</td>\n",
       "      <td>NaN</td>\n",
       "      <td>2.0</td>\n",
       "      <td>11.0</td>\n",
       "      <td>126.0</td>\n",
       "      <td>6.0</td>\n",
       "    </tr>\n",
       "    <tr>\n",
       "      <th>3</th>\n",
       "      <td>61.0</td>\n",
       "      <td>NaN</td>\n",
       "      <td>2.0</td>\n",
       "      <td>4.0</td>\n",
       "      <td>61.0</td>\n",
       "      <td>1.0</td>\n",
       "    </tr>\n",
       "    <tr>\n",
       "      <th>4</th>\n",
       "      <td>10.0</td>\n",
       "      <td>NaN</td>\n",
       "      <td>NaN</td>\n",
       "      <td>1.0</td>\n",
       "      <td>10.0</td>\n",
       "      <td>NaN</td>\n",
       "    </tr>\n",
       "    <tr>\n",
       "      <th>5</th>\n",
       "      <td>16.0</td>\n",
       "      <td>NaN</td>\n",
       "      <td>4.0</td>\n",
       "      <td>4.0</td>\n",
       "      <td>16.0</td>\n",
       "      <td>NaN</td>\n",
       "    </tr>\n",
       "    <tr>\n",
       "      <th rowspan=\"5\" valign=\"top\">9.0</th>\n",
       "      <th>1</th>\n",
       "      <td>23.0</td>\n",
       "      <td>NaN</td>\n",
       "      <td>2.0</td>\n",
       "      <td>6.0</td>\n",
       "      <td>27.0</td>\n",
       "      <td>1.0</td>\n",
       "    </tr>\n",
       "    <tr>\n",
       "      <th>2</th>\n",
       "      <td>9.0</td>\n",
       "      <td>NaN</td>\n",
       "      <td>NaN</td>\n",
       "      <td>2.0</td>\n",
       "      <td>12.0</td>\n",
       "      <td>1.0</td>\n",
       "    </tr>\n",
       "    <tr>\n",
       "      <th>3</th>\n",
       "      <td>10.0</td>\n",
       "      <td>NaN</td>\n",
       "      <td>3.0</td>\n",
       "      <td>NaN</td>\n",
       "      <td>11.0</td>\n",
       "      <td>1.0</td>\n",
       "    </tr>\n",
       "    <tr>\n",
       "      <th>4</th>\n",
       "      <td>3.0</td>\n",
       "      <td>NaN</td>\n",
       "      <td>NaN</td>\n",
       "      <td>1.0</td>\n",
       "      <td>4.0</td>\n",
       "      <td>NaN</td>\n",
       "    </tr>\n",
       "    <tr>\n",
       "      <th>5</th>\n",
       "      <td>1.0</td>\n",
       "      <td>NaN</td>\n",
       "      <td>NaN</td>\n",
       "      <td>NaN</td>\n",
       "      <td>1.0</td>\n",
       "      <td>NaN</td>\n",
       "    </tr>\n",
       "  </tbody>\n",
       "</table>\n",
       "</div>"
      ],
      "text/plain": [
       "Trip_purpG         1.0  2.0    3.0    4.0     5.0   6.0\n",
       "     Job HHrel                                         \n",
       "P_ID 1.0 1       251.0  2.0   42.0   25.0   277.0  16.0\n",
       "         2        63.0  NaN    NaN    6.0    70.0   4.0\n",
       "         3        43.0  1.0    2.0    5.0    46.0   1.0\n",
       "         4         5.0  NaN    3.0    1.0     7.0   2.0\n",
       "         5         8.0  NaN    NaN    1.0    11.0   NaN\n",
       "     2.0 1      1048.0  6.0  142.0   90.0  1072.0  63.0\n",
       "         2       564.0  NaN   27.0   71.0   593.0  34.0\n",
       "         3       208.0  1.0    4.0   16.0   211.0   9.0\n",
       "         4        13.0  NaN    3.0    1.0    13.0   NaN\n",
       "         5        40.0  4.0    1.0    4.0    42.0   1.0\n",
       "     3.0 1      1368.0  2.0  151.0  114.0  1408.0  40.0\n",
       "         2       698.0  NaN   45.0   63.0   723.0  22.0\n",
       "         3       294.0  1.0    4.0   17.0   298.0   4.0\n",
       "         4        31.0  NaN    NaN    1.0    34.0   1.0\n",
       "         5        52.0  1.0    2.0    4.0    54.0   NaN\n",
       "     4.0 1      1781.0  2.0  185.0  188.0  1834.0  77.0\n",
       "         2       494.0  NaN   14.0   43.0   510.0  18.0\n",
       "         3       946.0  4.0   37.0   87.0   953.0  32.0\n",
       "         4        12.0  NaN    1.0    1.0    13.0   2.0\n",
       "         5        70.0  NaN    2.0    4.0    70.0   1.0\n",
       "     5.0 1        19.0  NaN    1.0    3.0    23.0   1.0\n",
       "         2         4.0  NaN    NaN    1.0     5.0   1.0\n",
       "         3        12.0  NaN    NaN    3.0    12.0   NaN\n",
       "     6.0 1       730.0  NaN   71.0   77.0   758.0  20.0\n",
       "         2       118.0  NaN    2.0   11.0   126.0   6.0\n",
       "         3        61.0  NaN    2.0    4.0    61.0   1.0\n",
       "         4        10.0  NaN    NaN    1.0    10.0   NaN\n",
       "         5        16.0  NaN    4.0    4.0    16.0   NaN\n",
       "     9.0 1        23.0  NaN    2.0    6.0    27.0   1.0\n",
       "         2         9.0  NaN    NaN    2.0    12.0   1.0\n",
       "         3        10.0  NaN    3.0    NaN    11.0   1.0\n",
       "         4         3.0  NaN    NaN    1.0     4.0   NaN\n",
       "         5         1.0  NaN    NaN    NaN     1.0   NaN"
      ]
     },
     "execution_count": 679,
     "metadata": {},
     "output_type": "execute_result"
    }
   ],
   "source": [
    "pd.pivot_table(full, \n",
    "               index = ['Trip_purpG'], \n",
    "               columns = ['Job', 'HHrel'],\n",
    "               values = ['P_ID'],\n",
    "               aggfunc = 'count').T"
   ]
  },
  {
   "cell_type": "markdown",
   "id": "51830e6b-4eb1-417a-99b1-f5f3095b157c",
   "metadata": {},
   "source": [
    "## Decision Tree\n",
    "* forecasting **trip purpose**\n",
    "* Variables:\n",
    "    * Household Information : \n",
    "    * Household Member's Information :\n",
    "    * Trip Information : \n",
    "* Apply F1-Score as the measurement of the performance"
   ]
  },
  {
   "cell_type": "markdown",
   "id": "9421b2b4-28a7-4bef-91cf-12a3beb5c70f",
   "metadata": {},
   "source": [
    "### Partitioning dataset into training set / test set"
   ]
  },
  {
   "cell_type": "code",
   "execution_count": 913,
   "id": "453e4219-99f4-4b0c-8696-3001404e6be1",
   "metadata": {
    "execution": {
     "iopub.execute_input": "2022-11-03T03:52:22.784433Z",
     "iopub.status.busy": "2022-11-03T03:52:22.783439Z",
     "iopub.status.idle": "2022-11-03T03:52:22.791387Z",
     "shell.execute_reply": "2022-11-03T03:52:22.790406Z",
     "shell.execute_reply.started": "2022-11-03T03:52:22.784433Z"
    },
    "tags": []
   },
   "outputs": [],
   "source": [
    "feature_names = [\n",
    "    #'HHinc',\n",
    "    #'HHsize',\n",
    "    'Age_65',\n",
    "    'Trip_time',\n",
    "    'Car_ownership',\n",
    "    #'HHrel_1', \n",
    "    'HHrel_2', \n",
    "    'HHrel_3',\n",
    "    'Gender_DM',\n",
    "    #'License_DM',\n",
    "    'School_4',\n",
    "    'Job_1',\n",
    "    #'Job_2',\n",
    "    #'Job_3', \n",
    "    #'Job_4', \n",
    "    #'Job_5',\n",
    "    #'Job_6',\n",
    "    'Workdays_12',\n",
    "    'Workhours_1',\n",
    "    'Trip_d_hour_24'\n",
    "]"
   ]
  },
  {
   "cell_type": "code",
   "execution_count": 914,
   "id": "64001fc6-1408-45ee-a93c-87841834a9dd",
   "metadata": {
    "execution": {
     "iopub.execute_input": "2022-11-03T03:52:22.792384Z",
     "iopub.status.busy": "2022-11-03T03:52:22.792384Z",
     "iopub.status.idle": "2022-11-03T03:52:22.807410Z",
     "shell.execute_reply": "2022-11-03T03:52:22.806416Z",
     "shell.execute_reply.started": "2022-11-03T03:52:22.792384Z"
    },
    "tags": []
   },
   "outputs": [],
   "source": [
    "X = full[feature_names]"
   ]
  },
  {
   "cell_type": "code",
   "execution_count": 915,
   "id": "66a97564-6e62-44ea-95be-0ca4ecb2d0e1",
   "metadata": {
    "execution": {
     "iopub.execute_input": "2022-11-03T03:52:22.808387Z",
     "iopub.status.busy": "2022-11-03T03:52:22.808387Z",
     "iopub.status.idle": "2022-11-03T03:52:22.822909Z",
     "shell.execute_reply": "2022-11-03T03:52:22.821911Z",
     "shell.execute_reply.started": "2022-11-03T03:52:22.808387Z"
    },
    "tags": []
   },
   "outputs": [],
   "source": [
    "y = full['Trip_Purpose']"
   ]
  },
  {
   "cell_type": "code",
   "execution_count": 916,
   "id": "370e2098-e26c-4ef1-b98c-c75486a58401",
   "metadata": {
    "execution": {
     "iopub.execute_input": "2022-11-03T03:52:22.823935Z",
     "iopub.status.busy": "2022-11-03T03:52:22.823935Z",
     "iopub.status.idle": "2022-11-03T03:52:22.854326Z",
     "shell.execute_reply": "2022-11-03T03:52:22.853296Z",
     "shell.execute_reply.started": "2022-11-03T03:52:22.823935Z"
    },
    "tags": []
   },
   "outputs": [],
   "source": [
    "X_train, X_test, y_train, y_test = train_test_split(X, y,\n",
    "                                                   test_size = 0.3,\n",
    "                                                   random_state = 42,\n",
    "                                                   stratify = y)"
   ]
  },
  {
   "cell_type": "markdown",
   "id": "75d6d2f7-8066-404c-a39d-87732046cc5a",
   "metadata": {},
   "source": [
    "### Constructing Tree"
   ]
  },
  {
   "cell_type": "code",
   "execution_count": 917,
   "id": "af331bac-2dbd-44e0-b74d-8f3db84909dd",
   "metadata": {
    "execution": {
     "iopub.execute_input": "2022-11-03T03:52:22.855291Z",
     "iopub.status.busy": "2022-11-03T03:52:22.855291Z",
     "iopub.status.idle": "2022-11-03T03:52:22.871250Z",
     "shell.execute_reply": "2022-11-03T03:52:22.869253Z",
     "shell.execute_reply.started": "2022-11-03T03:52:22.855291Z"
    },
    "tags": []
   },
   "outputs": [],
   "source": [
    "DT = tree.DecisionTreeClassifier(criterion = 'gini', max_depth = 7, random_state = 42)"
   ]
  },
  {
   "cell_type": "markdown",
   "id": "b35d40dd-9acd-470c-88bf-cd048d3cd1fb",
   "metadata": {},
   "source": [
    "### Learning"
   ]
  },
  {
   "cell_type": "code",
   "execution_count": 918,
   "id": "19b9532e-fcac-4768-9ca2-e755926b238b",
   "metadata": {
    "execution": {
     "iopub.execute_input": "2022-11-03T03:52:22.875243Z",
     "iopub.status.busy": "2022-11-03T03:52:22.874241Z",
     "iopub.status.idle": "2022-11-03T03:52:22.916724Z",
     "shell.execute_reply": "2022-11-03T03:52:22.915722Z",
     "shell.execute_reply.started": "2022-11-03T03:52:22.875243Z"
    },
    "tags": []
   },
   "outputs": [
    {
     "data": {
      "text/plain": [
       "DecisionTreeClassifier(max_depth=7, random_state=42)"
      ]
     },
     "execution_count": 918,
     "metadata": {},
     "output_type": "execute_result"
    }
   ],
   "source": [
    "DT.fit(X_train, y_train)"
   ]
  },
  {
   "cell_type": "markdown",
   "id": "c5071f0e-3317-4e81-8bc9-e2d80d7dc070",
   "metadata": {},
   "source": [
    "### Plotting Tree"
   ]
  },
  {
   "cell_type": "code",
   "execution_count": 919,
   "id": "7f001b34-7e1a-4eb9-8c2f-f6ba473ff987",
   "metadata": {
    "execution": {
     "iopub.execute_input": "2022-11-03T03:52:22.917719Z",
     "iopub.status.busy": "2022-11-03T03:52:22.917719Z",
     "iopub.status.idle": "2022-11-03T03:52:26.570800Z",
     "shell.execute_reply": "2022-11-03T03:52:26.569831Z",
     "shell.execute_reply.started": "2022-11-03T03:52:22.917719Z"
    },
    "tags": []
   },
   "outputs": [
    {
     "data": {
      "text/plain": [
       "True"
      ]
     },
     "execution_count": 919,
     "metadata": {},
     "output_type": "execute_result"
    }
   ],
   "source": [
    "dot_data = export_graphviz(DT, out_file = None, feature_names = feature_names,\n",
    "class_names = ['Work', 'Education', 'Business', 'Shopping/social/leisure', 'Back-home', 'Other'],\n",
    "filled = True, rounded = True,\n",
    "special_characters = True)\n",
    "\n",
    "graph = graph_from_dot_data(dot_data)\n",
    "graph.write_png('DT.png')"
   ]
  },
  {
   "cell_type": "markdown",
   "id": "7ef92b25-5d1f-4d27-90b9-8a704643eb5c",
   "metadata": {},
   "source": [
    "### Evaluation"
   ]
  },
  {
   "cell_type": "code",
   "execution_count": 920,
   "id": "6b0b879e-60bc-439a-86d6-0e8c32497d2c",
   "metadata": {
    "execution": {
     "iopub.execute_input": "2022-11-03T03:52:26.571798Z",
     "iopub.status.busy": "2022-11-03T03:52:26.571798Z",
     "iopub.status.idle": "2022-11-03T03:52:26.585760Z",
     "shell.execute_reply": "2022-11-03T03:52:26.584763Z",
     "shell.execute_reply.started": "2022-11-03T03:52:26.571798Z"
    },
    "tags": []
   },
   "outputs": [],
   "source": [
    "y_pred = DT.predict(X_test)"
   ]
  },
  {
   "cell_type": "code",
   "execution_count": 921,
   "id": "5339ea3a-d7f5-49dd-957a-07755605615c",
   "metadata": {
    "execution": {
     "iopub.execute_input": "2022-11-03T03:52:26.587759Z",
     "iopub.status.busy": "2022-11-03T03:52:26.587759Z",
     "iopub.status.idle": "2022-11-03T03:52:26.601718Z",
     "shell.execute_reply": "2022-11-03T03:52:26.600750Z",
     "shell.execute_reply.started": "2022-11-03T03:52:26.587759Z"
    },
    "tags": []
   },
   "outputs": [
    {
     "data": {
      "text/plain": [
       "array(['Back-home', 'Shopping/social/leisure', 'Back-home', ..., 'Work',\n",
       "       'Back-home', 'Work'], dtype=object)"
      ]
     },
     "execution_count": 921,
     "metadata": {},
     "output_type": "execute_result"
    }
   ],
   "source": [
    "y_pred"
   ]
  },
  {
   "cell_type": "markdown",
   "id": "c2ef1d01-3371-43b9-9d07-b6d17e1f8103",
   "metadata": {},
   "source": [
    "### Confusion Matrix & Measurements"
   ]
  },
  {
   "cell_type": "code",
   "execution_count": 922,
   "id": "af6ae551-5d3d-49a7-8821-17ccbd055655",
   "metadata": {
    "execution": {
     "iopub.execute_input": "2022-11-03T03:52:26.603712Z",
     "iopub.status.busy": "2022-11-03T03:52:26.602715Z",
     "iopub.status.idle": "2022-11-03T03:52:26.727444Z",
     "shell.execute_reply": "2022-11-03T03:52:26.725586Z",
     "shell.execute_reply.started": "2022-11-03T03:52:26.603712Z"
    },
    "tags": []
   },
   "outputs": [
    {
     "name": "stdout",
     "output_type": "stream",
     "text": [
      "[[2722   29    0    1   18   22]\n",
      " [  47  120    0    0   10   48]\n",
      " [   2    0    4    0    0    1]\n",
      " [  49   18    0    0    5   36]\n",
      " [ 180   21    0    0   32   23]\n",
      " [  38   43    0    0    2 2619]]\n",
      "\n",
      "======================================================================\n",
      "\n",
      "                         precision    recall  f1-score   support\n",
      "\n",
      "              Back-home       0.90      0.97      0.93      2792\n",
      "               Business       0.52      0.53      0.53       225\n",
      "              Education       1.00      0.57      0.73         7\n",
      "                  Other       0.00      0.00      0.00       108\n",
      "Shopping/social/leisure       0.48      0.12      0.20       256\n",
      "                   Work       0.95      0.97      0.96      2702\n",
      "\n",
      "               accuracy                           0.90      6090\n",
      "              macro avg       0.64      0.53      0.56      6090\n",
      "           weighted avg       0.87      0.90      0.88      6090\n",
      "\n"
     ]
    }
   ],
   "source": [
    "# Confusion matrix & measurements\n",
    "print(confusion_matrix(y_test, y_pred))\n",
    "print('')\n",
    "print('=' * 70)\n",
    "print('')\n",
    "print(classification_report(y_test, y_pred))"
   ]
  }
 ],
 "metadata": {
  "kernelspec": {
   "display_name": "Python 3",
   "language": "python",
   "name": "python3"
  },
  "language_info": {
   "codemirror_mode": {
    "name": "ipython",
    "version": 3
   },
   "file_extension": ".py",
   "mimetype": "text/x-python",
   "name": "python",
   "nbconvert_exporter": "python",
   "pygments_lexer": "ipython3",
   "version": "3.8.8"
  }
 },
 "nbformat": 4,
 "nbformat_minor": 5
}
