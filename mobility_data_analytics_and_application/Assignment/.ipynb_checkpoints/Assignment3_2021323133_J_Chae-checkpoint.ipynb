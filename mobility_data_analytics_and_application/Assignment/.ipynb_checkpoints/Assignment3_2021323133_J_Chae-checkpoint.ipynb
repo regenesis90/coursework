{
 "cells": [
  {
   "cell_type": "markdown",
   "id": "9e02f705",
   "metadata": {},
   "source": [
    "# Assignment 3\n",
    "* Please use an example dataset of travel diary data (linked trip) which are uploaded on LearnUS \n",
    "    * Class Files -> Travel diary -> Travel_data_Linked.csv\n",
    "* For detail information of each column, check “Travel_data_Linked_description.xlsx”)"
   ]
  },
  {
   "cell_type": "markdown",
   "id": "d4542f3e",
   "metadata": {},
   "source": [
    "# Set up"
   ]
  },
  {
   "cell_type": "markdown",
   "id": "46a389e6",
   "metadata": {},
   "source": [
    "## Import"
   ]
  },
  {
   "cell_type": "code",
   "execution_count": 39,
   "id": "a790551b",
   "metadata": {
    "execution": {
     "iopub.execute_input": "2022-11-05T07:06:25.256777Z",
     "iopub.status.busy": "2022-11-05T07:06:25.256777Z",
     "iopub.status.idle": "2022-11-05T07:06:25.272271Z",
     "shell.execute_reply": "2022-11-05T07:06:25.271272Z",
     "shell.execute_reply.started": "2022-11-05T07:06:25.256777Z"
    },
    "tags": []
   },
   "outputs": [],
   "source": [
    "import os\n",
    "import pandas as pd\n",
    "import numpy as np\n",
    "\n",
    "from tqdm import tqdm\n",
    "\n",
    "from sklearn.ensemble import RandomForestClassifier\n",
    "from sklearn.metrics import classification_report, confusion_matrix\n",
    "from sklearn.model_selection import train_test_split\n",
    "from sklearn import tree\n",
    "\n",
    "from pydotplus import graph_from_dot_data\n",
    "from sklearn.tree import export_graphviz"
   ]
  },
  {
   "cell_type": "markdown",
   "id": "6ba724ef",
   "metadata": {},
   "source": [
    "## Load Dataset"
   ]
  },
  {
   "cell_type": "code",
   "execution_count": 40,
   "id": "48d03823",
   "metadata": {
    "execution": {
     "iopub.execute_input": "2022-11-05T07:06:25.273267Z",
     "iopub.status.busy": "2022-11-05T07:06:25.273267Z",
     "iopub.status.idle": "2022-11-05T07:06:25.287690Z",
     "shell.execute_reply": "2022-11-05T07:06:25.286693Z",
     "shell.execute_reply.started": "2022-11-05T07:06:25.273267Z"
    },
    "tags": []
   },
   "outputs": [],
   "source": [
    "data_dir = 'D:/OneDrive - 연세대학교 (Yonsei University)/Lectures/2022-2_모빌리티데이터분석및활용/dataset'"
   ]
  },
  {
   "cell_type": "code",
   "execution_count": 41,
   "id": "e2e23fba",
   "metadata": {
    "execution": {
     "iopub.execute_input": "2022-11-05T07:06:25.290683Z",
     "iopub.status.busy": "2022-11-05T07:06:25.289689Z",
     "iopub.status.idle": "2022-11-05T07:06:25.303211Z",
     "shell.execute_reply": "2022-11-05T07:06:25.302242Z",
     "shell.execute_reply.started": "2022-11-05T07:06:25.290683Z"
    },
    "tags": []
   },
   "outputs": [],
   "source": [
    "data_file = 'Travel_data_Linked.csv'"
   ]
  },
  {
   "cell_type": "code",
   "execution_count": 42,
   "id": "6795b2a7",
   "metadata": {
    "execution": {
     "iopub.execute_input": "2022-11-05T07:06:25.304713Z",
     "iopub.status.busy": "2022-11-05T07:06:25.304713Z",
     "iopub.status.idle": "2022-11-05T07:06:25.319240Z",
     "shell.execute_reply": "2022-11-05T07:06:25.318241Z",
     "shell.execute_reply.started": "2022-11-05T07:06:25.304713Z"
    },
    "tags": []
   },
   "outputs": [],
   "source": [
    "data_path = os.path.join(data_dir, data_file)"
   ]
  },
  {
   "cell_type": "code",
   "execution_count": 43,
   "id": "8f0c22c9",
   "metadata": {
    "execution": {
     "iopub.execute_input": "2022-11-05T07:06:25.320235Z",
     "iopub.status.busy": "2022-11-05T07:06:25.319240Z",
     "iopub.status.idle": "2022-11-05T07:06:25.445400Z",
     "shell.execute_reply": "2022-11-05T07:06:25.443403Z",
     "shell.execute_reply.started": "2022-11-05T07:06:25.320235Z"
    },
    "tags": []
   },
   "outputs": [],
   "source": [
    "df = pd.read_csv(data_path)"
   ]
  },
  {
   "cell_type": "markdown",
   "id": "3e7bd092",
   "metadata": {},
   "source": [
    "# Q1\n",
    "* Develop a decision tree model of forecasting trip purpose by considering the following conditions:\n",
    "    - Use the variables included in the dataset only (Do not use external data)\n",
    "    - Create new variables (i.e. features) using the variables if necessary (e.g., travel time, etc.)\n",
    "    - Apply F1-score as the measurement of the performance\n",
    "*  Submit Jupyter Notebook file of your model and results\n",
    "    - (You don’t need to submit the tree structure, but F1-score should be stated in the results.)"
   ]
  },
  {
   "cell_type": "markdown",
   "id": "90dfbdbf-6750-4625-b6ea-b0d87fb0cf3a",
   "metadata": {},
   "source": [
    "## Create Variables"
   ]
  },
  {
   "cell_type": "markdown",
   "id": "b57115fd-30b8-4686-b101-2762c88bd99d",
   "metadata": {},
   "source": [
    "### Trip\n",
    "* `Trip_order` : The order of the number of daily trips of a specific person (`P_ID`)\n",
    "* `Trip_final` : A dummy variable representing 1 if it is the last trip of a specific person (`P_ID`) and 0 otherwise.\n",
    "* `Trip_start` : A dummy variable indicating 1 if it is the first trip among daily passes of a specific person (`P_ID`), and 0 otherwise.\n",
    "* `Trip_time` : Travel time (minutes)"
   ]
  },
  {
   "cell_type": "code",
   "execution_count": 44,
   "id": "f5ce4ec8",
   "metadata": {
    "execution": {
     "iopub.execute_input": "2022-11-05T07:06:25.446397Z",
     "iopub.status.busy": "2022-11-05T07:06:25.446397Z",
     "iopub.status.idle": "2022-11-05T07:06:53.881542Z",
     "shell.execute_reply": "2022-11-05T07:06:53.879545Z",
     "shell.execute_reply.started": "2022-11-05T07:06:25.446397Z"
    },
    "tags": []
   },
   "outputs": [
    {
     "name": "stderr",
     "output_type": "stream",
     "text": [
      "100%|█████████████████████████████████████████████████████████████████████████████| 7390/7390 [00:28<00:00, 260.32it/s]\n"
     ]
    }
   ],
   "source": [
    "df.reset_index(inplace = True)\n",
    "\n",
    "df['Trip_order'] = None\n",
    "df['Trip_final'] = None\n",
    "\n",
    "House_list = df['HH_ID'].unique()\n",
    "\n",
    "for house in tqdm(House_list):\n",
    "    \n",
    "    house_trip = df[df['HH_ID'] == house]\n",
    "    person_list = house_trip['P_ID'].unique()\n",
    "    \n",
    "    for person in person_list:\n",
    "        person_trip = house_trip[house_trip['P_ID'] == person]\n",
    "        \n",
    "        i = 0\n",
    "        \n",
    "        for trip in range(len(person_trip)):\n",
    "            \n",
    "            trip_time = person_trip.iloc[trip]\n",
    "            idx = person_trip.iloc[i]['index']\n",
    "            \n",
    "            df.at[idx, 'Trip_order'] = i\n",
    "            df.at[idx, 'Trip_final'] = i\n",
    "            \n",
    "            i += 1\n",
    "        \n",
    "        df.at[idx, 'Trip_final'] = 1\n",
    "        \n",
    "df['Trip_final'] = df['Trip_final'].fillna(0)"
   ]
  },
  {
   "cell_type": "code",
   "execution_count": 45,
   "id": "1f1fa1b8",
   "metadata": {
    "execution": {
     "iopub.execute_input": "2022-11-05T07:06:53.883566Z",
     "iopub.status.busy": "2022-11-05T07:06:53.882544Z",
     "iopub.status.idle": "2022-11-05T07:06:53.911710Z",
     "shell.execute_reply": "2022-11-05T07:06:53.910742Z",
     "shell.execute_reply.started": "2022-11-05T07:06:53.883566Z"
    },
    "tags": []
   },
   "outputs": [],
   "source": [
    "def Trip_start(Trip_order):\n",
    "    if Trip_order == 0:\n",
    "        return 1\n",
    "    else:\n",
    "        return 0\n",
    "    \n",
    "df['Trip_start'] = df['Trip_order'].apply(Trip_start)"
   ]
  },
  {
   "cell_type": "code",
   "execution_count": 46,
   "id": "6927ffa9",
   "metadata": {
    "execution": {
     "iopub.execute_input": "2022-11-05T07:06:53.913218Z",
     "iopub.status.busy": "2022-11-05T07:06:53.911710Z",
     "iopub.status.idle": "2022-11-05T07:06:54.660653Z",
     "shell.execute_reply": "2022-11-05T07:06:54.659653Z",
     "shell.execute_reply.started": "2022-11-05T07:06:53.913218Z"
    },
    "tags": []
   },
   "outputs": [],
   "source": [
    "def Trip_time_calculate(Trip_a_P, Trip_a_hh, Trip_a_mm, Trip_d_P, Trip_d_hh, Trip_d_mm):\n",
    "    Trip_d = Trip_d_hh * 60 + Trip_d_mm\n",
    "    Trip_a = Trip_a_hh * 60 + Trip_a_mm\n",
    "    \n",
    "    if Trip_a_P == Trip_d_P: # 둘의 오전, 오후 포함 시간대가 같은 경우\n",
    "        Trip_time = Trip_a - Trip_d\n",
    "        \n",
    "    elif Trip_a_P == 1 and Trip_d_P == 2: #오전 출발, 오후 도착\n",
    "        Trip_time = (Trip_a + 12 * 60) - Trip_d\n",
    "        \n",
    "    elif Trip_a_P == 2 and Trip_d_P == 3: #오후 출발, 다음날 도착\n",
    "        Trip_time = (Trip_a + 24 * 60) - (Trip_d + 12 * 60)\n",
    "        \n",
    "    elif Trip_a_P == 1 and Trip_d_P == 3: #오전 출발, 다음날 도착\n",
    "        Trip_time = (Trip_a + 24 * 60) - Trip_d\n",
    "        \n",
    "    else:\n",
    "        Trip_time = None\n",
    "        \n",
    "    return Trip_time\n",
    "\n",
    "df['Trip_time'] = df.apply(lambda x : Trip_time_calculate(x['Trip_a_P'], x['Trip_a_hh'], x['Trip_a_mm'], x['Trip_d_P'], x['Trip_d_hh'], x['Trip_d_mm']) , axis = 1 )"
   ]
  },
  {
   "cell_type": "code",
   "execution_count": 47,
   "id": "ebd1a2f0",
   "metadata": {
    "execution": {
     "iopub.execute_input": "2022-11-05T07:06:54.664182Z",
     "iopub.status.busy": "2022-11-05T07:06:54.663159Z",
     "iopub.status.idle": "2022-11-05T07:06:54.676467Z",
     "shell.execute_reply": "2022-11-05T07:06:54.675467Z",
     "shell.execute_reply.started": "2022-11-05T07:06:54.664182Z"
    },
    "tags": []
   },
   "outputs": [],
   "source": [
    "def Time_d_hour(Trip_d_hh, Trip_d_P):\n",
    "    if Trip_d_P == 1:\n",
    "        return Trip_d_hh\n",
    "    \n",
    "    elif Trip_d_P == 2:\n",
    "        return (Trip_d_hh + 12)\n",
    "    \n",
    "    elif Trip_d_P == 3:\n",
    "        return (Trip_d_hh + 24)\n",
    "    \n",
    "    else:\n",
    "        pass\n",
    "    \n",
    "def Time_a_hour(Trip_a_hh, Trip_a_P):\n",
    "    if Trip_a_P == 1:\n",
    "        return Trip_a_hh\n",
    "    \n",
    "    elif Trip_a_P == 2:\n",
    "        return (Trip_a_hh + 12)\n",
    "    \n",
    "    elif Trip_a_P == 3:\n",
    "        return (Trip_a_hh + 24)\n",
    "    \n",
    "    else:\n",
    "        pass"
   ]
  },
  {
   "cell_type": "code",
   "execution_count": 48,
   "id": "c1f2b9e7-b45d-4bba-a748-0ccf5021eba8",
   "metadata": {
    "execution": {
     "iopub.execute_input": "2022-11-05T07:06:54.677463Z",
     "iopub.status.busy": "2022-11-05T07:06:54.677463Z",
     "iopub.status.idle": "2022-11-05T07:06:55.453579Z",
     "shell.execute_reply": "2022-11-05T07:06:55.452072Z",
     "shell.execute_reply.started": "2022-11-05T07:06:54.677463Z"
    }
   },
   "outputs": [],
   "source": [
    "df['Trip_d_hour_24'] = df.apply(lambda x : Time_d_hour(x['Trip_d_hh'], x['Trip_d_P']), axis = 1)\n",
    "df['Trip_a_hour_24'] = df.apply(lambda x : Time_a_hour(x['Trip_a_hh'], x['Trip_a_P']), axis = 1)"
   ]
  },
  {
   "cell_type": "code",
   "execution_count": 49,
   "id": "f17205c8",
   "metadata": {
    "execution": {
     "iopub.execute_input": "2022-11-05T07:06:55.455597Z",
     "iopub.status.busy": "2022-11-05T07:06:55.454596Z",
     "iopub.status.idle": "2022-11-05T07:06:55.486880Z",
     "shell.execute_reply": "2022-11-05T07:06:55.483870Z",
     "shell.execute_reply.started": "2022-11-05T07:06:55.455597Z"
    }
   },
   "outputs": [
    {
     "data": {
      "text/html": [
       "<div>\n",
       "<style scoped>\n",
       "    .dataframe tbody tr th:only-of-type {\n",
       "        vertical-align: middle;\n",
       "    }\n",
       "\n",
       "    .dataframe tbody tr th {\n",
       "        vertical-align: top;\n",
       "    }\n",
       "\n",
       "    .dataframe thead th {\n",
       "        text-align: right;\n",
       "    }\n",
       "</style>\n",
       "<table border=\"1\" class=\"dataframe\">\n",
       "  <thead>\n",
       "    <tr style=\"text-align: right;\">\n",
       "      <th></th>\n",
       "      <th>index</th>\n",
       "      <th>No</th>\n",
       "      <th>HH_ID</th>\n",
       "      <th>HHsize</th>\n",
       "      <th>HHsize5</th>\n",
       "      <th>HHinc</th>\n",
       "      <th>Ncars</th>\n",
       "      <th>P_ID</th>\n",
       "      <th>HHrel</th>\n",
       "      <th>Age</th>\n",
       "      <th>...</th>\n",
       "      <th>Trip_a_P</th>\n",
       "      <th>Trip_a_hh</th>\n",
       "      <th>Trip_a_mm</th>\n",
       "      <th>Trip_a_D</th>\n",
       "      <th>Trip_order</th>\n",
       "      <th>Trip_final</th>\n",
       "      <th>Trip_start</th>\n",
       "      <th>Trip_time</th>\n",
       "      <th>Trip_d_hour_24</th>\n",
       "      <th>Trip_a_hour_24</th>\n",
       "    </tr>\n",
       "  </thead>\n",
       "  <tbody>\n",
       "    <tr>\n",
       "      <th>0</th>\n",
       "      <td>0</td>\n",
       "      <td>1</td>\n",
       "      <td>4889</td>\n",
       "      <td>2</td>\n",
       "      <td>2</td>\n",
       "      <td>4</td>\n",
       "      <td>1</td>\n",
       "      <td>1</td>\n",
       "      <td>1</td>\n",
       "      <td>36</td>\n",
       "      <td>...</td>\n",
       "      <td>1.0</td>\n",
       "      <td>7.0</td>\n",
       "      <td>30.0</td>\n",
       "      <td>1.168064e+09</td>\n",
       "      <td>0</td>\n",
       "      <td>0</td>\n",
       "      <td>1</td>\n",
       "      <td>60.0</td>\n",
       "      <td>6.0</td>\n",
       "      <td>7.0</td>\n",
       "    </tr>\n",
       "    <tr>\n",
       "      <th>1</th>\n",
       "      <td>1</td>\n",
       "      <td>2</td>\n",
       "      <td>4889</td>\n",
       "      <td>2</td>\n",
       "      <td>2</td>\n",
       "      <td>4</td>\n",
       "      <td>1</td>\n",
       "      <td>1</td>\n",
       "      <td>1</td>\n",
       "      <td>36</td>\n",
       "      <td>...</td>\n",
       "      <td>2.0</td>\n",
       "      <td>9.0</td>\n",
       "      <td>40.0</td>\n",
       "      <td>1.138060e+09</td>\n",
       "      <td>1</td>\n",
       "      <td>1</td>\n",
       "      <td>0</td>\n",
       "      <td>40.0</td>\n",
       "      <td>21.0</td>\n",
       "      <td>21.0</td>\n",
       "    </tr>\n",
       "    <tr>\n",
       "      <th>2</th>\n",
       "      <td>2</td>\n",
       "      <td>3</td>\n",
       "      <td>4889</td>\n",
       "      <td>2</td>\n",
       "      <td>2</td>\n",
       "      <td>4</td>\n",
       "      <td>1</td>\n",
       "      <td>2</td>\n",
       "      <td>2</td>\n",
       "      <td>36</td>\n",
       "      <td>...</td>\n",
       "      <td>1.0</td>\n",
       "      <td>8.0</td>\n",
       "      <td>30.0</td>\n",
       "      <td>1.156055e+09</td>\n",
       "      <td>0</td>\n",
       "      <td>0</td>\n",
       "      <td>1</td>\n",
       "      <td>30.0</td>\n",
       "      <td>8.0</td>\n",
       "      <td>8.0</td>\n",
       "    </tr>\n",
       "    <tr>\n",
       "      <th>3</th>\n",
       "      <td>3</td>\n",
       "      <td>4</td>\n",
       "      <td>4889</td>\n",
       "      <td>2</td>\n",
       "      <td>2</td>\n",
       "      <td>4</td>\n",
       "      <td>1</td>\n",
       "      <td>2</td>\n",
       "      <td>2</td>\n",
       "      <td>36</td>\n",
       "      <td>...</td>\n",
       "      <td>2.0</td>\n",
       "      <td>8.0</td>\n",
       "      <td>0.0</td>\n",
       "      <td>1.138060e+09</td>\n",
       "      <td>1</td>\n",
       "      <td>1</td>\n",
       "      <td>0</td>\n",
       "      <td>30.0</td>\n",
       "      <td>19.0</td>\n",
       "      <td>20.0</td>\n",
       "    </tr>\n",
       "    <tr>\n",
       "      <th>4</th>\n",
       "      <td>4</td>\n",
       "      <td>5</td>\n",
       "      <td>4918</td>\n",
       "      <td>4</td>\n",
       "      <td>3</td>\n",
       "      <td>4</td>\n",
       "      <td>1</td>\n",
       "      <td>1</td>\n",
       "      <td>1</td>\n",
       "      <td>44</td>\n",
       "      <td>...</td>\n",
       "      <td>1.0</td>\n",
       "      <td>7.0</td>\n",
       "      <td>35.0</td>\n",
       "      <td>1.162070e+09</td>\n",
       "      <td>0</td>\n",
       "      <td>0</td>\n",
       "      <td>1</td>\n",
       "      <td>45.0</td>\n",
       "      <td>6.0</td>\n",
       "      <td>7.0</td>\n",
       "    </tr>\n",
       "    <tr>\n",
       "      <th>5</th>\n",
       "      <td>5</td>\n",
       "      <td>6</td>\n",
       "      <td>4918</td>\n",
       "      <td>4</td>\n",
       "      <td>3</td>\n",
       "      <td>4</td>\n",
       "      <td>1</td>\n",
       "      <td>1</td>\n",
       "      <td>1</td>\n",
       "      <td>44</td>\n",
       "      <td>...</td>\n",
       "      <td>2.0</td>\n",
       "      <td>8.0</td>\n",
       "      <td>10.0</td>\n",
       "      <td>1.138060e+09</td>\n",
       "      <td>1</td>\n",
       "      <td>1</td>\n",
       "      <td>0</td>\n",
       "      <td>40.0</td>\n",
       "      <td>19.0</td>\n",
       "      <td>20.0</td>\n",
       "    </tr>\n",
       "    <tr>\n",
       "      <th>6</th>\n",
       "      <td>6</td>\n",
       "      <td>7</td>\n",
       "      <td>4918</td>\n",
       "      <td>4</td>\n",
       "      <td>3</td>\n",
       "      <td>4</td>\n",
       "      <td>1</td>\n",
       "      <td>2</td>\n",
       "      <td>2</td>\n",
       "      <td>38</td>\n",
       "      <td>...</td>\n",
       "      <td>2.0</td>\n",
       "      <td>2.0</td>\n",
       "      <td>15.0</td>\n",
       "      <td>1.144073e+09</td>\n",
       "      <td>0</td>\n",
       "      <td>0</td>\n",
       "      <td>1</td>\n",
       "      <td>15.0</td>\n",
       "      <td>14.0</td>\n",
       "      <td>14.0</td>\n",
       "    </tr>\n",
       "    <tr>\n",
       "      <th>7</th>\n",
       "      <td>7</td>\n",
       "      <td>8</td>\n",
       "      <td>4918</td>\n",
       "      <td>4</td>\n",
       "      <td>3</td>\n",
       "      <td>4</td>\n",
       "      <td>1</td>\n",
       "      <td>2</td>\n",
       "      <td>2</td>\n",
       "      <td>38</td>\n",
       "      <td>...</td>\n",
       "      <td>2.0</td>\n",
       "      <td>4.0</td>\n",
       "      <td>20.0</td>\n",
       "      <td>1.138060e+09</td>\n",
       "      <td>1</td>\n",
       "      <td>1</td>\n",
       "      <td>0</td>\n",
       "      <td>20.0</td>\n",
       "      <td>16.0</td>\n",
       "      <td>16.0</td>\n",
       "    </tr>\n",
       "    <tr>\n",
       "      <th>8</th>\n",
       "      <td>8</td>\n",
       "      <td>9</td>\n",
       "      <td>4918</td>\n",
       "      <td>4</td>\n",
       "      <td>3</td>\n",
       "      <td>4</td>\n",
       "      <td>1</td>\n",
       "      <td>3</td>\n",
       "      <td>3</td>\n",
       "      <td>7</td>\n",
       "      <td>...</td>\n",
       "      <td>1.0</td>\n",
       "      <td>8.0</td>\n",
       "      <td>15.0</td>\n",
       "      <td>1.141070e+09</td>\n",
       "      <td>0</td>\n",
       "      <td>0</td>\n",
       "      <td>1</td>\n",
       "      <td>15.0</td>\n",
       "      <td>8.0</td>\n",
       "      <td>8.0</td>\n",
       "    </tr>\n",
       "    <tr>\n",
       "      <th>9</th>\n",
       "      <td>9</td>\n",
       "      <td>10</td>\n",
       "      <td>4918</td>\n",
       "      <td>4</td>\n",
       "      <td>3</td>\n",
       "      <td>4</td>\n",
       "      <td>1</td>\n",
       "      <td>3</td>\n",
       "      <td>3</td>\n",
       "      <td>7</td>\n",
       "      <td>...</td>\n",
       "      <td>2.0</td>\n",
       "      <td>1.0</td>\n",
       "      <td>15.0</td>\n",
       "      <td>1.138060e+09</td>\n",
       "      <td>1</td>\n",
       "      <td>1</td>\n",
       "      <td>0</td>\n",
       "      <td>15.0</td>\n",
       "      <td>13.0</td>\n",
       "      <td>13.0</td>\n",
       "    </tr>\n",
       "  </tbody>\n",
       "</table>\n",
       "<p>10 rows × 33 columns</p>\n",
       "</div>"
      ],
      "text/plain": [
       "   index  No  HH_ID  HHsize  HHsize5  HHinc  Ncars  P_ID  HHrel  Age  ...  \\\n",
       "0      0   1   4889       2        2      4      1     1      1   36  ...   \n",
       "1      1   2   4889       2        2      4      1     1      1   36  ...   \n",
       "2      2   3   4889       2        2      4      1     2      2   36  ...   \n",
       "3      3   4   4889       2        2      4      1     2      2   36  ...   \n",
       "4      4   5   4918       4        3      4      1     1      1   44  ...   \n",
       "5      5   6   4918       4        3      4      1     1      1   44  ...   \n",
       "6      6   7   4918       4        3      4      1     2      2   38  ...   \n",
       "7      7   8   4918       4        3      4      1     2      2   38  ...   \n",
       "8      8   9   4918       4        3      4      1     3      3    7  ...   \n",
       "9      9  10   4918       4        3      4      1     3      3    7  ...   \n",
       "\n",
       "   Trip_a_P  Trip_a_hh  Trip_a_mm      Trip_a_D  Trip_order  Trip_final  \\\n",
       "0       1.0        7.0       30.0  1.168064e+09           0           0   \n",
       "1       2.0        9.0       40.0  1.138060e+09           1           1   \n",
       "2       1.0        8.0       30.0  1.156055e+09           0           0   \n",
       "3       2.0        8.0        0.0  1.138060e+09           1           1   \n",
       "4       1.0        7.0       35.0  1.162070e+09           0           0   \n",
       "5       2.0        8.0       10.0  1.138060e+09           1           1   \n",
       "6       2.0        2.0       15.0  1.144073e+09           0           0   \n",
       "7       2.0        4.0       20.0  1.138060e+09           1           1   \n",
       "8       1.0        8.0       15.0  1.141070e+09           0           0   \n",
       "9       2.0        1.0       15.0  1.138060e+09           1           1   \n",
       "\n",
       "   Trip_start  Trip_time  Trip_d_hour_24  Trip_a_hour_24  \n",
       "0           1       60.0             6.0             7.0  \n",
       "1           0       40.0            21.0            21.0  \n",
       "2           1       30.0             8.0             8.0  \n",
       "3           0       30.0            19.0            20.0  \n",
       "4           1       45.0             6.0             7.0  \n",
       "5           0       40.0            19.0            20.0  \n",
       "6           1       15.0            14.0            14.0  \n",
       "7           0       20.0            16.0            16.0  \n",
       "8           1       15.0             8.0             8.0  \n",
       "9           0       15.0            13.0            13.0  \n",
       "\n",
       "[10 rows x 33 columns]"
      ]
     },
     "execution_count": 49,
     "metadata": {},
     "output_type": "execute_result"
    }
   ],
   "source": [
    "df.head(10)"
   ]
  },
  {
   "cell_type": "markdown",
   "id": "baceba47",
   "metadata": {},
   "source": [
    "### Other Dummy Variables"
   ]
  },
  {
   "cell_type": "code",
   "execution_count": 50,
   "id": "110b44b4",
   "metadata": {
    "execution": {
     "iopub.execute_input": "2022-11-05T07:06:55.488878Z",
     "iopub.status.busy": "2022-11-05T07:06:55.487876Z",
     "iopub.status.idle": "2022-11-05T07:06:55.500403Z",
     "shell.execute_reply": "2022-11-05T07:06:55.499401Z",
     "shell.execute_reply.started": "2022-11-05T07:06:55.487876Z"
    },
    "tags": []
   },
   "outputs": [],
   "source": [
    "def Old(Age):\n",
    "    if Age >= 65:\n",
    "        return 1\n",
    "    else:\n",
    "        return 0"
   ]
  },
  {
   "cell_type": "code",
   "execution_count": 51,
   "id": "286d800b",
   "metadata": {
    "execution": {
     "iopub.execute_input": "2022-11-05T07:06:55.502897Z",
     "iopub.status.busy": "2022-11-05T07:06:55.502391Z",
     "iopub.status.idle": "2022-11-05T07:06:55.516298Z",
     "shell.execute_reply": "2022-11-05T07:06:55.515299Z",
     "shell.execute_reply.started": "2022-11-05T07:06:55.502897Z"
    },
    "tags": []
   },
   "outputs": [],
   "source": [
    "def Dummy_car_ownership(Ncars):\n",
    "    if Ncars == 1: # Car own\n",
    "        return 1\n",
    "    elif Ncars == 2: # Do not own\n",
    "        return 0\n",
    "    else:\n",
    "        pass"
   ]
  },
  {
   "cell_type": "code",
   "execution_count": 52,
   "id": "3eb55ec7",
   "metadata": {
    "execution": {
     "iopub.execute_input": "2022-11-05T07:06:55.517295Z",
     "iopub.status.busy": "2022-11-05T07:06:55.516298Z",
     "iopub.status.idle": "2022-11-05T07:06:55.531166Z",
     "shell.execute_reply": "2022-11-05T07:06:55.530170Z",
     "shell.execute_reply.started": "2022-11-05T07:06:55.517295Z"
    },
    "tags": []
   },
   "outputs": [],
   "source": [
    "def Dummy_HHrel_1(HHrel):\n",
    "    if HHrel == 1: # 'Householder'\n",
    "        return 1\n",
    "    else:\n",
    "        return 0\n",
    "    \n",
    "def Dummy_HHrel_2(HHrel):\n",
    "    if HHrel == 2: # 'Spouse'\n",
    "        return 1\n",
    "    else:\n",
    "        return 0\n",
    "    \n",
    "def Dummy_HHrel_3(HHrel):\n",
    "    if HHrel == 3: # 'Children'\n",
    "        return 1\n",
    "    else:\n",
    "        return 0\n",
    "    \n",
    "def Dummy_HHrel_4(HHrel):\n",
    "    if HHrel == 4: #'Parents'\n",
    "        return 1\n",
    "    else:\n",
    "        return 0\n",
    "    \n",
    "def Dummy_HHrel_5(HHrel):\n",
    "    if HHrel == 5: #'etc.'\n",
    "        return 1\n",
    "    else:\n",
    "        return 0"
   ]
  },
  {
   "cell_type": "code",
   "execution_count": 53,
   "id": "f9679593",
   "metadata": {
    "execution": {
     "iopub.execute_input": "2022-11-05T07:06:55.533160Z",
     "iopub.status.busy": "2022-11-05T07:06:55.532163Z",
     "iopub.status.idle": "2022-11-05T07:06:55.546049Z",
     "shell.execute_reply": "2022-11-05T07:06:55.545049Z",
     "shell.execute_reply.started": "2022-11-05T07:06:55.533160Z"
    },
    "tags": []
   },
   "outputs": [],
   "source": [
    "def Dummy_Gender(Gender):\n",
    "    if Gender == 1: # Male\n",
    "        return 1\n",
    "    elif Gender == 2: # Female\n",
    "        return 0\n",
    "    else:\n",
    "        pass"
   ]
  },
  {
   "cell_type": "code",
   "execution_count": 54,
   "id": "54c1aaed",
   "metadata": {
    "execution": {
     "iopub.execute_input": "2022-11-05T07:06:55.549041Z",
     "iopub.status.busy": "2022-11-05T07:06:55.548047Z",
     "iopub.status.idle": "2022-11-05T07:06:55.562587Z",
     "shell.execute_reply": "2022-11-05T07:06:55.560564Z",
     "shell.execute_reply.started": "2022-11-05T07:06:55.549041Z"
    },
    "tags": []
   },
   "outputs": [],
   "source": [
    "def Dummy_License(License):\n",
    "    if License == 1: # Own\n",
    "        return 1\n",
    "    elif License == 2: # Do not own\n",
    "        return 0\n",
    "    else:\n",
    "        pass"
   ]
  },
  {
   "cell_type": "code",
   "execution_count": 55,
   "id": "a2c58f10",
   "metadata": {
    "execution": {
     "iopub.execute_input": "2022-11-05T07:06:55.563584Z",
     "iopub.status.busy": "2022-11-05T07:06:55.562587Z",
     "iopub.status.idle": "2022-11-05T07:06:55.577349Z",
     "shell.execute_reply": "2022-11-05T07:06:55.576387Z",
     "shell.execute_reply.started": "2022-11-05T07:06:55.563584Z"
    },
    "tags": []
   },
   "outputs": [],
   "source": [
    "def Dummy_Student(School):\n",
    "    if School == 1 or School == 2 or School == 3 or School == 4: # Student\n",
    "        return 1\n",
    "    else:\n",
    "        return 0"
   ]
  },
  {
   "cell_type": "code",
   "execution_count": 56,
   "id": "b8d411a3",
   "metadata": {
    "execution": {
     "iopub.execute_input": "2022-11-05T07:06:55.580357Z",
     "iopub.status.busy": "2022-11-05T07:06:55.579387Z",
     "iopub.status.idle": "2022-11-05T07:06:55.593466Z",
     "shell.execute_reply": "2022-11-05T07:06:55.592470Z",
     "shell.execute_reply.started": "2022-11-05T07:06:55.580357Z"
    },
    "tags": []
   },
   "outputs": [],
   "source": [
    "def Dummy_Job_specialized(Job):\n",
    "    if Job == 1: # Specialized Job\n",
    "        return 1\n",
    "    else:\n",
    "        return 0\n",
    "\n",
    "def Dummy_Job_normal(Job):\n",
    "    if Job == 2 or Job == 3 or Job == 4 or Job == 6: # Retail, Service, Management, Simple Labor\n",
    "        return 1\n",
    "    else:\n",
    "        return 0\n",
    "    \n",
    "def Dummy_Job_home(Job):\n",
    "    if Job == 7: # Homeworker\n",
    "        return 1\n",
    "    else:\n",
    "        return 0"
   ]
  },
  {
   "cell_type": "code",
   "execution_count": 57,
   "id": "32bd029c",
   "metadata": {
    "execution": {
     "iopub.execute_input": "2022-11-05T07:06:55.595029Z",
     "iopub.status.busy": "2022-11-05T07:06:55.593999Z",
     "iopub.status.idle": "2022-11-05T07:06:55.609098Z",
     "shell.execute_reply": "2022-11-05T07:06:55.608101Z",
     "shell.execute_reply.started": "2022-11-05T07:06:55.595029Z"
    },
    "tags": []
   },
   "outputs": [],
   "source": [
    "def Dummy_Workdays_full(Workdays):\n",
    "    if Workdays == 1 or Workdays == 2: # 5~7 days per week\n",
    "        return 1\n",
    "    else:\n",
    "        return 0"
   ]
  },
  {
   "cell_type": "code",
   "execution_count": 58,
   "id": "fdd7ac99",
   "metadata": {
    "execution": {
     "iopub.execute_input": "2022-11-05T07:06:55.611099Z",
     "iopub.status.busy": "2022-11-05T07:06:55.611099Z",
     "iopub.status.idle": "2022-11-05T07:06:55.624933Z",
     "shell.execute_reply": "2022-11-05T07:06:55.623264Z",
     "shell.execute_reply.started": "2022-11-05T07:06:55.611099Z"
    },
    "tags": []
   },
   "outputs": [],
   "source": [
    "def Dummy_Workhours_1(Workhours):\n",
    "    if Workhours == 1: # Full time\n",
    "        return 1\n",
    "    else:\n",
    "        return 0\n",
    "\n",
    "def Dummy_Workhours_2(Workhours):\n",
    "    if Workhours == 2: # part-time(less than 8 hours)\n",
    "        return 1\n",
    "    else:\n",
    "        return 0"
   ]
  },
  {
   "cell_type": "code",
   "execution_count": 59,
   "id": "c8d3e8e3",
   "metadata": {
    "execution": {
     "iopub.execute_input": "2022-11-05T07:06:55.625935Z",
     "iopub.status.busy": "2022-11-05T07:06:55.625935Z",
     "iopub.status.idle": "2022-11-05T07:06:55.639449Z",
     "shell.execute_reply": "2022-11-05T07:06:55.638451Z",
     "shell.execute_reply.started": "2022-11-05T07:06:55.625935Z"
    },
    "tags": []
   },
   "outputs": [],
   "source": [
    "def Dummy_Trip_made(Trip_made):\n",
    "    if Trip_made == 1: # Traveled\n",
    "        return 1\n",
    "    elif Trip_made == 2: # Not Traveled\n",
    "        return 0\n",
    "    else:\n",
    "        pass"
   ]
  },
  {
   "cell_type": "code",
   "execution_count": 60,
   "id": "c0dac11b",
   "metadata": {
    "execution": {
     "iopub.execute_input": "2022-11-05T07:06:55.642448Z",
     "iopub.status.busy": "2022-11-05T07:06:55.641447Z",
     "iopub.status.idle": "2022-11-05T07:06:55.655575Z",
     "shell.execute_reply": "2022-11-05T07:06:55.654570Z",
     "shell.execute_reply.started": "2022-11-05T07:06:55.642448Z"
    },
    "tags": []
   },
   "outputs": [],
   "source": [
    "def Dummy_Trip_d_P_1(Trip_d_P):\n",
    "    if Trip_d_P == 1: # AM\n",
    "        return 1\n",
    "    else:\n",
    "        return 0\n",
    "    \n",
    "def Dummy_Trip_d_P_2(Trip_d_P):\n",
    "    if Trip_d_P == 2: # PM\n",
    "        return 1\n",
    "    else:\n",
    "        return 0\n",
    "    \n",
    "def Dummy_Trip_d_P_3(Trip_d_P):\n",
    "    if Trip_d_P == 3: # AM(following day)\n",
    "        return 1\n",
    "    else:\n",
    "        return 0"
   ]
  },
  {
   "cell_type": "code",
   "execution_count": 61,
   "id": "6de01705",
   "metadata": {
    "execution": {
     "iopub.execute_input": "2022-11-05T07:06:55.657574Z",
     "iopub.status.busy": "2022-11-05T07:06:55.656567Z",
     "iopub.status.idle": "2022-11-05T07:06:55.829229Z",
     "shell.execute_reply": "2022-11-05T07:06:55.828263Z",
     "shell.execute_reply.started": "2022-11-05T07:06:55.657574Z"
    },
    "tags": []
   },
   "outputs": [],
   "source": [
    "df['Old'] = df['Age'].apply(Old)\n",
    "\n",
    "df['Car_ownership'] = df['Ncars'].apply(Dummy_car_ownership)\n",
    "\n",
    "df['HHrel_1'] = df['HHrel'].apply(Dummy_HHrel_1)\n",
    "df['HHrel_2'] = df['HHrel'].apply(Dummy_HHrel_2)\n",
    "df['HHrel_3'] = df['HHrel'].apply(Dummy_HHrel_3)\n",
    "df['HHrel_4'] = df['HHrel'].apply(Dummy_HHrel_4)\n",
    "df['HHrel_5'] = df['HHrel'].apply(Dummy_HHrel_5)\n",
    "\n",
    "df['Gender_DM'] = df['Gender'].apply(Dummy_Gender)\n",
    "df['License_DM'] = df['Licence'].apply(Dummy_License)\n",
    "\n",
    "df['Student'] = df['School'].apply(Dummy_Student)\n",
    "\n",
    "df['Job_Specialized'] = df['Job'].apply(Dummy_Job_specialized)\n",
    "df['Job_Normal'] = df['Job'].apply(Dummy_Job_normal)\n",
    "df['Job_Home'] = df['Job'].apply(Dummy_Job_home)\n",
    "\n",
    "df['Workdays_Full'] = df['Workdays'].apply(Dummy_Workdays_full)\n",
    "\n",
    "df['Workhours_1'] = df['Workhours'].apply(Dummy_Workhours_1)"
   ]
  },
  {
   "cell_type": "code",
   "execution_count": 62,
   "id": "7ac8fe3d",
   "metadata": {
    "execution": {
     "iopub.execute_input": "2022-11-05T07:06:55.831223Z",
     "iopub.status.busy": "2022-11-05T07:06:55.830236Z",
     "iopub.status.idle": "2022-11-05T07:06:55.860236Z",
     "shell.execute_reply": "2022-11-05T07:06:55.859233Z",
     "shell.execute_reply.started": "2022-11-05T07:06:55.831223Z"
    },
    "tags": []
   },
   "outputs": [
    {
     "data": {
      "text/html": [
       "<div>\n",
       "<style scoped>\n",
       "    .dataframe tbody tr th:only-of-type {\n",
       "        vertical-align: middle;\n",
       "    }\n",
       "\n",
       "    .dataframe tbody tr th {\n",
       "        vertical-align: top;\n",
       "    }\n",
       "\n",
       "    .dataframe thead th {\n",
       "        text-align: right;\n",
       "    }\n",
       "</style>\n",
       "<table border=\"1\" class=\"dataframe\">\n",
       "  <thead>\n",
       "    <tr style=\"text-align: right;\">\n",
       "      <th></th>\n",
       "      <th>index</th>\n",
       "      <th>No</th>\n",
       "      <th>HH_ID</th>\n",
       "      <th>HHsize</th>\n",
       "      <th>HHsize5</th>\n",
       "      <th>HHinc</th>\n",
       "      <th>Ncars</th>\n",
       "      <th>P_ID</th>\n",
       "      <th>HHrel</th>\n",
       "      <th>Age</th>\n",
       "      <th>...</th>\n",
       "      <th>HHrel_4</th>\n",
       "      <th>HHrel_5</th>\n",
       "      <th>Gender_DM</th>\n",
       "      <th>License_DM</th>\n",
       "      <th>Student</th>\n",
       "      <th>Job_Specialized</th>\n",
       "      <th>Job_Normal</th>\n",
       "      <th>Job_Home</th>\n",
       "      <th>Workdays_Full</th>\n",
       "      <th>Workhours_1</th>\n",
       "    </tr>\n",
       "  </thead>\n",
       "  <tbody>\n",
       "    <tr>\n",
       "      <th>0</th>\n",
       "      <td>0</td>\n",
       "      <td>1</td>\n",
       "      <td>4889</td>\n",
       "      <td>2</td>\n",
       "      <td>2</td>\n",
       "      <td>4</td>\n",
       "      <td>1</td>\n",
       "      <td>1</td>\n",
       "      <td>1</td>\n",
       "      <td>36</td>\n",
       "      <td>...</td>\n",
       "      <td>0</td>\n",
       "      <td>0</td>\n",
       "      <td>1</td>\n",
       "      <td>1</td>\n",
       "      <td>0</td>\n",
       "      <td>0</td>\n",
       "      <td>1</td>\n",
       "      <td>0</td>\n",
       "      <td>1</td>\n",
       "      <td>1</td>\n",
       "    </tr>\n",
       "    <tr>\n",
       "      <th>1</th>\n",
       "      <td>1</td>\n",
       "      <td>2</td>\n",
       "      <td>4889</td>\n",
       "      <td>2</td>\n",
       "      <td>2</td>\n",
       "      <td>4</td>\n",
       "      <td>1</td>\n",
       "      <td>1</td>\n",
       "      <td>1</td>\n",
       "      <td>36</td>\n",
       "      <td>...</td>\n",
       "      <td>0</td>\n",
       "      <td>0</td>\n",
       "      <td>1</td>\n",
       "      <td>1</td>\n",
       "      <td>0</td>\n",
       "      <td>0</td>\n",
       "      <td>1</td>\n",
       "      <td>0</td>\n",
       "      <td>1</td>\n",
       "      <td>1</td>\n",
       "    </tr>\n",
       "    <tr>\n",
       "      <th>2</th>\n",
       "      <td>2</td>\n",
       "      <td>3</td>\n",
       "      <td>4889</td>\n",
       "      <td>2</td>\n",
       "      <td>2</td>\n",
       "      <td>4</td>\n",
       "      <td>1</td>\n",
       "      <td>2</td>\n",
       "      <td>2</td>\n",
       "      <td>36</td>\n",
       "      <td>...</td>\n",
       "      <td>0</td>\n",
       "      <td>0</td>\n",
       "      <td>0</td>\n",
       "      <td>1</td>\n",
       "      <td>0</td>\n",
       "      <td>0</td>\n",
       "      <td>1</td>\n",
       "      <td>0</td>\n",
       "      <td>1</td>\n",
       "      <td>1</td>\n",
       "    </tr>\n",
       "  </tbody>\n",
       "</table>\n",
       "<p>3 rows × 48 columns</p>\n",
       "</div>"
      ],
      "text/plain": [
       "   index  No  HH_ID  HHsize  HHsize5  HHinc  Ncars  P_ID  HHrel  Age  ...  \\\n",
       "0      0   1   4889       2        2      4      1     1      1   36  ...   \n",
       "1      1   2   4889       2        2      4      1     1      1   36  ...   \n",
       "2      2   3   4889       2        2      4      1     2      2   36  ...   \n",
       "\n",
       "   HHrel_4  HHrel_5  Gender_DM  License_DM  Student  Job_Specialized  \\\n",
       "0        0        0          1           1        0                0   \n",
       "1        0        0          1           1        0                0   \n",
       "2        0        0          0           1        0                0   \n",
       "\n",
       "   Job_Normal  Job_Home  Workdays_Full  Workhours_1  \n",
       "0           1         0              1            1  \n",
       "1           1         0              1            1  \n",
       "2           1         0              1            1  \n",
       "\n",
       "[3 rows x 48 columns]"
      ]
     },
     "execution_count": 62,
     "metadata": {},
     "output_type": "execute_result"
    }
   ],
   "source": [
    "df.head(3)"
   ]
  },
  {
   "cell_type": "code",
   "execution_count": 63,
   "id": "b02a926e",
   "metadata": {
    "execution": {
     "iopub.execute_input": "2022-11-05T07:06:55.863205Z",
     "iopub.status.busy": "2022-11-05T07:06:55.863205Z",
     "iopub.status.idle": "2022-11-05T07:06:55.891675Z",
     "shell.execute_reply": "2022-11-05T07:06:55.890705Z",
     "shell.execute_reply.started": "2022-11-05T07:06:55.863205Z"
    },
    "tags": []
   },
   "outputs": [
    {
     "data": {
      "text/html": [
       "<div>\n",
       "<style scoped>\n",
       "    .dataframe tbody tr th:only-of-type {\n",
       "        vertical-align: middle;\n",
       "    }\n",
       "\n",
       "    .dataframe tbody tr th {\n",
       "        vertical-align: top;\n",
       "    }\n",
       "\n",
       "    .dataframe thead th {\n",
       "        text-align: right;\n",
       "    }\n",
       "</style>\n",
       "<table border=\"1\" class=\"dataframe\">\n",
       "  <thead>\n",
       "    <tr style=\"text-align: right;\">\n",
       "      <th></th>\n",
       "      <th>index</th>\n",
       "      <th>No</th>\n",
       "      <th>HH_ID</th>\n",
       "      <th>HHsize</th>\n",
       "      <th>HHsize5</th>\n",
       "      <th>HHinc</th>\n",
       "      <th>Ncars</th>\n",
       "      <th>P_ID</th>\n",
       "      <th>HHrel</th>\n",
       "      <th>Age</th>\n",
       "      <th>...</th>\n",
       "      <th>HHrel_4</th>\n",
       "      <th>HHrel_5</th>\n",
       "      <th>Gender_DM</th>\n",
       "      <th>License_DM</th>\n",
       "      <th>Student</th>\n",
       "      <th>Job_Specialized</th>\n",
       "      <th>Job_Normal</th>\n",
       "      <th>Job_Home</th>\n",
       "      <th>Workdays_Full</th>\n",
       "      <th>Workhours_1</th>\n",
       "    </tr>\n",
       "  </thead>\n",
       "  <tbody>\n",
       "    <tr>\n",
       "      <th>0</th>\n",
       "      <td>0</td>\n",
       "      <td>1</td>\n",
       "      <td>4889</td>\n",
       "      <td>2</td>\n",
       "      <td>2</td>\n",
       "      <td>4</td>\n",
       "      <td>1</td>\n",
       "      <td>1</td>\n",
       "      <td>1</td>\n",
       "      <td>36</td>\n",
       "      <td>...</td>\n",
       "      <td>0</td>\n",
       "      <td>0</td>\n",
       "      <td>1</td>\n",
       "      <td>1</td>\n",
       "      <td>0</td>\n",
       "      <td>0</td>\n",
       "      <td>1</td>\n",
       "      <td>0</td>\n",
       "      <td>1</td>\n",
       "      <td>1</td>\n",
       "    </tr>\n",
       "    <tr>\n",
       "      <th>1</th>\n",
       "      <td>1</td>\n",
       "      <td>2</td>\n",
       "      <td>4889</td>\n",
       "      <td>2</td>\n",
       "      <td>2</td>\n",
       "      <td>4</td>\n",
       "      <td>1</td>\n",
       "      <td>1</td>\n",
       "      <td>1</td>\n",
       "      <td>36</td>\n",
       "      <td>...</td>\n",
       "      <td>0</td>\n",
       "      <td>0</td>\n",
       "      <td>1</td>\n",
       "      <td>1</td>\n",
       "      <td>0</td>\n",
       "      <td>0</td>\n",
       "      <td>1</td>\n",
       "      <td>0</td>\n",
       "      <td>1</td>\n",
       "      <td>1</td>\n",
       "    </tr>\n",
       "    <tr>\n",
       "      <th>2</th>\n",
       "      <td>2</td>\n",
       "      <td>3</td>\n",
       "      <td>4889</td>\n",
       "      <td>2</td>\n",
       "      <td>2</td>\n",
       "      <td>4</td>\n",
       "      <td>1</td>\n",
       "      <td>2</td>\n",
       "      <td>2</td>\n",
       "      <td>36</td>\n",
       "      <td>...</td>\n",
       "      <td>0</td>\n",
       "      <td>0</td>\n",
       "      <td>0</td>\n",
       "      <td>1</td>\n",
       "      <td>0</td>\n",
       "      <td>0</td>\n",
       "      <td>1</td>\n",
       "      <td>0</td>\n",
       "      <td>1</td>\n",
       "      <td>1</td>\n",
       "    </tr>\n",
       "  </tbody>\n",
       "</table>\n",
       "<p>3 rows × 48 columns</p>\n",
       "</div>"
      ],
      "text/plain": [
       "   index  No  HH_ID  HHsize  HHsize5  HHinc  Ncars  P_ID  HHrel  Age  ...  \\\n",
       "0      0   1   4889       2        2      4      1     1      1   36  ...   \n",
       "1      1   2   4889       2        2      4      1     1      1   36  ...   \n",
       "2      2   3   4889       2        2      4      1     2      2   36  ...   \n",
       "\n",
       "   HHrel_4  HHrel_5  Gender_DM  License_DM  Student  Job_Specialized  \\\n",
       "0        0        0          1           1        0                0   \n",
       "1        0        0          1           1        0                0   \n",
       "2        0        0          0           1        0                0   \n",
       "\n",
       "   Job_Normal  Job_Home  Workdays_Full  Workhours_1  \n",
       "0           1         0              1            1  \n",
       "1           1         0              1            1  \n",
       "2           1         0              1            1  \n",
       "\n",
       "[3 rows x 48 columns]"
      ]
     },
     "execution_count": 63,
     "metadata": {},
     "output_type": "execute_result"
    }
   ],
   "source": [
    "df.head(3)"
   ]
  },
  {
   "cell_type": "markdown",
   "id": "551dbf81",
   "metadata": {},
   "source": [
    "### Trip Purpose"
   ]
  },
  {
   "cell_type": "code",
   "execution_count": 64,
   "id": "34da1111",
   "metadata": {
    "execution": {
     "iopub.execute_input": "2022-11-05T07:06:55.894328Z",
     "iopub.status.busy": "2022-11-05T07:06:55.893332Z",
     "iopub.status.idle": "2022-11-05T07:06:55.907226Z",
     "shell.execute_reply": "2022-11-05T07:06:55.906229Z",
     "shell.execute_reply.started": "2022-11-05T07:06:55.894328Z"
    },
    "tags": []
   },
   "outputs": [],
   "source": [
    "def Trip_purpose(Trip_purpG):\n",
    "    if Trip_purpG == 1:\n",
    "        return 'Work'\n",
    "    \n",
    "    elif Trip_purpG == 2:\n",
    "        return 'Education'\n",
    "    \n",
    "    elif Trip_purpG == 3:\n",
    "        return 'Business'\n",
    "    \n",
    "    elif Trip_purpG == 4:\n",
    "        return 'Shopping/social/leisure'\n",
    "    \n",
    "    elif Trip_purpG == 5:\n",
    "        return 'Back-home'\n",
    "    \n",
    "    elif Trip_purpG == 6:\n",
    "        return 'Other'\n",
    "    \n",
    "    else:\n",
    "        pass"
   ]
  },
  {
   "cell_type": "code",
   "execution_count": 65,
   "id": "283ba14a",
   "metadata": {
    "execution": {
     "iopub.execute_input": "2022-11-05T07:06:55.913718Z",
     "iopub.status.busy": "2022-11-05T07:06:55.913212Z",
     "iopub.status.idle": "2022-11-05T07:06:55.937878Z",
     "shell.execute_reply": "2022-11-05T07:06:55.936878Z",
     "shell.execute_reply.started": "2022-11-05T07:06:55.913718Z"
    },
    "tags": []
   },
   "outputs": [],
   "source": [
    "df['Trip_Purpose'] = df['Trip_purpG'].apply(Trip_purpose)"
   ]
  },
  {
   "cell_type": "markdown",
   "id": "cf1bb150",
   "metadata": {},
   "source": [
    "### Data Filtering"
   ]
  },
  {
   "cell_type": "code",
   "execution_count": 66,
   "id": "b853e027",
   "metadata": {
    "execution": {
     "iopub.execute_input": "2022-11-05T07:06:55.941865Z",
     "iopub.status.busy": "2022-11-05T07:06:55.940869Z",
     "iopub.status.idle": "2022-11-05T07:06:55.984616Z",
     "shell.execute_reply": "2022-11-05T07:06:55.983616Z",
     "shell.execute_reply.started": "2022-11-05T07:06:55.941865Z"
    },
    "tags": []
   },
   "outputs": [],
   "source": [
    "full = df[df['Trip_made'] == 1]"
   ]
  },
  {
   "cell_type": "code",
   "execution_count": 67,
   "id": "8d2e9743",
   "metadata": {
    "execution": {
     "iopub.execute_input": "2022-11-05T07:06:55.985615Z",
     "iopub.status.busy": "2022-11-05T07:06:55.984616Z",
     "iopub.status.idle": "2022-11-05T07:06:56.017032Z",
     "shell.execute_reply": "2022-11-05T07:06:56.016035Z",
     "shell.execute_reply.started": "2022-11-05T07:06:55.985615Z"
    },
    "tags": []
   },
   "outputs": [
    {
     "name": "stderr",
     "output_type": "stream",
     "text": [
      "<ipython-input-67-53a8ed2d1e32>:1: SettingWithCopyWarning: \n",
      "A value is trying to be set on a copy of a slice from a DataFrame\n",
      "\n",
      "See the caveats in the documentation: https://pandas.pydata.org/pandas-docs/stable/user_guide/indexing.html#returning-a-view-versus-a-copy\n",
      "  full.dropna(inplace = True)\n"
     ]
    }
   ],
   "source": [
    "full.dropna(inplace = True)"
   ]
  },
  {
   "cell_type": "markdown",
   "id": "836fb2bc",
   "metadata": {},
   "source": [
    "## Decision Tree\n",
    "* forecasting **trip purpose**\n",
    "* Variables:\n",
    "    * Household Information : \n",
    "    * Household Member's Information :\n",
    "    * Trip Information : \n",
    "* Apply F1-Score as the measurement of the performance"
   ]
  },
  {
   "cell_type": "markdown",
   "id": "30fe2360",
   "metadata": {},
   "source": [
    "### Partitioning dataset into training set / test set"
   ]
  },
  {
   "cell_type": "code",
   "execution_count": 108,
   "id": "7aba00bc",
   "metadata": {
    "execution": {
     "iopub.execute_input": "2022-11-05T07:08:13.136838Z",
     "iopub.status.busy": "2022-11-05T07:08:13.136838Z",
     "iopub.status.idle": "2022-11-05T07:08:13.155745Z",
     "shell.execute_reply": "2022-11-05T07:08:13.154745Z",
     "shell.execute_reply.started": "2022-11-05T07:08:13.136838Z"
    },
    "tags": []
   },
   "outputs": [],
   "source": [
    "feature_names = [\n",
    "    'Old', # Age >= 65\n",
    "    'Trip_time', # Trip Time\n",
    "    'HHrel_3', # HHrel == Children\n",
    "    'Student', # Student\n",
    "    'Job_Specialized', # Specialized Job\n",
    "    'Job_Normal', # Retail, Service, Simple Labor, Management \n",
    "    'Job_Home', # Home\n",
    "    'Workdays_Full', # Work More than 5 days \n",
    "    'Workhours_1', # Full time\n",
    "    'Trip_d_hour_24', # Departure Time\n",
    "    'Trip_a_hour_24', # Arrival Time\n",
    "    'Trip_start', # First Trip of a day\n",
    "    'Trip_final' # Last Trip of a day\n",
    "]"
   ]
  },
  {
   "cell_type": "code",
   "execution_count": 109,
   "id": "d1e3d62c",
   "metadata": {
    "execution": {
     "iopub.execute_input": "2022-11-05T07:08:13.156744Z",
     "iopub.status.busy": "2022-11-05T07:08:13.156744Z",
     "iopub.status.idle": "2022-11-05T07:08:13.171721Z",
     "shell.execute_reply": "2022-11-05T07:08:13.170723Z",
     "shell.execute_reply.started": "2022-11-05T07:08:13.156744Z"
    },
    "tags": []
   },
   "outputs": [],
   "source": [
    "X = full[feature_names]"
   ]
  },
  {
   "cell_type": "code",
   "execution_count": 110,
   "id": "68804e05",
   "metadata": {
    "execution": {
     "iopub.execute_input": "2022-11-05T07:08:13.174322Z",
     "iopub.status.busy": "2022-11-05T07:08:13.174322Z",
     "iopub.status.idle": "2022-11-05T07:08:13.187001Z",
     "shell.execute_reply": "2022-11-05T07:08:13.186003Z",
     "shell.execute_reply.started": "2022-11-05T07:08:13.174322Z"
    },
    "tags": []
   },
   "outputs": [],
   "source": [
    "y = full['Trip_Purpose']"
   ]
  },
  {
   "cell_type": "code",
   "execution_count": 111,
   "id": "d5bb639a",
   "metadata": {
    "execution": {
     "iopub.execute_input": "2022-11-05T07:08:13.187998Z",
     "iopub.status.busy": "2022-11-05T07:08:13.187998Z",
     "iopub.status.idle": "2022-11-05T07:08:13.218706Z",
     "shell.execute_reply": "2022-11-05T07:08:13.216715Z",
     "shell.execute_reply.started": "2022-11-05T07:08:13.187998Z"
    },
    "tags": []
   },
   "outputs": [],
   "source": [
    "X_train, X_test, y_train, y_test = train_test_split(X, y,\n",
    "                                                   test_size = 0.3,\n",
    "                                                   random_state = 19891124,\n",
    "                                                   stratify = y)"
   ]
  },
  {
   "cell_type": "markdown",
   "id": "1ebbf243",
   "metadata": {},
   "source": [
    "### Constructing Tree"
   ]
  },
  {
   "cell_type": "code",
   "execution_count": 112,
   "id": "fbe9e279",
   "metadata": {
    "execution": {
     "iopub.execute_input": "2022-11-05T07:08:13.221697Z",
     "iopub.status.busy": "2022-11-05T07:08:13.220701Z",
     "iopub.status.idle": "2022-11-05T07:08:13.233820Z",
     "shell.execute_reply": "2022-11-05T07:08:13.232314Z",
     "shell.execute_reply.started": "2022-11-05T07:08:13.221697Z"
    },
    "tags": []
   },
   "outputs": [],
   "source": [
    "DT = tree.DecisionTreeClassifier(criterion = 'gini', max_depth = 7, random_state = 19891124)"
   ]
  },
  {
   "cell_type": "markdown",
   "id": "59b6a416",
   "metadata": {},
   "source": [
    "### Learning"
   ]
  },
  {
   "cell_type": "code",
   "execution_count": 113,
   "id": "e1a2a1e3",
   "metadata": {
    "execution": {
     "iopub.execute_input": "2022-11-05T07:08:13.237164Z",
     "iopub.status.busy": "2022-11-05T07:08:13.236170Z",
     "iopub.status.idle": "2022-11-05T07:08:13.281377Z",
     "shell.execute_reply": "2022-11-05T07:08:13.280378Z",
     "shell.execute_reply.started": "2022-11-05T07:08:13.237164Z"
    },
    "tags": []
   },
   "outputs": [
    {
     "data": {
      "text/plain": [
       "DecisionTreeClassifier(max_depth=7, random_state=19891124)"
      ]
     },
     "execution_count": 113,
     "metadata": {},
     "output_type": "execute_result"
    }
   ],
   "source": [
    "DT.fit(X_train, y_train)"
   ]
  },
  {
   "cell_type": "markdown",
   "id": "162fbbc2-874b-472a-9bd0-afa06baf945e",
   "metadata": {},
   "source": [
    "## Result"
   ]
  },
  {
   "cell_type": "markdown",
   "id": "aa92be48",
   "metadata": {},
   "source": [
    "### Plotting Tree"
   ]
  },
  {
   "cell_type": "code",
   "execution_count": 114,
   "id": "8727b067-7bf8-499e-8596-c764d6f7163d",
   "metadata": {
    "execution": {
     "iopub.execute_input": "2022-11-05T07:08:13.287898Z",
     "iopub.status.busy": "2022-11-05T07:08:13.285904Z",
     "iopub.status.idle": "2022-11-05T07:08:15.771229Z",
     "shell.execute_reply": "2022-11-05T07:08:15.770271Z",
     "shell.execute_reply.started": "2022-11-05T07:08:13.287898Z"
    },
    "tags": []
   },
   "outputs": [
    {
     "data": {
      "text/plain": [
       "True"
      ]
     },
     "execution_count": 114,
     "metadata": {},
     "output_type": "execute_result"
    }
   ],
   "source": [
    "dot_data = export_graphviz(\n",
    "    DT, out_file = None, feature_names = feature_names,\n",
    "    class_names = ['Work', 'Education', 'Business', 'Shopping/social/leisure', 'Back-home', 'Other'],\n",
    "    filled = True, rounded = True,\n",
    "    special_characters = True)\n",
    "\n",
    "graph = graph_from_dot_data(dot_data)\n",
    "graph.write_png('DT.png')"
   ]
  },
  {
   "cell_type": "markdown",
   "id": "7aa36c5f",
   "metadata": {},
   "source": [
    "### Evaluation"
   ]
  },
  {
   "cell_type": "code",
   "execution_count": 115,
   "id": "6b275032",
   "metadata": {
    "execution": {
     "iopub.execute_input": "2022-11-05T07:08:15.773268Z",
     "iopub.status.busy": "2022-11-05T07:08:15.773268Z",
     "iopub.status.idle": "2022-11-05T07:08:15.788288Z",
     "shell.execute_reply": "2022-11-05T07:08:15.786291Z",
     "shell.execute_reply.started": "2022-11-05T07:08:15.773268Z"
    },
    "tags": []
   },
   "outputs": [],
   "source": [
    "y_pred = DT.predict(X_test)"
   ]
  },
  {
   "cell_type": "code",
   "execution_count": 116,
   "id": "8569df2f",
   "metadata": {
    "execution": {
     "iopub.execute_input": "2022-11-05T07:08:15.792275Z",
     "iopub.status.busy": "2022-11-05T07:08:15.791280Z",
     "iopub.status.idle": "2022-11-05T07:08:15.801589Z",
     "shell.execute_reply": "2022-11-05T07:08:15.801589Z",
     "shell.execute_reply.started": "2022-11-05T07:08:15.792275Z"
    },
    "tags": []
   },
   "outputs": [
    {
     "data": {
      "text/plain": [
       "array(['Work', 'Work', 'Back-home', ..., 'Work', 'Work', 'Back-home'],\n",
       "      dtype=object)"
      ]
     },
     "execution_count": 116,
     "metadata": {},
     "output_type": "execute_result"
    }
   ],
   "source": [
    "y_pred"
   ]
  },
  {
   "cell_type": "markdown",
   "id": "5c9f1cec",
   "metadata": {},
   "source": [
    "### Confusion Matrix & Measurements"
   ]
  },
  {
   "cell_type": "code",
   "execution_count": 117,
   "id": "2be3af74",
   "metadata": {
    "execution": {
     "iopub.execute_input": "2022-11-05T07:08:15.805121Z",
     "iopub.status.busy": "2022-11-05T07:08:15.804122Z",
     "iopub.status.idle": "2022-11-05T07:08:15.929675Z",
     "shell.execute_reply": "2022-11-05T07:08:15.927680Z",
     "shell.execute_reply.started": "2022-11-05T07:08:15.805121Z"
    },
    "tags": []
   },
   "outputs": [
    {
     "name": "stdout",
     "output_type": "stream",
     "text": [
      "==================== Confusion Matrix ====================\n",
      "[[2747   15    0    1   19   10]\n",
      " [  16  177    0    0   13   19]\n",
      " [   3    0    1    1    1    1]\n",
      " [  28   25    0    6   18   31]\n",
      " [ 120   21    0    6   87   22]\n",
      " [   7   16    0    6    1 2672]]\n",
      "\n",
      "==================== Classification Report ====================\n",
      "                         precision    recall  f1-score   support\n",
      "\n",
      "              Back-home       0.94      0.98      0.96      2792\n",
      "               Business       0.70      0.79      0.74       225\n",
      "              Education       1.00      0.14      0.25         7\n",
      "                  Other       0.30      0.06      0.09       108\n",
      "Shopping/social/leisure       0.63      0.34      0.44       256\n",
      "                   Work       0.97      0.99      0.98      2702\n",
      "\n",
      "               accuracy                           0.93      6090\n",
      "              macro avg       0.76      0.55      0.58      6090\n",
      "           weighted avg       0.92      0.93      0.92      6090\n",
      "\n"
     ]
    }
   ],
   "source": [
    "# Confusion matrix & measurements\n",
    "print('==================== Confusion Matrix ====================')\n",
    "print(confusion_matrix(y_test, y_pred))\n",
    "print('')\n",
    "print('==================== Classification Report ====================')\n",
    "print(classification_report(y_test, y_pred))"
   ]
  }
 ],
 "metadata": {
  "kernelspec": {
   "display_name": "Python 3",
   "language": "python",
   "name": "python3"
  },
  "language_info": {
   "codemirror_mode": {
    "name": "ipython",
    "version": 3
   },
   "file_extension": ".py",
   "mimetype": "text/x-python",
   "name": "python",
   "nbconvert_exporter": "python",
   "pygments_lexer": "ipython3",
   "version": "3.8.8"
  },
  "toc-showcode": false
 },
 "nbformat": 4,
 "nbformat_minor": 5
}
