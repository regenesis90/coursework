{
 "cells": [
  {
   "cell_type": "markdown",
   "id": "9e02f705",
   "metadata": {},
   "source": [
    "# Assignment 3\n",
    "* Please use an example dataset of travel diary data (linked trip) which are uploaded on LearnUS \n",
    "    * Class Files -> Travel diary -> Travel_data_Linked.csv\n",
    "* For detail information of each column, check “Travel_data_Linked_description.xlsx”)"
   ]
  },
  {
   "cell_type": "markdown",
   "id": "d4542f3e",
   "metadata": {},
   "source": [
    "# Set up"
   ]
  },
  {
   "cell_type": "markdown",
   "id": "46a389e6",
   "metadata": {},
   "source": [
    "## Import"
   ]
  },
  {
   "cell_type": "code",
   "execution_count": 1,
   "id": "a790551b",
   "metadata": {
    "execution": {
     "iopub.execute_input": "2022-11-09T08:08:32.005836Z",
     "iopub.status.busy": "2022-11-09T08:08:32.005836Z",
     "iopub.status.idle": "2022-11-09T08:08:37.906366Z",
     "shell.execute_reply": "2022-11-09T08:08:37.906366Z",
     "shell.execute_reply.started": "2022-11-09T08:08:32.005836Z"
    },
    "tags": []
   },
   "outputs": [],
   "source": [
    "import os\n",
    "import pandas as pd\n",
    "import numpy as np\n",
    "\n",
    "from tqdm import tqdm\n",
    "\n",
    "from sklearn.ensemble import RandomForestClassifier\n",
    "from sklearn.metrics import classification_report, confusion_matrix\n",
    "from sklearn.model_selection import train_test_split\n",
    "from sklearn import tree\n",
    "\n",
    "from pydotplus import graph_from_dot_data\n",
    "from sklearn.tree import export_graphviz"
   ]
  },
  {
   "cell_type": "markdown",
   "id": "6ba724ef",
   "metadata": {},
   "source": [
    "## Load Dataset"
   ]
  },
  {
   "cell_type": "code",
   "execution_count": 2,
   "id": "48d03823",
   "metadata": {
    "execution": {
     "iopub.execute_input": "2022-11-09T08:08:37.907335Z",
     "iopub.status.busy": "2022-11-09T08:08:37.907335Z",
     "iopub.status.idle": "2022-11-09T08:08:37.923293Z",
     "shell.execute_reply": "2022-11-09T08:08:37.922324Z",
     "shell.execute_reply.started": "2022-11-09T08:08:37.907335Z"
    },
    "tags": []
   },
   "outputs": [],
   "source": [
    "data_dir = 'D:/OneDrive - 연세대학교 (Yonsei University)/Lectures/2022-2_모빌리티데이터분석및활용/dataset'"
   ]
  },
  {
   "cell_type": "code",
   "execution_count": 3,
   "id": "e2e23fba",
   "metadata": {
    "execution": {
     "iopub.execute_input": "2022-11-09T08:08:37.926293Z",
     "iopub.status.busy": "2022-11-09T08:08:37.925288Z",
     "iopub.status.idle": "2022-11-09T08:08:37.941275Z",
     "shell.execute_reply": "2022-11-09T08:08:37.938257Z",
     "shell.execute_reply.started": "2022-11-09T08:08:37.926293Z"
    },
    "tags": []
   },
   "outputs": [],
   "source": [
    "data_file = 'Travel_data_Linked.csv'"
   ]
  },
  {
   "cell_type": "code",
   "execution_count": 4,
   "id": "6795b2a7",
   "metadata": {
    "execution": {
     "iopub.execute_input": "2022-11-09T08:08:37.943240Z",
     "iopub.status.busy": "2022-11-09T08:08:37.943240Z",
     "iopub.status.idle": "2022-11-09T08:08:37.955209Z",
     "shell.execute_reply": "2022-11-09T08:08:37.953214Z",
     "shell.execute_reply.started": "2022-11-09T08:08:37.943240Z"
    },
    "tags": []
   },
   "outputs": [],
   "source": [
    "data_path = os.path.join(data_dir, data_file)"
   ]
  },
  {
   "cell_type": "code",
   "execution_count": 5,
   "id": "8f0c22c9",
   "metadata": {
    "execution": {
     "iopub.execute_input": "2022-11-09T08:08:37.957204Z",
     "iopub.status.busy": "2022-11-09T08:08:37.957204Z",
     "iopub.status.idle": "2022-11-09T08:08:38.050104Z",
     "shell.execute_reply": "2022-11-09T08:08:38.049095Z",
     "shell.execute_reply.started": "2022-11-09T08:08:37.957204Z"
    },
    "tags": []
   },
   "outputs": [],
   "source": [
    "df = pd.read_csv(data_path)"
   ]
  },
  {
   "cell_type": "markdown",
   "id": "3e7bd092",
   "metadata": {},
   "source": [
    "# Q1\n",
    "* Develop a decision tree model of forecasting trip purpose by considering the following conditions:\n",
    "    - Use the variables included in the dataset only (Do not use external data)\n",
    "    - Create new variables (i.e. features) using the variables if necessary (e.g., travel time, etc.)\n",
    "    - Apply F1-score as the measurement of the performance\n",
    "*  Submit Jupyter Notebook file of your model and results\n",
    "    - (You don’t need to submit the tree structure, but F1-score should be stated in the results.)"
   ]
  },
  {
   "cell_type": "markdown",
   "id": "90dfbdbf-6750-4625-b6ea-b0d87fb0cf3a",
   "metadata": {},
   "source": [
    "## Create Variables"
   ]
  },
  {
   "cell_type": "markdown",
   "id": "b57115fd-30b8-4686-b101-2762c88bd99d",
   "metadata": {},
   "source": [
    "### Trip\n",
    "* `Trip_order` : The order of the number of daily trips of a specific person (`P_ID`)\n",
    "* `Trip_final` : A dummy variable representing 1 if it is the last trip of a specific person (`P_ID`) and 0 otherwise.\n",
    "* `Trip_start` : A dummy variable indicating 1 if it is the first trip among daily passes of a specific person (`P_ID`), and 0 otherwise.\n",
    "* `Trip_time` : Travel time (minutes)"
   ]
  },
  {
   "cell_type": "code",
   "execution_count": 6,
   "id": "f5ce4ec8",
   "metadata": {
    "execution": {
     "iopub.execute_input": "2022-11-09T08:08:38.050104Z",
     "iopub.status.busy": "2022-11-09T08:08:38.050104Z",
     "iopub.status.idle": "2022-11-09T08:09:05.283457Z",
     "shell.execute_reply": "2022-11-09T08:09:05.282431Z",
     "shell.execute_reply.started": "2022-11-09T08:08:38.050104Z"
    },
    "tags": []
   },
   "outputs": [
    {
     "name": "stderr",
     "output_type": "stream",
     "text": [
      "100%|█████████████████████████████████████████████████████████████████████████████| 7390/7390 [00:27<00:00, 271.67it/s]\n"
     ]
    }
   ],
   "source": [
    "df.reset_index(inplace = True)\n",
    "\n",
    "df['Trip_order'] = None\n",
    "df['Trip_final'] = None\n",
    "\n",
    "House_list = df['HH_ID'].unique()\n",
    "\n",
    "for house in tqdm(House_list):\n",
    "    \n",
    "    house_trip = df[df['HH_ID'] == house]\n",
    "    person_list = house_trip['P_ID'].unique()\n",
    "    \n",
    "    for person in person_list:\n",
    "        person_trip = house_trip[house_trip['P_ID'] == person]\n",
    "        \n",
    "        i = 0\n",
    "        \n",
    "        for trip in range(len(person_trip)):\n",
    "            \n",
    "            trip_time = person_trip.iloc[trip]\n",
    "            idx = person_trip.iloc[i]['index']\n",
    "            \n",
    "            df.at[idx, 'Trip_order'] = i\n",
    "            df.at[idx, 'Trip_final'] = i\n",
    "            \n",
    "            i += 1\n",
    "        \n",
    "        df.at[idx, 'Trip_final'] = 1\n",
    "        \n",
    "df['Trip_final'] = df['Trip_final'].fillna(0)"
   ]
  },
  {
   "cell_type": "code",
   "execution_count": 7,
   "id": "1f1fa1b8",
   "metadata": {
    "execution": {
     "iopub.execute_input": "2022-11-09T08:09:05.283457Z",
     "iopub.status.busy": "2022-11-09T08:09:05.283457Z",
     "iopub.status.idle": "2022-11-09T08:09:05.314346Z",
     "shell.execute_reply": "2022-11-09T08:09:05.313349Z",
     "shell.execute_reply.started": "2022-11-09T08:09:05.283457Z"
    },
    "tags": []
   },
   "outputs": [],
   "source": [
    "def Trip_start(Trip_order):\n",
    "    if Trip_order == 0:\n",
    "        return 1\n",
    "    else:\n",
    "        return 0\n",
    "    \n",
    "df['Trip_start'] = df['Trip_order'].apply(Trip_start)"
   ]
  },
  {
   "cell_type": "code",
   "execution_count": 8,
   "id": "6927ffa9",
   "metadata": {
    "execution": {
     "iopub.execute_input": "2022-11-09T08:09:05.316341Z",
     "iopub.status.busy": "2022-11-09T08:09:05.316341Z",
     "iopub.status.idle": "2022-11-09T08:09:06.068761Z",
     "shell.execute_reply": "2022-11-09T08:09:06.068761Z",
     "shell.execute_reply.started": "2022-11-09T08:09:05.316341Z"
    },
    "tags": []
   },
   "outputs": [],
   "source": [
    "def Trip_time_calculate(Trip_a_P, Trip_a_hh, Trip_a_mm, Trip_d_P, Trip_d_hh, Trip_d_mm):\n",
    "    Trip_d = Trip_d_hh * 60 + Trip_d_mm\n",
    "    Trip_a = Trip_a_hh * 60 + Trip_a_mm\n",
    "    \n",
    "    if Trip_a_P == Trip_d_P: # 둘의 오전, 오후 포함 시간대가 같은 경우\n",
    "        Trip_time = Trip_a - Trip_d\n",
    "        \n",
    "    elif Trip_a_P == 1 and Trip_d_P == 2: #오전 출발, 오후 도착\n",
    "        Trip_time = (Trip_a + 12 * 60) - Trip_d\n",
    "        \n",
    "    elif Trip_a_P == 2 and Trip_d_P == 3: #오후 출발, 다음날 도착\n",
    "        Trip_time = (Trip_a + 24 * 60) - (Trip_d + 12 * 60)\n",
    "        \n",
    "    elif Trip_a_P == 1 and Trip_d_P == 3: #오전 출발, 다음날 도착\n",
    "        Trip_time = (Trip_a + 24 * 60) - Trip_d\n",
    "        \n",
    "    else:\n",
    "        Trip_time = None\n",
    "        \n",
    "    return Trip_time\n",
    "\n",
    "df['Trip_time'] = df.apply(lambda x : Trip_time_calculate(x['Trip_a_P'], x['Trip_a_hh'], x['Trip_a_mm'], x['Trip_d_P'], x['Trip_d_hh'], x['Trip_d_mm']) , axis = 1 )"
   ]
  },
  {
   "cell_type": "code",
   "execution_count": 9,
   "id": "ebd1a2f0",
   "metadata": {
    "execution": {
     "iopub.execute_input": "2022-11-09T08:09:06.070755Z",
     "iopub.status.busy": "2022-11-09T08:09:06.070755Z",
     "iopub.status.idle": "2022-11-09T08:09:06.085687Z",
     "shell.execute_reply": "2022-11-09T08:09:06.084690Z",
     "shell.execute_reply.started": "2022-11-09T08:09:06.070755Z"
    },
    "tags": []
   },
   "outputs": [],
   "source": [
    "def Time_d_hour(Trip_d_hh, Trip_d_P):\n",
    "    if Trip_d_P == 1:\n",
    "        return Trip_d_hh\n",
    "    \n",
    "    elif Trip_d_P == 2:\n",
    "        return (Trip_d_hh + 12)\n",
    "    \n",
    "    elif Trip_d_P == 3:\n",
    "        return (Trip_d_hh + 24)\n",
    "    \n",
    "    else:\n",
    "        pass\n",
    "    \n",
    "def Time_a_hour(Trip_a_hh, Trip_a_P):\n",
    "    if Trip_a_P == 1:\n",
    "        return Trip_a_hh\n",
    "    \n",
    "    elif Trip_a_P == 2:\n",
    "        return (Trip_a_hh + 12)\n",
    "    \n",
    "    elif Trip_a_P == 3:\n",
    "        return (Trip_a_hh + 24)\n",
    "    \n",
    "    else:\n",
    "        pass"
   ]
  },
  {
   "cell_type": "code",
   "execution_count": 10,
   "id": "c1f2b9e7-b45d-4bba-a748-0ccf5021eba8",
   "metadata": {
    "execution": {
     "iopub.execute_input": "2022-11-09T08:09:06.087682Z",
     "iopub.status.busy": "2022-11-09T08:09:06.086714Z",
     "iopub.status.idle": "2022-11-09T08:09:06.846684Z",
     "shell.execute_reply": "2022-11-09T08:09:06.845684Z",
     "shell.execute_reply.started": "2022-11-09T08:09:06.087682Z"
    }
   },
   "outputs": [],
   "source": [
    "df['Trip_d_hour_24'] = df.apply(lambda x : Time_d_hour(x['Trip_d_hh'], x['Trip_d_P']), axis = 1)\n",
    "df['Trip_a_hour_24'] = df.apply(lambda x : Time_a_hour(x['Trip_a_hh'], x['Trip_a_P']), axis = 1)"
   ]
  },
  {
   "cell_type": "code",
   "execution_count": 11,
   "id": "f17205c8",
   "metadata": {
    "execution": {
     "iopub.execute_input": "2022-11-09T08:09:06.848647Z",
     "iopub.status.busy": "2022-11-09T08:09:06.847682Z",
     "iopub.status.idle": "2022-11-09T08:09:06.926439Z",
     "shell.execute_reply": "2022-11-09T08:09:06.924444Z",
     "shell.execute_reply.started": "2022-11-09T08:09:06.848647Z"
    }
   },
   "outputs": [
    {
     "data": {
      "text/html": [
       "<div>\n",
       "<style scoped>\n",
       "    .dataframe tbody tr th:only-of-type {\n",
       "        vertical-align: middle;\n",
       "    }\n",
       "\n",
       "    .dataframe tbody tr th {\n",
       "        vertical-align: top;\n",
       "    }\n",
       "\n",
       "    .dataframe thead th {\n",
       "        text-align: right;\n",
       "    }\n",
       "</style>\n",
       "<table border=\"1\" class=\"dataframe\">\n",
       "  <thead>\n",
       "    <tr style=\"text-align: right;\">\n",
       "      <th></th>\n",
       "      <th>index</th>\n",
       "      <th>No</th>\n",
       "      <th>HH_ID</th>\n",
       "      <th>HHsize</th>\n",
       "      <th>HHsize5</th>\n",
       "      <th>HHinc</th>\n",
       "      <th>Ncars</th>\n",
       "      <th>P_ID</th>\n",
       "      <th>HHrel</th>\n",
       "      <th>Age</th>\n",
       "      <th>...</th>\n",
       "      <th>Trip_a_P</th>\n",
       "      <th>Trip_a_hh</th>\n",
       "      <th>Trip_a_mm</th>\n",
       "      <th>Trip_a_D</th>\n",
       "      <th>Trip_order</th>\n",
       "      <th>Trip_final</th>\n",
       "      <th>Trip_start</th>\n",
       "      <th>Trip_time</th>\n",
       "      <th>Trip_d_hour_24</th>\n",
       "      <th>Trip_a_hour_24</th>\n",
       "    </tr>\n",
       "  </thead>\n",
       "  <tbody>\n",
       "    <tr>\n",
       "      <th>0</th>\n",
       "      <td>0</td>\n",
       "      <td>1</td>\n",
       "      <td>4889</td>\n",
       "      <td>2</td>\n",
       "      <td>2</td>\n",
       "      <td>4</td>\n",
       "      <td>1</td>\n",
       "      <td>1</td>\n",
       "      <td>1</td>\n",
       "      <td>36</td>\n",
       "      <td>...</td>\n",
       "      <td>1.0</td>\n",
       "      <td>7.0</td>\n",
       "      <td>30.0</td>\n",
       "      <td>1.168064e+09</td>\n",
       "      <td>0</td>\n",
       "      <td>0</td>\n",
       "      <td>1</td>\n",
       "      <td>60.0</td>\n",
       "      <td>6.0</td>\n",
       "      <td>7.0</td>\n",
       "    </tr>\n",
       "    <tr>\n",
       "      <th>1</th>\n",
       "      <td>1</td>\n",
       "      <td>2</td>\n",
       "      <td>4889</td>\n",
       "      <td>2</td>\n",
       "      <td>2</td>\n",
       "      <td>4</td>\n",
       "      <td>1</td>\n",
       "      <td>1</td>\n",
       "      <td>1</td>\n",
       "      <td>36</td>\n",
       "      <td>...</td>\n",
       "      <td>2.0</td>\n",
       "      <td>9.0</td>\n",
       "      <td>40.0</td>\n",
       "      <td>1.138060e+09</td>\n",
       "      <td>1</td>\n",
       "      <td>1</td>\n",
       "      <td>0</td>\n",
       "      <td>40.0</td>\n",
       "      <td>21.0</td>\n",
       "      <td>21.0</td>\n",
       "    </tr>\n",
       "    <tr>\n",
       "      <th>2</th>\n",
       "      <td>2</td>\n",
       "      <td>3</td>\n",
       "      <td>4889</td>\n",
       "      <td>2</td>\n",
       "      <td>2</td>\n",
       "      <td>4</td>\n",
       "      <td>1</td>\n",
       "      <td>2</td>\n",
       "      <td>2</td>\n",
       "      <td>36</td>\n",
       "      <td>...</td>\n",
       "      <td>1.0</td>\n",
       "      <td>8.0</td>\n",
       "      <td>30.0</td>\n",
       "      <td>1.156055e+09</td>\n",
       "      <td>0</td>\n",
       "      <td>0</td>\n",
       "      <td>1</td>\n",
       "      <td>30.0</td>\n",
       "      <td>8.0</td>\n",
       "      <td>8.0</td>\n",
       "    </tr>\n",
       "    <tr>\n",
       "      <th>3</th>\n",
       "      <td>3</td>\n",
       "      <td>4</td>\n",
       "      <td>4889</td>\n",
       "      <td>2</td>\n",
       "      <td>2</td>\n",
       "      <td>4</td>\n",
       "      <td>1</td>\n",
       "      <td>2</td>\n",
       "      <td>2</td>\n",
       "      <td>36</td>\n",
       "      <td>...</td>\n",
       "      <td>2.0</td>\n",
       "      <td>8.0</td>\n",
       "      <td>0.0</td>\n",
       "      <td>1.138060e+09</td>\n",
       "      <td>1</td>\n",
       "      <td>1</td>\n",
       "      <td>0</td>\n",
       "      <td>30.0</td>\n",
       "      <td>19.0</td>\n",
       "      <td>20.0</td>\n",
       "    </tr>\n",
       "    <tr>\n",
       "      <th>4</th>\n",
       "      <td>4</td>\n",
       "      <td>5</td>\n",
       "      <td>4918</td>\n",
       "      <td>4</td>\n",
       "      <td>3</td>\n",
       "      <td>4</td>\n",
       "      <td>1</td>\n",
       "      <td>1</td>\n",
       "      <td>1</td>\n",
       "      <td>44</td>\n",
       "      <td>...</td>\n",
       "      <td>1.0</td>\n",
       "      <td>7.0</td>\n",
       "      <td>35.0</td>\n",
       "      <td>1.162070e+09</td>\n",
       "      <td>0</td>\n",
       "      <td>0</td>\n",
       "      <td>1</td>\n",
       "      <td>45.0</td>\n",
       "      <td>6.0</td>\n",
       "      <td>7.0</td>\n",
       "    </tr>\n",
       "    <tr>\n",
       "      <th>5</th>\n",
       "      <td>5</td>\n",
       "      <td>6</td>\n",
       "      <td>4918</td>\n",
       "      <td>4</td>\n",
       "      <td>3</td>\n",
       "      <td>4</td>\n",
       "      <td>1</td>\n",
       "      <td>1</td>\n",
       "      <td>1</td>\n",
       "      <td>44</td>\n",
       "      <td>...</td>\n",
       "      <td>2.0</td>\n",
       "      <td>8.0</td>\n",
       "      <td>10.0</td>\n",
       "      <td>1.138060e+09</td>\n",
       "      <td>1</td>\n",
       "      <td>1</td>\n",
       "      <td>0</td>\n",
       "      <td>40.0</td>\n",
       "      <td>19.0</td>\n",
       "      <td>20.0</td>\n",
       "    </tr>\n",
       "    <tr>\n",
       "      <th>6</th>\n",
       "      <td>6</td>\n",
       "      <td>7</td>\n",
       "      <td>4918</td>\n",
       "      <td>4</td>\n",
       "      <td>3</td>\n",
       "      <td>4</td>\n",
       "      <td>1</td>\n",
       "      <td>2</td>\n",
       "      <td>2</td>\n",
       "      <td>38</td>\n",
       "      <td>...</td>\n",
       "      <td>2.0</td>\n",
       "      <td>2.0</td>\n",
       "      <td>15.0</td>\n",
       "      <td>1.144073e+09</td>\n",
       "      <td>0</td>\n",
       "      <td>0</td>\n",
       "      <td>1</td>\n",
       "      <td>15.0</td>\n",
       "      <td>14.0</td>\n",
       "      <td>14.0</td>\n",
       "    </tr>\n",
       "    <tr>\n",
       "      <th>7</th>\n",
       "      <td>7</td>\n",
       "      <td>8</td>\n",
       "      <td>4918</td>\n",
       "      <td>4</td>\n",
       "      <td>3</td>\n",
       "      <td>4</td>\n",
       "      <td>1</td>\n",
       "      <td>2</td>\n",
       "      <td>2</td>\n",
       "      <td>38</td>\n",
       "      <td>...</td>\n",
       "      <td>2.0</td>\n",
       "      <td>4.0</td>\n",
       "      <td>20.0</td>\n",
       "      <td>1.138060e+09</td>\n",
       "      <td>1</td>\n",
       "      <td>1</td>\n",
       "      <td>0</td>\n",
       "      <td>20.0</td>\n",
       "      <td>16.0</td>\n",
       "      <td>16.0</td>\n",
       "    </tr>\n",
       "    <tr>\n",
       "      <th>8</th>\n",
       "      <td>8</td>\n",
       "      <td>9</td>\n",
       "      <td>4918</td>\n",
       "      <td>4</td>\n",
       "      <td>3</td>\n",
       "      <td>4</td>\n",
       "      <td>1</td>\n",
       "      <td>3</td>\n",
       "      <td>3</td>\n",
       "      <td>7</td>\n",
       "      <td>...</td>\n",
       "      <td>1.0</td>\n",
       "      <td>8.0</td>\n",
       "      <td>15.0</td>\n",
       "      <td>1.141070e+09</td>\n",
       "      <td>0</td>\n",
       "      <td>0</td>\n",
       "      <td>1</td>\n",
       "      <td>15.0</td>\n",
       "      <td>8.0</td>\n",
       "      <td>8.0</td>\n",
       "    </tr>\n",
       "    <tr>\n",
       "      <th>9</th>\n",
       "      <td>9</td>\n",
       "      <td>10</td>\n",
       "      <td>4918</td>\n",
       "      <td>4</td>\n",
       "      <td>3</td>\n",
       "      <td>4</td>\n",
       "      <td>1</td>\n",
       "      <td>3</td>\n",
       "      <td>3</td>\n",
       "      <td>7</td>\n",
       "      <td>...</td>\n",
       "      <td>2.0</td>\n",
       "      <td>1.0</td>\n",
       "      <td>15.0</td>\n",
       "      <td>1.138060e+09</td>\n",
       "      <td>1</td>\n",
       "      <td>1</td>\n",
       "      <td>0</td>\n",
       "      <td>15.0</td>\n",
       "      <td>13.0</td>\n",
       "      <td>13.0</td>\n",
       "    </tr>\n",
       "  </tbody>\n",
       "</table>\n",
       "<p>10 rows × 33 columns</p>\n",
       "</div>"
      ],
      "text/plain": [
       "   index  No  HH_ID  HHsize  HHsize5  HHinc  Ncars  P_ID  HHrel  Age  ...  \\\n",
       "0      0   1   4889       2        2      4      1     1      1   36  ...   \n",
       "1      1   2   4889       2        2      4      1     1      1   36  ...   \n",
       "2      2   3   4889       2        2      4      1     2      2   36  ...   \n",
       "3      3   4   4889       2        2      4      1     2      2   36  ...   \n",
       "4      4   5   4918       4        3      4      1     1      1   44  ...   \n",
       "5      5   6   4918       4        3      4      1     1      1   44  ...   \n",
       "6      6   7   4918       4        3      4      1     2      2   38  ...   \n",
       "7      7   8   4918       4        3      4      1     2      2   38  ...   \n",
       "8      8   9   4918       4        3      4      1     3      3    7  ...   \n",
       "9      9  10   4918       4        3      4      1     3      3    7  ...   \n",
       "\n",
       "   Trip_a_P  Trip_a_hh  Trip_a_mm      Trip_a_D  Trip_order  Trip_final  \\\n",
       "0       1.0        7.0       30.0  1.168064e+09           0           0   \n",
       "1       2.0        9.0       40.0  1.138060e+09           1           1   \n",
       "2       1.0        8.0       30.0  1.156055e+09           0           0   \n",
       "3       2.0        8.0        0.0  1.138060e+09           1           1   \n",
       "4       1.0        7.0       35.0  1.162070e+09           0           0   \n",
       "5       2.0        8.0       10.0  1.138060e+09           1           1   \n",
       "6       2.0        2.0       15.0  1.144073e+09           0           0   \n",
       "7       2.0        4.0       20.0  1.138060e+09           1           1   \n",
       "8       1.0        8.0       15.0  1.141070e+09           0           0   \n",
       "9       2.0        1.0       15.0  1.138060e+09           1           1   \n",
       "\n",
       "   Trip_start  Trip_time  Trip_d_hour_24  Trip_a_hour_24  \n",
       "0           1       60.0             6.0             7.0  \n",
       "1           0       40.0            21.0            21.0  \n",
       "2           1       30.0             8.0             8.0  \n",
       "3           0       30.0            19.0            20.0  \n",
       "4           1       45.0             6.0             7.0  \n",
       "5           0       40.0            19.0            20.0  \n",
       "6           1       15.0            14.0            14.0  \n",
       "7           0       20.0            16.0            16.0  \n",
       "8           1       15.0             8.0             8.0  \n",
       "9           0       15.0            13.0            13.0  \n",
       "\n",
       "[10 rows x 33 columns]"
      ]
     },
     "execution_count": 11,
     "metadata": {},
     "output_type": "execute_result"
    }
   ],
   "source": [
    "df.head(10)"
   ]
  },
  {
   "cell_type": "markdown",
   "id": "baceba47",
   "metadata": {},
   "source": [
    "### Other Dummy Variables"
   ]
  },
  {
   "cell_type": "code",
   "execution_count": 12,
   "id": "110b44b4",
   "metadata": {
    "execution": {
     "iopub.execute_input": "2022-11-09T08:09:06.931431Z",
     "iopub.status.busy": "2022-11-09T08:09:06.929432Z",
     "iopub.status.idle": "2022-11-09T08:09:06.946388Z",
     "shell.execute_reply": "2022-11-09T08:09:06.941402Z",
     "shell.execute_reply.started": "2022-11-09T08:09:06.931431Z"
    },
    "tags": []
   },
   "outputs": [],
   "source": [
    "def Old(Age):\n",
    "    if Age >= 65:\n",
    "        return 1\n",
    "    else:\n",
    "        return 0"
   ]
  },
  {
   "cell_type": "code",
   "execution_count": 13,
   "id": "286d800b",
   "metadata": {
    "execution": {
     "iopub.execute_input": "2022-11-09T08:09:06.949379Z",
     "iopub.status.busy": "2022-11-09T08:09:06.949379Z",
     "iopub.status.idle": "2022-11-09T08:09:06.959351Z",
     "shell.execute_reply": "2022-11-09T08:09:06.956364Z",
     "shell.execute_reply.started": "2022-11-09T08:09:06.949379Z"
    },
    "tags": []
   },
   "outputs": [],
   "source": [
    "def Dummy_car_ownership(Ncars):\n",
    "    if Ncars == 1: # Car own\n",
    "        return 1\n",
    "    elif Ncars == 2: # Do not own\n",
    "        return 0\n",
    "    else:\n",
    "        pass"
   ]
  },
  {
   "cell_type": "code",
   "execution_count": 14,
   "id": "3eb55ec7",
   "metadata": {
    "execution": {
     "iopub.execute_input": "2022-11-09T08:09:06.964340Z",
     "iopub.status.busy": "2022-11-09T08:09:06.962344Z",
     "iopub.status.idle": "2022-11-09T08:09:06.990271Z",
     "shell.execute_reply": "2022-11-09T08:09:06.988276Z",
     "shell.execute_reply.started": "2022-11-09T08:09:06.963341Z"
    },
    "tags": []
   },
   "outputs": [],
   "source": [
    "def Dummy_HHrel_1(HHrel):\n",
    "    if HHrel == 1: # 'Householder'\n",
    "        return 1\n",
    "    else:\n",
    "        return 0\n",
    "    \n",
    "def Dummy_HHrel_2(HHrel):\n",
    "    if HHrel == 2: # 'Spouse'\n",
    "        return 1\n",
    "    else:\n",
    "        return 0\n",
    "    \n",
    "def Dummy_HHrel_3(HHrel):\n",
    "    if HHrel == 3: # 'Children'\n",
    "        return 1\n",
    "    else:\n",
    "        return 0\n",
    "    \n",
    "def Dummy_HHrel_4(HHrel):\n",
    "    if HHrel == 4: #'Parents'\n",
    "        return 1\n",
    "    else:\n",
    "        return 0\n",
    "    \n",
    "def Dummy_HHrel_5(HHrel):\n",
    "    if HHrel == 5: #'etc.'\n",
    "        return 1\n",
    "    else:\n",
    "        return 0"
   ]
  },
  {
   "cell_type": "code",
   "execution_count": 15,
   "id": "f9679593",
   "metadata": {
    "execution": {
     "iopub.execute_input": "2022-11-09T08:09:06.992266Z",
     "iopub.status.busy": "2022-11-09T08:09:06.992266Z",
     "iopub.status.idle": "2022-11-09T08:09:07.006226Z",
     "shell.execute_reply": "2022-11-09T08:09:07.004231Z",
     "shell.execute_reply.started": "2022-11-09T08:09:06.992266Z"
    },
    "tags": []
   },
   "outputs": [],
   "source": [
    "def Dummy_Gender(Gender):\n",
    "    if Gender == 1: # Male\n",
    "        return 1\n",
    "    elif Gender == 2: # Female\n",
    "        return 0\n",
    "    else:\n",
    "        pass"
   ]
  },
  {
   "cell_type": "code",
   "execution_count": 16,
   "id": "54c1aaed",
   "metadata": {
    "execution": {
     "iopub.execute_input": "2022-11-09T08:09:07.010242Z",
     "iopub.status.busy": "2022-11-09T08:09:07.009219Z",
     "iopub.status.idle": "2022-11-09T08:09:07.040138Z",
     "shell.execute_reply": "2022-11-09T08:09:07.036149Z",
     "shell.execute_reply.started": "2022-11-09T08:09:07.010242Z"
    },
    "tags": []
   },
   "outputs": [],
   "source": [
    "def Dummy_License(License):\n",
    "    if License == 1: # Own\n",
    "        return 1\n",
    "    elif License == 2: # Do not own\n",
    "        return 0\n",
    "    else:\n",
    "        pass"
   ]
  },
  {
   "cell_type": "code",
   "execution_count": 17,
   "id": "a2c58f10",
   "metadata": {
    "execution": {
     "iopub.execute_input": "2022-11-09T08:09:07.048117Z",
     "iopub.status.busy": "2022-11-09T08:09:07.046121Z",
     "iopub.status.idle": "2022-11-09T08:09:07.071053Z",
     "shell.execute_reply": "2022-11-09T08:09:07.067063Z",
     "shell.execute_reply.started": "2022-11-09T08:09:07.048117Z"
    },
    "tags": []
   },
   "outputs": [],
   "source": [
    "def Dummy_Student(School):\n",
    "    if School == 1 or School == 2 or School == 3 or School == 4: # Student\n",
    "        return 1\n",
    "    else:\n",
    "        return 0"
   ]
  },
  {
   "cell_type": "code",
   "execution_count": 18,
   "id": "b8d411a3",
   "metadata": {
    "execution": {
     "iopub.execute_input": "2022-11-09T08:09:07.073059Z",
     "iopub.status.busy": "2022-11-09T08:09:07.072050Z",
     "iopub.status.idle": "2022-11-09T08:09:07.099975Z",
     "shell.execute_reply": "2022-11-09T08:09:07.098977Z",
     "shell.execute_reply.started": "2022-11-09T08:09:07.073059Z"
    },
    "tags": []
   },
   "outputs": [],
   "source": [
    "def Dummy_Job_specialized(Job):\n",
    "    if Job == 1: # Specialized Job\n",
    "        return 1\n",
    "    else:\n",
    "        return 0\n",
    "\n",
    "def Dummy_Job_normal(Job):\n",
    "    if Job == 2 or Job == 3 or Job == 4 or Job == 6: # Retail, Service, Management, Simple Labor\n",
    "        return 1\n",
    "    else:\n",
    "        return 0\n",
    "    \n",
    "def Dummy_Job_home(Job):\n",
    "    if Job == 7: # Homeworker\n",
    "        return 1\n",
    "    else:\n",
    "        return 0"
   ]
  },
  {
   "cell_type": "code",
   "execution_count": 19,
   "id": "32bd029c",
   "metadata": {
    "execution": {
     "iopub.execute_input": "2022-11-09T08:09:07.101970Z",
     "iopub.status.busy": "2022-11-09T08:09:07.101970Z",
     "iopub.status.idle": "2022-11-09T08:09:07.118924Z",
     "shell.execute_reply": "2022-11-09T08:09:07.115933Z",
     "shell.execute_reply.started": "2022-11-09T08:09:07.101970Z"
    },
    "tags": []
   },
   "outputs": [],
   "source": [
    "def Dummy_Workdays_full(Workdays):\n",
    "    if Workdays == 1 or Workdays == 2: # 5~7 days per week\n",
    "        return 1\n",
    "    else:\n",
    "        return 0"
   ]
  },
  {
   "cell_type": "code",
   "execution_count": 20,
   "id": "fdd7ac99",
   "metadata": {
    "execution": {
     "iopub.execute_input": "2022-11-09T08:09:07.121917Z",
     "iopub.status.busy": "2022-11-09T08:09:07.121917Z",
     "iopub.status.idle": "2022-11-09T08:09:07.225641Z",
     "shell.execute_reply": "2022-11-09T08:09:07.224646Z",
     "shell.execute_reply.started": "2022-11-09T08:09:07.121917Z"
    },
    "tags": []
   },
   "outputs": [],
   "source": [
    "def Dummy_Workhours_1(Workhours):\n",
    "    if Workhours == 1: # Full time\n",
    "        return 1\n",
    "    else:\n",
    "        return 0\n",
    "\n",
    "def Dummy_Workhours_2(Workhours):\n",
    "    if Workhours == 2: # part-time(less than 8 hours)\n",
    "        return 1\n",
    "    else:\n",
    "        return 0"
   ]
  },
  {
   "cell_type": "code",
   "execution_count": 21,
   "id": "c8d3e8e3",
   "metadata": {
    "execution": {
     "iopub.execute_input": "2022-11-09T08:09:07.227633Z",
     "iopub.status.busy": "2022-11-09T08:09:07.226636Z",
     "iopub.status.idle": "2022-11-09T08:09:07.241597Z",
     "shell.execute_reply": "2022-11-09T08:09:07.240599Z",
     "shell.execute_reply.started": "2022-11-09T08:09:07.227633Z"
    },
    "tags": []
   },
   "outputs": [],
   "source": [
    "def Dummy_Trip_made(Trip_made):\n",
    "    if Trip_made == 1: # Traveled\n",
    "        return 1\n",
    "    elif Trip_made == 2: # Not Traveled\n",
    "        return 0\n",
    "    else:\n",
    "        pass"
   ]
  },
  {
   "cell_type": "code",
   "execution_count": 22,
   "id": "c0dac11b",
   "metadata": {
    "execution": {
     "iopub.execute_input": "2022-11-09T08:09:07.242593Z",
     "iopub.status.busy": "2022-11-09T08:09:07.241597Z",
     "iopub.status.idle": "2022-11-09T08:09:07.258552Z",
     "shell.execute_reply": "2022-11-09T08:09:07.256556Z",
     "shell.execute_reply.started": "2022-11-09T08:09:07.242593Z"
    },
    "tags": []
   },
   "outputs": [],
   "source": [
    "def Dummy_Trip_d_P_1(Trip_d_P):\n",
    "    if Trip_d_P == 1: # AM\n",
    "        return 1\n",
    "    else:\n",
    "        return 0\n",
    "    \n",
    "def Dummy_Trip_d_P_2(Trip_d_P):\n",
    "    if Trip_d_P == 2: # PM\n",
    "        return 1\n",
    "    else:\n",
    "        return 0\n",
    "    \n",
    "def Dummy_Trip_d_P_3(Trip_d_P):\n",
    "    if Trip_d_P == 3: # AM(following day)\n",
    "        return 1\n",
    "    else:\n",
    "        return 0"
   ]
  },
  {
   "cell_type": "code",
   "execution_count": 23,
   "id": "6de01705",
   "metadata": {
    "execution": {
     "iopub.execute_input": "2022-11-09T08:09:07.259548Z",
     "iopub.status.busy": "2022-11-09T08:09:07.259548Z",
     "iopub.status.idle": "2022-11-09T08:09:07.432094Z",
     "shell.execute_reply": "2022-11-09T08:09:07.431118Z",
     "shell.execute_reply.started": "2022-11-09T08:09:07.259548Z"
    },
    "tags": []
   },
   "outputs": [],
   "source": [
    "df['Old'] = df['Age'].apply(Old)\n",
    "\n",
    "df['Car_ownership'] = df['Ncars'].apply(Dummy_car_ownership)\n",
    "\n",
    "df['HHrel_1'] = df['HHrel'].apply(Dummy_HHrel_1)\n",
    "df['HHrel_2'] = df['HHrel'].apply(Dummy_HHrel_2)\n",
    "df['HHrel_3'] = df['HHrel'].apply(Dummy_HHrel_3)\n",
    "df['HHrel_4'] = df['HHrel'].apply(Dummy_HHrel_4)\n",
    "df['HHrel_5'] = df['HHrel'].apply(Dummy_HHrel_5)\n",
    "\n",
    "df['Gender_DM'] = df['Gender'].apply(Dummy_Gender)\n",
    "df['License_DM'] = df['Licence'].apply(Dummy_License)\n",
    "\n",
    "df['Student'] = df['School'].apply(Dummy_Student)\n",
    "\n",
    "df['Job_Specialized'] = df['Job'].apply(Dummy_Job_specialized)\n",
    "df['Job_Normal'] = df['Job'].apply(Dummy_Job_normal)\n",
    "df['Job_Home'] = df['Job'].apply(Dummy_Job_home)\n",
    "\n",
    "df['Workdays_Full'] = df['Workdays'].apply(Dummy_Workdays_full)\n",
    "\n",
    "df['Workhours_1'] = df['Workhours'].apply(Dummy_Workhours_1)"
   ]
  },
  {
   "cell_type": "code",
   "execution_count": 24,
   "id": "7ac8fe3d",
   "metadata": {
    "execution": {
     "iopub.execute_input": "2022-11-09T08:09:07.432094Z",
     "iopub.status.busy": "2022-11-09T08:09:07.432094Z",
     "iopub.status.idle": "2022-11-09T08:09:07.464003Z",
     "shell.execute_reply": "2022-11-09T08:09:07.462008Z",
     "shell.execute_reply.started": "2022-11-09T08:09:07.432094Z"
    },
    "tags": []
   },
   "outputs": [
    {
     "data": {
      "text/html": [
       "<div>\n",
       "<style scoped>\n",
       "    .dataframe tbody tr th:only-of-type {\n",
       "        vertical-align: middle;\n",
       "    }\n",
       "\n",
       "    .dataframe tbody tr th {\n",
       "        vertical-align: top;\n",
       "    }\n",
       "\n",
       "    .dataframe thead th {\n",
       "        text-align: right;\n",
       "    }\n",
       "</style>\n",
       "<table border=\"1\" class=\"dataframe\">\n",
       "  <thead>\n",
       "    <tr style=\"text-align: right;\">\n",
       "      <th></th>\n",
       "      <th>index</th>\n",
       "      <th>No</th>\n",
       "      <th>HH_ID</th>\n",
       "      <th>HHsize</th>\n",
       "      <th>HHsize5</th>\n",
       "      <th>HHinc</th>\n",
       "      <th>Ncars</th>\n",
       "      <th>P_ID</th>\n",
       "      <th>HHrel</th>\n",
       "      <th>Age</th>\n",
       "      <th>...</th>\n",
       "      <th>HHrel_4</th>\n",
       "      <th>HHrel_5</th>\n",
       "      <th>Gender_DM</th>\n",
       "      <th>License_DM</th>\n",
       "      <th>Student</th>\n",
       "      <th>Job_Specialized</th>\n",
       "      <th>Job_Normal</th>\n",
       "      <th>Job_Home</th>\n",
       "      <th>Workdays_Full</th>\n",
       "      <th>Workhours_1</th>\n",
       "    </tr>\n",
       "  </thead>\n",
       "  <tbody>\n",
       "    <tr>\n",
       "      <th>0</th>\n",
       "      <td>0</td>\n",
       "      <td>1</td>\n",
       "      <td>4889</td>\n",
       "      <td>2</td>\n",
       "      <td>2</td>\n",
       "      <td>4</td>\n",
       "      <td>1</td>\n",
       "      <td>1</td>\n",
       "      <td>1</td>\n",
       "      <td>36</td>\n",
       "      <td>...</td>\n",
       "      <td>0</td>\n",
       "      <td>0</td>\n",
       "      <td>1</td>\n",
       "      <td>1</td>\n",
       "      <td>0</td>\n",
       "      <td>0</td>\n",
       "      <td>1</td>\n",
       "      <td>0</td>\n",
       "      <td>1</td>\n",
       "      <td>1</td>\n",
       "    </tr>\n",
       "    <tr>\n",
       "      <th>1</th>\n",
       "      <td>1</td>\n",
       "      <td>2</td>\n",
       "      <td>4889</td>\n",
       "      <td>2</td>\n",
       "      <td>2</td>\n",
       "      <td>4</td>\n",
       "      <td>1</td>\n",
       "      <td>1</td>\n",
       "      <td>1</td>\n",
       "      <td>36</td>\n",
       "      <td>...</td>\n",
       "      <td>0</td>\n",
       "      <td>0</td>\n",
       "      <td>1</td>\n",
       "      <td>1</td>\n",
       "      <td>0</td>\n",
       "      <td>0</td>\n",
       "      <td>1</td>\n",
       "      <td>0</td>\n",
       "      <td>1</td>\n",
       "      <td>1</td>\n",
       "    </tr>\n",
       "    <tr>\n",
       "      <th>2</th>\n",
       "      <td>2</td>\n",
       "      <td>3</td>\n",
       "      <td>4889</td>\n",
       "      <td>2</td>\n",
       "      <td>2</td>\n",
       "      <td>4</td>\n",
       "      <td>1</td>\n",
       "      <td>2</td>\n",
       "      <td>2</td>\n",
       "      <td>36</td>\n",
       "      <td>...</td>\n",
       "      <td>0</td>\n",
       "      <td>0</td>\n",
       "      <td>0</td>\n",
       "      <td>1</td>\n",
       "      <td>0</td>\n",
       "      <td>0</td>\n",
       "      <td>1</td>\n",
       "      <td>0</td>\n",
       "      <td>1</td>\n",
       "      <td>1</td>\n",
       "    </tr>\n",
       "  </tbody>\n",
       "</table>\n",
       "<p>3 rows × 48 columns</p>\n",
       "</div>"
      ],
      "text/plain": [
       "   index  No  HH_ID  HHsize  HHsize5  HHinc  Ncars  P_ID  HHrel  Age  ...  \\\n",
       "0      0   1   4889       2        2      4      1     1      1   36  ...   \n",
       "1      1   2   4889       2        2      4      1     1      1   36  ...   \n",
       "2      2   3   4889       2        2      4      1     2      2   36  ...   \n",
       "\n",
       "   HHrel_4  HHrel_5  Gender_DM  License_DM  Student  Job_Specialized  \\\n",
       "0        0        0          1           1        0                0   \n",
       "1        0        0          1           1        0                0   \n",
       "2        0        0          0           1        0                0   \n",
       "\n",
       "   Job_Normal  Job_Home  Workdays_Full  Workhours_1  \n",
       "0           1         0              1            1  \n",
       "1           1         0              1            1  \n",
       "2           1         0              1            1  \n",
       "\n",
       "[3 rows x 48 columns]"
      ]
     },
     "execution_count": 24,
     "metadata": {},
     "output_type": "execute_result"
    }
   ],
   "source": [
    "df.head(3)"
   ]
  },
  {
   "cell_type": "code",
   "execution_count": 25,
   "id": "b02a926e",
   "metadata": {
    "execution": {
     "iopub.execute_input": "2022-11-09T08:09:07.468990Z",
     "iopub.status.busy": "2022-11-09T08:09:07.467993Z",
     "iopub.status.idle": "2022-11-09T08:09:07.510877Z",
     "shell.execute_reply": "2022-11-09T08:09:07.509880Z",
     "shell.execute_reply.started": "2022-11-09T08:09:07.468990Z"
    },
    "tags": []
   },
   "outputs": [
    {
     "data": {
      "text/html": [
       "<div>\n",
       "<style scoped>\n",
       "    .dataframe tbody tr th:only-of-type {\n",
       "        vertical-align: middle;\n",
       "    }\n",
       "\n",
       "    .dataframe tbody tr th {\n",
       "        vertical-align: top;\n",
       "    }\n",
       "\n",
       "    .dataframe thead th {\n",
       "        text-align: right;\n",
       "    }\n",
       "</style>\n",
       "<table border=\"1\" class=\"dataframe\">\n",
       "  <thead>\n",
       "    <tr style=\"text-align: right;\">\n",
       "      <th></th>\n",
       "      <th>index</th>\n",
       "      <th>No</th>\n",
       "      <th>HH_ID</th>\n",
       "      <th>HHsize</th>\n",
       "      <th>HHsize5</th>\n",
       "      <th>HHinc</th>\n",
       "      <th>Ncars</th>\n",
       "      <th>P_ID</th>\n",
       "      <th>HHrel</th>\n",
       "      <th>Age</th>\n",
       "      <th>...</th>\n",
       "      <th>HHrel_4</th>\n",
       "      <th>HHrel_5</th>\n",
       "      <th>Gender_DM</th>\n",
       "      <th>License_DM</th>\n",
       "      <th>Student</th>\n",
       "      <th>Job_Specialized</th>\n",
       "      <th>Job_Normal</th>\n",
       "      <th>Job_Home</th>\n",
       "      <th>Workdays_Full</th>\n",
       "      <th>Workhours_1</th>\n",
       "    </tr>\n",
       "  </thead>\n",
       "  <tbody>\n",
       "    <tr>\n",
       "      <th>0</th>\n",
       "      <td>0</td>\n",
       "      <td>1</td>\n",
       "      <td>4889</td>\n",
       "      <td>2</td>\n",
       "      <td>2</td>\n",
       "      <td>4</td>\n",
       "      <td>1</td>\n",
       "      <td>1</td>\n",
       "      <td>1</td>\n",
       "      <td>36</td>\n",
       "      <td>...</td>\n",
       "      <td>0</td>\n",
       "      <td>0</td>\n",
       "      <td>1</td>\n",
       "      <td>1</td>\n",
       "      <td>0</td>\n",
       "      <td>0</td>\n",
       "      <td>1</td>\n",
       "      <td>0</td>\n",
       "      <td>1</td>\n",
       "      <td>1</td>\n",
       "    </tr>\n",
       "    <tr>\n",
       "      <th>1</th>\n",
       "      <td>1</td>\n",
       "      <td>2</td>\n",
       "      <td>4889</td>\n",
       "      <td>2</td>\n",
       "      <td>2</td>\n",
       "      <td>4</td>\n",
       "      <td>1</td>\n",
       "      <td>1</td>\n",
       "      <td>1</td>\n",
       "      <td>36</td>\n",
       "      <td>...</td>\n",
       "      <td>0</td>\n",
       "      <td>0</td>\n",
       "      <td>1</td>\n",
       "      <td>1</td>\n",
       "      <td>0</td>\n",
       "      <td>0</td>\n",
       "      <td>1</td>\n",
       "      <td>0</td>\n",
       "      <td>1</td>\n",
       "      <td>1</td>\n",
       "    </tr>\n",
       "    <tr>\n",
       "      <th>2</th>\n",
       "      <td>2</td>\n",
       "      <td>3</td>\n",
       "      <td>4889</td>\n",
       "      <td>2</td>\n",
       "      <td>2</td>\n",
       "      <td>4</td>\n",
       "      <td>1</td>\n",
       "      <td>2</td>\n",
       "      <td>2</td>\n",
       "      <td>36</td>\n",
       "      <td>...</td>\n",
       "      <td>0</td>\n",
       "      <td>0</td>\n",
       "      <td>0</td>\n",
       "      <td>1</td>\n",
       "      <td>0</td>\n",
       "      <td>0</td>\n",
       "      <td>1</td>\n",
       "      <td>0</td>\n",
       "      <td>1</td>\n",
       "      <td>1</td>\n",
       "    </tr>\n",
       "  </tbody>\n",
       "</table>\n",
       "<p>3 rows × 48 columns</p>\n",
       "</div>"
      ],
      "text/plain": [
       "   index  No  HH_ID  HHsize  HHsize5  HHinc  Ncars  P_ID  HHrel  Age  ...  \\\n",
       "0      0   1   4889       2        2      4      1     1      1   36  ...   \n",
       "1      1   2   4889       2        2      4      1     1      1   36  ...   \n",
       "2      2   3   4889       2        2      4      1     2      2   36  ...   \n",
       "\n",
       "   HHrel_4  HHrel_5  Gender_DM  License_DM  Student  Job_Specialized  \\\n",
       "0        0        0          1           1        0                0   \n",
       "1        0        0          1           1        0                0   \n",
       "2        0        0          0           1        0                0   \n",
       "\n",
       "   Job_Normal  Job_Home  Workdays_Full  Workhours_1  \n",
       "0           1         0              1            1  \n",
       "1           1         0              1            1  \n",
       "2           1         0              1            1  \n",
       "\n",
       "[3 rows x 48 columns]"
      ]
     },
     "execution_count": 25,
     "metadata": {},
     "output_type": "execute_result"
    }
   ],
   "source": [
    "df.head(3)"
   ]
  },
  {
   "cell_type": "markdown",
   "id": "551dbf81",
   "metadata": {},
   "source": [
    "### Trip Purpose"
   ]
  },
  {
   "cell_type": "code",
   "execution_count": 26,
   "id": "34da1111",
   "metadata": {
    "execution": {
     "iopub.execute_input": "2022-11-09T08:09:07.513869Z",
     "iopub.status.busy": "2022-11-09T08:09:07.511874Z",
     "iopub.status.idle": "2022-11-09T08:09:07.531827Z",
     "shell.execute_reply": "2022-11-09T08:09:07.525841Z",
     "shell.execute_reply.started": "2022-11-09T08:09:07.513869Z"
    },
    "tags": []
   },
   "outputs": [],
   "source": [
    "def Trip_purpose(Trip_purpG):\n",
    "    if Trip_purpG == 1:\n",
    "        return 'Work'\n",
    "    \n",
    "    elif Trip_purpG == 2:\n",
    "        return 'Education'\n",
    "    \n",
    "    elif Trip_purpG == 3:\n",
    "        return 'Business'\n",
    "    \n",
    "    elif Trip_purpG == 4:\n",
    "        return 'Shopping/social/leisure'\n",
    "    \n",
    "    elif Trip_purpG == 5:\n",
    "        return 'Back-home'\n",
    "    \n",
    "    elif Trip_purpG == 6:\n",
    "        return 'Other'\n",
    "    \n",
    "    else:\n",
    "        pass"
   ]
  },
  {
   "cell_type": "code",
   "execution_count": 27,
   "id": "283ba14a",
   "metadata": {
    "execution": {
     "iopub.execute_input": "2022-11-09T08:09:07.537805Z",
     "iopub.status.busy": "2022-11-09T08:09:07.537805Z",
     "iopub.status.idle": "2022-11-09T08:09:07.575716Z",
     "shell.execute_reply": "2022-11-09T08:09:07.573713Z",
     "shell.execute_reply.started": "2022-11-09T08:09:07.537805Z"
    },
    "tags": []
   },
   "outputs": [],
   "source": [
    "df['Trip_Purpose'] = df['Trip_purpG'].apply(Trip_purpose)"
   ]
  },
  {
   "cell_type": "markdown",
   "id": "cf1bb150",
   "metadata": {},
   "source": [
    "### Data Filtering"
   ]
  },
  {
   "cell_type": "code",
   "execution_count": 41,
   "id": "b853e027",
   "metadata": {
    "execution": {
     "iopub.execute_input": "2022-11-09T08:12:24.083403Z",
     "iopub.status.busy": "2022-11-09T08:12:24.082399Z",
     "iopub.status.idle": "2022-11-09T08:12:24.102344Z",
     "shell.execute_reply": "2022-11-09T08:12:24.101347Z",
     "shell.execute_reply.started": "2022-11-09T08:12:24.083403Z"
    },
    "tags": []
   },
   "outputs": [],
   "source": [
    "full = df[df['Trip_made'] == 1]"
   ]
  },
  {
   "cell_type": "markdown",
   "id": "836fb2bc",
   "metadata": {},
   "source": [
    "## Decision Tree\n",
    "* forecasting **trip purpose**\n",
    "* Variables:\n",
    "    * Household Information : \n",
    "    * Household Member's Information :\n",
    "    * Trip Information : \n",
    "* Apply F1-Score as the measurement of the performance"
   ]
  },
  {
   "cell_type": "markdown",
   "id": "30fe2360",
   "metadata": {},
   "source": [
    "### Partitioning dataset into training set / test set"
   ]
  },
  {
   "cell_type": "code",
   "execution_count": 52,
   "id": "2d399534-fdbe-4589-8d1c-c3247ae383dd",
   "metadata": {
    "execution": {
     "iopub.execute_input": "2022-11-09T08:14:44.986402Z",
     "iopub.status.busy": "2022-11-09T08:14:44.986402Z",
     "iopub.status.idle": "2022-11-09T08:14:45.000368Z",
     "shell.execute_reply": "2022-11-09T08:14:44.999367Z",
     "shell.execute_reply.started": "2022-11-09T08:14:44.986402Z"
    },
    "tags": []
   },
   "outputs": [
    {
     "data": {
      "text/plain": [
       "Index(['index', 'No', 'HH_ID', 'HHsize', 'HHsize5', 'HHinc', 'Ncars', 'P_ID',\n",
       "       'HHrel', 'Age', 'Gender', 'Licence', 'School', 'Job', 'Workdays',\n",
       "       'Workhours', 'Trip_made', 'Trip_ID', 'Trip_purpG', 'Trip_d_P',\n",
       "       'Trip_d_hh', 'Trip_d_mm', 'Trip_d_D', 'Trip_a_P', 'Trip_a_hh',\n",
       "       'Trip_a_mm', 'Trip_a_D', 'Trip_order', 'Trip_final', 'Trip_start',\n",
       "       'Trip_time', 'Trip_d_hour_24', 'Trip_a_hour_24', 'Old', 'Car_ownership',\n",
       "       'HHrel_1', 'HHrel_2', 'HHrel_3', 'HHrel_4', 'HHrel_5', 'Gender_DM',\n",
       "       'License_DM', 'Student', 'Job_Specialized', 'Job_Normal', 'Job_Home',\n",
       "       'Workdays_Full', 'Workhours_1', 'Trip_Purpose'],\n",
       "      dtype='object')"
      ]
     },
     "execution_count": 52,
     "metadata": {},
     "output_type": "execute_result"
    }
   ],
   "source": [
    "full.columns"
   ]
  },
  {
   "cell_type": "code",
   "execution_count": 53,
   "id": "5e9d6b69-79d6-4da1-9baa-e58472ab5b34",
   "metadata": {
    "execution": {
     "iopub.execute_input": "2022-11-09T08:15:47.845838Z",
     "iopub.status.busy": "2022-11-09T08:15:47.844838Z",
     "iopub.status.idle": "2022-11-09T08:15:47.858801Z",
     "shell.execute_reply": "2022-11-09T08:15:47.856809Z",
     "shell.execute_reply.started": "2022-11-09T08:15:47.845838Z"
    },
    "tags": []
   },
   "outputs": [],
   "source": [
    "feature_names2= [\n",
    "    'Old', # Age >= 65\n",
    "    'Trip_time', # Trip Time\n",
    "    'HHrel_3', # HHrel == Children\n",
    "    'Student', # Student\n",
    "    'Job_Specialized', # Specialized Job\n",
    "    \n",
    "    'Job_Normal', # Retail, Service, Simple Labor, Management \n",
    "    'Job_Home', # Home\n",
    "    'Workdays_Full', # Work More than 5 days \n",
    "    'Workhours_1', # Full time\n",
    "    'Trip_d_hour_24', # Departure Time\n",
    "    'Trip_a_hour_24', # Arrival Time\n",
    "    'Trip_start', # First Trip of a day\n",
    "    'Trip_final', # Last Trip of a da\n",
    "    'Trip_Purpose'\n",
    "]"
   ]
  },
  {
   "cell_type": "code",
   "execution_count": 54,
   "id": "af33ba22-89e4-4b5c-a5d4-36cb8a659ac3",
   "metadata": {
    "execution": {
     "iopub.execute_input": "2022-11-09T08:15:55.454380Z",
     "iopub.status.busy": "2022-11-09T08:15:55.454380Z",
     "iopub.status.idle": "2022-11-09T08:15:55.477318Z",
     "shell.execute_reply": "2022-11-09T08:15:55.475350Z",
     "shell.execute_reply.started": "2022-11-09T08:15:55.454380Z"
    },
    "tags": []
   },
   "outputs": [],
   "source": [
    "full = full[feature_names2]"
   ]
  },
  {
   "cell_type": "code",
   "execution_count": 55,
   "id": "7aba00bc",
   "metadata": {
    "execution": {
     "iopub.execute_input": "2022-11-09T08:15:58.397639Z",
     "iopub.status.busy": "2022-11-09T08:15:58.397639Z",
     "iopub.status.idle": "2022-11-09T08:15:58.406615Z",
     "shell.execute_reply": "2022-11-09T08:15:58.405617Z",
     "shell.execute_reply.started": "2022-11-09T08:15:58.397639Z"
    },
    "tags": []
   },
   "outputs": [],
   "source": [
    "feature_names = [\n",
    "    'Old', # Age >= 65\n",
    "    'Trip_time', # Trip Time\n",
    "    'HHrel_3', # HHrel == Children\n",
    "    'Student', # Student\n",
    "    'Job_Specialized', # Specialized Job\n",
    "    \n",
    "    'Job_Normal', # Retail, Service, Simple Labor, Management \n",
    "    'Job_Home', # Home\n",
    "    'Workdays_Full', # Work More than 5 days \n",
    "    'Workhours_1', # Full time\n",
    "    'Trip_d_hour_24', # Departure Time\n",
    "    'Trip_a_hour_24', # Arrival Time\n",
    "    'Trip_start', # First Trip of a day\n",
    "    'Trip_final' # Last Trip of a da\n",
    "]"
   ]
  },
  {
   "cell_type": "code",
   "execution_count": 56,
   "id": "bef0b654-b555-407a-bf77-a37033a42331",
   "metadata": {
    "execution": {
     "iopub.execute_input": "2022-11-09T08:16:09.654729Z",
     "iopub.status.busy": "2022-11-09T08:16:09.654729Z",
     "iopub.status.idle": "2022-11-09T08:16:09.680619Z",
     "shell.execute_reply": "2022-11-09T08:16:09.679622Z",
     "shell.execute_reply.started": "2022-11-09T08:16:09.654729Z"
    },
    "tags": []
   },
   "outputs": [
    {
     "name": "stderr",
     "output_type": "stream",
     "text": [
      "<ipython-input-56-53a8ed2d1e32>:1: SettingWithCopyWarning: \n",
      "A value is trying to be set on a copy of a slice from a DataFrame\n",
      "\n",
      "See the caveats in the documentation: https://pandas.pydata.org/pandas-docs/stable/user_guide/indexing.html#returning-a-view-versus-a-copy\n",
      "  full.dropna(inplace = True)\n"
     ]
    }
   ],
   "source": [
    "full.dropna(inplace = True)"
   ]
  },
  {
   "cell_type": "code",
   "execution_count": 57,
   "id": "d1e3d62c",
   "metadata": {
    "execution": {
     "iopub.execute_input": "2022-11-09T08:16:13.809865Z",
     "iopub.status.busy": "2022-11-09T08:16:13.809865Z",
     "iopub.status.idle": "2022-11-09T08:16:13.833802Z",
     "shell.execute_reply": "2022-11-09T08:16:13.831808Z",
     "shell.execute_reply.started": "2022-11-09T08:16:13.809865Z"
    },
    "tags": []
   },
   "outputs": [],
   "source": [
    "X = full[feature_names]"
   ]
  },
  {
   "cell_type": "code",
   "execution_count": 58,
   "id": "68804e05",
   "metadata": {
    "execution": {
     "iopub.execute_input": "2022-11-09T08:16:14.673882Z",
     "iopub.status.busy": "2022-11-09T08:16:14.673882Z",
     "iopub.status.idle": "2022-11-09T08:16:14.692804Z",
     "shell.execute_reply": "2022-11-09T08:16:14.691831Z",
     "shell.execute_reply.started": "2022-11-09T08:16:14.673882Z"
    },
    "tags": []
   },
   "outputs": [],
   "source": [
    "y = full['Trip_Purpose']"
   ]
  },
  {
   "cell_type": "code",
   "execution_count": 59,
   "id": "d5bb639a",
   "metadata": {
    "execution": {
     "iopub.execute_input": "2022-11-09T08:16:15.702837Z",
     "iopub.status.busy": "2022-11-09T08:16:15.702837Z",
     "iopub.status.idle": "2022-11-09T08:16:15.753675Z",
     "shell.execute_reply": "2022-11-09T08:16:15.751679Z",
     "shell.execute_reply.started": "2022-11-09T08:16:15.702837Z"
    },
    "tags": []
   },
   "outputs": [],
   "source": [
    "X_train, X_test, y_train, y_test = train_test_split(X, y,\n",
    "                                                   test_size = 0.3,\n",
    "                                                   random_state = 19891124,\n",
    "                                                   stratify = y)"
   ]
  },
  {
   "cell_type": "markdown",
   "id": "1ebbf243",
   "metadata": {},
   "source": [
    "### Constructing Tree"
   ]
  },
  {
   "cell_type": "code",
   "execution_count": 60,
   "id": "fbe9e279",
   "metadata": {
    "execution": {
     "iopub.execute_input": "2022-11-09T08:16:17.948891Z",
     "iopub.status.busy": "2022-11-09T08:16:17.948891Z",
     "iopub.status.idle": "2022-11-09T08:16:17.956852Z",
     "shell.execute_reply": "2022-11-09T08:16:17.955854Z",
     "shell.execute_reply.started": "2022-11-09T08:16:17.948891Z"
    },
    "tags": []
   },
   "outputs": [],
   "source": [
    "DT = tree.DecisionTreeClassifier(criterion = 'gini', max_depth = 7, random_state = 19891124)"
   ]
  },
  {
   "cell_type": "markdown",
   "id": "59b6a416",
   "metadata": {},
   "source": [
    "### Learning"
   ]
  },
  {
   "cell_type": "code",
   "execution_count": 61,
   "id": "e1a2a1e3",
   "metadata": {
    "execution": {
     "iopub.execute_input": "2022-11-09T08:16:19.457260Z",
     "iopub.status.busy": "2022-11-09T08:16:19.457260Z",
     "iopub.status.idle": "2022-11-09T08:16:19.543033Z",
     "shell.execute_reply": "2022-11-09T08:16:19.541037Z",
     "shell.execute_reply.started": "2022-11-09T08:16:19.457260Z"
    },
    "tags": []
   },
   "outputs": [
    {
     "data": {
      "text/plain": [
       "DecisionTreeClassifier(max_depth=7, random_state=19891124)"
      ]
     },
     "execution_count": 61,
     "metadata": {},
     "output_type": "execute_result"
    }
   ],
   "source": [
    "DT.fit(X_train, y_train)"
   ]
  },
  {
   "cell_type": "markdown",
   "id": "162fbbc2-874b-472a-9bd0-afa06baf945e",
   "metadata": {},
   "source": [
    "## Result"
   ]
  },
  {
   "cell_type": "markdown",
   "id": "aa92be48",
   "metadata": {},
   "source": [
    "### Plotting Tree"
   ]
  },
  {
   "cell_type": "code",
   "execution_count": 62,
   "id": "8727b067-7bf8-499e-8596-c764d6f7163d",
   "metadata": {
    "execution": {
     "iopub.execute_input": "2022-11-09T08:16:22.630606Z",
     "iopub.status.busy": "2022-11-09T08:16:22.629609Z",
     "iopub.status.idle": "2022-11-09T08:16:25.498957Z",
     "shell.execute_reply": "2022-11-09T08:16:25.497959Z",
     "shell.execute_reply.started": "2022-11-09T08:16:22.630606Z"
    },
    "tags": []
   },
   "outputs": [
    {
     "data": {
      "text/plain": [
       "True"
      ]
     },
     "execution_count": 62,
     "metadata": {},
     "output_type": "execute_result"
    }
   ],
   "source": [
    "dot_data = export_graphviz(\n",
    "    DT, out_file = None, feature_names = feature_names,\n",
    "    class_names = ['Work', 'Education', 'Business', 'Shopping/social/leisure', 'Back-home', 'Other'],\n",
    "    filled = True, rounded = True,\n",
    "    special_characters = True)\n",
    "\n",
    "graph = graph_from_dot_data(dot_data)\n",
    "graph.write_png('DT.png')"
   ]
  },
  {
   "cell_type": "markdown",
   "id": "7aa36c5f",
   "metadata": {},
   "source": [
    "### Evaluation"
   ]
  },
  {
   "cell_type": "code",
   "execution_count": 63,
   "id": "6b275032",
   "metadata": {
    "execution": {
     "iopub.execute_input": "2022-11-09T08:16:25.499954Z",
     "iopub.status.busy": "2022-11-09T08:16:25.498957Z",
     "iopub.status.idle": "2022-11-09T08:16:25.515911Z",
     "shell.execute_reply": "2022-11-09T08:16:25.513918Z",
     "shell.execute_reply.started": "2022-11-09T08:16:25.499954Z"
    },
    "tags": []
   },
   "outputs": [],
   "source": [
    "y_pred = DT.predict(X_test)"
   ]
  },
  {
   "cell_type": "code",
   "execution_count": 64,
   "id": "8569df2f",
   "metadata": {
    "execution": {
     "iopub.execute_input": "2022-11-09T08:16:25.894822Z",
     "iopub.status.busy": "2022-11-09T08:16:25.894822Z",
     "iopub.status.idle": "2022-11-09T08:16:25.910734Z",
     "shell.execute_reply": "2022-11-09T08:16:25.909736Z",
     "shell.execute_reply.started": "2022-11-09T08:16:25.894822Z"
    },
    "tags": []
   },
   "outputs": [
    {
     "data": {
      "text/plain": [
       "array(['Work', 'Back-home', 'Education', ..., 'Shopping/social/leisure',\n",
       "       'Work', 'Work'], dtype=object)"
      ]
     },
     "execution_count": 64,
     "metadata": {},
     "output_type": "execute_result"
    }
   ],
   "source": [
    "y_pred"
   ]
  },
  {
   "cell_type": "markdown",
   "id": "5c9f1cec",
   "metadata": {},
   "source": [
    "### Confusion Matrix & Measurements"
   ]
  },
  {
   "cell_type": "code",
   "execution_count": 65,
   "id": "2be3af74",
   "metadata": {
    "execution": {
     "iopub.execute_input": "2022-11-09T08:16:28.493167Z",
     "iopub.status.busy": "2022-11-09T08:16:28.493167Z",
     "iopub.status.idle": "2022-11-09T08:16:28.700613Z",
     "shell.execute_reply": "2022-11-09T08:16:28.699615Z",
     "shell.execute_reply.started": "2022-11-09T08:16:28.493167Z"
    },
    "tags": []
   },
   "outputs": [
    {
     "name": "stdout",
     "output_type": "stream",
     "text": [
      "==================== Confusion Matrix ====================\n",
      "[[4618   21    1    2   14    7]\n",
      " [  15  169    0    0   18   25]\n",
      " [ 104    0  759   17    8    1]\n",
      " [  48   23   48  132  309   24]\n",
      " [ 246   28   20   99  607   10]\n",
      " [   6   10    0    3   19 2669]]\n",
      "\n",
      "==================== Classification Report ====================\n",
      "                         precision    recall  f1-score   support\n",
      "\n",
      "              Back-home       0.92      0.99      0.95      4663\n",
      "               Business       0.67      0.74      0.71       227\n",
      "              Education       0.92      0.85      0.88       889\n",
      "                  Other       0.52      0.23      0.32       584\n",
      "Shopping/social/leisure       0.62      0.60      0.61      1010\n",
      "                   Work       0.98      0.99      0.98      2707\n",
      "\n",
      "               accuracy                           0.89     10080\n",
      "              macro avg       0.77      0.73      0.74     10080\n",
      "           weighted avg       0.87      0.89      0.88     10080\n",
      "\n"
     ]
    }
   ],
   "source": [
    "# Confusion matrix & measurements\n",
    "print('==================== Confusion Matrix ====================')\n",
    "print(confusion_matrix(y_test, y_pred))\n",
    "print('')\n",
    "print('==================== Classification Report ====================')\n",
    "print(classification_report(y_test, y_pred))"
   ]
  }
 ],
 "metadata": {
  "kernelspec": {
   "display_name": "Python 3",
   "language": "python",
   "name": "python3"
  },
  "language_info": {
   "codemirror_mode": {
    "name": "ipython",
    "version": 3
   },
   "file_extension": ".py",
   "mimetype": "text/x-python",
   "name": "python",
   "nbconvert_exporter": "python",
   "pygments_lexer": "ipython3",
   "version": "3.8.8"
  },
  "toc-showcode": false
 },
 "nbformat": 4,
 "nbformat_minor": 5
}
