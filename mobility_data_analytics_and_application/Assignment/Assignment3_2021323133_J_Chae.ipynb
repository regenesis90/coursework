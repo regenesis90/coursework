{
 "cells": [
  {
   "cell_type": "markdown",
   "id": "c93e60dd-be07-4e3d-a95c-5158f7907975",
   "metadata": {},
   "source": [
    "# Assignment 3\n",
    "* Please use an example dataset of travel diary data (linked trip) which are uploaded on LearnUS \n",
    "    * Class Files -> Travel diary -> Travel_data_Linked.csv\n",
    "* For detail information of each column, check “Travel_data_Linked_description.xlsx”)"
   ]
  },
  {
   "cell_type": "markdown",
   "id": "787294cb-a4ee-4f26-948a-627dc16a7954",
   "metadata": {},
   "source": [
    "# Set up"
   ]
  },
  {
   "cell_type": "markdown",
   "id": "f97ed537-0523-410d-a465-2f5b53fb0b35",
   "metadata": {},
   "source": [
    "## Import"
   ]
  },
  {
   "cell_type": "code",
   "execution_count": 4,
   "id": "8e84da8e-bfb6-4b2e-b700-3b74fd1b9065",
   "metadata": {
    "execution": {
     "iopub.execute_input": "2022-11-02T01:23:34.888017Z",
     "iopub.status.busy": "2022-11-02T01:23:34.888017Z",
     "iopub.status.idle": "2022-11-02T01:23:41.890191Z",
     "shell.execute_reply": "2022-11-02T01:23:41.890191Z",
     "shell.execute_reply.started": "2022-11-02T01:23:34.888017Z"
    },
    "tags": []
   },
   "outputs": [],
   "source": [
    "import os\n",
    "import pandas as pd\n",
    "import numpy as np\n",
    "import seaborn as sns\n",
    "\n",
    "from sklearn.ensemble import RandomForestClassifier\n",
    "from sklearn.metrics import classification_report, confusion_matrix\n",
    "from sklearn.model_selection import train_test_split\n",
    "from sklearn import tree\n",
    "\n",
    "from pydotplus import graph_from_dot_data\n",
    "from sklearn.tree import export_graphviz"
   ]
  },
  {
   "cell_type": "markdown",
   "id": "d33ed27c-21fd-45ff-8d93-76720d536ac7",
   "metadata": {},
   "source": [
    "## Load Dataset"
   ]
  },
  {
   "cell_type": "code",
   "execution_count": 1,
   "id": "10e90af0-3397-4472-978f-d85c5233d5e1",
   "metadata": {
    "execution": {
     "iopub.execute_input": "2022-11-02T01:23:12.301873Z",
     "iopub.status.busy": "2022-11-02T01:23:12.300899Z",
     "iopub.status.idle": "2022-11-02T01:23:12.318825Z",
     "shell.execute_reply": "2022-11-02T01:23:12.318825Z",
     "shell.execute_reply.started": "2022-11-02T01:23:12.301873Z"
    },
    "tags": []
   },
   "outputs": [],
   "source": [
    "data_dir = 'D:/OneDrive - 연세대학교 (Yonsei University)/Lectures/2022-2_모빌리티데이터분석및활용/dataset'"
   ]
  },
  {
   "cell_type": "code",
   "execution_count": 2,
   "id": "4f0df52d-09d8-4493-a3b5-689940da8815",
   "metadata": {
    "execution": {
     "iopub.execute_input": "2022-11-02T01:23:20.455453Z",
     "iopub.status.busy": "2022-11-02T01:23:20.455453Z",
     "iopub.status.idle": "2022-11-02T01:23:20.464429Z",
     "shell.execute_reply": "2022-11-02T01:23:20.463431Z",
     "shell.execute_reply.started": "2022-11-02T01:23:20.455453Z"
    },
    "tags": []
   },
   "outputs": [],
   "source": [
    "data_file = 'Travel_data_Linked.csv'"
   ]
  },
  {
   "cell_type": "code",
   "execution_count": 6,
   "id": "fad4ac5e-7630-4c51-aac4-16aada7a4a51",
   "metadata": {
    "execution": {
     "iopub.execute_input": "2022-11-02T01:23:47.523366Z",
     "iopub.status.busy": "2022-11-02T01:23:47.523366Z",
     "iopub.status.idle": "2022-11-02T01:23:47.536867Z",
     "shell.execute_reply": "2022-11-02T01:23:47.534339Z",
     "shell.execute_reply.started": "2022-11-02T01:23:47.523366Z"
    },
    "tags": []
   },
   "outputs": [],
   "source": [
    "data_path = os.path.join(data_dir, data_file)"
   ]
  },
  {
   "cell_type": "code",
   "execution_count": 45,
   "id": "6f647403-9147-4069-9563-183bac2ea7ff",
   "metadata": {
    "execution": {
     "iopub.execute_input": "2022-11-02T03:59:27.970855Z",
     "iopub.status.busy": "2022-11-02T03:59:27.970855Z",
     "iopub.status.idle": "2022-11-02T03:59:28.057120Z",
     "shell.execute_reply": "2022-11-02T03:59:28.057120Z",
     "shell.execute_reply.started": "2022-11-02T03:59:27.970855Z"
    },
    "tags": []
   },
   "outputs": [],
   "source": [
    "df = pd.read_csv(data_path)"
   ]
  },
  {
   "cell_type": "code",
   "execution_count": 46,
   "id": "259ad9af-ac61-4a23-9e0a-079657763ec0",
   "metadata": {
    "execution": {
     "iopub.execute_input": "2022-11-02T03:59:29.357414Z",
     "iopub.status.busy": "2022-11-02T03:59:29.356414Z",
     "iopub.status.idle": "2022-11-02T03:59:29.379328Z",
     "shell.execute_reply": "2022-11-02T03:59:29.378359Z",
     "shell.execute_reply.started": "2022-11-02T03:59:29.357414Z"
    },
    "tags": []
   },
   "outputs": [
    {
     "data": {
      "text/html": [
       "<div>\n",
       "<style scoped>\n",
       "    .dataframe tbody tr th:only-of-type {\n",
       "        vertical-align: middle;\n",
       "    }\n",
       "\n",
       "    .dataframe tbody tr th {\n",
       "        vertical-align: top;\n",
       "    }\n",
       "\n",
       "    .dataframe thead th {\n",
       "        text-align: right;\n",
       "    }\n",
       "</style>\n",
       "<table border=\"1\" class=\"dataframe\">\n",
       "  <thead>\n",
       "    <tr style=\"text-align: right;\">\n",
       "      <th></th>\n",
       "      <th>No</th>\n",
       "      <th>HH_ID</th>\n",
       "      <th>HHsize</th>\n",
       "      <th>HHsize5</th>\n",
       "      <th>HHinc</th>\n",
       "      <th>Ncars</th>\n",
       "      <th>P_ID</th>\n",
       "      <th>HHrel</th>\n",
       "      <th>Age</th>\n",
       "      <th>Gender</th>\n",
       "      <th>...</th>\n",
       "      <th>Trip_ID</th>\n",
       "      <th>Trip_purpG</th>\n",
       "      <th>Trip_d_P</th>\n",
       "      <th>Trip_d_hh</th>\n",
       "      <th>Trip_d_mm</th>\n",
       "      <th>Trip_d_D</th>\n",
       "      <th>Trip_a_P</th>\n",
       "      <th>Trip_a_hh</th>\n",
       "      <th>Trip_a_mm</th>\n",
       "      <th>Trip_a_D</th>\n",
       "    </tr>\n",
       "  </thead>\n",
       "  <tbody>\n",
       "    <tr>\n",
       "      <th>0</th>\n",
       "      <td>1</td>\n",
       "      <td>4889</td>\n",
       "      <td>2</td>\n",
       "      <td>2</td>\n",
       "      <td>4</td>\n",
       "      <td>1</td>\n",
       "      <td>1</td>\n",
       "      <td>1</td>\n",
       "      <td>36</td>\n",
       "      <td>1</td>\n",
       "      <td>...</td>\n",
       "      <td>1.0</td>\n",
       "      <td>1.0</td>\n",
       "      <td>1.0</td>\n",
       "      <td>6.0</td>\n",
       "      <td>30.0</td>\n",
       "      <td>1.138060e+09</td>\n",
       "      <td>1.0</td>\n",
       "      <td>7.0</td>\n",
       "      <td>30.0</td>\n",
       "      <td>1.168064e+09</td>\n",
       "    </tr>\n",
       "    <tr>\n",
       "      <th>1</th>\n",
       "      <td>2</td>\n",
       "      <td>4889</td>\n",
       "      <td>2</td>\n",
       "      <td>2</td>\n",
       "      <td>4</td>\n",
       "      <td>1</td>\n",
       "      <td>1</td>\n",
       "      <td>1</td>\n",
       "      <td>36</td>\n",
       "      <td>1</td>\n",
       "      <td>...</td>\n",
       "      <td>2.0</td>\n",
       "      <td>5.0</td>\n",
       "      <td>2.0</td>\n",
       "      <td>9.0</td>\n",
       "      <td>0.0</td>\n",
       "      <td>1.168064e+09</td>\n",
       "      <td>2.0</td>\n",
       "      <td>9.0</td>\n",
       "      <td>40.0</td>\n",
       "      <td>1.138060e+09</td>\n",
       "    </tr>\n",
       "    <tr>\n",
       "      <th>2</th>\n",
       "      <td>3</td>\n",
       "      <td>4889</td>\n",
       "      <td>2</td>\n",
       "      <td>2</td>\n",
       "      <td>4</td>\n",
       "      <td>1</td>\n",
       "      <td>2</td>\n",
       "      <td>2</td>\n",
       "      <td>36</td>\n",
       "      <td>2</td>\n",
       "      <td>...</td>\n",
       "      <td>1.0</td>\n",
       "      <td>1.0</td>\n",
       "      <td>1.0</td>\n",
       "      <td>8.0</td>\n",
       "      <td>0.0</td>\n",
       "      <td>1.138060e+09</td>\n",
       "      <td>1.0</td>\n",
       "      <td>8.0</td>\n",
       "      <td>30.0</td>\n",
       "      <td>1.156055e+09</td>\n",
       "    </tr>\n",
       "  </tbody>\n",
       "</table>\n",
       "<p>3 rows × 26 columns</p>\n",
       "</div>"
      ],
      "text/plain": [
       "   No  HH_ID  HHsize  HHsize5  HHinc  Ncars  P_ID  HHrel  Age  Gender  ...  \\\n",
       "0   1   4889       2        2      4      1     1      1   36       1  ...   \n",
       "1   2   4889       2        2      4      1     1      1   36       1  ...   \n",
       "2   3   4889       2        2      4      1     2      2   36       2  ...   \n",
       "\n",
       "   Trip_ID  Trip_purpG  Trip_d_P  Trip_d_hh  Trip_d_mm      Trip_d_D  \\\n",
       "0      1.0         1.0       1.0        6.0       30.0  1.138060e+09   \n",
       "1      2.0         5.0       2.0        9.0        0.0  1.168064e+09   \n",
       "2      1.0         1.0       1.0        8.0        0.0  1.138060e+09   \n",
       "\n",
       "   Trip_a_P  Trip_a_hh  Trip_a_mm      Trip_a_D  \n",
       "0       1.0        7.0       30.0  1.168064e+09  \n",
       "1       2.0        9.0       40.0  1.138060e+09  \n",
       "2       1.0        8.0       30.0  1.156055e+09  \n",
       "\n",
       "[3 rows x 26 columns]"
      ]
     },
     "execution_count": 46,
     "metadata": {},
     "output_type": "execute_result"
    }
   ],
   "source": [
    "df.head(3)"
   ]
  },
  {
   "cell_type": "markdown",
   "id": "22b2f00c-b61c-439a-a50d-8b347a179e11",
   "metadata": {},
   "source": [
    "# Q1\n",
    "* Develop a decision tree model of forecasting trip purpose by considering the following conditions:\n",
    "    - Use the variables included in the dataset only (Do not use external data)\n",
    "    - Create new variables (i.e. features) using the variables if necessary (e.g., travel time, etc.)\n",
    "    - Apply F1-score as the measurement of the performance\n",
    "*  Submit Jupyter Notebook file of your model and results\n",
    "    - (You don’t need to submit the tree structure, but F1-score should be stated in the results.)"
   ]
  },
  {
   "cell_type": "markdown",
   "id": "5ec0c8b0-19f9-496f-add1-38830ceca1c8",
   "metadata": {},
   "source": [
    "## Create Derived Variable"
   ]
  },
  {
   "cell_type": "markdown",
   "id": "ae3f2e58-fd7b-48b7-b170-83e70d34497f",
   "metadata": {},
   "source": [
    "### Create Dummy Variables"
   ]
  },
  {
   "cell_type": "code",
   "execution_count": 16,
   "id": "34764080-8b9a-438f-9197-f1cac525dbd1",
   "metadata": {
    "execution": {
     "iopub.execute_input": "2022-11-02T01:38:09.369570Z",
     "iopub.status.busy": "2022-11-02T01:38:09.369570Z",
     "iopub.status.idle": "2022-11-02T01:38:09.373010Z",
     "shell.execute_reply": "2022-11-02T01:38:09.373010Z",
     "shell.execute_reply.started": "2022-11-02T01:38:09.369570Z"
    },
    "tags": []
   },
   "outputs": [],
   "source": [
    "def Dummy_car_ownership(Ncars):\n",
    "\n",
    "    if Ncars == 1: # Car own\n",
    "        return 1\n",
    "    elif Ncars == 2: # Do not own\n",
    "        return 0\n",
    "    else:\n",
    "        pass"
   ]
  },
  {
   "cell_type": "code",
   "execution_count": 18,
   "id": "fbc3dd31-3830-4896-a18e-856acc2a04b1",
   "metadata": {
    "execution": {
     "iopub.execute_input": "2022-11-02T01:39:45.831319Z",
     "iopub.status.busy": "2022-11-02T01:39:45.831319Z",
     "iopub.status.idle": "2022-11-02T01:39:45.851236Z",
     "shell.execute_reply": "2022-11-02T01:39:45.850240Z",
     "shell.execute_reply.started": "2022-11-02T01:39:45.831319Z"
    },
    "tags": []
   },
   "outputs": [],
   "source": [
    "def Dummy_HHrel_1(HHrel):\n",
    "    if HHrel == 1: # 'Householder'\n",
    "        return 1\n",
    "    else:\n",
    "        return 0\n",
    "    \n",
    "def Dummy_HHrel_2(HHrel):\n",
    "    if HHrel == 2: # 'Spouse'\n",
    "        return 1\n",
    "    else:\n",
    "        return 0\n",
    "    \n",
    "def Dummy_HHrel_3(HHrel):\n",
    "    if HHrel == 3: # 'Children'\n",
    "        return 1\n",
    "    else:\n",
    "        return 0\n",
    "    \n",
    "def Dummy_HHrel_4(HHrel):\n",
    "    if HHrel == 4: #'Parents'\n",
    "        return 1\n",
    "    else:\n",
    "        return 0\n",
    "    \n",
    "def Dummy_HHrel_5(HHrel):\n",
    "    if HHrel == 5 #'etc.'\n",
    "        return 1\n",
    "    else:\n",
    "        return 0"
   ]
  },
  {
   "cell_type": "code",
   "execution_count": 19,
   "id": "e9395a7a-106c-4128-9bf2-2a91e564c38d",
   "metadata": {
    "execution": {
     "iopub.execute_input": "2022-11-02T01:49:39.650749Z",
     "iopub.status.busy": "2022-11-02T01:49:39.650749Z",
     "iopub.status.idle": "2022-11-02T01:49:39.657728Z",
     "shell.execute_reply": "2022-11-02T01:49:39.656731Z",
     "shell.execute_reply.started": "2022-11-02T01:49:39.650749Z"
    },
    "tags": []
   },
   "outputs": [],
   "source": [
    "def Dummy_Gender(Gender):\n",
    "    if Gender == 1: # Male\n",
    "        return 1\n",
    "    elif Gender == 2: # Female\n",
    "        return 0\n",
    "    else:\n",
    "        pass"
   ]
  },
  {
   "cell_type": "code",
   "execution_count": 20,
   "id": "973866d6-b9cd-454e-a6e1-bc3b2ba74119",
   "metadata": {
    "execution": {
     "iopub.execute_input": "2022-11-02T01:51:30.462799Z",
     "iopub.status.busy": "2022-11-02T01:51:30.462799Z",
     "iopub.status.idle": "2022-11-02T01:51:30.480751Z",
     "shell.execute_reply": "2022-11-02T01:51:30.480751Z",
     "shell.execute_reply.started": "2022-11-02T01:51:30.462799Z"
    },
    "tags": []
   },
   "outputs": [],
   "source": [
    "def Dummy_License(License):\n",
    "\n",
    "    if License == 1: # Own\n",
    "        return 1\n",
    "    elif License == 2: # Do not own\n",
    "        return 0\n",
    "    else:\n",
    "        pass"
   ]
  },
  {
   "cell_type": "code",
   "execution_count": 21,
   "id": "e32daadf-180c-4f66-ba38-4bee042cbd88",
   "metadata": {
    "execution": {
     "iopub.execute_input": "2022-11-02T02:05:15.520491Z",
     "iopub.status.busy": "2022-11-02T02:05:15.520491Z",
     "iopub.status.idle": "2022-11-02T02:05:15.530464Z",
     "shell.execute_reply": "2022-11-02T02:05:15.529466Z",
     "shell.execute_reply.started": "2022-11-02T02:05:15.520491Z"
    },
    "tags": []
   },
   "outputs": [],
   "source": [
    "def Dummy_School_1(School):\n",
    "    if School == 1: #p Preschooler\n",
    "        return 1\n",
    "    else:\n",
    "        return 0\n",
    "\n",
    "def Dummy_School_2(School):\n",
    "    if School == 2: # Elementary School Student\n",
    "        return 1\n",
    "    else:\n",
    "        return 0\n",
    "\n",
    "def Dummy_School_3(School):\n",
    "    if School == 3: # Middle(high) School Student\n",
    "        return 1\n",
    "    else:\n",
    "        return 0\n",
    "\n",
    "def Dummy_School_4(School):\n",
    "    if School == 4: # Undergraduate(Graduate)\n",
    "        return 1\n",
    "    else:\n",
    "        return 0\n",
    "\n",
    "def Dummy_School_5(School):\n",
    "    if School == 5: # Not a Student\n",
    "        return 1\n",
    "    else:\n",
    "        return 0"
   ]
  },
  {
   "cell_type": "code",
   "execution_count": 23,
   "id": "8a203c01-86e0-4cdd-922f-fd0f89ef1397",
   "metadata": {
    "execution": {
     "iopub.execute_input": "2022-11-02T02:08:58.918771Z",
     "iopub.status.busy": "2022-11-02T02:08:58.917774Z",
     "iopub.status.idle": "2022-11-02T02:08:58.936242Z",
     "shell.execute_reply": "2022-11-02T02:08:58.935239Z",
     "shell.execute_reply.started": "2022-11-02T02:08:58.918771Z"
    },
    "tags": []
   },
   "outputs": [],
   "source": [
    "def Dummy_Job_1(Job):\n",
    "    if Job == 1: # Specialized Job\n",
    "        return 1\n",
    "    else:\n",
    "        return 0\n",
    "\n",
    "def Dummy_Job_2(Job):\n",
    "    if Job == 2: # Service\n",
    "        return 1\n",
    "    else:\n",
    "        return 0\n",
    "\n",
    "def Dummy_Job_3(Job):\n",
    "    if Job == 3: # Retail\n",
    "        return 1\n",
    "    else:\n",
    "        return 0\n",
    "\n",
    "def Dummy_Job_4(Job):\n",
    "    if Job == 4: # Management or office\n",
    "        return 1\n",
    "    else:\n",
    "        return 0\n",
    "\n",
    "def Dummy_Job_5(Job):\n",
    "    if Job == 5: # Agriculture\n",
    "        return 1\n",
    "    else:\n",
    "        return 0\n",
    "\n",
    "def Dummy_Job_6(Job):\n",
    "    if Job == 6: # Simple Labor\n",
    "        return 1\n",
    "    else:\n",
    "        return 0\n",
    "\n",
    "def Dummy_Job_7(Job):\n",
    "    if Job == 7: # homemaker\n",
    "        return 1\n",
    "    else:\n",
    "        return 0\n",
    "\n",
    "def Dummy_Job_8(Job):\n",
    "    if Job == 8: # unemployed or student\n",
    "        return 1\n",
    "    else:\n",
    "        return 0\n",
    "\n",
    "def Dummy_Job_9(Job):\n",
    "    if Job == 9: # etc.\n",
    "        return 1\n",
    "    else:\n",
    "        return 0"
   ]
  },
  {
   "cell_type": "code",
   "execution_count": 24,
   "id": "3185ee22-f467-4ab0-9b1d-48f15ba18ed2",
   "metadata": {
    "execution": {
     "iopub.execute_input": "2022-11-02T02:10:20.627945Z",
     "iopub.status.busy": "2022-11-02T02:10:20.627945Z",
     "iopub.status.idle": "2022-11-02T02:10:20.632921Z",
     "shell.execute_reply": "2022-11-02T02:10:20.632921Z",
     "shell.execute_reply.started": "2022-11-02T02:10:20.627945Z"
    },
    "tags": []
   },
   "outputs": [],
   "source": [
    "def Dummy_Workdays_1(Workdays):\n",
    "    if Workdays == 1: # 6~7 day weekly\n",
    "        return 1\n",
    "    else:\n",
    "        return 0\n",
    "\n",
    "def Dummy_Workdays_2(Workdays):\n",
    "    if Workdays == 2: # 5 day weekly\n",
    "        return 1\n",
    "    else:\n",
    "        return 0\n",
    "\n",
    "def Dummy_Workdays_3(Workdays):\n",
    "    if Workdays == 3: # 3~4 days weekly\n",
    "        return 1\n",
    "    else:\n",
    "        return 0\n",
    "\n",
    "def Dummy_Workdays_4(Workdays):\n",
    "    if Workdays == 4: # 1~2 days weekly\n",
    "        return 1\n",
    "    else:\n",
    "        return 0\n",
    "\n",
    "def Dummy_Workdays_5(Workdays):\n",
    "    if Workdays == 5: # etc.\n",
    "        return 1\n",
    "    else:\n",
    "        return 0"
   ]
  },
  {
   "cell_type": "code",
   "execution_count": 25,
   "id": "241abfee-ad1a-4945-a499-df88996c0575",
   "metadata": {
    "execution": {
     "iopub.execute_input": "2022-11-02T02:11:40.667840Z",
     "iopub.status.busy": "2022-11-02T02:11:40.667840Z",
     "iopub.status.idle": "2022-11-02T02:11:40.688301Z",
     "shell.execute_reply": "2022-11-02T02:11:40.687305Z",
     "shell.execute_reply.started": "2022-11-02T02:11:40.667840Z"
    },
    "tags": []
   },
   "outputs": [],
   "source": [
    "def Dummy_Workhours_1(Workhours):\n",
    "    if Workhours == 1: # Full time\n",
    "        return 1\n",
    "    else:\n",
    "        return 0\n",
    "\n",
    "def Dummy_Workhours_2(Workhours):\n",
    "    if Workhours == 2: # part-time(less than 8 hours)\n",
    "        return 1\n",
    "    else:\n",
    "        return 0\n",
    "\n",
    "def Dummy_Workhours_3(Workhours):\n",
    "    if Workhours == 3: # etc(including irregular work)\n",
    "        return 1\n",
    "    else:\n",
    "        return 0"
   ]
  },
  {
   "cell_type": "code",
   "execution_count": 26,
   "id": "789addcf-c10c-40e3-aaf0-9b193ab80b48",
   "metadata": {
    "execution": {
     "iopub.execute_input": "2022-11-02T02:12:28.443589Z",
     "iopub.status.busy": "2022-11-02T02:12:28.443589Z",
     "iopub.status.idle": "2022-11-02T02:12:28.454560Z",
     "shell.execute_reply": "2022-11-02T02:12:28.453563Z",
     "shell.execute_reply.started": "2022-11-02T02:12:28.443589Z"
    },
    "tags": []
   },
   "outputs": [],
   "source": [
    "def Dummy_Trip_made(Trip_made):\n",
    "    if Trip_made == 1: # Traveled\n",
    "        return 1\n",
    "    elif Trip_made == 2: # Not Traveled\n",
    "        return 0\n",
    "    else:\n",
    "        pass"
   ]
  },
  {
   "cell_type": "code",
   "execution_count": 27,
   "id": "f81dc722-e1a9-4c36-b431-761a9faad199",
   "metadata": {
    "execution": {
     "iopub.execute_input": "2022-11-02T02:13:36.444105Z",
     "iopub.status.busy": "2022-11-02T02:13:36.444105Z",
     "iopub.status.idle": "2022-11-02T02:13:36.456074Z",
     "shell.execute_reply": "2022-11-02T02:13:36.455076Z",
     "shell.execute_reply.started": "2022-11-02T02:13:36.444105Z"
    },
    "tags": []
   },
   "outputs": [],
   "source": [
    "def Dummy_Trip_d_P_1(Trip_d_P):\n",
    "    if Trip_d_P == 1: # AM\n",
    "        return 1\n",
    "    else:\n",
    "        return 0\n",
    "    \n",
    "def Dummy_Trip_d_P_2(Trip_d_P):\n",
    "    if Trip_d_P == 2: # PM\n",
    "        return 1\n",
    "    else:\n",
    "        return 0\n",
    "    \n",
    "def Dummy_Trip_d_P_3(Trip_d_P):\n",
    "    if Trip_d_P == 3: # AM(following day)\n",
    "        return 1\n",
    "    else:\n",
    "        return 0"
   ]
  },
  {
   "cell_type": "markdown",
   "id": "3fa9f648-6997-4d49-a9ae-9edeefb11dfc",
   "metadata": {},
   "source": [
    "### Create Trip Time Variable"
   ]
  },
  {
   "cell_type": "code",
   "execution_count": 51,
   "id": "5702da2d-3597-4fa0-953c-ac17a6d4d99b",
   "metadata": {
    "execution": {
     "iopub.execute_input": "2022-11-02T04:01:28.918661Z",
     "iopub.status.busy": "2022-11-02T04:01:28.918661Z",
     "iopub.status.idle": "2022-11-02T04:01:28.922650Z",
     "shell.execute_reply": "2022-11-02T04:01:28.922650Z",
     "shell.execute_reply.started": "2022-11-02T04:01:28.918661Z"
    },
    "tags": []
   },
   "outputs": [],
   "source": [
    "def Trip_time_calculate(Trip_a_P, Trip_a_hh, Trip_a_mm, Trip_d_P, Trip_d_hh, Trip_d_mm):\n",
    "    Trip_d = Trip_d_hh * 60 + Trip_d_mm\n",
    "    Trip_a = Trip_a_hh * 60 + Trip_a_mm\n",
    "    \n",
    "    if Trip_a_P == Trip_d_P: # 둘의 오전, 오후 포함 시간대가 같은 경우\n",
    "        Trip_time = Trip_a - Trip_d\n",
    "        \n",
    "    elif Trip_a_P == 1 and Trip_d_P == 2: #오전 출발, 오후 도착\n",
    "        Trip_time = (Trip_a + 12 * 60) - Trip_d\n",
    "        \n",
    "    elif Trip_a_P == 2 and Trip_d_P == 3: #오후 출발, 다음날 도착\n",
    "        Trip_time = (Trip_a + 24 * 60) - (Trip_d + 12 * 60)\n",
    "        \n",
    "    elif Trip_a_P == 1 and Trip_d_P == 3: #오전 출발, 다음날 도착\n",
    "        Trip_time = (Trip_a + 24 * 60) - Trip_d\n",
    "        \n",
    "    else:\n",
    "        Trip_time = None\n",
    "        \n",
    "    return Trip_time"
   ]
  },
  {
   "cell_type": "code",
   "execution_count": 52,
   "id": "cede16f5-2932-445c-ac54-578f6d563463",
   "metadata": {
    "execution": {
     "iopub.execute_input": "2022-11-02T04:01:29.524735Z",
     "iopub.status.busy": "2022-11-02T04:01:29.524735Z",
     "iopub.status.idle": "2022-11-02T04:01:30.204993Z",
     "shell.execute_reply": "2022-11-02T04:01:30.204993Z",
     "shell.execute_reply.started": "2022-11-02T04:01:29.524735Z"
    },
    "tags": []
   },
   "outputs": [],
   "source": [
    "df['Trip_time'] = df.apply(lambda x : Trip_time_calculate(x['Trip_a_P'], x['Trip_a_hh'], x['Trip_a_mm'], x['Trip_d_P'], x['Trip_d_hh'], x['Trip_d_mm']) , axis = 1 )"
   ]
  },
  {
   "cell_type": "markdown",
   "id": "51830e6b-4eb1-417a-99b1-f5f3095b157c",
   "metadata": {},
   "source": [
    "## Decision Tree\n",
    "* forecasting **trip purpose**\n",
    "* Variables:\n",
    "    * Household Information : \n",
    "    * Household Member's Information :\n",
    "    * Trip Information : \n",
    "* Apply F1-Score as the measurement of the performance"
   ]
  },
  {
   "cell_type": "markdown",
   "id": "22bd6f46-476a-42f6-a1f4-3c82d5a6645f",
   "metadata": {},
   "source": [
    "# Evaluation Criteria\n",
    "* **Absolute Evaluation**\n",
    "* The top 30% students with respect to F1-score will receive 100 points, and the bottom 20% students will receive 70 points.\n",
    "* The others will receive 85 points.\n",
    "* However, the students who fail to develop a tree or apply a wrong method will receive less than 50 points.\n",
    "* Top 3 students with respect to F1-score will present their solutions at the beginning of the lecture."
   ]
  }
 ],
 "metadata": {
  "kernelspec": {
   "display_name": "Python 3",
   "language": "python",
   "name": "python3"
  },
  "language_info": {
   "codemirror_mode": {
    "name": "ipython",
    "version": 3
   },
   "file_extension": ".py",
   "mimetype": "text/x-python",
   "name": "python",
   "nbconvert_exporter": "python",
   "pygments_lexer": "ipython3",
   "version": "3.8.8"
  }
 },
 "nbformat": 4,
 "nbformat_minor": 5
}
