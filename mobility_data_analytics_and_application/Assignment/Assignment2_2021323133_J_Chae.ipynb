{
 "cells": [
  {
   "cell_type": "markdown",
   "id": "30727c61-6720-415c-9cec-4246172df622",
   "metadata": {},
   "source": [
    "# Set up"
   ]
  },
  {
   "cell_type": "markdown",
   "id": "9e1bd736-ec2d-4983-88e8-3974d0b475b7",
   "metadata": {},
   "source": [
    "## Downloads\n",
    "* Please access TLC record data website (https://www1.nyc.gov/site/tlc/about/tlc-trip-record-data.page) and download the following datasets:\n",
    "    * (1) \"Yellow Taxi Trip Records\" January, 2022\n",
    "    * (2) \"Yellow Taxi Trip Records\" June, 2022\n",
    "    * (3) Taxi zone lookup table"
   ]
  },
  {
   "cell_type": "markdown",
   "id": "41c2dc32-e8c9-4c1c-81a4-f62a53e5c210",
   "metadata": {},
   "source": [
    "## Imports"
   ]
  },
  {
   "cell_type": "code",
   "execution_count": 38,
   "id": "3656ee90-9a1c-4b82-b8c7-c2bda64068c3",
   "metadata": {
    "execution": {
     "iopub.execute_input": "2022-10-12T09:34:39.198453Z",
     "iopub.status.busy": "2022-10-12T09:34:39.198453Z",
     "iopub.status.idle": "2022-10-12T09:34:39.217403Z",
     "shell.execute_reply": "2022-10-12T09:34:39.216405Z",
     "shell.execute_reply.started": "2022-10-12T09:34:39.198453Z"
    },
    "tags": []
   },
   "outputs": [],
   "source": [
    "#!pip install pyarrow"
   ]
  },
  {
   "cell_type": "code",
   "execution_count": 39,
   "id": "2c61f80d-4734-49fd-af56-d61633d09282",
   "metadata": {
    "execution": {
     "iopub.execute_input": "2022-10-12T09:34:39.218400Z",
     "iopub.status.busy": "2022-10-12T09:34:39.218400Z",
     "iopub.status.idle": "2022-10-12T09:34:39.233361Z",
     "shell.execute_reply": "2022-10-12T09:34:39.232393Z",
     "shell.execute_reply.started": "2022-10-12T09:34:39.218400Z"
    },
    "tags": []
   },
   "outputs": [],
   "source": [
    "import numpy as np\n",
    "import pandas as pd\n",
    "import os\n",
    "\n",
    "from tqdm import tqdm\n",
    "\n",
    "import matplotlib.pyplot as plt\n",
    "import seaborn as sns"
   ]
  },
  {
   "cell_type": "code",
   "execution_count": 40,
   "id": "753c3723-45c9-41cb-9879-188c649e8e30",
   "metadata": {
    "execution": {
     "iopub.execute_input": "2022-10-12T09:34:39.235363Z",
     "iopub.status.busy": "2022-10-12T09:34:39.234358Z",
     "iopub.status.idle": "2022-10-12T09:34:39.249319Z",
     "shell.execute_reply": "2022-10-12T09:34:39.248320Z",
     "shell.execute_reply.started": "2022-10-12T09:34:39.235363Z"
    },
    "tags": []
   },
   "outputs": [],
   "source": [
    "import pyarrow.parquet as pq # .csv 데이터는 읽는 것보다 쓰는 데 매우 시간이 많이 걸린다. arrow에서는 csv 포맷을 지원하지 않으므로, parquet 타입 파일을 활용해야 한다."
   ]
  },
  {
   "cell_type": "markdown",
   "id": "9e32919c-aef7-42ef-a960-ae5873cc57f2",
   "metadata": {},
   "source": [
    "## Load Dataset"
   ]
  },
  {
   "cell_type": "code",
   "execution_count": 41,
   "id": "7380acc1-9dc6-4158-b594-bfc3b5676571",
   "metadata": {
    "execution": {
     "iopub.execute_input": "2022-10-12T09:34:39.250314Z",
     "iopub.status.busy": "2022-10-12T09:34:39.250314Z",
     "iopub.status.idle": "2022-10-12T09:34:39.265305Z",
     "shell.execute_reply": "2022-10-12T09:34:39.264306Z",
     "shell.execute_reply.started": "2022-10-12T09:34:39.250314Z"
    },
    "tags": []
   },
   "outputs": [],
   "source": [
    "data_dir = 'D:/OneDrive - 연세대학교 (Yonsei University)/Lectures/2022-2_모빌리티데이터분석및활용/dataset/TLC_record'"
   ]
  },
  {
   "cell_type": "code",
   "execution_count": 42,
   "id": "59dc69c8-82f5-40e7-90f7-8e41fea0ea97",
   "metadata": {
    "execution": {
     "iopub.execute_input": "2022-10-12T09:34:39.266272Z",
     "iopub.status.busy": "2022-10-12T09:34:39.266272Z",
     "iopub.status.idle": "2022-10-12T09:34:39.281265Z",
     "shell.execute_reply": "2022-10-12T09:34:39.280296Z",
     "shell.execute_reply.started": "2022-10-12T09:34:39.266272Z"
    },
    "tags": []
   },
   "outputs": [],
   "source": [
    "data_jan = 'yellow_tripdata_2022-01.parquet'\n",
    "data_jun = 'yellow_tripdata_2022-06.parquet'\n",
    "data_zone = 'taxi+_zone_lookup.csv'"
   ]
  },
  {
   "cell_type": "code",
   "execution_count": 43,
   "id": "38d7d0f0-3343-44a6-96c8-7d7a330670b8",
   "metadata": {
    "execution": {
     "iopub.execute_input": "2022-10-12T09:34:39.282261Z",
     "iopub.status.busy": "2022-10-12T09:34:39.282261Z",
     "iopub.status.idle": "2022-10-12T09:34:39.297794Z",
     "shell.execute_reply": "2022-10-12T09:34:39.295798Z",
     "shell.execute_reply.started": "2022-10-12T09:34:39.282261Z"
    },
    "tags": []
   },
   "outputs": [],
   "source": [
    "path_jan = os.path.join(data_dir, data_jan)\n",
    "path_jun = os.path.join(data_dir, data_jun)\n",
    "path_zone = os.path.join(data_dir, data_zone)"
   ]
  },
  {
   "cell_type": "code",
   "execution_count": 44,
   "id": "90ac2d13-cb05-4982-af18-81a0ef8c92cf",
   "metadata": {
    "execution": {
     "iopub.execute_input": "2022-10-12T09:34:39.299790Z",
     "iopub.status.busy": "2022-10-12T09:34:39.298790Z",
     "iopub.status.idle": "2022-10-12T09:34:39.973290Z",
     "shell.execute_reply": "2022-10-12T09:34:39.972260Z",
     "shell.execute_reply.started": "2022-10-12T09:34:39.299790Z"
    },
    "tags": []
   },
   "outputs": [],
   "source": [
    "df_jan = pd.read_parquet(path_jan, engine = 'pyarrow')\n",
    "df_jun = pd.read_parquet(path_jun, engine = 'pyarrow')\n",
    "\n",
    "df_jan.reset_index(inplace = True)\n",
    "df_jun.reset_index(inplace = True)\n",
    "\n",
    "df_jan.rename(columns = {'index': 'Num'}, inplace = True)\n",
    "df_jun.rename(columns = {'index': 'Num'}, inplace = True)"
   ]
  },
  {
   "cell_type": "code",
   "execution_count": 45,
   "id": "a7f8ee53-2e8a-4cd8-bd3d-bcdc78662440",
   "metadata": {
    "execution": {
     "iopub.execute_input": "2022-10-12T09:34:39.974255Z",
     "iopub.status.busy": "2022-10-12T09:34:39.973290Z",
     "iopub.status.idle": "2022-10-12T09:34:40.004684Z",
     "shell.execute_reply": "2022-10-12T09:34:40.003714Z",
     "shell.execute_reply.started": "2022-10-12T09:34:39.974255Z"
    },
    "tags": []
   },
   "outputs": [
    {
     "data": {
      "text/html": [
       "<div>\n",
       "<style scoped>\n",
       "    .dataframe tbody tr th:only-of-type {\n",
       "        vertical-align: middle;\n",
       "    }\n",
       "\n",
       "    .dataframe tbody tr th {\n",
       "        vertical-align: top;\n",
       "    }\n",
       "\n",
       "    .dataframe thead th {\n",
       "        text-align: right;\n",
       "    }\n",
       "</style>\n",
       "<table border=\"1\" class=\"dataframe\">\n",
       "  <thead>\n",
       "    <tr style=\"text-align: right;\">\n",
       "      <th></th>\n",
       "      <th>Num</th>\n",
       "      <th>VendorID</th>\n",
       "      <th>tpep_pickup_datetime</th>\n",
       "      <th>tpep_dropoff_datetime</th>\n",
       "      <th>passenger_count</th>\n",
       "      <th>trip_distance</th>\n",
       "      <th>RatecodeID</th>\n",
       "      <th>store_and_fwd_flag</th>\n",
       "      <th>PULocationID</th>\n",
       "      <th>DOLocationID</th>\n",
       "      <th>payment_type</th>\n",
       "      <th>fare_amount</th>\n",
       "      <th>extra</th>\n",
       "      <th>mta_tax</th>\n",
       "      <th>tip_amount</th>\n",
       "      <th>tolls_amount</th>\n",
       "      <th>improvement_surcharge</th>\n",
       "      <th>total_amount</th>\n",
       "      <th>congestion_surcharge</th>\n",
       "      <th>airport_fee</th>\n",
       "    </tr>\n",
       "  </thead>\n",
       "  <tbody>\n",
       "    <tr>\n",
       "      <th>0</th>\n",
       "      <td>0</td>\n",
       "      <td>1</td>\n",
       "      <td>2022-01-01 00:35:40</td>\n",
       "      <td>2022-01-01 00:53:29</td>\n",
       "      <td>2.0</td>\n",
       "      <td>3.80</td>\n",
       "      <td>1.0</td>\n",
       "      <td>N</td>\n",
       "      <td>142</td>\n",
       "      <td>236</td>\n",
       "      <td>1</td>\n",
       "      <td>14.5</td>\n",
       "      <td>3.0</td>\n",
       "      <td>0.5</td>\n",
       "      <td>3.65</td>\n",
       "      <td>0.0</td>\n",
       "      <td>0.3</td>\n",
       "      <td>21.95</td>\n",
       "      <td>2.5</td>\n",
       "      <td>0.0</td>\n",
       "    </tr>\n",
       "    <tr>\n",
       "      <th>1</th>\n",
       "      <td>1</td>\n",
       "      <td>1</td>\n",
       "      <td>2022-01-01 00:33:43</td>\n",
       "      <td>2022-01-01 00:42:07</td>\n",
       "      <td>1.0</td>\n",
       "      <td>2.10</td>\n",
       "      <td>1.0</td>\n",
       "      <td>N</td>\n",
       "      <td>236</td>\n",
       "      <td>42</td>\n",
       "      <td>1</td>\n",
       "      <td>8.0</td>\n",
       "      <td>0.5</td>\n",
       "      <td>0.5</td>\n",
       "      <td>4.00</td>\n",
       "      <td>0.0</td>\n",
       "      <td>0.3</td>\n",
       "      <td>13.30</td>\n",
       "      <td>0.0</td>\n",
       "      <td>0.0</td>\n",
       "    </tr>\n",
       "    <tr>\n",
       "      <th>2</th>\n",
       "      <td>2</td>\n",
       "      <td>2</td>\n",
       "      <td>2022-01-01 00:53:21</td>\n",
       "      <td>2022-01-01 01:02:19</td>\n",
       "      <td>1.0</td>\n",
       "      <td>0.97</td>\n",
       "      <td>1.0</td>\n",
       "      <td>N</td>\n",
       "      <td>166</td>\n",
       "      <td>166</td>\n",
       "      <td>1</td>\n",
       "      <td>7.5</td>\n",
       "      <td>0.5</td>\n",
       "      <td>0.5</td>\n",
       "      <td>1.76</td>\n",
       "      <td>0.0</td>\n",
       "      <td>0.3</td>\n",
       "      <td>10.56</td>\n",
       "      <td>0.0</td>\n",
       "      <td>0.0</td>\n",
       "    </tr>\n",
       "  </tbody>\n",
       "</table>\n",
       "</div>"
      ],
      "text/plain": [
       "   Num  VendorID tpep_pickup_datetime tpep_dropoff_datetime  passenger_count  \\\n",
       "0    0         1  2022-01-01 00:35:40   2022-01-01 00:53:29              2.0   \n",
       "1    1         1  2022-01-01 00:33:43   2022-01-01 00:42:07              1.0   \n",
       "2    2         2  2022-01-01 00:53:21   2022-01-01 01:02:19              1.0   \n",
       "\n",
       "   trip_distance  RatecodeID store_and_fwd_flag  PULocationID  DOLocationID  \\\n",
       "0           3.80         1.0                  N           142           236   \n",
       "1           2.10         1.0                  N           236            42   \n",
       "2           0.97         1.0                  N           166           166   \n",
       "\n",
       "   payment_type  fare_amount  extra  mta_tax  tip_amount  tolls_amount  \\\n",
       "0             1         14.5    3.0      0.5        3.65           0.0   \n",
       "1             1          8.0    0.5      0.5        4.00           0.0   \n",
       "2             1          7.5    0.5      0.5        1.76           0.0   \n",
       "\n",
       "   improvement_surcharge  total_amount  congestion_surcharge  airport_fee  \n",
       "0                    0.3         21.95                   2.5          0.0  \n",
       "1                    0.3         13.30                   0.0          0.0  \n",
       "2                    0.3         10.56                   0.0          0.0  "
      ]
     },
     "execution_count": 45,
     "metadata": {},
     "output_type": "execute_result"
    }
   ],
   "source": [
    "df_jan.head(3)"
   ]
  },
  {
   "cell_type": "code",
   "execution_count": 46,
   "id": "486f1526-7ed9-47c7-b896-a9e5d54f5bfb",
   "metadata": {
    "execution": {
     "iopub.execute_input": "2022-10-12T09:34:40.006677Z",
     "iopub.status.busy": "2022-10-12T09:34:40.006677Z",
     "iopub.status.idle": "2022-10-12T09:34:40.020640Z",
     "shell.execute_reply": "2022-10-12T09:34:40.019671Z",
     "shell.execute_reply.started": "2022-10-12T09:34:40.006677Z"
    },
    "tags": []
   },
   "outputs": [],
   "source": [
    "df_zone = pd.read_csv(path_zone)"
   ]
  },
  {
   "cell_type": "code",
   "execution_count": 47,
   "id": "47ce75d6-13bf-4287-b527-34f4af54662e",
   "metadata": {
    "execution": {
     "iopub.execute_input": "2022-10-12T09:34:40.023634Z",
     "iopub.status.busy": "2022-10-12T09:34:40.022635Z",
     "iopub.status.idle": "2022-10-12T09:34:40.052557Z",
     "shell.execute_reply": "2022-10-12T09:34:40.050563Z",
     "shell.execute_reply.started": "2022-10-12T09:34:40.022635Z"
    },
    "tags": []
   },
   "outputs": [
    {
     "data": {
      "text/html": [
       "<div>\n",
       "<style scoped>\n",
       "    .dataframe tbody tr th:only-of-type {\n",
       "        vertical-align: middle;\n",
       "    }\n",
       "\n",
       "    .dataframe tbody tr th {\n",
       "        vertical-align: top;\n",
       "    }\n",
       "\n",
       "    .dataframe thead th {\n",
       "        text-align: right;\n",
       "    }\n",
       "</style>\n",
       "<table border=\"1\" class=\"dataframe\">\n",
       "  <thead>\n",
       "    <tr style=\"text-align: right;\">\n",
       "      <th></th>\n",
       "      <th>LocationID</th>\n",
       "      <th>Borough</th>\n",
       "      <th>Zone</th>\n",
       "      <th>service_zone</th>\n",
       "    </tr>\n",
       "  </thead>\n",
       "  <tbody>\n",
       "    <tr>\n",
       "      <th>0</th>\n",
       "      <td>1</td>\n",
       "      <td>EWR</td>\n",
       "      <td>Newark Airport</td>\n",
       "      <td>EWR</td>\n",
       "    </tr>\n",
       "    <tr>\n",
       "      <th>1</th>\n",
       "      <td>2</td>\n",
       "      <td>Queens</td>\n",
       "      <td>Jamaica Bay</td>\n",
       "      <td>Boro Zone</td>\n",
       "    </tr>\n",
       "    <tr>\n",
       "      <th>2</th>\n",
       "      <td>3</td>\n",
       "      <td>Bronx</td>\n",
       "      <td>Allerton/Pelham Gardens</td>\n",
       "      <td>Boro Zone</td>\n",
       "    </tr>\n",
       "  </tbody>\n",
       "</table>\n",
       "</div>"
      ],
      "text/plain": [
       "   LocationID Borough                     Zone service_zone\n",
       "0           1     EWR           Newark Airport          EWR\n",
       "1           2  Queens              Jamaica Bay    Boro Zone\n",
       "2           3   Bronx  Allerton/Pelham Gardens    Boro Zone"
      ]
     },
     "execution_count": 47,
     "metadata": {},
     "output_type": "execute_result"
    }
   ],
   "source": [
    "df_zone.head(3)"
   ]
  },
  {
   "cell_type": "code",
   "execution_count": 48,
   "id": "b3de8910-67af-4711-a9ca-8e530550693b",
   "metadata": {
    "execution": {
     "iopub.execute_input": "2022-10-12T09:34:40.055547Z",
     "iopub.status.busy": "2022-10-12T09:34:40.055547Z",
     "iopub.status.idle": "2022-10-12T09:34:40.068516Z",
     "shell.execute_reply": "2022-10-12T09:34:40.066518Z",
     "shell.execute_reply.started": "2022-10-12T09:34:40.055547Z"
    }
   },
   "outputs": [],
   "source": [
    "color_theme = ['#6f57ef', '#57efbb'] # violet, mint"
   ]
  },
  {
   "cell_type": "markdown",
   "id": "d29fca5a-54d1-45fd-9e89-71276c76f073",
   "metadata": {},
   "source": [
    "# Q1) Find the largest demand of the yellow taxi at New York in January 2022 in terms of:\n",
    "* (1) Pick-up location (i.e. zone)\n",
    "* (2) Drop-off location\n",
    "* (3) Origin-destination (i.e. from a pick-up zone to drop-off zone)"
   ]
  },
  {
   "cell_type": "markdown",
   "id": "fc1ee8e4-0a4e-4d55-a58f-dee0ad9192ff",
   "metadata": {},
   "source": [
    "## Merge Dataframes : Taxi + Zone\n",
    "* Taxi 데이터프레임과 Zone 데이터프레임을 Merge\n",
    "* 기점코드(`PULocationID`), 종점코드(`DOLocationID`)에 대한 정보를 Zone 정보와 통합하여 한 데이터프레임으로 나타냄\n",
    "    * `PULocationID` : TLC Taxi zone in which the taximeter was engaged\n",
    "    * `DOLocationID` : TLC Taxi Zone in which the taximeter was disengaged"
   ]
  },
  {
   "cell_type": "code",
   "execution_count": 49,
   "id": "18cd41fd-17ac-415a-af7b-78d9efbbf053",
   "metadata": {
    "execution": {
     "iopub.execute_input": "2022-10-12T09:34:40.070537Z",
     "iopub.status.busy": "2022-10-12T09:34:40.070537Z",
     "iopub.status.idle": "2022-10-12T09:34:41.137916Z",
     "shell.execute_reply": "2022-10-12T09:34:41.137916Z",
     "shell.execute_reply.started": "2022-10-12T09:34:40.070537Z"
    },
    "tags": []
   },
   "outputs": [],
   "source": [
    "merged_jan = pd.merge(df_jan, df_zone, how = 'left', left_on = 'PULocationID', right_on = 'LocationID')\n",
    "merged_jan.rename(columns = {'Borough': 'PU_Borough', 'Zone': 'PU_Zone', 'service_zone': 'PU_service_zone'}, inplace = True)"
   ]
  },
  {
   "cell_type": "code",
   "execution_count": 50,
   "id": "2caad6dd-3e49-4f55-8c8f-a0bd5aefbdd7",
   "metadata": {
    "execution": {
     "iopub.execute_input": "2022-10-12T09:34:41.138918Z",
     "iopub.status.busy": "2022-10-12T09:34:41.138918Z",
     "iopub.status.idle": "2022-10-12T09:34:41.754562Z",
     "shell.execute_reply": "2022-10-12T09:34:41.754562Z",
     "shell.execute_reply.started": "2022-10-12T09:34:41.138918Z"
    },
    "tags": []
   },
   "outputs": [],
   "source": [
    "merged_jan = pd.merge(merged_jan, df_zone, how = 'left', left_on = 'DOLocationID', right_on = 'LocationID')\n",
    "merged_jan.rename(columns = {'Borough': 'DO_Borough', 'Zone': 'DO_Zone', 'service_zone': 'DO_service_zone'}, inplace = True)"
   ]
  },
  {
   "cell_type": "code",
   "execution_count": 51,
   "id": "0b447512-e6e5-4296-b3ab-d6dd0db6603a",
   "metadata": {
    "execution": {
     "iopub.execute_input": "2022-10-12T09:34:41.754562Z",
     "iopub.status.busy": "2022-10-12T09:34:41.754562Z",
     "iopub.status.idle": "2022-10-12T09:34:42.372139Z",
     "shell.execute_reply": "2022-10-12T09:34:42.372139Z",
     "shell.execute_reply.started": "2022-10-12T09:34:41.754562Z"
    },
    "tags": []
   },
   "outputs": [],
   "source": [
    "merged_jan.drop(['LocationID_x', 'LocationID_y'], axis = 'columns', inplace = True)"
   ]
  },
  {
   "cell_type": "code",
   "execution_count": 52,
   "id": "b3048319-5964-42d9-b639-5e8ba749bb6a",
   "metadata": {
    "execution": {
     "iopub.execute_input": "2022-10-12T09:34:42.372139Z",
     "iopub.status.busy": "2022-10-12T09:34:42.372139Z",
     "iopub.status.idle": "2022-10-12T09:34:42.404569Z",
     "shell.execute_reply": "2022-10-12T09:34:42.403568Z",
     "shell.execute_reply.started": "2022-10-12T09:34:42.372139Z"
    },
    "tags": []
   },
   "outputs": [
    {
     "data": {
      "text/html": [
       "<div>\n",
       "<style scoped>\n",
       "    .dataframe tbody tr th:only-of-type {\n",
       "        vertical-align: middle;\n",
       "    }\n",
       "\n",
       "    .dataframe tbody tr th {\n",
       "        vertical-align: top;\n",
       "    }\n",
       "\n",
       "    .dataframe thead th {\n",
       "        text-align: right;\n",
       "    }\n",
       "</style>\n",
       "<table border=\"1\" class=\"dataframe\">\n",
       "  <thead>\n",
       "    <tr style=\"text-align: right;\">\n",
       "      <th></th>\n",
       "      <th>Num</th>\n",
       "      <th>VendorID</th>\n",
       "      <th>tpep_pickup_datetime</th>\n",
       "      <th>tpep_dropoff_datetime</th>\n",
       "      <th>passenger_count</th>\n",
       "      <th>trip_distance</th>\n",
       "      <th>RatecodeID</th>\n",
       "      <th>store_and_fwd_flag</th>\n",
       "      <th>PULocationID</th>\n",
       "      <th>DOLocationID</th>\n",
       "      <th>...</th>\n",
       "      <th>improvement_surcharge</th>\n",
       "      <th>total_amount</th>\n",
       "      <th>congestion_surcharge</th>\n",
       "      <th>airport_fee</th>\n",
       "      <th>PU_Borough</th>\n",
       "      <th>PU_Zone</th>\n",
       "      <th>PU_service_zone</th>\n",
       "      <th>DO_Borough</th>\n",
       "      <th>DO_Zone</th>\n",
       "      <th>DO_service_zone</th>\n",
       "    </tr>\n",
       "  </thead>\n",
       "  <tbody>\n",
       "    <tr>\n",
       "      <th>0</th>\n",
       "      <td>0</td>\n",
       "      <td>1</td>\n",
       "      <td>2022-01-01 00:35:40</td>\n",
       "      <td>2022-01-01 00:53:29</td>\n",
       "      <td>2.0</td>\n",
       "      <td>3.80</td>\n",
       "      <td>1.0</td>\n",
       "      <td>N</td>\n",
       "      <td>142</td>\n",
       "      <td>236</td>\n",
       "      <td>...</td>\n",
       "      <td>0.3</td>\n",
       "      <td>21.95</td>\n",
       "      <td>2.5</td>\n",
       "      <td>0.0</td>\n",
       "      <td>Manhattan</td>\n",
       "      <td>Lincoln Square East</td>\n",
       "      <td>Yellow Zone</td>\n",
       "      <td>Manhattan</td>\n",
       "      <td>Upper East Side North</td>\n",
       "      <td>Yellow Zone</td>\n",
       "    </tr>\n",
       "    <tr>\n",
       "      <th>1</th>\n",
       "      <td>1</td>\n",
       "      <td>1</td>\n",
       "      <td>2022-01-01 00:33:43</td>\n",
       "      <td>2022-01-01 00:42:07</td>\n",
       "      <td>1.0</td>\n",
       "      <td>2.10</td>\n",
       "      <td>1.0</td>\n",
       "      <td>N</td>\n",
       "      <td>236</td>\n",
       "      <td>42</td>\n",
       "      <td>...</td>\n",
       "      <td>0.3</td>\n",
       "      <td>13.30</td>\n",
       "      <td>0.0</td>\n",
       "      <td>0.0</td>\n",
       "      <td>Manhattan</td>\n",
       "      <td>Upper East Side North</td>\n",
       "      <td>Yellow Zone</td>\n",
       "      <td>Manhattan</td>\n",
       "      <td>Central Harlem North</td>\n",
       "      <td>Boro Zone</td>\n",
       "    </tr>\n",
       "    <tr>\n",
       "      <th>2</th>\n",
       "      <td>2</td>\n",
       "      <td>2</td>\n",
       "      <td>2022-01-01 00:53:21</td>\n",
       "      <td>2022-01-01 01:02:19</td>\n",
       "      <td>1.0</td>\n",
       "      <td>0.97</td>\n",
       "      <td>1.0</td>\n",
       "      <td>N</td>\n",
       "      <td>166</td>\n",
       "      <td>166</td>\n",
       "      <td>...</td>\n",
       "      <td>0.3</td>\n",
       "      <td>10.56</td>\n",
       "      <td>0.0</td>\n",
       "      <td>0.0</td>\n",
       "      <td>Manhattan</td>\n",
       "      <td>Morningside Heights</td>\n",
       "      <td>Boro Zone</td>\n",
       "      <td>Manhattan</td>\n",
       "      <td>Morningside Heights</td>\n",
       "      <td>Boro Zone</td>\n",
       "    </tr>\n",
       "  </tbody>\n",
       "</table>\n",
       "<p>3 rows × 26 columns</p>\n",
       "</div>"
      ],
      "text/plain": [
       "   Num  VendorID tpep_pickup_datetime tpep_dropoff_datetime  passenger_count  \\\n",
       "0    0         1  2022-01-01 00:35:40   2022-01-01 00:53:29              2.0   \n",
       "1    1         1  2022-01-01 00:33:43   2022-01-01 00:42:07              1.0   \n",
       "2    2         2  2022-01-01 00:53:21   2022-01-01 01:02:19              1.0   \n",
       "\n",
       "   trip_distance  RatecodeID store_and_fwd_flag  PULocationID  DOLocationID  \\\n",
       "0           3.80         1.0                  N           142           236   \n",
       "1           2.10         1.0                  N           236            42   \n",
       "2           0.97         1.0                  N           166           166   \n",
       "\n",
       "   ...  improvement_surcharge  total_amount  congestion_surcharge  \\\n",
       "0  ...                    0.3         21.95                   2.5   \n",
       "1  ...                    0.3         13.30                   0.0   \n",
       "2  ...                    0.3         10.56                   0.0   \n",
       "\n",
       "   airport_fee  PU_Borough                PU_Zone  PU_service_zone  \\\n",
       "0          0.0   Manhattan    Lincoln Square East      Yellow Zone   \n",
       "1          0.0   Manhattan  Upper East Side North      Yellow Zone   \n",
       "2          0.0   Manhattan    Morningside Heights        Boro Zone   \n",
       "\n",
       "   DO_Borough                DO_Zone  DO_service_zone  \n",
       "0   Manhattan  Upper East Side North      Yellow Zone  \n",
       "1   Manhattan   Central Harlem North        Boro Zone  \n",
       "2   Manhattan    Morningside Heights        Boro Zone  \n",
       "\n",
       "[3 rows x 26 columns]"
      ]
     },
     "execution_count": 52,
     "metadata": {},
     "output_type": "execute_result"
    }
   ],
   "source": [
    "merged_jan.head(3)"
   ]
  },
  {
   "cell_type": "markdown",
   "id": "6a2d0068-525a-41d3-927b-e141ea77b399",
   "metadata": {},
   "source": [
    "## (1) The largest demand of pick-up location\n",
    "* i.e. zone\n",
    "* pick-up location(탑승 존)을 찾기 위해서 `PU_Zone` 컬럼을 이용"
   ]
  },
  {
   "cell_type": "markdown",
   "id": "e79e9e49-1503-4fd9-9da2-678b23b168e7",
   "metadata": {},
   "source": [
    "### Make pivot table"
   ]
  },
  {
   "cell_type": "code",
   "execution_count": 53,
   "id": "d3996c47-f336-46d1-98c4-3b6e5ea23b2f",
   "metadata": {
    "execution": {
     "iopub.execute_input": "2022-10-12T09:34:42.405559Z",
     "iopub.status.busy": "2022-10-12T09:34:42.405559Z",
     "iopub.status.idle": "2022-10-12T09:34:42.640131Z",
     "shell.execute_reply": "2022-10-12T09:34:42.639129Z",
     "shell.execute_reply.started": "2022-10-12T09:34:42.405559Z"
    },
    "tags": []
   },
   "outputs": [],
   "source": [
    "pv_pickup = pd.pivot_table(merged_jan, index = 'PU_Zone', values = 'Num', aggfunc = 'count')"
   ]
  },
  {
   "cell_type": "code",
   "execution_count": 54,
   "id": "526eec96-a1e2-47cd-9554-6ad9d10499af",
   "metadata": {
    "execution": {
     "iopub.execute_input": "2022-10-12T09:34:42.641127Z",
     "iopub.status.busy": "2022-10-12T09:34:42.641127Z",
     "iopub.status.idle": "2022-10-12T09:34:42.656088Z",
     "shell.execute_reply": "2022-10-12T09:34:42.655091Z",
     "shell.execute_reply.started": "2022-10-12T09:34:42.641127Z"
    },
    "tags": []
   },
   "outputs": [],
   "source": [
    "pv_pickup.sort_values(by = 'Num', ascending = False, inplace = True)"
   ]
  },
  {
   "cell_type": "code",
   "execution_count": 55,
   "id": "a82bda08-85e7-42e5-ab76-cad315b52501",
   "metadata": {
    "execution": {
     "iopub.execute_input": "2022-10-12T09:34:42.658082Z",
     "iopub.status.busy": "2022-10-12T09:34:42.658082Z",
     "iopub.status.idle": "2022-10-12T09:34:42.688009Z",
     "shell.execute_reply": "2022-10-12T09:34:42.687039Z",
     "shell.execute_reply.started": "2022-10-12T09:34:42.658082Z"
    },
    "tags": []
   },
   "outputs": [
    {
     "data": {
      "text/html": [
       "<div>\n",
       "<style scoped>\n",
       "    .dataframe tbody tr th:only-of-type {\n",
       "        vertical-align: middle;\n",
       "    }\n",
       "\n",
       "    .dataframe tbody tr th {\n",
       "        vertical-align: top;\n",
       "    }\n",
       "\n",
       "    .dataframe thead th {\n",
       "        text-align: right;\n",
       "    }\n",
       "</style>\n",
       "<table border=\"1\" class=\"dataframe\">\n",
       "  <thead>\n",
       "    <tr style=\"text-align: right;\">\n",
       "      <th></th>\n",
       "      <th>Num</th>\n",
       "    </tr>\n",
       "    <tr>\n",
       "      <th>PU_Zone</th>\n",
       "      <th></th>\n",
       "    </tr>\n",
       "  </thead>\n",
       "  <tbody>\n",
       "    <tr>\n",
       "      <th>Upper East Side South</th>\n",
       "      <td>121630</td>\n",
       "    </tr>\n",
       "    <tr>\n",
       "      <th>Upper East Side North</th>\n",
       "      <td>120814</td>\n",
       "    </tr>\n",
       "    <tr>\n",
       "      <th>JFK Airport</th>\n",
       "      <td>103485</td>\n",
       "    </tr>\n",
       "    <tr>\n",
       "      <th>Midtown Center</th>\n",
       "      <td>88237</td>\n",
       "    </tr>\n",
       "    <tr>\n",
       "      <th>Penn Station/Madison Sq West</th>\n",
       "      <td>80580</td>\n",
       "    </tr>\n",
       "    <tr>\n",
       "      <th>...</th>\n",
       "      <td>...</td>\n",
       "    </tr>\n",
       "    <tr>\n",
       "      <th>Oakwood</th>\n",
       "      <td>1</td>\n",
       "    </tr>\n",
       "    <tr>\n",
       "      <th>Governor's Island/Ellis Island/Liberty Island</th>\n",
       "      <td>1</td>\n",
       "    </tr>\n",
       "    <tr>\n",
       "      <th>New Dorp/Midland Beach</th>\n",
       "      <td>1</td>\n",
       "    </tr>\n",
       "    <tr>\n",
       "      <th>Breezy Point/Fort Tilden/Riis Beach</th>\n",
       "      <td>1</td>\n",
       "    </tr>\n",
       "    <tr>\n",
       "      <th>Port Richmond</th>\n",
       "      <td>1</td>\n",
       "    </tr>\n",
       "  </tbody>\n",
       "</table>\n",
       "<p>255 rows × 1 columns</p>\n",
       "</div>"
      ],
      "text/plain": [
       "                                                  Num\n",
       "PU_Zone                                              \n",
       "Upper East Side South                          121630\n",
       "Upper East Side North                          120814\n",
       "JFK Airport                                    103485\n",
       "Midtown Center                                  88237\n",
       "Penn Station/Madison Sq West                    80580\n",
       "...                                               ...\n",
       "Oakwood                                             1\n",
       "Governor's Island/Ellis Island/Liberty Island       1\n",
       "New Dorp/Midland Beach                              1\n",
       "Breezy Point/Fort Tilden/Riis Beach                 1\n",
       "Port Richmond                                       1\n",
       "\n",
       "[255 rows x 1 columns]"
      ]
     },
     "execution_count": 55,
     "metadata": {},
     "output_type": "execute_result"
    }
   ],
   "source": [
    "pv_pickup"
   ]
  },
  {
   "cell_type": "markdown",
   "id": "998b86c5-6f93-46a3-8a4f-9001a5950330",
   "metadata": {},
   "source": [
    "### Answer\n",
    "* The largest demand among the pick-up locations is **'Upper East Side South'** Zone.\n",
    "* The number of demand is 121,630."
   ]
  },
  {
   "cell_type": "markdown",
   "id": "dd8ea1c5-2df3-45a3-a391-0ce53e16bde0",
   "metadata": {},
   "source": [
    "## (2) The largest demand of drop-off location"
   ]
  },
  {
   "cell_type": "markdown",
   "id": "6e00e6a3-02fb-416b-ae5e-505576978a46",
   "metadata": {},
   "source": [
    "### Make pivot table"
   ]
  },
  {
   "cell_type": "code",
   "execution_count": 56,
   "id": "b5dce438-7960-4120-b896-79e053a40d91",
   "metadata": {
    "execution": {
     "iopub.execute_input": "2022-10-12T09:34:42.689004Z",
     "iopub.status.busy": "2022-10-12T09:34:42.689004Z",
     "iopub.status.idle": "2022-10-12T09:34:42.864248Z",
     "shell.execute_reply": "2022-10-12T09:34:42.864248Z",
     "shell.execute_reply.started": "2022-10-12T09:34:42.689004Z"
    },
    "tags": []
   },
   "outputs": [],
   "source": [
    "pv_dropoff = pd.pivot_table(merged_jan, index = 'DO_Zone', values = 'Num', aggfunc = 'count')"
   ]
  },
  {
   "cell_type": "code",
   "execution_count": 57,
   "id": "569f4fe3-74d4-46c7-a42b-60e98c891cd1",
   "metadata": {
    "execution": {
     "iopub.execute_input": "2022-10-12T09:34:42.864248Z",
     "iopub.status.busy": "2022-10-12T09:34:42.864248Z",
     "iopub.status.idle": "2022-10-12T09:34:42.881530Z",
     "shell.execute_reply": "2022-10-12T09:34:42.879527Z",
     "shell.execute_reply.started": "2022-10-12T09:34:42.864248Z"
    },
    "tags": []
   },
   "outputs": [],
   "source": [
    "pv_dropoff.sort_values(by = 'Num', ascending = False, inplace = True)"
   ]
  },
  {
   "cell_type": "code",
   "execution_count": 58,
   "id": "0714f027-6399-4239-84c7-10730d0b6ef7",
   "metadata": {
    "execution": {
     "iopub.execute_input": "2022-10-12T09:34:42.883550Z",
     "iopub.status.busy": "2022-10-12T09:34:42.883550Z",
     "iopub.status.idle": "2022-10-12T09:34:42.898028Z",
     "shell.execute_reply": "2022-10-12T09:34:42.895021Z",
     "shell.execute_reply.started": "2022-10-12T09:34:42.883550Z"
    },
    "tags": []
   },
   "outputs": [
    {
     "data": {
      "text/html": [
       "<div>\n",
       "<style scoped>\n",
       "    .dataframe tbody tr th:only-of-type {\n",
       "        vertical-align: middle;\n",
       "    }\n",
       "\n",
       "    .dataframe tbody tr th {\n",
       "        vertical-align: top;\n",
       "    }\n",
       "\n",
       "    .dataframe thead th {\n",
       "        text-align: right;\n",
       "    }\n",
       "</style>\n",
       "<table border=\"1\" class=\"dataframe\">\n",
       "  <thead>\n",
       "    <tr style=\"text-align: right;\">\n",
       "      <th></th>\n",
       "      <th>Num</th>\n",
       "    </tr>\n",
       "    <tr>\n",
       "      <th>DO_Zone</th>\n",
       "      <th></th>\n",
       "    </tr>\n",
       "  </thead>\n",
       "  <tbody>\n",
       "    <tr>\n",
       "      <th>Upper East Side North</th>\n",
       "      <td>123470</td>\n",
       "    </tr>\n",
       "    <tr>\n",
       "      <th>Upper East Side South</th>\n",
       "      <td>106355</td>\n",
       "    </tr>\n",
       "    <tr>\n",
       "      <th>Lenox Hill West</th>\n",
       "      <td>78341</td>\n",
       "    </tr>\n",
       "    <tr>\n",
       "      <th>Upper West Side South</th>\n",
       "      <td>75050</td>\n",
       "    </tr>\n",
       "    <tr>\n",
       "      <th>Midtown Center</th>\n",
       "      <td>74707</td>\n",
       "    </tr>\n",
       "    <tr>\n",
       "      <th>...</th>\n",
       "      <td>...</td>\n",
       "    </tr>\n",
       "    <tr>\n",
       "      <th>Port Richmond</th>\n",
       "      <td>12</td>\n",
       "    </tr>\n",
       "    <tr>\n",
       "      <th>Rossville/Woodrow</th>\n",
       "      <td>9</td>\n",
       "    </tr>\n",
       "    <tr>\n",
       "      <th>Jamaica Bay</th>\n",
       "      <td>5</td>\n",
       "    </tr>\n",
       "    <tr>\n",
       "      <th>Governor's Island/Ellis Island/Liberty Island</th>\n",
       "      <td>2</td>\n",
       "    </tr>\n",
       "    <tr>\n",
       "      <th>Freshkills Park</th>\n",
       "      <td>1</td>\n",
       "    </tr>\n",
       "  </tbody>\n",
       "</table>\n",
       "<p>259 rows × 1 columns</p>\n",
       "</div>"
      ],
      "text/plain": [
       "                                                  Num\n",
       "DO_Zone                                              \n",
       "Upper East Side North                          123470\n",
       "Upper East Side South                          106355\n",
       "Lenox Hill West                                 78341\n",
       "Upper West Side South                           75050\n",
       "Midtown Center                                  74707\n",
       "...                                               ...\n",
       "Port Richmond                                      12\n",
       "Rossville/Woodrow                                   9\n",
       "Jamaica Bay                                         5\n",
       "Governor's Island/Ellis Island/Liberty Island       2\n",
       "Freshkills Park                                     1\n",
       "\n",
       "[259 rows x 1 columns]"
      ]
     },
     "execution_count": 58,
     "metadata": {},
     "output_type": "execute_result"
    }
   ],
   "source": [
    "pv_dropoff"
   ]
  },
  {
   "cell_type": "markdown",
   "id": "ded115c4-cc40-4137-b4bc-d422176547f3",
   "metadata": {},
   "source": [
    "### Answer\n",
    "* The largest demand among the drop-off locations is **'Upper East Side North'** Zone. \n",
    "* The number of demand is 123,470."
   ]
  },
  {
   "cell_type": "markdown",
   "id": "533c9319-120c-401e-abcd-27202da5c579",
   "metadata": {},
   "source": [
    "## (3) The largest demand of Origin-destination\n",
    "* i.e. from a pick-up zone to drop-off zone"
   ]
  },
  {
   "cell_type": "markdown",
   "id": "b9c95aa2-03e5-4acf-9090-c43124cfc3d5",
   "metadata": {},
   "source": [
    "### Make OD column\n",
    "* Origin-destination 컬럼 `OD`생성하기"
   ]
  },
  {
   "cell_type": "code",
   "execution_count": 59,
   "id": "26983a94-f9f5-4c9c-aa5d-ed473a54f36c",
   "metadata": {
    "execution": {
     "iopub.execute_input": "2022-10-12T09:34:42.901015Z",
     "iopub.status.busy": "2022-10-12T09:34:42.900022Z",
     "iopub.status.idle": "2022-10-12T09:34:43.793064Z",
     "shell.execute_reply": "2022-10-12T09:34:43.792059Z",
     "shell.execute_reply.started": "2022-10-12T09:34:42.901015Z"
    },
    "tags": []
   },
   "outputs": [],
   "source": [
    "merged_jan['OD'] = merged_jan['PU_Zone'] + '-' + merged_jan['DO_Zone']"
   ]
  },
  {
   "cell_type": "markdown",
   "id": "9ff9362d-542b-4902-a197-4d8f1c59d249",
   "metadata": {},
   "source": [
    "### Make pivot table"
   ]
  },
  {
   "cell_type": "code",
   "execution_count": 60,
   "id": "31ce82af-6efc-43af-b0e8-c60d190cc06b",
   "metadata": {
    "execution": {
     "iopub.execute_input": "2022-10-12T09:34:43.793064Z",
     "iopub.status.busy": "2022-10-12T09:34:43.793064Z",
     "iopub.status.idle": "2022-10-12T09:34:44.564594Z",
     "shell.execute_reply": "2022-10-12T09:34:44.564594Z",
     "shell.execute_reply.started": "2022-10-12T09:34:43.793064Z"
    },
    "tags": []
   },
   "outputs": [],
   "source": [
    "pv_OD = pd.pivot_table(merged_jan, index = 'OD', values = 'Num', aggfunc = 'count')"
   ]
  },
  {
   "cell_type": "code",
   "execution_count": 61,
   "id": "1b76bc48-6a66-474a-8c70-761dc9c9c8ec",
   "metadata": {
    "execution": {
     "iopub.execute_input": "2022-10-12T09:34:44.564594Z",
     "iopub.status.busy": "2022-10-12T09:34:44.564594Z",
     "iopub.status.idle": "2022-10-12T09:34:44.581099Z",
     "shell.execute_reply": "2022-10-12T09:34:44.580129Z",
     "shell.execute_reply.started": "2022-10-12T09:34:44.564594Z"
    },
    "tags": []
   },
   "outputs": [],
   "source": [
    "pv_OD.sort_values(by = 'Num', ascending = False, inplace = True)"
   ]
  },
  {
   "cell_type": "code",
   "execution_count": 62,
   "id": "2ce75cd2-e040-4291-8ef7-fe13ad41029b",
   "metadata": {
    "execution": {
     "iopub.execute_input": "2022-10-12T09:34:44.582095Z",
     "iopub.status.busy": "2022-10-12T09:34:44.581099Z",
     "iopub.status.idle": "2022-10-12T09:34:44.596158Z",
     "shell.execute_reply": "2022-10-12T09:34:44.596158Z",
     "shell.execute_reply.started": "2022-10-12T09:34:44.582095Z"
    },
    "tags": []
   },
   "outputs": [
    {
     "data": {
      "text/html": [
       "<div>\n",
       "<style scoped>\n",
       "    .dataframe tbody tr th:only-of-type {\n",
       "        vertical-align: middle;\n",
       "    }\n",
       "\n",
       "    .dataframe tbody tr th {\n",
       "        vertical-align: top;\n",
       "    }\n",
       "\n",
       "    .dataframe thead th {\n",
       "        text-align: right;\n",
       "    }\n",
       "</style>\n",
       "<table border=\"1\" class=\"dataframe\">\n",
       "  <thead>\n",
       "    <tr style=\"text-align: right;\">\n",
       "      <th></th>\n",
       "      <th>Num</th>\n",
       "    </tr>\n",
       "    <tr>\n",
       "      <th>OD</th>\n",
       "      <th></th>\n",
       "    </tr>\n",
       "  </thead>\n",
       "  <tbody>\n",
       "    <tr>\n",
       "      <th>Upper East Side South-Upper East Side North</th>\n",
       "      <td>18749</td>\n",
       "    </tr>\n",
       "    <tr>\n",
       "      <th>Upper East Side North-Upper East Side South</th>\n",
       "      <td>16200</td>\n",
       "    </tr>\n",
       "    <tr>\n",
       "      <th>Upper East Side North-Upper East Side North</th>\n",
       "      <td>13871</td>\n",
       "    </tr>\n",
       "    <tr>\n",
       "      <th>Upper East Side South-Upper East Side South</th>\n",
       "      <td>12149</td>\n",
       "    </tr>\n",
       "    <tr>\n",
       "      <th>NV-NV</th>\n",
       "      <td>10811</td>\n",
       "    </tr>\n",
       "    <tr>\n",
       "      <th>...</th>\n",
       "      <td>...</td>\n",
       "    </tr>\n",
       "    <tr>\n",
       "      <th>Co-Op City-Flatlands</th>\n",
       "      <td>1</td>\n",
       "    </tr>\n",
       "    <tr>\n",
       "      <th>Co-Op City-Fordham South</th>\n",
       "      <td>1</td>\n",
       "    </tr>\n",
       "    <tr>\n",
       "      <th>Co-Op City-Fresh Meadows</th>\n",
       "      <td>1</td>\n",
       "    </tr>\n",
       "    <tr>\n",
       "      <th>Co-Op City-Glen Oaks</th>\n",
       "      <td>1</td>\n",
       "    </tr>\n",
       "    <tr>\n",
       "      <th>Old Astoria-Soundview/Castle Hill</th>\n",
       "      <td>1</td>\n",
       "    </tr>\n",
       "  </tbody>\n",
       "</table>\n",
       "<p>21013 rows × 1 columns</p>\n",
       "</div>"
      ],
      "text/plain": [
       "                                               Num\n",
       "OD                                                \n",
       "Upper East Side South-Upper East Side North  18749\n",
       "Upper East Side North-Upper East Side South  16200\n",
       "Upper East Side North-Upper East Side North  13871\n",
       "Upper East Side South-Upper East Side South  12149\n",
       "NV-NV                                        10811\n",
       "...                                            ...\n",
       "Co-Op City-Flatlands                             1\n",
       "Co-Op City-Fordham South                         1\n",
       "Co-Op City-Fresh Meadows                         1\n",
       "Co-Op City-Glen Oaks                             1\n",
       "Old Astoria-Soundview/Castle Hill                1\n",
       "\n",
       "[21013 rows x 1 columns]"
      ]
     },
     "execution_count": 62,
     "metadata": {},
     "output_type": "execute_result"
    }
   ],
   "source": [
    "pv_OD"
   ]
  },
  {
   "cell_type": "markdown",
   "id": "9432a6d2-fbb9-436a-beae-dbdaa690c05d",
   "metadata": {},
   "source": [
    "### Answer\n",
    "* The largest demand of Origin-Destination is **Upper East Side South** zone to **Upper East Side North** zone.\n",
    "* The number of that demand is 18,749."
   ]
  },
  {
   "cell_type": "markdown",
   "id": "e215bec2-7085-4ec1-9e1e-7e41761c22ce",
   "metadata": {},
   "source": [
    "# Q2) Compare the yellow taxi data between January 2022 and June 2022 in terms of:\n",
    "* (1) Total demand (i.e. the number of passengers)\n",
    "* (2) Average trip distance per ride\n",
    "* (3) Distribution of demand across time of day"
   ]
  },
  {
   "cell_type": "markdown",
   "id": "fccb69d8-883c-4841-bb89-3056cf7db198",
   "metadata": {},
   "source": [
    "## (1) Total demand\n",
    "* i.e. the number of passengers\n",
    "* Using `passenger_count` column"
   ]
  },
  {
   "cell_type": "code",
   "execution_count": 63,
   "id": "64b9c5d9-71a3-468b-adf9-c1ce52683f7d",
   "metadata": {
    "execution": {
     "iopub.execute_input": "2022-10-12T09:34:44.598662Z",
     "iopub.status.busy": "2022-10-12T09:34:44.596158Z",
     "iopub.status.idle": "2022-10-12T09:34:44.675613Z",
     "shell.execute_reply": "2022-10-12T09:34:44.674616Z",
     "shell.execute_reply.started": "2022-10-12T09:34:44.598662Z"
    },
    "tags": []
   },
   "outputs": [],
   "source": [
    "total_demand = pd.Series([int(df_jan['passenger_count'].sum()), int(df_jun['passenger_count'].sum())], index = ['January', 'June'])"
   ]
  },
  {
   "cell_type": "code",
   "execution_count": 64,
   "id": "46b2e2c9-31a0-4dbd-80b4-f2b26f043c65",
   "metadata": {
    "execution": {
     "iopub.execute_input": "2022-10-12T09:34:44.677608Z",
     "iopub.status.busy": "2022-10-12T09:34:44.677608Z",
     "iopub.status.idle": "2022-10-12T09:34:44.691584Z",
     "shell.execute_reply": "2022-10-12T09:34:44.690584Z",
     "shell.execute_reply.started": "2022-10-12T09:34:44.677608Z"
    },
    "tags": []
   },
   "outputs": [
    {
     "data": {
      "text/plain": [
       "January    3324167\n",
       "June       4792664\n",
       "dtype: int64"
      ]
     },
     "execution_count": 64,
     "metadata": {},
     "output_type": "execute_result"
    }
   ],
   "source": [
    "total_demand"
   ]
  },
  {
   "cell_type": "code",
   "execution_count": 65,
   "id": "d938479c-7ac0-4033-b838-34eb75c14155",
   "metadata": {
    "execution": {
     "iopub.execute_input": "2022-10-12T09:34:44.693569Z",
     "iopub.status.busy": "2022-10-12T09:34:44.692573Z",
     "iopub.status.idle": "2022-10-12T09:34:44.837720Z",
     "shell.execute_reply": "2022-10-12T09:34:44.836718Z",
     "shell.execute_reply.started": "2022-10-12T09:34:44.693569Z"
    },
    "tags": []
   },
   "outputs": [
    {
     "data": {
      "image/png": "[encoded data removed]",
      "text/plain": [
       "<Figure size 432x288 with 1 Axes>"
      ]
     },
     "metadata": {
      "needs_background": "light"
     },
     "output_type": "display_data"
    }
   ],
   "source": [
    "fig = plt.figure()\n",
    "axis = fig.add_subplot(1, 1, 1)\n",
    "\n",
    "axis.bar( # Draw bar graph\n",
    "    x = total_demand.index, \n",
    "    height = total_demand.values,\n",
    "    color = color_theme,\n",
    "    alpha = 0.8,\n",
    "    edgecolor = color_theme,\n",
    "    linewidth = 3,\n",
    "    width = 0.5\n",
    ")\n",
    "\n",
    "plt.ylim([0, 6000000])\n",
    "\n",
    "for i in range(len(total_demand.index)):\n",
    "    height = total_demand.values[i]\n",
    "    plt.text(total_demand.index[i], height + 0.05, '%.0f' %height, ha = 'center', va = 'bottom', size = 12)\n",
    "\n",
    "# Graph Title and Label Setting\n",
    "plt.suptitle('Total Demand : The Number of Passengers', fontsize = 16, y = 1.07) # 그래프 전체에 대한 Title\n",
    "plt.title('The yellow taxi data between January and June 2022', fontsize = 12, y = 1.07) # 그래프 전체에 대한 Title\n",
    "\n",
    "axis.set_xlabel('Month in 2022')\n",
    "axis.set_ylabel('Number of Passengers')\n",
    "\n",
    "\n",
    "# Show Graph\n",
    "plt.show()"
   ]
  },
  {
   "cell_type": "markdown",
   "id": "ea07fade-5079-423a-afda-b48edeada20a",
   "metadata": {
    "execution": {
     "iopub.execute_input": "2022-10-12T04:44:12.809389Z",
     "iopub.status.busy": "2022-10-12T04:44:12.808390Z",
     "iopub.status.idle": "2022-10-12T04:44:12.818363Z",
     "shell.execute_reply": "2022-10-12T04:44:12.817395Z",
     "shell.execute_reply.started": "2022-10-12T04:44:12.809389Z"
    },
    "tags": []
   },
   "source": [
    "* The number of passengers in january 2022 is 3,324,167.\n",
    "* The number of passengers in june 2022 is 4,792,664.\n",
    "* The demand of june 2022 is larger than january 2022's."
   ]
  },
  {
   "cell_type": "markdown",
   "id": "caab7046-ee5a-4e2a-89c6-72290d0da23a",
   "metadata": {},
   "source": [
    "## (2) Average trip distance per ride"
   ]
  },
  {
   "cell_type": "code",
   "execution_count": 66,
   "id": "a774be95-36f5-4997-8004-c6de6c41288a",
   "metadata": {
    "execution": {
     "iopub.execute_input": "2022-10-12T09:34:44.838712Z",
     "iopub.status.busy": "2022-10-12T09:34:44.837720Z",
     "iopub.status.idle": "2022-10-12T09:34:44.869633Z",
     "shell.execute_reply": "2022-10-12T09:34:44.867641Z",
     "shell.execute_reply.started": "2022-10-12T09:34:44.838712Z"
    },
    "tags": []
   },
   "outputs": [],
   "source": [
    "avg_trip_distance = pd.Series([df_jan['trip_distance'].mean(), df_jun['trip_distance'].mean()], index = ['January', 'June'])"
   ]
  },
  {
   "cell_type": "code",
   "execution_count": 67,
   "id": "11f534ce-d1da-4e71-b301-322c9a47f0bf",
   "metadata": {
    "execution": {
     "iopub.execute_input": "2022-10-12T09:34:44.872625Z",
     "iopub.status.busy": "2022-10-12T09:34:44.872625Z",
     "iopub.status.idle": "2022-10-12T09:34:44.883826Z",
     "shell.execute_reply": "2022-10-12T09:34:44.882830Z",
     "shell.execute_reply.started": "2022-10-12T09:34:44.872625Z"
    },
    "tags": []
   },
   "outputs": [
    {
     "data": {
      "text/plain": [
       "January    5.372751\n",
       "June       5.968216\n",
       "dtype: float64"
      ]
     },
     "execution_count": 67,
     "metadata": {},
     "output_type": "execute_result"
    }
   ],
   "source": [
    "avg_trip_distance"
   ]
  },
  {
   "cell_type": "code",
   "execution_count": 68,
   "id": "7dcd33e6-0835-4fe0-9fcf-abf19cf6cd37",
   "metadata": {
    "execution": {
     "iopub.execute_input": "2022-10-12T09:34:44.887823Z",
     "iopub.status.busy": "2022-10-12T09:34:44.886826Z",
     "iopub.status.idle": "2022-10-12T09:34:45.058512Z",
     "shell.execute_reply": "2022-10-12T09:34:45.057515Z",
     "shell.execute_reply.started": "2022-10-12T09:34:44.887823Z"
    },
    "tags": []
   },
   "outputs": [
    {
     "data": {
      "image/png": "[encoded data removed]",
      "text/plain": [
       "<Figure size 432x288 with 1 Axes>"
      ]
     },
     "metadata": {
      "needs_background": "light"
     },
     "output_type": "display_data"
    }
   ],
   "source": [
    "fig = plt.figure()\n",
    "axis = fig.add_subplot(1, 1, 1)\n",
    "\n",
    "axis.bar( # Draw bar graph\n",
    "    x = avg_trip_distance.index, \n",
    "    height = avg_trip_distance.values,\n",
    "    color = color_theme,\n",
    "    alpha = 0.8,\n",
    "    edgecolor = color_theme,\n",
    "    linewidth = 3,\n",
    "    width = 0.5\n",
    ")\n",
    "\n",
    "plt.ylim([0, 7])\n",
    "\n",
    "for i in range(len(avg_trip_distance.index)):\n",
    "    height = avg_trip_distance.values[i]\n",
    "    plt.text(avg_trip_distance.index[i], height + 0.05, '%.2f' %height, ha = 'center', va = 'bottom', size = 12)\n",
    "\n",
    "# Graph Title and Label Setting\n",
    "plt.suptitle('Average Trip Distance Per Ride', fontsize = 16, y = 1.07) # 그래프 전체에 대한 Title\n",
    "plt.title('The yellow taxi data between January and June 2022', fontsize = 12, y = 1.07) # 그래프 전체에 대한 Title\n",
    "\n",
    "axis.set_xlabel('Month in 2022')\n",
    "axis.set_ylabel('Average trip distance per ride(km)')\n",
    "\n",
    "# Show Graph\n",
    "plt.show()"
   ]
  },
  {
   "cell_type": "markdown",
   "id": "d8b2d74d-238d-4951-8d87-151c9d0fef73",
   "metadata": {},
   "source": [
    "* The average trip distance per ride in january 2022 is about 5.37km.\n",
    "* The average trip distance per ride in january 2022 is about 5.97km.\n",
    "* The average trip distance per ride in june 2022 is 0.6km longer than january 2022's."
   ]
  },
  {
   "cell_type": "markdown",
   "id": "05db07e6-0c31-46c7-af1e-82f6bd2a2eca",
   "metadata": {},
   "source": [
    "## (3) Distributions of demand across time of day"
   ]
  },
  {
   "cell_type": "markdown",
   "id": "18dd7efe-2fea-40b5-83f1-48ae7f2d1bb3",
   "metadata": {},
   "source": [
    "### Parse hour from datetime \n",
    "* `df['A'].dt.hour` : 시(숫자)"
   ]
  },
  {
   "cell_type": "code",
   "execution_count": 69,
   "id": "5b48aa94-9b10-4e2a-a23e-f354bc7333a2",
   "metadata": {
    "execution": {
     "iopub.execute_input": "2022-10-12T09:34:45.059509Z",
     "iopub.status.busy": "2022-10-12T09:34:45.059509Z",
     "iopub.status.idle": "2022-10-12T09:34:45.407884Z",
     "shell.execute_reply": "2022-10-12T09:34:45.406916Z",
     "shell.execute_reply.started": "2022-10-12T09:34:45.059509Z"
    },
    "tags": []
   },
   "outputs": [],
   "source": [
    "df_jan['PU_hour'] = df_jan['tpep_pickup_datetime'].dt.hour\n",
    "df_jun['PU_hour'] = df_jun['tpep_pickup_datetime'].dt.hour"
   ]
  },
  {
   "cell_type": "code",
   "execution_count": 70,
   "id": "8cbc8440-b38a-4257-a207-73fa14685761",
   "metadata": {
    "execution": {
     "iopub.execute_input": "2022-10-12T09:34:45.408881Z",
     "iopub.status.busy": "2022-10-12T09:34:45.407884Z",
     "iopub.status.idle": "2022-10-12T09:34:45.439800Z",
     "shell.execute_reply": "2022-10-12T09:34:45.438799Z",
     "shell.execute_reply.started": "2022-10-12T09:34:45.408881Z"
    },
    "tags": []
   },
   "outputs": [
    {
     "data": {
      "text/html": [
       "<div>\n",
       "<style scoped>\n",
       "    .dataframe tbody tr th:only-of-type {\n",
       "        vertical-align: middle;\n",
       "    }\n",
       "\n",
       "    .dataframe tbody tr th {\n",
       "        vertical-align: top;\n",
       "    }\n",
       "\n",
       "    .dataframe thead th {\n",
       "        text-align: right;\n",
       "    }\n",
       "</style>\n",
       "<table border=\"1\" class=\"dataframe\">\n",
       "  <thead>\n",
       "    <tr style=\"text-align: right;\">\n",
       "      <th></th>\n",
       "      <th>Num</th>\n",
       "      <th>VendorID</th>\n",
       "      <th>tpep_pickup_datetime</th>\n",
       "      <th>tpep_dropoff_datetime</th>\n",
       "      <th>passenger_count</th>\n",
       "      <th>trip_distance</th>\n",
       "      <th>RatecodeID</th>\n",
       "      <th>store_and_fwd_flag</th>\n",
       "      <th>PULocationID</th>\n",
       "      <th>DOLocationID</th>\n",
       "      <th>...</th>\n",
       "      <th>fare_amount</th>\n",
       "      <th>extra</th>\n",
       "      <th>mta_tax</th>\n",
       "      <th>tip_amount</th>\n",
       "      <th>tolls_amount</th>\n",
       "      <th>improvement_surcharge</th>\n",
       "      <th>total_amount</th>\n",
       "      <th>congestion_surcharge</th>\n",
       "      <th>airport_fee</th>\n",
       "      <th>PU_hour</th>\n",
       "    </tr>\n",
       "  </thead>\n",
       "  <tbody>\n",
       "    <tr>\n",
       "      <th>0</th>\n",
       "      <td>0</td>\n",
       "      <td>1</td>\n",
       "      <td>2022-01-01 00:35:40</td>\n",
       "      <td>2022-01-01 00:53:29</td>\n",
       "      <td>2.0</td>\n",
       "      <td>3.80</td>\n",
       "      <td>1.0</td>\n",
       "      <td>N</td>\n",
       "      <td>142</td>\n",
       "      <td>236</td>\n",
       "      <td>...</td>\n",
       "      <td>14.5</td>\n",
       "      <td>3.0</td>\n",
       "      <td>0.5</td>\n",
       "      <td>3.65</td>\n",
       "      <td>0.0</td>\n",
       "      <td>0.3</td>\n",
       "      <td>21.95</td>\n",
       "      <td>2.5</td>\n",
       "      <td>0.0</td>\n",
       "      <td>0</td>\n",
       "    </tr>\n",
       "    <tr>\n",
       "      <th>1</th>\n",
       "      <td>1</td>\n",
       "      <td>1</td>\n",
       "      <td>2022-01-01 00:33:43</td>\n",
       "      <td>2022-01-01 00:42:07</td>\n",
       "      <td>1.0</td>\n",
       "      <td>2.10</td>\n",
       "      <td>1.0</td>\n",
       "      <td>N</td>\n",
       "      <td>236</td>\n",
       "      <td>42</td>\n",
       "      <td>...</td>\n",
       "      <td>8.0</td>\n",
       "      <td>0.5</td>\n",
       "      <td>0.5</td>\n",
       "      <td>4.00</td>\n",
       "      <td>0.0</td>\n",
       "      <td>0.3</td>\n",
       "      <td>13.30</td>\n",
       "      <td>0.0</td>\n",
       "      <td>0.0</td>\n",
       "      <td>0</td>\n",
       "    </tr>\n",
       "    <tr>\n",
       "      <th>2</th>\n",
       "      <td>2</td>\n",
       "      <td>2</td>\n",
       "      <td>2022-01-01 00:53:21</td>\n",
       "      <td>2022-01-01 01:02:19</td>\n",
       "      <td>1.0</td>\n",
       "      <td>0.97</td>\n",
       "      <td>1.0</td>\n",
       "      <td>N</td>\n",
       "      <td>166</td>\n",
       "      <td>166</td>\n",
       "      <td>...</td>\n",
       "      <td>7.5</td>\n",
       "      <td>0.5</td>\n",
       "      <td>0.5</td>\n",
       "      <td>1.76</td>\n",
       "      <td>0.0</td>\n",
       "      <td>0.3</td>\n",
       "      <td>10.56</td>\n",
       "      <td>0.0</td>\n",
       "      <td>0.0</td>\n",
       "      <td>0</td>\n",
       "    </tr>\n",
       "  </tbody>\n",
       "</table>\n",
       "<p>3 rows × 21 columns</p>\n",
       "</div>"
      ],
      "text/plain": [
       "   Num  VendorID tpep_pickup_datetime tpep_dropoff_datetime  passenger_count  \\\n",
       "0    0         1  2022-01-01 00:35:40   2022-01-01 00:53:29              2.0   \n",
       "1    1         1  2022-01-01 00:33:43   2022-01-01 00:42:07              1.0   \n",
       "2    2         2  2022-01-01 00:53:21   2022-01-01 01:02:19              1.0   \n",
       "\n",
       "   trip_distance  RatecodeID store_and_fwd_flag  PULocationID  DOLocationID  \\\n",
       "0           3.80         1.0                  N           142           236   \n",
       "1           2.10         1.0                  N           236            42   \n",
       "2           0.97         1.0                  N           166           166   \n",
       "\n",
       "   ...  fare_amount  extra  mta_tax  tip_amount  tolls_amount  \\\n",
       "0  ...         14.5    3.0      0.5        3.65           0.0   \n",
       "1  ...          8.0    0.5      0.5        4.00           0.0   \n",
       "2  ...          7.5    0.5      0.5        1.76           0.0   \n",
       "\n",
       "   improvement_surcharge  total_amount  congestion_surcharge  airport_fee  \\\n",
       "0                    0.3         21.95                   2.5          0.0   \n",
       "1                    0.3         13.30                   0.0          0.0   \n",
       "2                    0.3         10.56                   0.0          0.0   \n",
       "\n",
       "   PU_hour  \n",
       "0        0  \n",
       "1        0  \n",
       "2        0  \n",
       "\n",
       "[3 rows x 21 columns]"
      ]
     },
     "execution_count": 70,
     "metadata": {},
     "output_type": "execute_result"
    }
   ],
   "source": [
    "df_jan.head(3)"
   ]
  },
  {
   "cell_type": "markdown",
   "id": "178416b4-a19c-42e6-807a-73af3d931119",
   "metadata": {},
   "source": [
    "### Draw distributions of demand across time of day"
   ]
  },
  {
   "cell_type": "code",
   "execution_count": 71,
   "id": "49bb2057-53fa-4741-bf99-e59739d13f79",
   "metadata": {
    "execution": {
     "iopub.execute_input": "2022-10-12T09:34:45.440644Z",
     "iopub.status.busy": "2022-10-12T09:34:45.440644Z",
     "iopub.status.idle": "2022-10-12T09:34:58.963812Z",
     "shell.execute_reply": "2022-10-12T09:34:58.962780Z",
     "shell.execute_reply.started": "2022-10-12T09:34:45.440644Z"
    },
    "tags": []
   },
   "outputs": [
    {
     "name": "stderr",
     "output_type": "stream",
     "text": [
      "C:\\dev\\Anaconda_3\\lib\\site-packages\\seaborn\\distributions.py:2557: FutureWarning: `distplot` is a deprecated function and will be removed in a future version. Please adapt your code to use either `displot` (a figure-level function with similar flexibility) or `histplot` (an axes-level function for histograms).\n",
      "  warnings.warn(msg, FutureWarning)\n",
      "C:\\dev\\Anaconda_3\\lib\\site-packages\\seaborn\\distributions.py:2557: FutureWarning: `distplot` is a deprecated function and will be removed in a future version. Please adapt your code to use either `displot` (a figure-level function with similar flexibility) or `histplot` (an axes-level function for histograms).\n",
      "  warnings.warn(msg, FutureWarning)\n"
     ]
    },
    {
     "data": {
      "image/png": "[encoded data removed]",
      "text/plain": [
       "<Figure size 360x360 with 1 Axes>"
      ]
     },
     "metadata": {
      "needs_background": "light"
     },
     "output_type": "display_data"
    }
   ],
   "source": [
    "# Drawing Density Plot\n",
    "fig, ax = plt.subplots(figsize = (5 , 5))\n",
    "\n",
    "sns.distplot(df_jan['PU_hour'], bins = 24, color = color_theme[0], kde_kws = {'bw_method' : 1})\n",
    "sns.distplot(df_jun['PU_hour'], bins = 24, color = color_theme[1], kde_kws = {'bw_method' : 1})\n",
    "\n",
    "plt.xlim([0, 24])\n",
    "\n",
    "# Graph Title and Label Setting\n",
    "plt.suptitle('The Distribution of the Demand across Time of Day', fontsize = 16, y = 1) # 그래프 전체에 대한 Title\n",
    "plt.title('The yellow taxi data between January and June 2022', fontsize = 12, y = 1.02) # 그래프 전체에 대한 Title\n",
    "\n",
    "ax.set_xlabel('Time of Day')\n",
    "ax.set_ylabel('Density')\n",
    "\n",
    "# Add legend\n",
    "plt.legend(labels = ['January', 'June'])\n",
    "\n",
    "# Show Graph\n",
    "plt.show()"
   ]
  },
  {
   "cell_type": "markdown",
   "id": "7b968b80-f355-4c1a-a4d3-7ef034548f4d",
   "metadata": {},
   "source": [
    "* January's distribution of the demand across time of day is different from june's.\n",
    "* The distribution of january have peak point at 14 ~ 15 O'clock.\n",
    "* But the distribution of june have peak point at 15 ~ 16 O'clock."
   ]
  }
 ],
 "metadata": {
  "kernelspec": {
   "display_name": "Python 3",
   "language": "python",
   "name": "python3"
  },
  "language_info": {
   "codemirror_mode": {
    "name": "ipython",
    "version": 3
   },
   "file_extension": ".py",
   "mimetype": "text/x-python",
   "name": "python",
   "nbconvert_exporter": "python",
   "pygments_lexer": "ipython3",
   "version": "3.8.8"
  }
 },
 "nbformat": 4,
 "nbformat_minor": 5
}
