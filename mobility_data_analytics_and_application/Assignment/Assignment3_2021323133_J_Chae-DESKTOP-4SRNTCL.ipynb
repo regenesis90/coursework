{
 "cells": [
  {
   "cell_type": "markdown",
   "metadata": {},
   "source": [
    "# Assignment 3\n",
    "* Please use an example dataset of travel diary data (linked trip) which are uploaded on LearnUS \n",
    "    * Class Files -> Travel diary -> Travel_data_Linked.csv\n",
    "* For detail information of each column, check “Travel_data_Linked_description.xlsx”)"
   ]
  },
  {
   "cell_type": "markdown",
   "metadata": {},
   "source": [
    "# Set up"
   ]
  },
  {
   "cell_type": "markdown",
   "metadata": {},
   "source": [
    "## Import"
   ]
  },
  {
   "cell_type": "code",
   "execution_count": 1,
   "metadata": {
    "execution": {
     "iopub.execute_input": "2022-11-04T15:58:41.700209Z",
     "iopub.status.busy": "2022-11-04T15:58:41.698924Z",
     "iopub.status.idle": "2022-11-04T15:58:50.019810Z",
     "shell.execute_reply": "2022-11-04T15:58:50.016818Z",
     "shell.execute_reply.started": "2022-11-04T15:58:41.700209Z"
    },
    "tags": []
   },
   "outputs": [],
   "source": [
    "import os\n",
    "import pandas as pd\n",
    "import numpy as np\n",
    "import seaborn as sns\n",
    "\n",
    "from tqdm import tqdm\n",
    "\n",
    "from sklearn.ensemble import RandomForestClassifier\n",
    "from sklearn.metrics import classification_report, confusion_matrix\n",
    "from sklearn.model_selection import train_test_split\n",
    "from sklearn import tree\n",
    "\n",
    "from pydotplus import graph_from_dot_data\n",
    "from sklearn.tree import export_graphviz"
   ]
  },
  {
   "cell_type": "markdown",
   "metadata": {},
   "source": [
    "## Load Dataset"
   ]
  },
  {
   "cell_type": "code",
   "execution_count": 2,
   "metadata": {
    "execution": {
     "iopub.execute_input": "2022-11-04T15:58:50.023557Z",
     "iopub.status.busy": "2022-11-04T15:58:50.022561Z",
     "iopub.status.idle": "2022-11-04T15:58:50.038100Z",
     "shell.execute_reply": "2022-11-04T15:58:50.032705Z",
     "shell.execute_reply.started": "2022-11-04T15:58:50.023557Z"
    },
    "tags": []
   },
   "outputs": [],
   "source": [
    "data_dir = 'D:/OneDrive - 연세대학교 (Yonsei University)/Lectures/2022-2_모빌리티데이터분석및활용/dataset'"
   ]
  },
  {
   "cell_type": "code",
   "execution_count": 3,
   "metadata": {
    "execution": {
     "iopub.execute_input": "2022-11-04T15:58:50.046603Z",
     "iopub.status.busy": "2022-11-04T15:58:50.045605Z",
     "iopub.status.idle": "2022-11-04T15:58:50.067883Z",
     "shell.execute_reply": "2022-11-04T15:58:50.063573Z",
     "shell.execute_reply.started": "2022-11-04T15:58:50.046603Z"
    },
    "tags": []
   },
   "outputs": [],
   "source": [
    "data_file = 'Travel_data_Linked.csv'"
   ]
  },
  {
   "cell_type": "code",
   "execution_count": 4,
   "metadata": {
    "execution": {
     "iopub.execute_input": "2022-11-04T15:58:50.075677Z",
     "iopub.status.busy": "2022-11-04T15:58:50.072679Z",
     "iopub.status.idle": "2022-11-04T15:58:50.096398Z",
     "shell.execute_reply": "2022-11-04T15:58:50.093924Z",
     "shell.execute_reply.started": "2022-11-04T15:58:50.075677Z"
    },
    "tags": []
   },
   "outputs": [],
   "source": [
    "data_path = os.path.join(data_dir, data_file)"
   ]
  },
  {
   "cell_type": "code",
   "execution_count": 5,
   "metadata": {
    "execution": {
     "iopub.execute_input": "2022-11-04T15:58:50.099723Z",
     "iopub.status.busy": "2022-11-04T15:58:50.098651Z",
     "iopub.status.idle": "2022-11-04T15:58:50.328511Z",
     "shell.execute_reply": "2022-11-04T15:58:50.326160Z",
     "shell.execute_reply.started": "2022-11-04T15:58:50.099723Z"
    },
    "tags": []
   },
   "outputs": [],
   "source": [
    "df = pd.read_csv(data_path)"
   ]
  },
  {
   "cell_type": "code",
   "execution_count": 6,
   "metadata": {
    "execution": {
     "iopub.execute_input": "2022-11-04T15:58:50.332174Z",
     "iopub.status.busy": "2022-11-04T15:58:50.331001Z",
     "iopub.status.idle": "2022-11-04T15:58:50.437716Z",
     "shell.execute_reply": "2022-11-04T15:58:50.435192Z",
     "shell.execute_reply.started": "2022-11-04T15:58:50.332174Z"
    },
    "tags": []
   },
   "outputs": [
    {
     "data": {
      "text/html": [
       "<div>\n",
       "<style scoped>\n",
       "    .dataframe tbody tr th:only-of-type {\n",
       "        vertical-align: middle;\n",
       "    }\n",
       "\n",
       "    .dataframe tbody tr th {\n",
       "        vertical-align: top;\n",
       "    }\n",
       "\n",
       "    .dataframe thead th {\n",
       "        text-align: right;\n",
       "    }\n",
       "</style>\n",
       "<table border=\"1\" class=\"dataframe\">\n",
       "  <thead>\n",
       "    <tr style=\"text-align: right;\">\n",
       "      <th></th>\n",
       "      <th>No</th>\n",
       "      <th>HH_ID</th>\n",
       "      <th>HHsize</th>\n",
       "      <th>HHsize5</th>\n",
       "      <th>HHinc</th>\n",
       "      <th>Ncars</th>\n",
       "      <th>P_ID</th>\n",
       "      <th>HHrel</th>\n",
       "      <th>Age</th>\n",
       "      <th>Gender</th>\n",
       "      <th>...</th>\n",
       "      <th>Trip_ID</th>\n",
       "      <th>Trip_purpG</th>\n",
       "      <th>Trip_d_P</th>\n",
       "      <th>Trip_d_hh</th>\n",
       "      <th>Trip_d_mm</th>\n",
       "      <th>Trip_d_D</th>\n",
       "      <th>Trip_a_P</th>\n",
       "      <th>Trip_a_hh</th>\n",
       "      <th>Trip_a_mm</th>\n",
       "      <th>Trip_a_D</th>\n",
       "    </tr>\n",
       "  </thead>\n",
       "  <tbody>\n",
       "    <tr>\n",
       "      <th>0</th>\n",
       "      <td>1</td>\n",
       "      <td>4889</td>\n",
       "      <td>2</td>\n",
       "      <td>2</td>\n",
       "      <td>4</td>\n",
       "      <td>1</td>\n",
       "      <td>1</td>\n",
       "      <td>1</td>\n",
       "      <td>36</td>\n",
       "      <td>1</td>\n",
       "      <td>...</td>\n",
       "      <td>1.0</td>\n",
       "      <td>1.0</td>\n",
       "      <td>1.0</td>\n",
       "      <td>6.0</td>\n",
       "      <td>30.0</td>\n",
       "      <td>1.138060e+09</td>\n",
       "      <td>1.0</td>\n",
       "      <td>7.0</td>\n",
       "      <td>30.0</td>\n",
       "      <td>1.168064e+09</td>\n",
       "    </tr>\n",
       "    <tr>\n",
       "      <th>1</th>\n",
       "      <td>2</td>\n",
       "      <td>4889</td>\n",
       "      <td>2</td>\n",
       "      <td>2</td>\n",
       "      <td>4</td>\n",
       "      <td>1</td>\n",
       "      <td>1</td>\n",
       "      <td>1</td>\n",
       "      <td>36</td>\n",
       "      <td>1</td>\n",
       "      <td>...</td>\n",
       "      <td>2.0</td>\n",
       "      <td>5.0</td>\n",
       "      <td>2.0</td>\n",
       "      <td>9.0</td>\n",
       "      <td>0.0</td>\n",
       "      <td>1.168064e+09</td>\n",
       "      <td>2.0</td>\n",
       "      <td>9.0</td>\n",
       "      <td>40.0</td>\n",
       "      <td>1.138060e+09</td>\n",
       "    </tr>\n",
       "    <tr>\n",
       "      <th>2</th>\n",
       "      <td>3</td>\n",
       "      <td>4889</td>\n",
       "      <td>2</td>\n",
       "      <td>2</td>\n",
       "      <td>4</td>\n",
       "      <td>1</td>\n",
       "      <td>2</td>\n",
       "      <td>2</td>\n",
       "      <td>36</td>\n",
       "      <td>2</td>\n",
       "      <td>...</td>\n",
       "      <td>1.0</td>\n",
       "      <td>1.0</td>\n",
       "      <td>1.0</td>\n",
       "      <td>8.0</td>\n",
       "      <td>0.0</td>\n",
       "      <td>1.138060e+09</td>\n",
       "      <td>1.0</td>\n",
       "      <td>8.0</td>\n",
       "      <td>30.0</td>\n",
       "      <td>1.156055e+09</td>\n",
       "    </tr>\n",
       "    <tr>\n",
       "      <th>3</th>\n",
       "      <td>4</td>\n",
       "      <td>4889</td>\n",
       "      <td>2</td>\n",
       "      <td>2</td>\n",
       "      <td>4</td>\n",
       "      <td>1</td>\n",
       "      <td>2</td>\n",
       "      <td>2</td>\n",
       "      <td>36</td>\n",
       "      <td>2</td>\n",
       "      <td>...</td>\n",
       "      <td>2.0</td>\n",
       "      <td>5.0</td>\n",
       "      <td>2.0</td>\n",
       "      <td>7.0</td>\n",
       "      <td>30.0</td>\n",
       "      <td>1.156055e+09</td>\n",
       "      <td>2.0</td>\n",
       "      <td>8.0</td>\n",
       "      <td>0.0</td>\n",
       "      <td>1.138060e+09</td>\n",
       "    </tr>\n",
       "    <tr>\n",
       "      <th>4</th>\n",
       "      <td>5</td>\n",
       "      <td>4918</td>\n",
       "      <td>4</td>\n",
       "      <td>3</td>\n",
       "      <td>4</td>\n",
       "      <td>1</td>\n",
       "      <td>1</td>\n",
       "      <td>1</td>\n",
       "      <td>44</td>\n",
       "      <td>1</td>\n",
       "      <td>...</td>\n",
       "      <td>1.0</td>\n",
       "      <td>1.0</td>\n",
       "      <td>1.0</td>\n",
       "      <td>6.0</td>\n",
       "      <td>50.0</td>\n",
       "      <td>1.138060e+09</td>\n",
       "      <td>1.0</td>\n",
       "      <td>7.0</td>\n",
       "      <td>35.0</td>\n",
       "      <td>1.162070e+09</td>\n",
       "    </tr>\n",
       "    <tr>\n",
       "      <th>5</th>\n",
       "      <td>6</td>\n",
       "      <td>4918</td>\n",
       "      <td>4</td>\n",
       "      <td>3</td>\n",
       "      <td>4</td>\n",
       "      <td>1</td>\n",
       "      <td>1</td>\n",
       "      <td>1</td>\n",
       "      <td>44</td>\n",
       "      <td>1</td>\n",
       "      <td>...</td>\n",
       "      <td>2.0</td>\n",
       "      <td>5.0</td>\n",
       "      <td>2.0</td>\n",
       "      <td>7.0</td>\n",
       "      <td>30.0</td>\n",
       "      <td>1.162070e+09</td>\n",
       "      <td>2.0</td>\n",
       "      <td>8.0</td>\n",
       "      <td>10.0</td>\n",
       "      <td>1.138060e+09</td>\n",
       "    </tr>\n",
       "    <tr>\n",
       "      <th>6</th>\n",
       "      <td>7</td>\n",
       "      <td>4918</td>\n",
       "      <td>4</td>\n",
       "      <td>3</td>\n",
       "      <td>4</td>\n",
       "      <td>1</td>\n",
       "      <td>2</td>\n",
       "      <td>2</td>\n",
       "      <td>38</td>\n",
       "      <td>2</td>\n",
       "      <td>...</td>\n",
       "      <td>1.0</td>\n",
       "      <td>4.0</td>\n",
       "      <td>2.0</td>\n",
       "      <td>2.0</td>\n",
       "      <td>0.0</td>\n",
       "      <td>1.138060e+09</td>\n",
       "      <td>2.0</td>\n",
       "      <td>2.0</td>\n",
       "      <td>15.0</td>\n",
       "      <td>1.144073e+09</td>\n",
       "    </tr>\n",
       "    <tr>\n",
       "      <th>7</th>\n",
       "      <td>8</td>\n",
       "      <td>4918</td>\n",
       "      <td>4</td>\n",
       "      <td>3</td>\n",
       "      <td>4</td>\n",
       "      <td>1</td>\n",
       "      <td>2</td>\n",
       "      <td>2</td>\n",
       "      <td>38</td>\n",
       "      <td>2</td>\n",
       "      <td>...</td>\n",
       "      <td>2.0</td>\n",
       "      <td>5.0</td>\n",
       "      <td>2.0</td>\n",
       "      <td>4.0</td>\n",
       "      <td>0.0</td>\n",
       "      <td>1.144073e+09</td>\n",
       "      <td>2.0</td>\n",
       "      <td>4.0</td>\n",
       "      <td>20.0</td>\n",
       "      <td>1.138060e+09</td>\n",
       "    </tr>\n",
       "    <tr>\n",
       "      <th>8</th>\n",
       "      <td>9</td>\n",
       "      <td>4918</td>\n",
       "      <td>4</td>\n",
       "      <td>3</td>\n",
       "      <td>4</td>\n",
       "      <td>1</td>\n",
       "      <td>3</td>\n",
       "      <td>3</td>\n",
       "      <td>7</td>\n",
       "      <td>1</td>\n",
       "      <td>...</td>\n",
       "      <td>1.0</td>\n",
       "      <td>2.0</td>\n",
       "      <td>1.0</td>\n",
       "      <td>8.0</td>\n",
       "      <td>0.0</td>\n",
       "      <td>1.138060e+09</td>\n",
       "      <td>1.0</td>\n",
       "      <td>8.0</td>\n",
       "      <td>15.0</td>\n",
       "      <td>1.141070e+09</td>\n",
       "    </tr>\n",
       "    <tr>\n",
       "      <th>9</th>\n",
       "      <td>10</td>\n",
       "      <td>4918</td>\n",
       "      <td>4</td>\n",
       "      <td>3</td>\n",
       "      <td>4</td>\n",
       "      <td>1</td>\n",
       "      <td>3</td>\n",
       "      <td>3</td>\n",
       "      <td>7</td>\n",
       "      <td>1</td>\n",
       "      <td>...</td>\n",
       "      <td>2.0</td>\n",
       "      <td>5.0</td>\n",
       "      <td>2.0</td>\n",
       "      <td>1.0</td>\n",
       "      <td>0.0</td>\n",
       "      <td>1.141070e+09</td>\n",
       "      <td>2.0</td>\n",
       "      <td>1.0</td>\n",
       "      <td>15.0</td>\n",
       "      <td>1.138060e+09</td>\n",
       "    </tr>\n",
       "  </tbody>\n",
       "</table>\n",
       "<p>10 rows × 26 columns</p>\n",
       "</div>"
      ],
      "text/plain": [
       "   No  HH_ID  HHsize  HHsize5  HHinc  Ncars  P_ID  HHrel  Age  Gender  ...  \\\n",
       "0   1   4889       2        2      4      1     1      1   36       1  ...   \n",
       "1   2   4889       2        2      4      1     1      1   36       1  ...   \n",
       "2   3   4889       2        2      4      1     2      2   36       2  ...   \n",
       "3   4   4889       2        2      4      1     2      2   36       2  ...   \n",
       "4   5   4918       4        3      4      1     1      1   44       1  ...   \n",
       "5   6   4918       4        3      4      1     1      1   44       1  ...   \n",
       "6   7   4918       4        3      4      1     2      2   38       2  ...   \n",
       "7   8   4918       4        3      4      1     2      2   38       2  ...   \n",
       "8   9   4918       4        3      4      1     3      3    7       1  ...   \n",
       "9  10   4918       4        3      4      1     3      3    7       1  ...   \n",
       "\n",
       "   Trip_ID  Trip_purpG  Trip_d_P  Trip_d_hh  Trip_d_mm      Trip_d_D  \\\n",
       "0      1.0         1.0       1.0        6.0       30.0  1.138060e+09   \n",
       "1      2.0         5.0       2.0        9.0        0.0  1.168064e+09   \n",
       "2      1.0         1.0       1.0        8.0        0.0  1.138060e+09   \n",
       "3      2.0         5.0       2.0        7.0       30.0  1.156055e+09   \n",
       "4      1.0         1.0       1.0        6.0       50.0  1.138060e+09   \n",
       "5      2.0         5.0       2.0        7.0       30.0  1.162070e+09   \n",
       "6      1.0         4.0       2.0        2.0        0.0  1.138060e+09   \n",
       "7      2.0         5.0       2.0        4.0        0.0  1.144073e+09   \n",
       "8      1.0         2.0       1.0        8.0        0.0  1.138060e+09   \n",
       "9      2.0         5.0       2.0        1.0        0.0  1.141070e+09   \n",
       "\n",
       "   Trip_a_P  Trip_a_hh  Trip_a_mm      Trip_a_D  \n",
       "0       1.0        7.0       30.0  1.168064e+09  \n",
       "1       2.0        9.0       40.0  1.138060e+09  \n",
       "2       1.0        8.0       30.0  1.156055e+09  \n",
       "3       2.0        8.0        0.0  1.138060e+09  \n",
       "4       1.0        7.0       35.0  1.162070e+09  \n",
       "5       2.0        8.0       10.0  1.138060e+09  \n",
       "6       2.0        2.0       15.0  1.144073e+09  \n",
       "7       2.0        4.0       20.0  1.138060e+09  \n",
       "8       1.0        8.0       15.0  1.141070e+09  \n",
       "9       2.0        1.0       15.0  1.138060e+09  \n",
       "\n",
       "[10 rows x 26 columns]"
      ]
     },
     "execution_count": 6,
     "metadata": {},
     "output_type": "execute_result"
    }
   ],
   "source": [
    "df.head(10)"
   ]
  },
  {
   "cell_type": "markdown",
   "metadata": {},
   "source": [
    "# Q1\n",
    "* Develop a decision tree model of forecasting trip purpose by considering the following conditions:\n",
    "    - Use the variables included in the dataset only (Do not use external data)\n",
    "    - Create new variables (i.e. features) using the variables if necessary (e.g., travel time, etc.)\n",
    "    - Apply F1-score as the measurement of the performance\n",
    "*  Submit Jupyter Notebook file of your model and results\n",
    "    - (You don’t need to submit the tree structure, but F1-score should be stated in the results.)"
   ]
  },
  {
   "cell_type": "code",
   "execution_count": 7,
   "metadata": {
    "execution": {
     "iopub.execute_input": "2022-11-04T15:58:50.443759Z",
     "iopub.status.busy": "2022-11-04T15:58:50.442324Z",
     "iopub.status.idle": "2022-11-04T16:00:04.159750Z",
     "shell.execute_reply": "2022-11-04T16:00:04.157137Z",
     "shell.execute_reply.started": "2022-11-04T15:58:50.443759Z"
    },
    "tags": []
   },
   "outputs": [
    {
     "name": "stderr",
     "output_type": "stream",
     "text": [
      "100%|█████████████████████████████████████████████████████████████████████████████| 7390/7390 [01:13<00:00, 100.31it/s]\n"
     ]
    }
   ],
   "source": [
    "df.reset_index(inplace = True)\n",
    "\n",
    "df['Trip_order'] = None\n",
    "df['Trip_final'] = None\n",
    "\n",
    "House_list = df['HH_ID'].unique()\n",
    "\n",
    "for house in tqdm(House_list):\n",
    "    \n",
    "    house_trip = df[df['HH_ID'] == house]\n",
    "    person_list = house_trip['P_ID'].unique()\n",
    "    \n",
    "    for person in person_list:\n",
    "        person_trip = house_trip[house_trip['P_ID'] == person]\n",
    "        \n",
    "        i = 0\n",
    "        for trip in range(len(person_trip)):\n",
    "            \n",
    "            trip_time = person_trip.iloc[trip]\n",
    "            idx = person_trip.iloc[i]['index']\n",
    "            \n",
    "            df.at[idx, 'Trip_order'] = i\n",
    "            df.at[idx, 'Trip_final'] = i\n",
    "            \n",
    "            i += 1\n",
    "        \n",
    "        df.at[idx, 'Trip_final'] = 1"
   ]
  },
  {
   "cell_type": "code",
   "execution_count": 12,
   "metadata": {
    "execution": {
     "iopub.execute_input": "2022-11-04T16:04:10.999575Z",
     "iopub.status.busy": "2022-11-04T16:04:10.997582Z",
     "iopub.status.idle": "2022-11-04T16:04:11.035070Z",
     "shell.execute_reply": "2022-11-04T16:04:11.031289Z",
     "shell.execute_reply.started": "2022-11-04T16:04:10.999575Z"
    },
    "tags": []
   },
   "outputs": [],
   "source": [
    "df['Trip_final'] = df['Trip_final'].fillna(0)"
   ]
  },
  {
   "cell_type": "code",
   "execution_count": 121,
   "metadata": {
    "execution": {
     "iopub.execute_input": "2022-11-04T16:11:48.225867Z",
     "iopub.status.busy": "2022-11-04T16:11:48.224875Z",
     "iopub.status.idle": "2022-11-04T16:11:48.279166Z",
     "shell.execute_reply": "2022-11-04T16:11:48.276559Z",
     "shell.execute_reply.started": "2022-11-04T16:11:48.225867Z"
    },
    "tags": []
   },
   "outputs": [],
   "source": [
    "def Trip_start(Trip_order):\n",
    "    if Trip_order == 0:\n",
    "        return 1\n",
    "    else:\n",
    "        return 0\n",
    "    \n",
    "df['Trip_start'] = df['Trip_order'].apply(Trip_start)"
   ]
  },
  {
   "cell_type": "code",
   "execution_count": 122,
   "metadata": {
    "execution": {
     "iopub.execute_input": "2022-11-04T16:11:50.061249Z",
     "iopub.status.busy": "2022-11-04T16:11:50.059950Z",
     "iopub.status.idle": "2022-11-04T16:11:50.124820Z",
     "shell.execute_reply": "2022-11-04T16:11:50.122589Z",
     "shell.execute_reply.started": "2022-11-04T16:11:50.061249Z"
    }
   },
   "outputs": [
    {
     "data": {
      "text/html": [
       "<div>\n",
       "<style scoped>\n",
       "    .dataframe tbody tr th:only-of-type {\n",
       "        vertical-align: middle;\n",
       "    }\n",
       "\n",
       "    .dataframe tbody tr th {\n",
       "        vertical-align: top;\n",
       "    }\n",
       "\n",
       "    .dataframe thead th {\n",
       "        text-align: right;\n",
       "    }\n",
       "</style>\n",
       "<table border=\"1\" class=\"dataframe\">\n",
       "  <thead>\n",
       "    <tr style=\"text-align: right;\">\n",
       "      <th></th>\n",
       "      <th>index</th>\n",
       "      <th>No</th>\n",
       "      <th>HH_ID</th>\n",
       "      <th>HHsize</th>\n",
       "      <th>HHsize5</th>\n",
       "      <th>HHinc</th>\n",
       "      <th>Ncars</th>\n",
       "      <th>P_ID</th>\n",
       "      <th>HHrel</th>\n",
       "      <th>Age</th>\n",
       "      <th>...</th>\n",
       "      <th>Student</th>\n",
       "      <th>Job_Specialized</th>\n",
       "      <th>Job_Normal</th>\n",
       "      <th>Workdays_Full</th>\n",
       "      <th>Workhours_1</th>\n",
       "      <th>Trip_d_hour_24</th>\n",
       "      <th>Trip_a_hour_24</th>\n",
       "      <th>Trip_time</th>\n",
       "      <th>Trip_Purpose</th>\n",
       "      <th>Trip_start</th>\n",
       "    </tr>\n",
       "  </thead>\n",
       "  <tbody>\n",
       "    <tr>\n",
       "      <th>0</th>\n",
       "      <td>0</td>\n",
       "      <td>1</td>\n",
       "      <td>4889</td>\n",
       "      <td>2</td>\n",
       "      <td>2</td>\n",
       "      <td>4</td>\n",
       "      <td>1</td>\n",
       "      <td>1</td>\n",
       "      <td>1</td>\n",
       "      <td>36</td>\n",
       "      <td>...</td>\n",
       "      <td>0</td>\n",
       "      <td>0</td>\n",
       "      <td>1</td>\n",
       "      <td>1</td>\n",
       "      <td>1</td>\n",
       "      <td>6.0</td>\n",
       "      <td>7.0</td>\n",
       "      <td>60.0</td>\n",
       "      <td>Work</td>\n",
       "      <td>1</td>\n",
       "    </tr>\n",
       "    <tr>\n",
       "      <th>1</th>\n",
       "      <td>1</td>\n",
       "      <td>2</td>\n",
       "      <td>4889</td>\n",
       "      <td>2</td>\n",
       "      <td>2</td>\n",
       "      <td>4</td>\n",
       "      <td>1</td>\n",
       "      <td>1</td>\n",
       "      <td>1</td>\n",
       "      <td>36</td>\n",
       "      <td>...</td>\n",
       "      <td>0</td>\n",
       "      <td>0</td>\n",
       "      <td>1</td>\n",
       "      <td>1</td>\n",
       "      <td>1</td>\n",
       "      <td>21.0</td>\n",
       "      <td>21.0</td>\n",
       "      <td>40.0</td>\n",
       "      <td>Back-home</td>\n",
       "      <td>0</td>\n",
       "    </tr>\n",
       "    <tr>\n",
       "      <th>2</th>\n",
       "      <td>2</td>\n",
       "      <td>3</td>\n",
       "      <td>4889</td>\n",
       "      <td>2</td>\n",
       "      <td>2</td>\n",
       "      <td>4</td>\n",
       "      <td>1</td>\n",
       "      <td>2</td>\n",
       "      <td>2</td>\n",
       "      <td>36</td>\n",
       "      <td>...</td>\n",
       "      <td>0</td>\n",
       "      <td>0</td>\n",
       "      <td>1</td>\n",
       "      <td>1</td>\n",
       "      <td>1</td>\n",
       "      <td>8.0</td>\n",
       "      <td>8.0</td>\n",
       "      <td>30.0</td>\n",
       "      <td>Work</td>\n",
       "      <td>1</td>\n",
       "    </tr>\n",
       "    <tr>\n",
       "      <th>3</th>\n",
       "      <td>3</td>\n",
       "      <td>4</td>\n",
       "      <td>4889</td>\n",
       "      <td>2</td>\n",
       "      <td>2</td>\n",
       "      <td>4</td>\n",
       "      <td>1</td>\n",
       "      <td>2</td>\n",
       "      <td>2</td>\n",
       "      <td>36</td>\n",
       "      <td>...</td>\n",
       "      <td>0</td>\n",
       "      <td>0</td>\n",
       "      <td>1</td>\n",
       "      <td>1</td>\n",
       "      <td>1</td>\n",
       "      <td>19.0</td>\n",
       "      <td>20.0</td>\n",
       "      <td>30.0</td>\n",
       "      <td>Back-home</td>\n",
       "      <td>0</td>\n",
       "    </tr>\n",
       "    <tr>\n",
       "      <th>4</th>\n",
       "      <td>4</td>\n",
       "      <td>5</td>\n",
       "      <td>4918</td>\n",
       "      <td>4</td>\n",
       "      <td>3</td>\n",
       "      <td>4</td>\n",
       "      <td>1</td>\n",
       "      <td>1</td>\n",
       "      <td>1</td>\n",
       "      <td>44</td>\n",
       "      <td>...</td>\n",
       "      <td>0</td>\n",
       "      <td>0</td>\n",
       "      <td>1</td>\n",
       "      <td>1</td>\n",
       "      <td>1</td>\n",
       "      <td>6.0</td>\n",
       "      <td>7.0</td>\n",
       "      <td>45.0</td>\n",
       "      <td>Work</td>\n",
       "      <td>1</td>\n",
       "    </tr>\n",
       "    <tr>\n",
       "      <th>5</th>\n",
       "      <td>5</td>\n",
       "      <td>6</td>\n",
       "      <td>4918</td>\n",
       "      <td>4</td>\n",
       "      <td>3</td>\n",
       "      <td>4</td>\n",
       "      <td>1</td>\n",
       "      <td>1</td>\n",
       "      <td>1</td>\n",
       "      <td>44</td>\n",
       "      <td>...</td>\n",
       "      <td>0</td>\n",
       "      <td>0</td>\n",
       "      <td>1</td>\n",
       "      <td>1</td>\n",
       "      <td>1</td>\n",
       "      <td>19.0</td>\n",
       "      <td>20.0</td>\n",
       "      <td>40.0</td>\n",
       "      <td>Back-home</td>\n",
       "      <td>0</td>\n",
       "    </tr>\n",
       "    <tr>\n",
       "      <th>6</th>\n",
       "      <td>6</td>\n",
       "      <td>7</td>\n",
       "      <td>4918</td>\n",
       "      <td>4</td>\n",
       "      <td>3</td>\n",
       "      <td>4</td>\n",
       "      <td>1</td>\n",
       "      <td>2</td>\n",
       "      <td>2</td>\n",
       "      <td>38</td>\n",
       "      <td>...</td>\n",
       "      <td>0</td>\n",
       "      <td>0</td>\n",
       "      <td>0</td>\n",
       "      <td>0</td>\n",
       "      <td>0</td>\n",
       "      <td>14.0</td>\n",
       "      <td>14.0</td>\n",
       "      <td>15.0</td>\n",
       "      <td>Shopping/social/leisure</td>\n",
       "      <td>1</td>\n",
       "    </tr>\n",
       "    <tr>\n",
       "      <th>7</th>\n",
       "      <td>7</td>\n",
       "      <td>8</td>\n",
       "      <td>4918</td>\n",
       "      <td>4</td>\n",
       "      <td>3</td>\n",
       "      <td>4</td>\n",
       "      <td>1</td>\n",
       "      <td>2</td>\n",
       "      <td>2</td>\n",
       "      <td>38</td>\n",
       "      <td>...</td>\n",
       "      <td>0</td>\n",
       "      <td>0</td>\n",
       "      <td>0</td>\n",
       "      <td>0</td>\n",
       "      <td>0</td>\n",
       "      <td>16.0</td>\n",
       "      <td>16.0</td>\n",
       "      <td>20.0</td>\n",
       "      <td>Back-home</td>\n",
       "      <td>0</td>\n",
       "    </tr>\n",
       "    <tr>\n",
       "      <th>8</th>\n",
       "      <td>8</td>\n",
       "      <td>9</td>\n",
       "      <td>4918</td>\n",
       "      <td>4</td>\n",
       "      <td>3</td>\n",
       "      <td>4</td>\n",
       "      <td>1</td>\n",
       "      <td>3</td>\n",
       "      <td>3</td>\n",
       "      <td>7</td>\n",
       "      <td>...</td>\n",
       "      <td>1</td>\n",
       "      <td>0</td>\n",
       "      <td>0</td>\n",
       "      <td>0</td>\n",
       "      <td>0</td>\n",
       "      <td>8.0</td>\n",
       "      <td>8.0</td>\n",
       "      <td>15.0</td>\n",
       "      <td>Education</td>\n",
       "      <td>1</td>\n",
       "    </tr>\n",
       "    <tr>\n",
       "      <th>9</th>\n",
       "      <td>9</td>\n",
       "      <td>10</td>\n",
       "      <td>4918</td>\n",
       "      <td>4</td>\n",
       "      <td>3</td>\n",
       "      <td>4</td>\n",
       "      <td>1</td>\n",
       "      <td>3</td>\n",
       "      <td>3</td>\n",
       "      <td>7</td>\n",
       "      <td>...</td>\n",
       "      <td>1</td>\n",
       "      <td>0</td>\n",
       "      <td>0</td>\n",
       "      <td>0</td>\n",
       "      <td>0</td>\n",
       "      <td>13.0</td>\n",
       "      <td>13.0</td>\n",
       "      <td>15.0</td>\n",
       "      <td>Back-home</td>\n",
       "      <td>0</td>\n",
       "    </tr>\n",
       "  </tbody>\n",
       "</table>\n",
       "<p>10 rows × 48 columns</p>\n",
       "</div>"
      ],
      "text/plain": [
       "   index  No  HH_ID  HHsize  HHsize5  HHinc  Ncars  P_ID  HHrel  Age  ...  \\\n",
       "0      0   1   4889       2        2      4      1     1      1   36  ...   \n",
       "1      1   2   4889       2        2      4      1     1      1   36  ...   \n",
       "2      2   3   4889       2        2      4      1     2      2   36  ...   \n",
       "3      3   4   4889       2        2      4      1     2      2   36  ...   \n",
       "4      4   5   4918       4        3      4      1     1      1   44  ...   \n",
       "5      5   6   4918       4        3      4      1     1      1   44  ...   \n",
       "6      6   7   4918       4        3      4      1     2      2   38  ...   \n",
       "7      7   8   4918       4        3      4      1     2      2   38  ...   \n",
       "8      8   9   4918       4        3      4      1     3      3    7  ...   \n",
       "9      9  10   4918       4        3      4      1     3      3    7  ...   \n",
       "\n",
       "   Student  Job_Specialized  Job_Normal  Workdays_Full  Workhours_1  \\\n",
       "0        0                0           1              1            1   \n",
       "1        0                0           1              1            1   \n",
       "2        0                0           1              1            1   \n",
       "3        0                0           1              1            1   \n",
       "4        0                0           1              1            1   \n",
       "5        0                0           1              1            1   \n",
       "6        0                0           0              0            0   \n",
       "7        0                0           0              0            0   \n",
       "8        1                0           0              0            0   \n",
       "9        1                0           0              0            0   \n",
       "\n",
       "   Trip_d_hour_24  Trip_a_hour_24  Trip_time             Trip_Purpose  \\\n",
       "0             6.0             7.0       60.0                     Work   \n",
       "1            21.0            21.0       40.0                Back-home   \n",
       "2             8.0             8.0       30.0                     Work   \n",
       "3            19.0            20.0       30.0                Back-home   \n",
       "4             6.0             7.0       45.0                     Work   \n",
       "5            19.0            20.0       40.0                Back-home   \n",
       "6            14.0            14.0       15.0  Shopping/social/leisure   \n",
       "7            16.0            16.0       20.0                Back-home   \n",
       "8             8.0             8.0       15.0                Education   \n",
       "9            13.0            13.0       15.0                Back-home   \n",
       "\n",
       "   Trip_start  \n",
       "0           1  \n",
       "1           0  \n",
       "2           1  \n",
       "3           0  \n",
       "4           1  \n",
       "5           0  \n",
       "6           1  \n",
       "7           0  \n",
       "8           1  \n",
       "9           0  \n",
       "\n",
       "[10 rows x 48 columns]"
      ]
     },
     "execution_count": 122,
     "metadata": {},
     "output_type": "execute_result"
    }
   ],
   "source": [
    "df.head(10)"
   ]
  },
  {
   "cell_type": "markdown",
   "metadata": {},
   "source": [
    "## Create Dummy Variables"
   ]
  },
  {
   "cell_type": "code",
   "execution_count": 215,
   "metadata": {
    "execution": {
     "iopub.execute_input": "2022-11-04T16:21:32.378382Z",
     "iopub.status.busy": "2022-11-04T16:21:32.377033Z",
     "iopub.status.idle": "2022-11-04T16:21:32.404071Z",
     "shell.execute_reply": "2022-11-04T16:21:32.401752Z",
     "shell.execute_reply.started": "2022-11-04T16:21:32.377033Z"
    },
    "tags": []
   },
   "outputs": [],
   "source": [
    "def Age_65(Age):\n",
    "    if Age >= 65:\n",
    "        return 1\n",
    "    else:\n",
    "        return 0\n",
    "    \n",
    "def Age_1020(Age):\n",
    "    if Age <= 30:\n",
    "        return 1\n",
    "    else:\n",
    "        return 0"
   ]
  },
  {
   "cell_type": "code",
   "execution_count": 124,
   "metadata": {
    "execution": {
     "iopub.execute_input": "2022-11-04T16:12:25.806265Z",
     "iopub.status.busy": "2022-11-04T16:12:25.804781Z",
     "iopub.status.idle": "2022-11-04T16:12:25.817803Z",
     "shell.execute_reply": "2022-11-04T16:12:25.814980Z",
     "shell.execute_reply.started": "2022-11-04T16:12:25.806265Z"
    },
    "tags": []
   },
   "outputs": [],
   "source": [
    "def Dummy_car_ownership(Ncars):\n",
    "    if Ncars == 1: # Car own\n",
    "        return 1\n",
    "    elif Ncars == 2: # Do not own\n",
    "        return 0\n",
    "    else:\n",
    "        pass"
   ]
  },
  {
   "cell_type": "code",
   "execution_count": 125,
   "metadata": {
    "execution": {
     "iopub.execute_input": "2022-11-04T16:12:25.824754Z",
     "iopub.status.busy": "2022-11-04T16:12:25.823748Z",
     "iopub.status.idle": "2022-11-04T16:12:25.849284Z",
     "shell.execute_reply": "2022-11-04T16:12:25.846157Z",
     "shell.execute_reply.started": "2022-11-04T16:12:25.824754Z"
    },
    "tags": []
   },
   "outputs": [],
   "source": [
    "def Dummy_HHrel_1(HHrel):\n",
    "    if HHrel == 1: # 'Householder'\n",
    "        return 1\n",
    "    else:\n",
    "        return 0\n",
    "    \n",
    "def Dummy_HHrel_2(HHrel):\n",
    "    if HHrel == 2: # 'Spouse'\n",
    "        return 1\n",
    "    else:\n",
    "        return 0\n",
    "    \n",
    "def Dummy_HHrel_3(HHrel):\n",
    "    if HHrel == 3: # 'Children'\n",
    "        return 1\n",
    "    else:\n",
    "        return 0\n",
    "    \n",
    "def Dummy_HHrel_4(HHrel):\n",
    "    if HHrel == 4: #'Parents'\n",
    "        return 1\n",
    "    else:\n",
    "        return 0\n",
    "    \n",
    "def Dummy_HHrel_5(HHrel):\n",
    "    if HHrel == 5: #'etc.'\n",
    "        return 1\n",
    "    else:\n",
    "        return 0"
   ]
  },
  {
   "cell_type": "code",
   "execution_count": 126,
   "metadata": {
    "execution": {
     "iopub.execute_input": "2022-11-04T16:12:25.853278Z",
     "iopub.status.busy": "2022-11-04T16:12:25.852282Z",
     "iopub.status.idle": "2022-11-04T16:12:25.865087Z",
     "shell.execute_reply": "2022-11-04T16:12:25.861695Z",
     "shell.execute_reply.started": "2022-11-04T16:12:25.853278Z"
    },
    "tags": []
   },
   "outputs": [],
   "source": [
    "def Dummy_Gender(Gender):\n",
    "    if Gender == 1: # Male\n",
    "        return 1\n",
    "    elif Gender == 2: # Female\n",
    "        return 0\n",
    "    else:\n",
    "        pass"
   ]
  },
  {
   "cell_type": "code",
   "execution_count": 127,
   "metadata": {
    "execution": {
     "iopub.execute_input": "2022-11-04T16:12:25.868461Z",
     "iopub.status.busy": "2022-11-04T16:12:25.867311Z",
     "iopub.status.idle": "2022-11-04T16:12:25.895333Z",
     "shell.execute_reply": "2022-11-04T16:12:25.892730Z",
     "shell.execute_reply.started": "2022-11-04T16:12:25.868461Z"
    },
    "tags": []
   },
   "outputs": [],
   "source": [
    "def Dummy_License(License):\n",
    "    if License == 1: # Own\n",
    "        return 1\n",
    "    elif License == 2: # Do not own\n",
    "        return 0\n",
    "    else:\n",
    "        pass"
   ]
  },
  {
   "cell_type": "code",
   "execution_count": 128,
   "metadata": {
    "execution": {
     "iopub.execute_input": "2022-11-04T16:12:25.899418Z",
     "iopub.status.busy": "2022-11-04T16:12:25.898386Z",
     "iopub.status.idle": "2022-11-04T16:12:25.913114Z",
     "shell.execute_reply": "2022-11-04T16:12:25.910084Z",
     "shell.execute_reply.started": "2022-11-04T16:12:25.899418Z"
    },
    "tags": []
   },
   "outputs": [],
   "source": [
    "def Dummy_Student(School):\n",
    "    if School == 1 or School == 2 or School == 3 or School == 4: # Student\n",
    "        return 1\n",
    "    else:\n",
    "        return 0"
   ]
  },
  {
   "cell_type": "code",
   "execution_count": 191,
   "metadata": {
    "execution": {
     "iopub.execute_input": "2022-11-04T16:17:53.104836Z",
     "iopub.status.busy": "2022-11-04T16:17:53.102927Z",
     "iopub.status.idle": "2022-11-04T16:17:53.130780Z",
     "shell.execute_reply": "2022-11-04T16:17:53.128199Z",
     "shell.execute_reply.started": "2022-11-04T16:17:53.104836Z"
    },
    "tags": []
   },
   "outputs": [],
   "source": [
    "def Dummy_Job_specialized(Job):\n",
    "    if Job == 1: # Specialized Job\n",
    "        return 1\n",
    "    else:\n",
    "        return 0\n",
    "\n",
    "def Dummy_Job_normal(Job):\n",
    "    if Job == 2 or Job == 3 or Job == 4 or Job == 6: # Retail, Service, Management, Simple Labor\n",
    "        return 1\n",
    "    else:\n",
    "        return 0\n",
    "    \n",
    "def Dummy_job_home(Job):\n",
    "    if Job == 7:\n",
    "        return 1\n",
    "    else:\n",
    "        return 0"
   ]
  },
  {
   "cell_type": "code",
   "execution_count": 130,
   "metadata": {
    "execution": {
     "iopub.execute_input": "2022-11-04T16:12:25.947354Z",
     "iopub.status.busy": "2022-11-04T16:12:25.946356Z",
     "iopub.status.idle": "2022-11-04T16:12:25.958247Z",
     "shell.execute_reply": "2022-11-04T16:12:25.955250Z",
     "shell.execute_reply.started": "2022-11-04T16:12:25.947354Z"
    },
    "tags": []
   },
   "outputs": [],
   "source": [
    "def Dummy_Workdays_full(Workdays):\n",
    "    if Workdays == 1 or Workdays == 2: # 5~7 days per week\n",
    "        return 1\n",
    "    else:\n",
    "        return 0"
   ]
  },
  {
   "cell_type": "code",
   "execution_count": 131,
   "metadata": {
    "execution": {
     "iopub.execute_input": "2022-11-04T16:12:25.967727Z",
     "iopub.status.busy": "2022-11-04T16:12:25.966697Z",
     "iopub.status.idle": "2022-11-04T16:12:25.989927Z",
     "shell.execute_reply": "2022-11-04T16:12:25.986989Z",
     "shell.execute_reply.started": "2022-11-04T16:12:25.967727Z"
    },
    "tags": []
   },
   "outputs": [],
   "source": [
    "def Dummy_Workhours_1(Workhours):\n",
    "    if Workhours == 1: # Full time\n",
    "        return 1\n",
    "    else:\n",
    "        return 0\n",
    "\n",
    "def Dummy_Workhours_2(Workhours):\n",
    "    if Workhours == 2: # part-time(less than 8 hours)\n",
    "        return 1\n",
    "    else:\n",
    "        return 0"
   ]
  },
  {
   "cell_type": "code",
   "execution_count": 132,
   "metadata": {
    "execution": {
     "iopub.execute_input": "2022-11-04T16:12:25.996087Z",
     "iopub.status.busy": "2022-11-04T16:12:25.995019Z",
     "iopub.status.idle": "2022-11-04T16:12:26.021653Z",
     "shell.execute_reply": "2022-11-04T16:12:26.018168Z",
     "shell.execute_reply.started": "2022-11-04T16:12:25.996087Z"
    },
    "tags": []
   },
   "outputs": [],
   "source": [
    "def Dummy_Trip_made(Trip_made):\n",
    "    if Trip_made == 1: # Traveled\n",
    "        return 1\n",
    "    elif Trip_made == 2: # Not Traveled\n",
    "        return 0\n",
    "    else:\n",
    "        pass"
   ]
  },
  {
   "cell_type": "code",
   "execution_count": 133,
   "metadata": {
    "execution": {
     "iopub.execute_input": "2022-11-04T16:12:26.026379Z",
     "iopub.status.busy": "2022-11-04T16:12:26.024274Z",
     "iopub.status.idle": "2022-11-04T16:12:26.052655Z",
     "shell.execute_reply": "2022-11-04T16:12:26.049196Z",
     "shell.execute_reply.started": "2022-11-04T16:12:26.026379Z"
    },
    "tags": []
   },
   "outputs": [],
   "source": [
    "def Dummy_Trip_d_P_1(Trip_d_P):\n",
    "    if Trip_d_P == 1: # AM\n",
    "        return 1\n",
    "    else:\n",
    "        return 0\n",
    "    \n",
    "def Dummy_Trip_d_P_2(Trip_d_P):\n",
    "    if Trip_d_P == 2: # PM\n",
    "        return 1\n",
    "    else:\n",
    "        return 0\n",
    "    \n",
    "def Dummy_Trip_d_P_3(Trip_d_P):\n",
    "    if Trip_d_P == 3: # AM(following day)\n",
    "        return 1\n",
    "    else:\n",
    "        return 0"
   ]
  },
  {
   "cell_type": "code",
   "execution_count": 134,
   "metadata": {
    "execution": {
     "iopub.execute_input": "2022-11-04T16:12:26.058321Z",
     "iopub.status.busy": "2022-11-04T16:12:26.056172Z",
     "iopub.status.idle": "2022-11-04T16:12:26.084317Z",
     "shell.execute_reply": "2022-11-04T16:12:26.080490Z",
     "shell.execute_reply.started": "2022-11-04T16:12:26.058321Z"
    },
    "tags": []
   },
   "outputs": [],
   "source": [
    "def Time_d_hour(Trip_d_hh, Trip_d_P):\n",
    "    if Trip_d_P == 1:\n",
    "        return Trip_d_hh\n",
    "    \n",
    "    elif Trip_d_P == 2:\n",
    "        return (Trip_d_hh + 12)\n",
    "    \n",
    "    elif Trip_d_P == 3:\n",
    "        return (Trip_d_hh + 24)\n",
    "    \n",
    "    else:\n",
    "        pass\n",
    "    \n",
    "def Time_a_hour(Trip_a_hh, Trip_a_P):\n",
    "    if Trip_a_P == 1:\n",
    "        return Trip_a_hh\n",
    "    \n",
    "    elif Trip_a_P == 2:\n",
    "        return (Trip_a_hh + 12)\n",
    "    \n",
    "    elif Trip_a_P == 3:\n",
    "        return (Trip_a_hh + 24)\n",
    "    \n",
    "    else:\n",
    "        pass"
   ]
  },
  {
   "cell_type": "code",
   "execution_count": 216,
   "metadata": {
    "execution": {
     "iopub.execute_input": "2022-11-04T16:21:49.874528Z",
     "iopub.status.busy": "2022-11-04T16:21:49.873531Z",
     "iopub.status.idle": "2022-11-04T16:21:52.540688Z",
     "shell.execute_reply": "2022-11-04T16:21:52.537370Z",
     "shell.execute_reply.started": "2022-11-04T16:21:49.874528Z"
    },
    "tags": []
   },
   "outputs": [],
   "source": [
    "df['Age_65'] = df['Age'].apply(Age_65)\n",
    "df['Age_1020'] = df['Age'].apply(Age_1020)\n",
    "\n",
    "df['Car_ownership'] = df['Ncars'].apply(Dummy_car_ownership)\n",
    "\n",
    "df['HHrel_1'] = df['HHrel'].apply(Dummy_HHrel_1)\n",
    "df['HHrel_2'] = df['HHrel'].apply(Dummy_HHrel_2)\n",
    "df['HHrel_3'] = df['HHrel'].apply(Dummy_HHrel_3)\n",
    "df['HHrel_4'] = df['HHrel'].apply(Dummy_HHrel_4)\n",
    "df['HHrel_5'] = df['HHrel'].apply(Dummy_HHrel_5)\n",
    "\n",
    "df['Gender_DM'] = df['Gender'].apply(Dummy_Gender)\n",
    "df['License_DM'] = df['Licence'].apply(Dummy_License)\n",
    "\n",
    "df['Student'] = df['School'].apply(Dummy_Student)\n",
    "\n",
    "df['Job_Specialized'] = df['Job'].apply(Dummy_Job_specialized)\n",
    "df['Job_Normal'] = df['Job'].apply(Dummy_Job_normal)\n",
    "df['Job_Home'] = df['Job'].apply(Dummy_job_home)\n",
    "\n",
    "df['Workdays_Full'] = df['Workdays'].apply(Dummy_Workdays_full)\n",
    "\n",
    "df['Workhours_1'] = df['Workhours'].apply(Dummy_Workhours_1)\n",
    "\n",
    "df['Trip_d_hour_24'] = df.apply(lambda x : Time_d_hour(x['Trip_d_hh'], x['Trip_d_P']), axis = 1)\n",
    "df['Trip_a_hour_24'] = df.apply(lambda x : Time_a_hour(x['Trip_a_hh'], x['Trip_a_P']), axis = 1)"
   ]
  },
  {
   "cell_type": "code",
   "execution_count": 217,
   "metadata": {
    "execution": {
     "iopub.execute_input": "2022-11-04T16:21:52.543774Z",
     "iopub.status.busy": "2022-11-04T16:21:52.542775Z",
     "iopub.status.idle": "2022-11-04T16:21:52.617172Z",
     "shell.execute_reply": "2022-11-04T16:21:52.614180Z",
     "shell.execute_reply.started": "2022-11-04T16:21:52.543774Z"
    },
    "tags": []
   },
   "outputs": [
    {
     "data": {
      "text/html": [
       "<div>\n",
       "<style scoped>\n",
       "    .dataframe tbody tr th:only-of-type {\n",
       "        vertical-align: middle;\n",
       "    }\n",
       "\n",
       "    .dataframe tbody tr th {\n",
       "        vertical-align: top;\n",
       "    }\n",
       "\n",
       "    .dataframe thead th {\n",
       "        text-align: right;\n",
       "    }\n",
       "</style>\n",
       "<table border=\"1\" class=\"dataframe\">\n",
       "  <thead>\n",
       "    <tr style=\"text-align: right;\">\n",
       "      <th></th>\n",
       "      <th>index</th>\n",
       "      <th>No</th>\n",
       "      <th>HH_ID</th>\n",
       "      <th>HHsize</th>\n",
       "      <th>HHsize5</th>\n",
       "      <th>HHinc</th>\n",
       "      <th>Ncars</th>\n",
       "      <th>P_ID</th>\n",
       "      <th>HHrel</th>\n",
       "      <th>Age</th>\n",
       "      <th>...</th>\n",
       "      <th>Job_Normal</th>\n",
       "      <th>Workdays_Full</th>\n",
       "      <th>Workhours_1</th>\n",
       "      <th>Trip_d_hour_24</th>\n",
       "      <th>Trip_a_hour_24</th>\n",
       "      <th>Trip_time</th>\n",
       "      <th>Trip_Purpose</th>\n",
       "      <th>Trip_start</th>\n",
       "      <th>Job_Home</th>\n",
       "      <th>Age_1020</th>\n",
       "    </tr>\n",
       "  </thead>\n",
       "  <tbody>\n",
       "    <tr>\n",
       "      <th>0</th>\n",
       "      <td>0</td>\n",
       "      <td>1</td>\n",
       "      <td>4889</td>\n",
       "      <td>2</td>\n",
       "      <td>2</td>\n",
       "      <td>4</td>\n",
       "      <td>1</td>\n",
       "      <td>1</td>\n",
       "      <td>1</td>\n",
       "      <td>36</td>\n",
       "      <td>...</td>\n",
       "      <td>1</td>\n",
       "      <td>1</td>\n",
       "      <td>1</td>\n",
       "      <td>6.0</td>\n",
       "      <td>7.0</td>\n",
       "      <td>60.0</td>\n",
       "      <td>Work</td>\n",
       "      <td>1</td>\n",
       "      <td>0</td>\n",
       "      <td>0</td>\n",
       "    </tr>\n",
       "    <tr>\n",
       "      <th>1</th>\n",
       "      <td>1</td>\n",
       "      <td>2</td>\n",
       "      <td>4889</td>\n",
       "      <td>2</td>\n",
       "      <td>2</td>\n",
       "      <td>4</td>\n",
       "      <td>1</td>\n",
       "      <td>1</td>\n",
       "      <td>1</td>\n",
       "      <td>36</td>\n",
       "      <td>...</td>\n",
       "      <td>1</td>\n",
       "      <td>1</td>\n",
       "      <td>1</td>\n",
       "      <td>21.0</td>\n",
       "      <td>21.0</td>\n",
       "      <td>40.0</td>\n",
       "      <td>Back-home</td>\n",
       "      <td>0</td>\n",
       "      <td>0</td>\n",
       "      <td>0</td>\n",
       "    </tr>\n",
       "    <tr>\n",
       "      <th>2</th>\n",
       "      <td>2</td>\n",
       "      <td>3</td>\n",
       "      <td>4889</td>\n",
       "      <td>2</td>\n",
       "      <td>2</td>\n",
       "      <td>4</td>\n",
       "      <td>1</td>\n",
       "      <td>2</td>\n",
       "      <td>2</td>\n",
       "      <td>36</td>\n",
       "      <td>...</td>\n",
       "      <td>1</td>\n",
       "      <td>1</td>\n",
       "      <td>1</td>\n",
       "      <td>8.0</td>\n",
       "      <td>8.0</td>\n",
       "      <td>30.0</td>\n",
       "      <td>Work</td>\n",
       "      <td>1</td>\n",
       "      <td>0</td>\n",
       "      <td>0</td>\n",
       "    </tr>\n",
       "  </tbody>\n",
       "</table>\n",
       "<p>3 rows × 50 columns</p>\n",
       "</div>"
      ],
      "text/plain": [
       "   index  No  HH_ID  HHsize  HHsize5  HHinc  Ncars  P_ID  HHrel  Age  ...  \\\n",
       "0      0   1   4889       2        2      4      1     1      1   36  ...   \n",
       "1      1   2   4889       2        2      4      1     1      1   36  ...   \n",
       "2      2   3   4889       2        2      4      1     2      2   36  ...   \n",
       "\n",
       "   Job_Normal  Workdays_Full  Workhours_1  Trip_d_hour_24  Trip_a_hour_24  \\\n",
       "0           1              1            1             6.0             7.0   \n",
       "1           1              1            1            21.0            21.0   \n",
       "2           1              1            1             8.0             8.0   \n",
       "\n",
       "   Trip_time  Trip_Purpose  Trip_start  Job_Home  Age_1020  \n",
       "0       60.0          Work           1         0         0  \n",
       "1       40.0     Back-home           0         0         0  \n",
       "2       30.0          Work           1         0         0  \n",
       "\n",
       "[3 rows x 50 columns]"
      ]
     },
     "execution_count": 217,
     "metadata": {},
     "output_type": "execute_result"
    }
   ],
   "source": [
    "df.head(3)"
   ]
  },
  {
   "cell_type": "markdown",
   "metadata": {},
   "source": [
    "### Create Trip Time Variable"
   ]
  },
  {
   "cell_type": "code",
   "execution_count": 137,
   "metadata": {
    "execution": {
     "iopub.execute_input": "2022-11-04T16:12:30.197789Z",
     "iopub.status.busy": "2022-11-04T16:12:30.195794Z",
     "iopub.status.idle": "2022-11-04T16:12:30.222414Z",
     "shell.execute_reply": "2022-11-04T16:12:30.219986Z",
     "shell.execute_reply.started": "2022-11-04T16:12:30.196792Z"
    },
    "tags": []
   },
   "outputs": [],
   "source": [
    "def Trip_time_calculate(Trip_a_P, Trip_a_hh, Trip_a_mm, Trip_d_P, Trip_d_hh, Trip_d_mm):\n",
    "    Trip_d = Trip_d_hh * 60 + Trip_d_mm\n",
    "    Trip_a = Trip_a_hh * 60 + Trip_a_mm\n",
    "    \n",
    "    if Trip_a_P == Trip_d_P: # 둘의 오전, 오후 포함 시간대가 같은 경우\n",
    "        Trip_time = Trip_a - Trip_d\n",
    "        \n",
    "    elif Trip_a_P == 1 and Trip_d_P == 2: #오전 출발, 오후 도착\n",
    "        Trip_time = (Trip_a + 12 * 60) - Trip_d\n",
    "        \n",
    "    elif Trip_a_P == 2 and Trip_d_P == 3: #오후 출발, 다음날 도착\n",
    "        Trip_time = (Trip_a + 24 * 60) - (Trip_d + 12 * 60)\n",
    "        \n",
    "    elif Trip_a_P == 1 and Trip_d_P == 3: #오전 출발, 다음날 도착\n",
    "        Trip_time = (Trip_a + 24 * 60) - Trip_d\n",
    "        \n",
    "    else:\n",
    "        Trip_time = None\n",
    "        \n",
    "    return Trip_time"
   ]
  },
  {
   "cell_type": "code",
   "execution_count": 138,
   "metadata": {
    "execution": {
     "iopub.execute_input": "2022-11-04T16:12:30.225528Z",
     "iopub.status.busy": "2022-11-04T16:12:30.224510Z",
     "iopub.status.idle": "2022-11-04T16:12:32.024074Z",
     "shell.execute_reply": "2022-11-04T16:12:32.021120Z",
     "shell.execute_reply.started": "2022-11-04T16:12:30.225528Z"
    },
    "tags": []
   },
   "outputs": [],
   "source": [
    "df['Trip_time'] = df.apply(lambda x : Trip_time_calculate(x['Trip_a_P'], x['Trip_a_hh'], x['Trip_a_mm'], x['Trip_d_P'], x['Trip_d_hh'], x['Trip_d_mm']) , axis = 1 )"
   ]
  },
  {
   "cell_type": "code",
   "execution_count": 139,
   "metadata": {
    "execution": {
     "iopub.execute_input": "2022-11-04T16:12:32.028425Z",
     "iopub.status.busy": "2022-11-04T16:12:32.027422Z",
     "iopub.status.idle": "2022-11-04T16:12:32.101632Z",
     "shell.execute_reply": "2022-11-04T16:12:32.098680Z",
     "shell.execute_reply.started": "2022-11-04T16:12:32.028425Z"
    },
    "tags": []
   },
   "outputs": [
    {
     "data": {
      "text/html": [
       "<div>\n",
       "<style scoped>\n",
       "    .dataframe tbody tr th:only-of-type {\n",
       "        vertical-align: middle;\n",
       "    }\n",
       "\n",
       "    .dataframe tbody tr th {\n",
       "        vertical-align: top;\n",
       "    }\n",
       "\n",
       "    .dataframe thead th {\n",
       "        text-align: right;\n",
       "    }\n",
       "</style>\n",
       "<table border=\"1\" class=\"dataframe\">\n",
       "  <thead>\n",
       "    <tr style=\"text-align: right;\">\n",
       "      <th></th>\n",
       "      <th>index</th>\n",
       "      <th>No</th>\n",
       "      <th>HH_ID</th>\n",
       "      <th>HHsize</th>\n",
       "      <th>HHsize5</th>\n",
       "      <th>HHinc</th>\n",
       "      <th>Ncars</th>\n",
       "      <th>P_ID</th>\n",
       "      <th>HHrel</th>\n",
       "      <th>Age</th>\n",
       "      <th>...</th>\n",
       "      <th>Student</th>\n",
       "      <th>Job_Specialized</th>\n",
       "      <th>Job_Normal</th>\n",
       "      <th>Workdays_Full</th>\n",
       "      <th>Workhours_1</th>\n",
       "      <th>Trip_d_hour_24</th>\n",
       "      <th>Trip_a_hour_24</th>\n",
       "      <th>Trip_time</th>\n",
       "      <th>Trip_Purpose</th>\n",
       "      <th>Trip_start</th>\n",
       "    </tr>\n",
       "  </thead>\n",
       "  <tbody>\n",
       "    <tr>\n",
       "      <th>0</th>\n",
       "      <td>0</td>\n",
       "      <td>1</td>\n",
       "      <td>4889</td>\n",
       "      <td>2</td>\n",
       "      <td>2</td>\n",
       "      <td>4</td>\n",
       "      <td>1</td>\n",
       "      <td>1</td>\n",
       "      <td>1</td>\n",
       "      <td>36</td>\n",
       "      <td>...</td>\n",
       "      <td>0</td>\n",
       "      <td>0</td>\n",
       "      <td>1</td>\n",
       "      <td>1</td>\n",
       "      <td>1</td>\n",
       "      <td>6.0</td>\n",
       "      <td>7.0</td>\n",
       "      <td>60.0</td>\n",
       "      <td>Work</td>\n",
       "      <td>1</td>\n",
       "    </tr>\n",
       "    <tr>\n",
       "      <th>1</th>\n",
       "      <td>1</td>\n",
       "      <td>2</td>\n",
       "      <td>4889</td>\n",
       "      <td>2</td>\n",
       "      <td>2</td>\n",
       "      <td>4</td>\n",
       "      <td>1</td>\n",
       "      <td>1</td>\n",
       "      <td>1</td>\n",
       "      <td>36</td>\n",
       "      <td>...</td>\n",
       "      <td>0</td>\n",
       "      <td>0</td>\n",
       "      <td>1</td>\n",
       "      <td>1</td>\n",
       "      <td>1</td>\n",
       "      <td>21.0</td>\n",
       "      <td>21.0</td>\n",
       "      <td>40.0</td>\n",
       "      <td>Back-home</td>\n",
       "      <td>0</td>\n",
       "    </tr>\n",
       "    <tr>\n",
       "      <th>2</th>\n",
       "      <td>2</td>\n",
       "      <td>3</td>\n",
       "      <td>4889</td>\n",
       "      <td>2</td>\n",
       "      <td>2</td>\n",
       "      <td>4</td>\n",
       "      <td>1</td>\n",
       "      <td>2</td>\n",
       "      <td>2</td>\n",
       "      <td>36</td>\n",
       "      <td>...</td>\n",
       "      <td>0</td>\n",
       "      <td>0</td>\n",
       "      <td>1</td>\n",
       "      <td>1</td>\n",
       "      <td>1</td>\n",
       "      <td>8.0</td>\n",
       "      <td>8.0</td>\n",
       "      <td>30.0</td>\n",
       "      <td>Work</td>\n",
       "      <td>1</td>\n",
       "    </tr>\n",
       "  </tbody>\n",
       "</table>\n",
       "<p>3 rows × 48 columns</p>\n",
       "</div>"
      ],
      "text/plain": [
       "   index  No  HH_ID  HHsize  HHsize5  HHinc  Ncars  P_ID  HHrel  Age  ...  \\\n",
       "0      0   1   4889       2        2      4      1     1      1   36  ...   \n",
       "1      1   2   4889       2        2      4      1     1      1   36  ...   \n",
       "2      2   3   4889       2        2      4      1     2      2   36  ...   \n",
       "\n",
       "   Student  Job_Specialized  Job_Normal  Workdays_Full  Workhours_1  \\\n",
       "0        0                0           1              1            1   \n",
       "1        0                0           1              1            1   \n",
       "2        0                0           1              1            1   \n",
       "\n",
       "   Trip_d_hour_24  Trip_a_hour_24  Trip_time  Trip_Purpose  Trip_start  \n",
       "0             6.0             7.0       60.0          Work           1  \n",
       "1            21.0            21.0       40.0     Back-home           0  \n",
       "2             8.0             8.0       30.0          Work           1  \n",
       "\n",
       "[3 rows x 48 columns]"
      ]
     },
     "execution_count": 139,
     "metadata": {},
     "output_type": "execute_result"
    }
   ],
   "source": [
    "df.head(3)"
   ]
  },
  {
   "cell_type": "markdown",
   "metadata": {},
   "source": [
    "### Create Trip Purpose"
   ]
  },
  {
   "cell_type": "code",
   "execution_count": 140,
   "metadata": {
    "execution": {
     "iopub.execute_input": "2022-11-04T16:12:32.104624Z",
     "iopub.status.busy": "2022-11-04T16:12:32.103627Z",
     "iopub.status.idle": "2022-11-04T16:12:32.132008Z",
     "shell.execute_reply": "2022-11-04T16:12:32.128710Z",
     "shell.execute_reply.started": "2022-11-04T16:12:32.104624Z"
    },
    "tags": []
   },
   "outputs": [],
   "source": [
    "def Trip_purpose(Trip_purpG):\n",
    "    if Trip_purpG == 1:\n",
    "        return 'Work'\n",
    "    \n",
    "    elif Trip_purpG == 2:\n",
    "        return 'Education'\n",
    "    \n",
    "    elif Trip_purpG == 3:\n",
    "        return 'Business'\n",
    "    \n",
    "    elif Trip_purpG == 4:\n",
    "        return 'Shopping/social/leisure'\n",
    "    \n",
    "    elif Trip_purpG == 5:\n",
    "        return 'Back-home'\n",
    "    \n",
    "    elif Trip_purpG == 6:\n",
    "        return 'Other'\n",
    "    \n",
    "    else:\n",
    "        pass"
   ]
  },
  {
   "cell_type": "code",
   "execution_count": 141,
   "metadata": {
    "execution": {
     "iopub.execute_input": "2022-11-04T16:12:32.135625Z",
     "iopub.status.busy": "2022-11-04T16:12:32.134622Z",
     "iopub.status.idle": "2022-11-04T16:12:32.178391Z",
     "shell.execute_reply": "2022-11-04T16:12:32.175399Z",
     "shell.execute_reply.started": "2022-11-04T16:12:32.135625Z"
    },
    "tags": []
   },
   "outputs": [],
   "source": [
    "df['Trip_Purpose'] = df['Trip_purpG'].apply(Trip_purpose)"
   ]
  },
  {
   "cell_type": "markdown",
   "metadata": {},
   "source": [
    "### Data Filtering"
   ]
  },
  {
   "cell_type": "code",
   "execution_count": 218,
   "metadata": {
    "execution": {
     "iopub.execute_input": "2022-11-04T16:22:01.801926Z",
     "iopub.status.busy": "2022-11-04T16:22:01.800922Z",
     "iopub.status.idle": "2022-11-04T16:22:01.846409Z",
     "shell.execute_reply": "2022-11-04T16:22:01.843139Z",
     "shell.execute_reply.started": "2022-11-04T16:22:01.801926Z"
    },
    "tags": []
   },
   "outputs": [],
   "source": [
    "full = df[df['Trip_made'] == 1]"
   ]
  },
  {
   "cell_type": "code",
   "execution_count": 219,
   "metadata": {
    "execution": {
     "iopub.execute_input": "2022-11-04T16:22:01.850653Z",
     "iopub.status.busy": "2022-11-04T16:22:01.849656Z",
     "iopub.status.idle": "2022-11-04T16:22:01.907445Z",
     "shell.execute_reply": "2022-11-04T16:22:01.905006Z",
     "shell.execute_reply.started": "2022-11-04T16:22:01.850653Z"
    },
    "tags": []
   },
   "outputs": [
    {
     "name": "stderr",
     "output_type": "stream",
     "text": [
      "<ipython-input-219-53a8ed2d1e32>:1: SettingWithCopyWarning: \n",
      "A value is trying to be set on a copy of a slice from a DataFrame\n",
      "\n",
      "See the caveats in the documentation: https://pandas.pydata.org/pandas-docs/stable/user_guide/indexing.html#returning-a-view-versus-a-copy\n",
      "  full.dropna(inplace = True)\n"
     ]
    }
   ],
   "source": [
    "full.dropna(inplace = True)"
   ]
  },
  {
   "cell_type": "code",
   "execution_count": 220,
   "metadata": {
    "execution": {
     "iopub.execute_input": "2022-11-04T16:22:01.911925Z",
     "iopub.status.busy": "2022-11-04T16:22:01.910434Z",
     "iopub.status.idle": "2022-11-04T16:22:01.939464Z",
     "shell.execute_reply": "2022-11-04T16:22:01.936502Z",
     "shell.execute_reply.started": "2022-11-04T16:22:01.911925Z"
    },
    "tags": []
   },
   "outputs": [
    {
     "data": {
      "text/plain": [
       "Index(['index', 'No', 'HH_ID', 'HHsize', 'HHsize5', 'HHinc', 'Ncars', 'P_ID',\n",
       "       'HHrel', 'Age', 'Gender', 'Licence', 'School', 'Job', 'Workdays',\n",
       "       'Workhours', 'Trip_made', 'Trip_ID', 'Trip_purpG', 'Trip_d_P',\n",
       "       'Trip_d_hh', 'Trip_d_mm', 'Trip_d_D', 'Trip_a_P', 'Trip_a_hh',\n",
       "       'Trip_a_mm', 'Trip_a_D', 'Trip_order', 'Trip_final', 'Age_65',\n",
       "       'Car_ownership', 'HHrel_1', 'HHrel_2', 'HHrel_3', 'HHrel_4', 'HHrel_5',\n",
       "       'Gender_DM', 'License_DM', 'Student', 'Job_Specialized', 'Job_Normal',\n",
       "       'Workdays_Full', 'Workhours_1', 'Trip_d_hour_24', 'Trip_a_hour_24',\n",
       "       'Trip_time', 'Trip_Purpose', 'Trip_start', 'Job_Home', 'Age_1020'],\n",
       "      dtype='object')"
      ]
     },
     "execution_count": 220,
     "metadata": {},
     "output_type": "execute_result"
    }
   ],
   "source": [
    "full.columns"
   ]
  },
  {
   "cell_type": "markdown",
   "metadata": {},
   "source": [
    "## Decision Tree\n",
    "* forecasting **trip purpose**\n",
    "* Variables:\n",
    "    * Household Information : \n",
    "    * Household Member's Information :\n",
    "    * Trip Information : \n",
    "* Apply F1-Score as the measurement of the performance"
   ]
  },
  {
   "cell_type": "markdown",
   "metadata": {},
   "source": [
    "### Partitioning dataset into training set / test set"
   ]
  },
  {
   "cell_type": "code",
   "execution_count": 230,
   "metadata": {
    "execution": {
     "iopub.execute_input": "2022-11-04T16:22:14.240043Z",
     "iopub.status.busy": "2022-11-04T16:22:14.240043Z",
     "iopub.status.idle": "2022-11-04T16:22:14.253356Z",
     "shell.execute_reply": "2022-11-04T16:22:14.249929Z",
     "shell.execute_reply.started": "2022-11-04T16:22:14.240043Z"
    },
    "tags": []
   },
   "outputs": [],
   "source": [
    "feature_names = [\n",
    "    'Age_65',\n",
    "    'Trip_time',\n",
    "    #'Car_ownership',\n",
    "    #'HHrel_1', \n",
    "    'HHrel_2', \n",
    "    'HHrel_3',\n",
    "    #'Gender_DM',\n",
    "    #'License_DM',\n",
    "    'Student',\n",
    "    'Job_Specialized',\n",
    "    'Job_Normal',\n",
    "    'Job_Home',\n",
    "    'Workdays_Full',\n",
    "    'Workhours_1',\n",
    "    'Trip_d_hour_24',\n",
    "    'Trip_a_hour_24',\n",
    "    'Trip_start',\n",
    "    'Trip_final'\n",
    "]"
   ]
  },
  {
   "cell_type": "code",
   "execution_count": 231,
   "metadata": {
    "execution": {
     "iopub.execute_input": "2022-11-04T16:22:14.257381Z",
     "iopub.status.busy": "2022-11-04T16:22:14.256364Z",
     "iopub.status.idle": "2022-11-04T16:22:14.283530Z",
     "shell.execute_reply": "2022-11-04T16:22:14.281150Z",
     "shell.execute_reply.started": "2022-11-04T16:22:14.257381Z"
    },
    "tags": []
   },
   "outputs": [],
   "source": [
    "X = full[feature_names]"
   ]
  },
  {
   "cell_type": "code",
   "execution_count": 232,
   "metadata": {
    "execution": {
     "iopub.execute_input": "2022-11-04T16:22:14.288660Z",
     "iopub.status.busy": "2022-11-04T16:22:14.287654Z",
     "iopub.status.idle": "2022-11-04T16:22:14.301266Z",
     "shell.execute_reply": "2022-11-04T16:22:14.298009Z",
     "shell.execute_reply.started": "2022-11-04T16:22:14.287654Z"
    },
    "tags": []
   },
   "outputs": [],
   "source": [
    "y = full['Trip_Purpose']"
   ]
  },
  {
   "cell_type": "code",
   "execution_count": 233,
   "metadata": {
    "execution": {
     "iopub.execute_input": "2022-11-04T16:22:14.306111Z",
     "iopub.status.busy": "2022-11-04T16:22:14.305096Z",
     "iopub.status.idle": "2022-11-04T16:22:14.375089Z",
     "shell.execute_reply": "2022-11-04T16:22:14.372576Z",
     "shell.execute_reply.started": "2022-11-04T16:22:14.306111Z"
    },
    "tags": []
   },
   "outputs": [],
   "source": [
    "X_train, X_test, y_train, y_test = train_test_split(X, y,\n",
    "                                                   test_size = 0.3,\n",
    "                                                   random_state = 42,\n",
    "                                                   stratify = y)"
   ]
  },
  {
   "cell_type": "markdown",
   "metadata": {},
   "source": [
    "### Constructing Tree"
   ]
  },
  {
   "cell_type": "code",
   "execution_count": 234,
   "metadata": {
    "execution": {
     "iopub.execute_input": "2022-11-04T16:22:14.379257Z",
     "iopub.status.busy": "2022-11-04T16:22:14.377080Z",
     "iopub.status.idle": "2022-11-04T16:22:14.391497Z",
     "shell.execute_reply": "2022-11-04T16:22:14.388367Z",
     "shell.execute_reply.started": "2022-11-04T16:22:14.379257Z"
    },
    "tags": []
   },
   "outputs": [],
   "source": [
    "DT = tree.DecisionTreeClassifier(criterion = 'gini', max_depth = 7, random_state = 42)"
   ]
  },
  {
   "cell_type": "markdown",
   "metadata": {},
   "source": [
    "### Learning"
   ]
  },
  {
   "cell_type": "code",
   "execution_count": 235,
   "metadata": {
    "execution": {
     "iopub.execute_input": "2022-11-04T16:22:14.394899Z",
     "iopub.status.busy": "2022-11-04T16:22:14.394899Z",
     "iopub.status.idle": "2022-11-04T16:22:14.500331Z",
     "shell.execute_reply": "2022-11-04T16:22:14.497052Z",
     "shell.execute_reply.started": "2022-11-04T16:22:14.394899Z"
    },
    "tags": []
   },
   "outputs": [
    {
     "data": {
      "text/plain": [
       "DecisionTreeClassifier(max_depth=7, random_state=42)"
      ]
     },
     "execution_count": 235,
     "metadata": {},
     "output_type": "execute_result"
    }
   ],
   "source": [
    "DT.fit(X_train, y_train)"
   ]
  },
  {
   "cell_type": "markdown",
   "metadata": {},
   "source": [
    "### Plotting Tree"
   ]
  },
  {
   "cell_type": "markdown",
   "metadata": {
    "execution": {
     "iopub.execute_input": "2022-11-04T15:22:00.858091Z",
     "iopub.status.busy": "2022-11-04T15:22:00.857088Z",
     "iopub.status.idle": "2022-11-04T15:22:05.139705Z",
     "shell.execute_reply": "2022-11-04T15:22:05.135714Z",
     "shell.execute_reply.started": "2022-11-04T15:22:00.858091Z"
    },
    "tags": []
   },
   "source": [
    "dot_data = export_graphviz(DT, out_file = None, feature_names = feature_names,\n",
    "class_names = ['Work', 'Education', 'Business', 'Shopping/social/leisure', 'Back-home', 'Other'],\n",
    "filled = True, rounded = True,\n",
    "special_characters = True)\n",
    "\n",
    "graph = graph_from_dot_data(dot_data)\n",
    "graph.write_png('DT.png')"
   ]
  },
  {
   "cell_type": "markdown",
   "metadata": {},
   "source": [
    "### Evaluation"
   ]
  },
  {
   "cell_type": "code",
   "execution_count": 236,
   "metadata": {
    "execution": {
     "iopub.execute_input": "2022-11-04T16:22:14.504963Z",
     "iopub.status.busy": "2022-11-04T16:22:14.502642Z",
     "iopub.status.idle": "2022-11-04T16:22:14.532846Z",
     "shell.execute_reply": "2022-11-04T16:22:14.529535Z",
     "shell.execute_reply.started": "2022-11-04T16:22:14.503647Z"
    },
    "tags": []
   },
   "outputs": [],
   "source": [
    "y_pred = DT.predict(X_test)"
   ]
  },
  {
   "cell_type": "code",
   "execution_count": 237,
   "metadata": {
    "execution": {
     "iopub.execute_input": "2022-11-04T16:22:14.535239Z",
     "iopub.status.busy": "2022-11-04T16:22:14.533953Z",
     "iopub.status.idle": "2022-11-04T16:22:14.562617Z",
     "shell.execute_reply": "2022-11-04T16:22:14.559157Z",
     "shell.execute_reply.started": "2022-11-04T16:22:14.535239Z"
    },
    "tags": []
   },
   "outputs": [
    {
     "data": {
      "text/plain": [
       "array(['Back-home', 'Shopping/social/leisure', 'Back-home', ..., 'Work',\n",
       "       'Back-home', 'Work'], dtype=object)"
      ]
     },
     "execution_count": 237,
     "metadata": {},
     "output_type": "execute_result"
    }
   ],
   "source": [
    "y_pred"
   ]
  },
  {
   "cell_type": "markdown",
   "metadata": {},
   "source": [
    "### Confusion Matrix & Measurements"
   ]
  },
  {
   "cell_type": "code",
   "execution_count": 238,
   "metadata": {
    "execution": {
     "iopub.execute_input": "2022-11-04T16:22:14.573283Z",
     "iopub.status.busy": "2022-11-04T16:22:14.572270Z",
     "iopub.status.idle": "2022-11-04T16:22:15.140031Z",
     "shell.execute_reply": "2022-11-04T16:22:15.135313Z",
     "shell.execute_reply.started": "2022-11-04T16:22:14.573283Z"
    },
    "tags": []
   },
   "outputs": [
    {
     "name": "stdout",
     "output_type": "stream",
     "text": [
      "[[2731   27    0    3   24    7]\n",
      " [   2  192    0    4   18    9]\n",
      " [   0    1    5    0    1    0]\n",
      " [   5   42    0    2   31   28]\n",
      " [  10   48    0    3  180   15]\n",
      " [   8   17    0    5    6 2666]]\n",
      "\n",
      "======================================================================\n",
      "\n",
      "                         precision    recall  f1-score   support\n",
      "\n",
      "              Back-home       0.99      0.98      0.98      2792\n",
      "               Business       0.59      0.85      0.70       225\n",
      "              Education       1.00      0.71      0.83         7\n",
      "                  Other       0.12      0.02      0.03       108\n",
      "Shopping/social/leisure       0.69      0.70      0.70       256\n",
      "                   Work       0.98      0.99      0.98      2702\n",
      "\n",
      "               accuracy                           0.95      6090\n",
      "              macro avg       0.73      0.71      0.70      6090\n",
      "           weighted avg       0.94      0.95      0.94      6090\n",
      "\n"
     ]
    }
   ],
   "source": [
    "# Confusion matrix & measurements\n",
    "print(confusion_matrix(y_test, y_pred))\n",
    "print('')\n",
    "print('=' * 70)\n",
    "print('')\n",
    "print(classification_report(y_test, y_pred))"
   ]
  }
 ],
 "metadata": {
  "kernelspec": {
   "display_name": "Python 3",
   "language": "python",
   "name": "python3"
  },
  "language_info": {
   "codemirror_mode": {
    "name": "ipython",
    "version": 3
   },
   "file_extension": ".py",
   "mimetype": "text/x-python",
   "name": "python",
   "nbconvert_exporter": "python",
   "pygments_lexer": "ipython3",
   "version": "3.8.5"
  }
 },
 "nbformat": 4,
 "nbformat_minor": 5
}
