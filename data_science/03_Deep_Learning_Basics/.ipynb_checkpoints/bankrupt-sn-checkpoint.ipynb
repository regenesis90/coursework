{
 "cells": [
  {
   "cell_type": "markdown",
   "metadata": {},
   "source": [
    "# Single Neuron with Bankrupt Dataset"
   ]
  },
  {
   "cell_type": "markdown",
   "metadata": {
    "id": "gqyxFImLQNrK"
   },
   "source": [
    "# Bankrupt data\n",
    "\n"
   ]
  },
  {
   "cell_type": "code",
   "execution_count": 1,
   "metadata": {
    "execution": {
     "iopub.execute_input": "2022-11-05T03:04:14.626543Z",
     "iopub.status.busy": "2022-11-05T03:04:14.625525Z",
     "iopub.status.idle": "2022-11-05T03:04:18.254387Z",
     "shell.execute_reply": "2022-11-05T03:04:18.254387Z",
     "shell.execute_reply.started": "2022-11-05T03:04:14.625525Z"
    },
    "executionInfo": {
     "elapsed": 2169,
     "status": "ok",
     "timestamp": 1628401492138,
     "user": {
      "displayName": "Seonghyun Jeong",
      "photoUrl": "",
      "userId": "08974404969824927112"
     },
     "user_tz": -540
    },
    "id": "w_2GuAQaQNrM",
    "tags": []
   },
   "outputs": [],
   "source": [
    "# Importing the libraries\n",
    "from numpy import loadtxt\n",
    "import numpy as np\n",
    "import tensorflow as tf\n",
    "from tensorflow import keras\n",
    "from tensorflow.keras import layers\n",
    "\n",
    "#from google.colab import drive\n",
    "#drive.mount('/content/drive')"
   ]
  },
  {
   "cell_type": "markdown",
   "metadata": {},
   "source": [
    "# Data\n",
    "* Variables\n",
    "    * 현금보유지수(현금/총부채)\n",
    "    * 자산순수익지수(순수익/총자산)\n",
    "    * 유동지수1(유동자산/유동부채)\n",
    "    * 유동지수2(유동자산/매출액)\n",
    "    * 파산여부(파산 : 0, 비파산 : 1)"
   ]
  },
  {
   "cell_type": "code",
   "execution_count": 2,
   "metadata": {
    "colab": {
     "base_uri": "https://localhost:8080/"
    },
    "execution": {
     "iopub.execute_input": "2022-11-05T03:04:25.632632Z",
     "iopub.status.busy": "2022-11-05T03:04:25.632632Z",
     "iopub.status.idle": "2022-11-05T03:04:25.663104Z",
     "shell.execute_reply": "2022-11-05T03:04:25.661112Z",
     "shell.execute_reply.started": "2022-11-05T03:04:25.632632Z"
    },
    "executionInfo": {
     "elapsed": 249,
     "status": "ok",
     "timestamp": 1628402244354,
     "user": {
      "displayName": "Seonghyun Jeong",
      "photoUrl": "",
      "userId": "08974404969824927112"
     },
     "user_tz": -540
    },
    "id": "YXioU5XmQNrN",
    "outputId": "07a809c2-5158-4b81-bfa0-83e0178652d0",
    "tags": []
   },
   "outputs": [
    {
     "name": "stdout",
     "output_type": "stream",
     "text": [
      "(46, 4)\n",
      "(46,)\n"
     ]
    }
   ],
   "source": [
    "# load the dataset\n",
    "#dataset = loadtxt('/content/drive/MyDrive/bankruptTrain.csv', delimiter=',')\n",
    "\n",
    "dataset = loadtxt('bankruptTrain.csv', delimiter = ',')\n",
    "\n",
    "# split into input (X) and output (y) variables\n",
    "train_x = dataset[:, 0:4] # 설명변수\n",
    "train_y = dataset[:, 4] # 파산여부를 나타내주는 y변수\n",
    "\n",
    "print(train_x.shape) #> 차원 : 4개 변수, 46개 관측값\n",
    "print(train_y.shape) #> 차원 : 1개 변수(y), 46개 관측값"
   ]
  },
  {
   "cell_type": "code",
   "execution_count": 3,
   "metadata": {
    "colab": {
     "base_uri": "https://localhost:8080/"
    },
    "execution": {
     "iopub.execute_input": "2022-11-05T03:04:42.766591Z",
     "iopub.status.busy": "2022-11-05T03:04:42.766591Z",
     "iopub.status.idle": "2022-11-05T03:04:42.934710Z",
     "shell.execute_reply": "2022-11-05T03:04:42.933713Z",
     "shell.execute_reply.started": "2022-11-05T03:04:42.766591Z"
    },
    "executionInfo": {
     "elapsed": 248,
     "status": "ok",
     "timestamp": 1628402115577,
     "user": {
      "displayName": "Seonghyun Jeong",
      "photoUrl": "",
      "userId": "08974404969824927112"
     },
     "user_tz": -540
    },
    "id": "CadI8OT-QNrO",
    "outputId": "af8e0c96-e0a1-4603-f9b6-cc1f6b75e81c",
    "tags": []
   },
   "outputs": [
    {
     "name": "stdout",
     "output_type": "stream",
     "text": [
      "Model: \"sequential\"\n",
      "_________________________________________________________________\n",
      " Layer (type)                Output Shape              Param #   \n",
      "=================================================================\n",
      " dense (Dense)               (None, 1)                 5         \n",
      "                                                                 \n",
      "=================================================================\n",
      "Total params: 5\n",
      "Trainable params: 5\n",
      "Non-trainable params: 0\n",
      "_________________________________________________________________\n"
     ]
    }
   ],
   "source": [
    "# define the keras model : 싱글 뉴런 모델을 만들기\n",
    "model = tf.keras.models.Sequential([\n",
    "    tf.keras.layers.Dense(1, input_shape = (4, ), activation = 'sigmoid')\n",
    "])\n",
    "\n",
    "# 레이어를 1개 층만 쌓았다 : tf.keras.layers.Dense()\n",
    "## 첫 arg인 1 : Output의 차원을 나타냄. target 변수가 0 또는 1 변수\n",
    "## input_shape : 투입하는 변수, 인풋 차원을 설정해줌. 4는 변수의 개수를 의미한다.\n",
    "## 활성화 함수 : 이산변수, 로지스틱분석이므로 시그모이드 사용\n",
    "\n",
    "model.summary()"
   ]
  },
  {
   "cell_type": "code",
   "execution_count": 13,
   "metadata": {
    "colab": {
     "base_uri": "https://localhost:8080/"
    },
    "execution": {
     "iopub.execute_input": "2022-11-05T03:24:52.729780Z",
     "iopub.status.busy": "2022-11-05T03:24:52.729780Z",
     "iopub.status.idle": "2022-11-05T03:24:56.333653Z",
     "shell.execute_reply": "2022-11-05T03:24:56.327665Z",
     "shell.execute_reply.started": "2022-11-05T03:24:52.729780Z"
    },
    "executionInfo": {
     "elapsed": 41621,
     "status": "ok",
     "timestamp": 1628402159368,
     "user": {
      "displayName": "Seonghyun Jeong",
      "photoUrl": "",
      "userId": "08974404969824927112"
     },
     "user_tz": -540
    },
    "id": "VwglJQAIQNrO",
    "outputId": "0cfe87ba-c6c8-47d8-b5a2-3d7646795991",
    "tags": []
   },
   "outputs": [
    {
     "name": "stdout",
     "output_type": "stream",
     "text": [
      "Epoch 1/100\n",
      "5/5 [==============================] - 0s 4ms/step - loss: 0.3013 - accuracy: 0.9130\n",
      "Epoch 2/100\n",
      "5/5 [==============================] - 0s 3ms/step - loss: 0.3022 - accuracy: 0.9130\n",
      "Epoch 3/100\n",
      "5/5 [==============================] - 0s 3ms/step - loss: 0.3021 - accuracy: 0.9348\n",
      "Epoch 4/100\n",
      "5/5 [==============================] - 0s 3ms/step - loss: 0.3029 - accuracy: 0.9348\n",
      "Epoch 5/100\n",
      "5/5 [==============================] - 0s 5ms/step - loss: 0.3024 - accuracy: 0.9130\n",
      "Epoch 6/100\n",
      "5/5 [==============================] - 0s 3ms/step - loss: 0.3029 - accuracy: 0.9130\n",
      "Epoch 7/100\n",
      "5/5 [==============================] - 0s 8ms/step - loss: 0.3018 - accuracy: 0.9130\n",
      "Epoch 8/100\n",
      "5/5 [==============================] - 0s 6ms/step - loss: 0.3023 - accuracy: 0.9130\n",
      "Epoch 9/100\n",
      "5/5 [==============================] - 0s 6ms/step - loss: 0.3030 - accuracy: 0.9130\n",
      "Epoch 10/100\n",
      "5/5 [==============================] - 0s 2ms/step - loss: 0.3027 - accuracy: 0.9130\n",
      "Epoch 11/100\n",
      "5/5 [==============================] - 0s 3ms/step - loss: 0.3025 - accuracy: 0.9130\n",
      "Epoch 12/100\n",
      "5/5 [==============================] - 0s 5ms/step - loss: 0.3019 - accuracy: 0.9130\n",
      "Epoch 13/100\n",
      "5/5 [==============================] - 0s 3ms/step - loss: 0.3026 - accuracy: 0.9130\n",
      "Epoch 14/100\n",
      "5/5 [==============================] - 0s 6ms/step - loss: 0.3021 - accuracy: 0.9130\n",
      "Epoch 15/100\n",
      "5/5 [==============================] - 0s 6ms/step - loss: 0.3019 - accuracy: 0.9130\n",
      "Epoch 16/100\n",
      "5/5 [==============================] - 0s 7ms/step - loss: 0.3030 - accuracy: 0.9130\n",
      "Epoch 17/100\n",
      "5/5 [==============================] - 0s 5ms/step - loss: 0.3017 - accuracy: 0.9348\n",
      "Epoch 18/100\n",
      "5/5 [==============================] - 0s 5ms/step - loss: 0.3019 - accuracy: 0.9130\n",
      "Epoch 19/100\n",
      "5/5 [==============================] - 0s 8ms/step - loss: 0.3029 - accuracy: 0.9130\n",
      "Epoch 20/100\n",
      "5/5 [==============================] - 0s 4ms/step - loss: 0.3016 - accuracy: 0.9348\n",
      "Epoch 21/100\n",
      "5/5 [==============================] - 0s 6ms/step - loss: 0.3023 - accuracy: 0.9130\n",
      "Epoch 22/100\n",
      "5/5 [==============================] - 0s 7ms/step - loss: 0.3015 - accuracy: 0.9348\n",
      "Epoch 23/100\n",
      "5/5 [==============================] - 0s 5ms/step - loss: 0.3026 - accuracy: 0.9348\n",
      "Epoch 24/100\n",
      "5/5 [==============================] - 0s 4ms/step - loss: 0.3020 - accuracy: 0.9348\n",
      "Epoch 25/100\n",
      "5/5 [==============================] - 0s 2ms/step - loss: 0.3019 - accuracy: 0.9130\n",
      "Epoch 26/100\n",
      "5/5 [==============================] - 0s 1ms/step - loss: 0.3029 - accuracy: 0.9348\n",
      "Epoch 27/100\n",
      "5/5 [==============================] - 0s 2ms/step - loss: 0.3018 - accuracy: 0.9130\n",
      "Epoch 28/100\n",
      "5/5 [==============================] - 0s 4ms/step - loss: 0.3013 - accuracy: 0.9130\n",
      "Epoch 29/100\n",
      "5/5 [==============================] - 0s 3ms/step - loss: 0.3032 - accuracy: 0.9130\n",
      "Epoch 30/100\n",
      "5/5 [==============================] - 0s 2ms/step - loss: 0.3017 - accuracy: 0.9130\n",
      "Epoch 31/100\n",
      "5/5 [==============================] - 0s 5ms/step - loss: 0.3017 - accuracy: 0.9130\n",
      "Epoch 32/100\n",
      "5/5 [==============================] - ETA: 0s - loss: 0.3931 - accuracy: 0.80 - 0s 5ms/step - loss: 0.3026 - accuracy: 0.9130\n",
      "Epoch 33/100\n",
      "5/5 [==============================] - 0s 5ms/step - loss: 0.3022 - accuracy: 0.9130\n",
      "Epoch 34/100\n",
      "5/5 [==============================] - 0s 6ms/step - loss: 0.3014 - accuracy: 0.9348\n",
      "Epoch 35/100\n",
      "5/5 [==============================] - 0s 7ms/step - loss: 0.3031 - accuracy: 0.9348\n",
      "Epoch 36/100\n",
      "5/5 [==============================] - ETA: 0s - loss: 0.1726 - accuracy: 1.00 - 0s 7ms/step - loss: 0.3047 - accuracy: 0.9130\n",
      "Epoch 37/100\n",
      "5/5 [==============================] - 0s 6ms/step - loss: 0.3026 - accuracy: 0.9130\n",
      "Epoch 38/100\n",
      "5/5 [==============================] - 0s 7ms/step - loss: 0.3020 - accuracy: 0.9130\n",
      "Epoch 39/100\n",
      "5/5 [==============================] - 0s 7ms/step - loss: 0.3025 - accuracy: 0.9130\n",
      "Epoch 40/100\n",
      "5/5 [==============================] - 0s 2ms/step - loss: 0.3039 - accuracy: 0.9130\n",
      "Epoch 41/100\n",
      "5/5 [==============================] - 0s 3ms/step - loss: 0.3016 - accuracy: 0.9130\n",
      "Epoch 42/100\n",
      "5/5 [==============================] - 0s 8ms/step - loss: 0.3022 - accuracy: 0.9130\n",
      "Epoch 43/100\n",
      "5/5 [==============================] - 0s 3ms/step - loss: 0.3026 - accuracy: 0.9130\n",
      "Epoch 44/100\n",
      "5/5 [==============================] - 0s 7ms/step - loss: 0.3022 - accuracy: 0.9130\n",
      "Epoch 45/100\n",
      "5/5 [==============================] - 0s 4ms/step - loss: 0.3016 - accuracy: 0.9348\n",
      "Epoch 46/100\n",
      "5/5 [==============================] - 0s 6ms/step - loss: 0.3022 - accuracy: 0.9348\n",
      "Epoch 47/100\n",
      "5/5 [==============================] - 0s 5ms/step - loss: 0.3019 - accuracy: 0.9130\n",
      "Epoch 48/100\n",
      "5/5 [==============================] - 0s 6ms/step - loss: 0.3012 - accuracy: 0.9130\n",
      "Epoch 49/100\n",
      "5/5 [==============================] - 0s 7ms/step - loss: 0.3027 - accuracy: 0.9348\n",
      "Epoch 50/100\n",
      "5/5 [==============================] - ETA: 0s - loss: 0.1375 - accuracy: 1.00 - 0s 7ms/step - loss: 0.3020 - accuracy: 0.9130\n",
      "Epoch 51/100\n",
      "5/5 [==============================] - ETA: 0s - loss: 0.3309 - accuracy: 0.90 - 0s 5ms/step - loss: 0.3024 - accuracy: 0.9130\n",
      "Epoch 52/100\n",
      "5/5 [==============================] - 0s 7ms/step - loss: 0.3030 - accuracy: 0.9130\n",
      "Epoch 53/100\n",
      "5/5 [==============================] - 0s 5ms/step - loss: 0.3027 - accuracy: 0.9130\n",
      "Epoch 54/100\n",
      "5/5 [==============================] - ETA: 0s - loss: 0.1445 - accuracy: 1.00 - 0s 7ms/step - loss: 0.3013 - accuracy: 0.9130\n",
      "Epoch 55/100\n",
      "5/5 [==============================] - 0s 2ms/step - loss: 0.3027 - accuracy: 0.9348\n",
      "Epoch 56/100\n",
      "5/5 [==============================] - 0s 4ms/step - loss: 0.3039 - accuracy: 0.9130\n",
      "Epoch 57/100\n",
      "5/5 [==============================] - 0s 6ms/step - loss: 0.3023 - accuracy: 0.9130\n",
      "Epoch 58/100\n",
      "5/5 [==============================] - 0s 4ms/step - loss: 0.3020 - accuracy: 0.9130\n",
      "Epoch 59/100\n",
      "5/5 [==============================] - 0s 7ms/step - loss: 0.3017 - accuracy: 0.9130\n",
      "Epoch 60/100\n",
      "5/5 [==============================] - 0s 4ms/step - loss: 0.3012 - accuracy: 0.9130\n",
      "Epoch 61/100\n",
      "5/5 [==============================] - 0s 3ms/step - loss: 0.3017 - accuracy: 0.9130\n",
      "Epoch 62/100\n",
      "5/5 [==============================] - 0s 4ms/step - loss: 0.3017 - accuracy: 0.9130\n",
      "Epoch 63/100\n",
      "5/5 [==============================] - 0s 2ms/step - loss: 0.3015 - accuracy: 0.9130\n",
      "Epoch 64/100\n",
      "5/5 [==============================] - 0s 4ms/step - loss: 0.3019 - accuracy: 0.9348\n",
      "Epoch 65/100\n",
      "5/5 [==============================] - 0s 2ms/step - loss: 0.3046 - accuracy: 0.9348\n",
      "Epoch 66/100\n",
      "5/5 [==============================] - 0s 5ms/step - loss: 0.3023 - accuracy: 0.9348\n",
      "Epoch 67/100\n",
      "5/5 [==============================] - 0s 2ms/step - loss: 0.3020 - accuracy: 0.9130\n",
      "Epoch 68/100\n",
      "5/5 [==============================] - 0s 8ms/step - loss: 0.3028 - accuracy: 0.9130\n",
      "Epoch 69/100\n",
      "5/5 [==============================] - 0s 3ms/step - loss: 0.3013 - accuracy: 0.9130\n",
      "Epoch 70/100\n",
      "5/5 [==============================] - 0s 4ms/step - loss: 0.3013 - accuracy: 0.9130\n",
      "Epoch 71/100\n",
      "5/5 [==============================] - 0s 6ms/step - loss: 0.3028 - accuracy: 0.9130\n",
      "Epoch 72/100\n",
      "5/5 [==============================] - 0s 2ms/step - loss: 0.3019 - accuracy: 0.9130\n",
      "Epoch 73/100\n",
      "5/5 [==============================] - 0s 6ms/step - loss: 0.3019 - accuracy: 0.9130\n",
      "Epoch 74/100\n",
      "5/5 [==============================] - 0s 5ms/step - loss: 0.3032 - accuracy: 0.9348\n",
      "Epoch 75/100\n",
      "5/5 [==============================] - 0s 3ms/step - loss: 0.3034 - accuracy: 0.9130\n",
      "Epoch 76/100\n",
      "5/5 [==============================] - 0s 6ms/step - loss: 0.3027 - accuracy: 0.9348\n",
      "Epoch 77/100\n",
      "5/5 [==============================] - 0s 2ms/step - loss: 0.3029 - accuracy: 0.9348\n",
      "Epoch 78/100\n",
      "5/5 [==============================] - 0s 3ms/step - loss: 0.3026 - accuracy: 0.9348\n",
      "Epoch 79/100\n",
      "5/5 [==============================] - 0s 4ms/step - loss: 0.3023 - accuracy: 0.9130\n",
      "Epoch 80/100\n",
      "5/5 [==============================] - 0s 6ms/step - loss: 0.3016 - accuracy: 0.9130\n",
      "Epoch 81/100\n",
      "5/5 [==============================] - 0s 2ms/step - loss: 0.3015 - accuracy: 0.9130\n",
      "Epoch 82/100\n",
      "5/5 [==============================] - 0s 2ms/step - loss: 0.3023 - accuracy: 0.9130\n",
      "Epoch 83/100\n",
      "5/5 [==============================] - 0s 3ms/step - loss: 0.3020 - accuracy: 0.9348\n",
      "Epoch 84/100\n",
      "5/5 [==============================] - 0s 7ms/step - loss: 0.3029 - accuracy: 0.9130\n",
      "Epoch 85/100\n",
      "5/5 [==============================] - ETA: 0s - loss: 0.2883 - accuracy: 0.90 - 0s 6ms/step - loss: 0.3013 - accuracy: 0.9348\n",
      "Epoch 86/100\n",
      "5/5 [==============================] - 0s 6ms/step - loss: 0.3016 - accuracy: 0.9348\n",
      "Epoch 87/100\n",
      "5/5 [==============================] - 0s 4ms/step - loss: 0.3019 - accuracy: 0.9348\n",
      "Epoch 88/100\n",
      "5/5 [==============================] - 0s 5ms/step - loss: 0.3025 - accuracy: 0.9348\n",
      "Epoch 89/100\n",
      "5/5 [==============================] - 0s 7ms/step - loss: 0.3028 - accuracy: 0.9130\n",
      "Epoch 90/100\n",
      "5/5 [==============================] - 0s 8ms/step - loss: 0.3061 - accuracy: 0.9130\n",
      "Epoch 91/100\n",
      "5/5 [==============================] - 0s 2ms/step - loss: 0.3021 - accuracy: 0.9348\n",
      "Epoch 92/100\n",
      "5/5 [==============================] - 0s 4ms/step - loss: 0.3031 - accuracy: 0.9348\n",
      "Epoch 93/100\n",
      "5/5 [==============================] - 0s 6ms/step - loss: 0.3030 - accuracy: 0.9348\n",
      "Epoch 94/100\n",
      "5/5 [==============================] - 0s 2ms/step - loss: 0.3019 - accuracy: 0.9348\n",
      "Epoch 95/100\n",
      "5/5 [==============================] - 0s 5ms/step - loss: 0.3033 - accuracy: 0.9348\n",
      "Epoch 96/100\n",
      "5/5 [==============================] - 0s 3ms/step - loss: 0.3025 - accuracy: 0.9348\n",
      "Epoch 97/100\n",
      "5/5 [==============================] - 0s 4ms/step - loss: 0.3026 - accuracy: 0.9130\n",
      "Epoch 98/100\n",
      "5/5 [==============================] - 0s 5ms/step - loss: 0.3025 - accuracy: 0.9348\n",
      "Epoch 99/100\n",
      "5/5 [==============================] - 0s 3ms/step - loss: 0.3026 - accuracy: 0.9348\n",
      "Epoch 100/100\n",
      "5/5 [==============================] - 0s 1ms/step - loss: 0.3030 - accuracy: 0.9130\n"
     ]
    },
    {
     "data": {
      "text/plain": [
       "<keras.callbacks.History at 0x24f46fdfd00>"
      ]
     },
     "execution_count": 13,
     "metadata": {},
     "output_type": "execute_result"
    }
   ],
   "source": [
    "# compile the keras model : 컴파일링 + 트레이닝 하는 과정\n",
    "\n",
    "model.compile(loss = 'binary_crossentropy', # 손실함수 : Cross Entropy 를 사용한다. 로지스틱 추정을 하므로, 이진분류문제를 판단하려면 이걸 써야 한다. == 즉, MLE 쓴다는 거.\n",
    "              # Likelihood 최대화 방법론과 cross entropy 최소화는 같다.\n",
    "              optimizer = keras.optimizers.SGD(0.1), # Gradient Descendent 관련이다. Stochastic Gradient Descent를 쓴거다. 오후엔 더 다양한 방식을 볼거다.\n",
    "              # 0.1이 바로 Learnin Rate에타. 이건 몇번 돌려보고 괜찮은 값을 설정한거다. 시행착오를 좀 겪어야 한다.\n",
    "              metrics = ['accuracy']) # 정확도를 보겠다는 의미다. 없어도 무관하긴 하지만.\n",
    "\n",
    "# fit the keras model on the dataset : 모델을 훈련시킨다. epoch : \n",
    "model.fit(train_x, train_y, epochs = 100, batch_size = 10)"
   ]
  },
  {
   "cell_type": "code",
   "execution_count": 14,
   "metadata": {
    "colab": {
     "base_uri": "https://localhost:8080/"
    },
    "execution": {
     "iopub.execute_input": "2022-11-05T03:25:09.639423Z",
     "iopub.status.busy": "2022-11-05T03:25:09.639423Z",
     "iopub.status.idle": "2022-11-05T03:25:09.902095Z",
     "shell.execute_reply": "2022-11-05T03:25:09.900588Z",
     "shell.execute_reply.started": "2022-11-05T03:25:09.639423Z"
    },
    "executionInfo": {
     "elapsed": 264,
     "status": "ok",
     "timestamp": 1628402704843,
     "user": {
      "displayName": "Seonghyun Jeong",
      "photoUrl": "",
      "userId": "08974404969824927112"
     },
     "user_tz": -540
    },
    "id": "JcYaXWhkQNrP",
    "outputId": "4c28a83d-4ab7-4806-83db-e8cfdb60b43a",
    "tags": []
   },
   "outputs": [
    {
     "name": "stdout",
     "output_type": "stream",
     "text": [
      "WARNING:tensorflow:5 out of the last 7 calls to <function Model.make_test_function.<locals>.test_function at 0x0000024F46F97820> triggered tf.function retracing. Tracing is expensive and the excessive number of tracings could be due to (1) creating @tf.function repeatedly in a loop, (2) passing tensors with different shapes, (3) passing Python objects instead of tensors. For (1), please define your @tf.function outside of the loop. For (2), @tf.function has experimental_relax_shapes=True option that relaxes argument shapes that can avoid unnecessary retracing. For (3), please refer to https://www.tensorflow.org/guide/function#controlling_retracing and https://www.tensorflow.org/api_docs/python/tf/function for  more details.\n",
      "2/2 [==============================] - 0s 2ms/step - loss: 0.3008 - accuracy: 0.9130\n",
      "Accuracy: 91.30\n"
     ]
    }
   ],
   "source": [
    "# 위 셀에서 트레이닝 시, 0.3에서 Loss가 더 떨어지지 않으므로, 이 시점에서 최적화가 되었다고 본다.\n",
    "\n",
    "# evaluate the keras model\n",
    "_, accuracy = model.evaluate(train_x, train_y, verbose = 1) \n",
    "\n",
    "print('Accuracy: %.2f' % (accuracy * 100))"
   ]
  },
  {
   "cell_type": "code",
   "execution_count": 15,
   "metadata": {
    "colab": {
     "base_uri": "https://localhost:8080/"
    },
    "execution": {
     "iopub.execute_input": "2022-11-05T03:25:20.667724Z",
     "iopub.status.busy": "2022-11-05T03:25:20.667724Z",
     "iopub.status.idle": "2022-11-05T03:25:20.688555Z",
     "shell.execute_reply": "2022-11-05T03:25:20.687593Z",
     "shell.execute_reply.started": "2022-11-05T03:25:20.667724Z"
    },
    "executionInfo": {
     "elapsed": 241,
     "status": "ok",
     "timestamp": 1628402321360,
     "user": {
      "displayName": "Seonghyun Jeong",
      "photoUrl": "",
      "userId": "08974404969824927112"
     },
     "user_tz": -540
    },
    "id": "K6tabNLngG96",
    "outputId": "f905d7fa-2a8a-49c2-84e5-f8dd818f8f9e",
    "tags": []
   },
   "outputs": [
    {
     "name": "stdout",
     "output_type": "stream",
     "text": [
      "[-4.629543]\n",
      "[[ 4.4439087]\n",
      " [ 1.961412 ]\n",
      " [ 3.1349044]\n",
      " [-3.010088 ]]\n"
     ]
    }
   ],
   "source": [
    "print(model.layers[0].get_weights()[1]) # bias. 상수항\n",
    "print(model.layers[0].get_weights()[0]) # weights. 각 변수의 weight. 계수값이다."
   ]
  },
  {
   "cell_type": "code",
   "execution_count": 11,
   "metadata": {
    "colab": {
     "base_uri": "https://localhost:8080/"
    },
    "execution": {
     "iopub.execute_input": "2022-11-05T03:20:26.715291Z",
     "iopub.status.busy": "2022-11-05T03:20:26.715291Z",
     "iopub.status.idle": "2022-11-05T03:20:26.730346Z",
     "shell.execute_reply": "2022-11-05T03:20:26.729363Z",
     "shell.execute_reply.started": "2022-11-05T03:20:26.715291Z"
    },
    "executionInfo": {
     "elapsed": 252,
     "status": "ok",
     "timestamp": 1628402916703,
     "user": {
      "displayName": "Seonghyun Jeong",
      "photoUrl": "",
      "userId": "08974404969824927112"
     },
     "user_tz": -540
    },
    "id": "p3A02sxqQNrP",
    "outputId": "87ce367d-cfa8-4b68-8b64-782f58b46ed9",
    "tags": []
   },
   "outputs": [
    {
     "name": "stdout",
     "output_type": "stream",
     "text": [
      "(32, 4)\n",
      "(32,)\n"
     ]
    }
   ],
   "source": [
    "# load test data\n",
    "\n",
    "# Train 데이터에 대한 과적합이 없었는지 검증하기 위해 Test set으로 같은 모델을 돌려 검증해보도록 한다.\n",
    "\n",
    "#dataset_test = loadtxt('/content/drive/MyDrive/bankruptTest.csv', delimiter=',')\n",
    "dataset_test = loadtxt('bankruptTest.csv', delimiter = ',')\n",
    "\n",
    "# split into input (X) and output (y) variables\n",
    "test_x = dataset_test[:, 0:4]\n",
    "test_y = dataset_test[:, 4]\n",
    "\n",
    "print(test_x.shape)\n",
    "print(test_y.shape)"
   ]
  },
  {
   "cell_type": "code",
   "execution_count": 12,
   "metadata": {
    "colab": {
     "base_uri": "https://localhost:8080/"
    },
    "execution": {
     "iopub.execute_input": "2022-11-05T03:20:26.733342Z",
     "iopub.status.busy": "2022-11-05T03:20:26.731343Z",
     "iopub.status.idle": "2022-11-05T03:20:26.856323Z",
     "shell.execute_reply": "2022-11-05T03:20:26.855322Z",
     "shell.execute_reply.started": "2022-11-05T03:20:26.733342Z"
    },
    "executionInfo": {
     "elapsed": 340,
     "status": "ok",
     "timestamp": 1628402918309,
     "user": {
      "displayName": "Seonghyun Jeong",
      "photoUrl": "",
      "userId": "08974404969824927112"
     },
     "user_tz": -540
    },
    "id": "FpQ5wM28QNrP",
    "outputId": "ec5edb27-1488-45ef-eac6-2c08a3092faa",
    "tags": []
   },
   "outputs": [
    {
     "name": "stdout",
     "output_type": "stream",
     "text": [
      "1/1 [==============================] - 0s 72ms/step - loss: 0.2699 - accuracy: 0.9062\n"
     ]
    },
    {
     "data": {
      "text/plain": [
       "[0.26985278725624084, 0.90625]"
      ]
     },
     "execution_count": 12,
     "metadata": {},
     "output_type": "execute_result"
    }
   ],
   "source": [
    "test_results = model.evaluate(test_x, test_y, verbose = 1)\n",
    "test_results # Loss, Accuracy가 비슷하니 딱히 과적합이 일어나지 않았다."
   ]
  }
 ],
 "metadata": {
  "colab": {
   "collapsed_sections": [],
   "name": "bankrupt-sn.ipynb",
   "provenance": []
  },
  "kernelspec": {
   "display_name": "Python 3",
   "language": "python",
   "name": "python3"
  },
  "language_info": {
   "codemirror_mode": {
    "name": "ipython",
    "version": 3
   },
   "file_extension": ".py",
   "mimetype": "text/x-python",
   "name": "python",
   "nbconvert_exporter": "python",
   "pygments_lexer": "ipython3",
   "version": "3.8.8"
  }
 },
 "nbformat": 4,
 "nbformat_minor": 4
}
