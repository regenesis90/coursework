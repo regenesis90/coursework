{
 "cells": [
  {
   "cell_type": "markdown",
   "metadata": {
    "id": "oSpOkJjEXNmE"
   },
   "source": [
    "# Stock Prices Prediction Using Keras Long Term Short Memory\n",
    "\n",
    "https://github.com/mwitiderrick/stockprice\n",
    "\n",
    "https://www.kdnuggets.com/2018/11/keras-long-short-term-memory-lstm-model-predict-stock-prices.html"
   ]
  },
  {
   "cell_type": "code",
   "execution_count": 1,
   "metadata": {
    "execution": {
     "iopub.execute_input": "2022-11-12T07:00:06.838415Z",
     "iopub.status.busy": "2022-11-12T07:00:06.838415Z",
     "iopub.status.idle": "2022-11-12T07:00:13.496184Z",
     "shell.execute_reply": "2022-11-12T07:00:13.495681Z",
     "shell.execute_reply.started": "2022-11-12T07:00:06.838415Z"
    },
    "executionInfo": {
     "elapsed": 4009,
     "status": "ok",
     "timestamp": 1652771692964,
     "user": {
      "displayName": "박재우",
      "userId": "08873394234340206711"
     },
     "user_tz": -540
    },
    "id": "AVJCa162XNmE"
   },
   "outputs": [],
   "source": [
    "# Part 1 - Data Preprocessing\n",
    "\n",
    "# Importing the libraries\n",
    "import numpy as np\n",
    "import matplotlib.pyplot as plt\n",
    "import pandas as pd\n",
    "\n",
    "# Importing the Keras libraries and packages\n",
    "import tensorflow as tf\n",
    "from tensorflow.keras import Sequential\n",
    "from tensorflow.keras.layers import Dense\n",
    "from tensorflow.keras.layers import LSTM\n",
    "from tensorflow.keras.layers import Dropout\n",
    "\n",
    "from sklearn.preprocessing import MinMaxScaler"
   ]
  },
  {
   "cell_type": "code",
   "execution_count": 2,
   "metadata": {
    "execution": {
     "iopub.execute_input": "2022-11-12T07:00:13.497195Z",
     "iopub.status.busy": "2022-11-12T07:00:13.497195Z",
     "iopub.status.idle": "2022-11-12T07:00:13.512251Z",
     "shell.execute_reply": "2022-11-12T07:00:13.511283Z",
     "shell.execute_reply.started": "2022-11-12T07:00:13.497195Z"
    },
    "executionInfo": {
     "elapsed": 442,
     "status": "ok",
     "timestamp": 1652771751842,
     "user": {
      "displayName": "박재우",
      "userId": "08873394234340206711"
     },
     "user_tz": -540
    },
    "id": "r1dIzKcEZACV"
   },
   "outputs": [],
   "source": [
    "filename = 'D:/OneDrive - 연세대학교 (Yonsei University)/Lectures/2022-2_특강/221112_딥러닝응용/stockTrain.csv'"
   ]
  },
  {
   "cell_type": "code",
   "execution_count": 3,
   "metadata": {
    "execution": {
     "iopub.execute_input": "2022-11-12T07:00:13.514245Z",
     "iopub.status.busy": "2022-11-12T07:00:13.513247Z",
     "iopub.status.idle": "2022-11-12T07:00:13.543365Z",
     "shell.execute_reply": "2022-11-12T07:00:13.542367Z",
     "shell.execute_reply.started": "2022-11-12T07:00:13.514245Z"
    },
    "executionInfo": {
     "elapsed": 419,
     "status": "ok",
     "timestamp": 1652771754342,
     "user": {
      "displayName": "박재우",
      "userId": "08873394234340206711"
     },
     "user_tz": -540
    },
    "id": "ltPLNtinXNmF"
   },
   "outputs": [],
   "source": [
    "# Importing the training set\n",
    "dataset_train = pd.read_csv(filename)\n",
    "training_set = dataset_train.iloc[:, 1:2].values"
   ]
  },
  {
   "cell_type": "code",
   "execution_count": 4,
   "metadata": {
    "colab": {
     "base_uri": "https://localhost:8080/",
     "height": 206
    },
    "execution": {
     "iopub.execute_input": "2022-11-12T07:00:13.544362Z",
     "iopub.status.busy": "2022-11-12T07:00:13.544362Z",
     "iopub.status.idle": "2022-11-12T07:00:13.667443Z",
     "shell.execute_reply": "2022-11-12T07:00:13.666413Z",
     "shell.execute_reply.started": "2022-11-12T07:00:13.544362Z"
    },
    "executionInfo": {
     "elapsed": 571,
     "status": "ok",
     "timestamp": 1652771756351,
     "user": {
      "displayName": "박재우",
      "userId": "08873394234340206711"
     },
     "user_tz": -540
    },
    "id": "qwJ2lh34XNmF",
    "outputId": "1d1e3f16-d13e-4520-c653-ae87ac4809da"
   },
   "outputs": [
    {
     "data": {
      "text/html": [
       "<div>\n",
       "<style scoped>\n",
       "    .dataframe tbody tr th:only-of-type {\n",
       "        vertical-align: middle;\n",
       "    }\n",
       "\n",
       "    .dataframe tbody tr th {\n",
       "        vertical-align: top;\n",
       "    }\n",
       "\n",
       "    .dataframe thead th {\n",
       "        text-align: right;\n",
       "    }\n",
       "</style>\n",
       "<table border=\"1\" class=\"dataframe\">\n",
       "  <thead>\n",
       "    <tr style=\"text-align: right;\">\n",
       "      <th></th>\n",
       "      <th>Date</th>\n",
       "      <th>Open</th>\n",
       "      <th>High</th>\n",
       "      <th>Low</th>\n",
       "      <th>Last</th>\n",
       "      <th>Close</th>\n",
       "      <th>Total Trade Quantity</th>\n",
       "      <th>Turnover (Lacs)</th>\n",
       "    </tr>\n",
       "  </thead>\n",
       "  <tbody>\n",
       "    <tr>\n",
       "      <th>0</th>\n",
       "      <td>2018-09-28</td>\n",
       "      <td>234.05</td>\n",
       "      <td>235.95</td>\n",
       "      <td>230.20</td>\n",
       "      <td>233.50</td>\n",
       "      <td>233.75</td>\n",
       "      <td>3069914</td>\n",
       "      <td>7162.35</td>\n",
       "    </tr>\n",
       "    <tr>\n",
       "      <th>1</th>\n",
       "      <td>2018-09-27</td>\n",
       "      <td>234.55</td>\n",
       "      <td>236.80</td>\n",
       "      <td>231.10</td>\n",
       "      <td>233.80</td>\n",
       "      <td>233.25</td>\n",
       "      <td>5082859</td>\n",
       "      <td>11859.95</td>\n",
       "    </tr>\n",
       "    <tr>\n",
       "      <th>2</th>\n",
       "      <td>2018-09-26</td>\n",
       "      <td>240.00</td>\n",
       "      <td>240.00</td>\n",
       "      <td>232.50</td>\n",
       "      <td>235.00</td>\n",
       "      <td>234.25</td>\n",
       "      <td>2240909</td>\n",
       "      <td>5248.60</td>\n",
       "    </tr>\n",
       "    <tr>\n",
       "      <th>3</th>\n",
       "      <td>2018-09-25</td>\n",
       "      <td>233.30</td>\n",
       "      <td>236.75</td>\n",
       "      <td>232.00</td>\n",
       "      <td>236.25</td>\n",
       "      <td>236.10</td>\n",
       "      <td>2349368</td>\n",
       "      <td>5503.90</td>\n",
       "    </tr>\n",
       "    <tr>\n",
       "      <th>4</th>\n",
       "      <td>2018-09-24</td>\n",
       "      <td>233.55</td>\n",
       "      <td>239.20</td>\n",
       "      <td>230.75</td>\n",
       "      <td>234.00</td>\n",
       "      <td>233.30</td>\n",
       "      <td>3423509</td>\n",
       "      <td>7999.55</td>\n",
       "    </tr>\n",
       "  </tbody>\n",
       "</table>\n",
       "</div>"
      ],
      "text/plain": [
       "         Date    Open    High     Low    Last   Close  Total Trade Quantity  \\\n",
       "0  2018-09-28  234.05  235.95  230.20  233.50  233.75               3069914   \n",
       "1  2018-09-27  234.55  236.80  231.10  233.80  233.25               5082859   \n",
       "2  2018-09-26  240.00  240.00  232.50  235.00  234.25               2240909   \n",
       "3  2018-09-25  233.30  236.75  232.00  236.25  236.10               2349368   \n",
       "4  2018-09-24  233.55  239.20  230.75  234.00  233.30               3423509   \n",
       "\n",
       "   Turnover (Lacs)  \n",
       "0          7162.35  \n",
       "1         11859.95  \n",
       "2          5248.60  \n",
       "3          5503.90  \n",
       "4          7999.55  "
      ]
     },
     "execution_count": 4,
     "metadata": {},
     "output_type": "execute_result"
    }
   ],
   "source": [
    "dataset_train.head()"
   ]
  },
  {
   "cell_type": "code",
   "execution_count": 5,
   "metadata": {
    "execution": {
     "iopub.execute_input": "2022-11-12T07:00:13.668410Z",
     "iopub.status.busy": "2022-11-12T07:00:13.668410Z",
     "iopub.status.idle": "2022-11-12T07:00:13.684284Z",
     "shell.execute_reply": "2022-11-12T07:00:13.681293Z",
     "shell.execute_reply.started": "2022-11-12T07:00:13.668410Z"
    },
    "executionInfo": {
     "elapsed": 4,
     "status": "ok",
     "timestamp": 1652771758222,
     "user": {
      "displayName": "박재우",
      "userId": "08873394234340206711"
     },
     "user_tz": -540
    },
    "id": "VSURJx2DXNmG"
   },
   "outputs": [],
   "source": [
    "# Feature Scaling\n",
    "sc = MinMaxScaler(feature_range = (0, 1))\n",
    "training_set_scaled = sc.fit_transform(training_set)"
   ]
  },
  {
   "cell_type": "code",
   "execution_count": 6,
   "metadata": {
    "colab": {
     "base_uri": "https://localhost:8080/"
    },
    "execution": {
     "iopub.execute_input": "2022-11-12T07:00:13.685282Z",
     "iopub.status.busy": "2022-11-12T07:00:13.685282Z",
     "iopub.status.idle": "2022-11-12T07:00:13.697918Z",
     "shell.execute_reply": "2022-11-12T07:00:13.696948Z",
     "shell.execute_reply.started": "2022-11-12T07:00:13.685282Z"
    },
    "executionInfo": {
     "elapsed": 397,
     "status": "ok",
     "timestamp": 1652771760216,
     "user": {
      "displayName": "박재우",
      "userId": "08873394234340206711"
     },
     "user_tz": -540
    },
    "id": "kiyMl4kWXNmG",
    "outputId": "4a603689-5c0e-47af-f2b4-388dc3498021"
   },
   "outputs": [
    {
     "name": "stdout",
     "output_type": "stream",
     "text": [
      "(1975, 60)\n",
      "(1975,)\n"
     ]
    }
   ],
   "source": [
    "# Creating a data structure with 60 timesteps and 1 output\n",
    "X_train = []\n",
    "y_train = []\n",
    "\n",
    "for i in range(60, 2035):\n",
    "    X_train.append(training_set_scaled[i-60:i, 0])\n",
    "    y_train.append(training_set_scaled[i, 0])\n",
    "    \n",
    "X_train, y_train = np.array(X_train), np.array(y_train)\n",
    "X_train\n",
    "\n",
    "print(X_train.shape); print(y_train.shape) #> 데이터 차원. 1975개 데이터, 60일 정보를 담은 input 세트를 1975개 만든거다.\n"
   ]
  },
  {
   "cell_type": "code",
   "execution_count": 7,
   "metadata": {
    "colab": {
     "base_uri": "https://localhost:8080/"
    },
    "execution": {
     "iopub.execute_input": "2022-11-12T07:00:13.700914Z",
     "iopub.status.busy": "2022-11-12T07:00:13.699918Z",
     "iopub.status.idle": "2022-11-12T07:00:13.713106Z",
     "shell.execute_reply": "2022-11-12T07:00:13.712081Z",
     "shell.execute_reply.started": "2022-11-12T07:00:13.700914Z"
    },
    "executionInfo": {
     "elapsed": 5,
     "status": "ok",
     "timestamp": 1652771761981,
     "user": {
      "displayName": "박재우",
      "userId": "08873394234340206711"
     },
     "user_tz": -540
    },
    "id": "JkrSyyGOXNmH",
    "outputId": "b903cb0e-126f-4cc4-d8bb-254cb7d72c58"
   },
   "outputs": [
    {
     "name": "stdout",
     "output_type": "stream",
     "text": [
      "(1975, 60, 1)\n",
      "(1975,)\n"
     ]
    }
   ],
   "source": [
    "# Reshaping\n",
    "X_train = np.reshape(X_train, (X_train.shape[0], X_train.shape[1], 1))\n",
    "\n",
    "print(X_train.shape); print(y_train.shape)"
   ]
  },
  {
   "cell_type": "code",
   "execution_count": 8,
   "metadata": {
    "colab": {
     "base_uri": "https://localhost:8080/"
    },
    "execution": {
     "iopub.execute_input": "2022-11-12T07:00:13.714103Z",
     "iopub.status.busy": "2022-11-12T07:00:13.714103Z",
     "iopub.status.idle": "2022-11-12T07:00:14.337949Z",
     "shell.execute_reply": "2022-11-12T07:00:14.336144Z",
     "shell.execute_reply.started": "2022-11-12T07:00:13.714103Z"
    },
    "executionInfo": {
     "elapsed": 1261,
     "status": "ok",
     "timestamp": 1652771765223,
     "user": {
      "displayName": "박재우",
      "userId": "08873394234340206711"
     },
     "user_tz": -540
    },
    "id": "56yQTUzGXNmI",
    "outputId": "1181152d-d0bd-45d0-8e1a-2ae8f0866af7"
   },
   "outputs": [
    {
     "name": "stdout",
     "output_type": "stream",
     "text": [
      "Model: \"sequential\"\n",
      "_________________________________________________________________\n",
      " Layer (type)                Output Shape              Param #   \n",
      "=================================================================\n",
      " lstm (LSTM)                 (None, 60, 50)            10400     \n",
      "                                                                 \n",
      " dropout (Dropout)           (None, 60, 50)            0         \n",
      "                                                                 \n",
      " lstm_1 (LSTM)               (None, 60, 50)            20200     \n",
      "                                                                 \n",
      " dropout_1 (Dropout)         (None, 60, 50)            0         \n",
      "                                                                 \n",
      " lstm_2 (LSTM)               (None, 50)                20200     \n",
      "                                                                 \n",
      " dropout_2 (Dropout)         (None, 50)                0         \n",
      "                                                                 \n",
      " dense (Dense)               (None, 1)                 51        \n",
      "                                                                 \n",
      "=================================================================\n",
      "Total params: 50,851\n",
      "Trainable params: 50,851\n",
      "Non-trainable params: 0\n",
      "_________________________________________________________________\n"
     ]
    }
   ],
   "source": [
    "# Part 2 - Building the RNN\n",
    "# Length가 다르면, LSTM은 Zero Padding을 통해 차원을 맞춰준다. \n",
    "\n",
    "model = tf.keras.models.Sequential([\n",
    "    tf.keras.layers.LSTM(50, return_sequences = True, input_shape = (X_train.shape[1], 1)),\n",
    "    # Hidden Node 50개 : 이건 다른 값 줄 수도 있음\n",
    "    # return_sequences = True : 60일 input 정보를 전부 활용함\n",
    "    # 별도 활성화함수 선택 x시 tangent hyperbolic 함수를 쓴다\n",
    "    tf.keras.layers.Dropout(0.2),\n",
    "  \n",
    "    tf.keras.layers.LSTM(50, return_sequences = True, input_shape = (X_train.shape[1], 1)), \n",
    "    tf.keras.layers.Dropout(0.2),\n",
    "\n",
    "    tf.keras.layers.LSTM(50, input_shape = (X_train.shape[1], 1)), \n",
    "    # 여기선 return_sequence = True를 넣지 않음. \n",
    "    tf.keras.layers.Dropout(0.2),\n",
    "    \n",
    "    tf.keras.layers.Dense(1, activation = 'linear') # 단 한 개의 Scalar Value만 나오도록... output과 연결\n",
    "])\n",
    "\n",
    "model.summary()"
   ]
  },
  {
   "cell_type": "code",
   "execution_count": 9,
   "metadata": {
    "colab": {
     "base_uri": "https://localhost:8080/"
    },
    "execution": {
     "iopub.execute_input": "2022-11-12T07:00:14.339456Z",
     "iopub.status.busy": "2022-11-12T07:00:14.339456Z",
     "iopub.status.idle": "2022-11-12T07:04:58.261678Z",
     "shell.execute_reply": "2022-11-12T07:04:58.260459Z",
     "shell.execute_reply.started": "2022-11-12T07:00:14.339456Z"
    },
    "executionInfo": {
     "elapsed": 600912,
     "status": "ok",
     "timestamp": 1652772368544,
     "user": {
      "displayName": "박재우",
      "userId": "08873394234340206711"
     },
     "user_tz": -540
    },
    "id": "olNlBxucXNmK",
    "outputId": "caded08b-a387-4fda-f6ff-38e1f79fac89"
   },
   "outputs": [
    {
     "name": "stdout",
     "output_type": "stream",
     "text": [
      "Epoch 1/100\n",
      "62/62 [==============================] - 6s 39ms/step - loss: 0.0095\n",
      "Epoch 2/100\n",
      "62/62 [==============================] - 2s 39ms/step - loss: 0.0027\n",
      "Epoch 3/100\n",
      "62/62 [==============================] - 2s 40ms/step - loss: 0.0022\n",
      "Epoch 4/100\n",
      "62/62 [==============================] - 2s 40ms/step - loss: 0.0022\n",
      "Epoch 5/100\n",
      "62/62 [==============================] - 3s 41ms/step - loss: 0.0022\n",
      "Epoch 6/100\n",
      "62/62 [==============================] - 2s 38ms/step - loss: 0.0023\n",
      "Epoch 7/100\n",
      "62/62 [==============================] - 2s 39ms/step - loss: 0.0019\n",
      "Epoch 8/100\n",
      "62/62 [==============================] - 2s 38ms/step - loss: 0.0015\n",
      "Epoch 9/100\n",
      "62/62 [==============================] - 2s 37ms/step - loss: 0.0019\n",
      "Epoch 10/100\n",
      "62/62 [==============================] - 2s 37ms/step - loss: 0.0015\n",
      "Epoch 11/100\n",
      "62/62 [==============================] - 2s 37ms/step - loss: 0.0018\n",
      "Epoch 12/100\n",
      "62/62 [==============================] - 2s 37ms/step - loss: 0.0019\n",
      "Epoch 13/100\n",
      "62/62 [==============================] - 2s 38ms/step - loss: 0.0016\n",
      "Epoch 14/100\n",
      "62/62 [==============================] - 2s 39ms/step - loss: 0.0015\n",
      "Epoch 15/100\n",
      "62/62 [==============================] - 3s 42ms/step - loss: 0.0016\n",
      "Epoch 16/100\n",
      "62/62 [==============================] - 2s 40ms/step - loss: 0.0013\n",
      "Epoch 17/100\n",
      "62/62 [==============================] - 2s 37ms/step - loss: 0.0014\n",
      "Epoch 18/100\n",
      "62/62 [==============================] - 2s 39ms/step - loss: 0.0013\n",
      "Epoch 19/100\n",
      "62/62 [==============================] - 3s 42ms/step - loss: 0.0011\n",
      "Epoch 20/100\n",
      "62/62 [==============================] - 3s 45ms/step - loss: 0.0011\n",
      "Epoch 21/100\n",
      "62/62 [==============================] - 3s 42ms/step - loss: 0.0011\n",
      "Epoch 22/100\n",
      "62/62 [==============================] - 3s 51ms/step - loss: 0.0012\n",
      "Epoch 23/100\n",
      "62/62 [==============================] - 3s 46ms/step - loss: 0.0010: 1s\n",
      "Epoch 24/100\n",
      "62/62 [==============================] - 3s 54ms/step - loss: 0.0011\n",
      "Epoch 25/100\n",
      "62/62 [==============================] - 4s 62ms/step - loss: 0.0011\n",
      "Epoch 26/100\n",
      "62/62 [==============================] - 4s 65ms/step - loss: 0.0011\n",
      "Epoch 27/100\n",
      "62/62 [==============================] - 3s 56ms/step - loss: 0.0010\n",
      "Epoch 28/100\n",
      "62/62 [==============================] - 3s 49ms/step - loss: 9.8564e-04\n",
      "Epoch 29/100\n",
      "62/62 [==============================] - 3s 46ms/step - loss: 9.2795e-04\n",
      "Epoch 30/100\n",
      "62/62 [==============================] - 3s 46ms/step - loss: 9.6411e-04\n",
      "Epoch 31/100\n",
      "62/62 [==============================] - 3s 44ms/step - loss: 9.5236e-04\n",
      "Epoch 32/100\n",
      "62/62 [==============================] - 3s 46ms/step - loss: 8.8135e-04\n",
      "Epoch 33/100\n",
      "62/62 [==============================] - 3s 41ms/step - loss: 8.5218e-04\n",
      "Epoch 34/100\n",
      "62/62 [==============================] - 3s 47ms/step - loss: 9.6256e-04\n",
      "Epoch 35/100\n",
      "62/62 [==============================] - 3s 50ms/step - loss: 8.4328e-04\n",
      "Epoch 36/100\n",
      "62/62 [==============================] - 3s 48ms/step - loss: 8.2796e-04\n",
      "Epoch 37/100\n",
      "62/62 [==============================] - 3s 50ms/step - loss: 8.0634e-04\n",
      "Epoch 38/100\n",
      "62/62 [==============================] - 3s 46ms/step - loss: 8.9364e-04\n",
      "Epoch 39/100\n",
      "62/62 [==============================] - 3s 47ms/step - loss: 9.5961e-04\n",
      "Epoch 40/100\n",
      "62/62 [==============================] - 3s 49ms/step - loss: 7.7343e-04\n",
      "Epoch 41/100\n",
      "62/62 [==============================] - 3s 51ms/step - loss: 7.2560e-04\n",
      "Epoch 42/100\n",
      "62/62 [==============================] - 3s 50ms/step - loss: 7.3060e-04\n",
      "Epoch 43/100\n",
      "62/62 [==============================] - 3s 50ms/step - loss: 8.0191e-04\n",
      "Epoch 44/100\n",
      "62/62 [==============================] - 3s 45ms/step - loss: 6.6276e-04\n",
      "Epoch 45/100\n",
      "62/62 [==============================] - 3s 54ms/step - loss: 7.2494e-04\n",
      "Epoch 46/100\n",
      "62/62 [==============================] - 3s 55ms/step - loss: 7.4269e-04\n",
      "Epoch 47/100\n",
      "62/62 [==============================] - 3s 48ms/step - loss: 7.2910e-04\n",
      "Epoch 48/100\n",
      "62/62 [==============================] - 3s 44ms/step - loss: 7.7124e-04\n",
      "Epoch 49/100\n",
      "62/62 [==============================] - 3s 50ms/step - loss: 8.2068e-04\n",
      "Epoch 50/100\n",
      "62/62 [==============================] - 3s 47ms/step - loss: 7.9997e-04: 0s - loss: 7.9458e-0\n",
      "Epoch 51/100\n",
      "62/62 [==============================] - 3s 45ms/step - loss: 7.3770e-04\n",
      "Epoch 52/100\n",
      "62/62 [==============================] - 3s 46ms/step - loss: 7.2413e-04\n",
      "Epoch 53/100\n",
      "62/62 [==============================] - 3s 41ms/step - loss: 7.0727e-04\n",
      "Epoch 54/100\n",
      "62/62 [==============================] - 2s 39ms/step - loss: 7.2608e-04\n",
      "Epoch 55/100\n",
      "62/62 [==============================] - 3s 42ms/step - loss: 6.5612e-04\n",
      "Epoch 56/100\n",
      "62/62 [==============================] - 3s 43ms/step - loss: 7.3720e-04\n",
      "Epoch 57/100\n",
      "62/62 [==============================] - 3s 52ms/step - loss: 7.4951e-04\n",
      "Epoch 58/100\n",
      "62/62 [==============================] - 3s 50ms/step - loss: 7.2118e-04: 0s - loss: 7.2335e\n",
      "Epoch 59/100\n",
      "62/62 [==============================] - 3s 53ms/step - loss: 7.3640e-04\n",
      "Epoch 60/100\n",
      "62/62 [==============================] - 4s 60ms/step - loss: 7.5279e-04\n",
      "Epoch 61/100\n",
      "62/62 [==============================] - 3s 54ms/step - loss: 6.9158e-04\n",
      "Epoch 62/100\n",
      "62/62 [==============================] - 3s 44ms/step - loss: 8.1073e-04\n",
      "Epoch 63/100\n",
      "62/62 [==============================] - 4s 62ms/step - loss: 6.5556e-04\n",
      "Epoch 64/100\n",
      "62/62 [==============================] - 3s 55ms/step - loss: 6.0903e-04\n",
      "Epoch 65/100\n",
      "62/62 [==============================] - 3s 49ms/step - loss: 6.6580e-04\n",
      "Epoch 66/100\n",
      "62/62 [==============================] - 3s 52ms/step - loss: 6.0886e-04\n",
      "Epoch 67/100\n",
      "62/62 [==============================] - 3s 47ms/step - loss: 5.5290e-04\n",
      "Epoch 68/100\n",
      "62/62 [==============================] - 3s 43ms/step - loss: 6.7054e-04\n",
      "Epoch 69/100\n",
      "62/62 [==============================] - 3s 54ms/step - loss: 6.3374e-04\n",
      "Epoch 70/100\n",
      "62/62 [==============================] - 2s 40ms/step - loss: 6.0058e-04\n",
      "Epoch 71/100\n",
      "62/62 [==============================] - 3s 46ms/step - loss: 5.7035e-04\n",
      "Epoch 72/100\n",
      "62/62 [==============================] - 2s 39ms/step - loss: 6.0383e-04\n",
      "Epoch 73/100\n",
      "62/62 [==============================] - 3s 45ms/step - loss: 6.7455e-04\n",
      "Epoch 74/100\n",
      "62/62 [==============================] - 3s 43ms/step - loss: 7.2605e-04\n",
      "Epoch 75/100\n",
      "62/62 [==============================] - 3s 46ms/step - loss: 6.4640e-04\n",
      "Epoch 76/100\n",
      "62/62 [==============================] - 3s 42ms/step - loss: 6.4735e-04\n",
      "Epoch 77/100\n",
      "62/62 [==============================] - 2s 39ms/step - loss: 5.8316e-04\n",
      "Epoch 78/100\n",
      "62/62 [==============================] - 2s 38ms/step - loss: 6.2119e-04\n",
      "Epoch 79/100\n",
      "62/62 [==============================] - 2s 40ms/step - loss: 6.6355e-04\n",
      "Epoch 80/100\n",
      "62/62 [==============================] - 3s 47ms/step - loss: 6.2859e-04\n",
      "Epoch 81/100\n",
      "62/62 [==============================] - 3s 49ms/step - loss: 6.2037e-04\n",
      "Epoch 82/100\n",
      "62/62 [==============================] - 3s 44ms/step - loss: 6.2840e-04\n",
      "Epoch 83/100\n",
      "62/62 [==============================] - 3s 44ms/step - loss: 6.0664e-04\n",
      "Epoch 84/100\n",
      "62/62 [==============================] - 3s 47ms/step - loss: 6.2261e-04: 0s - loss: 6.38\n",
      "Epoch 85/100\n",
      "62/62 [==============================] - 3s 42ms/step - loss: 6.5329e-04\n",
      "Epoch 86/100\n",
      "62/62 [==============================] - 3s 42ms/step - loss: 5.4661e-04\n",
      "Epoch 87/100\n",
      "62/62 [==============================] - 3s 42ms/step - loss: 6.1205e-04: 0s - loss: 6.1728e\n",
      "Epoch 88/100\n",
      "62/62 [==============================] - 2s 39ms/step - loss: 6.3136e-04\n",
      "Epoch 89/100\n",
      "62/62 [==============================] - 2s 39ms/step - loss: 6.4197e-04\n",
      "Epoch 90/100\n",
      "62/62 [==============================] - 2s 40ms/step - loss: 6.1281e-04\n",
      "Epoch 91/100\n",
      "62/62 [==============================] - 2s 39ms/step - loss: 5.3649e-04\n",
      "Epoch 92/100\n",
      "62/62 [==============================] - 3s 43ms/step - loss: 5.9402e-04\n",
      "Epoch 93/100\n",
      "62/62 [==============================] - ETA: 0s - loss: 6.4214e-0 - 3s 45ms/step - loss: 6.3753e-04\n",
      "Epoch 94/100\n",
      "62/62 [==============================] - 3s 44ms/step - loss: 6.9641e-04\n",
      "Epoch 95/100\n",
      "62/62 [==============================] - 3s 43ms/step - loss: 6.4788e-04\n",
      "Epoch 96/100\n",
      "62/62 [==============================] - 3s 43ms/step - loss: 6.4556e-04\n",
      "Epoch 97/100\n",
      "62/62 [==============================] - 3s 49ms/step - loss: 6.0652e-04\n",
      "Epoch 98/100\n",
      "62/62 [==============================] - 3s 43ms/step - loss: 7.3122e-04\n",
      "Epoch 99/100\n",
      "62/62 [==============================] - 2s 39ms/step - loss: 5.5317e-04\n",
      "Epoch 100/100\n",
      "62/62 [==============================] - 3s 43ms/step - loss: 6.8792e-04: 1s - \n"
     ]
    },
    {
     "data": {
      "text/plain": [
       "<keras.callbacks.History at 0x19cec1a58e0>"
      ]
     },
     "execution_count": 9,
     "metadata": {},
     "output_type": "execute_result"
    }
   ],
   "source": [
    "# Compiling the RNN\n",
    "model.compile(optimizer = 'adam', loss = 'mean_squared_error')\n",
    "\n",
    "# Fitting the RNN to the Training set\n",
    "model.fit(X_train, y_train, epochs = 100, batch_size = 32)\n"
   ]
  },
  {
   "cell_type": "code",
   "execution_count": 10,
   "metadata": {
    "execution": {
     "iopub.execute_input": "2022-11-12T07:04:58.262677Z",
     "iopub.status.busy": "2022-11-12T07:04:58.262677Z",
     "iopub.status.idle": "2022-11-12T07:04:58.276799Z",
     "shell.execute_reply": "2022-11-12T07:04:58.275796Z",
     "shell.execute_reply.started": "2022-11-12T07:04:58.262677Z"
    }
   },
   "outputs": [],
   "source": [
    "# Getting the real stock price of 2017\n",
    "filename = 'D:/OneDrive - 연세대학교 (Yonsei University)/Lectures/2022-2_특강/221112_딥러닝응용/stockTest.csv'\n",
    "dataset_test = pd.read_csv(filename)"
   ]
  },
  {
   "cell_type": "code",
   "execution_count": 11,
   "metadata": {
    "colab": {
     "base_uri": "https://localhost:8080/"
    },
    "execution": {
     "iopub.execute_input": "2022-11-12T07:04:58.278166Z",
     "iopub.status.busy": "2022-11-12T07:04:58.276799Z",
     "iopub.status.idle": "2022-11-12T07:04:58.294079Z",
     "shell.execute_reply": "2022-11-12T07:04:58.291084Z",
     "shell.execute_reply.started": "2022-11-12T07:04:58.278166Z"
    },
    "executionInfo": {
     "elapsed": 1009,
     "status": "ok",
     "timestamp": 1652772967514,
     "user": {
      "displayName": "박재우",
      "userId": "08873394234340206711"
     },
     "user_tz": -540
    },
    "id": "cd4rStt1XNmL",
    "outputId": "658432d3-ab10-4a7a-be4f-678598280586"
   },
   "outputs": [
    {
     "data": {
      "text/plain": [
       "(16, 1)"
      ]
     },
     "execution_count": 11,
     "metadata": {},
     "output_type": "execute_result"
    }
   ],
   "source": [
    "real_stock_price = dataset_test.iloc[:, 1:2].values\n",
    "real_stock_price.shape"
   ]
  },
  {
   "cell_type": "code",
   "execution_count": 12,
   "metadata": {
    "execution": {
     "iopub.execute_input": "2022-11-12T07:04:58.297578Z",
     "iopub.status.busy": "2022-11-12T07:04:58.296576Z",
     "iopub.status.idle": "2022-11-12T07:04:58.323330Z",
     "shell.execute_reply": "2022-11-12T07:04:58.321336Z",
     "shell.execute_reply.started": "2022-11-12T07:04:58.297578Z"
    }
   },
   "outputs": [],
   "source": [
    "dataset_total = pd.concat((dataset_train['Open'], dataset_test['Open']), axis = 0)\n",
    "\n",
    "inputs = dataset_total[len(dataset_total) - len(dataset_test) - 60:].values\n",
    "inputs = inputs.reshape(-1,1)\n",
    "inputs = sc.transform(inputs)"
   ]
  },
  {
   "cell_type": "code",
   "execution_count": 13,
   "metadata": {
    "colab": {
     "base_uri": "https://localhost:8080/"
    },
    "execution": {
     "iopub.execute_input": "2022-11-12T07:04:58.325845Z",
     "iopub.status.busy": "2022-11-12T07:04:58.324338Z",
     "iopub.status.idle": "2022-11-12T07:04:58.339279Z",
     "shell.execute_reply": "2022-11-12T07:04:58.337290Z",
     "shell.execute_reply.started": "2022-11-12T07:04:58.325845Z"
    },
    "executionInfo": {
     "elapsed": 425,
     "status": "ok",
     "timestamp": 1652772969685,
     "user": {
      "displayName": "박재우",
      "userId": "08873394234340206711"
     },
     "user_tz": -540
    },
    "id": "Shh70WNzXNmL",
    "outputId": "8ee25035-d138-4202-eb53-ab8152ed3115"
   },
   "outputs": [
    {
     "data": {
      "text/plain": [
       "(16, 60, 1)"
      ]
     },
     "execution_count": 13,
     "metadata": {},
     "output_type": "execute_result"
    }
   ],
   "source": [
    "# Getting the predicted stock price of 2017\n",
    "X_test = []\n",
    "\n",
    "for i in range(60, 76):\n",
    "    X_test.append(inputs[i-60:i, 0])\n",
    "    \n",
    "X_test = np.array(X_test)\n",
    "X_test = np.reshape(X_test, (X_test.shape[0], X_test.shape[1], 1))\n",
    "X_test.shape"
   ]
  },
  {
   "cell_type": "code",
   "execution_count": 14,
   "metadata": {
    "colab": {
     "base_uri": "https://localhost:8080/"
    },
    "execution": {
     "iopub.execute_input": "2022-11-12T07:04:58.341274Z",
     "iopub.status.busy": "2022-11-12T07:04:58.340279Z",
     "iopub.status.idle": "2022-11-12T07:04:58.357892Z",
     "shell.execute_reply": "2022-11-12T07:04:58.353782Z",
     "shell.execute_reply.started": "2022-11-12T07:04:58.341274Z"
    },
    "executionInfo": {
     "elapsed": 3,
     "status": "ok",
     "timestamp": 1652772971346,
     "user": {
      "displayName": "박재우",
      "userId": "08873394234340206711"
     },
     "user_tz": -540
    },
    "id": "hbAhh9UCXNmL",
    "outputId": "5a9176d9-a0b1-4e37-87c8-74d806b93410"
   },
   "outputs": [
    {
     "data": {
      "text/plain": [
       "(16, 60, 1)"
      ]
     },
     "execution_count": 14,
     "metadata": {},
     "output_type": "execute_result"
    }
   ],
   "source": [
    "X_test.shape"
   ]
  },
  {
   "cell_type": "code",
   "execution_count": 15,
   "metadata": {
    "execution": {
     "iopub.execute_input": "2022-11-12T07:04:58.361887Z",
     "iopub.status.busy": "2022-11-12T07:04:58.360893Z",
     "iopub.status.idle": "2022-11-12T07:04:59.473191Z",
     "shell.execute_reply": "2022-11-12T07:04:59.472160Z",
     "shell.execute_reply.started": "2022-11-12T07:04:58.361887Z"
    }
   },
   "outputs": [],
   "source": [
    "predicted_stock_price = model.predict(X_test)\n",
    "predicted_stock_price = sc.inverse_transform(predicted_stock_price)"
   ]
  },
  {
   "cell_type": "code",
   "execution_count": 16,
   "metadata": {
    "colab": {
     "base_uri": "https://localhost:8080/",
     "height": 295
    },
    "execution": {
     "iopub.execute_input": "2022-11-12T07:04:59.476185Z",
     "iopub.status.busy": "2022-11-12T07:04:59.475191Z",
     "iopub.status.idle": "2022-11-12T07:04:59.751836Z",
     "shell.execute_reply": "2022-11-12T07:04:59.749841Z",
     "shell.execute_reply.started": "2022-11-12T07:04:59.476185Z"
    },
    "executionInfo": {
     "elapsed": 2926,
     "status": "ok",
     "timestamp": 1652772975666,
     "user": {
      "displayName": "박재우",
      "userId": "08873394234340206711"
     },
     "user_tz": -540
    },
    "id": "yyx7h7vAXNmM",
    "outputId": "16754493-2f3d-43cd-eaf1-d2b15b97d16f",
    "tags": []
   },
   "outputs": [
    {
     "data": {
      "image/png": "[encoded data removed]",
      "text/plain": [
       "<Figure size 432x288 with 1 Axes>"
      ]
     },
     "metadata": {
      "needs_background": "light"
     },
     "output_type": "display_data"
    }
   ],
   "source": [
    "# Visualising the results\n",
    "plt.plot(real_stock_price, color = 'red', label = 'Real TATA Stock Price')\n",
    "plt.plot(predicted_stock_price, color = 'blue', label = 'Predicted TAT Stock Price')\n",
    "plt.title('TATA Stock Price Prediction')\n",
    "plt.xlabel('Time')\n",
    "plt.ylabel('TATA Stock Price')\n",
    "plt.legend()\n",
    "plt.show()"
   ]
  }
 ],
 "metadata": {
  "colab": {
   "name": "TATA .ipynb",
   "provenance": []
  },
  "kernelspec": {
   "display_name": "Python 3",
   "language": "python",
   "name": "python3"
  },
  "language_info": {
   "codemirror_mode": {
    "name": "ipython",
    "version": 3
   },
   "file_extension": ".py",
   "mimetype": "text/x-python",
   "name": "python",
   "nbconvert_exporter": "python",
   "pygments_lexer": "ipython3",
   "version": "3.8.8"
  }
 },
 "nbformat": 4,
 "nbformat_minor": 4
}
